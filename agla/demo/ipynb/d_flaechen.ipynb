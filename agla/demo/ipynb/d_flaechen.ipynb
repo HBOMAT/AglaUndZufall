{
 "cells": [
  {
   "cell_type": "markdown",
   "metadata": {},
   "source": [
    "<br>\n",
    "# Einblick in das Rechnen mit <i>agla</i>\n",
    "von Holger Böttcher - hbomat@posteo.de\n",
    "<br><br>\n",
    "Diese Arbeit steht unter der freien Lizenz [CC BY-SA 4.0](https://creativecommons.org/licenses/by-sa/4.0/deed.de)  \n",
    "<br><br>\n",
    "### Berechnungen und Grafiken von Flächen\n",
    "<br>Die Beispiele folgen den Berechnungen, wie sie in der Arbeit von Anne Bläsius \n",
    "\n",
    "[*Annäherungen an Kurven und Flächen im Raum mit Nutzung moderner Medien*](http://www.blaesius-anne.de/dokumente/Kurven%20und%20Flaechen%20im%20Raum.pdf \"Anne Dläsius\") \n",
    "\n",
    "durchgeführt werden; die angegebenen Seitennummern beziehen sich darauf\n",
    "<br><br>\n",
    "\n",
    "Das Paket <i>agla</i> ist in der Programmiersprache <b>Python</b> geschrieben und basiert\n",
    "<br>auf dem ebenfalls in Python geschriebenen und quelloffen frei verfügbaren <b>CAS \n",
    "<br>SymPy</b> \n",
    "\n",
    "Für die geometrischen Objekte wurden Python-Klassen im Sinne der Objekt-\n",
    "<br>Orientierten-Programmierung implementiert. Damit können entsprechende Python-\n",
    "<br>Objekte erzeugt werden, mit denen unter Verwendung ihrer Eigenschaften und \n",
    "<br>Methoden am Computer gearbeitet wird \n",
    "\n",
    "Die Berechnungen werden in einem Jupyter-Notebook (mit englischer \n",
    "<br>Bedienoberfläche) durchgeführt; die vorliegende Datei wurde durch den HTML- \n",
    "<br>Export eines solchen Notebooks hergestellt\n",
    "\n",
    "SymPy ist in reinem Python geschrieben. Da es sich bei Python um eine Interpre-\n",
    "<br>ter-Sprache handelt, sind komplexere Berechnungen naturgemäß relativ langsam \n",
    "<brt>Seit 2013 wird durch die SymPy-Entwickler an einem schnellen <b>CAS SymEngine</b> \n",
    "<br>in der Programmiersprache C++ gearbeitet, das eine gute Performance erwarten \n",
    "<br>läßt. Es wird auch für andere Sprachen (z.B. Julia) einsetzbar sein. Eine Entwickler-\n",
    "<br>Version kann bereits benutzt werden (März 2019)\n",
    "\n",
    "Für die heute in der Schule durchgeführten Berechnungen ist das vorliegende <i>agla</i> \n",
    "<br>i.a. hinreichend schnell\n",
    "<br>\n",
    "<div style='color:yellowgreen'> \n",
    "<i>Die Kommentare (nach #) sind lediglich Erläuterungen und für die Berechnungen \n",
    "<br>nicht relevant, Analoges trifft auf die Kontrollausgaben zu</i>\n",
    "</div>\n",
    "<div style='color:goldenrod'> \n",
    "<i>Lange Anlaufzeiten beim Erststart eines Notebooks werden vermieden, wenn vor <br>dem\n",
    "Ausführen der Zellen alle vorhandenen Ausgaben gelöscht werden <br>\n",
    "Menü:$\\quad$ Cell - All Output - Clear</i>\n",
    "</div>\n",
    "<br>"
   ]
  },
  {
   "cell_type": "code",
   "execution_count": 1,
   "metadata": {
    "collapsed": false
   },
   "outputs": [],
   "source": [
    "%run agla/start   # Aktivierung des Paketes"
   ]
  },
  {
   "cell_type": "markdown",
   "metadata": {},
   "source": [
    "<br>\n",
    "## 1. Berechnungen zum Kegel \n",
    "Seite 61"
   ]
  },
  {
   "cell_type": "code",
   "execution_count": 2,
   "metadata": {
    "collapsed": false
   },
   "outputs": [],
   "source": [
    "# Erzeugung eines allgemeinen Doppelkegels mit einer Python-Funktion\n",
    "\n",
    "# w steht für das allgemein gebräuchliche v (in agla reserviert)\n",
    "\n",
    "def kegel(a, b, c): \n",
    "    \n",
    "    return Fläche((a*w*cos(u), b*w*sin(u), c*w), (u, 0, 2*pi), (w, -5, 5))\n"
   ]
  },
  {
   "cell_type": "markdown",
   "metadata": {},
   "source": [
    "Ein spezieller Kegel mit Parameterform und Parametergleichung"
   ]
  },
  {
   "cell_type": "code",
   "execution_count": 3,
   "metadata": {
    "collapsed": false
   },
   "outputs": [
    {
     "data": {
      "text/latex": [
       "$$\\left(w \\cos{\\left (u \\right )},\\;w \\sin{\\left (u \\right )},\\;w\\right)$$"
      ],
      "text/plain": [
       "<IPython.core.display.Math object>"
      ]
     },
     "metadata": {},
     "output_type": "display_data"
    }
   ],
   "source": [
    "k1 = kegel(1, 1, 1)\n",
    "\n",
    "k1.pf  \n"
   ]
  },
  {
   "cell_type": "code",
   "execution_count": 4,
   "metadata": {
    "collapsed": false
   },
   "outputs": [
    {
     "data": {
      "text/latex": [
       "$$\\left(\\begin{matrix}x\\\\y\\\\z\\end{matrix}\\right)=\\left(\\begin{matrix}w \\cos{\\left (u \\right )}\\\\w \\sin{\\left (u \\right )}\\\\w\\end{matrix}\\right)$$"
      ],
      "text/plain": [
       "Vektorschar([z, y, x]) = Vektorschar([u, w])"
      ]
     },
     "execution_count": 4,
     "metadata": {},
     "output_type": "execute_result"
    }
   ],
   "source": [
    "k1.prg                     \n"
   ]
  },
  {
   "cell_type": "markdown",
   "metadata": {},
   "source": [
    "Ein allgemeiner Kegel"
   ]
  },
  {
   "cell_type": "code",
   "execution_count": 5,
   "metadata": {
    "collapsed": false
   },
   "outputs": [
    {
     "data": {
      "text/latex": [
       "$$\\left(a w \\cos{\\left (u \\right )},\\;b w \\sin{\\left (u \\right )},\\;c w\\right)$$"
      ],
      "text/plain": [
       "<IPython.core.display.Math object>"
      ]
     },
     "metadata": {},
     "output_type": "display_data"
    }
   ],
   "source": [
    "keg = kegel(a, b, c)\n",
    "keg.pf"
   ]
  },
  {
   "cell_type": "code",
   "execution_count": 6,
   "metadata": {
    "collapsed": false
   },
   "outputs": [
    {
     "data": {
      "image/png": "[encoded data removed]",
      "text/latex": [
       "$$\\left ( w^{2} \\left(a^{2} \\sin^{2}{\\left (u \\right )} + b^{2} \\cos^{2}{\\left (u \\right )}\\right), \\quad \\frac{w}{2} \\left(- a^{2} + b^{2}\\right) \\sin{\\left (2 u \\right )}, \\quad a^{2} \\cos^{2}{\\left (u \\right )} + b^{2} \\sin^{2}{\\left (u \\right )} + c^{2}\\right )$$"
      ],
      "text/plain": [
       "⎛                                ⎛   2    2⎞                                  \n",
       "⎜ 2 ⎛ 2    2       2    2   ⎞  w⋅⎝- a  + b ⎠⋅sin(2⋅u)   2    2       2    2   \n",
       "⎜w ⋅⎝a ⋅sin (u) + b ⋅cos (u)⎠, ──────────────────────, a ⋅cos (u) + b ⋅sin (u)\n",
       "⎝                                        2                                    \n",
       "\n",
       "     ⎞\n",
       "    2⎟\n",
       " + c ⎟\n",
       "     ⎠"
      ]
     },
     "execution_count": 6,
     "metadata": {},
     "output_type": "execute_result"
    }
   ],
   "source": [
    "keg.I()      # Koeffizienten der 1. Fundamentalform \n"
   ]
  },
  {
   "cell_type": "code",
   "execution_count": 7,
   "metadata": {
    "collapsed": false
   },
   "outputs": [
    {
     "data": {
      "text/latex": [
       "$$\\left(\\begin{matrix}w^{2} \\left(a^{2} \\sin^{2}{\\left (u \\right )} + b^{2} \\cos^{2}{\\left (u \\right )}\\right) & \\frac{w}{2} \\left(- a^{2} + b^{2}\\right) \\sin{\\left (2 u \\right )}\\\\\\frac{w}{2} \\left(- a^{2} + b^{2}\\right) \\sin{\\left (2 u \\right )} & a^{2} \\cos^{2}{\\left (u \\right )} + b^{2} \\sin^{2}{\\left (u \\right )} + c^{2}\\end{matrix}\\right)$$"
      ],
      "text/plain": [
       "⎡                                   ⎛   2    2⎞            ⎤\n",
       "⎢ 2 ⎛ 2    2       2    2   ⎞     w⋅⎝- a  + b ⎠⋅sin(2⋅u)   ⎥\n",
       "⎢w ⋅⎝a ⋅sin (u) + b ⋅cos (u)⎠     ──────────────────────   ⎥\n",
       "⎢                                           2              ⎥\n",
       "⎢                                                          ⎥\n",
       "⎢     ⎛   2    2⎞                                          ⎥\n",
       "⎢   w⋅⎝- a  + b ⎠⋅sin(2⋅u)      2    2       2    2       2⎥\n",
       "⎢   ──────────────────────     a ⋅cos (u) + b ⋅sin (u) + c ⎥\n",
       "⎣             2                                            ⎦"
      ]
     },
     "execution_count": 7,
     "metadata": {},
     "output_type": "execute_result"
    }
   ],
   "source": [
    "keg.I(m=1)   # Matrixform\n"
   ]
  },
  {
   "cell_type": "code",
   "execution_count": 8,
   "metadata": {
    "collapsed": false
   },
   "outputs": [
    {
     "data": {
      "image/png": "[encoded data removed]",
      "text/latex": [
       "$$\\left ( w^{2}, \\quad 0, \\quad 2\\right )$$"
      ],
      "text/plain": [
       "⎛ 2      ⎞\n",
       "⎝w , 0, 2⎠"
      ]
     },
     "execution_count": 8,
     "metadata": {},
     "output_type": "execute_result"
    }
   ],
   "source": [
    "k1.I()   # Koeffizienten der 1. Fundamentalform für den speziellen Kegel "
   ]
  },
  {
   "cell_type": "markdown",
   "metadata": {},
   "source": [
    "Ein weiterer Kegel (mit elliptischer Grundfläche)"
   ]
  },
  {
   "cell_type": "code",
   "execution_count": 9,
   "metadata": {
    "collapsed": false
   },
   "outputs": [
    {
     "data": {
      "text/latex": [
       "$$\\left(w \\cos{\\left (u \\right )},\\;2 w \\sin{\\left (u \\right )},\\;2 w\\right)$$"
      ],
      "text/plain": [
       "<IPython.core.display.Math object>"
      ]
     },
     "metadata": {},
     "output_type": "display_data"
    }
   ],
   "source": [
    "k2 = kegel(1, 2, 2); k2.pf   "
   ]
  },
  {
   "cell_type": "code",
   "execution_count": 10,
   "metadata": {
    "collapsed": false
   },
   "outputs": [
    {
     "data": {
      "text/latex": [
       "$$\\left ( \\left(\\begin{matrix}3 \\cos{\\left (1 \\right )}\\\\6 \\sin{\\left (1 \\right )}\\\\6\\end{matrix}\\right), \\quad \\left(\\begin{matrix}1.62090691760442\\\\5.04882590884738\\\\6.0\\end{matrix}\\right)\\right )$$"
      ],
      "text/plain": [
       "(Vektor, Vektor)"
      ]
     },
     "execution_count": 10,
     "metadata": {},
     "output_type": "execute_result"
    }
   ],
   "source": [
    "P = k2.pkt(1, 3)    # Punkt der Fläche mit u=1, w=3; Punkte werden  \n",
    "                    # mit ihren Ortsvektoren identifiziert\n",
    "    \n",
    "P, P.dez   # Anzeigen des Kegelpunktes sowie Dezimalausgabe  \n"
   ]
  },
  {
   "cell_type": "code",
   "execution_count": 11,
   "metadata": {
    "collapsed": false
   },
   "outputs": [],
   "source": [
    "kl1 = k2.kurve(1, t, (t, -5, 5))      # zugehörige Koordinatenlinien,\n",
    "kl2 = k2.kurve(t, 3, (t, 0, 2*pi))    # als Kurven auf der Fläche erzeugt\n"
   ]
  },
  {
   "cell_type": "markdown",
   "metadata": {},
   "source": [
    "3D-Grafiken werden mittels <b><i>Mayavi</i></b> erzeugt und in einem eigenen Fenster angezeigt"
   ]
  },
  {
   "cell_type": "code",
   "execution_count": 12,
   "metadata": {
    "collapsed": false
   },
   "outputs": [],
   "source": [
    "zeichne([k2, gelb],    # der Farbenvorrat entspricht dem für Internet-\n",
    "        [P, rot, 2],   # Browser\n",
    "        kl1, kl2)"
   ]
  },
  {
   "cell_type": "code",
   "execution_count": 13,
   "metadata": {
    "collapsed": false
   },
   "outputs": [
    {
     "data": {
      "text/latex": [
       "$$\\left(\\begin{matrix}w^{2} \\left(- 3 \\sin^{2}{\\left (u \\right )} + 4\\right) & \\frac{3 w}{2} \\sin{\\left (2 u \\right )}\\\\\\frac{3 w}{2} \\sin{\\left (2 u \\right )} & 3 \\sin^{2}{\\left (u \\right )} + 5\\end{matrix}\\right)$$"
      ],
      "text/plain": [
       "⎡ 2 ⎛       2       ⎞  3⋅w⋅sin(2⋅u) ⎤\n",
       "⎢w ⋅⎝- 3⋅sin (u) + 4⎠  ──────────── ⎥\n",
       "⎢                           2       ⎥\n",
       "⎢                                   ⎥\n",
       "⎢    3⋅w⋅sin(2⋅u)           2       ⎥\n",
       "⎢    ────────────      3⋅sin (u) + 5⎥\n",
       "⎣         2                         ⎦"
      ]
     },
     "execution_count": 13,
     "metadata": {},
     "output_type": "execute_result"
    }
   ],
   "source": [
    "k2.I(m=1)   # 1. Fundamentalform als Matrix"
   ]
  },
  {
   "cell_type": "markdown",
   "metadata": {},
   "source": [
    "Zur Kontrolle: die Parameter-Werte von $P$ auf den Koordinatenlinien\n",
    "ergeben sich <br>direkt aus den Werten für den Kegel:"
   ]
  },
  {
   "cell_type": "code",
   "execution_count": 14,
   "metadata": {
    "collapsed": false
   },
   "outputs": [
    {
     "data": {
      "image/png": "[encoded data removed]",
      "text/latex": [
       "$$\\left ( 0, \\quad 0\\right )$$"
      ],
      "text/plain": [
       "(0, 0)"
      ]
     },
     "execution_count": 14,
     "metadata": {},
     "output_type": "execute_result"
    }
   ],
   "source": [
    "P.abstand(kl1.pkt(3)), P.abstand(kl2.pkt(1))"
   ]
  },
  {
   "cell_type": "markdown",
   "metadata": {},
   "source": [
    "Der Winkel zwischen den beiden Kurven in ihrem Schnittpunkt"
   ]
  },
  {
   "cell_type": "code",
   "execution_count": 15,
   "metadata": {
    "collapsed": false
   },
   "outputs": [
    {
     "data": {
      "image/png": "[encoded data removed]",
      "text/latex": [
       "$$68.092413247063$$"
      ],
      "text/plain": [
       "68.0924132470630"
      ]
     },
     "execution_count": 15,
     "metadata": {},
     "output_type": "execute_result"
    }
   ],
   "source": [
    "kl1.winkel(kl2, 3, 1)    # in Grad"
   ]
  },
  {
   "cell_type": "markdown",
   "metadata": {},
   "source": [
    "Die überprüfung der Rechnung ergibt"
   ]
  },
  {
   "cell_type": "code",
   "execution_count": 16,
   "metadata": {
    "collapsed": false
   },
   "outputs": [
    {
     "data": {
      "image/png": "[encoded data removed]",
      "text/latex": [
       "$$\\left ( 16.8820177066136, \\quad 4.09183842071557, \\quad 7.12422025482071\\right )$$"
      ],
      "text/plain": [
       "(16.8820177066136, 4.09183842071557, 7.12422025482071)"
      ]
     },
     "execution_count": 16,
     "metadata": {},
     "output_type": "execute_result"
    }
   ],
   "source": [
    "E, F, G = k2.I(1, 3, d=1)\n",
    "E, F, G"
   ]
  },
  {
   "cell_type": "code",
   "execution_count": 17,
   "metadata": {
    "collapsed": false
   },
   "outputs": [
    {
     "data": {
      "image/png": "[encoded data removed]",
      "text/latex": [
       "$$\\left ( 0.373110637646697, \\quad 68.092413247063\\right )$$"
      ],
      "text/plain": [
       "(0.373110637646697, 68.092413247063)"
      ]
     },
     "execution_count": 17,
     "metadata": {},
     "output_type": "execute_result"
    }
   ],
   "source": [
    "c = F / sqrt(E * G)\n",
    "\n",
    "# Kosinus des Winkels, Winkel:\n",
    "\n",
    "c, N(arccosg(c))      # N - nummerische Berechnung von SymPy-Werten, \n",
    "                      # arccosg - arccos in Grad; agla-Funktion"
   ]
  },
  {
   "cell_type": "markdown",
   "metadata": {},
   "source": [
    "Der Vergleich mit den Berechnungen in der Arbeit zeigt, dass die Reduktion\n",
    " auf 2\n",
    " <br>Nachkommastellen bei der Berechnung des $cos$- Wertes einen leicht unterschiedlichen \n",
    " <br>Wert für den Winkel ergibt"
   ]
  },
  {
   "cell_type": "code",
   "execution_count": 18,
   "metadata": {
    "collapsed": false
   },
   "outputs": [
    {
     "data": {
      "image/png": "[encoded data removed]",
      "text/latex": [
       "$$\\left ( 0.373075809545076, \\quad 68.0945640515873\\right )$$"
      ],
      "text/plain": [
       "(0.373075809545076, 68.0945640515873)"
      ]
     },
     "execution_count": 18,
     "metadata": {},
     "output_type": "execute_result"
    }
   ],
   "source": [
    "d = 4.09 / sqrt(16.88 * 7.12)\n",
    "d, N(arccosg(d))"
   ]
  },
  {
   "cell_type": "code",
   "execution_count": 19,
   "metadata": {
    "collapsed": false
   },
   "outputs": [
    {
     "data": {
      "image/png": "[encoded data removed]",
      "text/latex": [
       "$$68.2843827167355$$"
      ],
      "text/plain": [
       "68.2843827167355"
      ]
     },
     "execution_count": 19,
     "metadata": {},
     "output_type": "execute_result"
    }
   ],
   "source": [
    "N(arccosg(0.37))"
   ]
  },
  {
   "cell_type": "markdown",
   "metadata": {},
   "source": [
    "Zur Demonstration einer <b>detaillierten Berechnung</b> soll die Weingarten-Matrix von <i>k2</i> \n",
    "<br>berechnet werden\n",
    "\n",
    "Die Formeln finden sich hier (<i># entfernen</i>)"
   ]
  },
  {
   "cell_type": "code",
   "execution_count": 20,
   "metadata": {
    "collapsed": false
   },
   "outputs": [],
   "source": [
    "#k2.formeln"
   ]
  },
  {
   "cell_type": "code",
   "execution_count": 21,
   "metadata": {
    "collapsed": false
   },
   "outputs": [],
   "source": [
    "# Zur besseren Vereinfachung werden u und w mit einer Annahme \n",
    "# definiert\n",
    "\n",
    "u = Symbol('u', real=ja)\n",
    "w = Symbol('w', real=ja)"
   ]
  },
  {
   "cell_type": "code",
   "execution_count": 22,
   "metadata": {
    "collapsed": false
   },
   "outputs": [
    {
     "data": {
      "text/latex": [
       "$$\\left(\\begin{matrix}w \\cos{\\left (u \\right )}\\\\2 w \\sin{\\left (u \\right )}\\\\2 w\\end{matrix}\\right)$$"
      ],
      "text/plain": [
       "Vektorschar([w, u])"
      ]
     },
     "execution_count": 22,
     "metadata": {},
     "output_type": "execute_result"
    }
   ],
   "source": [
    "P = k2.pkt(u, w)   # der allgemeine Punkt von k2\n",
    "P"
   ]
  },
  {
   "cell_type": "code",
   "execution_count": 23,
   "metadata": {
    "collapsed": false
   },
   "outputs": [
    {
     "data": {
      "image/png": "[encoded data removed]",
      "text/latex": [
       "$$\\left ( w \\cos{\\left (u \\right )}, \\quad 2 w \\sin{\\left (u \\right )}, \\quad 2 w\\right )$$"
      ],
      "text/plain": [
       "(w⋅cos(u), 2⋅w⋅sin(u), 2⋅w)"
      ]
     },
     "execution_count": 23,
     "metadata": {},
     "output_type": "execute_result"
    }
   ],
   "source": [
    "x, y, z = P.komp    # seine Komponenten\n",
    "x, y, z"
   ]
  },
  {
   "cell_type": "code",
   "execution_count": 24,
   "metadata": {
    "collapsed": false
   },
   "outputs": [
    {
     "data": {
      "image/png": "[encoded data removed]",
      "text/latex": [
       "$$\\left ( w^{2} \\sin^{2}{\\left (u \\right )} + 4 w^{2} \\cos^{2}{\\left (u \\right )}, \\quad 3 w \\sin{\\left (u \\right )} \\cos{\\left (u \\right )}, \\quad 4 \\sin^{2}{\\left (u \\right )} + \\cos^{2}{\\left (u \\right )} + 4\\right )$$"
      ],
      "text/plain": [
       "⎛ 2    2         2    2                             2         2       ⎞\n",
       "⎝w ⋅sin (u) + 4⋅w ⋅cos (u), 3⋅w⋅sin(u)⋅cos(u), 4⋅sin (u) + cos (u) + 4⎠"
      ]
     },
     "execution_count": 24,
     "metadata": {},
     "output_type": "execute_result"
    }
   ],
   "source": [
    "xu = x.diff(u); xw = x.diff(w)   # 1. Ableitungen nach u und w\n",
    "yu = y.diff(u); yw = y.diff(w)\n",
    "zu = z.diff(u); zw = z.diff(w)\n",
    "\n",
    "E = xu^2 + yu^2 + zu^2           # Koeff. der 1. Fundamentalform\n",
    "F = xu*xw + yu*yw + zu*zw\n",
    "G = xw^2 + yw^2 + zw^2\n",
    "E, F, G                          # sie sind zu oben gleich\n"
   ]
  },
  {
   "cell_type": "code",
   "execution_count": 25,
   "metadata": {
    "collapsed": false
   },
   "outputs": [
    {
     "data": {
      "image/png": "[encoded data removed]",
      "text/latex": [
       "$$\\left ( - \\frac{4 w^{2}}{\\sqrt{- 9 w^{2} \\sin^{2}{\\left (u \\right )} \\cos^{2}{\\left (u \\right )} + \\left(w^{2} \\sin^{2}{\\left (u \\right )} + 4 w^{2} \\cos^{2}{\\left (u \\right )}\\right) \\left(4 \\sin^{2}{\\left (u \\right )} + \\cos^{2}{\\left (u \\right )} + 4\\right)}}, \\quad 0, \\quad 0\\right )$$"
      ],
      "text/plain": [
       "⎛                                           2                                 \n",
       "⎜                                       -4⋅w                                  \n",
       "⎜─────────────────────────────────────────────────────────────────────────────\n",
       "⎜   __________________________________________________________________________\n",
       "⎜  ╱      2    2       2      ⎛ 2    2         2    2   ⎞ ⎛     2         2   \n",
       "⎝╲╱  - 9⋅w ⋅sin (u)⋅cos (u) + ⎝w ⋅sin (u) + 4⋅w ⋅cos (u)⎠⋅⎝4⋅sin (u) + cos (u)\n",
       "\n",
       "            ⎞\n",
       "            ⎟\n",
       "──────, 0, 0⎟\n",
       "______      ⎟\n",
       "    ⎞       ⎟\n",
       " + 4⎠       ⎠"
      ]
     },
     "execution_count": 25,
     "metadata": {},
     "output_type": "execute_result"
    }
   ],
   "source": [
    "# 2. Ableitungen\n",
    "xuu = xu.diff(u); xuw = xu.diff(w); xww = xw.diff(w)\n",
    "yuu = yu.diff(u); yuw = yu.diff(w); yww = yw.diff(w)   \n",
    "zuu = zu.diff(u); zuw = zu.diff(w); zww = zw.diff(w)\n",
    "\n",
    "# Determinanten\n",
    "l = det(v(xuu, xu, xw), v(yuu, yu, yw), v(zuu, zu, zw))   \n",
    "m = det(v(xuw, xu, xw), v(yuw, yu, yw), v(zuw, zu, zw))\n",
    "n = det(v(xww, xu, xw), v(yww, yu, yw), v(zww, zu, zw))\n",
    "\n",
    "nn = sqrt(E*G - F^2)               \n",
    "\n",
    "L, M, N = l/nn, m/nn, n/nn         # Koeff. der 2. Fundamentalform\n",
    "\n",
    "L, M, N          # sie sind den mittels k2.II() berechneten gleich\n"
   ]
  },
  {
   "cell_type": "code",
   "execution_count": 26,
   "metadata": {
    "collapsed": false
   },
   "outputs": [
    {
     "data": {
      "text/latex": [
       "$$\\left ( \\left(\\begin{matrix}w^{2} \\sin^{2}{\\left (u \\right )} + 4 w^{2} \\cos^{2}{\\left (u \\right )} & 3 w \\sin{\\left (u \\right )} \\cos{\\left (u \\right )}\\\\3 w \\sin{\\left (u \\right )} \\cos{\\left (u \\right )} & 4 \\sin^{2}{\\left (u \\right )} + \\cos^{2}{\\left (u \\right )} + 4\\end{matrix}\\right), \\quad \\left(\\begin{matrix}- \\frac{4 w^{2}}{\\sqrt{- 9 w^{2} \\sin^{2}{\\left (u \\right )} \\cos^{2}{\\left (u \\right )} + \\left(w^{2} \\sin^{2}{\\left (u \\right )} + 4 w^{2} \\cos^{2}{\\left (u \\right )}\\right) \\left(4 \\sin^{2}{\\left (u \\right )} + \\cos^{2}{\\left (u \\right )} + 4\\right)}} & 0\\\\0 & 0\\end{matrix}\\right)\\right )$$"
      ],
      "text/plain": [
       "⎛                                                      ⎡                      \n",
       "⎜⎡ 2    2         2    2                            ⎤  ⎢                      \n",
       "⎜⎢w ⋅sin (u) + 4⋅w ⋅cos (u)     3⋅w⋅sin(u)⋅cos(u)   ⎥, ⎢──────────────────────\n",
       "⎜⎢                                                  ⎥  ⎢   ___________________\n",
       "⎜⎢                                2         2       ⎥  ⎢  ╱      2    2       \n",
       "⎜⎣    3⋅w⋅sin(u)⋅cos(u)      4⋅sin (u) + cos (u) + 4⎦  ⎢╲╱  - 9⋅w ⋅sin (u)⋅cos\n",
       "⎜                                                      ⎢                      \n",
       "⎝                                                      ⎣                      \n",
       "\n",
       "                     2                                          ⎤⎞\n",
       "                 -4⋅w                                           ⎥⎟\n",
       "─────────────────────────────────────────────────────────────  0⎥⎟\n",
       "_____________________________________________________________   ⎥⎟\n",
       "2      ⎛ 2    2         2    2   ⎞ ⎛     2         2       ⎞    ⎥⎟\n",
       " (u) + ⎝w ⋅sin (u) + 4⋅w ⋅cos (u)⎠⋅⎝4⋅sin (u) + cos (u) + 4⎠    ⎥⎟\n",
       "                                                                ⎥⎟\n",
       "                   0                                           0⎦⎠"
      ]
     },
     "execution_count": 26,
     "metadata": {},
     "output_type": "execute_result"
    }
   ],
   "source": [
    "M1 = v(E, F) | v(F, G)   # | - Verkettung von Vektoren zu einer Matrix\n",
    "M2 = v(L, M) | v(M, N)\n",
    "M1, M2\n"
   ]
  },
  {
   "cell_type": "code",
   "execution_count": 27,
   "metadata": {
    "collapsed": false
   },
   "outputs": [
    {
     "data": {
      "text/latex": [
       "$$\\left(\\begin{matrix}- \\frac{3 \\sin^{2}{\\left (u \\right )} + 5}{2 \\left(- 3 \\sin^{2}{\\left (u \\right )} + 5\\right)^{\\frac{3}{2}} \\left|{w}\\right|} & 0\\\\\\frac{3 \\sqrt{2} w \\sin{\\left (2 u \\right )}}{2 \\left(3 \\cos{\\left (2 u \\right )} + 7\\right)^{\\frac{3}{2}} \\left|{w}\\right|} & 0\\end{matrix}\\right)$$"
      ],
      "text/plain": [
       "⎡     ⎛     2       ⎞         ⎤\n",
       "⎢    -⎝3⋅sin (u) + 5⎠         ⎥\n",
       "⎢──────────────────────────  0⎥\n",
       "⎢                   3/2       ⎥\n",
       "⎢  ⎛       2       ⎞          ⎥\n",
       "⎢2⋅⎝- 3⋅sin (u) + 5⎠   ⋅│w│   ⎥\n",
       "⎢                             ⎥\n",
       "⎢     3⋅√2⋅w⋅sin(2⋅u)         ⎥\n",
       "⎢─────────────────────────   0⎥\n",
       "⎢                  3/2        ⎥\n",
       "⎣2⋅(3⋅cos(2⋅u) + 7)   ⋅│w│    ⎦"
      ]
     },
     "execution_count": 27,
     "metadata": {},
     "output_type": "execute_result"
    }
   ],
   "source": [
    "# die \"per Hand\" berechnete Weingarten-Matrix\n",
    "\n",
    "WG = M1^-1 * M2\n",
    "\n",
    "WG = WG.einfach\n",
    "WG \n"
   ]
  },
  {
   "cell_type": "code",
   "execution_count": 28,
   "metadata": {
    "collapsed": false
   },
   "outputs": [
    {
     "data": {
      "text/latex": [
       "$$\\left(\\begin{matrix}- \\frac{3 \\sin^{2}{\\left (u \\right )} + 5}{2 \\left(- 3 \\sin^{2}{\\left (u \\right )} + 5\\right)^{\\frac{3}{2}} \\left|{w}\\right|} & 0\\\\\\frac{3 \\sqrt{2} w \\sin{\\left (2 u \\right )}}{2 \\left(3 \\cos{\\left (2 u \\right )} + 7\\right)^{\\frac{3}{2}} \\left|{w}\\right|} & 0\\end{matrix}\\right)$$"
      ],
      "text/plain": [
       "⎡     ⎛     2       ⎞         ⎤\n",
       "⎢    -⎝3⋅sin (u) + 5⎠         ⎥\n",
       "⎢──────────────────────────  0⎥\n",
       "⎢                   3/2       ⎥\n",
       "⎢  ⎛       2       ⎞          ⎥\n",
       "⎢2⋅⎝- 3⋅sin (u) + 5⎠   ⋅│w│   ⎥\n",
       "⎢                             ⎥\n",
       "⎢     3⋅√2⋅w⋅sin(2⋅u)         ⎥\n",
       "⎢─────────────────────────   0⎥\n",
       "⎢                  3/2        ⎥\n",
       "⎣2⋅(3⋅cos(2⋅u) + 7)   ⋅│w│    ⎦"
      ]
     },
     "execution_count": 28,
     "metadata": {},
     "output_type": "execute_result"
    }
   ],
   "source": [
    "# sie ist gleich der mit der entsprechenden Methode erhaltenen Matrix\n",
    "\n",
    "wg = k2.weing_matrix().einfach\n",
    "wg   \n"
   ]
  },
  {
   "cell_type": "markdown",
   "metadata": {
    "collapsed": true
   },
   "source": [
    "<br>\n",
    "## 2. Krümmungsberechnungen am Zylinder\n",
    "Seite 71"
   ]
  },
  {
   "cell_type": "code",
   "execution_count": 29,
   "metadata": {
    "collapsed": false
   },
   "outputs": [
    {
     "data": {
      "text/latex": [
       "$$\\left(\\cos{\\left (u \\right )},\\;\\sin{\\left (u \\right )},\\;w\\right)$$"
      ],
      "text/plain": [
       "<IPython.core.display.Math object>"
      ]
     },
     "metadata": {},
     "output_type": "display_data"
    }
   ],
   "source": [
    "zz = Fläche((cos(u), sin(u), w), (u, 0, 2*pi), (w, -5, 5)); zz.pf"
   ]
  },
  {
   "cell_type": "code",
   "execution_count": 30,
   "metadata": {
    "collapsed": false
   },
   "outputs": [
    {
     "data": {
      "text/latex": [
       "$$\\left ( \\left(\\begin{matrix}2 \\cos{\\left (u \\right )}\\\\2 \\sin{\\left (u \\right )}\\\\0\\end{matrix}\\right), \\quad \\left(\\begin{matrix}\\cos{\\left (u \\right )}\\\\\\sin{\\left (u \\right )}\\\\0\\end{matrix}\\right)\\right )$$"
      ],
      "text/plain": [
       "(Vektorschar([u]), Vektorschar([u]))"
      ]
     },
     "execution_count": 30,
     "metadata": {},
     "output_type": "execute_result"
    }
   ],
   "source": [
    "n = zz.norm()      # Normalen- und Normaleneinheitsvektor\n",
    "\n",
    "n, einfach(n.einh_vekt)\n"
   ]
  },
  {
   "cell_type": "code",
   "execution_count": 31,
   "metadata": {
    "collapsed": false
   },
   "outputs": [
    {
     "data": {
      "text/latex": [
       "$$\\left(\\begin{matrix}1 & 0\\\\0 & 1\\end{matrix}\\right)$$"
      ],
      "text/plain": [
       "⎡1  0⎤\n",
       "⎢    ⎥\n",
       "⎣0  1⎦"
      ]
     },
     "execution_count": 31,
     "metadata": {},
     "output_type": "execute_result"
    }
   ],
   "source": [
    "zz.I(m=1)   # 1. Fundamentalform"
   ]
  },
  {
   "cell_type": "code",
   "execution_count": 32,
   "metadata": {
    "collapsed": false
   },
   "outputs": [
    {
     "data": {
      "text/latex": [
       "$$\\left(\\begin{matrix}-1 & 0\\\\0 & 0\\end{matrix}\\right)$$"
      ],
      "text/plain": [
       "⎡-1  0⎤\n",
       "⎢     ⎥\n",
       "⎣0   0⎦"
      ]
     },
     "execution_count": 32,
     "metadata": {},
     "output_type": "execute_result"
    }
   ],
   "source": [
    "zz.II(m=1)   # 2. Fundamentalform"
   ]
  },
  {
   "cell_type": "code",
   "execution_count": 33,
   "metadata": {
    "collapsed": false
   },
   "outputs": [
    {
     "data": {
      "image/png": "[encoded data removed]",
      "text/latex": [
       "$$\\left ( -1, \\quad 0\\right )$$"
      ],
      "text/plain": [
       "(-1, 0)"
      ]
     },
     "execution_count": 33,
     "metadata": {},
     "output_type": "execute_result"
    }
   ],
   "source": [
    "zz.HK()   # Hauptkrümmungen"
   ]
  },
  {
   "cell_type": "code",
   "execution_count": 34,
   "metadata": {
    "collapsed": false
   },
   "outputs": [
    {
     "data": {
      "image/png": "[encoded data removed]",
      "text/latex": [
       "$$\\left ( 0, \\quad - \\frac{1}{2}\\right )$$"
      ],
      "text/plain": [
       "(0, -1/2)"
      ]
     },
     "execution_count": 34,
     "metadata": {},
     "output_type": "execute_result"
    }
   ],
   "source": [
    "zz.K(), zz.H()   # Gauß'sche, Mittlere Krümmung"
   ]
  },
  {
   "cell_type": "markdown",
   "metadata": {
    "collapsed": true
   },
   "source": [
    "<br>\n",
    "## 3. Krümmungsberechnungen am Zweischaligen <br>Hyperboloid\n",
    "Seite 72"
   ]
  },
  {
   "cell_type": "code",
   "execution_count": 35,
   "metadata": {
    "collapsed": false
   },
   "outputs": [
    {
     "data": {
      "text/latex": [
       "$$\\left(\\sqrt{w^{2} - 1} \\cos{\\left (u \\right )},\\;\\sqrt{w^{2} - 1} \\sin{\\left (u \\right )},\\;w\\right)$$"
      ],
      "text/plain": [
       "<IPython.core.display.Math object>"
      ]
     },
     "metadata": {},
     "output_type": "display_data"
    }
   ],
   "source": [
    "# Obere Schale des Hyperboloids\n",
    "\n",
    "zh = Fläche( (sqrt(w^2-1)*cos(u), sqrt(w^2-1)*sin(u), w), (u, 0, 2*pi), \n",
    "             (w, 1, 5))                               \n",
    "zh.pf\n"
   ]
  },
  {
   "cell_type": "code",
   "execution_count": 36,
   "metadata": {
    "collapsed": false
   },
   "outputs": [
    {
     "data": {
      "text/latex": [
       "$$\\left ( \\left(\\begin{matrix}\\left(w^{2} - 1\\right)^{\\frac{3}{2}} \\cos{\\left (u \\right )}\\\\\\left(w^{2} - 1\\right)^{\\frac{3}{2}} \\sin{\\left (u \\right )}\\\\- w^{3} + w\\end{matrix}\\right), \\quad \\left(\\begin{matrix}\\frac{\\left(w^{2} - 1\\right)^{\\frac{3}{2}} \\cos{\\left (u \\right )}}{\\sqrt{2 w^{6} - 5 w^{4} + 4 w^{2} - 1}}\\\\\\frac{\\left(w^{2} - 1\\right)^{\\frac{3}{2}} \\sin{\\left (u \\right )}}{\\sqrt{2 w^{6} - 5 w^{4} + 4 w^{2} - 1}}\\\\\\frac{- w^{3} + w}{\\sqrt{2 w^{6} - 5 w^{4} + 4 w^{2} - 1}}\\end{matrix}\\right)\\right )$$"
      ],
      "text/plain": [
       "(Vektorschar([w, u]), Vektorschar([w, u]))"
      ]
     },
     "execution_count": 36,
     "metadata": {},
     "output_type": "execute_result"
    }
   ],
   "source": [
    "# Normalen- und Normaleneinheitsvektor\n",
    "\n",
    "n = zh.norm()   \n",
    "en = einfach(n.einh_vekt, trig=ja)   # Einsatz von SymPy's trigsimp\n",
    "n, en\n"
   ]
  },
  {
   "cell_type": "code",
   "execution_count": 37,
   "metadata": {
    "collapsed": false
   },
   "outputs": [
    {
     "data": {
      "text/latex": [
       "$$\\left(\\begin{matrix}w^{2} - 1 & 0\\\\0 & \\frac{2 w^{2} - 1}{w^{2} - 1}\\end{matrix}\\right)$$"
      ],
      "text/plain": [
       "⎡ 2              ⎤\n",
       "⎢w  - 1     0    ⎥\n",
       "⎢                ⎥\n",
       "⎢           2    ⎥\n",
       "⎢        2⋅w  - 1⎥\n",
       "⎢  0     ────────⎥\n",
       "⎢          2     ⎥\n",
       "⎣         w  - 1 ⎦"
      ]
     },
     "execution_count": 37,
     "metadata": {},
     "output_type": "execute_result"
    }
   ],
   "source": [
    "zh.I(m=1)   # 1. Fundamentalform"
   ]
  },
  {
   "cell_type": "code",
   "execution_count": 38,
   "metadata": {
    "collapsed": false
   },
   "outputs": [
    {
     "data": {
      "text/latex": [
       "$$\\left(\\begin{matrix}\\frac{- w^{2} + 1}{\\sqrt{2 w^{2} - 1}} & 0\\\\0 & - \\frac{1}{\\left(w^{2} - 1\\right) \\sqrt{2 w^{2} - 1}}\\end{matrix}\\right)$$"
      ],
      "text/plain": [
       "⎡      2                              ⎤\n",
       "⎢   - w  + 1                          ⎥\n",
       "⎢─────────────            0           ⎥\n",
       "⎢   __________                        ⎥\n",
       "⎢  ╱    2                             ⎥\n",
       "⎢╲╱  2⋅w  - 1                         ⎥\n",
       "⎢                                     ⎥\n",
       "⎢                        -1           ⎥\n",
       "⎢      0        ──────────────────────⎥\n",
       "⎢                           __________⎥\n",
       "⎢               ⎛ 2    ⎞   ╱    2     ⎥\n",
       "⎣               ⎝w  - 1⎠⋅╲╱  2⋅w  - 1 ⎦"
      ]
     },
     "execution_count": 38,
     "metadata": {},
     "output_type": "execute_result"
    }
   ],
   "source": [
    "zh.II(m=1)   # 2. Fundamentalform"
   ]
  },
  {
   "cell_type": "code",
   "execution_count": 39,
   "metadata": {
    "collapsed": false
   },
   "outputs": [
    {
     "data": {
      "text/latex": [
       "$$\\left(\\begin{matrix}- \\frac{1}{\\sqrt{2 w^{2} - 1}} & 0\\\\0 & - \\frac{1}{\\left(2 w^{2} - 1\\right)^{\\frac{3}{2}}}\\end{matrix}\\right)$$"
      ],
      "text/plain": [
       "⎡     -1                     ⎤\n",
       "⎢─────────────        0      ⎥\n",
       "⎢   __________               ⎥\n",
       "⎢  ╱    2                    ⎥\n",
       "⎢╲╱  2⋅w  - 1                ⎥\n",
       "⎢                            ⎥\n",
       "⎢                    -1      ⎥\n",
       "⎢      0        ─────────────⎥\n",
       "⎢                         3/2⎥\n",
       "⎢               ⎛   2    ⎞   ⎥\n",
       "⎣               ⎝2⋅w  - 1⎠   ⎦"
      ]
     },
     "execution_count": 39,
     "metadata": {},
     "output_type": "execute_result"
    }
   ],
   "source": [
    "W = zh.weing_matrix()   # Weingarten-Matrix\n",
    "W.einfach   "
   ]
  },
  {
   "cell_type": "code",
   "execution_count": 40,
   "metadata": {
    "collapsed": false
   },
   "outputs": [
    {
     "data": {
      "image/png": "[encoded data removed]",
      "text/latex": [
       "$$\\left ( - \\frac{1}{\\left(2 w^{2} - 1\\right)^{\\frac{3}{2}}}, \\quad - \\frac{1}{\\sqrt{2 w^{2} - 1}}\\right )$$"
      ],
      "text/plain": [
       "⎛     -1             -1      ⎞\n",
       "⎜─────────────, ─────────────⎟\n",
       "⎜          3/2     __________⎟\n",
       "⎜⎛   2    ⎞       ╱    2     ⎟\n",
       "⎝⎝2⋅w  - 1⎠     ╲╱  2⋅w  - 1 ⎠"
      ]
     },
     "execution_count": 40,
     "metadata": {},
     "output_type": "execute_result"
    }
   ],
   "source": [
    "HK = zh.HK(); HK  # 2 Hauptkrümmungen als Tupel"
   ]
  },
  {
   "cell_type": "markdown",
   "metadata": {},
   "source": [
    "Das Produkt der Hauptkrümmungen ergibt <i>K</i>, das arithmetische Mittel <i>H</i>:"
   ]
  },
  {
   "cell_type": "code",
   "execution_count": 41,
   "metadata": {
    "collapsed": false
   },
   "outputs": [
    {
     "data": {
      "image/png": "[encoded data removed]",
      "text/latex": [
       "$$\\left ( \\frac{1}{4 w^{4} - 4 w^{2} + 1}, \\quad \\frac{1}{4 w^{4} - 4 w^{2} + 1}\\right )$$"
      ],
      "text/plain": [
       "⎛       1                1       ⎞\n",
       "⎜───────────────, ───────────────⎟\n",
       "⎜   4      2         4      2    ⎟\n",
       "⎝4⋅w  - 4⋅w  + 1  4⋅w  - 4⋅w  + 1⎠"
      ]
     },
     "execution_count": 41,
     "metadata": {},
     "output_type": "execute_result"
    }
   ],
   "source": [
    "K1 = HK[0] * HK[1]\n",
    "\n",
    "expand(K1), expand(einfach(zh.K()))"
   ]
  },
  {
   "cell_type": "code",
   "execution_count": 42,
   "metadata": {
    "collapsed": false
   },
   "outputs": [
    {
     "data": {
      "image/png": "[encoded data removed]",
      "text/latex": [
       "$$\\left ( - \\frac{w^{2}}{\\left(2 w^{2} - 1\\right)^{\\frac{3}{2}}}, \\quad - \\frac{w^{2}}{\\left(2 w^{2} - 1\\right)^{\\frac{3}{2}}}\\right )$$"
      ],
      "text/plain": [
       "⎛       2              2     ⎞\n",
       "⎜     -w             -w      ⎟\n",
       "⎜─────────────, ─────────────⎟\n",
       "⎜          3/2            3/2⎟\n",
       "⎜⎛   2    ⎞     ⎛   2    ⎞   ⎟\n",
       "⎝⎝2⋅w  - 1⎠     ⎝2⋅w  - 1⎠   ⎠"
      ]
     },
     "execution_count": 42,
     "metadata": {},
     "output_type": "execute_result"
    }
   ],
   "source": [
    "H1 = Rational(1, 2) * (HK[0] + HK[1])  \n",
    "\n",
    "# 1/2 ergibt bei Python 0.5, deshalb hat SymPy die Klasse Rational\n",
    "\n",
    "einfach(H1), zh.H()                             "
   ]
  },
  {
   "cell_type": "markdown",
   "metadata": {},
   "source": [
    "<br>\n",
    "Alle Größen wurden bisher für den allgemeinen Punkt mit unbestimmten $u$- und \n",
    "<br>$w$-Werten ermittelt; sie könnnen auch für einen beliebigen Punkt berechnet werden,\n",
    "<br>z.B. mit den Parameterwerten <i>u</i> = $\\pi\\,/\\,3$, <i>w</i> = 4"
   ]
  },
  {
   "cell_type": "code",
   "execution_count": 43,
   "metadata": {
    "collapsed": false
   },
   "outputs": [
    {
     "data": {
      "text/latex": [
       "$$\\left(\\begin{matrix}- \\frac{\\sqrt{31}}{31} & 0\\\\0 & - \\frac{\\sqrt{31}}{961}\\end{matrix}\\right)$$"
      ],
      "text/plain": [
       "⎡-√31        ⎤\n",
       "⎢─────    0  ⎥\n",
       "⎢  31        ⎥\n",
       "⎢            ⎥\n",
       "⎢       -√31 ⎥\n",
       "⎢  0    ─────⎥\n",
       "⎣        961 ⎦"
      ]
     },
     "execution_count": 43,
     "metadata": {},
     "output_type": "execute_result"
    }
   ],
   "source": [
    "zh.weing_matrix(pi/3, 4)"
   ]
  },
  {
   "cell_type": "code",
   "execution_count": 44,
   "metadata": {
    "collapsed": false
   },
   "outputs": [
    {
     "data": {
      "image/png": "[encoded data removed]",
      "text/latex": [
       "$$\\left ( \\frac{1}{961}, \\quad - \\frac{16 \\sqrt{31}}{961}\\right )$$"
      ],
      "text/plain": [
       "⎛       -16⋅√31 ⎞\n",
       "⎜1/961, ────────⎟\n",
       "⎝         961   ⎠"
      ]
     },
     "execution_count": 44,
     "metadata": {},
     "output_type": "execute_result"
    }
   ],
   "source": [
    "zh.K(pi/3, 4), zh.H(pi/3, 4)"
   ]
  },
  {
   "cell_type": "markdown",
   "metadata": {},
   "source": [
    "<br>\n",
    "## 4. Tangentialebene und Normalenvektor"
   ]
  },
  {
   "cell_type": "code",
   "execution_count": 45,
   "metadata": {
    "collapsed": false
   },
   "outputs": [
    {
     "data": {
      "text/latex": [
       "$$\\left ( \\left(\\begin{matrix}\\frac{\\sqrt{11}}{5} \\left(\\frac{1}{4} + \\frac{\\sqrt{5}}{4}\\right)\\\\\\frac{\\sqrt{11}}{5} \\sqrt{- \\frac{\\sqrt{5}}{8} + \\frac{5}{8}}\\\\\\frac{6}{5}\\end{matrix}\\right), \\quad \\left(\\begin{matrix}\\frac{11 \\sqrt{11}}{500} + \\frac{11 \\sqrt{55}}{500}\\\\\\frac{11}{500} \\sqrt{- 22 \\sqrt{5} + 110}\\\\- \\frac{66}{125}\\end{matrix}\\right)\\right )$$"
      ],
      "text/plain": [
       "(Vektor, Vektor)"
      ]
     },
     "execution_count": 45,
     "metadata": {},
     "output_type": "execute_result"
    }
   ],
   "source": [
    "P = zh.pkt(pi/5, 1.2)      # ein Punkt der ob. Schale des Hyperboloids\n",
    "nn = zh.norm(pi/5, 1.2)    # Normalenvektor in diesem\n",
    "\n",
    "P,  nn"
   ]
  },
  {
   "cell_type": "code",
   "execution_count": 46,
   "metadata": {
    "collapsed": false
   },
   "outputs": [
    {
     "data": {
      "image/png": "[encoded data removed]",
      "text/latex": [
       "$$0.6033$$"
      ],
      "text/plain": [
       "0.6033"
      ]
     },
     "execution_count": 46,
     "metadata": {},
     "output_type": "execute_result"
    }
   ],
   "source": [
    "nn.betrag_(d=4)  # zum besseren Zeichnen des Vektors wird seine  \n",
    "                 # Länge ermittelt"
   ]
  },
  {
   "cell_type": "code",
   "execution_count": 47,
   "metadata": {
    "collapsed": false
   },
   "outputs": [],
   "source": [
    "zeichne([zh, gelb],                 # die Fläche\n",
    "         [P, 2],                    # der Punkt         \n",
    "         [5*nn, P, 2, rot],         # der verlängerte Normalenvektor, \n",
    "                                    # in P aufgehängt\n",
    "         [zh.tang_ebene(pi/5, 1.2), 'cornsilk'])   \n",
    "                                    # die Tangentialebene in P"
   ]
  },
  {
   "cell_type": "markdown",
   "metadata": {},
   "source": [
    "Kurze Untersuchung der <b>Gleichungen der beteiligten Tangentialebene</b>"
   ]
  },
  {
   "cell_type": "code",
   "execution_count": 48,
   "metadata": {
    "collapsed": true
   },
   "outputs": [],
   "source": [
    "te = zh.tang_ebene(pi/5, 1.2)"
   ]
  },
  {
   "cell_type": "code",
   "execution_count": 49,
   "metadata": {
    "collapsed": false,
    "scrolled": true
   },
   "outputs": [
    {
     "data": {
      "image/png": "[encoded data removed]",
      "text/latex": [
       "$$\\frac{\\sqrt{11} x}{4} + \\frac{\\sqrt{55} x}{4} + \\frac{y}{4} \\sqrt{- 22 \\sqrt{5} + 110} - 6 z + 5=0$$"
      ],
      "text/plain": [
       "sqrt(11)*x/4 + sqrt(55)*x/4 + y*sqrt(-22*sqrt(5) + 110)/4 - 6*z + 5 = 0"
      ]
     },
     "execution_count": 49,
     "metadata": {},
     "output_type": "execute_result"
    }
   ],
   "source": [
    "te.koord    # Koordinatengleichung   (1)"
   ]
  },
  {
   "cell_type": "code",
   "execution_count": 50,
   "metadata": {
    "collapsed": false
   },
   "outputs": [
    {
     "data": {
      "text/latex": [
       "$$\\left(\\begin{matrix}x\\\\y\\\\z\\end{matrix}\\right)=\\left(\\begin{matrix}- \\frac{5 \\sqrt{55}}{11} + \\frac{5 \\sqrt{11}}{11}\\\\0\\\\0\\end{matrix}\\right)+r\\,\\left(\\begin{matrix}\\frac{\\sqrt{11}}{5} \\sqrt{- \\frac{\\sqrt{5}}{8} + \\frac{5}{8}}\\\\- \\frac{\\sqrt{11}}{5} \\left(\\frac{1}{4} + \\frac{\\sqrt{5}}{4}\\right)\\\\0\\end{matrix}\\right)+s\\,\\left(\\begin{matrix}- \\frac{6 \\sqrt{11}}{25} \\left(\\frac{1}{4} + \\frac{\\sqrt{5}}{4}\\right)\\\\- \\frac{6 \\sqrt{11}}{25} \\sqrt{- \\frac{\\sqrt{5}}{8} + \\frac{5}{8}}\\\\- \\frac{11}{25} \\left(\\frac{1}{4} + \\frac{\\sqrt{5}}{4}\\right)^{2} - \\frac{11}{40} + \\frac{11 \\sqrt{5}}{200}\\end{matrix}\\right)$$"
      ],
      "text/plain": [
       "<IPython.core.display.Math object>"
      ]
     },
     "metadata": {},
     "output_type": "display_data"
    }
   ],
   "source": [
    "te.prg   # Parametergleichung"
   ]
  },
  {
   "cell_type": "code",
   "execution_count": 51,
   "metadata": {
    "collapsed": false
   },
   "outputs": [
    {
     "data": {
      "text/latex": [
       "$$\\left[\\left(\\begin{matrix}x\\\\y\\\\z\\end{matrix}\\right)-\\left(\\begin{matrix}- \\frac{5 \\sqrt{55}}{11} + \\frac{5 \\sqrt{11}}{11}\\\\0\\\\0\\end{matrix}\\right)\\right]\\circ\\left(\\begin{matrix}- \\frac{\\sqrt{11}}{5} \\left(\\frac{1}{4} + \\frac{\\sqrt{5}}{4}\\right) \\left(- \\frac{11}{25} \\left(\\frac{1}{4} + \\frac{\\sqrt{5}}{4}\\right)^{2} - \\frac{11}{40} + \\frac{11 \\sqrt{5}}{200}\\right)\\\\- \\frac{\\sqrt{11}}{5} \\sqrt{- \\frac{\\sqrt{5}}{8} + \\frac{5}{8}} \\left(- \\frac{11}{25} \\left(\\frac{1}{4} + \\frac{\\sqrt{5}}{4}\\right)^{2} - \\frac{11}{40} + \\frac{11 \\sqrt{5}}{200}\\right)\\\\- \\frac{66}{125} \\left(\\frac{1}{4} + \\frac{\\sqrt{5}}{4}\\right)^{2} - \\frac{33}{100} + \\frac{33 \\sqrt{5}}{500}\\end{matrix}\\right)=0$$"
      ],
      "text/plain": [
       "<IPython.core.display.Math object>"
      ]
     },
     "metadata": {},
     "output_type": "display_data"
    }
   ],
   "source": [
    "te.nf   # Normalenform der Gleichung (2)"
   ]
  },
  {
   "cell_type": "code",
   "execution_count": 52,
   "metadata": {
    "collapsed": false
   },
   "outputs": [
    {
     "data": {
      "text/latex": [
       "$$\\left(\\begin{matrix}\\frac{11 \\sqrt{11}}{500} + \\frac{11 \\sqrt{55}}{500}\\\\\\frac{11}{500} \\sqrt{- 22 \\sqrt{5} + 110}\\\\- \\frac{66}{125}\\end{matrix}\\right)$$"
      ],
      "text/plain": [
       "Vektor"
      ]
     },
     "execution_count": 52,
     "metadata": {},
     "output_type": "execute_result"
    }
   ],
   "source": [
    "nn   # der oben ermittelte Normalenvektor"
   ]
  },
  {
   "cell_type": "markdown",
   "metadata": {},
   "source": [
    "Der Vergleich des aus der Koordinatengleichung (1) abgeleiteten Normalenvektors"
   ]
  },
  {
   "cell_type": "code",
   "execution_count": 53,
   "metadata": {
    "collapsed": false
   },
   "outputs": [
    {
     "data": {
      "text/latex": [
       "$$\\left(\\begin{matrix}\\frac{\\sqrt{11}}{4} + \\frac{\\sqrt{55}}{4}\\\\\\frac{1}{4} \\sqrt{- 22 \\sqrt{5} + 110}\\\\-6\\end{matrix}\\right)$$"
      ],
      "text/plain": [
       "Vektor"
      ]
     },
     "execution_count": 53,
     "metadata": {},
     "output_type": "execute_result"
    }
   ],
   "source": [
    "k = Rational(1, 4)\n",
    "\n",
    "n1 = v(k*(sqrt(11)+sqrt(55)), k*sqrt(-22*sqrt(5)+110), -6)\n",
    "n1"
   ]
  },
  {
   "cell_type": "markdown",
   "metadata": {},
   "source": [
    "mit dem für die Fläche errechneten Normalenvektor <i>nn</i> ergibt Kollinearität "
   ]
  },
  {
   "cell_type": "code",
   "execution_count": 54,
   "metadata": {
    "collapsed": false
   },
   "outputs": [
    {
     "data": {
      "text/plain": [
       "True"
      ]
     },
     "execution_count": 54,
     "metadata": {},
     "output_type": "execute_result"
    }
   ],
   "source": [
    "kollinear(n1, nn)"
   ]
  },
  {
   "cell_type": "code",
   "execution_count": 55,
   "metadata": {
    "collapsed": false
   },
   "outputs": [
    {
     "data": {
      "text/latex": [
       "$$\\left(\\begin{matrix}\\frac{11 \\sqrt{11}}{500} + \\frac{11 \\sqrt{55}}{500}\\\\\\frac{11}{500} \\sqrt{- 22 \\sqrt{5} + 110}\\\\- \\frac{66}{125}\\end{matrix}\\right)=\\frac{11}{125}\\cdot\\left(\\begin{matrix}\\frac{\\sqrt{11}}{4} + \\frac{\\sqrt{55}}{4}\\\\\\frac{1}{4} \\sqrt{- 22 \\sqrt{5} + 110}\\\\-6\\end{matrix}\\right)$$"
      ],
      "text/plain": [
       "<IPython.core.display.Math object>"
      ]
     },
     "metadata": {},
     "output_type": "display_data"
    }
   ],
   "source": [
    "kollinear(n1, nn, d=1)   # Darstellung von n1 durch nn"
   ]
  },
  {
   "cell_type": "markdown",
   "metadata": {},
   "source": [
    "Dasselbe triftt für den Normalenvektor zu, der für die Normalenform der Gleichung (2)\n",
    "<br>berechnet wurde"
   ]
  },
  {
   "cell_type": "code",
   "execution_count": 56,
   "metadata": {
    "collapsed": false
   },
   "outputs": [
    {
     "data": {
      "text/latex": [
       "$$\\left(\\begin{matrix}- \\frac{\\sqrt{11}}{5} \\left(\\frac{1}{4} + \\frac{\\sqrt{5}}{4}\\right) \\left(- \\frac{11}{25} \\left(\\frac{1}{4} + \\frac{\\sqrt{5}}{4}\\right)^{2} - \\frac{11}{40} + \\frac{11 \\sqrt{5}}{200}\\right)\\\\- \\frac{\\sqrt{11}}{5} \\sqrt{- \\frac{\\sqrt{5}}{8} + \\frac{5}{8}} \\left(- \\frac{11}{25} \\left(\\frac{1}{4} + \\frac{\\sqrt{5}}{4}\\right)^{2} - \\frac{11}{40} + \\frac{11 \\sqrt{5}}{200}\\right)\\\\- \\frac{66}{125} \\left(\\frac{1}{4} + \\frac{\\sqrt{5}}{4}\\right)^{2} - \\frac{33}{100} + \\frac{33 \\sqrt{5}}{500}\\end{matrix}\\right)$$"
      ],
      "text/plain": [
       "Vektor"
      ]
     },
     "execution_count": 56,
     "metadata": {},
     "output_type": "execute_result"
    }
   ],
   "source": [
    "n2 = te.norm   # s.o.\n",
    "n2"
   ]
  },
  {
   "cell_type": "code",
   "execution_count": 57,
   "metadata": {
    "collapsed": false
   },
   "outputs": [
    {
     "data": {
      "text/plain": [
       "True"
      ]
     },
     "execution_count": 57,
     "metadata": {},
     "output_type": "execute_result"
    }
   ],
   "source": [
    "kollinear(n2, nn)"
   ]
  },
  {
   "cell_type": "code",
   "execution_count": 58,
   "metadata": {
    "collapsed": false
   },
   "outputs": [
    {
     "data": {
      "image/png": "[encoded data removed]",
      "text/latex": [
       "$$\\left [ 0, \\quad 0, \\quad 0\\right ]$$"
      ],
      "text/plain": [
       "[0, 0, 0]"
      ]
     },
     "execution_count": 58,
     "metadata": {},
     "output_type": "execute_result"
    }
   ],
   "source": [
    "[einfach(n2.x - nn.x) for x in (x, y, z)]"
   ]
  },
  {
   "cell_type": "markdown",
   "metadata": {},
   "source": [
    "Außerdem sind die beiden Richtungsvektoren aus der obigen Parametergleichung zu \n",
    "<br>dem Normalenvektor orthogonal"
   ]
  },
  {
   "cell_type": "code",
   "execution_count": 59,
   "metadata": {
    "collapsed": false
   },
   "outputs": [
    {
     "data": {
      "image/png": "[encoded data removed]",
      "text/latex": [
       "$$0$$"
      ],
      "text/plain": [
       "0"
      ]
     },
     "execution_count": 59,
     "metadata": {},
     "output_type": "execute_result"
    }
   ],
   "source": [
    "einfach((te.richt[0] ° nn))   # ° - Skalarprodukt"
   ]
  },
  {
   "cell_type": "code",
   "execution_count": 60,
   "metadata": {
    "collapsed": false
   },
   "outputs": [
    {
     "data": {
      "image/png": "[encoded data removed]",
      "text/latex": [
       "$$0$$"
      ],
      "text/plain": [
       "0"
      ]
     },
     "execution_count": 60,
     "metadata": {},
     "output_type": "execute_result"
    }
   ],
   "source": [
    "einfach((te.richt[1] ° nn)^2)   \n",
    "\n",
    "# hier wird das Quadrat vereinfacht, was oft besser gelingt"
   ]
  },
  {
   "cell_type": "markdown",
   "metadata": {},
   "source": [
    "<br>\n",
    "## 5. Grafik - Beispiele"
   ]
  },
  {
   "cell_type": "markdown",
   "metadata": {},
   "source": [
    "### Torus"
   ]
  },
  {
   "cell_type": "code",
   "execution_count": 2,
   "metadata": {
    "collapsed": false
   },
   "outputs": [],
   "source": [
    "def torus(a, b): \n",
    "    x = (b + a*cos(w))*cos(u)\n",
    "    y = (b + a*cos(w))*sin(u)\n",
    "    z = a*sin(w)\n",
    "    return Fläche(v(x, y, z), (u, 0, 2*pi), (w, 0, 2*pi))"
   ]
  },
  {
   "cell_type": "code",
   "execution_count": 3,
   "metadata": {
    "collapsed": false
   },
   "outputs": [],
   "source": [
    "tor = torus(2, 7)"
   ]
  },
  {
   "cell_type": "code",
   "execution_count": 12,
   "metadata": {
    "collapsed": true
   },
   "outputs": [],
   "source": [
    "zeichne([tor, gelb, 'gitter=(36, 36)'], box=nein, achsen=nein)"
   ]
  },
  {
   "cell_type": "code",
   "execution_count": 13,
   "metadata": {
    "collapsed": true
   },
   "outputs": [],
   "source": [
    "zeichne([tor, blau, 1, 'draht =(36, 36)'], box=nein, achsen=nein) "
   ]
  },
  {
   "cell_type": "markdown",
   "metadata": {},
   "source": [
    "### Kleinsche Flasche"
   ]
  },
  {
   "cell_type": "code",
   "execution_count": 65,
   "metadata": {
    "collapsed": false
   },
   "outputs": [],
   "source": [
    "r = 2-cos(u); b = 2; h = 6\n",
    "\n",
    "x = b*(1-sin(u))*cos(u)+r*cos(w)*(2*exp(-(u/2-pi)**2)-1)\n",
    "y = r*sin(w)\n",
    "z = h*sin(u)+1/2*r*sin(u)*cos(w)*exp(-(u-3/2*pi)**2)\n",
    "\n",
    "klein_flasche = kf = Fläche( v(x, y, z), (u, 0, 2*pi), (w, 0, 2*pi))\n"
   ]
  },
  {
   "cell_type": "code",
   "execution_count": 66,
   "metadata": {
    "collapsed": false
   },
   "outputs": [],
   "source": [
    "sicht_box(8)\n",
    "\n",
    "zeichne([kf, 'palegoldenrod'], achsen=nein, box=nein)"
   ]
  },
  {
   "cell_type": "markdown",
   "metadata": {},
   "source": [
    "### Schnecke"
   ]
  },
  {
   "cell_type": "code",
   "execution_count": 67,
   "metadata": {
    "collapsed": true
   },
   "outputs": [],
   "source": [
    "x = 5/4 * (1-w/2/pi) * cos(2*w) * (1+cos(u)) + cos(2*w)\n",
    "y = 5/4 *(1-w/2/pi) * sin(2*w) * (1+cos(u)) + sin(2*w)\n",
    "z = 10*w/2/pi + 5/4 * (1-w/2/pi) * sin(u) + 15\n",
    "\n",
    "fl = Fläche(v(x, y, z), (u, 0, 2*pi),(w, -2*pi, 2*pi))"
   ]
  },
  {
   "cell_type": "code",
   "execution_count": 68,
   "metadata": {
    "collapsed": false
   },
   "outputs": [],
   "source": [
    "zeichne([fl, 'goldenrod', 'gitter=(12, 48)'],achsen=nein, box=nein)"
   ]
  },
  {
   "cell_type": "markdown",
   "metadata": {},
   "source": [
    "<br>\n",
    "## 5. Animationen \n",
    "sind gegenwärtig in <i>agla</i> experimentell<br><br>\n",
    "<i>Hier wird lediglich ein Schnappschuß gezeigt</i><br>"
   ]
  },
  {
   "cell_type": "markdown",
   "metadata": {},
   "source": [
    "<b>Beispiel 1</b>: Bewegung des Krümmungskreises entlang der Raumparabel"
   ]
  },
  {
   "cell_type": "code",
   "execution_count": 69,
   "metadata": {
    "collapsed": false
   },
   "outputs": [
    {
     "name": "stdout",
     "output_type": "stream",
     "text": [
      "agla: lange Rechenzeiten\n"
     ]
    }
   ],
   "source": [
    "rp = Kurve(v(t, t^2, t^3), (t, -2.15, 2.15))    # Raumparabel\n",
    "\n",
    "kk = rp.kr_kreis()   # Krümmungskreis im allgemeinen Punkt\n",
    "\n",
    "zeichne([rp, 'olive', 2], [kk, 'darkorange', 2, (t, -1, 1.3)])"
   ]
  },
  {
   "cell_type": "markdown",
   "metadata": {},
   "source": [
    "<b>Beispiel 2</b>: Bewegung einer kleinen Kugel entlang der Viviani-Kurve"
   ]
  },
  {
   "cell_type": "code",
   "execution_count": 70,
   "metadata": {
    "collapsed": false
   },
   "outputs": [
    {
     "data": {
      "text/latex": [
       "$$\\left ( \\left(\\begin{matrix}5 \\cos^{2}{\\left (t \\right )}\\\\\\frac{5}{2} \\sin{\\left (2 t \\right )}\\\\5 \\sin{\\left (t \\right )}\\end{matrix}\\right), \\quad \\frac{1}{5}\\right )$$"
      ],
      "text/plain": [
       "(Vektorschar([t]), 1/5)"
      ]
     },
     "execution_count": 70,
     "metadata": {},
     "output_type": "execute_result"
    }
   ],
   "source": [
    "sphäre = Sphäre(O, 5)   # O - Ursprung\n",
    "\n",
    "viviani = sphäre.kurve(t, t, (t, 0, 2*pi))   # Kurve auf der Sphäre\n",
    "\n",
    "P = viviani.pkt()  # Mittelpunkt der Kugel: allgemeiner Punkt der \n",
    "                   # Viviani-Kurve \n",
    "\n",
    "kleine_kugel = Kugel(P, 0.2)\n",
    "\n",
    "kleine_kugel.M, kleine_kugel.r\n"
   ]
  },
  {
   "cell_type": "code",
   "execution_count": 71,
   "metadata": {
    "collapsed": false
   },
   "outputs": [],
   "source": [
    "zeichne(sphäre, viviani, [kleine_kugel, rot, (0, 2*pi)], box=nein, achsen=nein)"
   ]
  }
 ],
 "metadata": {
  "anaconda-cloud": {},
  "kernelspec": {
   "display_name": "Python [default]",
   "language": "python",
   "name": "python3"
  },
  "language_info": {
   "codemirror_mode": {
    "name": "ipython",
    "version": 3
   },
   "file_extension": ".py",
   "mimetype": "text/x-python",
   "name": "python",
   "nbconvert_exporter": "python",
   "pygments_lexer": "ipython3",
   "version": "3.5.2"
  }
 },
 "nbformat": 4,
 "nbformat_minor": 1
}
