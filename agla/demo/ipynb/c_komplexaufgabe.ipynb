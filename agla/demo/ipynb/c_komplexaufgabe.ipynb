{
 "cells": [
  {
   "cell_type": "markdown",
   "metadata": {},
   "source": [
    "<br>\n",
    "# Einblick in das Rechnen mit <i>agla</i>\n",
    "\n",
    "von Holger Böttcher - hbomat@posteo.de\n",
    "<br><br>\n",
    "Diese Arbeit steht unter der freien Lizenz [CC BY-SA 4.0](https://creativecommons.org/licenses/by-sa/4.0/deed.de)  \n",
    "\n",
    "<br><br>\n",
    "### Komplexaufgabe Cubus hyperbolicus\n",
    "<br>Das Beispiel beinhaltet die Aufgabe 48 aus\n",
    "<br><br>\n",
    "<i>W. Herget, T. Jahnke, W. Kroll<br>\n",
    "Produktive Aufgaben für den Mathematikunterricht in der Sekundarstufe II<br>\n",
    "Cornelsen 2011</i>\n",
    "<br><br><br>\n",
    "Drei paarweise windschiefe und orthogonale Kanten eines Würfels werden nach beiden <br>\n",
    "Seiten ins Unendliche verlängert. Diese drei Geraden sollen durch geradlinige Verbin-<br>\n",
    "dungen miteinander verbunden werden\n",
    "<br><br>\n",
    "1.$\\,\\,$ Entwickeln Sie eine Methode, mit der man systematisch die Befestigungspunkte für<br>\n",
    "$\\quad\\,$solche Streben finden kann, und zeichnen Sie ein Schrägbild des Einheitswürfels mit <br>\n",
    "$\\quad\\,$mehreren Streben \n",
    "<br><br>\n",
    "2.$\\,\\,$ Wenn man die Streben ebenso wie die drei Würfelkanten ins Unendliche verlän-<br>\n",
    "$\\quad\\,$gert, erhält man  eine Geradenschar. Untersuchen Sie die Schar dieser \"Strebgera-<br>\n",
    "$\\quad\\,$den\" auf ihre Eigenschaften\n",
    "<br><br>\n",
    "3.$\\,\\,$ Die Strebgeraden scheinen chaotisch im Raum verteilt zu sein. Tatsächlich gibt es <br>\n",
    "$\\quad\\,$aber eine feste Richtung, die mit jeder Strebgeraden den gleichen Winkel bildet.<br>\n",
    "$\\quad\\,$Bestimmen Sie diesen Winkel\n",
    "<br><br>\n",
    "$\\quad\\,$Versuchen Sie, sich ein Bild von der räumlichen Lage der Geradenschar zu <br>\n",
    "$\\quad\\,$machen\n",
    "<br><br>"
   ]
  },
  {
   "cell_type": "code",
   "execution_count": 1,
   "metadata": {
    "collapsed": false
   },
   "outputs": [],
   "source": [
    "%run agla/start    # Aktivierung des Paketes"
   ]
  },
  {
   "cell_type": "markdown",
   "metadata": {},
   "source": [
    "<br>\n",
    "### Der Würfel\n",
    "\n",
    "Es wird ein Körper-Objekt erzeugt; ein Körper ist formal über eine Menge von Ecken <br>und eine Menge von Kanten (Verbindungen zwischen den Ecken) definiert"
   ]
  },
  {
   "cell_type": "code",
   "execution_count": 2,
   "metadata": {
    "collapsed": false
   },
   "outputs": [],
   "source": [
    "ve = Viereck(v(1, 0, 0), v(0, 1, 0))   # Einfacher Weg zur Erzeu-"
   ]
  },
  {
   "cell_type": "code",
   "execution_count": 3,
   "metadata": {
    "collapsed": false
   },
   "outputs": [],
   "source": [
    "p = Prisma(ve, 1)                      # gung eines Würfels"
   ]
  },
  {
   "cell_type": "code",
   "execution_count": 4,
   "metadata": {
    "collapsed": false
   },
   "outputs": [],
   "source": [
    "würfel = w = p.in_körper               # als Körper"
   ]
  },
  {
   "cell_type": "code",
   "execution_count": 5,
   "metadata": {
    "collapsed": false
   },
   "outputs": [
    {
     "data": {
      "text/latex": [
       "$$\\left [ \\left(\\begin{matrix}0\\\\0\\\\0\\end{matrix}\\right), \\quad \\left(\\begin{matrix}1\\\\0\\\\0\\end{matrix}\\right), \\quad \\left(\\begin{matrix}1\\\\1\\\\0\\end{matrix}\\right), \\quad \\left(\\begin{matrix}0\\\\1\\\\0\\end{matrix}\\right), \\quad \\left(\\begin{matrix}0\\\\0\\\\1\\end{matrix}\\right), \\quad \\left(\\begin{matrix}1\\\\0\\\\1\\end{matrix}\\right), \\quad \\left(\\begin{matrix}1\\\\1\\\\1\\end{matrix}\\right), \\quad \\left(\\begin{matrix}0\\\\1\\\\1\\end{matrix}\\right)\\right ]$$"
      ],
      "text/plain": [
       "[Vektor, Vektor, Vektor, Vektor, Vektor, Vektor, Vektor, Vektor]"
      ]
     },
     "execution_count": 5,
     "metadata": {},
     "output_type": "execute_result"
    }
   ],
   "source": [
    "e = w.ecken; e"
   ]
  },
  {
   "cell_type": "code",
   "execution_count": 6,
   "metadata": {
    "collapsed": false
   },
   "outputs": [
    {
     "data": {
      "image/png": "[encoded data removed]",
      "text/latex": [
       "$$\\left [ \\left [ 0, \\quad 1\\right ], \\quad \\left [ 0, \\quad 3\\right ], \\quad \\left [ 0, \\quad 4\\right ], \\quad \\left [ 1, \\quad 2\\right ], \\quad \\left [ 1, \\quad 5\\right ], \\quad \\left [ 2, \\quad 3\\right ], \\quad \\left [ 2, \\quad 6\\right ], \\quad \\left [ 3, \\quad 7\\right ], \\quad \\left [ 4, \\quad 5\\right ], \\quad \\left [ 4, \\quad 7\\right ], \\quad \\left [ 5, \\quad 6\\right ], \\quad \\left [ 6, \\quad 7\\right ]\\right ]$$"
      ],
      "text/plain": [
       "[[0, 1], [0, 3], [0, 4], [1, 2], [1, 5], [2, 3], [2, 6], [3, 7], [4, 5], [4, 7\n",
       "], [5, 6], [6, 7]]"
      ]
     },
     "execution_count": 6,
     "metadata": {},
     "output_type": "execute_result"
    }
   ],
   "source": [
    "w.kanten"
   ]
  },
  {
   "cell_type": "markdown",
   "metadata": {},
   "source": [
    "### Zu 1:"
   ]
  },
  {
   "cell_type": "markdown",
   "metadata": {},
   "source": [
    "### Die ausgezeichneten Geraden"
   ]
  },
  {
   "cell_type": "code",
   "execution_count": 7,
   "metadata": {
    "collapsed": false
   },
   "outputs": [
    {
     "data": {
      "text/latex": [
       "$$\\left(\\begin{matrix}x\\\\y\\\\z\\end{matrix}\\right)=\\left(\\begin{matrix}0\\\\0\\\\0\\end{matrix}\\right)+t\\,\\left(\\begin{matrix}1\\\\0\\\\0\\end{matrix}\\right)$$"
      ],
      "text/plain": [
       "<IPython.core.display.Math object>"
      ]
     },
     "metadata": {},
     "output_type": "display_data"
    }
   ],
   "source": [
    "g1 = x_achse      # x_achse ist vordefiniert              \n",
    "g2 = Gerade(e[5], v(0, 1, 0))    \n",
    "g3 = Gerade(e[3], v(0, 0, 1))   \n",
    "\n",
    "g1.prg"
   ]
  },
  {
   "cell_type": "code",
   "execution_count": 8,
   "metadata": {
    "collapsed": false
   },
   "outputs": [
    {
     "data": {
      "text/latex": [
       "$$\\left(\\begin{matrix}x\\\\y\\\\z\\end{matrix}\\right)=\\left(\\begin{matrix}1\\\\0\\\\1\\end{matrix}\\right)+t\\,\\left(\\begin{matrix}0\\\\1\\\\0\\end{matrix}\\right)$$"
      ],
      "text/plain": [
       "<IPython.core.display.Math object>"
      ]
     },
     "metadata": {},
     "output_type": "display_data"
    }
   ],
   "source": [
    "g2.prg"
   ]
  },
  {
   "cell_type": "code",
   "execution_count": 9,
   "metadata": {
    "collapsed": false
   },
   "outputs": [
    {
     "data": {
      "text/latex": [
       "$$\\left(\\begin{matrix}x\\\\y\\\\z\\end{matrix}\\right)=\\left(\\begin{matrix}0\\\\1\\\\0\\end{matrix}\\right)+t\\,\\left(\\begin{matrix}0\\\\0\\\\1\\end{matrix}\\right)$$"
      ],
      "text/plain": [
       "<IPython.core.display.Math object>"
      ]
     },
     "metadata": {},
     "output_type": "display_data"
    }
   ],
   "source": [
    "g3.prg"
   ]
  },
  {
   "cell_type": "code",
   "execution_count": 10,
   "metadata": {
    "collapsed": false
   },
   "outputs": [],
   "source": [
    "bb = [o.bild(schrägbild) for o in (w, g1, g2, g3)]"
   ]
  },
  {
   "cell_type": "code",
   "execution_count": 11,
   "metadata": {
    "collapsed": true
   },
   "outputs": [],
   "source": [
    "sicht_box(2)         # ein 3D-Bild\n",
    "zeichne(*bb, box=nein, achsen=nein)"
   ]
  },
  {
   "cell_type": "code",
   "execution_count": 12,
   "metadata": {
    "collapsed": false
   },
   "outputs": [],
   "source": [
    "zeichne(w, [g1, 3], [g2, 3, blau], [g3, 3, grün])  "
   ]
  },
  {
   "cell_type": "markdown",
   "metadata": {},
   "source": [
    "### Befestigungspunkte der Strebgeraden"
   ]
  },
  {
   "cell_type": "code",
   "execution_count": 13,
   "metadata": {
    "collapsed": false
   },
   "outputs": [
    {
     "data": {
      "text/latex": [
       "$$\\left ( \\left(\\begin{matrix}x\\\\0\\\\0\\end{matrix}\\right), \\quad \\left(\\begin{matrix}1\\\\y\\\\1\\end{matrix}\\right), \\quad \\left(\\begin{matrix}0\\\\1\\\\z\\end{matrix}\\right)\\right )$$"
      ],
      "text/plain": [
       "(Vektorschar([x]), Vektorschar([y]), Vektorschar([z]))"
      ]
     },
     "execution_count": 13,
     "metadata": {},
     "output_type": "execute_result"
    }
   ],
   "source": [
    "P = v(x, 0, 0); Q = v(1, y, 1); R = v(0, 1, z)    # Ansatz \n",
    "P, Q, R                                          "
   ]
  },
  {
   "cell_type": "markdown",
   "metadata": {},
   "source": [
    " Eine Bedingung an die Befestigungspunkte ergibt sich daraus, dass sie auf einer <br>\n",
    " Geraden liegen sollen, also kollinear sind. Das bedeutet, es gilt \n",
    " $\\; \\vec{PR} = s \\cdot \\vec{PQ}\\:$ <br>\n",
    " mit irgendeinem $s$.  Zur Lösung wird die rechte Seite zum Nullvektor gemacht und <br>\n",
    " dann die linke Seite benutzt "
   ]
  },
  {
   "cell_type": "code",
   "execution_count": 14,
   "metadata": {
    "collapsed": false
   },
   "outputs": [
    {
     "data": {
      "image/png": "[encoded data removed]",
      "text/latex": [
       "$$\\left \\{ x : \\frac{s}{s - 1}, \\quad y : \\frac{1}{s}, \\quad z : s\\right \\}$$"
      ],
      "text/plain": [
       "⎧     s       1      ⎫\n",
       "⎨x: ─────, y: ─, z: s⎬\n",
       "⎩   s - 1     s      ⎭"
      ]
     },
     "execution_count": 14,
     "metadata": {},
     "output_type": "execute_result"
    }
   ],
   "source": [
    "gleichung = v(P, R) - s*v(P, Q)\n",
    "                                   \n",
    "löse(gleichung, [x, y, z])       \n"
   ]
  },
  {
   "cell_type": "markdown",
   "metadata": {},
   "source": [
    "Offensichtlich gibt es für $s=0\\,$ und $s=1\\,$ keine Lösung<br>\n",
    "\n",
    "Die berechneten Punkte sind"
   ]
  },
  {
   "cell_type": "code",
   "execution_count": 15,
   "metadata": {
    "collapsed": false
   },
   "outputs": [
    {
     "data": {
      "text/latex": [
       "$$\\left ( \\left(\\begin{matrix}\\frac{s}{s - 1}\\\\0\\\\0\\end{matrix}\\right), \\quad \\left(\\begin{matrix}1\\\\\\frac{1}{s}\\\\1\\end{matrix}\\right), \\quad \\left(\\begin{matrix}0\\\\1\\\\s\\end{matrix}\\right)\\right )$$"
      ],
      "text/plain": [
       "(Vektorschar([s]), Vektorschar([s]), Vektorschar([s]))"
      ]
     },
     "execution_count": 15,
     "metadata": {},
     "output_type": "execute_result"
    }
   ],
   "source": [
    "P = P.subs(x, s/(s-1)); Q = Q.subs(y, 1/s); R = R.subs(z, s)   \n",
    "P, Q, R     "
   ]
  },
  {
   "cell_type": "markdown",
   "metadata": {},
   "source": [
    "### Zu 2:"
   ]
  },
  {
   "cell_type": "markdown",
   "metadata": {},
   "source": [
    "### Die Strebgeradenschar\n",
    "(für alle $s$ außer $s \\in \\{0, 1\\}$)"
   ]
  },
  {
   "cell_type": "code",
   "execution_count": 16,
   "metadata": {
    "collapsed": false
   },
   "outputs": [
    {
     "data": {
      "image/png": "[encoded data removed]",
      "text/latex": [
       "$$Geradenschar(s)$$"
      ],
      "text/plain": [
       "Geradenschar(s)"
      ]
     },
     "execution_count": 16,
     "metadata": {},
     "output_type": "execute_result"
    }
   ],
   "source": [
    "# Erzeugung der Geraden auf der Basis von P und Q\n",
    "\n",
    "streb_gerade = sg = Gerade(P, v(P, Q)) \n",
    "sg"
   ]
  },
  {
   "cell_type": "code",
   "execution_count": 17,
   "metadata": {
    "collapsed": false
   },
   "outputs": [
    {
     "data": {
      "text/latex": [
       "$$\\left(\\begin{matrix}x\\\\y\\\\z\\end{matrix}\\right)=\\left(\\begin{matrix}\\frac{s}{s - 1}\\\\0\\\\0\\end{matrix}\\right)+t\\,\\left(\\begin{matrix}- \\frac{s}{s - 1} + 1\\\\\\frac{1}{s}\\\\1\\end{matrix}\\right)$$"
      ],
      "text/plain": [
       "<IPython.core.display.Math object>"
      ]
     },
     "metadata": {},
     "output_type": "display_data"
    }
   ],
   "source": [
    "sg.prg"
   ]
  },
  {
   "cell_type": "code",
   "execution_count": 18,
   "metadata": {
    "collapsed": false
   },
   "outputs": [
    {
     "data": {
      "text/latex": [
       "$$\\text{die Gleichung ist erfüllt }[t=s]$$"
      ],
      "text/plain": [
       "<IPython.core.display.Math object>"
      ]
     },
     "metadata": {},
     "output_type": "display_data"
    }
   ],
   "source": [
    "# Kontrolle durch Einsetzen in die Gleichung: auch R liegt auf \n",
    "# allen Geraden der Schar\n",
    "\n",
    "sg.Prg(R)"
   ]
  },
  {
   "cell_type": "markdown",
   "metadata": {},
   "source": [
    "### Betrachtung von zwei Elementen der Schar"
   ]
  },
  {
   "cell_type": "code",
   "execution_count": 19,
   "metadata": {
    "collapsed": false
   },
   "outputs": [
    {
     "data": {
      "image/png": "[encoded data removed]",
      "text/latex": [
       "$$\\left ( s_{1}, \\quad s_{2}, \\quad t_{1}, \\quad t_{2}\\right )$$"
      ],
      "text/plain": [
       "(s₁, s₂, t₁, t₂)"
      ]
     },
     "execution_count": 19,
     "metadata": {},
     "output_type": "execute_result"
    }
   ],
   "source": [
    "s1, s2, t1, t2 = symbols('s_1, s_2, t_1, t_2')\n",
    "s1, s2, t1, t2"
   ]
  },
  {
   "cell_type": "code",
   "execution_count": 20,
   "metadata": {
    "collapsed": false
   },
   "outputs": [],
   "source": [
    "sg1 = sg.sch_el(s1); sg2 = sg.sch_el(s2)   \n",
    "\n",
    "# sch_el - Scharelement-Methode"
   ]
  },
  {
   "cell_type": "code",
   "execution_count": 21,
   "metadata": {
    "collapsed": false
   },
   "outputs": [
    {
     "data": {
      "text/latex": [
       "$$\\left ( \\left(\\begin{matrix}\\frac{s_{1}}{s_{1} - 1} + t_{1} \\left(- \\frac{s_{1}}{s_{1} - 1} + 1\\right)\\\\\\frac{t_{1}}{s_{1}}\\\\t_{1}\\end{matrix}\\right), \\quad \\left(\\begin{matrix}\\frac{s_{2}}{s_{2} - 1} + t_{2} \\left(- \\frac{s_{2}}{s_{2} - 1} + 1\\right)\\\\\\frac{t_{2}}{s_{2}}\\\\t_{2}\\end{matrix}\\right)\\right )$$"
      ],
      "text/plain": [
       "(Vektorschar([s_1, t_1]), Vektorschar([t_2, s_2]))"
      ]
     },
     "execution_count": 21,
     "metadata": {},
     "output_type": "execute_result"
    }
   ],
   "source": [
    "sg1.pkt(t1), sg2.pkt(t2)  "
   ]
  },
  {
   "cell_type": "markdown",
   "metadata": {
    "collapsed": false
   },
   "source": [
    "Anhand dieser allgemeinen Punkte der beiden Scharelemente lassen sich die <br>\n",
    "Überlegungen von Seite 228 des Buches leicht nachvollziehen: <br><br>\n",
    "Für einen Schnittpunkt der beiden Geraden muss $t_1=t_2$ gelten ($z$-Komponente), <br>\n",
    "aus der $y$-Komponente wird $s_1=s_2$ abgeleitet, woraus dann folgt, dass auch die <br>\n",
    "Gleichungen anhand der $x$-Komponente erfüllt sind - die Geraden müßten identisch<br>\n",
    "sein; ebenso ist ableitbar, dass unterschiedliche Geraden keinen Schnittpunkt haben"
   ]
  },
  {
   "cell_type": "markdown",
   "metadata": {},
   "source": [
    "### Kontrollgrafik (Animation)"
   ]
  },
  {
   "cell_type": "code",
   "execution_count": 22,
   "metadata": {
    "collapsed": false
   },
   "outputs": [
    {
     "name": "stdout",
     "output_type": "stream",
     "text": [
      "agla: lange Rechenzeit\n"
     ]
    }
   ],
   "source": [
    "ber = (-2.7, 0.75)           # ca 8 sec            \n",
    "zeichne(g1, [g2, blau], [g3, grün], [sg, rot, 2, ber], \n",
    "      [P, 2, ber], [Q, 2, blau, ber], [R, 2, grün, ber], \n",
    "      achsen=nein, skalen=nein)   "
   ]
  },
  {
   "cell_type": "markdown",
   "metadata": {},
   "source": [
    "### Zu 3:\n",
    "\n",
    "### Berechnung der festen Richtung"
   ]
  },
  {
   "cell_type": "code",
   "execution_count": 23,
   "metadata": {
    "collapsed": false
   },
   "outputs": [],
   "source": [
    "rv = v(a, b, c)     # Ansatz für die gesuchte Richtung "
   ]
  },
  {
   "cell_type": "markdown",
   "metadata": {},
   "source": [
    "Für einen konstanten Winkel muss das Skalarprodukt der Richtungseinheitsvektoren <br>\n",
    "der Strebgeraden mit diesem Vektor konstant (gleich irgendeiner Konstanten $k$) sein "
   ]
  },
  {
   "cell_type": "code",
   "execution_count": 24,
   "metadata": {
    "collapsed": false
   },
   "outputs": [
    {
     "data": {
      "image/png": "[encoded data removed]",
      "text/latex": [
       "$$\\frac{a \\left(- \\frac{s}{s - 1} + 1\\right)}{\\sqrt{\\left(- \\frac{s}{s - 1} + 1\\right)^{2} + 1 + \\frac{1}{s^{2}}}} + \\frac{b}{s \\sqrt{\\left(- \\frac{s}{s - 1} + 1\\right)^{2} + 1 + \\frac{1}{s^{2}}}} + \\frac{c}{\\sqrt{\\left(- \\frac{s}{s - 1} + 1\\right)^{2} + 1 + \\frac{1}{s^{2}}}}$$"
      ],
      "text/plain": [
       "          ⎛    s      ⎞                                                       \n",
       "        a⋅⎜- ───── + 1⎟                                                       \n",
       "          ⎝  s - 1    ⎠                           b                           \n",
       "─────────────────────────────── + ───────────────────────────────── + ────────\n",
       "      _________________________           _________________________         __\n",
       "     ╱              2                    ╱              2                  ╱  \n",
       "    ╱  ⎛    s      ⎞        1           ╱  ⎛    s      ⎞        1         ╱  ⎛\n",
       "   ╱   ⎜- ───── + 1⎟  + 1 + ──    s⋅   ╱   ⎜- ───── + 1⎟  + 1 + ──       ╱   ⎜\n",
       "  ╱    ⎝  s - 1    ⎠         2        ╱    ⎝  s - 1    ⎠         2      ╱    ⎝\n",
       "╲╱                          s       ╲╱                          s     ╲╱      \n",
       "\n",
       "                       \n",
       "                       \n",
       "       c               \n",
       "───────────────────────\n",
       "_______________________\n",
       "            2          \n",
       "    s      ⎞        1  \n",
       "- ───── + 1⎟  + 1 + ── \n",
       "  s - 1    ⎠         2 \n",
       "                    s  "
      ]
     },
     "execution_count": 24,
     "metadata": {},
     "output_type": "execute_result"
    }
   ],
   "source": [
    "sp = sg.richt.einh_vekt ° rv \n",
    "sp"
   ]
  },
  {
   "cell_type": "code",
   "execution_count": 25,
   "metadata": {
    "collapsed": false
   },
   "outputs": [
    {
     "data": {
      "image/png": "[encoded data removed]",
      "text/latex": [
       "$$\\frac{- a s + b s - b + c s^{2} - c s}{s \\sqrt{\\frac{s^{4} - 2 s^{3} + 3 s^{2} - 2 s + 1}{s^{2} \\left(s^{2} - 2 s + 1\\right)}} \\left(s - 1\\right)}$$"
      ],
      "text/plain": [
       "                            2               \n",
       "        -a⋅s + b⋅s - b + c⋅s  - c⋅s         \n",
       "────────────────────────────────────────────\n",
       "        ____________________________        \n",
       "       ╱  4      3      2                   \n",
       "      ╱  s  - 2⋅s  + 3⋅s  - 2⋅s + 1         \n",
       "s⋅   ╱   ────────────────────────── ⋅(s - 1)\n",
       "    ╱         2 ⎛ 2          ⎞              \n",
       "  ╲╱         s ⋅⎝s  - 2⋅s + 1⎠              "
      ]
     },
     "execution_count": 25,
     "metadata": {},
     "output_type": "execute_result"
    }
   ],
   "source": [
    "aa = einfach(sp)\n",
    "aa"
   ]
  },
  {
   "cell_type": "code",
   "execution_count": 26,
   "metadata": {
    "collapsed": false
   },
   "outputs": [
    {
     "data": {
      "image/png": "[encoded data removed]",
      "text/latex": [
       "$$s^{4} - 2 s^{3} + 3 s^{2} - 2 s + 1$$"
      ],
      "text/plain": [
       " 4      3      2          \n",
       "s  - 2⋅s  + 3⋅s  - 2⋅s + 1"
      ]
     },
     "execution_count": 26,
     "metadata": {},
     "output_type": "execute_result"
    }
   ],
   "source": [
    "n = s^4-2*s^3+3*s^2-2*s+1\n",
    "n "
   ]
  },
  {
   "cell_type": "markdown",
   "metadata": {},
   "source": [
    "Mit "
   ]
  },
  {
   "cell_type": "code",
   "execution_count": 27,
   "metadata": {
    "collapsed": false
   },
   "outputs": [
    {
     "data": {
      "image/png": "[encoded data removed]",
      "text/latex": [
       "$$\\left(s^{2} - s + 1\\right)^{2}$$"
      ],
      "text/plain": [
       "            2\n",
       "⎛ 2        ⎞ \n",
       "⎝s  - s + 1⎠ "
      ]
     },
     "execution_count": 27,
     "metadata": {},
     "output_type": "execute_result"
    }
   ],
   "source": [
    "factor(n)     # SymPy-Anweisungen (factor, collect, ... )\n",
    "              # wurden nicht eingedeutscht"
   ]
  },
  {
   "cell_type": "markdown",
   "metadata": {
    "collapsed": false
   },
   "source": [
    "heben sich Quadrieren und Wurzelziehen auf, im Nenner verbleibt der Ausdruck <br>\n",
    "in den Klammern: $\\;s^2-s+1$<br><br>\n",
    "Also müssen bei jedem $s$ die Größen"
   ]
  },
  {
   "cell_type": "code",
   "execution_count": 28,
   "metadata": {
    "collapsed": false
   },
   "outputs": [
    {
     "data": {
      "image/png": "[encoded data removed]",
      "text/latex": [
       "$$\\left ( - b + c s^{2} + s \\left(- a + b - c\\right), \\quad k s^{2} - k s + k\\right )$$"
      ],
      "text/plain": [
       "⎛        2                      2          ⎞\n",
       "⎝-b + c⋅s  + s⋅(-a + b - c), k⋅s  - k⋅s + k⎠"
      ]
     },
     "execution_count": 28,
     "metadata": {},
     "output_type": "execute_result"
    }
   ],
   "source": [
    "collect(-a*s + b*s - b + c*s^2 - c*s, s), expand(k * (s^2 - s + 1))"
   ]
  },
  {
   "cell_type": "markdown",
   "metadata": {
    "collapsed": false
   },
   "source": [
    "gleich sein; der Koeffizientenvergleich zeigt: das ist nur möglich bei"
   ]
  },
  {
   "cell_type": "code",
   "execution_count": 29,
   "metadata": {
    "collapsed": false
   },
   "outputs": [
    {
     "data": {
      "image/png": "[encoded data removed]",
      "text/latex": [
       "$$\\left ( - k, \\quad - k, \\quad k\\right )$$"
      ],
      "text/plain": [
       "(-k, -k, k)"
      ]
     },
     "execution_count": 29,
     "metadata": {},
     "output_type": "execute_result"
    }
   ],
   "source": [
    "c = k; b = -k; a = -k\n",
    "a, b, c"
   ]
  },
  {
   "cell_type": "markdown",
   "metadata": {},
   "source": [
    "(die Werte für $b$ und $c$ sind ablesbar, $a$ ist danach aus $\\;-a+b-c = -k\\:$\n",
    "leicht <br>\n",
    "zu berechnen)<br><br>\n",
    "Damit ergibt sich für den gesuchten Richtungsvektor"
   ]
  },
  {
   "cell_type": "code",
   "execution_count": 30,
   "metadata": {
    "collapsed": false
   },
   "outputs": [
    {
     "data": {
      "text/latex": [
       "$$\\left(\\begin{matrix}- k\\\\- k\\\\k\\end{matrix}\\right)$$"
      ],
      "text/plain": [
       "Vektorschar([k])"
      ]
     },
     "execution_count": 30,
     "metadata": {},
     "output_type": "execute_result"
    }
   ],
   "source": [
    "rv = v(-k, -k, k)\n",
    "rv"
   ]
  },
  {
   "cell_type": "markdown",
   "metadata": {},
   "source": [
    "$k$ kann aus ihm eliminiert werden"
   ]
  },
  {
   "cell_type": "code",
   "execution_count": 31,
   "metadata": {
    "collapsed": false
   },
   "outputs": [
    {
     "data": {
      "text/latex": [
       "$$\\left(\\begin{matrix}-1\\\\-1\\\\1\\end{matrix}\\right)$$"
      ],
      "text/plain": [
       "Vektor"
      ]
     },
     "execution_count": 31,
     "metadata": {},
     "output_type": "execute_result"
    }
   ],
   "source": [
    "rv = 1/k * rv\n",
    "rv"
   ]
  },
  {
   "cell_type": "markdown",
   "metadata": {},
   "source": [
    "### Winkel der Strebgeraden mit diesem Vektor"
   ]
  },
  {
   "cell_type": "code",
   "execution_count": 32,
   "metadata": {
    "collapsed": false
   },
   "outputs": [
    {
     "data": {
      "image/png": "[encoded data removed]",
      "text/latex": [
       "$$\\frac{\\sqrt{3}}{3} \\left(- \\frac{- \\frac{s}{s - 1} + 1}{\\sqrt{\\left(- \\frac{s}{s - 1} + 1\\right)^{2} + 1 + \\frac{1}{s^{2}}}} + \\frac{1}{\\sqrt{\\left(- \\frac{s}{s - 1} + 1\\right)^{2} + 1 + \\frac{1}{s^{2}}}} - \\frac{1}{s \\sqrt{\\left(- \\frac{s}{s - 1} + 1\\right)^{2} + 1 + \\frac{1}{s^{2}}}}\\right)$$"
      ],
      "text/plain": [
       "   ⎛                s                                                         \n",
       "   ⎜            - ───── + 1                                                   \n",
       "   ⎜              s - 1                                1                      \n",
       "√3⋅⎜- ─────────────────────────────── + ─────────────────────────────── - ────\n",
       "   ⎜        _________________________         _________________________       \n",
       "   ⎜       ╱              2                  ╱              2                 \n",
       "   ⎜      ╱  ⎛    s      ⎞        1         ╱  ⎛    s      ⎞        1         \n",
       "   ⎜     ╱   ⎜- ───── + 1⎟  + 1 + ──       ╱   ⎜- ───── + 1⎟  + 1 + ──    s⋅  \n",
       "   ⎜    ╱    ⎝  s - 1    ⎠         2      ╱    ⎝  s - 1    ⎠         2        \n",
       "   ⎝  ╲╱                          s     ╲╱                          s       ╲╱\n",
       "──────────────────────────────────────────────────────────────────────────────\n",
       "                                                     3                        \n",
       "\n",
       "                             ⎞\n",
       "                             ⎟\n",
       "            1                ⎟\n",
       "─────────────────────────────⎟\n",
       "    _________________________⎟\n",
       "   ╱              2          ⎟\n",
       "  ╱  ⎛    s      ⎞        1  ⎟\n",
       " ╱   ⎜- ───── + 1⎟  + 1 + ── ⎟\n",
       "╱    ⎝  s - 1    ⎠         2 ⎟\n",
       "                          s  ⎠\n",
       "──────────────────────────────\n",
       "                              "
      ]
     },
     "execution_count": 32,
     "metadata": {},
     "output_type": "execute_result"
    }
   ],
   "source": [
    "cosdelta = sg.richt.einh_vekt * rv / rv.betrag\n",
    "cosdelta"
   ]
  },
  {
   "cell_type": "code",
   "execution_count": 33,
   "metadata": {
    "collapsed": false,
    "scrolled": true
   },
   "outputs": [
    {
     "data": {
      "image/png": "[encoded data removed]",
      "text/latex": [
       "$$\\frac{\\sqrt{3} \\left(s^{2} - s + 1\\right)}{3 s \\sqrt{\\frac{s^{4} - 2 s^{3} + 3 s^{2} - 2 s + 1}{s^{2} \\left(s^{2} - 2 s + 1\\right)}} \\left(s - 1\\right)}$$"
      ],
      "text/plain": [
       "                  ⎛ 2        ⎞                \n",
       "               √3⋅⎝s  - s + 1⎠                \n",
       "──────────────────────────────────────────────\n",
       "          ____________________________        \n",
       "         ╱  4      3      2                   \n",
       "        ╱  s  - 2⋅s  + 3⋅s  - 2⋅s + 1         \n",
       "3⋅s⋅   ╱   ────────────────────────── ⋅(s - 1)\n",
       "      ╱         2 ⎛ 2          ⎞              \n",
       "    ╲╱         s ⋅⎝s  - 2⋅s + 1⎠              "
      ]
     },
     "execution_count": 33,
     "metadata": {},
     "output_type": "execute_result"
    }
   ],
   "source": [
    "einfach(cosdelta)   # das wird mit den obigen Überlegungen vereinfacht "
   ]
  },
  {
   "cell_type": "code",
   "execution_count": 34,
   "metadata": {
    "collapsed": false
   },
   "outputs": [
    {
     "data": {
      "image/png": "[encoded data removed]",
      "text/latex": [
       "$$\\left ( \\frac{\\sqrt{3}}{3}, \\quad \\frac{180}{\\pi} \\operatorname{acos}{\\left (\\frac{\\sqrt{3}}{3} \\right )}, \\quad 54.74\\right )$$"
      ],
      "text/plain": [
       "⎛            ⎛√3⎞       ⎞\n",
       "⎜    180⋅acos⎜──⎟       ⎟\n",
       "⎜√3          ⎝3 ⎠       ⎟\n",
       "⎜──, ────────────, 54.74⎟\n",
       "⎝3        π             ⎠"
      ]
     },
     "execution_count": 34,
     "metadata": {},
     "output_type": "execute_result"
    }
   ],
   "source": [
    "cosdelta = sqrt(3)/3\n",
    "\n",
    "cosdelta, arccosg(cosdelta), arccosg(cosdelta).n(4)   \n",
    "\n",
    "# (die verwendete agla-Funktion arccosg berechnet den Winkel in Grad)\n"
   ]
  },
  {
   "cell_type": "markdown",
   "metadata": {},
   "source": [
    "### Verhalten der ausgezeichneten Geraden\n",
    "bei der Rotation um eine der Würfeldiagonalen"
   ]
  },
  {
   "cell_type": "code",
   "execution_count": 35,
   "metadata": {
    "collapsed": false
   },
   "outputs": [
    {
     "data": {
      "text/latex": [
       "$$\\left(\\begin{matrix}x\\\\y\\\\z\\end{matrix}\\right)=\\left(\\begin{matrix}1\\\\1\\\\0\\end{matrix}\\right)+t\\,\\left(\\begin{matrix}-1\\\\-1\\\\1\\end{matrix}\\right)$$"
      ],
      "text/plain": [
       "<IPython.core.display.Math object>"
      ]
     },
     "metadata": {},
     "output_type": "display_data"
    }
   ],
   "source": [
    "diagonale = dg = Gerade(e[2], v(e[2], e[4]))   # Würfeldiagonale\n",
    "dg.prg"
   ]
  },
  {
   "cell_type": "code",
   "execution_count": 36,
   "metadata": {
    "collapsed": false
   },
   "outputs": [],
   "source": [
    "abb = drehung(dg, 120)   # Winkel in Grad"
   ]
  },
  {
   "cell_type": "code",
   "execution_count": 37,
   "metadata": {
    "collapsed": false
   },
   "outputs": [
    {
     "data": {
      "text/plain": [
       "(True, True, True)"
      ]
     },
     "execution_count": 37,
     "metadata": {},
     "output_type": "execute_result"
    }
   ],
   "source": [
    "identisch(g1.bild(abb), g2), identisch(g2.bild(abb), g3), \\\n",
    "identisch(g3.bild(abb), g1), \n",
    "\n",
    "# die Geraden gehen bei einer Drehung um 120° ineinander über\n"
   ]
  },
  {
   "cell_type": "markdown",
   "metadata": {},
   "source": [
    "### Kontrollgrafik (Animation anhand einer Geraden)\n",
    "Die gemeinsame Darstellung aller 3 Geraden ist möglich, erfordert aber die <br>\n",
    "3-fache Rechenzeit<br>"
   ]
  },
  {
   "cell_type": "code",
   "execution_count": 38,
   "metadata": {
    "collapsed": false
   },
   "outputs": [],
   "source": [
    "abb = drehung(dg, u)   # u - allgemeiner Winkel"
   ]
  },
  {
   "cell_type": "code",
   "execution_count": 39,
   "metadata": {
    "collapsed": false
   },
   "outputs": [
    {
     "name": "stdout",
     "output_type": "stream",
     "text": [
      "agla: lange Rechenzeit\n"
     ]
    }
   ],
   "source": [
    "# g2 geht in g3 über; ca 10 sec\n",
    "\n",
    "ber = 0, 120\n",
    "zeichne([g2, 2, blau], [g3, 2, grün], [g2.bild(abb), 2, rot, ber], dg)   "
   ]
  },
  {
   "cell_type": "markdown",
   "metadata": {
    "collapsed": true
   },
   "source": [
    "### Untersuchung der Schnittkurve der Strebgeraden mit der <br>Ursprungsebene"
   ]
  },
  {
   "cell_type": "code",
   "execution_count": 40,
   "metadata": {
    "collapsed": false
   },
   "outputs": [
    {
     "data": {
      "image/png": "[encoded data removed]",
      "text/latex": [
       "$$- x - y + z=0$$"
      ],
      "text/plain": [
       "-x - y + z = 0"
      ]
     },
     "execution_count": 40,
     "metadata": {},
     "output_type": "execute_result"
    }
   ],
   "source": [
    "E = Ebene(O, rv)    # O ist der Ursprung, rv ist Normalenvektor\n",
    "E.koord            "
   ]
  },
  {
   "cell_type": "code",
   "execution_count": 41,
   "metadata": {
    "collapsed": false
   },
   "outputs": [
    {
     "data": {
      "text/latex": [
       "$$\\left(\\begin{matrix}\\frac{s \\left(s - 1\\right)}{s^{2} - s + 1}\\\\\\frac{s}{s \\left(s - 1\\right) + 1}\\\\\\frac{s^{2}}{s \\left(s - 1\\right) + 1}\\end{matrix}\\right)$$"
      ],
      "text/plain": [
       "Vektorschar([s])"
      ]
     },
     "execution_count": 41,
     "metadata": {},
     "output_type": "execute_result"
    }
   ],
   "source": [
    "S = sg.schnitt(E).einfach   # die Schnittpunktschar \n",
    "S"
   ]
  },
  {
   "cell_type": "markdown",
   "metadata": {},
   "source": [
    "Eine Grafik lässt vermuten, dass alle Schnittpunkte auf einem Kreis liegen:"
   ]
  },
  {
   "cell_type": "code",
   "execution_count": 42,
   "metadata": {
    "collapsed": false
   },
   "outputs": [],
   "source": [
    "ss = [0, 12, 10, 50, 100, 1/2, 1/30, 1/100, -2, -10, -50, -100, \n",
    "          -1/2, -1/30, -1/100] \n",
    "\n",
    "SS = [ S.sch_el(s) for s in ss ]  # einige Punkte der Schar   \n",
    "\n",
    "sicht_box(3)      \n",
    "zeichne(E, *[p for p in SS] )"
   ]
  },
  {
   "cell_type": "markdown",
   "metadata": {},
   "source": [
    "Nachweis, dass ein Kreis vorliegt und Ermittlung seiner Parameter  "
   ]
  },
  {
   "cell_type": "code",
   "execution_count": 43,
   "metadata": {
    "collapsed": false
   },
   "outputs": [
    {
     "data": {
      "text/latex": [
       "$$\\left ( \\left(\\begin{matrix}0\\\\0\\\\0\\end{matrix}\\right), \\quad \\left(\\begin{matrix}0\\\\1\\\\1\\end{matrix}\\right), \\quad \\left(\\begin{matrix}\\frac{2}{3}\\\\- \\frac{1}{3}\\\\\\frac{1}{3}\\end{matrix}\\right)\\right )$$"
      ],
      "text/plain": [
       "(Vektor, Vektor, Vektor)"
      ]
     },
     "execution_count": 43,
     "metadata": {},
     "output_type": "execute_result"
    }
   ],
   "source": [
    "P, Q, R = [S.sch_el(s) for s in (0, 1, -1)]   # 3 Punkte der Kurve\n",
    "P, Q, R"
   ]
  },
  {
   "cell_type": "code",
   "execution_count": 44,
   "metadata": {
    "collapsed": false
   },
   "outputs": [
    {
     "data": {
      "image/png": "[encoded data removed]",
      "text/latex": [
       "$$\\left ( y + z - 1=0, \\quad x - 2 y - z + 1=0\\right )$$"
      ],
      "text/plain": [
       "(y + z - 1 = 0, x - 2*y - z + 1 = 0)"
      ]
     },
     "execution_count": 44,
     "metadata": {},
     "output_type": "execute_result"
    }
   ],
   "source": [
    "mPQ = Ebene(1/2*(P+Q), v(P, Q))   # 2 Mittelsenkrechte\n",
    "\n",
    "mQR = Ebene(1/2*(Q+R), v(Q, R))   # (Ebenen)\n",
    "\n",
    "mPQ.koord, mQR.koord\n"
   ]
  },
  {
   "cell_type": "code",
   "execution_count": 45,
   "metadata": {
    "collapsed": false
   },
   "outputs": [
    {
     "data": {
      "text/latex": [
       "$$\\left(\\begin{matrix}\\frac{1}{3}\\\\\\frac{1}{3}\\\\\\frac{2}{3}\\end{matrix}\\right)$$"
      ],
      "text/plain": [
       "Vektor"
      ]
     },
     "execution_count": 45,
     "metadata": {},
     "output_type": "execute_result"
    }
   ],
   "source": [
    "h = mPQ.schnitt(mQR)   # eine Gerade\n",
    "M = h.schnitt(E)\n",
    "M                      # der potentielle Mittelpunkt"
   ]
  },
  {
   "cell_type": "code",
   "execution_count": 46,
   "metadata": {
    "collapsed": false
   },
   "outputs": [
    {
     "data": {
      "image/png": "[encoded data removed]",
      "text/latex": [
       "$$\\frac{\\sqrt{6}}{3}$$"
      ],
      "text/plain": [
       "√6\n",
       "──\n",
       "3 "
      ]
     },
     "execution_count": 46,
     "metadata": {},
     "output_type": "execute_result"
    }
   ],
   "source": [
    "einfach(M.abstand(S))"
   ]
  },
  {
   "cell_type": "markdown",
   "metadata": {},
   "source": [
    "Alle Punkte der Schar haben den gleichen Abstand zu $M$; damit liegt ein Kreis vor, \n",
    "<br>sein Mittelpunkt ist $M$, Radius ist der einheitliche Abstand"
   ]
  },
  {
   "cell_type": "code",
   "execution_count": 47,
   "metadata": {
    "collapsed": false
   },
   "outputs": [
    {
     "data": {
      "image/png": "[encoded data removed]",
      "text/latex": [
       "$$\\frac{\\sqrt{6}}{3}$$"
      ],
      "text/plain": [
       "√6\n",
       "──\n",
       "3 "
      ]
     },
     "execution_count": 47,
     "metadata": {},
     "output_type": "execute_result"
    }
   ],
   "source": [
    "r = M.abstand(P); r"
   ]
  },
  {
   "cell_type": "markdown",
   "metadata": {
    "collapsed": true
   },
   "source": [
    "### Untersuchung der Schnittkurve der Strebgeraden mit <br>der allgemeinen Ebene"
   ]
  },
  {
   "cell_type": "code",
   "execution_count": 48,
   "metadata": {
    "collapsed": false
   },
   "outputs": [
    {
     "data": {
      "image/png": "[encoded data removed]",
      "text/latex": [
       "$$- c - x - y + z=0$$"
      ],
      "text/plain": [
       "-c - x - y + z = 0"
      ]
     },
     "execution_count": 48,
     "metadata": {},
     "output_type": "execute_result"
    }
   ],
   "source": [
    "c = Symbol('c')   # c wurde oben mit einem Wert belegt\n",
    "\n",
    "E = Ebene(-1, -1, 1, -c)   # Parallele zur obigen Ursprungsebene\n",
    "E.koord                    "
   ]
  },
  {
   "cell_type": "code",
   "execution_count": 49,
   "metadata": {
    "collapsed": false
   },
   "outputs": [
    {
     "data": {
      "text/latex": [
       "$$\\left(\\begin{matrix}\\frac{s}{s \\left(s - 1\\right) + 1} \\left(- \\frac{s}{s - 1} + 1\\right) \\left(c s - c + s\\right) + \\frac{s}{s - 1}\\\\\\frac{c s - c + s}{s \\left(s - 1\\right) + 1}\\\\\\frac{s \\left(c s - c + s\\right)}{s \\left(s - 1\\right) + 1}\\end{matrix}\\right)$$"
      ],
      "text/plain": [
       "Vektorschar([s, c])"
      ]
     },
     "execution_count": 49,
     "metadata": {},
     "output_type": "execute_result"
    }
   ],
   "source": [
    "S = sg.schnitt(E); S"
   ]
  },
  {
   "cell_type": "code",
   "execution_count": 50,
   "metadata": {
    "collapsed": false
   },
   "outputs": [
    {
     "data": {
      "text/latex": [
       "$$\\text{die Gleichung ist erfüllt}$$"
      ],
      "text/plain": [
       "<IPython.core.display.Math object>"
      ]
     },
     "metadata": {},
     "output_type": "display_data"
    }
   ],
   "source": [
    "E.Koord(S)   # Kontrolle durch Einsetzen, ob alle Punkte S in E liegen"
   ]
  },
  {
   "cell_type": "markdown",
   "metadata": {},
   "source": [
    "Auswahl von drei Kurvenpunkten:"
   ]
  },
  {
   "cell_type": "code",
   "execution_count": 51,
   "metadata": {
    "collapsed": false
   },
   "outputs": [
    {
     "data": {
      "text/latex": [
       "$$\\left(\\begin{matrix}\\mathrm{NaN}\\\\1\\\\1\\end{matrix}\\right)$$"
      ],
      "text/plain": [
       "Vektor"
      ]
     },
     "execution_count": 51,
     "metadata": {},
     "output_type": "execute_result"
    }
   ],
   "source": [
    "S.subs(s, 1)   # s=1 ist ungeeignet; NaN - not a number"
   ]
  },
  {
   "cell_type": "code",
   "execution_count": 52,
   "metadata": {
    "collapsed": false
   },
   "outputs": [
    {
     "data": {
      "text/latex": [
       "$$\\left ( \\left(\\begin{matrix}0\\\\- c\\\\0\\end{matrix}\\right), \\quad \\left(\\begin{matrix}- \\frac{2 c}{3} + \\frac{2}{3}\\\\\\frac{c}{3} + \\frac{2}{3}\\\\\\frac{2 c}{3} + \\frac{4}{3}\\end{matrix}\\right), \\quad \\left(\\begin{matrix}\\frac{c}{3} + \\frac{2}{3}\\\\- \\frac{2 c}{3} - \\frac{1}{3}\\\\\\frac{2 c}{3} + \\frac{1}{3}\\end{matrix}\\right)\\right )$$"
      ],
      "text/plain": [
       "(Vektorschar([c]), Vektorschar([c]), Vektorschar([c]))"
      ]
     },
     "execution_count": 52,
     "metadata": {},
     "output_type": "execute_result"
    }
   ],
   "source": [
    "P, Q, R = [S.subs(s, t) for t in (0, 2, -1)]\n",
    "\n",
    "P, Q, R\n"
   ]
  },
  {
   "cell_type": "code",
   "execution_count": 53,
   "metadata": {
    "collapsed": false
   },
   "outputs": [
    {
     "data": {
      "image/png": "[encoded data removed]",
      "text/latex": [
       "$$\\left ( - \\frac{2 c}{3} x + \\frac{4 c}{3} y + \\frac{2 c}{3} z - \\frac{2 c}{3} + \\frac{2 x}{3} + \\frac{2 y}{3} + \\frac{4 z}{3} - \\frac{4}{3}=0, \\quad c x - c y - y - z + 1=0\\right )$$"
      ],
      "text/plain": [
       "(-2*c*x/3 + 4*c*y/3 + 2*c*z/3 - 2*c/3 + 2*x/3 + 2*y/3 + 4*z/3 - 4/3 = 0, c*x -\n",
       " c*y - y - z + 1 = 0)"
      ]
     },
     "execution_count": 53,
     "metadata": {},
     "output_type": "execute_result"
    }
   ],
   "source": [
    "mPQ = Ebene(1/2*(P+Q), v(P, Q))   # 2 Mittelsenkrechte\n",
    "\n",
    "mQR = Ebene(1/2*(Q+R), v(Q, R))   # (Ebenen)\n",
    "\n",
    "mPQ.koord,  mQR.koord\n"
   ]
  },
  {
   "cell_type": "code",
   "execution_count": 54,
   "metadata": {
    "collapsed": false
   },
   "outputs": [
    {
     "data": {
      "image/png": "[encoded data removed]",
      "text/latex": [
       "$$Geradenschar(c)$$"
      ],
      "text/plain": [
       "Geradenschar(c)"
      ]
     },
     "execution_count": 54,
     "metadata": {},
     "output_type": "execute_result"
    }
   ],
   "source": [
    "h = mPQ.schnitt(mQR)\n",
    "h"
   ]
  },
  {
   "cell_type": "code",
   "execution_count": 55,
   "metadata": {
    "collapsed": false
   },
   "outputs": [
    {
     "data": {
      "text/latex": [
       "$$\\left(\\begin{matrix}x\\\\y\\\\z\\end{matrix}\\right)=\\left(\\begin{matrix}- \\frac{2 c}{3} + \\frac{1}{6}\\\\- \\frac{2 c}{3} + \\frac{1}{6}\\\\\\frac{2 c}{3} + \\frac{5}{6}\\end{matrix}\\right)+s\\,\\left(\\begin{matrix}2 c^{2} + 2 c + 1\\\\2 c^{2} + 2 c + 1\\\\- 2 c^{2} - 2 c - 1\\end{matrix}\\right)$$"
      ],
      "text/plain": [
       "<IPython.core.display.Math object>"
      ]
     },
     "metadata": {},
     "output_type": "display_data"
    }
   ],
   "source": [
    "h.prg"
   ]
  },
  {
   "cell_type": "code",
   "execution_count": 56,
   "metadata": {
    "collapsed": false
   },
   "outputs": [
    {
     "data": {
      "text/latex": [
       "$$\\left(\\begin{matrix}- \\frac{c}{3} + \\frac{1}{3}\\\\- \\frac{c}{3} + \\frac{1}{3}\\\\\\frac{c}{3} + \\frac{2}{3}\\end{matrix}\\right)$$"
      ],
      "text/plain": [
       "Vektorschar([c])"
      ]
     },
     "execution_count": 56,
     "metadata": {},
     "output_type": "execute_result"
    }
   ],
   "source": [
    "M = E.schnitt(h).einfach    # der (potentielle) Mittelpunkt des Kreises\n",
    "M"
   ]
  },
  {
   "cell_type": "code",
   "execution_count": 57,
   "metadata": {
    "collapsed": false
   },
   "outputs": [
    {
     "data": {
      "image/png": "[encoded data removed]",
      "text/latex": [
       "$$\\frac{c^{2} s^{6}}{s^{6} - 4 s^{5} + 8 s^{4} - 10 s^{3} + 8 s^{2} - 4 s + 1} - \\frac{2 c^{2} s^{5}}{s^{6} - 4 s^{5} + 8 s^{4} - 10 s^{3} + 8 s^{2} - 4 s + 1} - \\frac{2 c^{2} s^{5}}{s^{5} - 3 s^{4} + 5 s^{3} - 5 s^{2} + 3 s - 1} + \\frac{c^{2} s^{4}}{s^{6} - 4 s^{5} + 8 s^{4} - 10 s^{3} + 8 s^{2} - 4 s + 1} + \\frac{4 c^{2} s^{4}}{s^{5} - 3 s^{4} + 5 s^{3} - 5 s^{2} + 3 s - 1} + \\frac{2 c^{2} s^{4}}{s^{4} - 2 s^{3} + 3 s^{2} - 2 s + 1} - \\frac{2 c^{2} s^{3}}{s^{5} - 3 s^{4} + 5 s^{3} - 5 s^{2} + 3 s - 1} - \\frac{4 c^{2} s^{3}}{s^{4} - 2 s^{3} + 3 s^{2} - 2 s + 1} - \\frac{2 c^{2} s^{3}}{3 s^{3} - 6 s^{2} + 6 s - 3} + \\frac{3 c^{2} s^{2}}{s^{4} - 2 s^{3} + 3 s^{2} - 2 s + 1} + \\frac{2 c^{2} s^{2}}{3 s^{3} - 6 s^{2} + 6 s - 3} - \\frac{2 c^{2} s}{s^{4} - 2 s^{3} + 3 s^{2} - 2 s + 1} + \\frac{2 c^{2} s}{3 s^{2} - 3 s + 3} + \\frac{c^{2}}{3} + \\frac{c^{2}}{s^{4} - 2 s^{3} + 3 s^{2} - 2 s + 1} - \\frac{2 c^{2}}{3 s^{2} - 3 s + 3} + \\frac{2 c s^{6}}{s^{6} - 4 s^{5} + 8 s^{4} - 10 s^{3} + 8 s^{2} - 4 s + 1} - \\frac{2 c s^{5}}{s^{6} - 4 s^{5} + 8 s^{4} - 10 s^{3} + 8 s^{2} - 4 s + 1} - \\frac{4 c s^{5}}{s^{5} - 3 s^{4} + 5 s^{3} - 5 s^{2} + 3 s - 1} + \\frac{4 c s^{4}}{s^{5} - 3 s^{4} + 5 s^{3} - 5 s^{2} + 3 s - 1} + \\frac{4 c s^{4}}{s^{4} - 2 s^{3} + 3 s^{2} - 2 s + 1} - \\frac{2 c s^{4}}{s^{4} - 3 s^{3} + 4 s^{2} - 3 s + 1} - \\frac{4 c s^{3}}{s^{4} - 2 s^{3} + 3 s^{2} - 2 s + 1} + \\frac{2 c s^{3}}{s^{4} - 3 s^{3} + 4 s^{2} - 3 s + 1} + \\frac{2 c s^{3}}{s^{3} - 2 s^{2} + 2 s - 1} + \\frac{2 c s^{2}}{s^{4} - 2 s^{3} + 3 s^{2} - 2 s + 1} - \\frac{2 c s^{2}}{3 s^{3} - 6 s^{2} + 6 s - 3} - \\frac{2 c s^{2}}{s^{3} - 2 s^{2} + 2 s - 1} - \\frac{2 c s^{2}}{s^{2} - s + 1} - \\frac{2 c s}{s^{4} - 2 s^{3} + 3 s^{2} - 2 s + 1} + \\frac{2 c s}{s^{2} - s + 1} + \\frac{2 c s}{3 s - 3} + \\frac{2 c}{3 s^{2} - 3 s + 3} + \\frac{s^{6}}{s^{6} - 4 s^{5} + 8 s^{4} - 10 s^{3} + 8 s^{2} - 4 s + 1} - \\frac{2 s^{5}}{s^{5} - 3 s^{4} + 5 s^{3} - 5 s^{2} + 3 s - 1} + \\frac{2 s^{4}}{s^{4} - 2 s^{3} + 3 s^{2} - 2 s + 1} - \\frac{2 s^{4}}{s^{4} - 3 s^{3} + 4 s^{2} - 3 s + 1} + \\frac{2 s^{3}}{3 s^{3} - 6 s^{2} + 6 s - 3} + \\frac{2 s^{3}}{s^{3} - 2 s^{2} + 2 s - 1} + \\frac{s^{2}}{s^{4} - 2 s^{3} + 3 s^{2} - 2 s + 1} - \\frac{2 s^{2}}{s^{2} - s + 1} + \\frac{s^{2}}{s^{2} - 2 s + 1} - \\frac{2 s}{3 s^{2} - 3 s + 3} - \\frac{2 s}{3 s - 3} + \\frac{2}{3}$$"
      ],
      "text/plain": [
       "                   2  6                                         2  5          \n",
       "                  c ⋅s                                       2⋅c ⋅s           \n",
       "───────────────────────────────────────── - ──────────────────────────────────\n",
       " 6      5      4       3      2              6      5      4       3      2   \n",
       "s  - 4⋅s  + 8⋅s  - 10⋅s  + 8⋅s  - 4⋅s + 1   s  - 4⋅s  + 8⋅s  - 10⋅s  + 8⋅s  - \n",
       "\n",
       "                          2  5                                   2  4         \n",
       "                       2⋅c ⋅s                                   c ⋅s          \n",
       "─────── - ───────────────────────────────── + ────────────────────────────────\n",
       "           5      4      3      2              6      5      4       3      2 \n",
       "4⋅s + 1   s  - 3⋅s  + 5⋅s  - 5⋅s  + 3⋅s - 1   s  - 4⋅s  + 8⋅s  - 10⋅s  + 8⋅s  \n",
       "\n",
       "                            2  4                            2  4              \n",
       "                         4⋅c ⋅s                          2⋅c ⋅s               \n",
       "───────── + ───────────────────────────────── + ────────────────────────── - ─\n",
       "             5      4      3      2              4      3      2              \n",
       "- 4⋅s + 1   s  - 3⋅s  + 5⋅s  - 5⋅s  + 3⋅s - 1   s  - 2⋅s  + 3⋅s  - 2⋅s + 1   s\n",
       "\n",
       "               2  3                            2  3                       2  3\n",
       "            2⋅c ⋅s                          4⋅c ⋅s                     2⋅c ⋅s \n",
       "──────────────────────────────── - ────────────────────────── - ──────────────\n",
       "5      4      3      2              4      3      2                3      2   \n",
       "  - 3⋅s  + 5⋅s  - 5⋅s  + 3⋅s - 1   s  - 2⋅s  + 3⋅s  - 2⋅s + 1   3⋅s  - 6⋅s  + \n",
       "\n",
       "                      2  2                       2  2                       2 \n",
       "                   3⋅c ⋅s                     2⋅c ⋅s                     2⋅c ⋅\n",
       "─────── + ────────────────────────── + ───────────────────── - ───────────────\n",
       "           4      3      2                3      2              4      3      \n",
       "6⋅s - 3   s  - 2⋅s  + 3⋅s  - 2⋅s + 1   3⋅s  - 6⋅s  + 6⋅s - 3   s  - 2⋅s  + 3⋅s\n",
       "\n",
       "                     2          2                2                       2    \n",
       "s                 2⋅c ⋅s       c                c                     2⋅c     \n",
       "─────────── + ────────────── + ── + ────────────────────────── - ─────────────\n",
       "2               ⎛ 2        ⎞   3     4      3      2               ⎛ 2        \n",
       "  - 2⋅s + 1   3⋅⎝s  - s + 1⎠        s  - 2⋅s  + 3⋅s  - 2⋅s + 1   3⋅⎝s  - s + 1\n",
       "\n",
       "                           6                                           5      \n",
       "                      2⋅c⋅s                                       2⋅c⋅s       \n",
       "─ + ───────────────────────────────────────── - ──────────────────────────────\n",
       "⎞    6      5      4       3      2              6      5      4       3      \n",
       "⎠   s  - 4⋅s  + 8⋅s  - 10⋅s  + 8⋅s  - 4⋅s + 1   s  - 4⋅s  + 8⋅s  - 10⋅s  + 8⋅s\n",
       "\n",
       "                                 5                                   4        \n",
       "                            4⋅c⋅s                               4⋅c⋅s         \n",
       "─────────── - ───────────────────────────────── + ────────────────────────────\n",
       "2              5      4      3      2              5      4      3      2     \n",
       "  - 4⋅s + 1   s  - 3⋅s  + 5⋅s  - 5⋅s  + 3⋅s - 1   s  - 3⋅s  + 5⋅s  - 5⋅s  + 3⋅\n",
       "\n",
       "                       4                            4                         \n",
       "                  4⋅c⋅s                        2⋅c⋅s                        4⋅\n",
       "───── + ────────────────────────── - ────────────────────────── - ────────────\n",
       "         4      3      2              4      3      2              4      3   \n",
       "s - 1   s  - 2⋅s  + 3⋅s  - 2⋅s + 1   s  - 3⋅s  + 4⋅s  - 3⋅s + 1   s  - 2⋅s  + \n",
       "\n",
       "   3                            3                         3                   \n",
       "c⋅s                        2⋅c⋅s                     2⋅c⋅s                    \n",
       "────────────── + ────────────────────────── + ─────────────────── + ──────────\n",
       "   2              4      3      2              3      2              4      3 \n",
       "3⋅s  - 2⋅s + 1   s  - 3⋅s  + 4⋅s  - 3⋅s + 1   s  - 2⋅s  + 2⋅s - 1   s  - 2⋅s  \n",
       "\n",
       "     2                          2                      2                2     \n",
       "2⋅c⋅s                      2⋅c⋅s                  2⋅c⋅s            2⋅c⋅s      \n",
       "──────────────── - ───────────────────── - ─────────────────── - ────────── - \n",
       "     2                3      2              3      2              2           \n",
       "+ 3⋅s  - 2⋅s + 1   3⋅s  - 6⋅s  + 6⋅s - 3   s  - 2⋅s  + 2⋅s - 1   s  - s + 1   \n",
       "\n",
       "                                                                              \n",
       "          2⋅c⋅s                2⋅c⋅s        2⋅c⋅s          2⋅c                \n",
       "────────────────────────── + ────────── + ───────── + ────────────── + ───────\n",
       " 4      3      2              2           3⋅(s - 1)     ⎛ 2        ⎞    6     \n",
       "s  - 2⋅s  + 3⋅s  - 2⋅s + 1   s  - s + 1               3⋅⎝s  - s + 1⎠   s  - 4⋅\n",
       "\n",
       "              6                                        5                      \n",
       "             s                                      2⋅s                       \n",
       "────────────────────────────────── - ───────────────────────────────── + ─────\n",
       " 5      4       3      2              5      4      3      2              4   \n",
       "s  + 8⋅s  - 10⋅s  + 8⋅s  - 4⋅s + 1   s  - 3⋅s  + 5⋅s  - 5⋅s  + 3⋅s - 1   s  - \n",
       "\n",
       "         4                            4                          3            \n",
       "      2⋅s                          2⋅s                        2⋅s             \n",
       "───────────────────── - ────────────────────────── + ───────────────────── + ─\n",
       "   3      2              4      3      2                3      2              \n",
       "2⋅s  + 3⋅s  - 2⋅s + 1   s  - 3⋅s  + 4⋅s  - 3⋅s + 1   3⋅s  - 6⋅s  + 6⋅s - 3   s\n",
       "\n",
       "          3                       2                     2            2        \n",
       "       2⋅s                       s                   2⋅s            s         \n",
       "────────────────── + ────────────────────────── - ────────── + ──────────── - \n",
       "3      2              4      3      2              2            2             \n",
       "  - 2⋅s  + 2⋅s - 1   s  - 2⋅s  + 3⋅s  - 2⋅s + 1   s  - s + 1   s  - 2⋅s + 1   \n",
       "\n",
       "                              \n",
       "     2⋅s            2⋅s      2\n",
       "────────────── - ───────── + ─\n",
       "  ⎛ 2        ⎞   3⋅(s - 1)   3\n",
       "3⋅⎝s  - s + 1⎠                "
      ]
     },
     "execution_count": 57,
     "metadata": {},
     "output_type": "execute_result"
    }
   ],
   "source": [
    "aa = S.abstand(M)^2   # das Quadrat läßt sich besser behandeln\n",
    "aa                    "
   ]
  },
  {
   "cell_type": "markdown",
   "metadata": {},
   "source": [
    "Der Ausdruck ist sehr komplex, er läßt sich jedoch problemlos vereinfachen;\n",
    " <br>darüberhinaus hängt er nicht von $s$ ab:"
   ]
  },
  {
   "cell_type": "code",
   "execution_count": 58,
   "metadata": {
    "collapsed": false
   },
   "outputs": [
    {
     "data": {
      "image/png": "[encoded data removed]",
      "text/latex": [
       "$$\\frac{2 c^{2}}{3} + \\frac{2 c}{3} + \\frac{2}{3}$$"
      ],
      "text/plain": [
       "   2          \n",
       "2⋅c    2⋅c   2\n",
       "──── + ─── + ─\n",
       " 3      3    3"
      ]
     },
     "execution_count": 58,
     "metadata": {},
     "output_type": "execute_result"
    }
   ],
   "source": [
    "rr = einfach(aa); rr"
   ]
  },
  {
   "cell_type": "code",
   "execution_count": 59,
   "metadata": {
    "collapsed": false
   },
   "outputs": [
    {
     "data": {
      "image/png": "[encoded data removed]",
      "text/latex": [
       "$$\\frac{1}{3} \\left(2 c^{2} + 2 c + 2\\right)$$"
      ],
      "text/plain": [
       "  ⎛ 2        ⎞\n",
       "2⋅⎝c  + c + 1⎠\n",
       "──────────────\n",
       "      3       "
      ]
     },
     "execution_count": 59,
     "metadata": {},
     "output_type": "execute_result"
    }
   ],
   "source": [
    "rr = factor(rr); rr"
   ]
  },
  {
   "cell_type": "code",
   "execution_count": 60,
   "metadata": {
    "collapsed": false
   },
   "outputs": [
    {
     "data": {
      "image/png": "[encoded data removed]",
      "text/latex": [
       "$$\\frac{\\sqrt{6}}{3} \\sqrt{c^{2} + c + 1}$$"
      ],
      "text/plain": [
       "      ____________\n",
       "     ╱  2         \n",
       "√6⋅╲╱  c  + c + 1 \n",
       "──────────────────\n",
       "        3         "
      ]
     },
     "execution_count": 60,
     "metadata": {},
     "output_type": "execute_result"
    }
   ],
   "source": [
    "r = sqrt(rr); r"
   ]
  },
  {
   "cell_type": "code",
   "execution_count": 61,
   "metadata": {
    "collapsed": false
   },
   "outputs": [
    {
     "data": {
      "image/png": "[encoded data removed]",
      "text/latex": [
       "$$0$$"
      ],
      "text/plain": [
       "0"
      ]
     },
     "execution_count": 61,
     "metadata": {},
     "output_type": "execute_result"
    }
   ],
   "source": [
    "einfach(S.abstand(M)^2 - r^2)  # Kontrolle"
   ]
  },
  {
   "cell_type": "markdown",
   "metadata": {},
   "source": [
    "Der ermittelte Wert gilt somit für alle $s$. Damit ist nachgewiesen, dass\n",
    "auch im <br>\n",
    "allgemeinen Fall ein Kreis vorliegt, er hat den Mittelpunkt $M$ und den Radius $r$, <br>\n",
    "seine Trägerebene ist $E$"
   ]
  },
  {
   "cell_type": "code",
   "execution_count": 62,
   "metadata": {
    "collapsed": false
   },
   "outputs": [
    {
     "data": {
      "image/png": "[encoded data removed]",
      "text/latex": [
       "$$Kreisschar(c)$$"
      ],
      "text/plain": [
       "Kreisschar(c)"
      ]
     },
     "execution_count": 62,
     "metadata": {},
     "output_type": "execute_result"
    }
   ],
   "source": [
    "k = Kreis(E, M, r); k"
   ]
  },
  {
   "cell_type": "code",
   "execution_count": 63,
   "metadata": {
    "collapsed": false
   },
   "outputs": [
    {
     "data": {
      "text/latex": [
       "$$\\left ( \\left(\\begin{matrix}- \\frac{c}{3} + \\frac{1}{3}\\\\- \\frac{c}{3} + \\frac{1}{3}\\\\\\frac{c}{3} + \\frac{2}{3}\\end{matrix}\\right), \\quad \\frac{\\sqrt{6}}{3} \\sqrt{c^{2} + c + 1}\\right )$$"
      ],
      "text/plain": [
       "⎛                        ____________⎞\n",
       "⎜                       ╱  2         ⎟\n",
       "⎜                  √6⋅╲╱  c  + c + 1 ⎟\n",
       "⎜Vektorschar([c]), ──────────────────⎟\n",
       "⎝                          3         ⎠"
      ]
     },
     "execution_count": 63,
     "metadata": {},
     "output_type": "execute_result"
    }
   ],
   "source": [
    "k.M, k.r"
   ]
  },
  {
   "cell_type": "markdown",
   "metadata": {},
   "source": [
    "### Ortskurve der Kreismittelpunkte"
   ]
  },
  {
   "cell_type": "code",
   "execution_count": 64,
   "metadata": {
    "collapsed": false
   },
   "outputs": [
    {
     "data": {
      "text/latex": [
       "$$\\left(\\begin{matrix}x\\\\y\\\\z\\end{matrix}\\right)=\\left(\\begin{matrix}\\frac{1}{3}\\\\\\frac{1}{3}\\\\\\frac{2}{3}\\end{matrix}\\right)+c\\,\\left(\\begin{matrix}- \\frac{1}{3}\\\\- \\frac{1}{3}\\\\\\frac{1}{3}\\end{matrix}\\right)$$"
      ],
      "text/plain": [
       "<IPython.core.display.Math object>"
      ]
     },
     "metadata": {},
     "output_type": "display_data"
    }
   ],
   "source": [
    "ok = Gerade(k.M)\n",
    "ok.prg"
   ]
  },
  {
   "cell_type": "code",
   "execution_count": 65,
   "metadata": {
    "collapsed": false
   },
   "outputs": [
    {
     "data": {
      "text/plain": [
       "True"
      ]
     },
     "execution_count": 65,
     "metadata": {},
     "output_type": "execute_result"
    }
   ],
   "source": [
    "identisch(ok, dg)   # sie ist die Würfeldiagonale"
   ]
  },
  {
   "cell_type": "markdown",
   "metadata": {},
   "source": [
    "### Kontrollgrafik mit einigen Kreisen"
   ]
  },
  {
   "cell_type": "code",
   "execution_count": 66,
   "metadata": {
    "collapsed": false
   },
   "outputs": [],
   "source": [
    "cc = [-i*0.5 for i in range(8)] + [i*0.5 for i in range(8)]"
   ]
  },
  {
   "cell_type": "code",
   "execution_count": 67,
   "metadata": {
    "collapsed": true
   },
   "outputs": [],
   "source": [
    "K = [k.sch_el(c) for c in cc]"
   ]
  },
  {
   "cell_type": "code",
   "execution_count": 68,
   "metadata": {
    "collapsed": false
   },
   "outputs": [],
   "source": [
    "zeichne([dg, 2], *K, skalen=nein)"
   ]
  },
  {
   "cell_type": "markdown",
   "metadata": {},
   "source": [
    "### Eine Animation\n",
    "\n",
    "Die über die Kreisschar erzeugte Fläche ist ein Hyperboloid; es wird sichtbar gemacht, <br>\n",
    "dass die ausgezeichneten Geraden zu seinen Erzeugenden gehören\n",
    "<br>"
   ]
  },
  {
   "cell_type": "code",
   "execution_count": 69,
   "metadata": {
    "collapsed": false
   },
   "outputs": [
    {
     "data": {
      "text/latex": [
       "$$\\left(\\begin{matrix}- \\frac{c}{3} - \\frac{1}{3} \\sqrt{c^{2} + c + 1} \\sin{\\left (\\frac{\\pi t}{180} \\right )} - \\frac{\\sqrt{3}}{3} \\sqrt{c^{2} + c + 1} \\cos{\\left (\\frac{\\pi t}{180} \\right )} + \\frac{1}{3}\\\\- \\frac{c}{3} - \\frac{1}{3} \\sqrt{c^{2} + c + 1} \\sin{\\left (\\frac{\\pi t}{180} \\right )} + \\frac{\\sqrt{3}}{3} \\sqrt{c^{2} + c + 1} \\cos{\\left (\\frac{\\pi t}{180} \\right )} + \\frac{1}{3}\\\\\\frac{c}{3} - \\frac{2}{3} \\sqrt{c^{2} + c + 1} \\sin{\\left (\\frac{\\pi t}{180} \\right )} + \\frac{2}{3}\\end{matrix}\\right)$$"
      ],
      "text/plain": [
       "Vektorschar([t, c])"
      ]
     },
     "execution_count": 69,
     "metadata": {},
     "output_type": "execute_result"
    }
   ],
   "source": [
    "# Der allgemeine Punkt der Fläche mit den Parametern c (für das \n",
    "# Element der Kreisschar) und t (für den Kreispunkt; Winkel in Grad)\n",
    "\n",
    "k.pkt(t)"
   ]
  },
  {
   "cell_type": "code",
   "execution_count": 70,
   "metadata": {
    "collapsed": false
   },
   "outputs": [],
   "source": [
    "ff = Fläche(k.pkt(t), (t, 0, 360), (c, -3, 3))"
   ]
  },
  {
   "cell_type": "code",
   "execution_count": 71,
   "metadata": {
    "collapsed": false
   },
   "outputs": [
    {
     "data": {
      "image/png": "[encoded data removed]",
      "text/latex": [
       "$$Abbildungsschar(u)$$"
      ],
      "text/plain": [
       "Abbildungsschar(u)"
      ]
     },
     "execution_count": 71,
     "metadata": {},
     "output_type": "execute_result"
    }
   ],
   "source": [
    "abb   # oben definiert"
   ]
  },
  {
   "cell_type": "code",
   "execution_count": 72,
   "metadata": {
    "collapsed": false
   },
   "outputs": [
    {
     "name": "stdout",
     "output_type": "stream",
     "text": [
      "agla: lange Rechenzeit\n",
      "agla: lange Rechenzeit\n",
      "agla: lange Rechenzeit\n"
     ]
    }
   ],
   "source": [
    "ber = (u, 0, 360)\n",
    "\n",
    "zeichne([ff, gelb],                     # ca. 10 sec für eine Gerade,\n",
    "        [g1.bild(abb), 2, rot, ber],    # ca. 30 sec für alle drei\n",
    "        [g2.bild(abb), 2, grün, ber],   \n",
    "        [g3.bild(abb), 2, blau, ber],\n",
    "        achsen=nein, box=nein)"
   ]
  }
 ],
 "metadata": {
  "anaconda-cloud": {},
  "kernelspec": {
   "display_name": "Python [default]",
   "language": "python",
   "name": "python3"
  },
  "language_info": {
   "codemirror_mode": {
    "name": "ipython",
    "version": 3
   },
   "file_extension": ".py",
   "mimetype": "text/x-python",
   "name": "python",
   "nbconvert_exporter": "python",
   "pygments_lexer": "ipython3",
   "version": "3.5.2"
  }
 },
 "nbformat": 4,
 "nbformat_minor": 0
}
