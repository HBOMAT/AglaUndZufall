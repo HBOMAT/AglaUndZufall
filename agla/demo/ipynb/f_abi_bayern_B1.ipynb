{
 "cells": [
  {
   "cell_type": "markdown",
   "metadata": {},
   "source": [
    "<br>\n",
    "# Einblick in das Rechnen mit <i>agla</i>\n",
    "\n",
    "von Holger Böttcher - hbomat@posteo.de\n",
    "<br><br>\n",
    "Diese Arbeit steht unter der freien Lizenz [CC BY-SA 4.0](https://creativecommons.org/licenses/by-sa/4.0/deed.de)  \n",
    "### Abitur Bayern 2019\n",
    " \n",
    "### Geometrie Teil B, Aufgabengruppe 1\n",
    "<br>\n",
    "Quelle: [serlo.org](https://de.serlo.org/mathe/deutschland/bayern/gymnasium/abiturpr%C3%BCfungen-l%C3%B6sung/mathematik-abitur-bayern-2019/geometrie,-teil-b,-aufgabengruppe-1)\n"
   ]
  },
  {
   "cell_type": "markdown",
   "metadata": {},
   "source": [
    "<br><i>Die Variablen $x_1, x_2, x_3$ sind mit $x, y, z$ bezeichnet</i>\n",
    "<br>"
   ]
  },
  {
   "cell_type": "markdown",
   "metadata": {},
   "source": [
    "Eine Geothermieanlage fördert durch einen Bohrkanal heißes Wasser aus einer\n",
    "<br>wasserführenden Gesteinsschicht an die Erdoberfläche. In einem Modell entspricht \n",
    "<br>die $xy$ - Ebene eines kartesischen Koordinatensystems der horizontal verlaufenden\n",
    "<br>Erdoberfläche. Eine Längeneinheit im Koordinatensystem entspricht einem Kilometer \n",
    "<br>in der Realität.\n",
    "Der Bohrkanal besteht aus zwei Abschnitten, die im Modell vereinfacht\n",
    "<br>durch die Strecken $[AP]$ und $[PQ]$ mit den Punkten $A\\,(0\\,|\\,0\\,|\\,0), P\\,(0\\,|\\,0\\,|\\,-1)$ und\n",
    "<br>$Q\\,(1\\,|\\,1\\,|\\,-3,5)$ beschrieben werden (vgl. Abbildung)."
   ]
  },
  {
   "cell_type": "markdown",
   "metadata": {},
   "source": [
    "<img src='bilder/bayern3.png', align='left'>"
   ]
  },
  {
   "cell_type": "markdown",
   "metadata": {},
   "source": [
    "<br><b>a)</b> Berechnen Sie auf der Grundlage des Modells die Gesamtlänge des Bohrkanals \n",
    "<br>$\\:\\:\\:\\:$auf Meter gerundet.\n",
    "<br>\n",
    "<br><b>b)</b> Beim Übergang zwischen den beiden Abschnitten des Bohrkanals muss die \n",
    "<br>$\\:\\:\\:\\:$Bohrrichtung um den Winkel geändert werden, der im Modell durch den\n",
    "<br>$\\:\\:\\:\\:$Schnittwinkel der beiden Geraden $AP$ und $PQ$ beschrieben wird. Bestimmen Sie\n",
    "<br>$\\:\\:\\:\\:$ die Größe dieses Winkels.<br><br>\n",
    "Im Modell liegt die obere Begrenzungsfläche der wasserführenden Gesteinsschicht in\n",
    "<br>der Ebene $E$ und die untere Begrenzungsfläche in einer zu $E$ parallelen Ebene $F$. Die\n",
    "<br>Ebene $E$ enthält den Punkt $Q$. Die Strecke $[PQ]$ steht senkrecht auf der Ebene $E$ \n",
    "<br>(vgl. Abbildung).\n",
    "<br>\n",
    "<br><b>c)</b> Bestimmen Sie eine Gleichung der Ebene $E$ in Normalenform.\n",
    "<br>$\\:\\:\\:\\:$(*zur Kontrolle:* $E : 4x + 4y -10z - 43 = 0$ )\n",
    "<br>\n",
    "<br><b>d)</b> Der Bohrkanal wird geradlinig verlängert und verlässt die wasserführende<br>\n",
    "$\\:\\:\\:\\:$Gesteinsschicht in einer Tiefe von 3600 m unter der Erdoberfläche. Die<br>\n",
    "$\\:\\:\\:\\:$Austrittsstelle wird im Modell als Punkt $R$ auf der Geraden $PQ$ beschrieben.<br>\n",
    "$\\:\\:\\:\\:$Bestimmen Sie die Koordinaten von $R$ und ermitteln Sie die Dicke der <br>\n",
    "$\\:\\:\\:\\:$wasserführenden Gesteinsschicht auf Meter gerundet.<br>\n",
    "$\\:\\:\\:\\:$(*zur Kontrolle:* $x$- *und* $y$*-Koordinate von* $R:\\: 1,04$)"
   ]
  },
  {
   "cell_type": "markdown",
   "metadata": {},
   "source": [
    "Ein zweiter Bohrkanal wird benötigt, durch den das entnommene Wasser abgekühlt<br>\n",
    "zurück in die wasserführende Gesteinsschicht geleitet wird. Der Bohrkanal soll <br>\n",
    "geradlinig und senkrecht zur Erdoberfläche verlaufen. Für den Beginn des Bohrkanals <br>\n",
    "an der Erdoberfläche kommen nur Bohrstellen in Betracht, die im Modell durch einen <br>\n",
    "Punkt $B\\,(t\\,|\\,-t\\,|\\, 0)$ mit $t \\in \\mathbb{R}$ beschrieben\n",
    "werden können.<br><br>\n",
    "<b>e)</b> Zeigen Sie rechnerisch, dass der zweite Bohrkanal die wasserführende <br>\n",
    "$\\:\\:\\:\\:$Gesteinsschicht im Modell im Punkt $T\\,(t \\,|\\, -t \\,| \\, -4,3)$ erreicht, und erläutern Sie,<br>\n",
    "$\\:\\:\\:\\:$wie die Länge des zweiten Bohrkanals bis zur wasserführenden Gesteinsschicht<br>\n",
    "$\\:\\:\\:\\:$von der Lage der zugehörigen Bohrstelle beeinflusst wird.<br><br>\n",
    "<b>f)</b> Aus energetischen Gründen soll der Abstand der beiden Stellen, an denen die <br>\n",
    "$\\:\\:\\:\\:$beiden Bohrkanäle auf die wasserführende Gesteinsschicht treffen, mindestens <br>\n",
    "$\\:\\:\\:\\:$1500 m betragen. Entscheiden Sie auf der Grundlage des Modells, ob diese<br>\n",
    "$\\:\\:\\:\\:$Bedingung für jeden möglichen zweiten Bohrkanal erfüllt wird\n",
    "<br><br>"
   ]
  },
  {
   "cell_type": "code",
   "execution_count": 1,
   "metadata": {
    "collapsed": false
   },
   "outputs": [],
   "source": [
    "%run agla/start"
   ]
  },
  {
   "cell_type": "code",
   "execution_count": 2,
   "metadata": {
    "collapsed": false
   },
   "outputs": [
    {
     "data": {
      "text/latex": [
       "$$\\left ( \\left(\\begin{matrix}0\\\\0\\\\0\\end{matrix}\\right), \\quad \\left(\\begin{matrix}0\\\\0\\\\-1\\end{matrix}\\right), \\quad \\left(\\begin{matrix}1\\\\1\\\\- \\frac{7}{2}\\end{matrix}\\right)\\right )$$"
      ],
      "text/plain": [
       "(Vektor, Vektor, Vektor)"
      ]
     },
     "execution_count": 2,
     "metadata": {},
     "output_type": "execute_result"
    }
   ],
   "source": [
    "A = O   # Ursprung, vordefiniert\n",
    "P = v(0, 0, -1); Q = v(1, 1, -3.5)\n",
    "A, P, Q"
   ]
  },
  {
   "cell_type": "markdown",
   "metadata": {
    "collapsed": false
   },
   "source": [
    "### a)"
   ]
  },
  {
   "cell_type": "code",
   "execution_count": 3,
   "metadata": {
    "collapsed": false
   },
   "outputs": [
    {
     "data": {
      "image/png": "[encoded data removed]",
      "text/latex": [
       "$$\\left ( 1 + \\frac{\\sqrt{33}}{2}, \\quad 3872.0\\right )$$"
      ],
      "text/plain": [
       "⎛    √33        ⎞\n",
       "⎜1 + ───, 3872.0⎟\n",
       "⎝     2         ⎠"
      ]
     },
     "execution_count": 3,
     "metadata": {},
     "output_type": "execute_result"
    }
   ],
   "source": [
    "ab = Abstand(A, P) + Abstand(P, Q)\n",
    "ab, (ab*1000).n(4)    # in Meter"
   ]
  },
  {
   "cell_type": "markdown",
   "metadata": {},
   "source": [
    "### b)"
   ]
  },
  {
   "cell_type": "code",
   "execution_count": 4,
   "metadata": {
    "collapsed": false
   },
   "outputs": [
    {
     "data": {
      "image/png": "[encoded data removed]",
      "text/latex": [
       "$$29.5$$"
      ],
      "text/plain": [
       "29.5"
      ]
     },
     "execution_count": 4,
     "metadata": {},
     "output_type": "execute_result"
    }
   ],
   "source": [
    "Winkel(Gerade(A, v(A, P)), Gerade(P, v(P, Q)), d=2) # oder"
   ]
  },
  {
   "cell_type": "code",
   "execution_count": 5,
   "metadata": {
    "collapsed": false
   },
   "outputs": [
    {
     "data": {
      "image/png": "[encoded data removed]",
      "text/latex": [
       "$$29.5$$"
      ],
      "text/plain": [
       "29.5"
      ]
     },
     "execution_count": 5,
     "metadata": {},
     "output_type": "execute_result"
    }
   ],
   "source": [
    "Winkel(v(A, P), v(P, Q), d=2)"
   ]
  },
  {
   "cell_type": "markdown",
   "metadata": {},
   "source": [
    "### c)"
   ]
  },
  {
   "cell_type": "markdown",
   "metadata": {},
   "source": [
    "$E\\,$ wird über den Stütz- und den Normalenvektor erzeugt"
   ]
  },
  {
   "cell_type": "code",
   "execution_count": 6,
   "metadata": {
    "collapsed": false
   },
   "outputs": [
    {
     "data": {
      "image/png": "[encoded data removed]",
      "text/latex": [
       "$$4 x + 4 y - 10 z - 43=0$$"
      ],
      "text/plain": [
       "4*x + 4*y - 10*z - 43 = 0"
      ]
     },
     "execution_count": 6,
     "metadata": {},
     "output_type": "execute_result"
    }
   ],
   "source": [
    "E = Ebene(Q, v(P, Q))\n",
    "E.koord"
   ]
  },
  {
   "cell_type": "markdown",
   "metadata": {},
   "source": [
    "### d)"
   ]
  },
  {
   "cell_type": "markdown",
   "metadata": {},
   "source": [
    "$R\\,$ wird als Punkt der Geraden $PQ$ berechnet, dessen $z$-Koordinate $-3.6$ beträgt\n",
    "\n",
    "Die Gleichung wird aus $\\:R.z = -3.6\\:$ gewonnen, indem die rechte Seite zu $0$ <br>\n",
    "gemacht und die linke Seite genommen wird"
   ]
  },
  {
   "cell_type": "code",
   "execution_count": 7,
   "metadata": {
    "collapsed": false
   },
   "outputs": [],
   "source": [
    "R = Gerade(P, v(P, Q)).pkt(t)"
   ]
  },
  {
   "cell_type": "code",
   "execution_count": 8,
   "metadata": {
    "collapsed": false
   },
   "outputs": [
    {
     "data": {
      "image/png": "[encoded data removed]",
      "text/latex": [
       "$$\\left \\{ t : \\frac{26}{25}\\right \\}$$"
      ],
      "text/plain": [
       "⎧   26⎫\n",
       "⎨t: ──⎬\n",
       "⎩   25⎭"
      ]
     },
     "execution_count": 8,
     "metadata": {},
     "output_type": "execute_result"
    }
   ],
   "source": [
    "L =  löse(R.z + 3.6)\n",
    "L"
   ]
  },
  {
   "cell_type": "markdown",
   "metadata": {},
   "source": [
    "Einsetzen von $t$ in $R\\:$ (als Wert eines *dictionary*-Elementes) und zur<br>\n",
    "Dezimaldarstellung übergehen"
   ]
  },
  {
   "cell_type": "code",
   "execution_count": 9,
   "metadata": {
    "collapsed": false
   },
   "outputs": [
    {
     "data": {
      "text/latex": [
       "$$\\left(\\begin{matrix}1.04\\\\1.04\\\\-3.6\\end{matrix}\\right)$$"
      ],
      "text/plain": [
       "Vektor"
      ]
     },
     "execution_count": 9,
     "metadata": {},
     "output_type": "execute_result"
    }
   ],
   "source": [
    "R = R.subs(t, L[t]).dez\n",
    "R"
   ]
  },
  {
   "cell_type": "markdown",
   "metadata": {},
   "source": [
    "Die Dicke ist der Abstand zwischen $Q$ und $R$"
   ]
  },
  {
   "cell_type": "code",
   "execution_count": 10,
   "metadata": {
    "collapsed": false
   },
   "outputs": [
    {
     "data": {
      "image/png": "[encoded data removed]",
      "text/latex": [
       "$$114.891252930761$$"
      ],
      "text/plain": [
       "114.891252930761"
      ]
     },
     "execution_count": 10,
     "metadata": {},
     "output_type": "execute_result"
    }
   ],
   "source": [
    "dicke  = Abstand(Q, R)\n",
    "dicke * 1000    # in Meter"
   ]
  },
  {
   "cell_type": "markdown",
   "metadata": {},
   "source": [
    "### e)"
   ]
  },
  {
   "cell_type": "code",
   "execution_count": 11,
   "metadata": {
    "collapsed": true
   },
   "outputs": [],
   "source": [
    "B = v(-t, t, 0)"
   ]
  },
  {
   "cell_type": "markdown",
   "metadata": {},
   "source": [
    "Ein Bohrkanal verläuft entlang einer Geraden durch $B$, die parallel zur $z$-Achse liegt"
   ]
  },
  {
   "cell_type": "code",
   "execution_count": 12,
   "metadata": {
    "collapsed": false
   },
   "outputs": [
    {
     "data": {
      "text/latex": [
       "$$\\left(\\begin{matrix}x\\\\y\\\\z\\end{matrix}\\right)=\\left(\\begin{matrix}- t\\\\t\\\\0\\end{matrix}\\right)+s\\,\\left(\\begin{matrix}0\\\\0\\\\1\\end{matrix}\\right)$$"
      ],
      "text/plain": [
       "<IPython.core.display.Math object>"
      ]
     },
     "metadata": {},
     "output_type": "display_data"
    }
   ],
   "source": [
    "g = Gerade(B, v(0, 0, 1), s)   # Parameter darf hier nicht t sein\n",
    "g.prg"
   ]
  },
  {
   "cell_type": "markdown",
   "metadata": {},
   "source": [
    "$T$ ist dann Schnittpunkt dieser Geraden mit $E$"
   ]
  },
  {
   "cell_type": "code",
   "execution_count": 13,
   "metadata": {
    "collapsed": false
   },
   "outputs": [
    {
     "data": {
      "text/latex": [
       "$$\\left(\\begin{matrix}- t\\\\t\\\\-4.3\\end{matrix}\\right)$$"
      ],
      "text/plain": [
       "Vektorschar([t])"
      ]
     },
     "execution_count": 13,
     "metadata": {},
     "output_type": "execute_result"
    }
   ],
   "source": [
    "T = g.schnitt(E)\n",
    "T.dez"
   ]
  },
  {
   "cell_type": "markdown",
   "metadata": {},
   "source": [
    "Die Länge des zweiten Bohrkanals ist konstant, sie hängt nicht von der Lage ab"
   ]
  },
  {
   "cell_type": "code",
   "execution_count": 14,
   "metadata": {
    "collapsed": false
   },
   "outputs": [
    {
     "data": {
      "image/png": "[encoded data removed]",
      "text/latex": [
       "$$\\frac{43}{10}$$"
      ],
      "text/plain": [
       "43\n",
       "──\n",
       "10"
      ]
     },
     "execution_count": 14,
     "metadata": {},
     "output_type": "execute_result"
    }
   ],
   "source": [
    "länge = Abstand(B, T)\n",
    "länge"
   ]
  },
  {
   "cell_type": "markdown",
   "metadata": {},
   "source": [
    "Das bedeutet, dass die Gerade, auf der alle Punkte $B$ liegen, parallel zur Ebene ist"
   ]
  },
  {
   "cell_type": "code",
   "execution_count": 15,
   "metadata": {
    "collapsed": false
   },
   "outputs": [
    {
     "data": {
      "text/latex": [
       "$$\\left(\\begin{matrix}x\\\\y\\\\z\\end{matrix}\\right)=\\left(\\begin{matrix}0\\\\0\\\\0\\end{matrix}\\right)+t\\,\\left(\\begin{matrix}-1\\\\1\\\\0\\end{matrix}\\right)$$"
      ],
      "text/plain": [
       "<IPython.core.display.Math object>"
      ]
     },
     "metadata": {},
     "output_type": "display_data"
    }
   ],
   "source": [
    "h = Gerade(B) \n",
    "h.prg"
   ]
  },
  {
   "cell_type": "code",
   "execution_count": 16,
   "metadata": {
    "collapsed": false
   },
   "outputs": [
    {
     "data": {
      "text/plain": [
       "True"
      ]
     },
     "execution_count": 16,
     "metadata": {},
     "output_type": "execute_result"
    }
   ],
   "source": [
    "parallel(h, E)"
   ]
  },
  {
   "cell_type": "markdown",
   "metadata": {},
   "source": [
    "Eine kleine Zeichnung verdeutlicht die Situation "
   ]
  },
  {
   "cell_type": "code",
   "execution_count": 17,
   "metadata": {
    "collapsed": true
   },
   "outputs": [],
   "source": [
    "zeichne([h, 2], E)   "
   ]
  },
  {
   "cell_type": "markdown",
   "metadata": {},
   "source": [
    "### f)"
   ]
  },
  {
   "cell_type": "markdown",
   "metadata": {},
   "source": [
    "Der Abstand von $Q$ zu einem beliebigen $T$ ist "
   ]
  },
  {
   "cell_type": "code",
   "execution_count": 18,
   "metadata": {
    "collapsed": false
   },
   "outputs": [
    {
     "data": {
      "image/png": "[encoded data removed]",
      "text/latex": [
       "$$\\sqrt{2 t^{2} + \\frac{66}{25}}$$"
      ],
      "text/plain": [
       "    ___________\n",
       "   ╱    2   66 \n",
       "  ╱  2⋅t  + ── \n",
       "╲╱          25 "
      ]
     },
     "execution_count": 18,
     "metadata": {},
     "output_type": "execute_result"
    }
   ],
   "source": [
    "Abstand(Q, T)"
   ]
  },
  {
   "cell_type": "markdown",
   "metadata": {},
   "source": [
    "Der Ausdruck unter der Wurzel nimmt seinen kleinsten Wert bei $t=0$ an, der <br>\n",
    "Abstand ist also immer größer oder gleich "
   ]
  },
  {
   "cell_type": "code",
   "execution_count": 19,
   "metadata": {
    "collapsed": false
   },
   "outputs": [
    {
     "data": {
      "image/png": "[encoded data removed]",
      "text/latex": [
       "$$1.62480768092719$$"
      ],
      "text/plain": [
       "1.62480768092719"
      ]
     },
     "execution_count": 19,
     "metadata": {},
     "output_type": "execute_result"
    }
   ],
   "source": [
    "sqrt(66/25)"
   ]
  },
  {
   "cell_type": "markdown",
   "metadata": {},
   "source": [
    "Damit ist die Bedingung erfüllt"
   ]
  }
 ],
 "metadata": {
  "anaconda-cloud": {},
  "kernelspec": {
   "display_name": "Python [default]",
   "language": "python",
   "name": "python3"
  },
  "language_info": {
   "codemirror_mode": {
    "name": "ipython",
    "version": 3
   },
   "file_extension": ".py",
   "mimetype": "text/x-python",
   "name": "python",
   "nbconvert_exporter": "python",
   "pygments_lexer": "ipython3",
   "version": "3.5.2"
  }
 },
 "nbformat": 4,
 "nbformat_minor": 1
}
