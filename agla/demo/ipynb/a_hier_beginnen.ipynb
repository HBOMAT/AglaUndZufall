{
 "cells": [
  {
   "cell_type": "markdown",
   "metadata": {},
   "source": [
    "<br>\n",
    "# Einblick in das Rechnen mit <i>agla</i>\n",
    "\n",
    "von Holger Böttcher - hbomat@posteo.de\n",
    "<br><br>\n",
    "Diese Arbeit steht unter der freien Lizenz [CC BY-SA 4.0](https://creativecommons.org/licenses/by-sa/4.0/deed.de)  \n",
    "<br><br>\n",
    "1.<b> Spiegelungen</b> im Raum<br>\n",
    "2.<b> Kollinearität / Komplanarität</b> von Vektoren<br>\n",
    "3.<b></b> Lösung eines <b>Linearen Gleichungssystems</b><br>\n",
    "4.<b></b> Anwendung von <b>Verfahren</b><br><br>\n",
    "5.<b> Klassen </b> in <i>agla</i><br>\n",
    "6.<b> Hilfe-Informationen</b>"
   ]
  },
  {
   "cell_type": "markdown",
   "metadata": {},
   "source": [
    "<br>\n",
    "Das Paket <i>agla</i> ist in der Programmiersprache <b>Python</b> geschrieben und basiert\n",
    "<br>auf dem ebenfalls in Python geschriebenen und quelloffen frei verfügbaren <b>CAS \n",
    "<br>SymPy</b> \n",
    "\n",
    "Für die geometrischen Objekte wurden Python-Klassen im Sinne der Objekt-\n",
    "<br>Orientierten-Programmierung implementiert. Damit können entsprechende Python-\n",
    "<br>Objekte erzeugt werden, mit denen unter Verwendung ihrer Eigenschaften und \n",
    "<br>Methoden am Computer gearbeitet wird \n",
    "\n",
    "Die Berechnungen werden in einem Jupyter-Notebook (mit englischer \n",
    "<br>Bedienoberfläche) durchgeführt; die vorliegende Datei wurde durch den HTML- \n",
    "<br>Export eines solchen Notebooks hergestellt\n",
    "<br><br> \n",
    "<div style='color:yellowgreen'>\n",
    "<i>Die Kommentare (nach #) sind lediglich Erläuterungen und für die Berechnungen</i> \n",
    "<br><i>nicht relevant, Analoges trifft auf die Kontrollausgaben zu</i>\n",
    "<br><br>\n",
    "</div>"
   ]
  },
  {
   "cell_type": "code",
   "execution_count": 1,
   "metadata": {
    "collapsed": false
   },
   "outputs": [],
   "source": [
    "%run agla/start    # Aktivierung des Paketes"
   ]
  },
  {
   "cell_type": "code",
   "execution_count": 2,
   "metadata": {
    "collapsed": false
   },
   "outputs": [
    {
     "data": {
      "text/latex": [
       "$$\\left ( \\left(\\begin{matrix}-3\\\\-2\\\\6\\end{matrix}\\right), \\quad \\left(\\begin{matrix}2\\\\-2\\\\5\\end{matrix}\\right), \\quad \\left(\\begin{matrix}1\\\\-3\\\\-4\\end{matrix}\\right), \\quad \\left(\\begin{matrix}2\\\\-8\\\\3\\end{matrix}\\right)\\right )$$"
      ],
      "text/plain": [
       "(Vektor, Vektor, Vektor, Vektor)"
      ]
     },
     "execution_count": 2,
     "metadata": {},
     "output_type": "execute_result"
    }
   ],
   "source": [
    "# Punkte werden in agla mit ihren Ortsvektoren identifiziert\n",
    "\n",
    "# v - Kurzform von Vektor\n",
    "\n",
    "A = v(-3, -2, 6); B = v(2, -2, 5); C = v(1, -3, -4); P = v(2, -8, 3)\n",
    "A, B, C, P"
   ]
  },
  {
   "cell_type": "code",
   "execution_count": 3,
   "metadata": {
    "collapsed": false
   },
   "outputs": [
    {
     "data": {
      "text/latex": [
       "$$\\left(\\begin{matrix}x\\\\y\\\\z\\end{matrix}\\right)=\\left(\\begin{matrix}-3\\\\-2\\\\6\\end{matrix}\\right)+t\\,\\left(\\begin{matrix}5\\\\0\\\\-1\\end{matrix}\\right)$$"
      ],
      "text/plain": [
       "<IPython.core.display.Math object>"
      ]
     },
     "metadata": {},
     "output_type": "display_data"
    }
   ],
   "source": [
    "g = Gerade(A, v(A, B))   # Erzeugung der Geraden mittels Stütz- und \n",
    "                         # Richtungsvektor\n",
    "g.prg                    # Parametergleichung    "
   ]
  },
  {
   "cell_type": "code",
   "execution_count": 4,
   "metadata": {
    "collapsed": false
   },
   "outputs": [
    {
     "data": {
      "text/latex": [
       "$$\\left ( \\left(\\begin{matrix}-3\\\\-2\\\\6\\end{matrix}\\right), \\quad \\left(\\begin{matrix}5\\\\0\\\\-1\\end{matrix}\\right)\\right )$$"
      ],
      "text/plain": [
       "(Vektor, Vektor)"
      ]
     },
     "execution_count": 4,
     "metadata": {},
     "output_type": "execute_result"
    }
   ],
   "source": [
    "g.stütz, g.richt  # Stütz- und Richtungsvektor der Geraden "
   ]
  },
  {
   "cell_type": "code",
   "execution_count": 5,
   "metadata": {
    "collapsed": false
   },
   "outputs": [
    {
     "data": {
      "text/latex": [
       "$$\\left(\\begin{matrix}x\\\\y\\\\z\\end{matrix}\\right)=\\left(\\begin{matrix}-3\\\\-2\\\\6\\end{matrix}\\right)+r\\,\\left(\\begin{matrix}5\\\\0\\\\-1\\end{matrix}\\right)+s\\,\\left(\\begin{matrix}4\\\\-1\\\\-10\\end{matrix}\\right)$$"
      ],
      "text/plain": [
       "<IPython.core.display.Math object>"
      ]
     },
     "metadata": {},
     "output_type": "display_data"
    }
   ],
   "source": [
    "e = Ebene(A, v(A, B), v(A, C))   # Erzeugung der Ebene mittels Stütz-  \n",
    "                                 # und 2 Richtungsvektoren\n",
    "e.prg    # Parametergleichung"
   ]
  },
  {
   "cell_type": "code",
   "execution_count": 6,
   "metadata": {
    "collapsed": false
   },
   "outputs": [
    {
     "data": {
      "text/latex": [
       "$$\\left ( \\left(\\begin{matrix}-3\\\\-2\\\\6\\end{matrix}\\right), \\quad \\left ( \\left(\\begin{matrix}5\\\\0\\\\-1\\end{matrix}\\right), \\quad \\left(\\begin{matrix}4\\\\-1\\\\-10\\end{matrix}\\right)\\right ), \\quad \\left(\\begin{matrix}-1\\\\46\\\\-5\\end{matrix}\\right)\\right )$$"
      ],
      "text/plain": [
       "(Vektor, (Vektor, Vektor), Vektor)"
      ]
     },
     "execution_count": 6,
     "metadata": {},
     "output_type": "execute_result"
    }
   ],
   "source": [
    "e.stütz, e.richt, e.norm,   # Stütz, Richtungs-, Normalenvektor(en) der Ebene "
   ]
  },
  {
   "cell_type": "markdown",
   "metadata": {},
   "source": [
    "Andere Gleichungen der Ebene"
   ]
  },
  {
   "cell_type": "code",
   "execution_count": 7,
   "metadata": {
    "collapsed": false
   },
   "outputs": [
    {
     "data": {
      "image/png": "[encoded data removed]",
      "text/latex": [
       "$$x - 46 y + 5 z - 119=0$$"
      ],
      "text/plain": [
       "x - 46*y + 5*z - 119 = 0"
      ]
     },
     "execution_count": 7,
     "metadata": {},
     "output_type": "execute_result"
    }
   ],
   "source": [
    "-e.koord   # Koordinatenform"
   ]
  },
  {
   "cell_type": "code",
   "execution_count": 8,
   "metadata": {
    "collapsed": false
   },
   "outputs": [
    {
     "data": {
      "text/latex": [
       "$$\\left[\\left(\\begin{matrix}x\\\\y\\\\z\\end{matrix}\\right)-\\left(\\begin{matrix}-3\\\\-2\\\\6\\end{matrix}\\right)\\right]\\circ\\left(\\begin{matrix}-1\\\\46\\\\-5\\end{matrix}\\right)=0$$"
      ],
      "text/plain": [
       "<IPython.core.display.Math object>"
      ]
     },
     "metadata": {},
     "output_type": "display_data"
    }
   ],
   "source": [
    "e.nf   # Normalenform"
   ]
  },
  {
   "cell_type": "code",
   "execution_count": 9,
   "metadata": {
    "collapsed": false
   },
   "outputs": [
    {
     "data": {
      "text/latex": [
       "$$\\left[\\left(\\begin{matrix}x\\\\y\\\\z\\end{matrix}\\right)-\\left(\\begin{matrix}-3\\\\-2\\\\6\\end{matrix}\\right)\\right]\\circ\\frac{\\sqrt{238}}{714}\\left(\\begin{matrix}-1\\\\46\\\\-5\\end{matrix}\\right)=0$$"
      ],
      "text/plain": [
       "<IPython.core.display.Math object>"
      ]
     },
     "metadata": {},
     "output_type": "display_data"
    }
   ],
   "source": [
    "e.hnf   # Hesse'sche Normalenform"
   ]
  },
  {
   "cell_type": "code",
   "execution_count": 10,
   "metadata": {
    "collapsed": false
   },
   "outputs": [
    {
     "data": {
      "image/png": "[encoded data removed]",
      "text/latex": [
       "$$\\frac{x}{119} - \\frac{46 y}{119} + \\frac{5 z}{119}=1$$"
      ],
      "text/plain": [
       "x/119 - 46*y/119 + 5*z/119 = 1"
      ]
     },
     "execution_count": 10,
     "metadata": {},
     "output_type": "execute_result"
    }
   ],
   "source": [
    "e.aagl   # Achsenabschnittsgleichung"
   ]
  },
  {
   "cell_type": "markdown",
   "metadata": {},
   "source": [
    "### Spiegelung an der Ebene\n",
    "\n",
    "Es wird eine Hilfsgerade durch $P$ benutzt, deren Richtungsvektor der Normalenvektor\n",
    "<br>der Ebene ist"
   ]
  },
  {
   "cell_type": "code",
   "execution_count": 11,
   "metadata": {
    "collapsed": false
   },
   "outputs": [
    {
     "data": {
      "text/latex": [
       "$$\\left(\\begin{matrix}x\\\\y\\\\z\\end{matrix}\\right)=\\left(\\begin{matrix}2\\\\-8\\\\3\\end{matrix}\\right)+t\\,\\left(\\begin{matrix}-1\\\\46\\\\-5\\end{matrix}\\right)$$"
      ],
      "text/plain": [
       "<IPython.core.display.Math object>"
      ]
     },
     "metadata": {},
     "output_type": "display_data"
    }
   ],
   "source": [
    "h = Gerade(P, e.norm)   # die Lotgerade von P auf e\n",
    "\n",
    "h.prg   # Kontrolle"
   ]
  },
  {
   "cell_type": "code",
   "execution_count": 12,
   "metadata": {
    "collapsed": false
   },
   "outputs": [],
   "source": [
    "F = e.schnitt(h)   # der Lotfußpunkt"
   ]
  },
  {
   "cell_type": "code",
   "execution_count": 13,
   "metadata": {
    "collapsed": false
   },
   "outputs": [
    {
     "data": {
      "text/latex": [
       "$$\\left(\\begin{matrix}\\frac{268}{153}\\\\\\frac{524}{153}\\\\\\frac{269}{153}\\end{matrix}\\right)$$"
      ],
      "text/plain": [
       "Vektor"
      ]
     },
     "execution_count": 13,
     "metadata": {},
     "output_type": "execute_result"
    }
   ],
   "source": [
    "Qe = P + 2 * v(P, F)\n",
    "\n",
    "Qe       # der gesuchte Punkt"
   ]
  },
  {
   "cell_type": "markdown",
   "metadata": {},
   "source": [
    "Kontrolle des Ergebnisses"
   ]
  },
  {
   "cell_type": "code",
   "execution_count": 14,
   "metadata": {
    "collapsed": false
   },
   "outputs": [
    {
     "data": {
      "image/png": "[encoded data removed]",
      "text/latex": [
       "$$\\left ( - \\frac{19 \\sqrt{238}}{51}, \\quad \\frac{19 \\sqrt{238}}{51}, \\quad 90.0\\right )$$"
      ],
      "text/plain": [
       "⎛-19⋅√238   19⋅√238      ⎞\n",
       "⎜─────────, ───────, 90.0⎟\n",
       "⎝    51        51        ⎠"
      ]
     },
     "execution_count": 14,
     "metadata": {},
     "output_type": "execute_result"
    }
   ],
   "source": [
    "# mittels der Lage der Punkte bezüglich der Ebene\n",
    "\n",
    "vv = v(P, Qe)\n",
    "\n",
    "Abstand(P, e), Abstand(Qe, e), Winkel(vv, e)    # Abstände sind hier \n",
    "                                                # vorzeichenbehaftet"
   ]
  },
  {
   "cell_type": "code",
   "execution_count": 15,
   "metadata": {
    "collapsed": false
   },
   "outputs": [
    {
     "data": {
      "text/latex": [
       "$$\\left ( \\left(\\begin{matrix}2\\\\-8\\\\3\\end{matrix}\\right), \\quad \\left(\\begin{matrix}2\\\\-8\\\\3\\end{matrix}\\right)\\right )$$"
      ],
      "text/plain": [
       "(Vektor, Vektor)"
      ]
     },
     "execution_count": 15,
     "metadata": {},
     "output_type": "execute_result"
    }
   ],
   "source": [
    "# mittels des entsprechenden Abbildung-Objektes (die Funktion \n",
    "# spiegelung erzeugt ein solches)\n",
    "\n",
    "Qe.bild(spiegelung(e)), P    # das Bild des Bildes ist wieder das Urbild"
   ]
  },
  {
   "cell_type": "code",
   "execution_count": 16,
   "metadata": {
    "collapsed": false
   },
   "outputs": [],
   "source": [
    "# Visuelle Kontrolle\n",
    "\n",
    "zeichne([e, 'khaki'], P, [F, blau, 2], [Qe, 2, rot], Strecke(P, Qe))"
   ]
  },
  {
   "cell_type": "markdown",
   "metadata": {},
   "source": [
    "<div style='color:sandybrown'>\n",
    "<i><b>In vielen Fällen kann eine Ergebniskontrolle durchgeführt werden<br>\n",
    "</b></i>\n",
    "</div><br>"
   ]
  },
  {
   "cell_type": "markdown",
   "metadata": {},
   "source": [
    "Eine 'Makrolösung' wird bereits durch eine einzelne Anweisung geliefert"
   ]
  },
  {
   "cell_type": "code",
   "execution_count": 17,
   "metadata": {
    "collapsed": false
   },
   "outputs": [
    {
     "data": {
      "text/latex": [
       "$$\\left(\\begin{matrix}\\frac{268}{153}\\\\\\frac{524}{153}\\\\\\frac{269}{153}\\end{matrix}\\right)$$"
      ],
      "text/plain": [
       "Vektor"
      ]
     },
     "execution_count": 17,
     "metadata": {},
     "output_type": "execute_result"
    }
   ],
   "source": [
    "Qe1 = P.bild(spiegelung(e))\n",
    "Qe1"
   ]
  },
  {
   "cell_type": "markdown",
   "metadata": {},
   "source": [
    "<div style='color:sandybrown'>\n",
    "<i><b>Es ist typisch für agla, dass es für viele Probleme solche 'Makrolösungen' gibt<br>\n",
    "Andererseits hat man mit dem Paket alle Möglichkeiten, um Aufgaben detailliert <br>\n",
    "durchzurechnen</b></i>\n",
    "</div>"
   ]
  },
  {
   "cell_type": "markdown",
   "metadata": {},
   "source": [
    "### Spiegelung an der Geraden \n",
    "\n",
    "Es wird eine Hilfsebene durch $P$ benutzt, deren Normalenvektor der Richtungsvektor\n",
    "<br>der Geraden ist"
   ]
  },
  {
   "cell_type": "code",
   "execution_count": 18,
   "metadata": {
    "collapsed": false
   },
   "outputs": [
    {
     "data": {
      "text/latex": [
       "$$\\left[\\left(\\begin{matrix}x\\\\y\\\\z\\end{matrix}\\right)-\\left(\\begin{matrix}2\\\\-8\\\\3\\end{matrix}\\right)\\right]\\circ\\left(\\begin{matrix}5\\\\0\\\\-1\\end{matrix}\\right)=0$$"
      ],
      "text/plain": [
       "<IPython.core.display.Math object>"
      ]
     },
     "metadata": {},
     "output_type": "display_data"
    }
   ],
   "source": [
    "e1 = Ebene(P, g.richt)   # Erzeugung der Ebene durch Stütz- und \n",
    "                         # Normalenvektor\n",
    "\n",
    "e1.nf   # Kontrollausgabe der Normalenform der Gleichung"
   ]
  },
  {
   "cell_type": "code",
   "execution_count": 19,
   "metadata": {
    "collapsed": false
   },
   "outputs": [
    {
     "data": {
      "text/latex": [
       "$$\\left(\\begin{matrix}\\frac{31}{13}\\\\-2\\\\\\frac{64}{13}\\end{matrix}\\right)$$"
      ],
      "text/plain": [
       "Vektor"
      ]
     },
     "execution_count": 19,
     "metadata": {},
     "output_type": "execute_result"
    }
   ],
   "source": [
    "F = e1.schnitt(g)     # Fußpunkt des Lotes von P auf g\n",
    "F   "
   ]
  },
  {
   "cell_type": "code",
   "execution_count": 20,
   "metadata": {
    "collapsed": false
   },
   "outputs": [
    {
     "data": {
      "text/latex": [
       "$$\\left(\\begin{matrix}\\frac{36}{13}\\\\4\\\\\\frac{89}{13}\\end{matrix}\\right)$$"
      ],
      "text/plain": [
       "Vektor"
      ]
     },
     "execution_count": 20,
     "metadata": {},
     "output_type": "execute_result"
    }
   ],
   "source": [
    "Qg = P + 2 * v(P, F)   # der gesuchte Punkt\n",
    "Qg"
   ]
  },
  {
   "cell_type": "markdown",
   "metadata": {},
   "source": [
    "Kontrolle des Ergebnisses"
   ]
  },
  {
   "cell_type": "code",
   "execution_count": 21,
   "metadata": {
    "collapsed": false
   },
   "outputs": [
    {
     "data": {
      "image/png": "[encoded data removed]",
      "text/latex": [
       "$$\\left ( \\frac{\\sqrt{6734}}{13}, \\quad \\frac{\\sqrt{6734}}{13}, \\quad 90.0\\right )$$"
      ],
      "text/plain": [
       "⎛√6734  √6734      ⎞\n",
       "⎜─────, ─────, 90.0⎟\n",
       "⎝  13     13       ⎠"
      ]
     },
     "execution_count": 21,
     "metadata": {},
     "output_type": "execute_result"
    }
   ],
   "source": [
    "# mittels der Lage der Punkte bezüglich der Geraden\n",
    "\n",
    "Abstand(P, g), Abstand(Qg, g), Winkel(g, v(P, Qg))"
   ]
  },
  {
   "cell_type": "code",
   "execution_count": 22,
   "metadata": {
    "collapsed": false
   },
   "outputs": [
    {
     "data": {
      "text/latex": [
       "$$\\left ( \\left(\\begin{matrix}\\frac{36}{13}\\\\4\\\\\\frac{89}{13}\\end{matrix}\\right), \\quad \\left(\\begin{matrix}\\frac{36}{13}\\\\4\\\\\\frac{89}{13}\\end{matrix}\\right), \\quad \\left(\\begin{matrix}\\frac{36}{13}\\\\4\\\\\\frac{89}{13}\\end{matrix}\\right)\\right )$$"
      ],
      "text/plain": [
       "(Vektor, Vektor, Vektor)"
      ]
     },
     "execution_count": 22,
     "metadata": {},
     "output_type": "execute_result"
    }
   ],
   "source": [
    "# mit Objekten der Klasse Abbildung\n",
    "\n",
    "Qg, P.bild(spiegelung(g)), P.bild(drehung(g, 180))   # die Abbildungen \n",
    "                                                     # sind gleich"
   ]
  },
  {
   "cell_type": "code",
   "execution_count": 23,
   "metadata": {
    "collapsed": false
   },
   "outputs": [],
   "source": [
    "# Visuelle Kontrolle   \n",
    "\n",
    "# Die Bezeichner sind nur für Demonstrationszwecke eingefügt\n",
    "\n",
    "sicht_box(-12, 12)\n",
    "d = v(0, -1, 0.5)\n",
    "zeichne([g, 2],  P, [F, blau, 2], [Qg, 2, rot], Strecke(P, Qg),\n",
    "        bez=[ (P+d, 'P'),         \n",
    "              (F+d, 'F'),                 \n",
    "              (Qg+d, 'Qg'),       \n",
    "              (g.pkt(3)-d, 'g')] )"
   ]
  },
  {
   "cell_type": "markdown",
   "metadata": {},
   "source": [
    "<img src='bilder/bild2.png', align='left'><br>"
   ]
  },
  {
   "cell_type": "markdown",
   "metadata": {},
   "source": [
    "<div style='color:sandybrown'>\n",
    "<i><b>Grafiken dienen in agla vorrangig der Kontrolle von Rechenergebnissen, <br>\n",
    "mit ihrer Hilfe können auch Lösungsansätze gesucht werden <br>\n",
    "</b></i>\n",
    "</div>\n"
   ]
  },
  {
   "cell_type": "markdown",
   "metadata": {},
   "source": [
    "Noch etwas zu Abbildungen:"
   ]
  },
  {
   "cell_type": "code",
   "execution_count": 24,
   "metadata": {
    "collapsed": true
   },
   "outputs": [],
   "source": [
    "abb = spiegelung(g)"
   ]
  },
  {
   "cell_type": "code",
   "execution_count": 25,
   "metadata": {
    "collapsed": false
   },
   "outputs": [
    {
     "data": {
      "text/latex": [
       "$$\\left ( \\left(\\begin{matrix}\\frac{12}{13} & 0 & - \\frac{5}{13}\\\\0 & -1 & 0\\\\- \\frac{5}{13} & 0 & - \\frac{12}{13}\\end{matrix}\\right), \\quad \\left(\\begin{matrix}\\frac{27}{13}\\\\-4\\\\\\frac{135}{13}\\end{matrix}\\right), \\quad 1\\right )$$"
      ],
      "text/plain": [
       "⎛⎡ 12             ⎤           ⎞\n",
       "⎜⎢ ──    0   -5/13⎥, Vektor, 1⎟\n",
       "⎜⎢ 13             ⎥           ⎟\n",
       "⎜⎢                ⎥           ⎟\n",
       "⎜⎢  0    -1    0  ⎥           ⎟\n",
       "⎜⎢                ⎥           ⎟\n",
       "⎜⎢           -12  ⎥           ⎟\n",
       "⎜⎢-5/13  0   ──── ⎥           ⎟\n",
       "⎝⎣            13  ⎦           ⎠"
      ]
     },
     "execution_count": 25,
     "metadata": {},
     "output_type": "execute_result"
    }
   ],
   "source": [
    "abb.matrix, abb.versch, abb.matrix.D   # Matrix, Verschiebungsvektor,  \n",
    "                                       # Determinante der Matrix"
   ]
  },
  {
   "cell_type": "code",
   "execution_count": 26,
   "metadata": {
    "collapsed": false
   },
   "outputs": [
    {
     "data": {
      "text/latex": [
       "$$\\left(\\begin{matrix}\\frac{36}{13}\\\\4\\\\\\frac{89}{13}\\end{matrix}\\right)$$"
      ],
      "text/plain": [
       "Vektor"
      ]
     },
     "execution_count": 26,
     "metadata": {},
     "output_type": "execute_result"
    }
   ],
   "source": [
    "abb.matrix * P + abb.versch   # so wird in der bild-Methode der \n",
    "                              # Punkt Qg ermittelt"
   ]
  },
  {
   "cell_type": "markdown",
   "metadata": {},
   "source": [
    "<br>\n",
    "\n",
    "## 2. Kollinearität / Komplanarität von Vektoren\n",
    "<br>"
   ]
  },
  {
   "cell_type": "code",
   "execution_count": 27,
   "metadata": {
    "collapsed": false
   },
   "outputs": [
    {
     "data": {
      "text/latex": [
       "$$\\left ( \\left(\\begin{matrix}3\\\\-2\\\\5\\end{matrix}\\right), \\quad \\left(\\begin{matrix}-1\\\\0\\\\4\\end{matrix}\\right), \\quad \\left(\\begin{matrix}9\\\\-4\\\\-2\\end{matrix}\\right)\\right )$$"
      ],
      "text/plain": [
       "(Vektor, Vektor, Vektor)"
      ]
     },
     "execution_count": 27,
     "metadata": {},
     "output_type": "execute_result"
    }
   ],
   "source": [
    "a = v(3, -2, 5); b = v(-1, 0, 4); c = v(9, -4, -2)   # gegeben\n",
    "a, b, c"
   ]
  },
  {
   "cell_type": "markdown",
   "metadata": {},
   "source": [
    "### Kollinearität von 2 Vektoren"
   ]
  },
  {
   "cell_type": "code",
   "execution_count": 28,
   "metadata": {
    "collapsed": false
   },
   "outputs": [
    {
     "data": {
      "text/latex": [
       "$$\\left ( \\left(\\begin{matrix}\\frac{3 \\sqrt{38}}{38}\\\\- \\frac{\\sqrt{38}}{19}\\\\\\frac{5 \\sqrt{38}}{38}\\end{matrix}\\right), \\quad \\left(\\begin{matrix}\\frac{3 \\sqrt{38}}{38}\\\\- \\frac{\\sqrt{38}}{19}\\\\\\frac{5 \\sqrt{38}}{38}\\end{matrix}\\right)\\right )$$"
      ],
      "text/plain": [
       "(Vektor, Vektor)"
      ]
     },
     "execution_count": 28,
     "metadata": {},
     "output_type": "execute_result"
    }
   ],
   "source": [
    "e = a.einh_vekt   # der Einheitsvektor von a\n",
    "\n",
    "e, a / a.betrag   "
   ]
  },
  {
   "cell_type": "code",
   "execution_count": 29,
   "metadata": {
    "collapsed": false
   },
   "outputs": [
    {
     "data": {
      "text/plain": [
       "True"
      ]
     },
     "execution_count": 29,
     "metadata": {},
     "output_type": "execute_result"
    }
   ],
   "source": [
    "kollinear(a, e)   # die Abfrage ergibt Kollinearität"
   ]
  },
  {
   "cell_type": "code",
   "execution_count": 30,
   "metadata": {
    "collapsed": false
   },
   "outputs": [
    {
     "data": {
      "text/latex": [
       "$$\\left(\\begin{matrix}\\frac{3 \\sqrt{38}}{38}\\\\- \\frac{\\sqrt{38}}{19}\\\\\\frac{5 \\sqrt{38}}{38}\\end{matrix}\\right)=\\frac{\\sqrt{38}}{38}\\cdot\\left(\\begin{matrix}3\\\\-2\\\\5\\end{matrix}\\right)$$"
      ],
      "text/plain": [
       "<IPython.core.display.Math object>"
      ]
     },
     "metadata": {},
     "output_type": "display_data"
    }
   ],
   "source": [
    "kollinear(a, e, d=ja)   # Darstellung von e durch a"
   ]
  },
  {
   "cell_type": "code",
   "execution_count": 31,
   "metadata": {
    "collapsed": false
   },
   "outputs": [
    {
     "data": {
      "text/latex": [
       "$$\\left(\\begin{matrix}3\\\\-2\\\\5\\end{matrix}\\right)=\\sqrt{38}\\cdot\\left(\\begin{matrix}\\frac{3 \\sqrt{38}}{38}\\\\- \\frac{\\sqrt{38}}{19}\\\\\\frac{5 \\sqrt{38}}{38}\\end{matrix}\\right)$$"
      ],
      "text/plain": [
       "<IPython.core.display.Math object>"
      ]
     },
     "metadata": {},
     "output_type": "display_data"
    }
   ],
   "source": [
    "kollinear(e, a, d=ja)   # Darstellung von a durch e"
   ]
  },
  {
   "cell_type": "markdown",
   "metadata": {},
   "source": [
    "### Komplanarität von 3 Vektoren"
   ]
  },
  {
   "cell_type": "code",
   "execution_count": 32,
   "metadata": {
    "collapsed": false
   },
   "outputs": [
    {
     "data": {
      "text/plain": [
       "True"
      ]
     },
     "execution_count": 32,
     "metadata": {},
     "output_type": "execute_result"
    }
   ],
   "source": [
    "komplanar(a, b, c)   # die Abfrage ergibt Komplanarität"
   ]
  },
  {
   "cell_type": "code",
   "execution_count": 33,
   "metadata": {
    "collapsed": false
   },
   "outputs": [
    {
     "data": {
      "image/png": "[encoded data removed]",
      "text/latex": [
       "$$0$$"
      ],
      "text/plain": [
       "0"
      ]
     },
     "execution_count": 33,
     "metadata": {},
     "output_type": "execute_result"
    }
   ],
   "source": [
    "(a >< b) * c   # das Spatprodukt ist 0;  >< Vektor-, * Skalarprodukt"
   ]
  },
  {
   "cell_type": "markdown",
   "metadata": {},
   "source": [
    "Linearkombination mit Koeffizienten ungleich Null, die den Nullvektor ergibt"
   ]
  },
  {
   "cell_type": "code",
   "execution_count": 34,
   "metadata": {
    "collapsed": false
   },
   "outputs": [
    {
     "data": {
      "text/latex": [
       "$$-2\\cdot\\left(\\begin{matrix}3\\\\-2\\\\5\\end{matrix}\\right)+3\\cdot\\left(\\begin{matrix}-1\\\\0\\\\4\\end{matrix}\\right)+1\\cdot\\left(\\begin{matrix}9\\\\-4\\\\-2\\end{matrix}\\right)=\\left(\\begin{matrix}0\\\\0\\\\0\\end{matrix}\\right)$$"
      ],
      "text/plain": [
       "<IPython.core.display.Math object>"
      ]
     },
     "metadata": {},
     "output_type": "display_data"
    }
   ],
   "source": [
    "komplanar(a, b, c, l=ja)"
   ]
  },
  {
   "cell_type": "markdown",
   "metadata": {},
   "source": [
    "Darstellung jedes Vektors durch die beiden anderen"
   ]
  },
  {
   "cell_type": "code",
   "execution_count": 35,
   "metadata": {
    "collapsed": false
   },
   "outputs": [
    {
     "data": {
      "text/latex": [
       "$$\\left ( \\left(\\begin{matrix}3\\\\-2\\\\5\\end{matrix}\\right), \\quad \\left(\\begin{matrix}-1\\\\0\\\\4\\end{matrix}\\right), \\quad \\left(\\begin{matrix}9\\\\-4\\\\-2\\end{matrix}\\right)\\right )$$"
      ],
      "text/plain": [
       "(Vektor, Vektor, Vektor)"
      ]
     },
     "execution_count": 35,
     "metadata": {},
     "output_type": "execute_result"
    }
   ],
   "source": [
    "a, b, c"
   ]
  },
  {
   "cell_type": "code",
   "execution_count": 36,
   "metadata": {
    "collapsed": false
   },
   "outputs": [
    {
     "data": {
      "text/latex": [
       "$$\\left(\\begin{matrix}3\\\\-2\\\\5\\end{matrix}\\right)=\\frac{3}{2}\\cdot\\left(\\begin{matrix}-1\\\\0\\\\4\\end{matrix}\\right)+\\frac{1}{2}\\cdot\\left(\\begin{matrix}9\\\\-4\\\\-2\\end{matrix}\\right)$$"
      ],
      "text/plain": [
       "<IPython.core.display.Math object>"
      ]
     },
     "metadata": {},
     "output_type": "display_data"
    },
    {
     "data": {
      "text/latex": [
       "$$\\left(\\begin{matrix}-1\\\\0\\\\4\\end{matrix}\\right)=\\frac{2}{3}\\cdot\\left(\\begin{matrix}3\\\\-2\\\\5\\end{matrix}\\right)-\\frac{1}{3}\\cdot\\left(\\begin{matrix}9\\\\-4\\\\-2\\end{matrix}\\right)$$"
      ],
      "text/plain": [
       "<IPython.core.display.Math object>"
      ]
     },
     "metadata": {},
     "output_type": "display_data"
    },
    {
     "data": {
      "text/latex": [
       "$$\\left(\\begin{matrix}9\\\\-4\\\\-2\\end{matrix}\\right)=2\\cdot\\left(\\begin{matrix}3\\\\-2\\\\5\\end{matrix}\\right)-3\\cdot\\left(\\begin{matrix}-1\\\\0\\\\4\\end{matrix}\\right)$$"
      ],
      "text/plain": [
       "<IPython.core.display.Math object>"
      ]
     },
     "metadata": {},
     "output_type": "display_data"
    }
   ],
   "source": [
    "komplanar(a, b, c, d=ja)   "
   ]
  },
  {
   "cell_type": "markdown",
   "metadata": {},
   "source": [
    "Visuelle Darstellung der Komplanarität"
   ]
  },
  {
   "cell_type": "code",
   "execution_count": 37,
   "metadata": {
    "collapsed": true
   },
   "outputs": [],
   "source": [
    "zeichne([-2*a, O, rot, 2],        # Zeichnen von -2*a im Ursprung O\n",
    "        [3*b, -2*a, grün, 2],     # Zeichnen von 3*b im Endpunkt von \n",
    "                                  # -2*a\n",
    "        [c, -2*a + 3*b, blau, 2], # Zeichnen von c im Endpunkt von \n",
    "                                  # -2*a+3*b\n",
    "        box=nein)"
   ]
  },
  {
   "cell_type": "markdown",
   "metadata": {},
   "source": [
    "<br>\n",
    "\n",
    "## 3. Lösung eines LGS\n",
    "<br>\n",
    "Zur Ermittlung, ob die obigen 3 Vektoren komplanar sind, ist folgende \n",
    "<br>Vektorgleichung zu lösen\n",
    "\n",
    "$\\qquad r \\,\\vec{a} + s \\,\\vec{b} + t \\,\\vec{c} = \\vec{O}$\n",
    "\n",
    "Es wird eine nichttriviale Linearkombintion gesucht, die den Nullvektor ergibt \n",
    "<br>(die triviale Lösung $\\;r = s = t = 0\\;$ ist offensichtlich)\n",
    "\n",
    "Es wird nur der Ausdruck auf der liinken Seite benötigt, \n",
    "auf der rechten Seite wird <br>der Nullvektor angenommen:"
   ]
  },
  {
   "cell_type": "code",
   "execution_count": 38,
   "metadata": {
    "collapsed": false
   },
   "outputs": [
    {
     "data": {
      "text/latex": [
       "$$\\left(\\begin{matrix}3 r - s + 9 t\\\\- 2 r - 4 t\\\\5 r + 4 s - 2 t\\end{matrix}\\right)$$"
      ],
      "text/plain": [
       "Vektorschar([r, s, t])"
      ]
     },
     "execution_count": 38,
     "metadata": {},
     "output_type": "execute_result"
    }
   ],
   "source": [
    "gleichung = r*a + s*b + t*c   \n",
    "gleichung"
   ]
  },
  {
   "cell_type": "markdown",
   "metadata": {},
   "source": [
    "Die Funktion <i>löse</i> akzeptiert auch eine Vektorgleichung"
   ]
  },
  {
   "cell_type": "code",
   "execution_count": 39,
   "metadata": {
    "collapsed": false
   },
   "outputs": [
    {
     "data": {
      "image/png": "[encoded data removed]",
      "text/latex": [
       "$$\\left \\{ r : - 2 t, \\quad s : 3 t\\right \\}$$"
      ],
      "text/plain": [
       "{r: -2⋅t, s: 3⋅t}"
      ]
     },
     "execution_count": 39,
     "metadata": {},
     "output_type": "execute_result"
    }
   ],
   "source": [
    "löse(gleichung)"
   ]
  },
  {
   "cell_type": "markdown",
   "metadata": {},
   "source": [
    "Zur Demonstration des Lösungsverfahrens wird ein LGS-Objekt erzeugt und nach \n",
    "<br>dem Gauß-Algorithmus gelöst"
   ]
  },
  {
   "cell_type": "code",
   "execution_count": 40,
   "metadata": {
    "collapsed": true
   },
   "outputs": [],
   "source": [
    "lgs = LGS(gleichung)"
   ]
  },
  {
   "cell_type": "code",
   "execution_count": 41,
   "metadata": {
    "collapsed": false
   },
   "outputs": [
    {
     "name": "stdout",
     "output_type": "stream",
     "text": [
      "    I      3r -  s + 9t = 0\n",
      "   II     -2r      - 4t = 0\n",
      "  III      5r + 4s - 2t = 0\n"
     ]
    }
   ],
   "source": [
    "lgs.ausg"
   ]
  },
  {
   "cell_type": "markdown",
   "metadata": {},
   "source": [
    "*Die Latex-Ausgabe von Gleichungssystemen aus einem Programm heraus klappt <br>\n",
    "noch nicht, deswegen wird hier eine print-Ausgabe gemacht*"
   ]
  },
  {
   "cell_type": "code",
   "execution_count": 42,
   "metadata": {
    "collapsed": false
   },
   "outputs": [
    {
     "name": "stdout",
     "output_type": "stream",
     "text": [
      "                r      s      t\n",
      "    I           3     -1      9      0\n",
      "   II          -2      0     -4      0\n",
      "  III           5      4     -2      0\n",
      "\n",
      "Überführen in Dreieckform, Schritt 1      II = 2*I+3*II   III = 5*I-3*III\n",
      "                r      s      t\n",
      "    I           3     -1      9      0\n",
      "   II           0     -2      6      0\n",
      "  III           0    -17     51      0\n",
      "\n",
      "Überführen in Dreieckform, Schritt 2      III = 17*II-2*III\n",
      "                r      s      t\n",
      "    I           3     -1      9      0\n",
      "   II           0     -2      6      0\n",
      "  III           0      0      0      0\n",
      "\n",
      "Es liegt 1 Nullzeile vor, die gestrichen wird\n",
      "\n",
      "                r      s      t\n",
      "    I           3     -1      9      0\n",
      "   II           0     -2      6      0\n",
      "\n",
      "Berechnen der Lösung durch Rücksubstitution   ( 'von unten nach oben' )\n",
      "\n",
      "  [II]:        -2s + 6t = 0  ->  s = 3t\n",
      "in [I]:        3r + 6t = 0  ->  r = -2t\n",
      "\n",
      "\n",
      "Die Lösung ist\n"
     ]
    },
    {
     "data": {
      "text/latex": [
       "$$\\left \\{ r : - 2 t, \\quad s : 3 t\\right \\}$$"
      ],
      "text/plain": [
       "<IPython.core.display.Math object>"
      ]
     },
     "metadata": {},
     "output_type": "display_data"
    },
    {
     "name": "stdout",
     "output_type": "stream",
     "text": [
      "oder\n"
     ]
    },
    {
     "data": {
      "text/latex": [
       "$$\\left \\{ r : - 2 c_{1}, \\quad s : 3 c_{1}, \\quad t : c_{1}\\right \\}$$"
      ],
      "text/plain": [
       "<IPython.core.display.Math object>"
      ]
     },
     "metadata": {},
     "output_type": "display_data"
    },
    {
     "name": "stdout",
     "output_type": "stream",
     "text": [
      " \n"
     ]
    }
   ],
   "source": [
    "lgs.gauß"
   ]
  },
  {
   "cell_type": "markdown",
   "metadata": {},
   "source": [
    "<br>\n",
    "\n",
    "## 4. Anwendung von Verfahren\n",
    "\n",
    "<br>\n",
    "Es seien"
   ]
  },
  {
   "cell_type": "code",
   "execution_count": 43,
   "metadata": {
    "collapsed": false
   },
   "outputs": [
    {
     "data": {
      "text/latex": [
       "$$\\left ( \\left(\\begin{matrix}-3\\\\-2\\\\6\\end{matrix}\\right), \\quad \\left(\\begin{matrix}2\\\\-2\\\\5\\end{matrix}\\right), \\quad \\left(\\begin{matrix}1\\\\-3\\\\-4\\end{matrix}\\right), \\quad \\left(\\begin{matrix}-2\\\\-3\\\\1\\end{matrix}\\right)\\right )$$"
      ],
      "text/plain": [
       "(Vektor, Vektor, Vektor, Vektor)"
      ]
     },
     "execution_count": 43,
     "metadata": {},
     "output_type": "execute_result"
    }
   ],
   "source": [
    "P = v(-2, -3, 1)\n",
    "g = Gerade(A, v(A,B))\n",
    "e = Ebene(A, v(A, B), v(A, C))\n",
    "\n",
    "A, B, C, P   # s.o."
   ]
  },
  {
   "cell_type": "code",
   "execution_count": 44,
   "metadata": {
    "collapsed": false
   },
   "outputs": [
    {
     "data": {
      "text/latex": [
       "$$\\left(\\begin{matrix}x\\\\y\\\\z\\end{matrix}\\right)=\\left(\\begin{matrix}-3\\\\-2\\\\6\\end{matrix}\\right)+t\\,\\left(\\begin{matrix}5\\\\0\\\\-1\\end{matrix}\\right)$$"
      ],
      "text/plain": [
       "<IPython.core.display.Math object>"
      ]
     },
     "metadata": {},
     "output_type": "display_data"
    }
   ],
   "source": [
    "g.prg"
   ]
  },
  {
   "cell_type": "code",
   "execution_count": 45,
   "metadata": {
    "collapsed": false
   },
   "outputs": [
    {
     "data": {
      "text/latex": [
       "$$\\left(\\begin{matrix}x\\\\y\\\\z\\end{matrix}\\right)=\\left(\\begin{matrix}-3\\\\-2\\\\6\\end{matrix}\\right)+r\\,\\left(\\begin{matrix}5\\\\0\\\\-1\\end{matrix}\\right)+s\\,\\left(\\begin{matrix}4\\\\-1\\\\-10\\end{matrix}\\right)$$"
      ],
      "text/plain": [
       "<IPython.core.display.Math object>"
      ]
     },
     "metadata": {},
     "output_type": "display_data"
    }
   ],
   "source": [
    "e.prg"
   ]
  },
  {
   "cell_type": "markdown",
   "metadata": {},
   "source": [
    "Zur Demonstration der Berechnung des Abstandes des Punktes $P$ von der Geraden \n",
    "<br>$g$ kann ein Verfahren benutzt werden"
   ]
  },
  {
   "cell_type": "code",
   "execution_count": 46,
   "metadata": {
    "collapsed": false
   },
   "outputs": [
    {
     "name": "stdout",
     "output_type": "stream",
     "text": [
      "\n",
      "AbstandPunktGerade - Verfahren\n",
      "\n",
      "Abstand eines Punktes von einer Geraden, Version 0 über eine\n",
      "Hilfsebene mit Normalengleichung\n",
      "\n",
      "Aufruf     APG( punkt, gerade )\n",
      "\n",
      "                punkt    Punkt\n",
      "                gerade   Gerade\n",
      "\n"
     ]
    }
   ],
   "source": [
    "APG(h=1)"
   ]
  },
  {
   "cell_type": "code",
   "execution_count": 47,
   "metadata": {
    "collapsed": false
   },
   "outputs": [
    {
     "name": "stdout",
     "output_type": "stream",
     "text": [
      "\n",
      "Abstand eines Punktes von einer Geraden\n",
      "\n",
      "Gegeben:\n",
      "\n"
     ]
    },
    {
     "data": {
      "text/latex": [
       "$$\\quad \\quad P\\left(\\,-2\\left|\\,-3\\, \\right|1\\,\\right), \\quad \\quad g : \\;\\left(\\begin{matrix}x\\\\y\\\\z\\end{matrix}\\right)=\\left(\\begin{matrix}-3\\\\-2\\\\6\\end{matrix}\\right)+t\\,\\left(\\begin{matrix}5\\\\0\\\\-1\\end{matrix}\\right)$$"
      ],
      "text/plain": [
       "<IPython.core.display.Math object>"
      ]
     },
     "metadata": {},
     "output_type": "display_data"
    },
    {
     "name": "stdout",
     "output_type": "stream",
     "text": [
      "\n",
      "Bestimmung der Ebene E, die senkrecht zu g ist und P enthält:\n",
      "\n",
      "     Normalenvektor ist der Richtungsvektor von g, Normalenform ist dann\n"
     ]
    },
    {
     "data": {
      "text/latex": [
       "$$\\quad \\quad \\;\\left[\\left(\\begin{matrix}x\\\\y\\\\z\\end{matrix}\\right)-\\left(\\begin{matrix}-2\\\\-3\\\\1\\end{matrix}\\right)\\right]\\circ\\left(\\begin{matrix}5\\\\0\\\\-1\\end{matrix}\\right)=0$$"
      ],
      "text/plain": [
       "<IPython.core.display.Math object>"
      ]
     },
     "metadata": {},
     "output_type": "display_data"
    },
    {
     "name": "stdout",
     "output_type": "stream",
     "text": [
      "\n",
      "Bestimmung des Schnittpunktes der Geraden mit dieser Ebene:\n",
      "\n",
      "     Einsetzen der rechten Seite der Geradengleichung in die \n",
      "     Normalengleichung\n"
     ]
    },
    {
     "data": {
      "text/latex": [
       "$$\\quad \\quad \\;\\left[\\left(\\begin{matrix}5 t - 3\\\\-2\\\\- t + 6\\end{matrix}\\right)-\\left(\\begin{matrix}-2\\\\-3\\\\1\\end{matrix}\\right)\\right]\\circ\\left(\\begin{matrix}5\\\\0\\\\-1\\end{matrix}\\right)=0$$"
      ],
      "text/plain": [
       "<IPython.core.display.Math object>"
      ]
     },
     "metadata": {},
     "output_type": "display_data"
    },
    {
     "data": {
      "text/latex": [
       "$$\\quad \\quad \\;\\left(\\begin{matrix}5 t - 1\\\\1\\\\- t + 5\\end{matrix}\\right)\\circ\\left(\\begin{matrix}5\\\\0\\\\-1\\end{matrix}\\right)= 0$$"
      ],
      "text/plain": [
       "<IPython.core.display.Math object>"
      ]
     },
     "metadata": {},
     "output_type": "display_data"
    },
    {
     "data": {
      "text/latex": [
       "$$\\quad \\quad \\;\\left(5 t - 1\\right)\\cdot5+1\\cdot0+\\left(- t + 5\\right)\\cdot\\left(-1\\right)= 0$$"
      ],
      "text/plain": [
       "<IPython.core.display.Math object>"
      ]
     },
     "metadata": {},
     "output_type": "display_data"
    },
    {
     "data": {
      "text/latex": [
       "$$\\quad \\quad \\;26 t - 10= 0$$"
      ],
      "text/plain": [
       "<IPython.core.display.Math object>"
      ]
     },
     "metadata": {},
     "output_type": "display_data"
    },
    {
     "name": "stdout",
     "output_type": "stream",
     "text": [
      "     und Auflösen\n"
     ]
    },
    {
     "data": {
      "text/latex": [
       "$$\\quad \\quad \\; t =\\frac{5}{13}$$"
      ],
      "text/plain": [
       "<IPython.core.display.Math object>"
      ]
     },
     "metadata": {},
     "output_type": "display_data"
    },
    {
     "name": "stdout",
     "output_type": "stream",
     "text": [
      "     ergibt nach Einsetzen in die Geradengleichung den Schnittpunkt\n"
     ]
    },
    {
     "data": {
      "text/latex": [
       "$$\\quad \\quad \\; F\\left(\\,- \\frac{14}{13}\\left|\\,-2\\, \\right|\\frac{73}{13}\\,\\right)$$"
      ],
      "text/plain": [
       "<IPython.core.display.Math object>"
      ]
     },
     "metadata": {},
     "output_type": "display_data"
    },
    {
     "name": "stdout",
     "output_type": "stream",
     "text": [
      "\n",
      "Der gesuchte Abstand ist der zwischen P unf F\n"
     ]
    },
    {
     "data": {
      "text/latex": [
       "$$\\quad \\quad \\; d =\\frac{\\sqrt{3913}}{13}$$"
      ],
      "text/plain": [
       "<IPython.core.display.Math object>"
      ]
     },
     "metadata": {},
     "output_type": "display_data"
    },
    {
     "data": {
      "text/latex": [
       "$$Abstand: \\;\\;d(P, g) =\\frac{\\sqrt{3913}}{13}\\quad [ \\;4.811844360933358\\ ]$$"
      ],
      "text/plain": [
       "<IPython.core.display.Math object>"
      ]
     },
     "metadata": {},
     "output_type": "display_data"
    },
    {
     "name": "stdout",
     "output_type": "stream",
     "text": [
      "\n",
      "\n"
     ]
    }
   ],
   "source": [
    "APG(P, g)"
   ]
  },
  {
   "cell_type": "code",
   "execution_count": 48,
   "metadata": {
    "collapsed": false
   },
   "outputs": [
    {
     "data": {
      "image/png": "[encoded data removed]",
      "text/latex": [
       "$$\\frac{\\sqrt{3913}}{13}$$"
      ],
      "text/plain": [
       "√3913\n",
       "─────\n",
       "  13 "
      ]
     },
     "execution_count": 48,
     "metadata": {},
     "output_type": "execute_result"
    }
   ],
   "source": [
    "P.abstand(g)   # Vergleich mit dem Ergebnis der abstand-Methode"
   ]
  },
  {
   "cell_type": "markdown",
   "metadata": {},
   "source": [
    "<br>\n",
    "Ein anderes Verfahren zeigt die Umwandlung der Parametergleichung der Ebene $e$ \n",
    "<br>in die Koordinatenform"
   ]
  },
  {
   "cell_type": "code",
   "execution_count": 49,
   "metadata": {
    "collapsed": false
   },
   "outputs": [
    {
     "name": "stdout",
     "output_type": "stream",
     "text": [
      "\n",
      "Bestimmung einer Koordinatenform der Ebenengleichung anhand der Para-\n",
      "meterform\n",
      "\n",
      "Gegeben:\n"
     ]
    },
    {
     "data": {
      "text/latex": [
       "$$\\quad \\quad E: \\;\\left(\\begin{matrix}x\\\\y\\\\z\\end{matrix}\\right)=\\left(\\begin{matrix}-3\\\\-2\\\\6\\end{matrix}\\right)+r\\,\\left(\\begin{matrix}5\\\\0\\\\-1\\end{matrix}\\right)+s\\,\\left(\\begin{matrix}4\\\\-1\\\\-10\\end{matrix}\\right)$$"
      ],
      "text/plain": [
       "<IPython.core.display.Math object>"
      ]
     },
     "metadata": {},
     "output_type": "display_data"
    },
    {
     "name": "stdout",
     "output_type": "stream",
     "text": [
      "Das äquivalente Gleichungssystem ist\n"
     ]
    },
    {
     "data": {
      "text/latex": [
       "$$\\quad \\quad x=5 r + 4 s - 3$$"
      ],
      "text/plain": [
       "<IPython.core.display.Math object>"
      ]
     },
     "metadata": {},
     "output_type": "display_data"
    },
    {
     "data": {
      "text/latex": [
       "$$\\quad \\quad y=- s - 2$$"
      ],
      "text/plain": [
       "<IPython.core.display.Math object>"
      ]
     },
     "metadata": {},
     "output_type": "display_data"
    },
    {
     "data": {
      "text/latex": [
       "$$\\quad \\quad z=- r - 10 s + 6$$"
      ],
      "text/plain": [
       "<IPython.core.display.Math object>"
      ]
     },
     "metadata": {},
     "output_type": "display_data"
    },
    {
     "name": "stdout",
     "output_type": "stream",
     "text": [
      "Elimination der Parameter:\n",
      "\n",
      "     Eliminieren von r und s aus zwei der drei Gleichungen\n",
      "\n",
      "     hier werden die 1. und die 2. Geichung benutzt\n",
      "\n",
      "     Auflösen des LGS nach r und s; die Lösung ist\n"
     ]
    },
    {
     "data": {
      "text/latex": [
       "$$\\quad \\quad \\left \\{ r : \\frac{x}{5} + \\frac{4 y}{5} + \\frac{11}{5}, \\quad s : - y - 2\\right \\}$$"
      ],
      "text/plain": [
       "<IPython.core.display.Math object>"
      ]
     },
     "metadata": {},
     "output_type": "display_data"
    },
    {
     "name": "stdout",
     "output_type": "stream",
     "text": [
      "     r und s in die 3. Gleichung einsetzen\n"
     ]
    },
    {
     "data": {
      "text/latex": [
       "$$\\quad \\quad z=- \\frac{x}{5} + \\frac{46 y}{5} + \\frac{119}{5}$$"
      ],
      "text/plain": [
       "<IPython.core.display.Math object>"
      ]
     },
     "metadata": {},
     "output_type": "display_data"
    },
    {
     "name": "stdout",
     "output_type": "stream",
     "text": [
      "Koordinatengleichung der Ebene\n"
     ]
    },
    {
     "data": {
      "text/latex": [
       "$$\\quad \\quad \\frac{x}{5} - \\frac{46 y}{5} + z - \\frac{119}{5}=0$$"
      ],
      "text/plain": [
       "<IPython.core.display.Math object>"
      ]
     },
     "metadata": {},
     "output_type": "display_data"
    },
    {
     "name": "stdout",
     "output_type": "stream",
     "text": [
      "Bei Bedarf können die Brüche beseitigt werden (Multiplikation mit 5)\n"
     ]
    },
    {
     "data": {
      "text/latex": [
       "$$\\quad \\quad x - 46 y + 5 z - 119=0$$"
      ],
      "text/plain": [
       "<IPython.core.display.Math object>"
      ]
     },
     "metadata": {},
     "output_type": "display_data"
    },
    {
     "name": "stdout",
     "output_type": "stream",
     "text": [
      "\n"
     ]
    }
   ],
   "source": [
    "EP2K(e)"
   ]
  },
  {
   "cell_type": "code",
   "execution_count": 50,
   "metadata": {
    "collapsed": false
   },
   "outputs": [
    {
     "data": {
      "image/png": "[encoded data removed]",
      "text/latex": [
       "$$- x + 46 y - 5 z + 119=0$$"
      ],
      "text/plain": [
       "-x + 46*y - 5*z + 119 = 0"
      ]
     },
     "execution_count": 50,
     "metadata": {},
     "output_type": "execute_result"
    }
   ],
   "source": [
    "e.koord    # Vergleich mit der koord-Eigenschaft der Ebene"
   ]
  },
  {
   "cell_type": "markdown",
   "metadata": {},
   "source": [
    "<br>\n",
    "### Liste der Verfahren\n",
    "<br>\n",
    "Unten sind alle implementierten Verfahren aufgeführt, die die detaillierten\n",
    "<br>Berechnungen anhand der Daten des Anwenders demonstrieren"
   ]
  },
  {
   "cell_type": "code",
   "execution_count": 51,
   "metadata": {
    "collapsed": false
   },
   "outputs": [
    {
     "name": "stdout",
     "output_type": "stream",
     "text": [
      "\t\t\n",
      "Verfahren\n",
      "\t\t\n",
      "Verfahren sind für wiederkehrende Aufgaben im Raum R^3 vorgesehen und\n",
      "sollen den Lernvorgang direkt unterstützen\n",
      "\n",
      "Die Verfahren brauchen nicht weiter erläutert zu werden, sie werden\n",
      "mit einem einprägsamen Kurznamen aktiviert, der auch ihren Inhalt cha-\n",
      "rakterisiert\n",
      "\n",
      "Zu ihrem Gebrauch wird empfohlen, die entsprechende Hilfeseite einzuse-\n",
      "hen, etwa mit\n",
      "\n",
      "   In [..]: AGG(h=1)\n",
      "\t\t\n",
      "Es sind folgende Verfahren implementiert:\n",
      "\t\n",
      "AEE  Abstand-Ebene-Ebene\t\t\t   \n",
      "AGE  Abstand-Gerade-Ebene\t\t\t\n",
      "AGG  Abstand-Gerade-Gerade  Version 0\t\t  \n",
      "AGG1                     ...Version 1\t\t  \n",
      "AGG2                     ...Version 2\t\t  \n",
      "APE  Abstand-Punkt-Ebene    Version 0\t\t   \n",
      "APE1                     ...Version 1\t\t   \n",
      "APE2                     ...Version 2\t\t   \n",
      "APG  Abstand-Punkt-Gerade   Version 0  \t\t\t\n",
      "APG1                     ...Version 1  \t\t  \t\t\n",
      "APG2                     ...Version 2  \t\t   \t\t\n",
      "APG3                     ...Version 3  \t\t   \t\t\n",
      "APP  Abstand-Punkt-Punkt\t\n",
      "LEE  Lage-Ebene-Ebene\t\t\t                \n",
      "LGE  Lage-Gerade-Ebene      Version 0\t\t\t                \n",
      "LGE1                     ...Version 1\t\t\t                \n",
      "LGG  Lage-Gerade-Gerade     Version 0\t\t\t\n",
      "LGG1                     ...Version 1\t\t\t\n",
      "LPD  Lage-Punkt-Dreieck     Version 0\t\t\t \n",
      "LPD1                     ...Version 1    \t\t \n",
      "LPE  Lage-Punkt-Ebene\t\t\t\n",
      "LPG  Lage-Punkt-Gerade\t\t\t\n",
      "LPV  Lage-Punkt-Viereck\n",
      "LPK  Lage-Punkt-Kugel\t\t\t\n",
      "LGK  Lage-Gerade-Kugel\t\t\t\n",
      "LEK  Lage-Ebene-Kugel\t\t\t\n",
      "WEE  Winkel-Ebene-Ebene\t\t\t\n",
      "WGE  Winkel-Gerade_Ebene\t\t\t\n",
      "WVV  Winkel-Vektor-Vektor\n",
      "\t\n",
      "Auf Ebenen bezogene Verfahren\n",
      "ERV   Richt-Vektor         = RV    Ermittlung von 2 Richtungsvektoren\t\n",
      "ENV   Norm-Vektor-Version0 = NV    Ermittlung eines Normalenvektors \t\t\n",
      "ENV1           ...Version1 = NV1   einer Ebene / zu 2 gegebenen Vektoren\t\t\t\n",
      "Umformung von Gleichungen\t\t\t\n",
      "EK2P  Ebene-Koord-2-Prg Version 0  Koordinatenform -> Parameterform\t    \n",
      "EK2P1                ...Version 1  ebenso\t\t    \n",
      "EN2P  Ebene-Nf-2-Prg               Normalenform -> Parameterform\t\t\t\t  \n",
      "EP2K  Ebene-Prg-2-Koord Version 0  Parameterform -> Koordinatenform\t\t   \n",
      "EP2K1                ...Version 1  ebenso\t\t  \n",
      "EP2N  Ebene-Prg-2-Nf               Parameterform -> Normalenform\n",
      "\n",
      "( '2' = 't(w)o' )\n",
      "        \n"
     ]
    }
   ],
   "source": [
    "Hilfe(h=12)"
   ]
  },
  {
   "cell_type": "markdown",
   "metadata": {},
   "source": [
    "<div style='color:sandybrown'>\n",
    "<i><b>Der Schwierigkeitsgrad zur Ergänzug dieser Liste durch die Entwicklung <br>weiterer \n",
    "Verfahren ist (bei Erfahrungen mit agla) nicht sehr hoch <br>\n",
    "</b></i>\n",
    "</div><br>"
   ]
  },
  {
   "cell_type": "markdown",
   "metadata": {},
   "source": [
    "## 5. Klassen in <i>agla</i>\n"
   ]
  },
  {
   "cell_type": "code",
   "execution_count": 52,
   "metadata": {
    "collapsed": false
   },
   "outputs": [
    {
     "name": "stdout",
     "output_type": "stream",
     "text": [
      "\t\t\n",
      "Klassen im Raum R^3\n",
      "\t\t\n",
      "Vektor  / = Punkt\n",
      "Gerade\n",
      "Ebene\n",
      "Kugel\n",
      "Parallelogramm  / = ParGramm\n",
      "Spat\n",
      "Strecke\t\t\n",
      "Dreieck\t\t\n",
      "Viereck\n",
      "Kreis\n",
      "Pyramide\n",
      "Prisma\n",
      "Kegel\n",
      "Zylinder\n",
      "Körper\t\t\n",
      "Matrix\t\t\n",
      "Abbildung\n",
      "Kurve\n",
      "Fläche2terOrdnung  / = F2O\n",
      "Fläche\n",
      "\n",
      "Punkte werden mit ihren Ortsvektoren identifiziert\t\t\n",
      "        \n"
     ]
    }
   ],
   "source": [
    "Hilfe(h=6)"
   ]
  },
  {
   "cell_type": "code",
   "execution_count": 53,
   "metadata": {
    "collapsed": false
   },
   "outputs": [
    {
     "name": "stdout",
     "output_type": "stream",
     "text": [
      "\t\t\n",
      "Klassen in der Ebene R^2\n",
      "\t\t\n",
      "Vektor  / = Punkt\n",
      "Gerade\n",
      "Parallelogramm  / = ParGramm\n",
      "Strecke\t\t\n",
      "Dreieck\t\t\n",
      "Viereck\n",
      "Figur\n",
      "Kreis\n",
      "Matrix\t\t\n",
      "Abbildung\n",
      "Ellipse\n",
      "Hyperbel\n",
      "Parabel\t\t\n",
      "Kurve2terOrdnung  / = KegelSchnitt / = K2O\n",
      "Kurve\n",
      "\n",
      "Punkte werden mit ihren Ortsvektoren identifiziert\t\t\n",
      "        \n"
     ]
    }
   ],
   "source": [
    "Hilfe(h=7)"
   ]
  },
  {
   "cell_type": "code",
   "execution_count": 54,
   "metadata": {
    "collapsed": false
   },
   "outputs": [
    {
     "name": "stdout",
     "output_type": "stream",
     "text": [
      "\t\t\n",
      "Andere Klassen\n",
      "\t\t\n",
      "Vektor  / = Punkt  (Komponentenanzahl > 3)\n",
      "Matrix (Zeilenanzahl > 3)\n",
      "LinearesGleichungssystem  / = LGS\n",
      "Gleichung\n",
      "\n",
      "Klassen der sphärischen Geometrie\t\t\n",
      "sPunkt\t\t\n",
      "sGerade\n",
      "sStrecke\n",
      "sDreieck\n",
      "sZweieck\t\t\n",
      "sKreis\n",
      "\n",
      "Klassen der hyperbolischen Geometrie\n",
      "hPunkt\n",
      "hGerade\n",
      "hStrahl\n",
      "hStrecke\t\t\n",
      "hDreieck\n",
      "hKreis\t\t\n",
      "        \n"
     ]
    }
   ],
   "source": [
    "Hilfe(h=8)"
   ]
  },
  {
   "cell_type": "markdown",
   "metadata": {},
   "source": [
    "## 6. Hilfe-Informationen\n",
    "\n",
    "<i>agla</i> verfügt über ein eingebautes Hilfesystem\n",
    "\n",
    "Hilfethemen können mit <i>Hilfe(...)</i> abgefragt werden<br> \n",
    "\n",
    "Hilfe zur Erzeugung von Objekten kann jederzeit erhalten werden, indem in der \n",
    "<br>Erzeugerfunktion des Objektes als letztes Argument <i>h = 1</i> angegeben wird, etwa\n",
    "\n",
    "<i>$\\qquad$Gerade(A, v(A, B), h=1)</i>\n",
    "\n",
    "Das gilt auch für alle Funktions- und Methodenaufrufe\n",
    "\n",
    "Zu einem existierenden Objekt sind die Namen seiner Eigenschaften und Methoden \n",
    "<br>über die <i>h</i>-Eigenschaft erhältlich, etwa "
   ]
  },
  {
   "cell_type": "code",
   "execution_count": 55,
   "metadata": {
    "collapsed": false
   },
   "outputs": [
    {
     "name": "stdout",
     "output_type": "stream",
     "text": [
      "\n",
      "Eigenschaften und Methoden (M) für Vektoren im Raum R^3 und\n",
      "in der Ebene R^2\n",
      "\n",
      "vek.hilfe                Bezeichner der Eigenschaften und Methoden\n",
      "vek.abstand(...)      M  Abstand zu anderen Objekten\n",
      "vek.betrag               Betrag\n",
      "vek.betrag_(...)      M  ebenso, zugehörige Methode\n",
      "vek.bild(...)         M  Bild bei einer Abbildung\n",
      "vek.d                    Ableitungsvektor (eine Variable)\n",
      "vek.dez                  Dezimaldarstellung\n",
      "vek.dez_(...)         M  ebenso, zugehörige Methode\n",
      "vek.diff(...)         M  Ableitungsvektor (mehr als eine Variable)\n",
      "vek.dim                  Dimension (Anzahl Komponenten)\n",
      "vek.einfach              Vereinfachung eines Vektors\n",
      "vek.einh_vekt            Einheitsvektor\n",
      "vek.is_schar             Test auf Schar\n",
      "vek.kette(...)        M  Verketten zu einer Matrix\n",
      "vek.kollinear(...)    M  Kollinearität von Vektoren/Punkten\n",
      "vek.komp                 Komponenten\n",
      "vek.komplanar(...)    M  Komplanarität von Vektoren/Punkten (nur im Raum R^3)\n",
      "vek.koord                Koordinaten  (= vek.komp)\n",
      "vek.länge                Länge  (= vek.betrag)\n",
      "vek.länge_(...)       M  ebenso, zugehörige Methode\n",
      "vek.O                    Nullvektor (in der Dimension des Vektors)\n",
      "vek.punkt_ausg           Ausgabe als Punkt\n",
      "vek.sch_par              Parameter einer Schar\n",
      "vek.sch_el(...)       M  Element einer Schar\n",
      "vek.schnitt(...)      M  Schnittmenge mit anderen Objekten\n",
      "vek.sp(...)           M  Skalarprodukt; Operator * oder °\n",
      "vek.vektor2sympy         Konvertierung in eine SympyMatrix\n",
      "vek.vp(...)           M  Vektorprodukt; Operator ><   (nur im Raum R^3)\n",
      "vek.winkel(...)       M  Winkel mit anderen Objekten\n",
      "vek.x                    x-Komponente\n",
      "vek.y                    y-Komponente\n",
      "vek.z                    z-Komponente   (nur im Raum R^3)\n",
      "vek.zeil                 Zeilenvektor\n",
      "\n",
      "Synonyme Bezeichner\n",
      "\n",
      "hilfe       :  h\n",
      "betrag_     :  Betrag\n",
      "dez_        :  Dez\n",
      "einh_vekt   :  einhVekt\n",
      "is_schar    :  isSchar\n",
      "länge_      :  Länge\n",
      "punkt_ausg  :  punktAusg\n",
      "sch_el      :  schEl\n",
      "sch_par     :  schPar\n",
      "\n"
     ]
    }
   ],
   "source": [
    "P.h"
   ]
  },
  {
   "cell_type": "markdown",
   "metadata": {},
   "source": [
    "oder"
   ]
  },
  {
   "cell_type": "code",
   "execution_count": 56,
   "metadata": {
    "collapsed": false
   },
   "outputs": [
    {
     "name": "stdout",
     "output_type": "stream",
     "text": [
      "\n",
      "Eigenschaften und Methoden (M) für Ebene\n",
      "\n",
      "e.hilfe             Bezeichner der Eigenschaften und Methoden\n",
      "e.aagl              Achsenabschnittsgleichung\n",
      "e.abstand(...)   M  Abstand zu anderen Objekten\n",
      "e.auf_pkt           = e.stütz (Aufpunkt)\n",
      "e.bild(...)      M  Bild bei einer Abbildung\n",
      "e.dim               Dimension\n",
      "e.hnf               Hessesche Normalenform\n",
      "e.is_schar          Test auf Schar\n",
      "e.koord             Koordinatengleichung\n",
      "e.koord_(...)    M  ebenso, zugehörige Methode\n",
      "e.nf                Normalenform der Gleichung\n",
      "e.nf_(...)       M  ebenso, zugehörige Methode\n",
      "e.norm              Normalenvektor\n",
      "e.par               Parameter in der Parametergleichung\n",
      "e.parallele(...) M  parallele Ebene\n",
      "e.pkt(...)       M  Ebenenpunkt\n",
      "e.prg               Parametergleichung\n",
      "e.prg_(...)      M  ebenso, zugehörige Methode\n",
      "e.punkte            Drei Punkte der Ebene\n",
      "e.punkte_(...)   M  ebenso, zugehörige Methode\n",
      "e.richt             Richtungs- (Spann-)vektoren\n",
      "e.sch_el(...)    M  Element einer Schar\n",
      "e.sch_par           Scharparameter\n",
      "e.schnitt(...)   M  Schnittmenge mit anderen Objekten\n",
      "e.spann             = e.richt\n",
      "e.spur_xy           Spur in der xy-Ebene\n",
      "e.spur_xz           Spur in der xz-Ebene\n",
      "e.spur_yz           Spur in der yz-Ebene\n",
      "e.stütz             Stützvektor\n",
      "e.winkel(...)    M  Winkel mit anderen Objekten\n",
      "\n",
      "Synonyme Bezeichner\n",
      "\n",
      "hilfe    :  h\n",
      "auf_pkt  :  aufPkt\n",
      "is_schar :  isSchar\n",
      "koord_   :  Koord\n",
      "nf_      :  Nf\n",
      "prg_     :  Prg\n",
      "punkte_  :  Punkte\n",
      "sch_el   :  schEl\n",
      "sch_par  :  schPar\n",
      "spur_xy  :  spurXY\n",
      "spur_xz  :  spurXZ\n",
      "spur_yz  :  spurYZ\n",
      "\n"
     ]
    }
   ],
   "source": [
    "e.h"
   ]
  },
  {
   "cell_type": "markdown",
   "metadata": {},
   "source": [
    "<div style='color:sandybrown'>\n",
    "<i><b>Es ist einfach, einer existierenden Klasse oder einer Eigenschaft / Methode <br>\n",
    "bzw. Funktion einen neuen Namen zu geben oder einen weiteren Namen für<br>sie hinzuzufügen<br><br>\n",
    "Die Funktionalität von agla ist auch in anderer Hinsicht, z.B. zum Erstellen <br>\n",
    "einer zusätzlichen Methode für eine Klasse, relativ einfach erweiterbar \n",
    "</b></i>\n",
    "</div><br><br>"
   ]
  }
 ],
 "metadata": {
  "anaconda-cloud": {},
  "kernelspec": {
   "display_name": "Python [default]",
   "language": "python",
   "name": "python3"
  },
  "language_info": {
   "codemirror_mode": {
    "name": "ipython",
    "version": 3
   },
   "file_extension": ".py",
   "mimetype": "text/x-python",
   "name": "python",
   "nbconvert_exporter": "python",
   "pygments_lexer": "ipython3",
   "version": "3.5.2"
  }
 },
 "nbformat": 4,
 "nbformat_minor": 1
}
