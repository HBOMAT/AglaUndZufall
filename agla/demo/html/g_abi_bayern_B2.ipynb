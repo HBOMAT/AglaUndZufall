{
 "cells": [
  {
   "cell_type": "markdown",
   "metadata": {},
   "source": [
    "<br>\n",
    "# Einblick in das Rechnen mit <i>agla</i>\n",
    "\n",
    "von Holger Böttcher - hbomat@posteo.de\n",
    "<br><br>\n",
    "Diese Arbeit steht unter der freien Lizenz [CC BY-SA 4.0](https://creativecommons.org/licenses/by-sa/4.0/deed.de)  \n",
    "<br><br>\n",
    "### Abitur Bayern 2019\n",
    " \n",
    "### Geometrie Teil B, Aufgabengruppe 2\n",
    "<br>\n",
    "Quelle: [serlo.org](https://de.serlo.org/mathe/deutschland/bayern/gymnasium/abiturpr%C3%BCfungen-l%C3%B6sung/mathematik-abitur-bayern-2019/geometrie,-teil-b,-aufgabengruppe-2) "
   ]
  },
  {
   "cell_type": "markdown",
   "metadata": {},
   "source": [
    "<br>\n",
    "<i>Die Variablen $x_1, x_2, x_3$ sind mit $x, y, z$ bezeichnet</i>\n",
    "<br>"
   ]
  },
  {
   "cell_type": "markdown",
   "metadata": {},
   "source": [
    "Die Abbildung zeigt den Würfel $ABCDEFGH$ mit $A\\,(0\\, |\\, 0\\, |\\, 0)$ und $G\\,(5\\, |\\, 5\\, |\\, 5)$ in einem <br>\n",
    "kartesischen Koordinatensystem. Die Ebene $T$ schneidet die Kanten des Würfels unter <br>\n",
    "anderem in den Punkten $I\\,(5 \\,|\\, 0\\, |\\,1),\\: J\\,(2\\, |\\, 5\\, |\\, 0) ,\\: K\\,0\\, |\\, 5\\, |\\, 2)$\n",
    "und $L\\,(1\\,|\\, 0\\, |\\, 5)$ .<br>"
   ]
  },
  {
   "cell_type": "markdown",
   "metadata": {},
   "source": [
    "<img src='bilder/bayern4.png', align='left'>"
   ]
  },
  {
   "cell_type": "markdown",
   "metadata": {
    "collapsed": true
   },
   "source": [
    "<br>\n",
    "<b>a)</b> Zeichnen Sie das Viereck $IJKL$ in die Abbildung ein und zeigen Sie, dass es sich <br>\n",
    "$\\:\\:\\:\\:$um ein Trapez handelt, bei dem zwei gegenüberliegende Seiten gleich lang sind.<br><br>\n",
    "<b>b)</b> Ermitteln Sie eine Gleichung der Ebene $T\\,$ in Normalenform.<br>\n",
    "$\\:\\:\\:\\:$(zur Kontrolle: $\\:T :\\: 5x + 4y + 5z - 30 = 0$ )\n",
    "<br><br>\n",
    "Für $a \\in \\mathbb{R}^+$  ist die Gerade $\\:g_a:\\:\\vec{x} = \\left( \\begin{matrix} 2,5 \\\\ 0 \\\\ 3,5 \\\\ \\end{matrix} \\right) +\n",
    "\\lambda \\,\\left( \\begin{matrix} 0 \\\\ -10 a \\\\ \\frac{2}{a} \\\\ \\end{matrix} \\right)\\:\\:$ mit $\\lambda \\in \\mathbb{R}$ gegeben\n",
    "<br><br>\n",
    "<b>c)</b> Bestimmen Sie den Wert von $a$, sodass die Gerade $g_a$ die Würfelfläche $CDHG$ <br>\n",
    "$\\:\\:\\:\\:$in ihrem Mittelpunkt schneidet.<br><br>\n",
    "Für jedes $a \\in \\mathbb{R}^+$ liegt die Gerade $g_a$ in der Ebene $U$ mit der Gleichung $x = 2,5$.\n",
    "<br><br>\n",
    "<b>d)</b> Ein beliebiger Punkt $P\\,(p_1\\, |\\, p_2 \\,|\\, p_3)$ des Raums wird an der Ebene $U$ gespiegelt.<br>\n",
    "$\\:\\:\\:\\:$Geben Sie die Koordinaten des Bildpunkts $P\\,'$ in Abhängigkeit von $p_1, p_2$ und $p_3$ <br>\n",
    "$\\:\\:\\:\\:$an.\n",
    "<br><br>\n",
    "<b>e)</b> Spiegelt man die Ebene $T$ an $U$, so erhält man die von $T$ verschiedene Ebene $T\\,'$ .<br> \n",
    "$\\:\\:\\:\\:$Zeigen Sie, dass für einen bestimmten Wert von $a$ die Gerade\n",
    "$g_a$ in der Ebene $T$ <br>\n",
    "$\\:\\:\\:\\:$liegt, und begründen Sie, dass diese Gerade $g_a$ die\n",
    "Schnittgerade von $T$ und $T\\,'$ <br>\n",
    "$\\:\\:\\:\\:$ist.\n",
    "<br><br>\n",
    "<b>f)</b> Die Spitze einer Pyramide mit der Grundfläche $IJKL$ liegt auf der Kante<br>\n",
    "$\\:\\:\\:\\:$$[FG]$. Untersuchen Sie, ob die Höhe dieser Pyramide $2$ betragen kann.\n",
    "<br><br>\n",
    "<div style='color:yellowgreen'>\n",
    "<i>Die 3D-Abbildungen in der vorliegenden HTML-Datei sind Schnappschüsse der <br>\n",
    "Darstellungen in agla</i> \n",
    "</div>\n",
    "<br>"
   ]
  },
  {
   "cell_type": "code",
   "execution_count": 1,
   "metadata": {
    "collapsed": false
   },
   "outputs": [],
   "source": [
    "%run agla/start"
   ]
  },
  {
   "cell_type": "markdown",
   "metadata": {},
   "source": [
    "<br>Erzeugung eines Würfels als Prisma"
   ]
  },
  {
   "cell_type": "code",
   "execution_count": 2,
   "metadata": {
    "collapsed": true
   },
   "outputs": [],
   "source": [
    "Würfel = w = Prisma(Viereck(v(5, 0, 0), v(0, 5, 0)), 5)"
   ]
  },
  {
   "cell_type": "markdown",
   "metadata": {},
   "source": [
    "Erzeugung der Eckpunkte entsprechend der Abbildung"
   ]
  },
  {
   "cell_type": "code",
   "execution_count": 3,
   "metadata": {
    "collapsed": false
   },
   "outputs": [],
   "source": [
    "A, B, C, D = w.grund.punkte "
   ]
  },
  {
   "cell_type": "code",
   "execution_count": 4,
   "metadata": {
    "collapsed": false
   },
   "outputs": [],
   "source": [
    "E, F, G, H = w.deck.punkte"
   ]
  },
  {
   "cell_type": "code",
   "execution_count": 5,
   "metadata": {
    "collapsed": false
   },
   "outputs": [],
   "source": [
    "zeichne(w,              # Kontrollgrafik\n",
    "        bez=[(A, 'A'),\n",
    "             (B, 'B'),\n",
    "             (C, 'C'),\n",
    "             (D, 'D'),\n",
    "             (E, 'E'),\n",
    "             (F, 'F'),\n",
    "             (G, 'G'),\n",
    "             (H, 'H')],\n",
    "        box=nein)"
   ]
  },
  {
   "cell_type": "markdown",
   "metadata": {},
   "source": [
    "<img src='bilder/bayern5.png', align='left'>"
   ]
  },
  {
   "cell_type": "markdown",
   "metadata": {},
   "source": [
    "Mit etwas Python läßt sich viel Schreibarbeit sparen - die nächste Anweisung erzeugt <br>die gleiche Grafik"
   ]
  },
  {
   "cell_type": "code",
   "execution_count": 6,
   "metadata": {
    "collapsed": true
   },
   "outputs": [],
   "source": [
    "#zeichne(w,      # zur Ausführung entfernen\n",
    "#         bez=[(eval(x), x) for x in list('ABCDEFGH')],\n",
    "#         box=nein)   "
   ]
  },
  {
   "cell_type": "markdown",
   "metadata": {},
   "source": [
    "Die anderen vorgegebenen Punkte sind"
   ]
  },
  {
   "cell_type": "code",
   "execution_count": 7,
   "metadata": {
    "collapsed": false
   },
   "outputs": [
    {
     "data": {
      "text/latex": [
       "$$\\left ( \\left(\\begin{matrix}5\\\\0\\\\1\\end{matrix}\\right), \\quad \\left(\\begin{matrix}2\\\\5\\\\0\\end{matrix}\\right), \\quad \\left(\\begin{matrix}0\\\\5\\\\2\\end{matrix}\\right), \\quad \\left(\\begin{matrix}1\\\\0\\\\5\\end{matrix}\\right)\\right )$$"
      ],
      "text/plain": [
       "(Vektor, Vektor, Vektor, Vektor)"
      ]
     },
     "execution_count": 7,
     "metadata": {},
     "output_type": "execute_result"
    }
   ],
   "source": [
    "I = v(5, 0, 1); J = v(2, 5, 0); K = v(0, 5, 2); L = v(1, 0, 5)\n",
    "I, J, K, L"
   ]
  },
  {
   "cell_type": "markdown",
   "metadata": {},
   "source": [
    "### a)"
   ]
  },
  {
   "cell_type": "code",
   "execution_count": 8,
   "metadata": {
    "collapsed": false
   },
   "outputs": [],
   "source": [
    "IJKL = Viereck(I, J, K, L)"
   ]
  },
  {
   "cell_type": "markdown",
   "metadata": {},
   "source": [
    "Nachweis, dass ein Trapez vorliegt"
   ]
  },
  {
   "cell_type": "code",
   "execution_count": 9,
   "metadata": {
    "collapsed": false
   },
   "outputs": [
    {
     "data": {
      "text/latex": [
       "$$Trapez$$"
      ],
      "text/plain": [
       "<IPython.core.display.Math object>"
      ]
     },
     "metadata": {},
     "output_type": "display_data"
    }
   ],
   "source": [
    "IJKL.form"
   ]
  },
  {
   "cell_type": "code",
   "execution_count": 10,
   "metadata": {
    "collapsed": false
   },
   "outputs": [
    {
     "data": {
      "image/png": "[encoded data removed]",
      "text/latex": [
       "$$\\left ( \\sqrt{35}, \\quad 2 \\sqrt{2}, \\quad \\sqrt{35}, \\quad 4 \\sqrt{2}\\right )$$"
      ],
      "text/plain": [
       "(√35, 2⋅√2, √35, 4⋅√2)"
      ]
     },
     "execution_count": 10,
     "metadata": {},
     "output_type": "execute_result"
    }
   ],
   "source": [
    "trapez = IJKL\n",
    "\n",
    "trapez.längen"
   ]
  },
  {
   "cell_type": "code",
   "execution_count": 11,
   "metadata": {
    "collapsed": false
   },
   "outputs": [
    {
     "data": {
      "image/png": "[encoded data removed]",
      "text/latex": [
       "$$\\left ( 76.1697750503496, \\quad 103.83022494965, \\quad 103.83022494965, \\quad 76.1697750503496\\right )$$"
      ],
      "text/plain": [
       "(76.1697750503496, 103.83022494965, 103.83022494965, 76.1697750503496)"
      ]
     },
     "execution_count": 11,
     "metadata": {},
     "output_type": "execute_result"
    }
   ],
   "source": [
    "trapez.winkel"
   ]
  },
  {
   "cell_type": "markdown",
   "metadata": {},
   "source": [
    "Die 3D-Grafik"
   ]
  },
  {
   "cell_type": "code",
   "execution_count": 12,
   "metadata": {
    "collapsed": true
   },
   "outputs": [],
   "source": [
    "zeichne(w,      \n",
    "        [trapez, rot, 2],\n",
    "        box=nein)   "
   ]
  },
  {
   "cell_type": "markdown",
   "metadata": {},
   "source": [
    "<img src='bilder/bayern6.png', align='left'>"
   ]
  },
  {
   "cell_type": "markdown",
   "metadata": {},
   "source": [
    "läßt sich mittels einer speziellen Parallelprojektion namens <i>schrägbild</i> auch als <br>\n",
    "Schrägbild in 2D darstellen"
   ]
  },
  {
   "cell_type": "code",
   "execution_count": 13,
   "metadata": {
    "collapsed": false
   },
   "outputs": [],
   "source": [
    "w2 = w.bild(schrägbild).in_2d   \n",
    "    \n",
    "trapez2 = trapez.bild(schrägbild).in_körper.in_2d"
   ]
  },
  {
   "cell_type": "code",
   "execution_count": 14,
   "metadata": {
    "collapsed": false
   },
   "outputs": [
    {
     "data": {
      "image/png": "[encoded data removed]",
      "text/plain": [
       "<matplotlib.figure.Figure at 0x4f41370>"
      ]
     },
     "metadata": {},
     "output_type": "display_data"
    }
   ],
   "source": [
    "zeichne(w2, [trapez2, rot, 2], gitter=ja)"
   ]
  },
  {
   "cell_type": "markdown",
   "metadata": {},
   "source": [
    "### b)"
   ]
  },
  {
   "cell_type": "markdown",
   "metadata": {},
   "source": [
    "Die Ebene $T$ wird über die drei Punkte $I, J, K$ mittels Stütz- und zwei Spannvektoren <br>\n",
    "oder eleganter als Trägerebene für das Trapez erzeugt"
   ]
  },
  {
   "cell_type": "code",
   "execution_count": 15,
   "metadata": {
    "collapsed": false
   },
   "outputs": [
    {
     "data": {
      "image/png": "[encoded data removed]",
      "text/latex": [
       "$$5 x + 4 y + 5 z - 30=0$$"
      ],
      "text/plain": [
       "5*x + 4*y + 5*z - 30 = 0"
      ]
     },
     "execution_count": 15,
     "metadata": {},
     "output_type": "execute_result"
    }
   ],
   "source": [
    "T = Ebene(I, v(I, J), v(I, K))\n",
    "T.koord"
   ]
  },
  {
   "cell_type": "code",
   "execution_count": 16,
   "metadata": {
    "collapsed": false
   },
   "outputs": [
    {
     "data": {
      "image/png": "[encoded data removed]",
      "text/latex": [
       "$$5 x + 4 y + 5 z - 30=0$$"
      ],
      "text/plain": [
       "5*x + 4*y + 5*z - 30 = 0"
      ]
     },
     "execution_count": 16,
     "metadata": {},
     "output_type": "execute_result"
    }
   ],
   "source": [
    "T = trapez.ebene\n",
    "T.koord"
   ]
  },
  {
   "cell_type": "markdown",
   "metadata": {},
   "source": [
    "### c)"
   ]
  },
  {
   "cell_type": "code",
   "execution_count": 17,
   "metadata": {
    "collapsed": false
   },
   "outputs": [
    {
     "data": {
      "text/latex": [
       "$$\\left(\\begin{matrix}x\\\\y\\\\z\\end{matrix}\\right)=\\left(\\begin{matrix}\\frac{5}{2}\\\\0\\\\\\frac{7}{2}\\end{matrix}\\right)+\\lambda\\,\\left(\\begin{matrix}0\\\\- 10 a\\\\\\frac{2}{a}\\end{matrix}\\right)$$"
      ],
      "text/plain": [
       "<IPython.core.display.Math object>"
      ]
     },
     "metadata": {},
     "output_type": "display_data"
    }
   ],
   "source": [
    "ga = Gerade(v(2.5, 0, 3.5), v(0, -10*a, 2/a), lamda)   # Schreibweise \n",
    "ga.prg                                                 # lamda!"
   ]
  },
  {
   "cell_type": "markdown",
   "metadata": {},
   "source": [
    "Überprüfung der Aussage in der Aufgabenstellung, dass $g_a$ in $U$ liegt"
   ]
  },
  {
   "cell_type": "code",
   "execution_count": 18,
   "metadata": {
    "collapsed": false
   },
   "outputs": [
    {
     "data": {
      "image/png": "[encoded data removed]",
      "text/latex": [
       "$$2 x - 5=0$$"
      ],
      "text/plain": [
       "2*x - 5 = 0"
      ]
     },
     "execution_count": 18,
     "metadata": {},
     "output_type": "execute_result"
    }
   ],
   "source": [
    "U = Ebene(1, 0, 0, -2.5)\n",
    "U.koord"
   ]
  },
  {
   "cell_type": "code",
   "execution_count": 19,
   "metadata": {
    "collapsed": false
   },
   "outputs": [
    {
     "data": {
      "text/latex": [
       "$$\\text{die Gleichung ist erfüllt}$$"
      ],
      "text/plain": [
       "<IPython.core.display.Math object>"
      ]
     },
     "metadata": {},
     "output_type": "display_data"
    }
   ],
   "source": [
    "U.Koord(ga.pkt(t))"
   ]
  },
  {
   "cell_type": "markdown",
   "metadata": {},
   "source": [
    "Der Mittelpunkt des Quadrates ist sein Schwerpunkt"
   ]
  },
  {
   "cell_type": "code",
   "execution_count": 20,
   "metadata": {
    "collapsed": false
   },
   "outputs": [
    {
     "data": {
      "text/latex": [
       "$$\\left(\\begin{matrix}\\frac{5}{2}\\\\5\\\\\\frac{5}{2}\\end{matrix}\\right)$$"
      ],
      "text/plain": [
       "Vektor"
      ]
     },
     "execution_count": 20,
     "metadata": {},
     "output_type": "execute_result"
    }
   ],
   "source": [
    "M = Viereck(C, D, H, G).schwer_pkt \n",
    "M"
   ]
  },
  {
   "cell_type": "markdown",
   "metadata": {},
   "source": [
    "Die folgende Vektor-Gleichung ist zu lösen (linke Seite, rechte Seite wird als Nullvektor <br>angenommen)"
   ]
  },
  {
   "cell_type": "code",
   "execution_count": 21,
   "metadata": {
    "collapsed": false
   },
   "outputs": [
    {
     "data": {
      "text/latex": [
       "$$\\left(\\begin{matrix}0\\\\- 10 a \\lambda - 5\\\\1 + \\frac{2 \\lambda}{a}\\end{matrix}\\right)$$"
      ],
      "text/plain": [
       "Vektorschar([lamda, a])"
      ]
     },
     "execution_count": 21,
     "metadata": {},
     "output_type": "execute_result"
    }
   ],
   "source": [
    "gl = ga.pkt(lamda) - M  # Schreibweise lamda! (lambda ist in \n",
    "gl                      # Python vergeben)"
   ]
  },
  {
   "cell_type": "code",
   "execution_count": 22,
   "metadata": {
    "collapsed": false
   },
   "outputs": [
    {
     "data": {
      "image/png": "[encoded data removed]",
      "text/latex": [
       "$$\\left [ \\left \\{ a : -1, \\quad \\lambda : \\frac{1}{2}\\right \\}, \\quad \\left \\{ a : 1, \\quad \\lambda : - \\frac{1}{2}\\right \\}\\right ]$$"
      ],
      "text/plain": [
       "[{a: -1, λ: 1/2}, {a: 1, λ: -1/2}]"
      ]
     },
     "execution_count": 22,
     "metadata": {},
     "output_type": "execute_result"
    }
   ],
   "source": [
    "löse(gl, [a, lamda])"
   ]
  },
  {
   "cell_type": "markdown",
   "metadata": {},
   "source": [
    "Laut der Aufgabenstellung  interessiert nur die positive Lösung für $a$, also $1$\n",
    "\n",
    "Einsetzen des $\\lambda$-Werte in die $pkt$-Methode des entsprechenden Scharelementes  <br>\n",
    "(Methode $sch\\_el\\,$) bestätigt die Richtigkeit der Rechnung"
   ]
  },
  {
   "cell_type": "code",
   "execution_count": 23,
   "metadata": {
    "collapsed": false
   },
   "outputs": [
    {
     "data": {
      "text/latex": [
       "$$\\left(\\begin{matrix}\\frac{5}{2}\\\\5\\\\\\frac{5}{2}\\end{matrix}\\right)$$"
      ],
      "text/plain": [
       "Vektor"
      ]
     },
     "execution_count": 23,
     "metadata": {},
     "output_type": "execute_result"
    }
   ],
   "source": [
    "ga.sch_el(1).pkt(-1/2)"
   ]
  },
  {
   "cell_type": "markdown",
   "metadata": {},
   "source": [
    "### d)"
   ]
  },
  {
   "cell_type": "markdown",
   "metadata": {},
   "source": [
    "Für einen beliebigen Punkt der Form"
   ]
  },
  {
   "cell_type": "code",
   "execution_count": 24,
   "metadata": {
    "collapsed": false
   },
   "outputs": [
    {
     "data": {
      "text/latex": [
       "$$\\left(\\begin{matrix}p_{1}\\\\p_{2}\\\\p_{3}\\end{matrix}\\right)$$"
      ],
      "text/plain": [
       "Vektorschar([p_1, p_2, p_3])"
      ]
     },
     "execution_count": 24,
     "metadata": {},
     "output_type": "execute_result"
    }
   ],
   "source": [
    "p1, p2, p3 = symbols('p_1, p_2, p_3')   # mehrstellige freie \n",
    "                                        # Bezeichner (ohne Wert) \n",
    "P = v(p1, p2, p3); P                    # müssen deklariert werden"
   ]
  },
  {
   "cell_type": "markdown",
   "metadata": {},
   "source": [
    "ist der an $U$ gespiegelte Punkt"
   ]
  },
  {
   "cell_type": "code",
   "execution_count": 25,
   "metadata": {
    "collapsed": false
   },
   "outputs": [
    {
     "data": {
      "text/latex": [
       "$$\\left(\\begin{matrix}- p_{1} + 5\\\\p_{2}\\\\p_{3}\\end{matrix}\\right)$$"
      ],
      "text/plain": [
       "Vektorschar([p_1, p_2, p_3])"
      ]
     },
     "execution_count": 25,
     "metadata": {},
     "output_type": "execute_result"
    }
   ],
   "source": [
    "P.bild(spiegelung(U))   # Ergebnis zu d)"
   ]
  },
  {
   "cell_type": "markdown",
   "metadata": {},
   "source": [
    "Zur Erläuterung: \n",
    "\n",
    "$spiegelung(U)$ (Spiegelung an der Ebene $U$) ist eine Abbildung mit einer <br>\n",
    "Abbildungsmatrix und einem Verschiebungsvektor"
   ]
  },
  {
   "cell_type": "code",
   "execution_count": 26,
   "metadata": {
    "collapsed": false
   },
   "outputs": [
    {
     "data": {
      "text/latex": [
       "$$\\left ( Abbildung, \\quad \\left(\\begin{matrix}-1 & 0 & 0\\\\0 & 1 & 0\\\\0 & 0 & 1\\end{matrix}\\right), \\quad \\left(\\begin{matrix}5\\\\0\\\\0\\end{matrix}\\right)\\right )$$"
      ],
      "text/plain": [
       "⎛Abbildung, ⎡-1  0  0⎤, Vektor⎞\n",
       "⎜           ⎢        ⎥        ⎟\n",
       "⎜           ⎢0   1  0⎥        ⎟\n",
       "⎜           ⎢        ⎥        ⎟\n",
       "⎝           ⎣0   0  1⎦        ⎠"
      ]
     },
     "execution_count": 26,
     "metadata": {},
     "output_type": "execute_result"
    }
   ],
   "source": [
    "abb = spiegelung(U)\n",
    "abb, abb.matrix, abb.versch"
   ]
  },
  {
   "cell_type": "markdown",
   "metadata": {},
   "source": [
    "Die Abbildungsgleichungen sind dieselben wie oben ablesbar (hier mit anderen <br>Bezeichnungen für die Variablen)"
   ]
  },
  {
   "cell_type": "code",
   "execution_count": 27,
   "metadata": {
    "collapsed": false
   },
   "outputs": [
    {
     "data": {
      "image/png": "[encoded data removed]",
      "text/latex": [
       "$$\\left ( x'=- x + 5, \\quad y'=y, \\quad z'=z\\right )$$"
      ],
      "text/plain": [
       "(x' = -x + 5, y' = y, z' = z)"
      ]
     },
     "execution_count": 27,
     "metadata": {},
     "output_type": "execute_result"
    }
   ],
   "source": [
    "abb.gleich"
   ]
  },
  {
   "cell_type": "markdown",
   "metadata": {
    "collapsed": true
   },
   "source": [
    "### e)"
   ]
  },
  {
   "cell_type": "code",
   "execution_count": 28,
   "metadata": {
    "collapsed": false
   },
   "outputs": [],
   "source": [
    "Ts = T.bild(spiegelung(U))    # Ts = T'"
   ]
  },
  {
   "cell_type": "markdown",
   "metadata": {},
   "source": [
    "Einsetzen des allgemeinen Geradenpunktes in die Gleichung von $T$"
   ]
  },
  {
   "cell_type": "code",
   "execution_count": 29,
   "metadata": {
    "collapsed": false
   },
   "outputs": [
    {
     "data": {
      "text/latex": [
       "$$(t, a)\\text{ ist Lösung der Gleichung}$$"
      ],
      "text/plain": [
       "<IPython.core.display.Math object>"
      ]
     },
     "metadata": {},
     "output_type": "display_data"
    },
    {
     "data": {
      "text/latex": [
       "$$- 40 a t + \\frac{10 t}{a}= 0$$"
      ],
      "text/plain": [
       "<IPython.core.display.Math object>"
      ]
     },
     "metadata": {},
     "output_type": "display_data"
    }
   ],
   "source": [
    "T.Koord(ga.pkt(t))  "
   ]
  },
  {
   "cell_type": "markdown",
   "metadata": {},
   "source": [
    "führt auf eine Gleichung, die bei einem festen $a$-Wert für alle $t$ gelten soll<br>"
   ]
  },
  {
   "cell_type": "code",
   "execution_count": 30,
   "metadata": {
    "collapsed": false
   },
   "outputs": [
    {
     "data": {
      "image/png": "[encoded data removed]",
      "text/latex": [
       "$$t \\left(- 40 a + \\frac{10}{a}\\right)$$"
      ],
      "text/plain": [
       "  ⎛        10⎞\n",
       "t⋅⎜-40⋅a + ──⎟\n",
       "  ⎝        a ⎠"
      ]
     },
     "execution_count": 30,
     "metadata": {},
     "output_type": "execute_result"
    }
   ],
   "source": [
    "gl1 = -40*a*t + 10*t/a\n",
    "collect(gl1, t)         # SymPy-Anweisungen wurden nicht eingedeutscht"
   ]
  },
  {
   "cell_type": "markdown",
   "metadata": {},
   "source": [
    "Das ist nur möglich, wenn die Gleichung"
   ]
  },
  {
   "cell_type": "code",
   "execution_count": 31,
   "metadata": {
    "collapsed": false
   },
   "outputs": [
    {
     "data": {
      "image/png": "[encoded data removed]",
      "text/latex": [
       "$$- 40 a + \\frac{10}{a}$$"
      ],
      "text/plain": [
       "        10\n",
       "-40⋅a + ──\n",
       "        a "
      ]
     },
     "execution_count": 31,
     "metadata": {},
     "output_type": "execute_result"
    }
   ],
   "source": [
    "gl1.subs(t, 1)"
   ]
  },
  {
   "cell_type": "markdown",
   "metadata": {},
   "source": [
    "erfüllt ist; in $\\mathbb{R}^+$ ist das nur für $a=\\dfrac{1}{2}$ der Fall, was den gesuchten $a$-Wert liefert:"
   ]
  },
  {
   "cell_type": "code",
   "execution_count": 32,
   "metadata": {
    "collapsed": false
   },
   "outputs": [
    {
     "data": {
      "image/png": "[encoded data removed]",
      "text/latex": [
       "$$\\left [ \\left \\{ a : - \\frac{1}{2}\\right \\}, \\quad \\left \\{ a : \\frac{1}{2}\\right \\}\\right ]$$"
      ],
      "text/plain": [
       "[{a: -1/2}, {a: 1/2}]"
      ]
     },
     "execution_count": 32,
     "metadata": {},
     "output_type": "execute_result"
    }
   ],
   "source": [
    "löse(gl1.subs(t, 1))"
   ]
  },
  {
   "cell_type": "markdown",
   "metadata": {},
   "source": [
    "Mit der $sch\\_el$ - Methode wird das entsprechende Scharelement der Geradenschar $g_a$<br>\n",
    "ermittelt"
   ]
  },
  {
   "cell_type": "code",
   "execution_count": 33,
   "metadata": {
    "collapsed": false
   },
   "outputs": [
    {
     "data": {
      "text/latex": [
       "$$\\left(\\begin{matrix}x\\\\y\\\\z\\end{matrix}\\right)=\\left(\\begin{matrix}\\frac{5}{2}\\\\0\\\\\\frac{7}{2}\\end{matrix}\\right)+\\lambda\\,\\left(\\begin{matrix}0\\\\-5\\\\4\\end{matrix}\\right)$$"
      ],
      "text/plain": [
       "<IPython.core.display.Math object>"
      ]
     },
     "metadata": {},
     "output_type": "display_data"
    }
   ],
   "source": [
    "g1 = ga.sch_el(1/2)\n",
    "g1.prg"
   ]
  },
  {
   "cell_type": "markdown",
   "metadata": {},
   "source": [
    "Analog zu oben wird der allgemeine Punkt von $g_1$ in die Gleichung von $T'$ eingesetzt <br>\n",
    "und gezeigt, dass die Gleichung für alle Werte von $t$ erfüllt ist, die Gerade $g_1$ also in <br>\n",
    "der Ebene $T'$ liegt"
   ]
  },
  {
   "cell_type": "code",
   "execution_count": 34,
   "metadata": {
    "collapsed": false
   },
   "outputs": [
    {
     "data": {
      "text/latex": [
       "$$\\text{die Gleichung ist erfüllt}$$"
      ],
      "text/plain": [
       "<IPython.core.display.Math object>"
      ]
     },
     "metadata": {},
     "output_type": "display_data"
    }
   ],
   "source": [
    "Ts.Koord(g1.pkt(t))"
   ]
  },
  {
   "cell_type": "markdown",
   "metadata": {},
   "source": [
    "Da $g_1$ in beiden Ebenen liegt, ist sie die Schnittgerade von $T$ und $T'$\n",
    "\n",
    "Die Kontrolle durch unmittelbare Anwendung der $schnitt$ - Methode "
   ]
  },
  {
   "cell_type": "code",
   "execution_count": 35,
   "metadata": {
    "collapsed": false
   },
   "outputs": [
    {
     "data": {
      "text/latex": [
       "$$\\left(\\begin{matrix}x\\\\y\\\\z\\end{matrix}\\right)=\\left(\\begin{matrix}\\frac{5}{2}\\\\\\frac{25}{6}\\\\\\frac{1}{6}\\end{matrix}\\right)+s\\,\\left(\\begin{matrix}0\\\\- \\frac{10}{3}\\\\\\frac{8}{3}\\end{matrix}\\right)$$"
      ],
      "text/plain": [
       "<IPython.core.display.Math object>"
      ]
     },
     "metadata": {},
     "output_type": "display_data"
    }
   ],
   "source": [
    "T.schnitt(Ts).prg"
   ]
  },
  {
   "cell_type": "markdown",
   "metadata": {},
   "source": [
    "ergibt eine identische Gerade, die aber durch eine andere Gleichung beschrieben <br>wird "
   ]
  },
  {
   "cell_type": "code",
   "execution_count": 36,
   "metadata": {
    "collapsed": false
   },
   "outputs": [
    {
     "data": {
      "text/plain": [
       "True"
      ]
     },
     "execution_count": 36,
     "metadata": {},
     "output_type": "execute_result"
    }
   ],
   "source": [
    "identisch(g1, T.schnitt(Ts))"
   ]
  },
  {
   "cell_type": "markdown",
   "metadata": {},
   "source": [
    "### f)"
   ]
  },
  {
   "cell_type": "markdown",
   "metadata": {},
   "source": [
    "Eine Zeichnung zur Erkundung der Lage  ($T$ ist die Trägerebene für das Trapez und<br>\n",
    "damit Grundfläche der Pyramide)"
   ]
  },
  {
   "cell_type": "code",
   "execution_count": 37,
   "metadata": {
    "collapsed": true
   },
   "outputs": [],
   "source": [
    "zeichne(trapez, Strecke(F, G), T, F, G, achsen=nein, box=nein)   "
   ]
  },
  {
   "cell_type": "markdown",
   "metadata": {},
   "source": [
    "<img src='bilder/bayern7.png', align='left'>"
   ]
  },
  {
   "cell_type": "markdown",
   "metadata": {},
   "source": [
    "#### 1.Weg"
   ]
  },
  {
   "cell_type": "markdown",
   "metadata": {},
   "source": [
    "Die Pyramidenhöhe ist der Abstand von der Grundfläche zur Spitze (ein Punkt der <br>\n",
    "Strecke $[FG]$)\n",
    "\n",
    "Für die beiden Endpunkte der Strecke gilt"
   ]
  },
  {
   "cell_type": "code",
   "execution_count": 38,
   "metadata": {
    "collapsed": false
   },
   "outputs": [
    {
     "data": {
      "image/png": "[encoded data removed]",
      "text/latex": [
       "$$\\left ( 2.4618, \\quad 4.9237\\right )$$"
      ],
      "text/plain": [
       "(2.4618, 4.9237)"
      ]
     },
     "execution_count": 38,
     "metadata": {},
     "output_type": "execute_result"
    }
   ],
   "source": [
    "Abstand(T, F, d=5), Abstand(T, G, d=5)"
   ]
  },
  {
   "cell_type": "markdown",
   "metadata": {},
   "source": [
    "Da die Werte für die anderen Streckenpunkte dazwischen liegen, kann $2$ nicht <br>\n",
    "erreicht werden"
   ]
  },
  {
   "cell_type": "markdown",
   "metadata": {},
   "source": [
    "#### 2. Weg\n",
    "\n",
    "Die Grafik läßt vermuten, daß sich für irgendeinen Punkt der Geraden $FG$ ein <br>\n",
    "Abstand von $2$ zur Ebene $T$ ergibt. Es wird gezeigt, dass es einen solchen Punkt gibt <br>und dass er außerhalb der Strecke liegt"
   ]
  },
  {
   "cell_type": "code",
   "execution_count": 39,
   "metadata": {
    "collapsed": false
   },
   "outputs": [
    {
     "data": {
      "image/png": "[encoded data removed]",
      "text/latex": [
       "$$\\left \\{ t : -1 + \\frac{\\sqrt{66}}{10}\\right \\}$$"
      ],
      "text/plain": [
       "⎧        √66⎫\n",
       "⎨t: -1 + ───⎬\n",
       "⎩         10⎭"
      ]
     },
     "execution_count": 39,
     "metadata": {},
     "output_type": "execute_result"
    }
   ],
   "source": [
    "g = Gerade(F, v(F, G))\n",
    "gl = T.abstand(g.pkt(t)) - 2\n",
    "L = löse(gl)\n",
    "L"
   ]
  },
  {
   "cell_type": "markdown",
   "metadata": {},
   "source": [
    "Der zum erhaltenen Parameterwert "
   ]
  },
  {
   "cell_type": "code",
   "execution_count": 40,
   "metadata": {
    "collapsed": false
   },
   "outputs": [
    {
     "data": {
      "image/png": "[encoded data removed]",
      "text/latex": [
       "$$-0.187596159536404$$"
      ],
      "text/plain": [
       "-0.187596159536404"
      ]
     },
     "execution_count": 40,
     "metadata": {},
     "output_type": "execute_result"
    }
   ],
   "source": [
    "L[t].n()"
   ]
  },
  {
   "cell_type": "markdown",
   "metadata": {},
   "source": [
    "gehörende Geradenpunkt liegt nicht auf der Strecke $[FG]$, da bei der Erzeugung der <br>\n",
    "Geraden $g$ der Punkt $F$ den Parameterwert $0$, $G$ den Parameterwert $1$ und alle <br>\n",
    "anderen Punkte der Strecke Werte aus dem Intervall $(0, 1)$ erhalten haben"
   ]
  },
  {
   "cell_type": "code",
   "execution_count": 41,
   "metadata": {
    "collapsed": false
   },
   "outputs": [
    {
     "data": {
      "text/latex": [
       "$$\\left ( \\left(\\begin{matrix}5\\\\0\\\\5\\end{matrix}\\right), \\quad \\left(\\begin{matrix}5\\\\0\\\\5\\end{matrix}\\right)\\right )$$"
      ],
      "text/plain": [
       "(Vektor, Vektor)"
      ]
     },
     "execution_count": 41,
     "metadata": {},
     "output_type": "execute_result"
    }
   ],
   "source": [
    "g.pkt(0), F"
   ]
  },
  {
   "cell_type": "code",
   "execution_count": 42,
   "metadata": {
    "collapsed": false
   },
   "outputs": [
    {
     "data": {
      "text/latex": [
       "$$\\left ( \\left(\\begin{matrix}5\\\\5\\\\5\\end{matrix}\\right), \\quad \\left(\\begin{matrix}5\\\\5\\\\5\\end{matrix}\\right)\\right )$$"
      ],
      "text/plain": [
       "(Vektor, Vektor)"
      ]
     },
     "execution_count": 42,
     "metadata": {},
     "output_type": "execute_result"
    }
   ],
   "source": [
    "g.pkt(1), G"
   ]
  },
  {
   "cell_type": "code",
   "execution_count": 43,
   "metadata": {
    "collapsed": false
   },
   "outputs": [
    {
     "data": {
      "text/latex": [
       "$$\\left ( \\left(\\begin{matrix}5\\\\\\frac{5}{2}\\\\5\\end{matrix}\\right), \\quad \\left(\\begin{matrix}5\\\\\\frac{5}{2}\\\\5\\end{matrix}\\right)\\right )$$"
      ],
      "text/plain": [
       "(Vektor, Vektor)"
      ]
     },
     "execution_count": 43,
     "metadata": {},
     "output_type": "execute_result"
    }
   ],
   "source": [
    "g.pkt(1/2),  Strecke(F, G).mitte"
   ]
  },
  {
   "cell_type": "markdown",
   "metadata": {},
   "source": [
    "Eine Grafik zur Kontrolle"
   ]
  },
  {
   "cell_type": "code",
   "execution_count": 44,
   "metadata": {
    "collapsed": false
   },
   "outputs": [],
   "source": [
    "zeichne(trapez, Strecke(F, G).gerade, [g.pkt(L[t]), rot, 2], T, F, G, achsen=nein, box=nein) "
   ]
  },
  {
   "cell_type": "markdown",
   "metadata": {},
   "source": [
    "<img src='bilder/bayern10.png', align='left'>"
   ]
  }
 ],
 "metadata": {
  "anaconda-cloud": {},
  "kernelspec": {
   "display_name": "Python [default]",
   "language": "python",
   "name": "python3"
  },
  "language_info": {
   "codemirror_mode": {
    "name": "ipython",
    "version": 3
   },
   "file_extension": ".py",
   "mimetype": "text/x-python",
   "name": "python",
   "nbconvert_exporter": "python",
   "pygments_lexer": "ipython3",
   "version": "3.5.2"
  }
 },
 "nbformat": 4,
 "nbformat_minor": 1
}
