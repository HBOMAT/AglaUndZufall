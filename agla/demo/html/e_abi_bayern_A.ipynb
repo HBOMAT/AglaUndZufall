{
 "cells": [
  {
   "cell_type": "markdown",
   "metadata": {},
   "source": [
    "<br>\n",
    "# Einblick in das Rechnen mit <i>agla</i>\n",
    "\n",
    "von Holger Böttcher - hbomat@posteo.de\n",
    "<br><br>\n",
    "Diese Arbeit steht unter der freien Lizenz [CC BY-SA 4.0](https://creativecommons.org/licenses/by-sa/4.0/deed.de)  \n",
    "<br><br>\n",
    "### Abitur Bayern 2019\n",
    " \n",
    "### Geometrie Teil A, Aufgabengruppe 1+2\n",
    "<br>\n",
    "Quelle: serlo.org $\\quad$[Aufgabengruppe 1](https://de.serlo.org/mathe/deutschland/bayern/gymnasium/abiturpr%C3%BCfungen-l%C3%B6sung/mathematik-abitur-bayern-2019/geometrie,-teil-,-aufgabengruppe-1)\n",
    "$\\quad$\n",
    "[Aufgabengruppe 2](https://de.serlo.org/mathe/deutschland/bayern/gymnasium/abiturpr%C3%BCfungen-l%C3%B6sung/mathematik-abitur-bayern-2019/geometrie,-teil-,-aufgabengruppe-2)"
   ]
  },
  {
   "cell_type": "markdown",
   "metadata": {},
   "source": [
    "<br>\n",
    "### Aufgabengruppe 1"
   ]
  },
  {
   "cell_type": "markdown",
   "metadata": {},
   "source": [
    "<i>Die Variablen $x_1, x_2, x_3$ sind mit $x, y, z$ bezeichnet</i>\n",
    "<br><br><b>1.</b> Gegeben ist ein Rechteck $ABCD$ mit den Eckpunkten $A\\,(5\\,|\\,-4\\,|\\, -3),\\: B\\,(5\\,|\\, 4\\,|\\, 3)$, <br>\n",
    "$\\:\\:\\:\\:C\\,(\\,0\\,|\\,4\\,|\\,3)$ und $D$.\n",
    "\n",
    "$\\:\\:$<b>a)</b> Ermitteln Sie die Koordinaten von $D$ und geben Sie die Koordinaten des Mittelpunkts \n",
    "<br>$\\:\\:\\:\\:\\:\\:M$ der Strecke $[AC]$ an.\n",
    "\n",
    "$\\:\\:$<b>b)</b> Begründen Sie, dass die Dreiecke $BCM$ und $ABM$ den gleichen Flächeninhalt \n",
    "<br>$\\:\\:\\:\\:\\:\\:$besitzen, ohne diesen zu berechnen.\n",
    "\n",
    "\n",
    "<b>2.</b><br>\n",
    "$\\:\\:$<b>a)</b> Die Ebene $\\:E: 3x+2y+2z=6\\:$ enthält einen Punkt, dessen drei Koordinaten \n",
    "<br>$\\:\\:\\:\\:\\:\\:$übereinstimmen. Bestimmen Sie diese Koordinaten.\n",
    "\n",
    "$\\:\\:$<b>b)</b> Begründen Sie, dass die folgende Aussage richtig ist:\n",
    "\n",
    "$\\:\\:\\:\\:\\:\\:$Es gibt unendlich viele Ebenen, die keinen Punkt enthalten, dessen drei Koordinaten<br> \n",
    "$\\:\\:\\:\\:\\:\\:$übereinstimmen.\n",
    "<br><br>\n",
    "\n",
    "<div style='color:yellowgreen'>\n",
    "<i>Die 3D-Abbildungen in der vorliegenden HTML-Datei sind Schnappschüsse der per <br>\n",
    "Hand gedrehten und gezoomten Darstellungen in agla; sie sind als Skizzen <br>zu betrachten</i>\n",
    "</div>\n",
    "<br><br>"
   ]
  },
  {
   "cell_type": "code",
   "execution_count": 1,
   "metadata": {
    "collapsed": false
   },
   "outputs": [],
   "source": [
    "%run agla/start"
   ]
  },
  {
   "cell_type": "markdown",
   "metadata": {
    "collapsed": false
   },
   "source": [
    "<br>\n",
    "### Zu 1."
   ]
  },
  {
   "cell_type": "markdown",
   "metadata": {},
   "source": [
    "### a)"
   ]
  },
  {
   "cell_type": "code",
   "execution_count": 2,
   "metadata": {
    "collapsed": false
   },
   "outputs": [
    {
     "data": {
      "text/latex": [
       "$$\\left ( \\left(\\begin{matrix}5\\\\-4\\\\-3\\end{matrix}\\right), \\quad \\left(\\begin{matrix}5\\\\4\\\\3\\end{matrix}\\right), \\quad \\left(\\begin{matrix}0\\\\4\\\\3\\end{matrix}\\right)\\right )$$"
      ],
      "text/plain": [
       "(Vektor, Vektor, Vektor)"
      ]
     },
     "execution_count": 2,
     "metadata": {},
     "output_type": "execute_result"
    }
   ],
   "source": [
    "A = v(5, -4, -3); B = v(5, 4, 3); C = v(0, 4, 3)\n",
    "A, B, C"
   ]
  },
  {
   "cell_type": "code",
   "execution_count": 3,
   "metadata": {
    "collapsed": false
   },
   "outputs": [
    {
     "data": {
      "text/latex": [
       "$$\\left ( \\left(\\begin{matrix}0\\\\-4\\\\-3\\end{matrix}\\right), \\quad \\left(\\begin{matrix}\\frac{5}{2}\\\\0\\\\0\\end{matrix}\\right), \\quad \\left(\\begin{matrix}\\frac{5}{2}\\\\0\\\\0\\end{matrix}\\right)\\right )$$"
      ],
      "text/plain": [
       "(Vektor, Vektor, Vektor)"
      ]
     },
     "execution_count": 3,
     "metadata": {},
     "output_type": "execute_result"
    }
   ],
   "source": [
    "D = A + v(B, C)   \n",
    "\n",
    "M = Strecke(A, C).mitte   # oder\n",
    "M1 = 1/2*(A+C)\n",
    "\n",
    "D, M, M1              # Ergebnis zu a)"
   ]
  },
  {
   "cell_type": "markdown",
   "metadata": {},
   "source": [
    "### b)"
   ]
  },
  {
   "cell_type": "code",
   "execution_count": 4,
   "metadata": {
    "collapsed": false
   },
   "outputs": [],
   "source": [
    "BCM = Dreieck(B, C, M); ABM = Dreieck(A, B, M)"
   ]
  },
  {
   "cell_type": "markdown",
   "metadata": {},
   "source": [
    "#### 1. Weg \n",
    "über die Kongruenz von Dreiecken"
   ]
  },
  {
   "cell_type": "code",
   "execution_count": 5,
   "metadata": {
    "collapsed": false
   },
   "outputs": [],
   "source": [
    "zeichne(Viereck(A, B, C, D), \n",
    "        [BCM, blau, 2], \n",
    "        [ABM, grün, 2],\n",
    "        Strecke(1/2*(A+B), 1/2*(C+D)),\n",
    "        Strecke(1/2*(A+D), 1/2*(B+C)),\n",
    "        bez=[(A, 'A'),\n",
    "             (B, 'B'),\n",
    "             (C, 'C'),\n",
    "             (D, 'D'),\n",
    "             (M, 'M'),\n",
    "             (1/2*(D+C), 'E'),\n",
    "             (1/2*(B+C), 'F')],\n",
    "       box=nein, achsen=nein)"
   ]
  },
  {
   "cell_type": "markdown",
   "metadata": {},
   "source": [
    "<img src='bilder/bayern9.png', align='left'>"
   ]
  },
  {
   "cell_type": "markdown",
   "metadata": {},
   "source": [
    "Die Grafik zeigt:\n",
    "\n",
    "Die Dreiecke $EMC$ und $MFC$ sind kongruent, sie entstehen beim Zerschneiden des <br>\n",
    "Rechtecks $MFCE$ entlang seiner Diagonalen $[MC]$ und haben eine Fläche von $\\frac{1}{8}$ der <br>\n",
    "Rechteckfläche. Nun lassen sich die Dreiecke $BCM$ und $ABM$ aus jeweils zwei <br>\n",
    "solcher Dreiecke zusammensetzen. Ihre Flächeninhalte sind somit gleich"
   ]
  },
  {
   "cell_type": "markdown",
   "metadata": {},
   "source": [
    "#### 2. Weg \n",
    "über die Formel für den Flächeninhalt eines Dreiecks"
   ]
  },
  {
   "cell_type": "code",
   "execution_count": 6,
   "metadata": {
    "collapsed": false
   },
   "outputs": [],
   "source": [
    "h = Strecke(B, Strecke(M, C).mitte)\n",
    "\n",
    "zeichne(Viereck(A, B, C, D), \n",
    "        [BCM, blau, 2], \n",
    "        [ABM, grün, 2],\n",
    "        [h, rot, 2],\n",
    "        bez=[(A, 'A'),\n",
    "             (B, 'B'),\n",
    "             (C, 'C'),\n",
    "             (M, 'M')],\n",
    "        box=nein, achsen=nein)"
   ]
  },
  {
   "cell_type": "markdown",
   "metadata": {},
   "source": [
    "<img src='bilder/bayern1.png', align='left'>"
   ]
  },
  {
   "cell_type": "markdown",
   "metadata": {},
   "source": [
    "Die Grafik läßt erkennen:\n",
    "\n",
    "Die Dreiecke haben gleich lange Grundseiten (Strecken $[AM]$ bzw. $[MC]$ auf einer\n",
    "<br>gemeinsamen Grundlinie) und die dazugehörigen Höhen (Abstand von $B$ zur <br>\n",
    "Grundlinie) sind gleich \n",
    "\n",
    "Da in die Formel für den Flächeninhalt eines Dreiecks neben diesen Größen nur noch <br>\n",
    "die Konstante $\\frac{1}{2}$ eingeht, sind beide Inhalte gleich\n",
    "<br><br>"
   ]
  },
  {
   "cell_type": "code",
   "execution_count": 7,
   "metadata": {
    "collapsed": false
   },
   "outputs": [
    {
     "data": {
      "image/png": "[encoded data removed]",
      "text/latex": [
       "$$\\left ( \\frac{25}{2}, \\quad \\frac{25}{2}\\right )$$"
      ],
      "text/plain": [
       "(25/2, 25/2)"
      ]
     },
     "execution_count": 7,
     "metadata": {},
     "output_type": "execute_result"
    }
   ],
   "source": [
    "BCM.fläche, ABM.fläche   # Kontrolle"
   ]
  },
  {
   "cell_type": "markdown",
   "metadata": {},
   "source": [
    "<br>\n",
    "### Zu 2.\n",
    "\n",
    "### a)"
   ]
  },
  {
   "cell_type": "markdown",
   "metadata": {},
   "source": [
    "Die Ebene $E$ wird über die Koeffizienten der Koordinatengleichung erzeugt"
   ]
  },
  {
   "cell_type": "code",
   "execution_count": 8,
   "metadata": {
    "collapsed": false
   },
   "outputs": [
    {
     "data": {
      "image/png": "[encoded data removed]",
      "text/latex": [
       "$$3 x + 2 y + 2 z - 6=0$$"
      ],
      "text/plain": [
       "3*x + 2*y + 2*z - 6 = 0"
      ]
     },
     "execution_count": 8,
     "metadata": {},
     "output_type": "execute_result"
    }
   ],
   "source": [
    "E = Ebene(3, 2, 2, -6)\n",
    "E.koord"
   ]
  },
  {
   "cell_type": "markdown",
   "metadata": {},
   "source": [
    "Ein Punkt mit 3 übereinstimmenden (unbekannten) Koordinaten wird in die <br>Ebenengleichung eingesetzt"
   ]
  },
  {
   "cell_type": "code",
   "execution_count": 9,
   "metadata": {
    "collapsed": true
   },
   "outputs": [],
   "source": [
    "P = v(p, p, p)     "
   ]
  },
  {
   "cell_type": "code",
   "execution_count": 10,
   "metadata": {
    "collapsed": false
   },
   "outputs": [
    {
     "data": {
      "text/latex": [
       "$$p\\text{ ist Lösung der Gleichung}$$"
      ],
      "text/plain": [
       "<IPython.core.display.Math object>"
      ]
     },
     "metadata": {},
     "output_type": "display_data"
    },
    {
     "data": {
      "text/latex": [
       "$$7 p - 6= 0$$"
      ],
      "text/plain": [
       "<IPython.core.display.Math object>"
      ]
     },
     "metadata": {},
     "output_type": "display_data"
    }
   ],
   "source": [
    "E.Koord(P)       "
   ]
  },
  {
   "cell_type": "markdown",
   "metadata": {},
   "source": [
    "Daraus ist die Lösung $p=\\dfrac{6}{7}$ ablesbar und der gesuchte Punkt ist"
   ]
  },
  {
   "cell_type": "code",
   "execution_count": 11,
   "metadata": {
    "collapsed": false
   },
   "outputs": [
    {
     "data": {
      "text/latex": [
       "$$\\left(\\,\\frac{6}{7}\\left|\\,\\frac{6}{7}\\, \\right|\\frac{6}{7}\\,\\right)$$"
      ],
      "text/plain": [
       "<IPython.core.display.Math object>"
      ]
     },
     "metadata": {},
     "output_type": "display_data"
    }
   ],
   "source": [
    "v(6/7, 6/7, 6/7).punkt_ausg"
   ]
  },
  {
   "cell_type": "markdown",
   "metadata": {},
   "source": [
    "### b)"
   ]
  },
  {
   "cell_type": "markdown",
   "metadata": {},
   "source": [
    "Alle Punkte mit drei gleichen Koordinaten baben die Form $\\:\\left(\\begin{matrix}p\\\\p\\\\p\\end{matrix}\\right) = p\\cdot \\left(\\begin{matrix}1\\\\1\\\\1\\end{matrix}\\right)\\:$ <br>\n",
    "Alle diese Punkte liegen auf der Ursprungsgeraden"
   ]
  },
  {
   "cell_type": "code",
   "execution_count": 12,
   "metadata": {
    "collapsed": false
   },
   "outputs": [
    {
     "data": {
      "text/latex": [
       "$$\\left(\\begin{matrix}x\\\\y\\\\z\\end{matrix}\\right)=\\left(\\begin{matrix}0\\\\0\\\\0\\end{matrix}\\right)+p\\,\\left(\\begin{matrix}1\\\\1\\\\1\\end{matrix}\\right)$$"
      ],
      "text/plain": [
       "<IPython.core.display.Math object>"
      ]
     },
     "metadata": {},
     "output_type": "display_data"
    }
   ],
   "source": [
    "Gerade(O, v(1, 1, 1), p).prg"
   ]
  },
  {
   "cell_type": "markdown",
   "metadata": {},
   "source": [
    "Die Menge der Punkte dieser Geraden fällt mit der Menge der Punkte mit drei <br>\n",
    "übereinstimmenden Koordinaten zusammen\n",
    "\n",
    "Jede Ebene, die diese Gerade nicht schneidet, besitzt keinen derartigen Punkt<br>\n",
    "<br>Es gibt unendlich viele Ebenen, die echt parallel zu dieser Geraden sind<br>\n",
    "und sie nicht schneiden"
   ]
  },
  {
   "cell_type": "markdown",
   "metadata": {},
   "source": [
    "<br>\n",
    "### Aufgabengruppe 2"
   ]
  },
  {
   "cell_type": "markdown",
   "metadata": {},
   "source": [
    "<br><b>1.</b> Gegeben sind die beiden Kugeln $k_1$ mit Mittelpunkt $M_1\\,(1\\,|\\, 2\\,|\\, 3)$ und Radius $5$ \n",
    "<br>$\\:\\:\\:\\:$sowie $k_2$ mit Mittelpunkt $M_2\\,(−3\\,|\\, −2\\,|\\, 1)$ und Radius $5$.\n",
    "\n",
    "$\\:\\:\\:\\:$<b>a)</b> Zeigen Sie, dass sich $k_1$ und $k_2$ schneiden.\n",
    "\n",
    "$\\:\\:\\:\\:$<b>b)</b> Die Schnittfigur von $k_1$ und $k_2$ ist ein Kreis. Bestimmen Sie die Koordinaten des\n",
    "<br>$\\:\\:\\:\\:\\:\\:\\:\\:$Mittelpunkts und den Radius dieses Kreises.\n",
    "\n",
    "<b>2.</b> Die Aufgabe ist identisch mit der Aufgabe 2 in Teil A, Aufgabengruppe 1\n",
    "<br><br><br>"
   ]
  },
  {
   "cell_type": "markdown",
   "metadata": {},
   "source": [
    "### Zu 1."
   ]
  },
  {
   "cell_type": "code",
   "execution_count": 13,
   "metadata": {
    "collapsed": false
   },
   "outputs": [
    {
     "data": {
      "text/latex": [
       "$$\\left ( \\left(\\begin{matrix}1\\\\2\\\\3\\end{matrix}\\right), \\quad 5\\right )$$"
      ],
      "text/plain": [
       "(Vektor, 5)"
      ]
     },
     "execution_count": 13,
     "metadata": {},
     "output_type": "execute_result"
    }
   ],
   "source": [
    "k1 = Kugel(v(1, 2, 3), 5)\n",
    "k2 = Kugel(v(-3, -2, 1), 5)\n",
    "\n",
    "k1.mitte, k1.radius"
   ]
  },
  {
   "cell_type": "code",
   "execution_count": 14,
   "metadata": {
    "collapsed": false
   },
   "outputs": [
    {
     "data": {
      "text/latex": [
       "$$\\left ( \\left(\\begin{matrix}-3\\\\-2\\\\1\\end{matrix}\\right), \\quad 5\\right )$$"
      ],
      "text/plain": [
       "(Vektor, 5)"
      ]
     },
     "execution_count": 14,
     "metadata": {},
     "output_type": "execute_result"
    }
   ],
   "source": [
    "k2.mitte, k2.radius"
   ]
  },
  {
   "cell_type": "markdown",
   "metadata": {},
   "source": [
    "### a)"
   ]
  },
  {
   "cell_type": "code",
   "execution_count": 15,
   "metadata": {
    "collapsed": false
   },
   "outputs": [
    {
     "data": {
      "image/png": "[encoded data removed]",
      "text/latex": [
       "$$\\left ( 6, \\quad 10\\right )$$"
      ],
      "text/plain": [
       "(6, 10)"
      ]
     },
     "execution_count": 15,
     "metadata": {},
     "output_type": "execute_result"
    }
   ],
   "source": [
    "k1.mitte.abstand(k2.mitte), k1.radius + k2.radius"
   ]
  },
  {
   "cell_type": "markdown",
   "metadata": {},
   "source": [
    "Der Abstand der beiden Mittelpunkte ist kleiner als die Summe der Radien - die \n",
    "<br>Kugeln schneiden sich"
   ]
  },
  {
   "cell_type": "markdown",
   "metadata": {},
   "source": [
    "### b)"
   ]
  },
  {
   "cell_type": "markdown",
   "metadata": {},
   "source": [
    "Der Kreis wird über die $schnitt$ - Methode einer Kugel ermittelt"
   ]
  },
  {
   "cell_type": "code",
   "execution_count": 16,
   "metadata": {
    "collapsed": false
   },
   "outputs": [
    {
     "data": {
      "image/png": "[encoded data removed]",
      "text/latex": [
       "$$Kreis$$"
      ],
      "text/plain": [
       "Kreis"
      ]
     },
     "execution_count": 16,
     "metadata": {},
     "output_type": "execute_result"
    }
   ],
   "source": [
    "kk = k1.schnitt(k2)\n",
    "kk"
   ]
  },
  {
   "cell_type": "markdown",
   "metadata": {},
   "source": [
    "Seine Trägerebene, Mittelpunkt und Radius sind"
   ]
  },
  {
   "cell_type": "code",
   "execution_count": 17,
   "metadata": {
    "collapsed": false
   },
   "outputs": [
    {
     "data": {
      "text/latex": [
       "$$\\left ( 2 x + 2 y + z=0, \\quad \\left(\\begin{matrix}-1\\\\0\\\\2\\end{matrix}\\right), \\quad 4\\right )$$"
      ],
      "text/plain": [
       "(2*x + 2*y + z = 0, Vektor, 4)"
      ]
     },
     "execution_count": 17,
     "metadata": {},
     "output_type": "execute_result"
    }
   ],
   "source": [
    "kk.ebene.koord, kk.mitte, kk.radius "
   ]
  },
  {
   "cell_type": "code",
   "execution_count": 18,
   "metadata": {
    "collapsed": false
   },
   "outputs": [],
   "source": [
    "zeichne(k1, [k2, gelb], [kk, rot, 3], skalen=nein, achsen=nein)"
   ]
  },
  {
   "cell_type": "markdown",
   "metadata": {},
   "source": [
    "<img src='bilder/bayern2.png', align='left'>"
   ]
  }
 ],
 "metadata": {
  "anaconda-cloud": {},
  "kernelspec": {
   "display_name": "Python [default]",
   "language": "python",
   "name": "python3"
  },
  "language_info": {
   "codemirror_mode": {
    "name": "ipython",
    "version": 3
   },
   "file_extension": ".py",
   "mimetype": "text/x-python",
   "name": "python",
   "nbconvert_exporter": "python",
   "pygments_lexer": "ipython3",
   "version": "3.5.2"
  }
 },
 "nbformat": 4,
 "nbformat_minor": 1
}
