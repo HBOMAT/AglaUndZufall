{
 "cells": [
  {
   "cell_type": "markdown",
   "metadata": {},
   "source": [
    "<br>\n",
    "# Einblick in das Rechnen mit <i>agla</i>\n",
    "\n",
    "von Holger Böttcher - hbomat@posteo.de\n",
    "<br><br>\n",
    "Diese Arbeit steht unter der freien Lizenz [CC BY-SA 4.0](https://creativecommons.org/licenses/by-sa/4.0/deed.de)  \n",
    "<br><br>\n",
    "### Konstruktion regelmäßiger Vielecke\n",
    "<br><br>\n",
    "Das Paket <i>agla</i> ist in der Programmiersprache <b>Python</b> geschrieben und basiert\n",
    "<br>auf dem ebenfalls in Python geschriebenen und quelloffen frei verfügbaren <b>CAS \n",
    "<br>SymPy</b> \n",
    "\n",
    "Für die geometrischen Objekte wurden Python-Klassen im Sinne der Objekt-\n",
    "<br>Orientierten-Programmierung implementiert. Damit können entsprechende Python-\n",
    "<br>Objekte erzeugt werden, mit denen unter Verwendung ihrer Eigenschaften und \n",
    "<br>Methoden am Computer gearbeitet wird \n",
    "\n",
    "Die Berechnungen werden in einem Jupyter-Notebook (mit englischer \n",
    "<br>Bedienoberfläche) durchgeführt; die vorliegende Datei wurde durch den HTML- \n",
    "<br>Export eines solchen Notebooks hergestellt\n",
    "<br><br> \n",
    "<div style='color:yellowgreen'>\n",
    "<i>Die Kommentare (nach #) sind lediglich Erläuterungen und für die Berechnungen</i> \n",
    "<br><i>nicht relevant, Analoges trifft auf die Kontrollausgaben zu</i>\n",
    "</div>\n",
    "<div style='color:yellowgreen'>\n",
    "<i>Die hier dargestellten Grafiken sind Schnappschüsse der Darstellungen in agla</i>\n",
    "</div>\n",
    "<br><br>"
   ]
  },
  {
   "cell_type": "code",
   "execution_count": 1,
   "metadata": {
    "collapsed": false
   },
   "outputs": [],
   "source": [
    "%run agla/start   # Aktivierung des Paketes"
   ]
  },
  {
   "cell_type": "markdown",
   "metadata": {},
   "source": [
    "<br>\n",
    "## 1. Konstruktion von gleichseitigen Dreiecken\n",
    "\n",
    "in der Ebene und in der $xy$-Ebene des Raumes\n",
    "\n",
    "Ausgehend von zwei Punkten $A$ und $B$ wird die Lage des dritten Punktes $C$ auf der \n",
    "<br>Mittelsenkrechten der Grundseite berechnet\n",
    "<br>"
   ]
  },
  {
   "cell_type": "markdown",
   "metadata": {},
   "source": [
    "### Berechnungen in der Ebene\n",
    "\n",
    "Zunächst wird eine einfache Grundseite auf der $x$-Achse gewählt, um die \n",
    "<br>Berechnung leicht nachvollziehen zu können"
   ]
  },
  {
   "cell_type": "code",
   "execution_count": 2,
   "metadata": {
    "collapsed": false
   },
   "outputs": [
    {
     "data": {
      "text/latex": [
       "$$\\left(\\begin{matrix}\\frac{1}{2}\\\\0\\end{matrix}\\right)$$"
      ],
      "text/plain": [
       "Vektor"
      ]
     },
     "execution_count": 2,
     "metadata": {},
     "output_type": "execute_result"
    }
   ],
   "source": [
    "A = v(0, 0); B = v(1, 0)   # gegebene Punkte (sie werden mit ihren \n",
    "                           # Ortsvektoren identifiziert)\n",
    "\n",
    "c = Strecke(A, B)          # die Grundseite des Dreiecks\n",
    "\n",
    "M = c.mitte                # der Mittelpunkt von c \n",
    "M                          # Kontrollausgabe  "
   ]
  },
  {
   "cell_type": "code",
   "execution_count": 3,
   "metadata": {
    "collapsed": false
   },
   "outputs": [
    {
     "data": {
      "image/png": "[encoded data removed]",
      "text/latex": [
       "$$x - \\frac{1}{2}=0$$"
      ],
      "text/plain": [
       "x - 1/2 = 0"
      ]
     },
     "execution_count": 3,
     "metadata": {},
     "output_type": "execute_result"
    }
   ],
   "source": [
    "ms = c.gerade.normale(M)   # die Mittelsenkrechte im Punkt M \n",
    "    \n",
    "-ms.koord   #  Geradengleichung in Koordinatenform; Kontrollausgabe"
   ]
  },
  {
   "cell_type": "code",
   "execution_count": 4,
   "metadata": {
    "collapsed": false
   },
   "outputs": [
    {
     "data": {
      "text/latex": [
       "$$\\left(\\begin{matrix}\\frac{1}{2}\\\\t\\end{matrix}\\right)$$"
      ],
      "text/plain": [
       "Vektorschar([t])"
      ]
     },
     "execution_count": 4,
     "metadata": {},
     "output_type": "execute_result"
    }
   ],
   "source": [
    "# Der gesuchte Punkt C ist Punkt der Mittelsenkrechten mit  \n",
    "# irgendeinem Parameterwert t\n",
    "\n",
    "C = ms.pkt(t)\n",
    "\n",
    "C   # Kontrollausgabe"
   ]
  },
  {
   "cell_type": "markdown",
   "metadata": {
    "collapsed": false
   },
   "source": [
    "Die Gleichung zum Auffinden von <i>t</i> ergibt sich aus der Bedingung der Gleichseitigkeit \n",
    "<br>des Dreiecks, also\n",
    "\n",
    "$\\qquad$<i>Abstand zwischen A und C = Länge von c</i>     \n",
    "\n",
    "(für <i>B</i> ergibt sich der gleiche Abstand)\n",
    "\n",
    "Für die Auflösung muss sie so umgeformt werden, dass die rechte Seite gleich 0 ist\n",
    "<br>zu schreiben ist dann nur die linke Seite"
   ]
  },
  {
   "cell_type": "code",
   "execution_count": 5,
   "metadata": {
    "collapsed": false
   },
   "outputs": [
    {
     "data": {
      "image/png": "[encoded data removed]",
      "text/latex": [
       "$$\\left [ \\left \\{ t : - \\frac{\\sqrt{3}}{2}\\right \\}, \\quad \\left \\{ t : \\frac{\\sqrt{3}}{2}\\right \\}\\right ]$$"
      ],
      "text/plain": [
       "⎡⎧   -√3 ⎫  ⎧   √3⎫⎤\n",
       "⎢⎨t: ────⎬, ⎨t: ──⎬⎥\n",
       "⎣⎩    2  ⎭  ⎩   2 ⎭⎦"
      ]
     },
     "execution_count": 5,
     "metadata": {},
     "output_type": "execute_result"
    }
   ],
   "source": [
    "L = löse(Abstand(A, C) - c.länge)\n",
    "L "
   ]
  },
  {
   "cell_type": "markdown",
   "metadata": {},
   "source": [
    "Das Ergebnis wird als Liste mit zwei Elementen (für die  beiden Lösungen) dargestellt\n",
    "<br>Jedes Element ist eine Schlüssel-Wert-Liste (ein Python-*dictionary*) mit nur einem \n",
    "<br>Eintrag\n",
    "\n",
    "Der Zugriff auf die positive Lösung erfolgt zunächst über den Index in der Liste (1, da \n",
    "<br>Python ab 0 zählt) und danach über den Schlüssel (<i>t</i>):"
   ]
  },
  {
   "cell_type": "code",
   "execution_count": 6,
   "metadata": {
    "collapsed": false
   },
   "outputs": [
    {
     "data": {
      "image/png": "[encoded data removed]",
      "text/latex": [
       "$$\\frac{\\sqrt{3}}{2}$$"
      ],
      "text/plain": [
       "√3\n",
       "──\n",
       "2 "
      ]
     },
     "execution_count": 6,
     "metadata": {},
     "output_type": "execute_result"
    }
   ],
   "source": [
    "t0 = L[1][t]\n",
    "\n",
    "t0   # Kontrollausgabe"
   ]
  },
  {
   "cell_type": "code",
   "execution_count": 7,
   "metadata": {
    "collapsed": false
   },
   "outputs": [
    {
     "data": {
      "text/latex": [
       "$$\\left(\\begin{matrix}\\frac{1}{2}\\\\\\frac{\\sqrt{3}}{2}\\end{matrix}\\right)$$"
      ],
      "text/plain": [
       "Vektor"
      ]
     },
     "execution_count": 7,
     "metadata": {},
     "output_type": "execute_result"
    }
   ],
   "source": [
    "C = ms.pkt(t0)\n",
    "\n",
    "C   # der gesuchte Punkt"
   ]
  },
  {
   "cell_type": "markdown",
   "metadata": {},
   "source": [
    "Das Dreieck mit den Eckpunkten <i>A</i>, <i>B</i> und <i>C</i> ist in der Tat gleichseitig:"
   ]
  },
  {
   "cell_type": "code",
   "execution_count": 8,
   "metadata": {
    "collapsed": false
   },
   "outputs": [
    {
     "data": {
      "image/png": "[encoded data removed]",
      "text/latex": [
       "$$\\left ( \\left ( 1, \\quad 1, \\quad 1\\right ), \\quad \\left ( 60.0, \\quad 60.0, \\quad 60.0\\right )\\right )$$"
      ],
      "text/plain": [
       "((1, 1, 1), (60.0, 60.0, 60.0))"
      ]
     },
     "execution_count": 8,
     "metadata": {},
     "output_type": "execute_result"
    }
   ],
   "source": [
    "d = Dreieck(A, B, C)\n",
    "\n",
    "d.längen, d.winkel   # die Seitenlängen und Innenwinkel von d\n"
   ]
  },
  {
   "cell_type": "code",
   "execution_count": 9,
   "metadata": {
    "collapsed": false
   },
   "outputs": [
    {
     "data": {
      "image/png": "[encoded data removed]",
      "text/plain": [
       "<matplotlib.figure.Figure at 0xbfa2b90>"
      ]
     },
     "metadata": {},
     "output_type": "display_data"
    }
   ],
   "source": [
    "sicht_box(-0.5, 1.5)\n",
    "zeichne([d, 2])"
   ]
  },
  {
   "cell_type": "markdown",
   "metadata": {
    "collapsed": true
   },
   "source": [
    "Werden die Koordinaten von $A$ und $B$  geändert und alle Berechnungen erneut \n",
    "<br>durchgeführt, kann man sich überzeugen, dass sie für eine beliebige Lage der beiden \n",
    "<br>Punkte zum Ergebnis führen \n",
    "\n",
    "Zur Anwendung in der $xy$ - Ebene des Raumes sind folgende Änderungen zu machen:\n",
    "* die Ausgangspunkte $A$ und $B$ erhalten als dritte Koordinate $0$\n",
    "* eine $normale$-Methode für Geraden ist dort nicht definiert; die Richtung der \n",
    "  <br>Mittelsenkrechten muss anders ermittelt werden \n",
    "* ebenfalls nicht definiert ist die $koord$-Eigenschaft für Geraden, wohl aber die $prg$-\n",
    "  <br>Eigenschaft (zur Anzeige der Parametergleichung); diese ist auch in der Ebene \n",
    "  <br>verfügbar: "
   ]
  },
  {
   "cell_type": "code",
   "execution_count": 10,
   "metadata": {
    "collapsed": false
   },
   "outputs": [
    {
     "data": {
      "text/latex": [
       "$$\\left(\\begin{matrix}x\\\\y\\end{matrix}\\right)=\\left(\\begin{matrix}\\frac{1}{2}\\\\0\\end{matrix}\\right)+s\\,\\left(\\begin{matrix}0\\\\1\\end{matrix}\\right)$$"
      ],
      "text/plain": [
       "<IPython.core.display.Math object>"
      ]
     },
     "metadata": {},
     "output_type": "display_data"
    }
   ],
   "source": [
    "ms.prg"
   ]
  },
  {
   "cell_type": "markdown",
   "metadata": {},
   "source": [
    "### Berechnungen im allgemeinen Fall \n",
    "\n",
    "Mit den angeführten Änderungen wird ein im Sinne der Aufgabenstellung \n",
    "<br>allgemeingültiger Algorithmus erarbeitet. Dieser wird als Python-Funktion \n",
    "<br>bereitgestellt, die das erzeugte Dreieck zurückgibt"
   ]
  },
  {
   "cell_type": "code",
   "execution_count": 11,
   "metadata": {
    "collapsed": false
   },
   "outputs": [],
   "source": [
    "# Definition der Funktion\n",
    "\n",
    "# Parameter sind die Endpunkte der Ausgangsstrecke\n",
    "\n",
    "# Es wird die dim-Eigenschaft (Dimension) benutzt, die alle \n",
    "# agla-Objekte haben\n",
    "\n",
    "def gleich_seitiges_dreieck(A, B):\n",
    "    \n",
    "    c = Strecke(A, B) \n",
    "    M = c.mitte\n",
    "    \n",
    "    ri = c.gerade.richt   # Richtungsvektor der Tägergeraden von c\n",
    "    if A.dim == 2:        # Unterscheidung R^2 und R^3\n",
    "        norm = Vektor(-ri.y, ri.x)   # Normalenvektor der Strecke\n",
    "    else:\n",
    "        norm = Vektor(-ri.y, ri.x, 0)\n",
    "         \n",
    "    ms = Gerade(M, norm)\n",
    "    C = ms.pkt(t)\n",
    "    \n",
    "    L = löse(Abstand(A, C) - c.länge)   \n",
    "    t0 = L[1][t]                         \n",
    "\n",
    "    C = ms.pkt(t0)\n",
    "    \n",
    "    return Dreieck(A, B, C)\n"
   ]
  },
  {
   "cell_type": "markdown",
   "metadata": {},
   "source": [
    "Beispiele für den Gebrauch der Funktion"
   ]
  },
  {
   "cell_type": "code",
   "execution_count": 12,
   "metadata": {
    "collapsed": false
   },
   "outputs": [
    {
     "data": {
      "text/latex": [
       "$$\\left ( \\left ( \\left(\\begin{matrix}-1\\\\0\\end{matrix}\\right), \\quad \\left(\\begin{matrix}2\\\\2\\end{matrix}\\right), \\quad \\left(\\begin{matrix}- \\sqrt{3} + \\frac{1}{2}\\\\1 + \\frac{3 \\sqrt{3}}{2}\\end{matrix}\\right)\\right ), \\quad \\left ( \\sqrt{13}, \\quad \\sqrt{13}, \\quad \\sqrt{13}\\right ), \\quad \\left ( 60.0, \\quad 60.0, \\quad 60.0\\right )\\right )$$"
      ],
      "text/plain": [
       "((Vektor, Vektor, Vektor), (√13, √13, √13), (60.0, 60.0, 60.0))"
      ]
     },
     "execution_count": 12,
     "metadata": {},
     "output_type": "execute_result"
    }
   ],
   "source": [
    "# Aufruf der Funktion in der Ebene\n",
    "\n",
    "A = v(-1, 0); B = v(2, 2)\n",
    "\n",
    "dd = gleich_seitiges_dreieck(A, B)   \n",
    "\n",
    "dd.punkte, dd.längen, dd.winkel\n"
   ]
  },
  {
   "cell_type": "code",
   "execution_count": 13,
   "metadata": {
    "collapsed": false
   },
   "outputs": [
    {
     "data": {
      "image/png": "[encoded data removed]",
      "text/plain": [
       "<matplotlib.figure.Figure at 0xc204c30>"
      ]
     },
     "metadata": {},
     "output_type": "display_data"
    }
   ],
   "source": [
    "sicht_box(-3, 5)\n",
    "zeichne( dd, A, B, [Strecke(A, B), rot, 2])\n",
    "         "
   ]
  },
  {
   "cell_type": "code",
   "execution_count": 14,
   "metadata": {
    "collapsed": false
   },
   "outputs": [
    {
     "data": {
      "text/latex": [
       "$$\\left ( \\left ( \\left(\\begin{matrix}-3\\\\-4\\\\0\\end{matrix}\\right), \\quad \\left(\\begin{matrix}2\\\\3\\\\0\\end{matrix}\\right), \\quad \\left(\\begin{matrix}- \\frac{7 \\sqrt{3}}{2} - \\frac{1}{2}\\\\- \\frac{1}{2} + \\frac{5 \\sqrt{3}}{2}\\\\0\\end{matrix}\\right)\\right ), \\quad \\left ( \\sqrt{74}, \\quad \\sqrt{74}, \\quad \\sqrt{74}\\right ), \\quad \\left ( 60.0, \\quad 60.0, \\quad 60.0\\right )\\right )$$"
      ],
      "text/plain": [
       "((Vektor, Vektor, Vektor), (√74, √74, √74), (60.0, 60.0, 60.0))"
      ]
     },
     "execution_count": 14,
     "metadata": {},
     "output_type": "execute_result"
    }
   ],
   "source": [
    "# Aufruf der Funktion im Raum\n",
    "\n",
    "ddd = gleich_seitiges_dreieck(v(-3, -4, 0), v(2, 3, 0))   \n",
    "\n",
    "ddd.punkte, ddd.längen, ddd.winkel\n"
   ]
  },
  {
   "cell_type": "code",
   "execution_count": 15,
   "metadata": {
    "collapsed": false
   },
   "outputs": [],
   "source": [
    "sicht_box(10)\n",
    "zeichne([ddd, blau, 2], xy_gitter=ja)"
   ]
  },
  {
   "cell_type": "markdown",
   "metadata": {},
   "source": [
    "<img src='bilder/bild3.png', align='left'><br>"
   ]
  },
  {
   "cell_type": "markdown",
   "metadata": {},
   "source": [
    "Für den eventuell beabsichtigten allgemeinen Gebrauch der Funktion fehlen nur \n",
    "<br>noch Eingabekontrollen bezüglich der Argumente und die Einbindung der Funktion in\n",
    "<br>die Arbeitsumgebung des Anwenders<br>\n",
    "(deutsche Umlaute und veränderte Operatoren sind dann nicht mehr zu verwenden)"
   ]
  },
  {
   "cell_type": "markdown",
   "metadata": {},
   "source": [
    "<i>Man kann sich überlegen, dass bei rationalen Koordinaten von $A$ und $B$ mindestens \n",
    "<br>eine der Koordinaten von $C$ eine irrationale Zahl (Wurzelausdruck) ist. Somit besteht \n",
    "<br>schon bei dieser einfachen Aufgabe die Notwendigkeit, mit irrationalen Koordinaten \n",
    "<br>von Punkten bzw. Komponenten von Vektoren rechnen zu können</i>\n",
    "<br><br>"
   ]
  },
  {
   "cell_type": "markdown",
   "metadata": {},
   "source": [
    "## 2. Konstruktion von regelmäßigen Vielecken \n",
    "\n",
    "am Beispiel von Fünfecken\n",
    "\n",
    "Die Eckpunkte eines <i>n</i> - Ecks werden durch die Teilung des Umkreises in <i>n</i> gleiche\n",
    "<br>Teile gewonnen\n",
    "<br>"
   ]
  },
  {
   "cell_type": "markdown",
   "metadata": {},
   "source": [
    "### Umkreis ist der Einheitskreis <br>"
   ]
  },
  {
   "cell_type": "code",
   "execution_count": 16,
   "metadata": {
    "collapsed": false
   },
   "outputs": [
    {
     "data": {
      "text/latex": [
       "$$\\left ( \\left(\\begin{matrix}0\\\\0\\end{matrix}\\right), \\quad 1\\right )$$"
      ],
      "text/plain": [
       "(Vektor, 1)"
      ]
     },
     "execution_count": 16,
     "metadata": {},
     "output_type": "execute_result"
    }
   ],
   "source": [
    "k = EinhKreis2; k.mitte, k.radius  # der Einheitskreis ist vordefiniert"
   ]
  },
  {
   "cell_type": "code",
   "execution_count": 17,
   "metadata": {
    "collapsed": false
   },
   "outputs": [
    {
     "data": {
      "text/latex": [
       "$$\\left(\\begin{matrix}\\cos{\\left (\\frac{\\pi t}{180} \\right )}\\\\\\sin{\\left (\\frac{\\pi t}{180} \\right )}\\end{matrix}\\right)$$"
      ],
      "text/plain": [
       "Vektorschar([t])"
      ]
     },
     "execution_count": 17,
     "metadata": {},
     "output_type": "execute_result"
    }
   ],
   "source": [
    "k.pkt(t)   # der allgemeine Punkt des Kreises; t - Winkel in Grad"
   ]
  },
  {
   "cell_type": "markdown",
   "metadata": {},
   "source": [
    "Das Fünfeck wird anhand einer Liste von aufeinander folgenden Punkten erzeugt"
   ]
  },
  {
   "cell_type": "code",
   "execution_count": 18,
   "metadata": {
    "collapsed": false
   },
   "outputs": [],
   "source": [
    "n = 5   # die Anzahl der Ecken\n",
    "\n",
    "Fünfeck = fe = Figur( [ k.pkt(i * 360/n) for i in (0, 1, 2, 3, 4, 5) ] )   \n",
    "                                             # in range(n+1) ist möglich"
   ]
  },
  {
   "cell_type": "markdown",
   "metadata": {},
   "source": [
    "Die Liste der Eckpunkte der (geschlossenen) Figur ist"
   ]
  },
  {
   "cell_type": "code",
   "execution_count": 19,
   "metadata": {
    "collapsed": false
   },
   "outputs": [
    {
     "data": {
      "text/latex": [
       "$$\\left [ \\left(\\begin{matrix}1\\\\0\\end{matrix}\\right), \\quad \\left(\\begin{matrix}- \\frac{1}{4} + \\frac{\\sqrt{5}}{4}\\\\\\sqrt{\\frac{\\sqrt{5}}{8} + \\frac{5}{8}}\\end{matrix}\\right), \\quad \\left(\\begin{matrix}- \\frac{\\sqrt{5}}{4} - \\frac{1}{4}\\\\\\sqrt{- \\frac{\\sqrt{5}}{8} + \\frac{5}{8}}\\end{matrix}\\right), \\quad \\left(\\begin{matrix}- \\frac{\\sqrt{5}}{4} - \\frac{1}{4}\\\\- \\sqrt{- \\frac{\\sqrt{5}}{8} + \\frac{5}{8}}\\end{matrix}\\right), \\quad \\left(\\begin{matrix}- \\frac{1}{4} + \\frac{\\sqrt{5}}{4}\\\\- \\sqrt{\\frac{\\sqrt{5}}{8} + \\frac{5}{8}}\\end{matrix}\\right), \\quad \\left(\\begin{matrix}1\\\\0\\end{matrix}\\right)\\right ]$$"
      ],
      "text/plain": [
       "[Vektor, Vektor, Vektor, Vektor, Vektor, Vektor]"
      ]
     },
     "execution_count": 19,
     "metadata": {},
     "output_type": "execute_result"
    }
   ],
   "source": [
    "pfad = fe.pfad; pfad"
   ]
  },
  {
   "cell_type": "markdown",
   "metadata": {},
   "source": [
    "Die Abstände benachbarter Punkte sind gleich:"
   ]
  },
  {
   "cell_type": "code",
   "execution_count": 20,
   "metadata": {
    "collapsed": false
   },
   "outputs": [
    {
     "data": {
      "image/png": "[encoded data removed]",
      "text/latex": [
       "$$\\left [ \\sqrt{- \\frac{\\sqrt{5}}{2} + \\frac{5}{2}}, \\quad \\sqrt{- 2 \\sqrt{- \\frac{\\sqrt{5}}{8} + \\frac{5}{8}} \\sqrt{\\frac{\\sqrt{5}}{8} + \\frac{5}{8}} + \\frac{5}{2}}, \\quad \\sqrt{- \\frac{\\sqrt{5}}{2} + \\frac{5}{2}}, \\quad \\sqrt{- 2 \\sqrt{- \\frac{\\sqrt{5}}{8} + \\frac{5}{8}} \\sqrt{\\frac{\\sqrt{5}}{8} + \\frac{5}{8}} + \\frac{5}{2}}, \\quad \\sqrt{- \\frac{\\sqrt{5}}{2} + \\frac{5}{2}}\\right ]$$"
      ],
      "text/plain": [
       "⎡                     _____________________________________                   \n",
       "⎢    __________      ╱         __________     ________           __________   \n",
       "⎢   ╱   √5   5      ╱         ╱   √5   5     ╱ √5   5    5      ╱   √5   5    \n",
       "⎢  ╱  - ── + ─ ,   ╱   - 2⋅  ╱  - ── + ─ ⋅  ╱  ── + ─  + ─ ,   ╱  - ── + ─ ,  \n",
       "⎣╲╱     2    2   ╲╱        ╲╱     8    8  ╲╱   8    8    2   ╲╱     2    2   ╲\n",
       "\n",
       "    _____________________________________                ⎤\n",
       "   ╱         __________     ________           __________⎥\n",
       "  ╱         ╱   √5   5     ╱ √5   5    5      ╱   √5   5 ⎥\n",
       " ╱   - 2⋅  ╱  - ── + ─ ⋅  ╱  ── + ─  + ─ ,   ╱  - ── + ─ ⎥\n",
       "╱        ╲╱     8    8  ╲╱   8    8    2   ╲╱     2    2 ⎦"
      ]
     },
     "execution_count": 20,
     "metadata": {},
     "output_type": "execute_result"
    }
   ],
   "source": [
    "[ Abstand(pfad[i], pfad[i+1]) for i in range(n) ]   \n"
   ]
  },
  {
   "cell_type": "markdown",
   "metadata": {},
   "source": [
    "Die Werte sind scheinbar unterschiedlich. Der nummerische \"Nachweis\" der Gleichheit\n",
    "<br>reicht eventuell in der Schule aus"
   ]
  },
  {
   "cell_type": "code",
   "execution_count": 21,
   "metadata": {
    "collapsed": false
   },
   "outputs": [
    {
     "data": {
      "image/png": "[encoded data removed]",
      "text/latex": [
       "$$\\left [ 1.175570505, \\quad 1.175570505, \\quad 1.175570505, \\quad 1.175570505, \\quad 1.175570505\\right ]$$"
      ],
      "text/plain": [
       "[1.175570505, 1.175570505, 1.175570505, 1.175570505, 1.175570505]"
      ]
     },
     "execution_count": 21,
     "metadata": {},
     "output_type": "execute_result"
    }
   ],
   "source": [
    "[ Abstand(pfad[i], pfad[i+1], d=10) for i in range(n) ]    "
   ]
  },
  {
   "cell_type": "markdown",
   "metadata": {},
   "source": [
    "Auch der symbolische Nachweis ist hier unmittelbar möglich\n",
    "\n",
    "(die Funktion <i>einfach</i> beruht auf den SymPy-Funktionen zur Vereinfachung <i>simplify, \n",
    "<br>nsimplify, ...</i>)"
   ]
  },
  {
   "cell_type": "code",
   "execution_count": 22,
   "metadata": {
    "collapsed": false
   },
   "outputs": [
    {
     "data": {
      "image/png": "[encoded data removed]",
      "text/latex": [
       "$$\\left [ \\sqrt{- \\frac{\\sqrt{5}}{2} + \\frac{5}{2}}, \\quad \\sqrt{- \\frac{\\sqrt{5}}{2} + \\frac{5}{2}}, \\quad \\sqrt{- \\frac{\\sqrt{5}}{2} + \\frac{5}{2}}, \\quad \\sqrt{- \\frac{\\sqrt{5}}{2} + \\frac{5}{2}}, \\quad \\sqrt{- \\frac{\\sqrt{5}}{2} + \\frac{5}{2}}\\right ]$$"
      ],
      "text/plain": [
       "⎡    __________      __________      __________      __________      _________\n",
       "⎢   ╱   √5   5      ╱   √5   5      ╱   √5   5      ╱   √5   5      ╱   √5   5\n",
       "⎢  ╱  - ── + ─ ,   ╱  - ── + ─ ,   ╱  - ── + ─ ,   ╱  - ── + ─ ,   ╱  - ── + ─\n",
       "⎣╲╱     2    2   ╲╱     2    2   ╲╱     2    2   ╲╱     2    2   ╲╱     2    2\n",
       "\n",
       "_⎤\n",
       " ⎥\n",
       " ⎥\n",
       " ⎦"
      ]
     },
     "execution_count": 22,
     "metadata": {},
     "output_type": "execute_result"
    }
   ],
   "source": [
    "[ einfach(Abstand(pfad[i], pfad[i+1]), num=ja) for i in range(n) ] \n"
   ]
  },
  {
   "cell_type": "code",
   "execution_count": 23,
   "metadata": {
    "collapsed": false
   },
   "outputs": [
    {
     "data": {
      "image/png": "[encoded data removed]",
      "text/plain": [
       "<matplotlib.figure.Figure at 0xc1df250>"
      ]
     },
     "metadata": {},
     "output_type": "display_data"
    }
   ],
   "source": [
    "sicht_box(1.5)\n",
    "zeichne(fe)"
   ]
  },
  {
   "cell_type": "markdown",
   "metadata": {},
   "source": [
    "### Konstruktion eines Fünfecks mit vorgegebener Seitenlänge $a$\n",
    "Die Konstruktion wird auf der Basis des oben erhaltenen Fünfecks mittels einer \n",
    "<br>zentrischen Streckung durchgeführt; eine Formel für den Streckfaktor wird gewonnen"
   ]
  },
  {
   "cell_type": "code",
   "execution_count": 24,
   "metadata": {
    "collapsed": false
   },
   "outputs": [],
   "source": [
    "fe1 = fe.bild(streckung(O2, f))   # O2 - Ursprung, f - Streckfaktor"
   ]
  },
  {
   "cell_type": "code",
   "execution_count": 25,
   "metadata": {
    "collapsed": false
   },
   "outputs": [
    {
     "data": {
      "text/latex": [
       "$$\\left [ \\left(\\begin{matrix}f\\\\0\\end{matrix}\\right), \\quad \\left(\\begin{matrix}f \\left(- \\frac{1}{4} + \\frac{\\sqrt{5}}{4}\\right)\\\\f \\sqrt{\\frac{\\sqrt{5}}{8} + \\frac{5}{8}}\\end{matrix}\\right), \\quad \\left(\\begin{matrix}f \\left(- \\frac{\\sqrt{5}}{4} - \\frac{1}{4}\\right)\\\\f \\sqrt{- \\frac{\\sqrt{5}}{8} + \\frac{5}{8}}\\end{matrix}\\right), \\quad \\left(\\begin{matrix}f \\left(- \\frac{\\sqrt{5}}{4} - \\frac{1}{4}\\right)\\\\- f \\sqrt{- \\frac{\\sqrt{5}}{8} + \\frac{5}{8}}\\end{matrix}\\right), \\quad \\left(\\begin{matrix}f \\left(- \\frac{1}{4} + \\frac{\\sqrt{5}}{4}\\right)\\\\- f \\sqrt{\\frac{\\sqrt{5}}{8} + \\frac{5}{8}}\\end{matrix}\\right)\\right ]$$"
      ],
      "text/plain": [
       "[Vektorschar([f]), Vektorschar([f]), Vektorschar([f]), Vektorschar([f]), Vekto\n",
       "rschar([f])]"
      ]
     },
     "execution_count": 25,
     "metadata": {},
     "output_type": "execute_result"
    }
   ],
   "source": [
    "ecken = fe1.ecken; ecken"
   ]
  },
  {
   "cell_type": "markdown",
   "metadata": {
    "collapsed": true
   },
   "source": [
    "\n",
    "Ermittlung einer Formel für den Streckfaktor, um die vorgegebene Seitenlänge $a$ \n",
    "<br>zu erhalten\n",
    "\n",
    "Die Bedingung führt auf die Gleichung \n",
    "\n",
    "$\\qquad$<i>Abstand(ecke1, ecke2) = a</i>\n",
    "\n",
    "Die rechte Seite wird zu 0 gemacht, da nur die linke Seite interessiert \n",
    "und Python <br>ab 0 zählt, wird notiert"
   ]
  },
  {
   "cell_type": "code",
   "execution_count": 26,
   "metadata": {
    "collapsed": false
   },
   "outputs": [
    {
     "data": {
      "image/png": "[encoded data removed]",
      "text/latex": [
       "$$- a + \\sqrt{- \\frac{\\sqrt{5} f^{2}}{2} + \\frac{5 f^{2}}{2}}$$"
      ],
      "text/plain": [
       "          ________________\n",
       "         ╱       2      2 \n",
       "        ╱    √5⋅f    5⋅f  \n",
       "-a +   ╱   - ───── + ──── \n",
       "     ╲╱        2      2   "
      ]
     },
     "execution_count": 26,
     "metadata": {},
     "output_type": "execute_result"
    }
   ],
   "source": [
    "gl = Abstand(ecken[0], ecken[1]) - a   # Gleichung für f,\n",
    "gl                                     # rechte Seite wird = 0 angenommen"
   ]
  },
  {
   "cell_type": "code",
   "execution_count": 27,
   "metadata": {
    "collapsed": false
   },
   "outputs": [
    {
     "data": {
      "image/png": "[encoded data removed]",
      "text/latex": [
       "$$\\left [ \\left \\{ f : - \\frac{\\sqrt{2} a}{\\sqrt{- \\sqrt{5} + 5}}\\right \\}, \\quad \\left \\{ f : \\frac{\\sqrt{2} a}{\\sqrt{- \\sqrt{5} + 5}}\\right \\}\\right ]$$"
      ],
      "text/plain": [
       "⎡⎧      -√2⋅a   ⎫  ⎧       √2⋅a   ⎫⎤\n",
       "⎢⎪f: ───────────⎪, ⎪f: ───────────⎪⎥\n",
       "⎢⎨     _________⎬  ⎨     _________⎬⎥\n",
       "⎢⎪   ╲╱ -√5 + 5 ⎪  ⎪   ╲╱ -√5 + 5 ⎪⎥\n",
       "⎣⎩              ⎭  ⎩              ⎭⎦"
      ]
     },
     "execution_count": 27,
     "metadata": {},
     "output_type": "execute_result"
    }
   ],
   "source": [
    "L = löse(gl, f); L    # Auflösung "
   ]
  },
  {
   "cell_type": "code",
   "execution_count": 28,
   "metadata": {
    "collapsed": false
   },
   "outputs": [
    {
     "data": {
      "image/png": "[encoded data removed]",
      "text/latex": [
       "$$\\frac{\\sqrt{2} a}{\\sqrt{- \\sqrt{5} + 5}}$$"
      ],
      "text/plain": [
       "    √2⋅a   \n",
       "───────────\n",
       "  _________\n",
       "╲╱ -√5 + 5 "
      ]
     },
     "execution_count": 28,
     "metadata": {},
     "output_type": "execute_result"
    }
   ],
   "source": [
    "ff = L[1][f]; ff   # der berechnete positive Faktor"
   ]
  },
  {
   "cell_type": "code",
   "execution_count": 29,
   "metadata": {
    "collapsed": false
   },
   "outputs": [
    {
     "data": {
      "image/png": "[encoded data removed]",
      "text/latex": [
       "$$\\left ( \\frac{2 \\sqrt{2}}{\\sqrt{- \\sqrt{5} + 5}}, \\quad \\frac{4 \\sqrt{2}}{\\sqrt{- \\sqrt{5} + 5}}\\right )$$"
      ],
      "text/plain": [
       "⎛    2⋅√2         4⋅√2   ⎞\n",
       "⎜───────────, ───────────⎟\n",
       "⎜  _________    _________⎟\n",
       "⎝╲╱ -√5 + 5   ╲╱ -√5 + 5 ⎠"
      ]
     },
     "execution_count": 29,
     "metadata": {},
     "output_type": "execute_result"
    }
   ],
   "source": [
    "f2 = ff.subs(a, 2); f4 = ff.subs(a, 4)  # 2 verschiedene Seitenlängen\n",
    "f2, f4                      "
   ]
  },
  {
   "cell_type": "code",
   "execution_count": 30,
   "metadata": {
    "collapsed": false
   },
   "outputs": [],
   "source": [
    "fe2 = fe.bild(streckung(O2, f2))   # Fünfeck mit der Seitenlänge 2\n",
    "fe4 = fe.bild(streckung(O2, f4))   # ebenso, 4"
   ]
  },
  {
   "cell_type": "code",
   "execution_count": 31,
   "metadata": {
    "collapsed": false
   },
   "outputs": [
    {
     "data": {
      "image/png": "[encoded data removed]",
      "text/plain": [
       "<matplotlib.figure.Figure at 0xffb9370>"
      ]
     },
     "metadata": {},
     "output_type": "display_data"
    }
   ],
   "source": [
    "sicht_box(5)\n",
    "zeichne(fe, [fe2, rot], [fe4, grün])"
   ]
  },
  {
   "cell_type": "code",
   "execution_count": 32,
   "metadata": {
    "collapsed": false
   },
   "outputs": [
    {
     "data": {
      "image/png": "[encoded data removed]",
      "text/plain": [
       "<matplotlib.figure.Figure at 0x148f1330>"
      ]
     },
     "metadata": {},
     "output_type": "display_data"
    }
   ],
   "source": [
    "fe3 = fe2.bild(drehung(O2, 90))   # Erzeugung einer \"gewohnten\" lage\n",
    "                            \n",
    "sicht_box(-2.5, 2)\n",
    "zeichne([fe3, 'lemonchiffon', 'füll=ja'], fe3, achsen=nein)   "
   ]
  },
  {
   "cell_type": "markdown",
   "metadata": {},
   "source": [
    "Nachweis der Regelmäßigkeit des Fünfecks *fe3*: die Abstände benachbarter Punkte \n",
    "<br>sind alle gleich 2 "
   ]
  },
  {
   "cell_type": "code",
   "execution_count": 33,
   "metadata": {
    "collapsed": false
   },
   "outputs": [
    {
     "data": {
      "text/latex": [
       "$$\\left [ \\left(\\begin{matrix}0\\\\\\frac{2 \\sqrt{2}}{\\sqrt{- \\sqrt{5} + 5}}\\end{matrix}\\right), \\quad \\left(\\begin{matrix}- \\frac{2 \\sqrt{2} \\sqrt{\\frac{\\sqrt{5}}{8} + \\frac{5}{8}}}{\\sqrt{- \\sqrt{5} + 5}}\\\\\\frac{2 \\sqrt{2} \\left(- \\frac{1}{4} + \\frac{\\sqrt{5}}{4}\\right)}{\\sqrt{- \\sqrt{5} + 5}}\\end{matrix}\\right), \\quad \\left(\\begin{matrix}- \\frac{2 \\sqrt{2} \\sqrt{- \\frac{\\sqrt{5}}{8} + \\frac{5}{8}}}{\\sqrt{- \\sqrt{5} + 5}}\\\\\\frac{2 \\sqrt{2} \\left(- \\frac{\\sqrt{5}}{4} - \\frac{1}{4}\\right)}{\\sqrt{- \\sqrt{5} + 5}}\\end{matrix}\\right), \\quad \\left(\\begin{matrix}\\frac{2 \\sqrt{2} \\sqrt{- \\frac{\\sqrt{5}}{8} + \\frac{5}{8}}}{\\sqrt{- \\sqrt{5} + 5}}\\\\\\frac{2 \\sqrt{2} \\left(- \\frac{\\sqrt{5}}{4} - \\frac{1}{4}\\right)}{\\sqrt{- \\sqrt{5} + 5}}\\end{matrix}\\right), \\quad \\left(\\begin{matrix}\\frac{2 \\sqrt{2} \\sqrt{\\frac{\\sqrt{5}}{8} + \\frac{5}{8}}}{\\sqrt{- \\sqrt{5} + 5}}\\\\\\frac{2 \\sqrt{2} \\left(- \\frac{1}{4} + \\frac{\\sqrt{5}}{4}\\right)}{\\sqrt{- \\sqrt{5} + 5}}\\end{matrix}\\right), \\quad \\left(\\begin{matrix}0\\\\\\frac{2 \\sqrt{2}}{\\sqrt{- \\sqrt{5} + 5}}\\end{matrix}\\right)\\right ]$$"
      ],
      "text/plain": [
       "[Vektor, Vektor, Vektor, Vektor, Vektor, Vektor]"
      ]
     },
     "execution_count": 33,
     "metadata": {},
     "output_type": "execute_result"
    }
   ],
   "source": [
    "pfad = fe3.pfad; pfad"
   ]
  },
  {
   "cell_type": "code",
   "execution_count": 34,
   "metadata": {
    "collapsed": false
   },
   "outputs": [
    {
     "data": {
      "image/png": "[encoded data removed]",
      "text/latex": [
       "$$\\left [ \\sqrt{- \\frac{4 \\sqrt{5}}{- \\sqrt{5} + 5} + \\frac{20}{- \\sqrt{5} + 5}}, \\quad \\sqrt{- \\frac{16 \\sqrt{- \\frac{\\sqrt{5}}{8} + \\frac{5}{8}} \\sqrt{\\frac{\\sqrt{5}}{8} + \\frac{5}{8}}}{- \\sqrt{5} + 5} + \\frac{20}{- \\sqrt{5} + 5}}, \\quad \\sqrt{- \\frac{4 \\sqrt{5}}{- \\sqrt{5} + 5} + \\frac{20}{- \\sqrt{5} + 5}}, \\quad \\sqrt{- \\frac{16 \\sqrt{- \\frac{\\sqrt{5}}{8} + \\frac{5}{8}} \\sqrt{\\frac{\\sqrt{5}}{8} + \\frac{5}{8}}}{- \\sqrt{5} + 5} + \\frac{20}{- \\sqrt{5} + 5}}, \\quad \\sqrt{- \\frac{4 \\sqrt{5}}{- \\sqrt{5} + 5} + \\frac{20}{- \\sqrt{5} + 5}}\\right ]$$"
      ],
      "text/plain": [
       "⎡                                  ___________________________________________\n",
       "⎢                                 ╱          __________     ________          \n",
       "⎢                                ╱          ╱   √5   5     ╱ √5   5           \n",
       "⎢    _____________________      ╱     16⋅  ╱  - ── + ─ ⋅  ╱  ── + ─           \n",
       "⎢   ╱     4⋅√5       20        ╱         ╲╱     8    8  ╲╱   8    8       20  \n",
       "⎢  ╱  - ─────── + ─────── ,   ╱     - ────────────────────────────── + ───────\n",
       "⎣╲╱     -√5 + 5   -√5 + 5   ╲╱                   -√5 + 5               -√5 + 5\n",
       "\n",
       "_                                    _________________________________________\n",
       "                                    ╱          __________     ________        \n",
       "                                   ╱          ╱   √5   5     ╱ √5   5         \n",
       "       _____________________      ╱     16⋅  ╱  - ── + ─ ⋅  ╱  ── + ─         \n",
       "      ╱     4⋅√5       20        ╱         ╲╱     8    8  ╲╱   8    8       20\n",
       " ,   ╱  - ─────── + ─────── ,   ╱     - ────────────────────────────── + ─────\n",
       "   ╲╱     -√5 + 5   -√5 + 5   ╲╱                   -√5 + 5               -√5 +\n",
       "\n",
       "___                           ⎤\n",
       "                              ⎥\n",
       "                              ⎥\n",
       "         _____________________⎥\n",
       "        ╱     4⋅√5       20   ⎥\n",
       "── ,   ╱  - ─────── + ─────── ⎥\n",
       " 5   ╲╱     -√5 + 5   -√5 + 5 ⎦"
      ]
     },
     "execution_count": 34,
     "metadata": {},
     "output_type": "execute_result"
    }
   ],
   "source": [
    "[ Abstand(pfad[i], pfad[i+1]) for i in range(n) ]  "
   ]
  },
  {
   "cell_type": "markdown",
   "metadata": {},
   "source": [
    "Die Ungleichheit ist nur scheinbar "
   ]
  },
  {
   "cell_type": "code",
   "execution_count": 35,
   "metadata": {
    "collapsed": false
   },
   "outputs": [
    {
     "data": {
      "image/png": "[encoded data removed]",
      "text/latex": [
       "$$\\left [ 2, \\quad 2, \\quad 2, \\quad 2, \\quad 2\\right ]$$"
      ],
      "text/plain": [
       "[2, 2, 2, 2, 2]"
      ]
     },
     "execution_count": 35,
     "metadata": {},
     "output_type": "execute_result"
    }
   ],
   "source": [
    "[ einfach(Abstand(pfad[i], pfad[i+1]), num=ja) for i in range(n) ]"
   ]
  },
  {
   "cell_type": "markdown",
   "metadata": {},
   "source": [
    "Mit etwas mehr Aufwand gelingt der Nachweis gleicher Längen auch bei unbestimmtem\n",
    "<br> <i>a</i> (das wird hier nicht durchgeführt)\n",
    "<br><br>"
   ]
  },
  {
   "cell_type": "markdown",
   "metadata": {
    "collapsed": true
   },
   "source": [
    "### Übertragung in die $xy$ - Ebene des Raumes"
   ]
  },
  {
   "cell_type": "code",
   "execution_count": 36,
   "metadata": {
    "collapsed": false
   },
   "outputs": [
    {
     "data": {
      "text/latex": [
       "$$\\left [ \\left(\\begin{matrix}0\\\\\\frac{2 \\sqrt{2}}{\\sqrt{- \\sqrt{5} + 5}}\\\\0\\end{matrix}\\right), \\quad \\left(\\begin{matrix}- \\frac{2 \\sqrt{2} \\sqrt{\\frac{\\sqrt{5}}{8} + \\frac{5}{8}}}{\\sqrt{- \\sqrt{5} + 5}}\\\\\\frac{2 \\sqrt{2} \\left(- \\frac{1}{4} + \\frac{\\sqrt{5}}{4}\\right)}{\\sqrt{- \\sqrt{5} + 5}}\\\\0\\end{matrix}\\right), \\quad \\left(\\begin{matrix}- \\frac{2 \\sqrt{2} \\sqrt{- \\frac{\\sqrt{5}}{8} + \\frac{5}{8}}}{\\sqrt{- \\sqrt{5} + 5}}\\\\\\frac{2 \\sqrt{2} \\left(- \\frac{\\sqrt{5}}{4} - \\frac{1}{4}\\right)}{\\sqrt{- \\sqrt{5} + 5}}\\\\0\\end{matrix}\\right), \\quad \\left(\\begin{matrix}\\frac{2 \\sqrt{2} \\sqrt{- \\frac{\\sqrt{5}}{8} + \\frac{5}{8}}}{\\sqrt{- \\sqrt{5} + 5}}\\\\\\frac{2 \\sqrt{2} \\left(- \\frac{\\sqrt{5}}{4} - \\frac{1}{4}\\right)}{\\sqrt{- \\sqrt{5} + 5}}\\\\0\\end{matrix}\\right), \\quad \\left(\\begin{matrix}\\frac{2 \\sqrt{2} \\sqrt{\\frac{\\sqrt{5}}{8} + \\frac{5}{8}}}{\\sqrt{- \\sqrt{5} + 5}}\\\\\\frac{2 \\sqrt{2} \\left(- \\frac{1}{4} + \\frac{\\sqrt{5}}{4}\\right)}{\\sqrt{- \\sqrt{5} + 5}}\\\\0\\end{matrix}\\right)\\right ]$$"
      ],
      "text/plain": [
       "[Vektor, Vektor, Vektor, Vektor, Vektor]"
      ]
     },
     "execution_count": 36,
     "metadata": {},
     "output_type": "execute_result"
    }
   ],
   "source": [
    "e4 = [v(p.x, p.y, 0) for p in fe3.ecken]; e4   # die Eckenliste"
   ]
  },
  {
   "cell_type": "code",
   "execution_count": 37,
   "metadata": {
    "collapsed": false
   },
   "outputs": [],
   "source": [
    "fe4 = Körper(e4, fe.kanten)   # ein ebener Körper "
   ]
  },
  {
   "cell_type": "markdown",
   "metadata": {},
   "source": [
    "(Eine Körper-Instanz wird formal durch eine Menge von Punkten und eine \n",
    "Menge <br>von Verbindungen zwischen den Punkten (Kanten) definiert. Die Kantenliste \n",
    "ist <br>dieselbe wie beim Ausgangs-Fünfeck):"
   ]
  },
  {
   "cell_type": "code",
   "execution_count": 38,
   "metadata": {
    "collapsed": false
   },
   "outputs": [
    {
     "data": {
      "image/png": "[encoded data removed]",
      "text/latex": [
       "$$\\left [ \\left [ 0, \\quad 1\\right ], \\quad \\left [ 1, \\quad 2\\right ], \\quad \\left [ 2, \\quad 3\\right ], \\quad \\left [ 3, \\quad 4\\right ], \\quad \\left [ 4, \\quad 0\\right ]\\right ]$$"
      ],
      "text/plain": [
       "[[0, 1], [1, 2], [2, 3], [3, 4], [4, 0]]"
      ]
     },
     "execution_count": 38,
     "metadata": {},
     "output_type": "execute_result"
    }
   ],
   "source": [
    "fe.kanten"
   ]
  },
  {
   "cell_type": "code",
   "execution_count": 39,
   "metadata": {
    "collapsed": false
   },
   "outputs": [],
   "source": [
    "sicht_box(3)\n",
    "zeichne([fe4, gelb, 'füll=ja'])"
   ]
  },
  {
   "cell_type": "markdown",
   "metadata": {},
   "source": [
    "<img src='bilder/bild4.png', align='left'><br>"
   ]
  }
 ],
 "metadata": {
  "anaconda-cloud": {},
  "kernelspec": {
   "display_name": "Python [default]",
   "language": "python",
   "name": "python3"
  },
  "language_info": {
   "codemirror_mode": {
    "name": "ipython",
    "version": 3
   },
   "file_extension": ".py",
   "mimetype": "text/x-python",
   "name": "python",
   "nbconvert_exporter": "python",
   "pygments_lexer": "ipython3",
   "version": "3.5.2"
  }
 },
 "nbformat": 4,
 "nbformat_minor": 0
}
