{
 "cells": [
  {
   "cell_type": "markdown",
   "metadata": {},
   "source": [
    "# Materialien zu <i>agla</i>\n",
    "\n",
    "Autor: Holger Böttcher - hbomat@posteo.de\n",
    "\n",
    "## Archimedische Körper"
   ]
  },
  {
   "cell_type": "markdown",
   "metadata": {},
   "source": [
    "### Dodekaederstumpf"
   ]
  },
  {
   "cell_type": "markdown",
   "metadata": {},
   "source": [
    "Flächenfolge in einer Ecke  (3, 10, 10) \n",
    "<br><br>"
   ]
  },
  {
   "cell_type": "code",
   "execution_count": 1,
   "metadata": {
    "collapsed": true
   },
   "outputs": [],
   "source": [
    "%run agla/start"
   ]
  },
  {
   "cell_type": "code",
   "execution_count": 2,
   "metadata": {
    "collapsed": false
   },
   "outputs": [],
   "source": [
    "# Die Koordinaten der Eckpunkte sind näherungsweise definiert\n",
    "\n",
    "# Erzeugung des Körpers über seine Seitenflächen\n",
    "\n",
    "UMG.SIMPL = False\n",
    "\n",
    "p0  = v(0,\t\t 0,\t\t 0.659412) \n",
    "p1  = v(0.21889595,\t 0,\t\t 0.62202335) \n",
    "p2  = v(-0.18864495,\t 0.111033,\t 0.62202335) \n",
    "p3  = v(0.1062542,\t-0.19137755,\t 0.62202335) \n",
    "p4  = v(0.38443145,\t 0.111033, \t 0.5241301) \n",
    "p5  = v(-0.3876249,\t 0.0993109,\t 0.5241301) \n",
    "p6  = v(-0.2749838,\t 0.2906891,\t 0.5241301) \n",
    "p7  = v(0.0895323,\t-0.39,\t\t 0.5241301) \n",
    "p8  = v(0.5396326,\t 0.0993109,\t 0.3657355) \n",
    "p9  = v(0.4333784,\t 0.2906891,\t 0.4031274) \n",
    "p10 = v(-0.52093665,\t-0.03068884,\t 0.4031274) \n",
    "p11 = v(-0.22603685,\t 0.47034455,\t 0.4031274) \n",
    "p12 = v(-0.04377919,\t-0.52,\t\t 0.4031274) \n",
    "p13 = v(0.1751165,\t-0.52,\t\t 0.3657355) \n",
    "p14 = v(0.6252168,\t-0.03068884,\t 0.2073409) \n",
    "p15 = v(0.34703955,\t 0.47034455,\t 0.30523415) \n",
    "p16 = v(-0.53765855,\t-0.2293109,\t 0.30523415) \n",
    "p17 = v(-0.6239974,\t-0.04965558,\t 0.2073409) \n",
    "p18 = v(-0.2594813,\t 0.56965545,\t 0.2073409) \n",
    "p19 = v(-0.06050135,\t 0.58137755,\t 0.30523415) \n",
    "p20 = v(-0.2427594,\t-0.5317221,\t 0.30523415) \n",
    "p21 = v(0.33031765,\t-0.5317221,\t 0.2073409) \n",
    "p22 = v(0.6084949,\t-0.2293109,\t 0.10944765) \n",
    "p23 = v(0.6574425,\t-0.04965558,\t-0.01155473) \n",
    "p24 = v(0.3135951,\t 0.56965545,\t 0.10944765) \n",
    "p25 = v(0.1583946,\t 0.58137755,\t 0.26784225) \n",
    "p26 = v(-0.43140435,\t-0.4206891,\t 0.26784225) \n",
    "p27 = v(-0.6574425,\t 0.04965558,\t 0.01155473) \n",
    "p28 = v(-0.36254205,\t 0.5506891,\t 0.01155473) \n",
    "p29 = v(-0.3458195,\t-0.5506891,\t 0.10944765) \n",
    "p30 = v(0.36254205,\t-0.5506891,\t-0.01155473) \n",
    "p31 = v(0.49585315,\t-0.4206891,\t 0.10944765) \n",
    "p32 = v(0.6239974,\t 0.04965558,\t-0.2073409) \n",
    "p33 = v(0.3458195,\t 0.5506891,\t-0.10944765) \n",
    "p34 = v(-0.6252168,\t 0.03068884,\t-0.2073409) \n",
    "p35 = v(-0.6084949,\t 0.2293109,\t-0.10944765) \n",
    "p36 = v(-0.49585315,\t 0.4206891,\t-0.10944765) \n",
    "p37 = v(-0.33031765,\t 0.5317221,\t-0.2073409) \n",
    "p38 = v(-0.3135951,\t-0.56965545,\t-0.10944765) \n",
    "p39 = v(0.2594813,\t-0.56965545,\t-0.2073409) \n",
    "p40 = v(0.52093665,\t 0.03068884,\t-0.4031274) \n",
    "p41 = v(0.53765855,\t 0.2293109,\t-0.30523415) \n",
    "p42 = v(0.43140435,\t 0.4206891,\t-0.26784225) \n",
    "p43 = v(0.2427594,\t 0.5317221,\t-0.30523415) \n",
    "p44 = v(-0.5396326,\t-0.0993109,\t-0.3657355) \n",
    "p45 = v(-0.1751165,\t 0.52,\t\t-0.3657355) \n",
    "p46 = v(-0.34703955,\t-0.47034455,\t-0.30523415) \n",
    "p47 = v(-0.1583946,\t-0.58137755,\t-0.26784225) \n",
    "p48 = v(0.06050135,\t-0.58137755,\t-0.30523415) \n",
    "p49 = v(0.22603685,\t-0.47034455,\t-0.4031274) \n",
    "p50 = v(0.3876249,\t-0.0993109,\t-0.5241301) \n",
    "p51 = v(0.04377919,\t 0.52,\t\t-0.4031274) \n",
    "p52 = v(-0.4333784,\t-0.2906891,\t-0.4031274) \n",
    "p53 = v(-0.38443145,\t-0.111033,\t-0.5241301) \n",
    "p54 = v(-0.0895323,\t 0.39,\t\t-0.5241301) \n",
    "p55 = v(0.2749838,\t-0.2906891,\t-0.5241301) \n",
    "p56 = v(0.18864495,\t-0.111033,\t-0.62202335) \n",
    "p57 = v(-0.21889595,\t 0,\t\t-0.62202335) \n",
    "p58 = v(-0.1062542,\t 0.19137755,\t-0.62202335) \n",
    "p59 = v(0,\t\t 0,\t\t-0.659412) \n",
    "\n",
    "dreiecke = [\n",
    "Koerper(p0, p3, p1,p0),\n",
    "Koerper(p2, p6, p5,p2),\n",
    "Koerper(p4, p8, p9,p4),\n",
    "Koerper(p7, p12,p13,p7),\n",
    "Koerper(p10,p17,p16,p10),\n",
    "Koerper(p11,p19,p18,p11),\n",
    "Koerper(p14,p22,p23,p14),\n",
    "Koerper(p15,p24,p25,p15),\n",
    "Koerper(p20,p26,p29,p20),\n",
    "Koerper(p21,p30,p31,p21),\n",
    "Koerper(p27,p35,p34,p27),\n",
    "Koerper(p28,p37,p36,p28),\n",
    "Koerper(p32,p40,p41,p32),\n",
    "Koerper(p33,p42,p43,p33),\n",
    "Koerper(p38,p46,p47,p38),\n",
    "Koerper(p39,p48,p49,p39),\n",
    "Koerper(p44,p53,p52,p44),\n",
    "Koerper(p45,p51,p54,p45),\n",
    "Koerper(p50,p55,p56,p50),\n",
    "Koerper(p57,p58,p59,p57)\n",
    "]\n",
    "\n",
    "zehnecke= [\n",
    "Koerper(p0, p1, p4, p9, p15,p25,p19,p11,p6, p2, p0),\n",
    "Koerper(p0, p2, p5, p10,p16,p26,p20,p12,p7, p3, p0),\n",
    "Koerper(p1, p3, p7, p13,p21,p31,p22,p14,p8, p4,p1),\n",
    "Koerper(p5, p6, p11,p18,p28,p36,p35,p27,p17,p10,p5),\n",
    "Koerper(p8, p14,p23,p32,p41,p42,p33,p24,p15,p9,p8),\n",
    "Koerper(p12,p20,p29,p38,p47,p48,p39,p30,p21,p13,p12),\n",
    "Koerper(p16,p17,p27,p34,p44,p52,p46,p38,p29,p26,p16),\n",
    "Koerper(p18,p19,p25,p24,p33,p43,p51,p45,p37,p28,p18),\n",
    "Koerper(p22,p31,p30,p39,p49,p55,p50,p40,p32,p23,p22),\n",
    "Koerper(p34,p35,p36,p37,p45,p54,p58,p57,p53,p44,p34),\n",
    "Koerper(p40,p50,p56,p59,p58,p54,p51,p43,p42,p41,p40),\n",
    "Koerper(p46,p52,p53,p57,p59,p56,p55,p49,p48,p47,p46)\n",
    "]\n",
    "\n",
    "seiten_liste = [dreiecke[i] for i in range(len(dreiecke))] + [zehnecke[i] for i in range(len(zehnecke))]   "
   ]
  },
  {
   "cell_type": "code",
   "execution_count": 3,
   "metadata": {
    "collapsed": false
   },
   "outputs": [],
   "source": [
    "K = Körper(*seiten_liste, seiten=True)   "
   ]
  },
  {
   "cell_type": "code",
   "execution_count": 4,
   "metadata": {
    "collapsed": false
   },
   "outputs": [],
   "source": [
    "sicht_box(-1.2, 1.2)\n",
    "zeichne(K)"
   ]
  },
  {
   "cell_type": "code",
   "execution_count": 5,
   "metadata": {
    "collapsed": false
   },
   "outputs": [],
   "source": [
    "KS = K.seiten"
   ]
  },
  {
   "cell_type": "code",
   "execution_count": 6,
   "metadata": {
    "collapsed": false
   },
   "outputs": [],
   "source": [
    "K1  = Körper(*[KS[i] for i in range(len(KS)) if KS[i].anz_ecken == 3], seiten=True)   \n",
    "K2  = Körper(*[KS[i] for i in range(len(KS)) if KS[i].anz_ecken > 3], seiten=True)               "
   ]
  },
  {
   "cell_type": "code",
   "execution_count": 7,
   "metadata": {
    "collapsed": false
   },
   "outputs": [],
   "source": [
    "sicht_box(-2, 2)\n",
    "zeichne([K1, rot, 'fuell=ja'], [K2, gelb, 'fuell=ja'], K, achsen=False, box=False)"
   ]
  },
  {
   "cell_type": "code",
   "execution_count": null,
   "metadata": {
    "collapsed": false
   },
   "outputs": [],
   "source": []
  }
 ],
 "metadata": {
  "anaconda-cloud": {},
  "kernelspec": {
   "display_name": "Python [default]",
   "language": "python",
   "name": "python3"
  },
  "language_info": {
   "codemirror_mode": {
    "name": "ipython",
    "version": 3
   },
   "file_extension": ".py",
   "mimetype": "text/x-python",
   "name": "python",
   "nbconvert_exporter": "python",
   "pygments_lexer": "ipython3",
   "version": "3.5.2"
  }
 },
 "nbformat": 4,
 "nbformat_minor": 0
}
