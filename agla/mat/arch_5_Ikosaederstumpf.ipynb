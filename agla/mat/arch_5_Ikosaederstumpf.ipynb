{
 "cells": [
  {
   "cell_type": "markdown",
   "metadata": {},
   "source": [
    "# Materialien zu <i>agla</i>\n",
    "\n",
    "Autor: Holger Böttcher - hbomat@posteo.de\n",
    "\n",
    "## Archimedische Körper"
   ]
  },
  {
   "cell_type": "markdown",
   "metadata": {},
   "source": [
    "### Ikosaederstumpf    "
   ]
  },
  {
   "cell_type": "markdown",
   "metadata": {},
   "source": [
    "(Fussballkörper)  \n",
    "\n",
    "Flächenfolge in einer Ecke  (5, 6, 6)\n",
    "<br><br>"
   ]
  },
  {
   "cell_type": "code",
   "execution_count": 1,
   "metadata": {
    "collapsed": true
   },
   "outputs": [],
   "source": [
    "%run agla/start"
   ]
  },
  {
   "cell_type": "code",
   "execution_count": 2,
   "metadata": {
    "collapsed": false
   },
   "outputs": [],
   "source": [
    "# Die Koordinaten der Eckpunkte sind näherungsweise definiert\n",
    "\n",
    "# Erzeugung des Körpers über seine Seitenflächen\n",
    "\n",
    "UMG.SIMPL = False\n",
    "\n",
    "p0  = v(0, 0, 0.66365) \n",
    "p1  = v(0.2623062, 0, 0.6096116) \n",
    "p2  =v(-0.1478516, 0.21666645, 0.6096116) \n",
    "p3  =v(-0.09562995,-0.2442531, 0.6096116) \n",
    "p4  = v(0.3767608, 0.21666645, 0.50153545) \n",
    "\n",
    "p5  = v(0.3287908,-0.2442531, 0.5221762) \n",
    "p6  =v(-0.39133315, 0.18908045, 0.501535459) \n",
    "p7  =v(-0.03339739, 0.43333355, 0.501535459) \n",
    "p8  = v(0.10757435,-0.39520975, 0.5221762) \n",
    "p9  =v(-0.3391115,-0.27183975, 0.50153545) \n",
    "p10 = v(0.5577,  0.18908045, 0.3060239) \n",
    "p11 = v(0.2289092, 0.43333355, 0.4474977) \n",
    "p12 = v(0.50973,-0.27183975, 0.32666465) \n",
    "p13 =v(-0.42735875, 0.3886974, 0.32666465) \n",
    "p14 =v(-0.4869631,-0.05517285, 0.44749779) \n",
    "p15 =v(-0.2061423, 0.53965405, 0.326664659) \n",
    "p16 =v( 0.06729645,-0.57375305, 0.326664659) \n",
    "p17 =v(-0.37938875,-0.4503824, 0.3060239) \n",
    "p18 =v( 0.5216744, 0.3886974, 0.1311531) \n",
    "p19 =v( 0.6241846,-0.05517285, 0.2185885) \n",
    "p20 =v( 0.31847075, 0.53965405, 0.2185885) \n",
    "p21 =v( 0.4694521,-0.4503824, 0.1311531) \n",
    "p22 =v(-0.55901365, 0.3440619, 0.0977561) \n",
    "p23 =v(-0.618618,-0.0998088, 0.2185885) \n",
    "p24 =v(-0.11658075, 0.6459752, 0.0977561) \n",
    "p25 =v( 0.24823565,-0.6013397, 0.1311531) \n",
    "p26 =v(-0.1761851,-0.6013397, 0.2185885) \n",
    "p27 =v(-0.5521334,-0.3440619, 0.1311531) \n",
    "p28 =v( 0.5521334, 0.3440619,-0.1311531) \n",
    "p29 =v( 0.654641,-0.0998088,-0.0437177) \n",
    "p30 =v( 0.14572545, 0.6459752, 0.0437177) \n",
    "p31 =v( 0.55901365,-0.3440619,-0.0977561) \n",
    "p32 =v(-0.4694521, 0.4503824,-0.1311531) \n",
    "p33 =v(-0.654641, 0.0998088, 0.0437177) \n",
    "p34 =v(-0.24823565,0.6013397,-0.1311531) \n",
    "p35 =v( 0.11658075,-0.6459752,-0.0977561) \n",
    "p36 =v(-0.14572545,-0.6459752,-0.0437177) \n",
    "p37 =v(-0.5216744,-0.3886974,-0.1311531) \n",
    "p38 =v( 0.37938875, 0.4503824,-0.3060239) \n",
    "p39 =v( 0.618618, 0.0998088,-0.2185885) \n",
    "p40 =v( 0.1761851, 0.6013397,-0.2185885) \n",
    "p41 =v( 0.42735875,-0.3886974,-0.32666465) \n",
    "p42 =v(-0.50973, 0.27183975,-0.32666465) \n",
    "p43 =v(-0.6241846, 0.05517285,-0.2185885) \n",
    "p44 =v(-0.06729645, 0.57375305,-0.32666465) \n",
    "p45 =v( 0.2061423,-0.53965405,-0.32666465) \n",
    "p46 =v(-0.31847075,-0.53965405,-0.2185885) \n",
    "p47 =v(-0.5577,-0.18908045,-0.3060239) \n",
    "p48 =v( 0.3391115, 0.27183975,-0.50153545) \n",
    "p49 =v( 0.4869631, 0.05517285,-0.4474977) \n",
    "p50 =v( 0.39133315,-0.18908045,-0.50153545) \n",
    "p51 =v(-0.3287908, 0.2442531,-0.5221762) \n",
    "p52 =v(-0.10757435, 0.39520975,-0.5221762) \n",
    "p53 =v( 0.03339739,-0.43333355,-0.50153545) \n",
    "p54 =v(-0.2289092,-0.43333355,-0.4474977) \n",
    "p55 =v(-0.3767608,-0.21666645,-0.50153545) \n",
    "p56 =v( 0.09562995, 0.2442531,-0.6096116) \n",
    "p57 =v( 0.1478516,-0.21666645,-0.6096116) \n",
    "p58 =v(-0.2623062, 0,-0.6096116) \n",
    "p59 =v( 0, 0,-0.66365) \n",
    "\n",
    "fuenfecke = [\n",
    "Koerper(p0, p3, p8, p5, p1, p0),\n",
    "Koerper(p2, p7, p15,p13,p6, p2),\n",
    "Koerper(p4, p10,p18,p20,p11,p4),\n",
    "Koerper(p9, p14,p23,p27,p17,p9),\n",
    "Koerper(p12,p21,p31,p29,p19,p12),\n",
    "Koerper(p16,p26,p36,p35,p25,p16),\n",
    "Koerper(p22,p32,p42,p43,p33,p22),\n",
    "Koerper(p24,p30,p40,p44,p34,p24),\n",
    "Koerper(p28,p39,p49,p48,p38,p28),\n",
    "Koerper(p37,p47,p55,p54,p46,p37),\n",
    "Koerper(p41,p45,p53,p57,p50,p41), \n",
    "Koerper(p51,p52,p56,p59,p58,p51) ]\n",
    " \n",
    "\n",
    "sechsecke = [\n",
    "Koerper(p0, p1, p4, p11,p7, p2, p0),\n",
    "Koerper(p0, p2, p6, p14,p9, p3, p0),\n",
    "Koerper(p1, p5, p12,p19,p10,p4,p1),\n",
    "Koerper(p3, p9, p17,p26,p16,p8,p3),\n",
    "Koerper(p5, p8, p16,p25,p21,p12,p5),\n",
    "Koerper(p6, p13,p22,p33,p23,p14,p6),\n",
    "Koerper(p7, p11,p20,p30,p24,p15,p7),\n",
    "Koerper(p10,p19,p29,p39,p28,p18,p10),\n",
    "Koerper(p13,p15,p24,p34,p32,p22,p13),\n",
    "Koerper(p17,p27,p37,p46,p36,p26,p17),\n",
    "Koerper(p18,p28,p38,p40,p30,p20,p18),\n",
    "Koerper(p21,p25,p35,p45,p41,p31,p21),\n",
    "Koerper(p23,p33,p43,p47,p37,p27,p23),\n",
    "Koerper(p29,p31,p41,p50,p49,p39,p29),\n",
    "Koerper(p32,p34,p44,p52,p51,p42,p32),\n",
    "Koerper(p35,p36,p46,p54,p53,p45,p35),\n",
    "Koerper(p38,p48,p56,p52,p44,p40,p38),\n",
    "Koerper(p42,p51,p58,p55,p47,p43,p42),\n",
    "Koerper(p48,p49,p50,p57,p59,p56,p48),\n",
    "Koerper(p53,p54,p55,p58,p59,p57,p53) ]\n",
    " \n",
    "seiten_liste = [fuenfecke[i] for i in range(len(fuenfecke))] + [sechsecke[i] for i in range(len(sechsecke))]   "
   ]
  },
  {
   "cell_type": "code",
   "execution_count": 3,
   "metadata": {
    "collapsed": false
   },
   "outputs": [],
   "source": [
    "K = Körper(*seiten_liste, seiten=True)   "
   ]
  },
  {
   "cell_type": "code",
   "execution_count": 4,
   "metadata": {
    "collapsed": false
   },
   "outputs": [],
   "source": [
    "sicht_box(-1.2, 1.2)\n",
    "zeichne(K)"
   ]
  },
  {
   "cell_type": "code",
   "execution_count": 5,
   "metadata": {
    "collapsed": false
   },
   "outputs": [],
   "source": [
    "KS = K.seiten"
   ]
  },
  {
   "cell_type": "code",
   "execution_count": 6,
   "metadata": {
    "collapsed": false
   },
   "outputs": [],
   "source": [
    "K1  = Koerper(*[KS[i] for i in range(len(KS)) if KS[i].anz_ecken == 5], seiten=True)   \n",
    "K2  = Koerper(*[KS[i] for i in range(len(KS)) if KS[i].anz_ecken > 5], seiten=True)               "
   ]
  },
  {
   "cell_type": "code",
   "execution_count": 7,
   "metadata": {
    "collapsed": false
   },
   "outputs": [],
   "source": [
    "sicht_box(-2, 2)\n",
    "zeichne([K1, 'brown', 'fuell=ja'], [K2, weiss, 'fuell=ja'], K, achsen=False, box=False)"
   ]
  },
  {
   "cell_type": "code",
   "execution_count": null,
   "metadata": {
    "collapsed": true
   },
   "outputs": [],
   "source": []
  }
 ],
 "metadata": {
  "anaconda-cloud": {},
  "kernelspec": {
   "display_name": "Python [default]",
   "language": "python",
   "name": "python3"
  },
  "language_info": {
   "codemirror_mode": {
    "name": "ipython",
    "version": 3
   },
   "file_extension": ".py",
   "mimetype": "text/x-python",
   "name": "python",
   "nbconvert_exporter": "python",
   "pygments_lexer": "ipython3",
   "version": "3.5.2"
  }
 },
 "nbformat": 4,
 "nbformat_minor": 0
}
