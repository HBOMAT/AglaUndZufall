{
 "cells": [
  {
   "cell_type": "markdown",
   "metadata": {},
   "source": [
    "# Materialien zu <i>agla</i>\n",
    "\n",
    "Autor: Holger Böttcher - hbomat@posteo.de\n",
    "\n",
    "## Sphärische Geometrie "
   ]
  },
  {
   "cell_type": "markdown",
   "metadata": {},
   "source": [
    "## Isometrien <br>"
   ]
  },
  {
   "cell_type": "code",
   "execution_count": 1,
   "metadata": {
    "collapsed": false
   },
   "outputs": [],
   "source": [
    "%run agla/start"
   ]
  },
  {
   "cell_type": "markdown",
   "metadata": {},
   "source": [
    "Isometrische Abbildungen sind Drehungen des $R^3$ um den Ursprung sowie \n",
    "<br>Spiegelungen an Ebenen durch den Ursprung, z.B:"
   ]
  },
  {
   "cell_type": "code",
   "execution_count": 2,
   "metadata": {
    "collapsed": true
   },
   "outputs": [],
   "source": [
    "abb = drehung(z_achse, w*180/pi);   abb1 = spiegelung(xy_ebene)"
   ]
  },
  {
   "cell_type": "code",
   "execution_count": 3,
   "metadata": {
    "collapsed": false
   },
   "outputs": [
    {
     "data": {
      "text/latex": [
       "$$\\left ( \\left(\\begin{matrix}\\cos{\\left (w \\right )} & - \\sin{\\left (w \\right )} & 0\\\\\\sin{\\left (w \\right )} & \\cos{\\left (w \\right )} & 0\\\\0 & 0 & 1\\end{matrix}\\right), \\quad \\left(\\begin{matrix}1 & 0 & 0\\\\0 & 1 & 0\\\\0 & 0 & -1\\end{matrix}\\right)\\right )$$"
      ],
      "text/plain": [
       "⎛⎡cos(w)  -sin(w)  0⎤, ⎡1  0  0 ⎤⎞\n",
       "⎜⎢                  ⎥  ⎢        ⎥⎟\n",
       "⎜⎢sin(w)  cos(w)   0⎥  ⎢0  1  0 ⎥⎟\n",
       "⎜⎢                  ⎥  ⎢        ⎥⎟\n",
       "⎝⎣  0        0     1⎦  ⎣0  0  -1⎦⎠"
      ]
     },
     "execution_count": 3,
     "metadata": {},
     "output_type": "execute_result"
    }
   ],
   "source": [
    "abb.matrix, abb1.matrix"
   ]
  },
  {
   "cell_type": "markdown",
   "metadata": {},
   "source": [
    "Für zwei Vektoren und ihre Bilder"
   ]
  },
  {
   "cell_type": "code",
   "execution_count": 4,
   "metadata": {
    "collapsed": false
   },
   "outputs": [
    {
     "data": {
      "text/latex": [
       "$$\\left ( \\left(\\begin{matrix}x_{1}\\\\y_{1}\\\\z_{1}\\end{matrix}\\right), \\quad \\left(\\begin{matrix}x_{2}\\\\y_{2}\\\\z_{2}\\end{matrix}\\right)\\right )$$"
      ],
      "text/plain": [
       "(Vektorschar([z_1, y_1, x_1]), Vektorschar([x_2, z_2, y_2]))"
      ]
     },
     "execution_count": 4,
     "metadata": {},
     "output_type": "execute_result"
    }
   ],
   "source": [
    "x_1, y_1, z_1, x_2, y_2, z_2 = symbols('x_1, y_1, z_1 x_2, y_2, z_2')\n",
    "\n",
    "A1 = v(x_1, y_1, z_1); A2 = v(x_2, y_2, z_2); A1, A2"
   ]
  },
  {
   "cell_type": "code",
   "execution_count": 6,
   "metadata": {
    "collapsed": false
   },
   "outputs": [],
   "source": [
    "B1 = A1.bild(abb);   B2 = A2.bild(abb)\n",
    "C1 = A1.bild(abb1);  C2 = A2.bild(abb1)"
   ]
  },
  {
   "cell_type": "markdown",
   "metadata": {},
   "source": [
    "sind die jeweiligen Skalarprodukte gleich"
   ]
  },
  {
   "cell_type": "code",
   "execution_count": 7,
   "metadata": {
    "collapsed": false
   },
   "outputs": [
    {
     "data": {
      "text/latex": [
       "$$\\left ( x_{1} x_{2} + y_{1} y_{2} + z_{1} z_{2}, \\quad x_{1} x_{2} + y_{1} y_{2} + z_{1} z_{2}, \\quad x_{1} x_{2} + y_{1} y_{2} + z_{1} z_{2}\\right )$$"
      ],
      "text/plain": [
       "(x₁⋅x₂ + y₁⋅y₂ + z₁⋅z₂, x₁⋅x₂ + y₁⋅y₂ + z₁⋅z₂, x₁⋅x₂ + y₁⋅y₂ + z₁⋅z₂)"
      ]
     },
     "execution_count": 7,
     "metadata": {},
     "output_type": "execute_result"
    }
   ],
   "source": [
    "A1 ° A2, einfach(B1 ° B2), C1 ° C2"
   ]
  },
  {
   "cell_type": "markdown",
   "metadata": {},
   "source": [
    "Damit sind der Betrag eines Vektors und der Winkel zwischen zwei Vektoren, deren \n",
    "<br>Berechnungen auf dem Skalarprodukt beruhen, invariant gegenüber solchen \n",
    "<br>Abbildungen. Die Einheitssphäre wird somit auf sich selbst abgebildet und die \n",
    "<br>sphärischen Abstände und Winkel sind ebenfalls invariant"
   ]
  },
  {
   "cell_type": "markdown",
   "metadata": {},
   "source": [
    "### Beispiele für Isometrien\n",
    "Die Rechenzeiten sind mitunter recht lang\n",
    "<br>\n",
    "#### Beispiel 1\n",
    "Spiegelung an einer Ebene durch den Ursprung\n"
   ]
  },
  {
   "cell_type": "code",
   "execution_count": 8,
   "metadata": {
    "collapsed": false
   },
   "outputs": [],
   "source": [
    "A = sPunkt(0.2,0.6); B = sPunkt(0.5,-0.3)"
   ]
  },
  {
   "cell_type": "code",
   "execution_count": 9,
   "metadata": {
    "collapsed": true
   },
   "outputs": [],
   "source": [
    "s = sStrecke(A, B)\n",
    "e = Ebene(1, -2, 3, 0)    "
   ]
  },
  {
   "cell_type": "code",
   "execution_count": 10,
   "metadata": {
    "collapsed": false
   },
   "outputs": [],
   "source": [
    "s1 = s.bild(spiegelung(e)); A1, B1 = s1.punkte"
   ]
  },
  {
   "cell_type": "code",
   "execution_count": 11,
   "metadata": {
    "collapsed": false
   },
   "outputs": [
    {
     "data": {
      "text/latex": [
       "$$\\left ( 0.944196424085, \\quad 0.944196424085\\right )$$"
      ],
      "text/plain": [
       "(0.944196424085, 0.944196424085)"
      ]
     },
     "execution_count": 11,
     "metadata": {},
     "output_type": "execute_result"
    }
   ],
   "source": [
    "s.länge, s1.länge"
   ]
  },
  {
   "cell_type": "code",
   "execution_count": 17,
   "metadata": {
    "collapsed": false
   },
   "outputs": [],
   "source": [
    "sicht_box(-1.2, 1.2)\n",
    "zeichne([EinhSphäre, gelb], [s, blau, 2], [s1, rot, 2], [e, 'lemonchiffon'], \n",
    "        A, B, [A1, rot], [B1, rot],\n",
    "        [sStrecke(A, A1), 2], \n",
    "        [sStrecke(B, B1), 2],\n",
    "         box=nein, achsen=nein)"
   ]
  },
  {
   "cell_type": "markdown",
   "metadata": {},
   "source": [
    "#### Beispiel 2    \n",
    "Drehung um die $z$-Achse"
   ]
  },
  {
   "cell_type": "code",
   "execution_count": 18,
   "metadata": {
    "collapsed": true
   },
   "outputs": [],
   "source": [
    "C = sPunkt(0.7, 0.4)\n",
    "\n",
    "d = sDreieck(A, B, C)\n",
    "\n",
    "d1 = d.bild(drehung(z_achse, 45))\n"
   ]
  },
  {
   "cell_type": "code",
   "execution_count": 19,
   "metadata": {
    "collapsed": false
   },
   "outputs": [
    {
     "data": {
      "text/latex": [
       "$$\\left ( 0.726803399788, \\quad 0.479974395792, \\quad 0.944196424085\\right )$$"
      ],
      "text/plain": [
       "(0.726803399788, 0.479974395792, 0.944196424085)"
      ]
     },
     "execution_count": 19,
     "metadata": {},
     "output_type": "execute_result"
    }
   ],
   "source": [
    "d.längen "
   ]
  },
  {
   "cell_type": "code",
   "execution_count": 20,
   "metadata": {
    "collapsed": false
   },
   "outputs": [
    {
     "data": {
      "text/latex": [
       "$$\\left ( 0.726803399788, \\quad 0.479974395792, \\quad 0.944196424085\\right )$$"
      ],
      "text/plain": [
       "(0.726803399788, 0.479974395792, 0.944196424085)"
      ]
     },
     "execution_count": 20,
     "metadata": {},
     "output_type": "execute_result"
    }
   ],
   "source": [
    "d1.längen"
   ]
  },
  {
   "cell_type": "code",
   "execution_count": 21,
   "metadata": {
    "collapsed": false
   },
   "outputs": [
    {
     "data": {
      "text/latex": [
       "$$\\left ( 52.6024632487079, \\quad 33.5087621128623, \\quad 104.431372145607\\right )$$"
      ],
      "text/plain": [
       "(52.6024632487079, 33.5087621128623, 104.431372145607)"
      ]
     },
     "execution_count": 21,
     "metadata": {},
     "output_type": "execute_result"
    }
   ],
   "source": [
    "d.winkel"
   ]
  },
  {
   "cell_type": "code",
   "execution_count": 22,
   "metadata": {
    "collapsed": false
   },
   "outputs": [
    {
     "data": {
      "text/latex": [
       "$$\\left ( 52.6024632487079, \\quad 33.5087621128623, \\quad 104.431372145607\\right )$$"
      ],
      "text/plain": [
       "(52.6024632487079, 33.5087621128623, 104.431372145607)"
      ]
     },
     "execution_count": 22,
     "metadata": {},
     "output_type": "execute_result"
    }
   ],
   "source": [
    "d1.winkel  "
   ]
  },
  {
   "cell_type": "code",
   "execution_count": 23,
   "metadata": {
    "collapsed": true
   },
   "outputs": [],
   "source": [
    "zeichne([EinhSphäre, gelb], [d, 2], [d1, 2, rot])"
   ]
  },
  {
   "cell_type": "markdown",
   "metadata": {},
   "source": [
    "<br>\n",
    "### Eine Isometrie zur Verschiebung des Ursprungs"
   ]
  },
  {
   "cell_type": "markdown",
   "metadata": {},
   "source": [
    "$Q = sPunkt(r, s)$  sei ein beliebiger Punkt auf der Sphäre, dann kann die Überführung \n",
    "<br>des \"Ursprungs\"  $sPunkt(0, 0)$  in diesen Punkt folgendermaßen erfolgen:<br><br>\n",
    "Zunächst wird um den Winkel $-s$ um die $y$-Achse gedreht, anschließend um den \n",
    "<br>Winkel $r$ um die $z$-Achse"
   ]
  },
  {
   "cell_type": "code",
   "execution_count": 27,
   "metadata": {
    "collapsed": false
   },
   "outputs": [],
   "source": [
    "# Nachweis für den allgemeinen Fall\n",
    "\n",
    "r, s = symbols('r s')\n",
    "U = sPunkt(0, 0)\n",
    "Q = sPunkt(r, s)"
   ]
  },
  {
   "cell_type": "code",
   "execution_count": 28,
   "metadata": {
    "collapsed": false
   },
   "outputs": [],
   "source": [
    "dr1 = drehung(y_achse, -grad(Q.breite)); dr2 = drehung(zAchse, grad(Q.länge))   "
   ]
  },
  {
   "cell_type": "code",
   "execution_count": 29,
   "metadata": {
    "collapsed": true
   },
   "outputs": [],
   "source": [
    "UU = U.e.bild(dr2 ° dr1)"
   ]
  },
  {
   "cell_type": "code",
   "execution_count": 30,
   "metadata": {
    "collapsed": false
   },
   "outputs": [
    {
     "data": {
      "text/latex": [
       "$$\\left ( \\left(\\begin{matrix}\\cos{\\left (r \\right )} \\cos{\\left (s \\right )}\\\\\\begin{cases} - \\sqrt{\\sin^{2}{\\left (r \\right )}} \\sqrt{\\cos^{2}{\\left (s \\right )}} & \\text{for}\\: \\sin{\\left (r \\right )} \\cos{\\left (s \\right )} < 0 \\\\\\sqrt{\\sin^{2}{\\left (r \\right )}} \\sqrt{\\cos^{2}{\\left (s \\right )}} & \\text{for}\\: \\sin{\\left (r \\right )} \\cos{\\left (s \\right )} \\geq 0 \\end{cases}\\\\\\sin{\\left (s \\right )}\\end{matrix}\\right), \\quad \\left(\\begin{matrix}\\cos{\\left (r \\right )} \\cos{\\left (s \\right )}\\\\\\sin{\\left (r \\right )} \\cos{\\left (s \\right )}\\\\\\sin{\\left (s \\right )}\\end{matrix}\\right)\\right )$$"
      ],
      "text/plain": [
       "(Vektorschar([r, s]), Vektorschar([r, s]))"
      ]
     },
     "execution_count": 30,
     "metadata": {},
     "output_type": "execute_result"
    }
   ],
   "source": [
    "UU.einfach, Q.e"
   ]
  },
  {
   "cell_type": "code",
   "execution_count": 31,
   "metadata": {
    "collapsed": false
   },
   "outputs": [],
   "source": [
    "# Illustration für einen konkreten Punkt\n",
    "\n",
    "U = sPunkt(0, 0)\n",
    "Q = sPunkt(0.4, 0.6)"
   ]
  },
  {
   "cell_type": "code",
   "execution_count": 32,
   "metadata": {
    "collapsed": false
   },
   "outputs": [
    {
     "data": {
      "text/latex": [
       "$$\\left ( 0.4, \\quad 0.599999999999999\\right )$$"
      ],
      "text/plain": [
       "(0.4, 0.599999999999999)"
      ]
     },
     "execution_count": 32,
     "metadata": {},
     "output_type": "execute_result"
    }
   ],
   "source": [
    "N(Q.länge), N(Q.breite)   # r- und s-Wert"
   ]
  },
  {
   "cell_type": "code",
   "execution_count": 33,
   "metadata": {
    "collapsed": false
   },
   "outputs": [],
   "source": [
    "dr1 = drehung(y_achse, -grad(Q.b)); dr2 = drehung(zAchse, grad(Q.l))   "
   ]
  },
  {
   "cell_type": "code",
   "execution_count": 34,
   "metadata": {
    "collapsed": false
   },
   "outputs": [
    {
     "data": {
      "text/latex": [
       "$$\\left ( \\left(\\begin{matrix}0.760184441854691\\\\0.321400827006418\\\\0.564642473395035\\end{matrix}\\right), \\quad \\left(\\begin{matrix}0.760184441854691\\\\0.321400827006418\\\\0.564642473395035\\end{matrix}\\right)\\right )$$"
      ],
      "text/plain": [
       "(Vektor, Vektor)"
      ]
     },
     "execution_count": 34,
     "metadata": {},
     "output_type": "execute_result"
    }
   ],
   "source": [
    "U1 = U.bild(dr1)\n",
    "U2 = U.bild(dr2 ° dr1)\n",
    "U2 = U.bild(dr2 ° dr1)\n",
    "            \n",
    "U2.e.dez, Q.e.dez"
   ]
  },
  {
   "cell_type": "code",
   "execution_count": 35,
   "metadata": {
    "collapsed": false
   },
   "outputs": [],
   "source": [
    "zeichne([EinhSphäre, gelb], \n",
    "        U, [U1, blau], [Q, rot], \n",
    "        [sStrecke(U, U1), blau, 2], \n",
    "        [sStrecke(U1, Q), rot, 2],\n",
    "        box=nein)"
   ]
  },
  {
   "cell_type": "code",
   "execution_count": null,
   "metadata": {
    "collapsed": true
   },
   "outputs": [],
   "source": []
  }
 ],
 "metadata": {
  "anaconda-cloud": {},
  "kernelspec": {
   "display_name": "Python [default]",
   "language": "python",
   "name": "python3"
  },
  "language_info": {
   "codemirror_mode": {
    "name": "ipython",
    "version": 3
   },
   "file_extension": ".py",
   "mimetype": "text/x-python",
   "name": "python",
   "nbconvert_exporter": "python",
   "pygments_lexer": "ipython3",
   "version": "3.5.2"
  }
 },
 "nbformat": 4,
 "nbformat_minor": 0
}
