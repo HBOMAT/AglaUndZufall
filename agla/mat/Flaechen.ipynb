{
 "cells": [
  {
   "cell_type": "markdown",
   "metadata": {
    "collapsed": false
   },
   "source": [
    "# Materialien zu <i>agla</i>\n",
    "\n",
    "Autor: Holger Böttcher - hbomat@posteo.de\n",
    "\n",
    "## Flächen - Beispiele\n",
    "\n",
    "<br>"
   ]
  },
  {
   "cell_type": "code",
   "execution_count": 1,
   "metadata": {
    "collapsed": false
   },
   "outputs": [],
   "source": [
    "%run agla/start"
   ]
  },
  {
   "cell_type": "markdown",
   "metadata": {},
   "source": [
    "<br>\n",
    "*Sehr schöne Beispiele sowie theoretische Betrachtungen, u.a. zu Schnecken, \n",
    "<br>sind bei [Bernd Frassek](https://frassek.org) zu finden*"
   ]
  },
  {
   "cell_type": "markdown",
   "metadata": {},
   "source": [
    "<br>\n",
    "### Torus"
   ]
  },
  {
   "cell_type": "code",
   "execution_count": 2,
   "metadata": {
    "collapsed": true
   },
   "outputs": [],
   "source": [
    "def torus(a, b):\n",
    "    return Fläche(v( (b+a*cos(w))*cos(u), \n",
    "                     (b+a*cos(w))*sin(u), \n",
    "                      a*sin(w)), \n",
    "                     (u, 0, 4*pi), (w, 0, 4*pi) )"
   ]
  },
  {
   "cell_type": "code",
   "execution_count": 3,
   "metadata": {
    "collapsed": false
   },
   "outputs": [],
   "source": [
    "t1 = torus(2, 7)"
   ]
  },
  {
   "cell_type": "code",
   "execution_count": 4,
   "metadata": {
    "collapsed": false
   },
   "outputs": [
    {
     "data": {
      "text/latex": [
       "$$\\left(\\begin{matrix}x\\\\y\\\\z\\end{matrix}\\right)=\\left(\\begin{matrix}\\left(2 \\cos{\\left (w \\right )} + 7\\right) \\cos{\\left (u \\right )}\\\\\\left(2 \\cos{\\left (w \\right )} + 7\\right) \\sin{\\left (u \\right )}\\\\2 \\sin{\\left (w \\right )}\\end{matrix}\\right)$$"
      ],
      "text/plain": [
       "Vektorschar([z, y, x]) = Vektorschar([w, u])"
      ]
     },
     "execution_count": 4,
     "metadata": {},
     "output_type": "execute_result"
    }
   ],
   "source": [
    "t1.prg"
   ]
  },
  {
   "cell_type": "code",
   "execution_count": 5,
   "metadata": {
    "collapsed": false
   },
   "outputs": [],
   "source": [
    "zeichne([t1, gelb, 'gitter=(36, 36)'], box=nein, achsen=nein)"
   ]
  },
  {
   "cell_type": "code",
   "execution_count": 6,
   "metadata": {
    "collapsed": false
   },
   "outputs": [],
   "source": [
    "zeichne([t1, blau, 'draht =(36, 36)'], box=nein, achsen=nein)   "
   ]
  },
  {
   "cell_type": "markdown",
   "metadata": {},
   "source": [
    "<br>\n",
    "### Pseudosphäre"
   ]
  },
  {
   "cell_type": "code",
   "execution_count": 7,
   "metadata": {
    "collapsed": false
   },
   "outputs": [],
   "source": [
    "# Parametrisierung nach Wolfram\n",
    "\n",
    "pseudo_sphaere = ps = Fläche(v(cos(w)/cosh(u), sin(w)/cosh(u), u-tanh(u)), \n",
    "                      (u, -10, 10), (w, 0, 2*pi))"
   ]
  },
  {
   "cell_type": "code",
   "execution_count": 8,
   "metadata": {
    "collapsed": false
   },
   "outputs": [],
   "source": [
    "sicht_box(5)\n",
    "\n",
    "zeichne([ps, 'gitter=(48, 24)'], box=nein, achsen=nein)"
   ]
  },
  {
   "cell_type": "code",
   "execution_count": 9,
   "metadata": {
    "collapsed": false
   },
   "outputs": [
    {
     "data": {
      "image/png": "[encoded data removed]",
      "text/latex": [
       "$$- \\frac{\\sinh^{2}{\\left (u \\right )}}{\\left(\\frac{\\sinh^{2}{\\left (u \\right )}}{\\cosh^{4}{\\left (u \\right )}} + \\tanh^{4}{\\left (u \\right )}\\right) \\cosh^{2}{\\left (u \\right )}}$$"
      ],
      "text/plain": [
       "               2              \n",
       "          -sinh (u)           \n",
       "──────────────────────────────\n",
       "⎛    2              ⎞         \n",
       "⎜sinh (u)       4   ⎟     2   \n",
       "⎜──────── + tanh (u)⎟⋅cosh (u)\n",
       "⎜    4              ⎟         \n",
       "⎝cosh (u)           ⎠         "
      ]
     },
     "execution_count": 9,
     "metadata": {},
     "output_type": "execute_result"
    }
   ],
   "source": [
    "kr = ps.K(); kr"
   ]
  },
  {
   "cell_type": "markdown",
   "metadata": {},
   "source": [
    "<br>\n",
    "### Möbiusband"
   ]
  },
  {
   "cell_type": "code",
   "execution_count": 10,
   "metadata": {
    "collapsed": false
   },
   "outputs": [],
   "source": [
    "möbius_band = mb = Fläche(v( cos(u)*(1+w/2*cos(u/2)), \n",
    "                             sin(u)*(1+w/2*cos(u/2)), \n",
    "                             w/2*sin(u/2) ), \n",
    "                             (u, 0, 2*pi), (w, -0.5, 0.5))"
   ]
  },
  {
   "cell_type": "code",
   "execution_count": 11,
   "metadata": {
    "collapsed": true
   },
   "outputs": [],
   "source": [
    "zeichne([mb, gelb, 'gitter=(48, 12)'], box=nein, achsen=nein)"
   ]
  },
  {
   "cell_type": "code",
   "execution_count": 12,
   "metadata": {
    "collapsed": false
   },
   "outputs": [],
   "source": [
    "zeichne([mb, blau, 'draht=ja'], box=nein, achsen=nein) "
   ]
  },
  {
   "cell_type": "markdown",
   "metadata": {},
   "source": [
    "<br>\n",
    "### Helikoid"
   ]
  },
  {
   "cell_type": "code",
   "execution_count": 13,
   "metadata": {
    "collapsed": false
   },
   "outputs": [],
   "source": [
    "def helikoid(a, u_bereich, w_bereich):\n",
    "    return Fläche( v(w*cos(u), w*sin(u), a*u), u_bereich, w_bereich)"
   ]
  },
  {
   "cell_type": "code",
   "execution_count": 14,
   "metadata": {
    "collapsed": false
   },
   "outputs": [],
   "source": [
    "hel = helikoid(2, (u, -2*pi, 2*pi), (w,  -6, 6))"
   ]
  },
  {
   "cell_type": "code",
   "execution_count": 15,
   "metadata": {
    "collapsed": false
   },
   "outputs": [],
   "source": [
    "zeichne([hel, gelb, 'gitter=(36, 12)'], box=nein, achsen=nein)"
   ]
  },
  {
   "cell_type": "code",
   "execution_count": 16,
   "metadata": {
    "collapsed": false
   },
   "outputs": [
    {
     "data": {
      "image/png": "[encoded data removed]",
      "text/latex": [
       "$$- \\frac{4}{\\left(w^{2} + 4\\right)^{2}}$$"
      ],
      "text/plain": [
       "   -4    \n",
       "─────────\n",
       "        2\n",
       "⎛ 2    ⎞ \n",
       "⎝w  + 4⎠ "
      ]
     },
     "execution_count": 16,
     "metadata": {},
     "output_type": "execute_result"
    }
   ],
   "source": [
    "hel.K()"
   ]
  },
  {
   "cell_type": "code",
   "execution_count": 17,
   "metadata": {
    "collapsed": false
   },
   "outputs": [
    {
     "data": {
      "image/png": "[encoded data removed]",
      "text/latex": [
       "$$0$$"
      ],
      "text/plain": [
       "0"
      ]
     },
     "execution_count": 17,
     "metadata": {},
     "output_type": "execute_result"
    }
   ],
   "source": [
    "hel.H()   # Minimalfläche"
   ]
  },
  {
   "cell_type": "markdown",
   "metadata": {},
   "source": [
    "<br>\n",
    "### Katenoid"
   ]
  },
  {
   "cell_type": "code",
   "execution_count": 18,
   "metadata": {
    "collapsed": false
   },
   "outputs": [],
   "source": [
    "def katenoid(a, u_bereich, w_bereich):\n",
    "    return Fläche( v(a*cosh(w/a)*cos(u), a*cosh(w/a)*sin(u), w), u_bereich, w_bereich)"
   ]
  },
  {
   "cell_type": "code",
   "execution_count": 19,
   "metadata": {
    "collapsed": true
   },
   "outputs": [],
   "source": [
    "kat = katenoid(3, (u, 0, 2*pi), (w, -5, 5))"
   ]
  },
  {
   "cell_type": "code",
   "execution_count": 20,
   "metadata": {
    "collapsed": false
   },
   "outputs": [],
   "source": [
    "zeichne([kat, gelb, 'gitter=ja'], box=nein, achsen=nein)"
   ]
  },
  {
   "cell_type": "code",
   "execution_count": 21,
   "metadata": {
    "collapsed": false
   },
   "outputs": [
    {
     "data": {
      "image/png": "[encoded data removed]",
      "text/latex": [
       "$$- \\frac{1}{9 \\cosh^{4}{\\left (\\frac{w}{3} \\right )}}$$"
      ],
      "text/plain": [
       "   -1     \n",
       "──────────\n",
       "      4⎛w⎞\n",
       "9⋅cosh ⎜─⎟\n",
       "       ⎝3⎠"
      ]
     },
     "execution_count": 21,
     "metadata": {},
     "output_type": "execute_result"
    }
   ],
   "source": [
    "w = Symbol('w', real=True)\n",
    "\n",
    "GK = kat.K(u, w); GK"
   ]
  },
  {
   "cell_type": "code",
   "execution_count": 22,
   "metadata": {
    "collapsed": false
   },
   "outputs": [
    {
     "data": {
      "image/png": "[encoded data removed]",
      "text/latex": [
       "$$0$$"
      ],
      "text/plain": [
       "0"
      ]
     },
     "execution_count": 22,
     "metadata": {},
     "output_type": "execute_result"
    }
   ],
   "source": [
    "kat.H()   # Minimalfläche"
   ]
  },
  {
   "cell_type": "markdown",
   "metadata": {},
   "source": [
    "<br>\n",
    "### Scherk'sche Fläche"
   ]
  },
  {
   "cell_type": "code",
   "execution_count": 23,
   "metadata": {
    "collapsed": false
   },
   "outputs": [
    {
     "data": {
      "text/latex": [
       "$$\\left(\\begin{matrix}x\\\\y\\\\z\\end{matrix}\\right)=\\left(\\begin{matrix}u\\\\w\\\\- \\log{\\left (\\cos{\\left (u \\right )} \\right )} + \\log{\\left (\\cos{\\left (w \\right )} \\right )}\\end{matrix}\\right)$$"
      ],
      "text/plain": [
       "Vektorschar([z, y, x]) = Vektorschar([w, u])"
      ]
     },
     "execution_count": 23,
     "metadata": {},
     "output_type": "execute_result"
    }
   ],
   "source": [
    "scherk_flaeche = sf = Fläche(v(u, w, ln(cos(w))-ln(cos(u))), \n",
    "                            (u, -1.5, 1.5), (w, -1.5, 1.5))\n",
    "sf.prg"
   ]
  },
  {
   "cell_type": "code",
   "execution_count": 24,
   "metadata": {
    "collapsed": false
   },
   "outputs": [],
   "source": [
    "sicht_box(4)\n",
    "\n",
    "zeichne([sf, 'gitter=ja'], box=nein, achsen=nein)"
   ]
  },
  {
   "cell_type": "markdown",
   "metadata": {},
   "source": [
    "<br>\n",
    "### Enneper-Fläche\n",
    "\n",
    "( Minimalfläche mit Selbstdurchdringung;  Algebraische Fläche 9. Ordnung )"
   ]
  },
  {
   "cell_type": "code",
   "execution_count": 25,
   "metadata": {
    "collapsed": false
   },
   "outputs": [
    {
     "data": {
      "image/png": "[encoded data removed]",
      "text/latex": [
       "$$\\left ( u \\left(- \\frac{u^{2}}{3} + w^{2} + 1\\right), \\quad - w \\left(u^{2} - \\frac{w^{2}}{3} + 1\\right), \\quad u^{2} - w^{2}\\right )$$"
      ],
      "text/plain": [
       "⎛  ⎛   2         ⎞     ⎛      2    ⎞         ⎞\n",
       "⎜  ⎜  u     2    ⎟     ⎜ 2   w     ⎟   2    2⎟\n",
       "⎜u⋅⎜- ── + w  + 1⎟, -w⋅⎜u  - ── + 1⎟, u  - w ⎟\n",
       "⎝  ⎝  3          ⎠     ⎝     3     ⎠         ⎠"
      ]
     },
     "execution_count": 25,
     "metadata": {},
     "output_type": "execute_result"
    }
   ],
   "source": [
    "xk = u*(1-u^2/3+w^2); yk = -w*(1-w^2/3+u^2); zk = u^2-w^2; xk, yk, zk"
   ]
  },
  {
   "cell_type": "code",
   "execution_count": 26,
   "metadata": {
    "collapsed": false
   },
   "outputs": [],
   "source": [
    "imp = ((y^2-x^2)/(2*z) + Rational(2, 9)*z^2 + Rational(2, 3))^3 -  \\\n",
    "      6*((y^2-x^2)/(4*z) - Rational(1, 4)*(x^2+y^2 + Rational(8, 9)*z^2) + \\\n",
    "      Rational(2, 9))^2   "
   ]
  },
  {
   "cell_type": "code",
   "execution_count": 27,
   "metadata": {
    "collapsed": false
   },
   "outputs": [],
   "source": [
    "enneper_fläche = ef = Fläche( v( xk, yk, zk ), (u, -2.3, 2.3), (w, -2.3, 2.3), \n",
    "                              imp=imp )"
   ]
  },
  {
   "cell_type": "code",
   "execution_count": 28,
   "metadata": {
    "collapsed": true
   },
   "outputs": [],
   "source": [
    "zeichne([ef, 'gitter=ja'], box=nein, achsen=nein)"
   ]
  },
  {
   "cell_type": "code",
   "execution_count": 29,
   "metadata": {
    "collapsed": false
   },
   "outputs": [
    {
     "data": {
      "image/png": "[encoded data removed]",
      "text/latex": [
       "$$\\left(\\frac{2 z^{2}}{9} + \\frac{2}{3} + \\frac{- x^{2} + y^{2}}{2 z}\\right)^{3} - 6 \\left(- \\frac{x^{2}}{4} - \\frac{y^{2}}{4} - \\frac{2 z^{2}}{9} + \\frac{2}{9} + \\frac{- x^{2} + y^{2}}{4 z}\\right)^{2}=0$$"
      ],
      "text/plain": [
       "(2*z**2/9 + 2/3 + (-x**2 + y**2)/(2*z))**3 - 6*(-x**2/4 - y**2/4 - 2*z**2/9 + \n",
       "2/9 + (-x**2 + y**2)/(4*z))**2 = 0"
      ]
     },
     "execution_count": 29,
     "metadata": {},
     "output_type": "execute_result"
    }
   ],
   "source": [
    "ef.imp"
   ]
  },
  {
   "cell_type": "code",
   "execution_count": 30,
   "metadata": {
    "collapsed": false
   },
   "outputs": [],
   "source": [
    "kk = ef.K()"
   ]
  },
  {
   "cell_type": "code",
   "execution_count": 31,
   "metadata": {
    "collapsed": false
   },
   "outputs": [
    {
     "data": {
      "image/png": "[encoded data removed]",
      "text/latex": [
       "$$- \\frac{4 \\left(u^{4} + 2 u^{2} w^{2} + 2 u^{2} + w^{4} + 2 w^{2} + 1\\right)^{2}}{\\left(4 u^{2} w^{2} + 4 u^{2} + \\left(- u^{2} + w^{2} + 1\\right)^{2}\\right)^{2} \\left(4 u^{2} w^{2} + 4 w^{2} + \\left(u^{2} - w^{2} + 1\\right)^{2}\\right)^{2}}$$"
      ],
      "text/plain": [
       "                                                       2               \n",
       "                  ⎛ 4      2  2      2    4      2    ⎞                \n",
       "               -4⋅⎝u  + 2⋅u ⋅w  + 2⋅u  + w  + 2⋅w  + 1⎠                \n",
       "───────────────────────────────────────────────────────────────────────\n",
       "                                   2                                  2\n",
       "⎛                                2⎞  ⎛                              2⎞ \n",
       "⎜   2  2      2   ⎛   2    2    ⎞ ⎟  ⎜   2  2      2   ⎛ 2    2    ⎞ ⎟ \n",
       "⎝4⋅u ⋅w  + 4⋅u  + ⎝- u  + w  + 1⎠ ⎠ ⋅⎝4⋅u ⋅w  + 4⋅w  + ⎝u  - w  + 1⎠ ⎠ "
      ]
     },
     "execution_count": 31,
     "metadata": {},
     "output_type": "execute_result"
    }
   ],
   "source": [
    "einfach(kk)"
   ]
  },
  {
   "cell_type": "code",
   "execution_count": 32,
   "metadata": {
    "collapsed": false
   },
   "outputs": [
    {
     "data": {
      "image/png": "[encoded data removed]",
      "text/latex": [
       "$$0$$"
      ],
      "text/plain": [
       "0"
      ]
     },
     "execution_count": 32,
     "metadata": {},
     "output_type": "execute_result"
    }
   ],
   "source": [
    "ef.H()   # Eigenschaft der Minimalflächen"
   ]
  },
  {
   "cell_type": "markdown",
   "metadata": {},
   "source": [
    "<br>\n",
    "### Klein'sche Flasche"
   ]
  },
  {
   "cell_type": "markdown",
   "metadata": {},
   "source": [
    "#### Parametergleichung"
   ]
  },
  {
   "cell_type": "code",
   "execution_count": 72,
   "metadata": {
    "collapsed": false
   },
   "outputs": [],
   "source": [
    "r = 2-cos(u); b = 2; h = 6\n",
    "\n",
    "xk = b*(1-sin(u))*cos(u)+r*cos(w)*(2*exp(-(u/2-pi)**2)-1)\n",
    "yk = r*sin(w)\n",
    "zk = h*sin(u)+1/2*r*sin(u)*cos(w)*exp(-(u-3/2*pi)**2)\n",
    "\n",
    "klein_flasche = kf = Fläche( v( xk, yk, zk ), (u, 0, 2*pi), (w, 0, 2*pi))\n"
   ]
  },
  {
   "cell_type": "code",
   "execution_count": 77,
   "metadata": {
    "collapsed": false
   },
   "outputs": [],
   "source": [
    "sicht_box(8)\n",
    "\n",
    "zeichne([kf, 'palegoldenrod', 'gitter=(48,48)'], achsen=nein, box=nein)"
   ]
  },
  {
   "cell_type": "code",
   "execution_count": 75,
   "metadata": {
    "collapsed": false
   },
   "outputs": [],
   "source": [
    "zeichne([kf, 'draht=(36, 36)', 'dodgerblue'], achsen=nein, box=nein)  "
   ]
  },
  {
   "cell_type": "markdown",
   "metadata": {},
   "source": [
    "#### Implizite Gleichung\n",
    "von Frassek"
   ]
  },
  {
   "cell_type": "code",
   "execution_count": 68,
   "metadata": {
    "collapsed": true
   },
   "outputs": [],
   "source": [
    "gl = (x^2+y^2+z^2+2*y-1)*((x^2+y^2+z^2-2*y-1)^2-8*z^2)+16*x*z*(x^2+y^2+z^2-2*y-1)"
   ]
  },
  {
   "cell_type": "code",
   "execution_count": 69,
   "metadata": {
    "collapsed": true
   },
   "outputs": [],
   "source": [
    "kf1 = Fläche(gl)"
   ]
  },
  {
   "cell_type": "code",
   "execution_count": 80,
   "metadata": {
    "collapsed": true
   },
   "outputs": [],
   "source": [
    "sicht_box(5)\n",
    "zeichne([kf1, 'gold'], achsen=nein, box=nein)"
   ]
  },
  {
   "cell_type": "markdown",
   "metadata": {},
   "source": [
    "<br>\n",
    "### Zitrone\n",
    "\n",
    "aus dem Netz"
   ]
  },
  {
   "cell_type": "code",
   "execution_count": 36,
   "metadata": {
    "collapsed": false
   },
   "outputs": [
    {
     "data": {
      "image/png": "[encoded data removed]",
      "text/latex": [
       "$$x^{2} - 6 y^{3} \\left(- y + 1\\right)^{3} + z^{2}$$"
      ],
      "text/plain": [
       " 2      3         3    2\n",
       "x  - 6⋅y ⋅(-y + 1)  + z "
      ]
     },
     "execution_count": 36,
     "metadata": {},
     "output_type": "execute_result"
    }
   ],
   "source": [
    "gl = x^2 + z^2 - 6*y^3*(1-y)^3; gl"
   ]
  },
  {
   "cell_type": "code",
   "execution_count": 37,
   "metadata": {
    "collapsed": true
   },
   "outputs": [],
   "source": [
    "zt = Fläche(gl)"
   ]
  },
  {
   "cell_type": "code",
   "execution_count": 38,
   "metadata": {
    "collapsed": false
   },
   "outputs": [],
   "source": [
    "sicht_box(-1, 1, -0.1, 1.2, -1, 1)\n",
    "\n",
    "zeichne([zt, gelb], box=nein, achsen=nein)"
   ]
  },
  {
   "cell_type": "markdown",
   "metadata": {},
   "source": [
    "<br>\n",
    "### Wassertropfen\n",
    "\n",
    "von Sage"
   ]
  },
  {
   "cell_type": "code",
   "execution_count": 39,
   "metadata": {
    "collapsed": false
   },
   "outputs": [
    {
     "data": {
      "image/png": "[encoded data removed]",
      "text/latex": [
       "$$x^{2} + y^{2} - z^{2} \\left(- z + 1\\right)$$"
      ],
      "text/plain": [
       " 2    2    2         \n",
       "x  + y  - z ⋅(-z + 1)"
      ]
     },
     "execution_count": 39,
     "metadata": {},
     "output_type": "execute_result"
    }
   ],
   "source": [
    "gl = x^2+y^2-(1-z)*z^2; gl"
   ]
  },
  {
   "cell_type": "code",
   "execution_count": 40,
   "metadata": {
    "collapsed": true
   },
   "outputs": [],
   "source": [
    "Wasser_tropfen = wt = Fläche(gl)"
   ]
  },
  {
   "cell_type": "code",
   "execution_count": 41,
   "metadata": {
    "collapsed": false
   },
   "outputs": [],
   "source": [
    "sicht_box(-1.2)\n",
    "\n",
    "zeichne([wt, 'royalblue'], achsen=nein, box=nein)    "
   ]
  },
  {
   "cell_type": "markdown",
   "metadata": {},
   "source": [
    "<br>\n",
    "### Sphäre in anderer Fläche\n",
    "\n",
    "von Sage"
   ]
  },
  {
   "cell_type": "code",
   "execution_count": 42,
   "metadata": {
    "collapsed": false
   },
   "outputs": [
    {
     "data": {
      "image/png": "[encoded data removed]",
      "text/latex": [
       "$$1.61803398874989$$"
      ],
      "text/plain": [
       "1.61803398874989"
      ]
     },
     "execution_count": 42,
     "metadata": {},
     "output_type": "execute_result"
    }
   ],
   "source": [
    "T = Rational(1, 2) * (1+sqrt(5))   # Goldener Schnitt\n",
    "T.n()"
   ]
  },
  {
   "cell_type": "code",
   "execution_count": 43,
   "metadata": {
    "collapsed": false
   },
   "outputs": [
    {
     "data": {
      "image/png": "[encoded data removed]",
      "text/latex": [
       "$$- \\cos{\\left (x - y \\left(\\frac{1}{2} + \\frac{\\sqrt{5}}{2}\\right) \\right )} - \\cos{\\left (x + y \\left(\\frac{1}{2} + \\frac{\\sqrt{5}}{2}\\right) \\right )} - \\cos{\\left (y - z \\left(\\frac{1}{2} + \\frac{\\sqrt{5}}{2}\\right) \\right )} - \\cos{\\left (y + z \\left(\\frac{1}{2} + \\frac{\\sqrt{5}}{2}\\right) \\right )} - \\cos{\\left (x \\left(\\frac{1}{2} + \\frac{\\sqrt{5}}{2}\\right) - z \\right )} - \\cos{\\left (x \\left(\\frac{1}{2} + \\frac{\\sqrt{5}}{2}\\right) + z \\right )} + 2$$"
      ],
      "text/plain": [
       "     ⎛      ⎛1   √5⎞⎞      ⎛      ⎛1   √5⎞⎞      ⎛      ⎛1   √5⎞⎞      ⎛      \n",
       "- cos⎜x - y⋅⎜─ + ──⎟⎟ - cos⎜x + y⋅⎜─ + ──⎟⎟ - cos⎜y - z⋅⎜─ + ──⎟⎟ - cos⎜y + z⋅\n",
       "     ⎝      ⎝2   2 ⎠⎠      ⎝      ⎝2   2 ⎠⎠      ⎝      ⎝2   2 ⎠⎠      ⎝      \n",
       "\n",
       "⎛1   √5⎞⎞      ⎛  ⎛1   √5⎞    ⎞      ⎛  ⎛1   √5⎞    ⎞    \n",
       "⎜─ + ──⎟⎟ - cos⎜x⋅⎜─ + ──⎟ - z⎟ - cos⎜x⋅⎜─ + ──⎟ + z⎟ + 2\n",
       "⎝2   2 ⎠⎠      ⎝  ⎝2   2 ⎠    ⎠      ⎝  ⎝2   2 ⎠    ⎠    "
      ]
     },
     "execution_count": 43,
     "metadata": {},
     "output_type": "execute_result"
    }
   ],
   "source": [
    "gl = 2 - (cos(x+T*y) + cos(x-T*y) + cos(y+T*z) + cos(y-T*z) + cos(z+T*x) + cos(z-T*x)); gl"
   ]
  },
  {
   "cell_type": "code",
   "execution_count": 44,
   "metadata": {
    "collapsed": false
   },
   "outputs": [],
   "source": [
    "fl = Fläche(gl)"
   ]
  },
  {
   "cell_type": "code",
   "execution_count": 45,
   "metadata": {
    "collapsed": false
   },
   "outputs": [],
   "source": [
    "sicht_box(4.77)\n",
    "\n",
    "zeichne([fl, 'darkkhaki'], achsen=nein, box=nein)    "
   ]
  },
  {
   "cell_type": "markdown",
   "metadata": {},
   "source": [
    "<br>\n",
    "### Herz\n",
    "\n",
    "von Wolfram\n"
   ]
  },
  {
   "cell_type": "code",
   "execution_count": 46,
   "metadata": {
    "collapsed": false
   },
   "outputs": [
    {
     "data": {
      "image/png": "[encoded data removed]",
      "text/latex": [
       "$$- x^{2} z^{3} - \\frac{9 y^{2}}{200} z^{3} + \\left(x^{2} + \\frac{9 y^{2}}{4} + z^{2} - 1\\right)^{3}$$"
      ],
      "text/plain": [
       "                                        3\n",
       "             2  3   ⎛        2         ⎞ \n",
       "   2  3   9⋅y ⋅z    ⎜ 2   9⋅y     2    ⎟ \n",
       "- x ⋅z  - ─────── + ⎜x  + ──── + z  - 1⎟ \n",
       "            200     ⎝      4           ⎠ "
      ]
     },
     "execution_count": 46,
     "metadata": {},
     "output_type": "execute_result"
    }
   ],
   "source": [
    "gl = (x^2 + Rational(9, 4)*y^2 + z^2-1)^3 - x^2*z^3 - Rational(9, 200)*y^2*z^3; gl"
   ]
  },
  {
   "cell_type": "code",
   "execution_count": 47,
   "metadata": {
    "collapsed": true
   },
   "outputs": [],
   "source": [
    "he1 = Fläche(gl)"
   ]
  },
  {
   "cell_type": "code",
   "execution_count": 48,
   "metadata": {
    "collapsed": false
   },
   "outputs": [],
   "source": [
    "sicht_box(1.5)\n",
    "\n",
    "zeichne([he1, rot], achsen=nein, box=nein)    "
   ]
  },
  {
   "cell_type": "code",
   "execution_count": 49,
   "metadata": {
    "collapsed": false
   },
   "outputs": [
    {
     "data": {
      "image/png": "[encoded data removed]",
      "text/latex": [
       "$$- \\frac{x^{2} z^{3}}{10} - y^{2} z^{3} + \\left(2 x^{2} + y^{2} + z^{2} - 1\\right)^{3}$$"
      ],
      "text/plain": [
       "   2  3                               3\n",
       "  x ⋅z     2  3   ⎛   2    2    2    ⎞ \n",
       "- ───── - y ⋅z  + ⎝2⋅x  + y  + z  - 1⎠ \n",
       "    10                                 "
      ]
     },
     "execution_count": 49,
     "metadata": {},
     "output_type": "execute_result"
    }
   ],
   "source": [
    "gl = (2*x^2+y^2+z^2-1)^3-Rational(1, 10)*x^2*z^3-y^2*z^3; gl"
   ]
  },
  {
   "cell_type": "code",
   "execution_count": 50,
   "metadata": {
    "collapsed": true
   },
   "outputs": [],
   "source": [
    "he2 = Fläche(gl)"
   ]
  },
  {
   "cell_type": "code",
   "execution_count": 51,
   "metadata": {
    "collapsed": false
   },
   "outputs": [],
   "source": [
    "sicht_box(-3, 3)\n",
    "zeichne([he2, rot], achsen=nein, box=nein)    "
   ]
  },
  {
   "cell_type": "markdown",
   "metadata": {
    "collapsed": true
   },
   "source": [
    "<br>\n",
    "### Kissen"
   ]
  },
  {
   "cell_type": "code",
   "execution_count": 52,
   "metadata": {
    "collapsed": false
   },
   "outputs": [],
   "source": [
    "r = 4\n",
    "\n",
    "xk = r*cos(u)\n",
    "yk = 0.8*r*sin(u)*sin(w)\n",
    "zk = r*cos(w)\n",
    "\n",
    "ki = Fläche(v(xk, yk, zk), (u, 0, pi), (w, 0, 2*pi))"
   ]
  },
  {
   "cell_type": "code",
   "execution_count": 53,
   "metadata": {
    "collapsed": true
   },
   "outputs": [],
   "source": [
    "sicht_box(6)\n",
    "zeichne(ki, achsen=nein, box= nein)"
   ]
  },
  {
   "cell_type": "markdown",
   "metadata": {},
   "source": [
    "<br>\n",
    "### Klecks\n",
    "\n",
    "von Sage"
   ]
  },
  {
   "cell_type": "code",
   "execution_count": 54,
   "metadata": {
    "collapsed": false
   },
   "outputs": [
    {
     "data": {
      "image/png": "[encoded data removed]",
      "text/latex": [
       "$$x^{2} + y^{2} + z^{2} + \\sin{\\left (4 x \\right )} + \\sin{\\left (4 y \\right )} + \\sin{\\left (4 z \\right )} - 1$$"
      ],
      "text/plain": [
       " 2    2    2                                     \n",
       "x  + y  + z  + sin(4⋅x) + sin(4⋅y) + sin(4⋅z) - 1"
      ]
     },
     "execution_count": 54,
     "metadata": {},
     "output_type": "execute_result"
    }
   ],
   "source": [
    "gl = x^2+y^2+z^2 + sin(4*x) + sin(4*y) + sin(4*z) -1; gl"
   ]
  },
  {
   "cell_type": "code",
   "execution_count": 55,
   "metadata": {
    "collapsed": false
   },
   "outputs": [],
   "source": [
    "kl = Fläche(gl)"
   ]
  },
  {
   "cell_type": "code",
   "execution_count": 56,
   "metadata": {
    "collapsed": false
   },
   "outputs": [],
   "source": [
    "sicht_box(2)\n",
    "\n",
    "zeichne([kl, 'lavenderblush'], achsen=nein, box=nein)    "
   ]
  },
  {
   "cell_type": "markdown",
   "metadata": {},
   "source": [
    "<br>\n",
    "### Schnecke\n",
    "\n",
    "aus dem Netz"
   ]
  },
  {
   "cell_type": "code",
   "execution_count": 57,
   "metadata": {
    "collapsed": true
   },
   "outputs": [],
   "source": [
    "xk = 5/4 * (1-w/2/pi) * cos(2*w) * (1+cos(u)) + cos(2*w)\n",
    "yk = 5/4 *(1-w/2/pi) * sin(2*w) * (1+cos(u)) + sin(2*w)\n",
    "zk = 10*w/2/pi + 5/4 * (1-w/2/pi) * sin(u) + 15"
   ]
  },
  {
   "cell_type": "code",
   "execution_count": 58,
   "metadata": {
    "collapsed": false
   },
   "outputs": [],
   "source": [
    "fl = Fläche(v(xk, yk, zk), (u, 0, 2*pi),(w, -2*pi, 2*pi))"
   ]
  },
  {
   "cell_type": "code",
   "execution_count": 59,
   "metadata": {
    "collapsed": false
   },
   "outputs": [],
   "source": [
    "zeichne([fl, 'peru', 'gitter=(12, 48)'],achsen=nein, box=nein)"
   ]
  },
  {
   "cell_type": "markdown",
   "metadata": {},
   "source": [
    "<br>\n",
    "### Oloid\n",
    "\n",
    "von Wikipedia"
   ]
  },
  {
   "cell_type": "code",
   "execution_count": 60,
   "metadata": {
    "collapsed": true
   },
   "outputs": [],
   "source": [
    "xk = (s/(1-cos(t)) + (1-s)*cos(t))\n",
    "yk = (1-s)*sin(t)\n",
    "zk = s*sqrt(1-2*cos(t)) / (1-cos(t))\n",
    "\n",
    "# t-Bereich: (pi/3, 5/3*pi)\n",
    "# s-Bereich: (0, 1)\n",
    "\n",
    "# Zur Vermeidung von Unsauberkeiten (die mit der homogenen Unterteilung  \n",
    "# der Parameterbereiche zusammenhängen) wird die Fläche aus 4 Teilen \n",
    "# zusammengesetzt\n",
    "\n",
    "oloid11 = Fläche(v(xk, yk, zk), (s, 0, 1), (t, pi/3, pi))   \n",
    "\n",
    "oloid12 = oloid11.bild(spieg(xz_ebene))\n",
    "\n",
    "oloid21 = oloid11.bild(spieg(xy_ebene))\n",
    "oloid22 = oloid12.bild(spieg(xy_ebene))"
   ]
  },
  {
   "cell_type": "code",
   "execution_count": 61,
   "metadata": {
    "collapsed": true
   },
   "outputs": [],
   "source": [
    "sicht_box(2)\n",
    "\n",
    "zeichne(oloid11, oloid12, oloid21, oloid22, box=nein, achsen=nein) "
   ]
  },
  {
   "cell_type": "code",
   "execution_count": 62,
   "metadata": {
    "collapsed": true
   },
   "outputs": [],
   "source": [
    "zeichne(*[[f, 'draht=10,10'] for f in (oloid11, oloid12, oloid21, oloid22)], \n",
    "           box=nein, achsen=nein)"
   ]
  },
  {
   "cell_type": "markdown",
   "metadata": {
    "collapsed": true
   },
   "source": [
    "<br>\n",
    "### Animation Katenoid $\\rightarrow$ Helikoid"
   ]
  },
  {
   "cell_type": "code",
   "execution_count": 63,
   "metadata": {
    "collapsed": false
   },
   "outputs": [],
   "source": [
    "xk = cos(a)*sinh(w)*sin(u) + sin(a)*cosh(w)*cos(u)\n",
    "yk = -cos(a)*sinh(w)*cos(u) + sin(a)*cosh(w)*sin(u)\n",
    "zk = u*cos(a) + w*sin(a)\n",
    "\n",
    "fl = Fläche(v(xk, yk, zk), (u, 0, 2*pi), (w, -2, 2)) "
   ]
  },
  {
   "cell_type": "code",
   "execution_count": 64,
   "metadata": {
    "collapsed": false
   },
   "outputs": [],
   "source": [
    "zeichne([fl, gelb, (-pi/2, 0, 200)], box=nein, achsen=nein) "
   ]
  },
  {
   "cell_type": "code",
   "execution_count": 65,
   "metadata": {
    "collapsed": false
   },
   "outputs": [
    {
     "data": {
      "image/png": "[encoded data removed]",
      "text/latex": [
       "$$0$$"
      ],
      "text/plain": [
       "0"
      ]
     },
     "execution_count": 65,
     "metadata": {},
     "output_type": "execute_result"
    }
   ],
   "source": [
    "fl.H()     # alle Zwischenflächen sind ebenfalls Minimalflächen   # 10 sec"
   ]
  },
  {
   "cell_type": "markdown",
   "metadata": {},
   "source": [
    "Verhinderung der Aufwärtsbewegung bei der Animation durch eine gegenläufige<br>\n",
    "Verschiebung entlang der $z$-Achse"
   ]
  },
  {
   "cell_type": "code",
   "execution_count": 66,
   "metadata": {
    "collapsed": false
   },
   "outputs": [],
   "source": [
    "zk = zk - a\n",
    "\n",
    "fl = Fläche(v(xk, yk, zk), (u, 0, 2*pi), (w, -2, 2)) "
   ]
  },
  {
   "cell_type": "code",
   "execution_count": 67,
   "metadata": {
    "collapsed": true
   },
   "outputs": [],
   "source": [
    "zeichne([fl, gelb, (-pi/2, 0, 200)], box=nein, achsen=nein) "
   ]
  }
 ],
 "metadata": {
  "anaconda-cloud": {},
  "kernelspec": {
   "display_name": "Python [default]",
   "language": "python",
   "name": "python3"
  },
  "language_info": {
   "codemirror_mode": {
    "name": "ipython",
    "version": 3
   },
   "file_extension": ".py",
   "mimetype": "text/x-python",
   "name": "python",
   "nbconvert_exporter": "python",
   "pygments_lexer": "ipython3",
   "version": "3.5.2"
  }
 },
 "nbformat": 4,
 "nbformat_minor": 0
}
