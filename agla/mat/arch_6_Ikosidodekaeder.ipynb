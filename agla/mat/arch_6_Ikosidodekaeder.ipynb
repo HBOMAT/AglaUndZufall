{
 "cells": [
  {
   "cell_type": "markdown",
   "metadata": {},
   "source": [
    "# Materialien zu <i>agla</i>\n",
    "\n",
    "Autor: Holger Böttcher - hbomat@posteo.de\n",
    "\n",
    "## Archimedische Körper"
   ]
  },
  {
   "cell_type": "markdown",
   "metadata": {},
   "source": [
    "### Ikosidodekaeder    "
   ]
  },
  {
   "cell_type": "markdown",
   "metadata": {},
   "source": [
    "Flächenfolge in einer Ecke  (3, 5, 3, 5) \n",
    "<br><br>"
   ]
  },
  {
   "cell_type": "code",
   "execution_count": 1,
   "metadata": {
    "collapsed": true
   },
   "outputs": [],
   "source": [
    "%run agla/start"
   ]
  },
  {
   "cell_type": "code",
   "execution_count": 2,
   "metadata": {
    "collapsed": false
   },
   "outputs": [],
   "source": [
    "# Die Koordinaten der Eckpunkte sind näherungsweise definiert\n",
    "\n",
    "# Erzeugung des Körpers über seine Seitenflächen\n",
    "\n",
    "UMG.SIMPL = False\n",
    "\n",
    "p0=v(0,0,0.683449)\n",
    "p1=v(0.4017221,0,0.55292315)\n",
    "p2=v(0.17965545,0.3593109,0.55292315)\n",
    "p3=v(-0.4017221,0,0.55292315)\n",
    "p4=v(-0.17965545,-0.3593109,0.55292315)\n",
    "p5=v(0.65,0,0.211198)\n",
    "p6=v(0.47034455,-0.3593109,0.34172515)\n",
    "p7=v(-0.111033,0.58137755,0.34172515)\n",
    "p8=v(0.2906891,0.58137755,0.211198)\n",
    "p9=v(-0.65,0,0.211198)\n",
    "p10=v(-0.47034455,0.3593109,0.34172515)\n",
    "p11=v(0.111033,-0.58137755,0.34172515)\n",
    "p12=v(-0.2906891,-0.58137755,0.211198)\n",
    "p13=v(0.65,0,-0.211198)\n",
    "p14=v(0.58137755,0.3593109,0)\n",
    "p15=v(0.3593109,-0.58137755,0)\n",
    "p16=v(-0.3593109,0.58137755,0)\n",
    "p17=v(0.2906891,0.58137755,-0.211198)\n",
    "p18=v(-0.65,0,-0.211198)\n",
    "p19=v(-0.58137755,-0.3593109,0)\n",
    "p20=v(-0.2906891,-0.58137755,-0.211198)\n",
    "p21=v(0.4017221,0,-0.55292315)\n",
    "p22=v(0.47034455,-0.3593109,-0.34172515)\n",
    "p23=v(0.111033,-0.58137755,-0.34172515)\n",
    "p24=v(-0.47034455,0.3593109,-0.34172515)\n",
    "p25=v(-0.111033,0.58137755,-0.34172515)\n",
    "p26=v(0.17965545,0.3593109,-0.55292315)\n",
    "p27=v(-0.4017221,0,-0.55292315)\n",
    "p28=v(-0.17965545,-0.3593109,-0.55292315)\n",
    "p29=v(0,0,-0.683449)\n",
    "\n",
    "dreiecke = [\n",
    "Koerper(p0, p1, p2,p0),\n",
    "Koerper(p0, p3, p4,p0),\n",
    "Koerper(p1, p6, p5,p1),\n",
    "Koerper(p2, p8, p7,p2),\n",
    "Koerper(p3, p10,p9,p3),\n",
    "Koerper(p4, p12,p11,p4),\n",
    "Koerper(p5, p13,p14,p5),\n",
    "Koerper(p6, p11,p15,p6),\n",
    "Koerper(p7, p16,p10,p7),\n",
    "Koerper(p8, p14,p17,p8),\n",
    "Koerper(p9, p18,p19,p9),\n",
    "Koerper(p12,p19,p20,p12),\n",
    "Koerper(p13,p22,p21,p13),\n",
    "Koerper(p15,p23,p22,p15),\n",
    "Koerper(p16,p25,p24,p16),\n",
    "Koerper(p17,p26,p25,p17),\n",
    "Koerper(p18,p24,p27,p18),\n",
    "Koerper(p20,p28,p23,p20),\n",
    "Koerper(p21,p26,p29,p21),\n",
    "Koerper(p27,p29,p28,p27)\n",
    "] \n",
    "\n",
    "fuenfecke = [\n",
    "Koerper(p0, p2, p7, p10,p3,p0),\n",
    "Koerper(p0, p4, p11,p6, p1,p0),\n",
    "Koerper(p1, p5, p14,p8, p2,p1),\n",
    "Koerper(p3, p9, p19,p12,p4,p3),\n",
    "Koerper(p5, p6, p15,p22,p13,p5),\n",
    "Koerper(p7, p8, p17,p25,p16,p7),\n",
    "Koerper(p9, p10,p16,p24,p18,p9),\n",
    "Koerper(p11,p12,p20,p23,p15,p11),\n",
    "Koerper(p13,p21,p26,p17,p14,p13),\n",
    "Koerper(p18,p27,p28,p20,p19,p18),\n",
    "Koerper(p21,p22,p23,p28,p29,p21),\n",
    "Koerper(p24,p25,p26,p29,p27,p24)\n",
    "]  \n",
    "\n",
    "seiten_liste = [fuenfecke[i] for i in range(len(fuenfecke))] + [dreiecke[i] for i in range(len(dreiecke))]   "
   ]
  },
  {
   "cell_type": "code",
   "execution_count": 3,
   "metadata": {
    "collapsed": false
   },
   "outputs": [],
   "source": [
    "K = Körper(*seiten_liste, seiten=True)   "
   ]
  },
  {
   "cell_type": "code",
   "execution_count": 4,
   "metadata": {
    "collapsed": false
   },
   "outputs": [],
   "source": [
    "sicht_box(-1.2, 1.2)\n",
    "zeichne(K)"
   ]
  },
  {
   "cell_type": "code",
   "execution_count": 5,
   "metadata": {
    "collapsed": false
   },
   "outputs": [],
   "source": [
    "KS = K.seiten"
   ]
  },
  {
   "cell_type": "code",
   "execution_count": 6,
   "metadata": {
    "collapsed": false
   },
   "outputs": [],
   "source": [
    "K1  = Körper(*[KS[i] for i in range(len(KS)) if KS[i].anz_ecken == 3], seiten=True)   \n",
    "K2  = Körper(*[KS[i] for i in range(len(KS)) if KS[i].anz_ecken > 3], seiten=True)               "
   ]
  },
  {
   "cell_type": "code",
   "execution_count": 7,
   "metadata": {
    "collapsed": false
   },
   "outputs": [],
   "source": [
    "sicht_box(-2, 2)\n",
    "zeichne([K1, rot, 'fuell=ja'], [K2, gelb, 'fuell=ja'], K, achsen=False, box=False)"
   ]
  },
  {
   "cell_type": "code",
   "execution_count": null,
   "metadata": {
    "collapsed": false
   },
   "outputs": [],
   "source": []
  }
 ],
 "metadata": {
  "anaconda-cloud": {},
  "kernelspec": {
   "display_name": "Python [default]",
   "language": "python",
   "name": "python3"
  },
  "language_info": {
   "codemirror_mode": {
    "name": "ipython",
    "version": 3
   },
   "file_extension": ".py",
   "mimetype": "text/x-python",
   "name": "python",
   "nbconvert_exporter": "python",
   "pygments_lexer": "ipython3",
   "version": "3.5.2"
  }
 },
 "nbformat": 4,
 "nbformat_minor": 0
}
