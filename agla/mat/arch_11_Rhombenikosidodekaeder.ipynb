{
 "cells": [
  {
   "cell_type": "markdown",
   "metadata": {},
   "source": [
    "# Materialien zu <i>agla</i>\n",
    "\n",
    "Autor: Holger Böttcher - hbomat@posteo.de\n",
    "\n",
    "## Archimedische Körper"
   ]
  },
  {
   "cell_type": "markdown",
   "metadata": {},
   "source": [
    "### Rhombenikosidodekaeder   "
   ]
  },
  {
   "cell_type": "markdown",
   "metadata": {},
   "source": [
    "(Kleines)  \n",
    "\n",
    "Flächenfolge in einer Ecke  (3, 4, 5, 4) \n",
    "<br><br>"
   ]
  },
  {
   "cell_type": "code",
   "execution_count": 1,
   "metadata": {
    "collapsed": false
   },
   "outputs": [],
   "source": [
    "%run agla/start"
   ]
  },
  {
   "cell_type": "code",
   "execution_count": 2,
   "metadata": {
    "collapsed": false
   },
   "outputs": [],
   "source": [
    "# Die Koordinaten der Eckpunkte sind näherungsweise definiert\n",
    "\n",
    "# Erzeugung des Körpers über seine Seitenflächen  \n",
    "\n",
    "UMG.SIMPL = False\n",
    "\n",
    "p0  = v(  0,           0,           0.6669325) \n",
    "p1  = v( -0.01536587,  0.2906891,   0.6000553) \n",
    "p2  = v(  0.2910947,   0,           0.6000553) \n",
    "p3  = v( -0.26329745,  0.12413895,  0.6000553) \n",
    "p4  = v( -0.1100671,  -0.2694835,   0.6000553) \n",
    "p5  = v(  0.2757287,   0.2906891,   0.5331755) \n",
    "p6  = v(  0.4987983,   0.12413895,  0.42496155) \n",
    "p7  = v(  0.36093395, -0.2694835,   0.49184135) \n",
    "p8  = v( -0.1502956,   0.49155015,  0.42496155) \n",
    "p9  = v( -0.3733652,  -0.14534455,  0.5331755) \n",
    "p10 = v( -0.3982277,   0.325,       0.42496155) \n",
    "p11 = v(  0.11300185, -0.436033,    0.49184135) \n",
    "p12 = v( -0.30352595, -0.41482805,  0.42496155) \n",
    "p13 = v(  0.32070545,  0.49155015,  0.3167476) \n",
    "p14 = v(  0.5686369,  -0.14534455,  0.3167476) \n",
    "p15 = v(  0.54377505,  0.325,       0.20853365) \n",
    "p16 = v(  0.4585698,  -0.41482805,  0.2498678) \n",
    "p17 = v(  0.05740781,  0.6156891,   0.2498678) \n",
    "p18 = v( -0.35325095,  0.52586105,  0.20853365) \n",
    "p19 = v( -0.5763199,  -0.111033,    0.3167476) \n",
    "p20 = v( -0.5916859,   0.17965545,  0.2498678) \n",
    "p21 = v( -0.08045635, -0.58137755,  0.3167476) \n",
    "p22 = v(  0.21063835, -0.58137755,  0.2498678) \n",
    "p23 = v( -0.5064813,  -0.3805165,   0.20853365) \n",
    "p24 = v(  0.4088448,   0.52586105,  0.0334399) \n",
    "p25 = v(  0.6567795,  -0.111033,    0.0334399) \n",
    "p26 = v(  0.6414109,   0.17965545, -0.0334399) \n",
    "p27 = v(  0.54670915, -0.3805165,  -0.0334399) \n",
    "p28 = v( -0.14554735,  0.65,        0.0334399) \n",
    "p29 = v(  0.14554735,  0.65,       -0.0334399) \n",
    "p30 = v( -0.54670915,  0.3805165,   0.0334399) \n",
    "p31 = v( -0.6414109,  -0.17965545,  0.0334399) \n",
    "p32 = v( -0.6567795,   0.111033,   -0.0334399) \n",
    "p33 = v( -0.14554735, -0.65,        0.0334399) \n",
    "p34 = v(  0.14554735, -0.65,       -0.0334399) \n",
    "p35 = v( -0.4088448,  -0.52586105, -0.0334399) \n",
    "p36 = v(  0.5064813,   0.3805165,  -0.20853365) \n",
    "p37 = v(  0.5916859,  -0.17965545, -0.2498678) \n",
    "p38 = v(  0.5763199,   0.111033,   -0.3167476) \n",
    "p39 = v(  0.35325095, -0.52586105, -0.20853365) \n",
    "p40 = v( -0.21063835,  0.58137755, -0.2498678) \n",
    "p41 = v(  0.08045635,  0.58137755, -0.3167476) \n",
    "p42 = v( -0.4585698,   0.41482805, -0.2498678) \n",
    "p43 = v( -0.54377505, -0.325,      -0.20853365) \n",
    "p44 = v( -0.5686369,   0.14534455, -0.3167476) \n",
    "p45 = v( -0.05740781, -0.6156891,  -0.2498678) \n",
    "p46 = v( -0.32070545, -0.49155015, -0.3167476) \n",
    "p47 = v(  0.30352595,  0.41482805, -0.42496155) \n",
    "p48 = v(  0.3982277,  -0.325,      -0.42496155) \n",
    "p49 = v(  0.3733652,   0.14534455, -0.5331755) \n",
    "p50 = v(  0.1502956,  -0.49155015, -0.42496155) \n",
    "p51 = v( -0.11300185,  0.436033,   -0.49184135) \n",
    "p52 = v( -0.36093395,  0.2694835,  -0.49184135) \n",
    "p53 = v( -0.4987983,  -0.12413895, -0.42496155) \n",
    "p54 = v( -0.2757287,  -0.2906891,  -0.5331755) \n",
    "p55 = v(  0.1100671,   0.2694835,  -0.6000553) \n",
    "p56 = v(  0.26329745, -0.12413895, -0.6000553) \n",
    "p57 = v(  0.01536587, -0.2906891,  -0.6000553) \n",
    "p58 = v( -0.2910947,   0,          -0.600055) \n",
    "p59 = v(  0,           0,          -0.6669325) \n",
    "\n",
    "dreiecke = [\n",
    " Koerper(p0, p1, p3,p0),\n",
    " Koerper(p2, p6, p5,p2),\n",
    " Koerper(p4, p9, p12,p4),\n",
    " Koerper(p7, p16,p14,p7),\n",
    " Koerper(p8, p18,p10,p8),\n",
    " Koerper(p11,p21,p22,p11),\n",
    " Koerper(p13,p15,p24,p13),\n",
    " Koerper(p17,p29,p28,p17),\n",
    " Koerper(p19,p31,p23,p19),\n",
    " Koerper(p20,p30,p32,p20),\n",
    " Koerper(p25,p27,p37,p25),\n",
    " Koerper(p26,p38,p36,p26),\n",
    " Koerper(p33,p45,p34,p33),\n",
    " Koerper(p35,p43,p46,p35),\n",
    " Koerper(p39,p50,p48,p39),\n",
    " Koerper(p40,p41,p51,p40),\n",
    " Koerper(p42,p52,p44,p42),\n",
    " Koerper(p47,p49,p55,p47),\n",
    " Koerper(p53,p58,p54,p53),\n",
    " Koerper(p56,p57,p59,p56)\n",
    "] \n",
    "\n",
    "vierecke = [\n",
    " Koerper(p0, p2, p5, p1,p0),\n",
    " Koerper(p0, p3, p9, p4,p0),\n",
    " Koerper(p2, p7, p14,p6,p2),\n",
    " Koerper(p1, p8, p10,p3,p1),\n",
    " Koerper(p4, p12,p21,p11,p4),\n",
    " Koerper(p5, p6, p15,p13,p5),\n",
    " Koerper(p7, p11,p22,p16,p7),\n",
    " Koerper(p8, p17,p28,p18,p8),\n",
    " Koerper(p9, p19,p23,p12,p9),\n",
    " Koerper(p10,p18,p30,p20,p10),\n",
    " Koerper(p13,p24,p29,p17,p13),\n",
    " Koerper(p14,p16,p27,p25,p14),\n",
    " Koerper(p15,p26,p36,p24,p15),\n",
    " Koerper(p19,p20,p32,p31,p19),\n",
    " Koerper(p21,p33,p34,p22,p21),\n",
    " Koerper(p23,p31,p43,p35,p23),\n",
    " Koerper(p25,p37,p38,p26,p25),\n",
    " Koerper(p27,p39,p48,p37,p27),\n",
    " Koerper(p28,p29,p41,p40,p28),\n",
    " Koerper(p30,p42,p44,p32,p30),\n",
    " Koerper(p33,p35,p46,p45,p33),\n",
    " Koerper(p34,p45,p50,p39,p34),\n",
    " Koerper(p36,p38,p49,p47,p36),\n",
    " Koerper(p40,p51,p52,p42,p40),\n",
    " Koerper(p41,p47,p55,p51,p41),\n",
    " Koerper(p43,p53,p54,p46,p43),\n",
    " Koerper(p44,p52,p58,p53,p44),\n",
    " Koerper(p48,p50,p57,p56,p48),\n",
    " Koerper(p49,p56,p59,p55,p49),\n",
    " Koerper(p54,p58,p59,p57,p54)\n",
    "] \n",
    "\n",
    "fuenfecke = [\n",
    " Koerper(p0, p4, p11,p7, p2,p0),\n",
    " Koerper(p1, p5, p13,p17,p8,p1),\n",
    " Koerper(p3, p10,p20,p19,p9,p3),\n",
    " Koerper(p6, p14,p25,p26,p15,p6),\n",
    " Koerper(p12,p23,p35,p33,p21,p12),\n",
    " Koerper(p16,p22,p34,p39,p27,p16),\n",
    " Koerper(p18,p28,p40,p42,p30,p18),\n",
    " Koerper(p24,p36,p47,p41,p29,p24),\n",
    " Koerper(p31,p32,p44,p53,p43,p31),\n",
    " Koerper(p37,p48,p56,p49,p38,p37),\n",
    " Koerper(p45,p46,p54,p57,p50,p45),\n",
    " Koerper(p51,p55,p59,p58,p52,p51)\n",
    " ] \n",
    "\n",
    "seiten_liste = [dreiecke[i] for i in range(len(dreiecke))] + [vierecke[i] for i in range(len(vierecke))] + \\\n",
    "               [fuenfecke[i] for i in range(len(fuenfecke))]"
   ]
  },
  {
   "cell_type": "code",
   "execution_count": 3,
   "metadata": {
    "collapsed": false
   },
   "outputs": [],
   "source": [
    "K = Körper(*seiten_liste, seiten=True)   "
   ]
  },
  {
   "cell_type": "code",
   "execution_count": 4,
   "metadata": {
    "collapsed": false
   },
   "outputs": [],
   "source": [
    "sicht_box(-1.2, 1.2)\n",
    "zeichne(K)"
   ]
  },
  {
   "cell_type": "code",
   "execution_count": 5,
   "metadata": {
    "collapsed": false
   },
   "outputs": [],
   "source": [
    "KS = K.seiten"
   ]
  },
  {
   "cell_type": "code",
   "execution_count": 6,
   "metadata": {
    "collapsed": false
   },
   "outputs": [],
   "source": [
    "K1  = Körper(*[KS[i] for i in range(len(KS)) if KS[i].anz_ecken == 3], seiten=True)   \n",
    "K2  = Körper(*[KS[i] for i in range(len(KS)) if KS[i].anz_ecken == 4], seiten=True)\n",
    "K3  = Körper(*[KS[i] for i in range(len(KS)) if KS[i].anz_ecken == 5], seiten=True)"
   ]
  },
  {
   "cell_type": "code",
   "execution_count": 7,
   "metadata": {
    "collapsed": false
   },
   "outputs": [],
   "source": [
    "sicht_box(-2, 2)\n",
    "zeichne([K1, rot, 'fuell=ja'], [K2, gruen, 'fuell=ja'], [K3, gelb, 'fuell=ja'], K, achsen=False, box=False)"
   ]
  },
  {
   "cell_type": "code",
   "execution_count": null,
   "metadata": {
    "collapsed": false
   },
   "outputs": [],
   "source": []
  }
 ],
 "metadata": {
  "anaconda-cloud": {},
  "kernelspec": {
   "display_name": "Python [default]",
   "language": "python",
   "name": "python3"
  },
  "language_info": {
   "codemirror_mode": {
    "name": "ipython",
    "version": 3
   },
   "file_extension": ".py",
   "mimetype": "text/x-python",
   "name": "python",
   "nbconvert_exporter": "python",
   "pygments_lexer": "ipython3",
   "version": "3.5.2"
  }
 },
 "nbformat": 4,
 "nbformat_minor": 0
}
