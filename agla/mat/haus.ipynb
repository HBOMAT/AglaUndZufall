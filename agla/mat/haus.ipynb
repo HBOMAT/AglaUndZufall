{
 "cells": [
  {
   "cell_type": "markdown",
   "metadata": {},
   "source": [
    "# Materialien zu <i>agla</i>\n",
    "\n",
    "Autor: Holger Böttcher - hbomat@posteo.de\n",
    "\n",
    "## Allgemeiner Körper "
   ]
  },
  {
   "cell_type": "markdown",
   "metadata": {},
   "source": [
    "## Haus\n",
    "<br><br>"
   ]
  },
  {
   "cell_type": "code",
   "execution_count": 1,
   "metadata": {
    "collapsed": true
   },
   "outputs": [],
   "source": [
    "%run agla/start"
   ]
  },
  {
   "cell_type": "code",
   "execution_count": 2,
   "metadata": {
    "collapsed": false
   },
   "outputs": [],
   "source": [
    "# Erzeugung über einen Kantenzug\n",
    "\n",
    "p1 = v(0,0,0)\n",
    "p2 = v(6,0,0)\n",
    "p3 = v(6,4,0)\n",
    "p4 = v(0,4,0)\n",
    "p5 = v(0,0,2)\n",
    "p6 = v(6,0,2)\n",
    "p7 = v(6,4,2)\n",
    "p8 = v(0,4,2)\n",
    "p9 = v(1,2,3)\n",
    "p10 = v(5,2,3)\n",
    "\n",
    "haus = h = Körper(p1,p2,p3,p4,p1,p5,p6,p2,p6,p7,p3,p7,p8,p4,p8,p5,p8,p9,p5,p9,p10,p6,p10,p7)"
   ]
  },
  {
   "cell_type": "code",
   "execution_count": 3,
   "metadata": {
    "collapsed": false
   },
   "outputs": [],
   "source": [
    "zeichne([haus, blau], box=nein, achsen=nein)"
   ]
  },
  {
   "cell_type": "code",
   "execution_count": 4,
   "metadata": {
    "collapsed": false
   },
   "outputs": [
    {
     "data": {
      "text/latex": [
       "$$\\left ( 10, \\quad 17, \\quad 9\\right )$$"
      ],
      "text/plain": [
       "(10, 17, 9)"
      ]
     },
     "execution_count": 4,
     "metadata": {},
     "output_type": "execute_result"
    }
   ],
   "source": [
    "h.anz_ecken,  h.anz_kanten,  h.anz_seiten"
   ]
  },
  {
   "cell_type": "code",
   "execution_count": 5,
   "metadata": {
    "collapsed": false
   },
   "outputs": [
    {
     "data": {
      "text/latex": [
       "$$2$$"
      ],
      "text/plain": [
       "2"
      ]
     },
     "execution_count": 5,
     "metadata": {},
     "output_type": "execute_result"
    }
   ],
   "source": [
    "# Eulersche Polyederformel:      #Ecken - #Kanten + #Seiten = 2\n",
    "\n",
    "h.anz_ecken - h.anz_kanten + h.anz_seiten"
   ]
  },
  {
   "cell_type": "code",
   "execution_count": 6,
   "metadata": {
    "collapsed": false
   },
   "outputs": [],
   "source": [
    "# Einfärbung der Seiten - ist durch Teilkörper, die über die Seiten \n",
    "# erzeugt werden,  zu realisieren\n",
    "\n",
    "S = h.seiten\n",
    "H1 = Körper(*[S[i] for i in (2, 0, 1)], seiten=ja)\n",
    "H2 = Körper(*[S[i] for i in (2, 5, 6)], seiten=ja)\n",
    "H3 = Körper(*[S[i] for i in (3, 4, 7, 8)], seiten=ja)  \n",
    "\n",
    "zeichne([H1, blau, 'füll=ja'], [H2, rot, 'füll=ja'], [H3, gelb, 'füll=ja'], \n",
    "         achsen=nein, box=nein)"
   ]
  },
  {
   "cell_type": "code",
   "execution_count": 7,
   "metadata": {
    "collapsed": false
   },
   "outputs": [],
   "source": [
    "# Markieren der Ecken\n",
    "\n",
    "h.mark_ecken"
   ]
  },
  {
   "cell_type": "code",
   "execution_count": 8,
   "metadata": {
    "collapsed": false
   },
   "outputs": [],
   "source": [
    "# Markieren der Kanten\n",
    "\n",
    "h.mark_kanten"
   ]
  },
  {
   "cell_type": "code",
   "execution_count": 9,
   "metadata": {
    "collapsed": false
   },
   "outputs": [],
   "source": [
    "# Markieren der Seiten\n",
    "\n",
    "h.mark_seiten"
   ]
  },
  {
   "cell_type": "code",
   "execution_count": null,
   "metadata": {
    "collapsed": false
   },
   "outputs": [],
   "source": []
  }
 ],
 "metadata": {
  "anaconda-cloud": {},
  "kernelspec": {
   "display_name": "Python [default]",
   "language": "python",
   "name": "python3"
  },
  "language_info": {
   "codemirror_mode": {
    "name": "ipython",
    "version": 3
   },
   "file_extension": ".py",
   "mimetype": "text/x-python",
   "name": "python",
   "nbconvert_exporter": "python",
   "pygments_lexer": "ipython3",
   "version": "3.5.2"
  }
 },
 "nbformat": 4,
 "nbformat_minor": 0
}
