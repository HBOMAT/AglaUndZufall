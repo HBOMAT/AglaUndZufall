{
 "cells": [
  {
   "cell_type": "markdown",
   "metadata": {},
   "source": [
    "# Materialien zu <i>agla</i>\n",
    "\n",
    "Autor: Holger Böttcher - hbomat@posteo.de\n",
    "\n",
    "## Archimedische Körper"
   ]
  },
  {
   "cell_type": "markdown",
   "metadata": {},
   "source": [
    "### Hexaederstumpf    "
   ]
  },
  {
   "cell_type": "markdown",
   "metadata": {},
   "source": [
    "(Würfelstumpf)\n",
    "\n",
    "Flächenfolge in einer Ecke  (3, 8, 8) ) \n",
    "<br><br>"
   ]
  },
  {
   "cell_type": "code",
   "execution_count": 1,
   "metadata": {
    "collapsed": false
   },
   "outputs": [],
   "source": [
    "%run agla/start"
   ]
  },
  {
   "cell_type": "code",
   "execution_count": 2,
   "metadata": {
    "collapsed": false
   },
   "outputs": [],
   "source": [
    "# Die Koordinaten der Eckpunkte sind näherungsweise definiert\n",
    "\n",
    "# Erzeugung des Körpers über seine Seitenflächen\n",
    "\n",
    "UMG.SIMPL = False\n",
    "\n",
    "p0=v(0,0,0.6773065)\n",
    "p1=v(0.36540985,0,0.57028075)\n",
    "p2=v(-0.31189665,0.19038045,0.57028075)\n",
    "p3=v(0.16703115,-0.325,0.57028075)\n",
    "p4=v(0.57028075,0.19038045,0.31189665)\n",
    "p5=v(-0.5859542,0.13461955,0.31189665)\n",
    "p6=v(-0.38757615,0.45961955,0.31189665)\n",
    "p7=v(0.0913523,-0.5942391,0.31189665)\n",
    "p8=v(0.661635,0.13461955,-0.05351307)\n",
    "p9=v(0.4946019,0.45961955,0.05351307)\n",
    "p10=v(-0.661635,-0.13461955,0.05351307)\n",
    "p11=v(-0.18270525,0.65,0.05351307)\n",
    "p12=v(-0.18270525,-0.65,0.05351307)\n",
    "p13=v(0.18270525,-0.65,-0.05351307)\n",
    "p14=v(0.5859542,-0.13461955,-0.31189665)\n",
    "p15=v(0.18270525,0.65,-0.05351307)\n",
    "p16=v(-0.4946019,-0.45961955,-0.05351307)\n",
    "p17=v(-0.57028075,-0.19038045,-0.31189665)\n",
    "p18=v(-0.0913523,0.5942391,-0.31189665)\n",
    "p19=v(0.38757615,-0.45961955,-0.31189665)\n",
    "p20=v(0.31189665,-0.19038045,-0.57028075)\n",
    "p21=v(-0.36540985,0,-0.57028075)\n",
    "p22=v(-0.16703115,0.325,-0.57028075)\n",
    "p23=v(0,0,-0.6773065)\n",
    "\n",
    "dreiecke = [\n",
    "Koerper(p0, p3, p1,p0),\n",
    "Koerper(p2, p6, p5,p2),\n",
    "Koerper(p4, p8, p9,p4),\n",
    "Koerper(p7, p12,p13,p7),\n",
    "Koerper(p10,p17,p16,p10),\n",
    "Koerper(p11,p15,p18,p11),\n",
    "Koerper(p14,p19,p20,p14),\n",
    "Koerper(p21,p22,p23,p21)\n",
    "] \n",
    "\n",
    "achtecke = [\n",
    "Koerper(p0, p1, p4, p9, p15,p11,p6, p2, p0),\n",
    "Koerper(p0, p2, p5, p10,p16,p12,p7, p3,p0),\n",
    "Koerper(p1, p3, p7, p13,p19,p14,p8, p4,p1),\n",
    "Koerper(p5, p6, p11,p18,p22,p21,p17,p10,p5),\n",
    "Koerper(p8, p14,p20,p23,p22,p18,p15,p9,p8),\n",
    "Koerper(p12,p16,p17,p21,p23,p20,p19,p13,p12)\n",
    "] \n",
    "\n",
    "seiten_liste = [dreiecke[i] for i in range(len(dreiecke))] + [achtecke[i] for i in range(len(achtecke))]   "
   ]
  },
  {
   "cell_type": "code",
   "execution_count": 3,
   "metadata": {
    "collapsed": false
   },
   "outputs": [],
   "source": [
    "K = Körper(*seiten_liste, seiten=True)   "
   ]
  },
  {
   "cell_type": "code",
   "execution_count": 4,
   "metadata": {
    "collapsed": false
   },
   "outputs": [],
   "source": [
    "sicht_box(-1.2, 1.2)\n",
    "zeichne(K)"
   ]
  },
  {
   "cell_type": "code",
   "execution_count": 5,
   "metadata": {
    "collapsed": false
   },
   "outputs": [],
   "source": [
    "KS = K.seiten"
   ]
  },
  {
   "cell_type": "code",
   "execution_count": 6,
   "metadata": {
    "collapsed": false
   },
   "outputs": [],
   "source": [
    "K1  = Körper(*[KS[i] for i in range(len(KS)) if KS[i].anz_ecken == 3], seiten=True)   \n",
    "K2  = Körper(*[KS[i] for i in range(len(KS)) if KS[i].anz_ecken > 3], seiten=True)               "
   ]
  },
  {
   "cell_type": "code",
   "execution_count": 7,
   "metadata": {
    "collapsed": false
   },
   "outputs": [],
   "source": [
    "sicht_box(-2, 2)\n",
    "zeichne([K1, gelb, 'fuell=ja'], [K2, gruen, 'fuell=ja'], K, achsen=False, box=False)"
   ]
  },
  {
   "cell_type": "code",
   "execution_count": null,
   "metadata": {
    "collapsed": false
   },
   "outputs": [],
   "source": []
  }
 ],
 "metadata": {
  "anaconda-cloud": {},
  "kernelspec": {
   "display_name": "Python [default]",
   "language": "python",
   "name": "python3"
  },
  "language_info": {
   "codemirror_mode": {
    "name": "ipython",
    "version": 3
   },
   "file_extension": ".py",
   "mimetype": "text/x-python",
   "name": "python",
   "nbconvert_exporter": "python",
   "pygments_lexer": "ipython3",
   "version": "3.5.2"
  }
 },
 "nbformat": 4,
 "nbformat_minor": 0
}
