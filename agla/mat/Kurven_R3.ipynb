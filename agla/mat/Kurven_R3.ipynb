{
 "cells": [
  {
   "cell_type": "markdown",
   "metadata": {},
   "source": [
    "# Materialien zu <i>agla</i>\n",
    "\n",
    "Autor: Holger Böttcher - hbomat@posteo.de\n",
    "\n",
    "## Beispiele zu Raumkurven \n",
    "<br><br>"
   ]
  },
  {
   "cell_type": "code",
   "execution_count": 1,
   "metadata": {
    "collapsed": false
   },
   "outputs": [],
   "source": [
    "%run agla/start"
   ]
  },
  {
   "cell_type": "markdown",
   "metadata": {},
   "source": [
    "<br>\n",
    "### Raumparabel"
   ]
  },
  {
   "cell_type": "code",
   "execution_count": 2,
   "metadata": {
    "collapsed": false
   },
   "outputs": [
    {
     "data": {
      "text/latex": [
       "$$\\left(\\begin{matrix}x\\\\y\\\\z\\end{matrix}\\right)=\\left(\\begin{matrix}t\\\\t^{2}\\\\t^{3}\\end{matrix}\\right)$$"
      ],
      "text/plain": [
       "Vektorschar([x, z, y]) = Vektorschar([t])"
      ]
     },
     "execution_count": 2,
     "metadata": {},
     "output_type": "execute_result"
    }
   ],
   "source": [
    "rp = Kurve(v(t, t^2, t^3), (t, -2.3, 2.3))\n",
    "rp.prg"
   ]
  },
  {
   "cell_type": "code",
   "execution_count": 3,
   "metadata": {
    "collapsed": false
   },
   "outputs": [],
   "source": [
    "zeichne([rp, rot, 'radius=0.08'])"
   ]
  },
  {
   "cell_type": "code",
   "execution_count": 4,
   "metadata": {
    "collapsed": false
   },
   "outputs": [],
   "source": [
    "p1 = rp.proj(Ebene(0, 0, 1, 10))\n",
    "p2 = rp.proj(Ebene(1, 0, 0, 10))\n",
    "p3 = rp.proj(Ebene(0, 1, 0, 10))\n",
    "\n",
    "zeichne([rp, 2], [p1, rot, 2], [p2, grün, 2], [p3, blau, 2])"
   ]
  },
  {
   "cell_type": "code",
   "execution_count": 5,
   "metadata": {
    "collapsed": false
   },
   "outputs": [],
   "source": [
    "k = Kugel(rp.pkt(t), 0.4)"
   ]
  },
  {
   "cell_type": "code",
   "execution_count": 6,
   "metadata": {
    "collapsed": false
   },
   "outputs": [],
   "source": [
    "zeichne(rp, [k, rot, (t, -2.3, 2.3)])    # Bewegung der Kugel entlang der Raumparabel"
   ]
  },
  {
   "cell_type": "code",
   "execution_count": 7,
   "metadata": {
    "collapsed": false
   },
   "outputs": [
    {
     "data": {
      "text/latex": [
       "$$\\left ( 2 \\sqrt{\\frac{9 t^{4} + 9 t^{2} + 1}{729 t^{12} + 972 t^{10} + 675 t^{8} + 280 t^{6} + 75 t^{4} + 12 t^{2} + 1}}, \\quad \\frac{3}{9 t^{4} + 9 t^{2} + 1}\\right )$$"
      ],
      "text/plain": [
       "⎛        _________________________________________________________            \n",
       "⎜       ╱                        4      2                                     \n",
       "⎜      ╱                      9⋅t  + 9⋅t  + 1                              3  \n",
       "⎜2⋅   ╱   ─────────────────────────────────────────────────────── , ──────────\n",
       "⎜    ╱         12        10        8        6       4       2          4      \n",
       "⎝  ╲╱     729⋅t   + 972⋅t   + 675⋅t  + 280⋅t  + 75⋅t  + 12⋅t  + 1   9⋅t  + 9⋅t\n",
       "\n",
       "     ⎞\n",
       "     ⎟\n",
       "     ⎟\n",
       "─────⎟\n",
       "2    ⎟\n",
       "  + 1⎠"
      ]
     },
     "execution_count": 7,
     "metadata": {},
     "output_type": "execute_result"
    }
   ],
   "source": [
    "rp.krümm(), rp.wind()"
   ]
  },
  {
   "cell_type": "code",
   "execution_count": 8,
   "metadata": {
    "collapsed": false
   },
   "outputs": [
    {
     "data": {
      "text/latex": [
       "$$\\left ( 2, \\quad 3\\right )$$"
      ],
      "text/plain": [
       "(2, 3)"
      ]
     },
     "execution_count": 8,
     "metadata": {},
     "output_type": "execute_result"
    }
   ],
   "source": [
    "rp.krümm(0), rp.wind(0)"
   ]
  },
  {
   "cell_type": "code",
   "execution_count": 9,
   "metadata": {
    "collapsed": true
   },
   "outputs": [],
   "source": [
    "kk = rp.kr_kreis(t)   # der allgewmeine Krümmungskreis"
   ]
  },
  {
   "cell_type": "code",
   "execution_count": 10,
   "metadata": {
    "collapsed": false
   },
   "outputs": [
    {
     "name": "stdout",
     "output_type": "stream",
     "text": [
      "agla: lange Rechenzeiten\n"
     ]
    }
   ],
   "source": [
    "zeichne(rp, [kk, grün, 2, (-0.95, 1.2)])     # Animation"
   ]
  },
  {
   "cell_type": "markdown",
   "metadata": {
    "collapsed": false
   },
   "source": [
    "<br>\n",
    "### Ellipse im Raum"
   ]
  },
  {
   "cell_type": "code",
   "execution_count": 11,
   "metadata": {
    "collapsed": false
   },
   "outputs": [],
   "source": [
    "ellipse = e = Kurve(v(cos(t)+sin(t), 2*cos(t)-sin(t), \n",
    "                    2*cos(t)+1/2*sin(t)), (t, 0, 2*pi))"
   ]
  },
  {
   "cell_type": "code",
   "execution_count": 12,
   "metadata": {
    "collapsed": false
   },
   "outputs": [],
   "source": [
    "sicht_box(-3, 3)\n",
    "zeichne([e, grün, 2])"
   ]
  },
  {
   "cell_type": "code",
   "execution_count": 13,
   "metadata": {
    "collapsed": false
   },
   "outputs": [],
   "source": [
    "e1 = e.bild(drehx(30))      # Drehung um 30°\n",
    "zeichne([e, grün], [e1, rot, 2])"
   ]
  },
  {
   "cell_type": "code",
   "execution_count": 14,
   "metadata": {
    "collapsed": false
   },
   "outputs": [
    {
     "data": {
      "text/plain": [
       "(True, True)"
      ]
     },
     "execution_count": 14,
     "metadata": {},
     "output_type": "execute_result"
    }
   ],
   "source": [
    "e.is_eben, e1.is_eben"
   ]
  },
  {
   "cell_type": "code",
   "execution_count": 15,
   "metadata": {
    "collapsed": false
   },
   "outputs": [],
   "source": [
    "sicht_box(-10, 10)\n",
    "A = e.pkt(0); B = e.pkt(pi/2); C = e.pkt(pi)\n",
    "ee = Ebene(A, v(A,  B), v(A, C))\n",
    "\n",
    "zeichne([e.bild(streckung(O, 3)), grün, 2], [ee, gelb])"
   ]
  },
  {
   "cell_type": "markdown",
   "metadata": {},
   "source": [
    "<br>\n",
    "### Helix, Schraubenkurve"
   ]
  },
  {
   "cell_type": "code",
   "execution_count": 16,
   "metadata": {
    "collapsed": false
   },
   "outputs": [],
   "source": [
    "helix = lambda a, b, ber: Kurve(v(a*cos(t), a*sin(t), b*t), (t, ber[0], ber[1]))"
   ]
  },
  {
   "cell_type": "code",
   "execution_count": 17,
   "metadata": {
    "collapsed": false
   },
   "outputs": [],
   "source": [
    "h1 = helix(4, 0.5, (-4*pi, 4*pi) )"
   ]
  },
  {
   "cell_type": "code",
   "execution_count": 18,
   "metadata": {
    "collapsed": true
   },
   "outputs": [],
   "source": [
    "zeichne(h1, box=nein)"
   ]
  },
  {
   "cell_type": "code",
   "execution_count": 19,
   "metadata": {
    "collapsed": true
   },
   "outputs": [],
   "source": [
    "h2 = h1.bild(spiegelung(xz_ebene))"
   ]
  },
  {
   "cell_type": "code",
   "execution_count": 20,
   "metadata": {
    "collapsed": true
   },
   "outputs": [],
   "source": [
    "zeichne(h1, h2, box=nein)"
   ]
  },
  {
   "cell_type": "markdown",
   "metadata": {},
   "source": [
    "<br>\n",
    "### Schneckenkurve (Konische Spirale)"
   ]
  },
  {
   "cell_type": "code",
   "execution_count": 21,
   "metadata": {
    "collapsed": false
   },
   "outputs": [],
   "source": [
    "archimedische_spirale = asp = lambda a, b, c, ber:  \\\n",
    "   Kurve(v(a*t*cos(b*t), a*t*sin(b*t), c*t), (t, ber[0], ber[1]))"
   ]
  },
  {
   "cell_type": "code",
   "execution_count": 22,
   "metadata": {
    "collapsed": false
   },
   "outputs": [
    {
     "data": {
      "text/latex": [
       "$$\\left(\\begin{matrix}x\\\\y\\\\z\\end{matrix}\\right)=\\left(\\begin{matrix}t \\cos{\\left (t \\right )}\\\\t \\sin{\\left (t \\right )}\\\\\\frac{2 t}{3}\\end{matrix}\\right)$$"
      ],
      "text/plain": [
       "Vektorschar([x, z, y]) = Vektorschar([t])"
      ]
     },
     "execution_count": 22,
     "metadata": {},
     "output_type": "execute_result"
    }
   ],
   "source": [
    "sp1 = asp(1, 1, Rational(2, 3), (0, 15*pi))\n",
    "sp1.prg"
   ]
  },
  {
   "cell_type": "code",
   "execution_count": 23,
   "metadata": {
    "collapsed": false
   },
   "outputs": [],
   "source": [
    "sp11 = sp1.proj(xy_ebene)\n",
    "zeichne([sp11, 'fein=300'], box=nein)"
   ]
  },
  {
   "cell_type": "code",
   "execution_count": 24,
   "metadata": {
    "collapsed": false
   },
   "outputs": [],
   "source": [
    "sicht_box(-50, 50)\n",
    "zeichne([sp1, 'fein=300'], box=nein)   # Verfeinerung"
   ]
  },
  {
   "cell_type": "code",
   "execution_count": 25,
   "metadata": {
    "collapsed": false
   },
   "outputs": [],
   "source": [
    "logarithmische_spirale = lsp = lambda a, b, c, d, ber:  \\\n",
    "   Kurve(v(a*cos(b*t)*exp(c*t), a*sin(b*t)*exp(c*t), d*t), (t, ber[0], ber[1]))"
   ]
  },
  {
   "cell_type": "code",
   "execution_count": 26,
   "metadata": {
    "collapsed": false
   },
   "outputs": [
    {
     "data": {
      "text/latex": [
       "$$\\left(\\begin{matrix}x\\\\y\\\\z\\end{matrix}\\right)=\\left(\\begin{matrix}e^{t} \\cos{\\left (6 t \\right )}\\\\e^{t} \\sin{\\left (6 t \\right )}\\\\5 t\\end{matrix}\\right)$$"
      ],
      "text/plain": [
       "Vektorschar([x, z, y]) = Vektorschar([t])"
      ]
     },
     "execution_count": 26,
     "metadata": {},
     "output_type": "execute_result"
    }
   ],
   "source": [
    "sp2 = lsp(1, 6, 1, 5, (0, 3/2*pi))\n",
    "sp2.prg"
   ]
  },
  {
   "cell_type": "code",
   "execution_count": 27,
   "metadata": {
    "collapsed": false
   },
   "outputs": [],
   "source": [
    "sicht_box(-100, 100)\n",
    "zeichne([sp2, 'fein=300'], box=nein)"
   ]
  },
  {
   "cell_type": "code",
   "execution_count": 28,
   "metadata": {
    "collapsed": false
   },
   "outputs": [],
   "source": [
    "sp21 = sp2.proj(xy_ebene)\n",
    "zeichne([sp21, 'fein=300'])"
   ]
  },
  {
   "cell_type": "markdown",
   "metadata": {},
   "source": [
    "<br>\n",
    "### Vivianikurve"
   ]
  },
  {
   "cell_type": "code",
   "execution_count": 29,
   "metadata": {
    "collapsed": false
   },
   "outputs": [],
   "source": [
    "S = Sphäre(O, a)"
   ]
  },
  {
   "cell_type": "code",
   "execution_count": 30,
   "metadata": {
    "collapsed": true
   },
   "outputs": [],
   "source": [
    "viviani_kurve = vk = S.kurve(t, t, (t, 0, 2*pi))"
   ]
  },
  {
   "cell_type": "code",
   "execution_count": 31,
   "metadata": {
    "collapsed": false
   },
   "outputs": [],
   "source": [
    "vk1 = vk.sch_el(1)"
   ]
  },
  {
   "cell_type": "code",
   "execution_count": 32,
   "metadata": {
    "collapsed": false
   },
   "outputs": [],
   "source": [
    "sicht_box(-2, 2)\n",
    "zeichne([S.sch_el(1), gelb], vk1)"
   ]
  },
  {
   "cell_type": "code",
   "execution_count": 33,
   "metadata": {
    "collapsed": true
   },
   "outputs": [],
   "source": [
    "# Eine andere Parametrisierung\n",
    "\n",
    "vk2 = Kurve( 1/2 * v(1+cos(t), sin(t), 2*sin(t/2)), (t, -2*pi, 2*pi))"
   ]
  },
  {
   "cell_type": "code",
   "execution_count": 34,
   "metadata": {
    "collapsed": false
   },
   "outputs": [],
   "source": [
    "zeichne([vk1, 3, rot], [vk2, gelb, 2])"
   ]
  },
  {
   "cell_type": "markdown",
   "metadata": {},
   "source": [
    "Die Kurve entsteht bei der Durchdringung eines Zylinders mit dem Radius $a$ und einer <br>\n",
    "Kugel mit dem Radius $2a$. Der Zylinder ist dabei um den Wert $a$ entlang der $x$-Achse <br>verschoben\n",
    "\n",
    "$(x-a)^2+y^2=a^2\\qquad$ Zylinder<br>\n",
    "$x^2+y^2+z^2=4a^2\\qquad$ Kugel"
   ]
  },
  {
   "cell_type": "code",
   "execution_count": 35,
   "metadata": {
    "collapsed": false
   },
   "outputs": [],
   "source": [
    "K, k = S.sch_el(8), vk.sch_el(8)\n",
    "Z = Fläche(v(4*cos(u)+4, 4*sin(u), w), (u, 0, 2*pi), (w, -10, 10))"
   ]
  },
  {
   "cell_type": "code",
   "execution_count": 36,
   "metadata": {
    "collapsed": false
   },
   "outputs": [],
   "source": [
    "zeichne([K, 'lightgrey'], [Z, 'lightgrey'], [k, rot, 2])"
   ]
  },
  {
   "cell_type": "markdown",
   "metadata": {},
   "source": [
    "<br>\n",
    "### Loxodrome"
   ]
  },
  {
   "cell_type": "code",
   "execution_count": 37,
   "metadata": {
    "collapsed": false
   },
   "outputs": [],
   "source": [
    "loxodrome = lambda a, b: Kurve(v(a*cos(t)/cosh(b*t), a*sin(t)/cosh(b*t), \n",
    "                                                   a*tanh(b*t)), (t, -50, 50))"
   ]
  },
  {
   "cell_type": "code",
   "execution_count": 38,
   "metadata": {
    "collapsed": false
   },
   "outputs": [],
   "source": [
    "lo = loxodrome(8, 0.2)    \n",
    "\n",
    "zeichne([S.sch_el(8-1/100), 'lightgrey'], [lo, rot, 'fein=800'])\n",
    "\n",
    "# Verringerung des Kugelradius zur besseren Darstellung"
   ]
  },
  {
   "cell_type": "markdown",
   "metadata": {},
   "source": [
    "<br>\n",
    "### Tennisballkurve\n",
    "\n",
    "https://mathematikalpha.de/wp-content/uploads/2017/01/18-Kurven.pdf"
   ]
  },
  {
   "cell_type": "code",
   "execution_count": 39,
   "metadata": {
    "collapsed": true
   },
   "outputs": [],
   "source": [
    "a = 4\n",
    "b = 2\n",
    "\n",
    "r = a + b\n",
    "K = Kugel(O, r)\n",
    "\n",
    "xk = a*cos(t) + b*cos(3*t)\n",
    "yk = a*sin(t) - b*sin(3*t)\n",
    "zk = 2*sqrt(a*b) * sin(2*t)   # in der Quelle fehlerhaft\n",
    "\n",
    "tennisball_kurve = tb = lambda a, b: Kurve(v(xk, yk, zk), (t, 0, 2*pi))\n"
   ]
  },
  {
   "cell_type": "code",
   "execution_count": 40,
   "metadata": {
    "collapsed": false
   },
   "outputs": [],
   "source": [
    "tb1 = tb(a, b)\n",
    "\n",
    "zeichne([K, gelb], [tb1, 3, grün], achsen=nein, box=nein)"
   ]
  },
  {
   "cell_type": "markdown",
   "metadata": {},
   "source": [
    "<br>\n",
    "### Cielia\n",
    "\n",
    "https://mathematikalpha.de/wp-content/uploads/2017/01/18-Kurven.pdf"
   ]
  },
  {
   "cell_type": "code",
   "execution_count": 41,
   "metadata": {
    "collapsed": false
   },
   "outputs": [],
   "source": [
    "R = 1\n",
    "K = Kugel(O, R)\n",
    "\n",
    "celia = lambda n, m: Kurve( R * v(cos(n*t) * cos(t), \n",
    "                                  cos(n*t) * sin(t), \n",
    "                                  sin(n*t)), \n",
    "                           (t, 0, m*pi))\n"
   ]
  },
  {
   "cell_type": "code",
   "execution_count": 42,
   "metadata": {
    "collapsed": true
   },
   "outputs": [],
   "source": [
    "ce1 = celia(Rational(5, 4), 9)"
   ]
  },
  {
   "cell_type": "code",
   "execution_count": 43,
   "metadata": {
    "collapsed": true
   },
   "outputs": [],
   "source": [
    "zeichne([K, 'lightgrey'], [ce1, rot, 2, 'fein=500'], achsen=nein, box=nein )"
   ]
  },
  {
   "cell_type": "markdown",
   "metadata": {},
   "source": [
    "<br>\n",
    "### Kurven auf dem Torus"
   ]
  },
  {
   "cell_type": "code",
   "execution_count": 44,
   "metadata": {
    "collapsed": false
   },
   "outputs": [],
   "source": [
    "F = lambda a, b: v( (b+a*cos(w))*cos(u), (b+a*cos(w))*sin(u), a*sin(w) )\n",
    "\n",
    "torus = Fläche(F(1, 3), (u, 0, 2*pi), (w, 0, 2*pi))"
   ]
  },
  {
   "cell_type": "code",
   "execution_count": 45,
   "metadata": {
    "collapsed": true
   },
   "outputs": [],
   "source": [
    "tk = torus.kurve(t, 4*t, (t, 0, 2*pi))"
   ]
  },
  {
   "cell_type": "code",
   "execution_count": 46,
   "metadata": {
    "collapsed": true
   },
   "outputs": [],
   "source": [
    "zeichne([torus, 'lightgrey'], [tk, rot, 2], achsen=nein, box=nein)"
   ]
  },
  {
   "cell_type": "code",
   "execution_count": 47,
   "metadata": {
    "collapsed": false
   },
   "outputs": [],
   "source": [
    "zeichne([tk.proj(xy_ebene), rot, 2], achsen=nein, box=nein)"
   ]
  },
  {
   "cell_type": "markdown",
   "metadata": {},
   "source": [
    "<br>\n",
    "### Kleeblattschlinge (einfachster Knoten)"
   ]
  },
  {
   "cell_type": "code",
   "execution_count": 48,
   "metadata": {
    "collapsed": false
   },
   "outputs": [],
   "source": [
    "torus1 = Fläche(F(2, 8), (u, 0, 2*pi), (w, 0, 2*pi))"
   ]
  },
  {
   "cell_type": "code",
   "execution_count": 49,
   "metadata": {
    "collapsed": false
   },
   "outputs": [
    {
     "data": {
      "text/latex": [
       "$$\\left(\\begin{matrix}x\\\\y\\\\z\\end{matrix}\\right)=\\left(\\begin{matrix}2 \\left(\\cos{\\left (3 t \\right )} + 4\\right) \\cos{\\left (2 t \\right )}\\\\2 \\left(\\cos{\\left (3 t \\right )} + 4\\right) \\sin{\\left (2 t \\right )}\\\\2 \\sin{\\left (3 t \\right )}\\end{matrix}\\right)$$"
      ],
      "text/plain": [
       "Vektorschar([x, z, y]) = Vektorschar([t])"
      ]
     },
     "execution_count": 49,
     "metadata": {},
     "output_type": "execute_result"
    }
   ],
   "source": [
    "tk1 = torus1.kurve(2*t, 3*t, (t, 0, 2*pi))\n",
    "tk1.prg"
   ]
  },
  {
   "cell_type": "code",
   "execution_count": 50,
   "metadata": {
    "collapsed": true
   },
   "outputs": [],
   "source": [
    "sicht_box(-12, 12)\n",
    "zeichne([tk1, rot, 2])"
   ]
  },
  {
   "cell_type": "code",
   "execution_count": 51,
   "metadata": {
    "collapsed": false
   },
   "outputs": [
    {
     "data": {
      "image/png": "[encoded data removed]",
      "text/plain": [
       "<matplotlib.figure.Figure at 0x15a21db0>"
      ]
     },
     "metadata": {},
     "output_type": "display_data"
    }
   ],
   "source": [
    "p = tk1.pkt()\n",
    "p2 = v(p.x, p.y)   # Übergang zur Projektion in 2D\n",
    "\n",
    "pr = Kurve(p2, (t, 0, 2*pi))\n",
    "\n",
    "d = 0.02\n",
    "zeichne(pr.stück(0, pi/2-d), pr.stück(pi/2+d, 7/6*pi-d), pr.stück(7/6*pi+d, 11/6*pi-d), \n",
    "       pr.stück(11/6*pi+d, 2*pi), achsen=nein)"
   ]
  },
  {
   "cell_type": "markdown",
   "metadata": {},
   "source": [
    "### Anderer Torusknoten\n",
    "\n",
    "https://mathematikalpha.de/wp-content/uploads/2017/01/18-Kurven.pdf"
   ]
  },
  {
   "cell_type": "code",
   "execution_count": 52,
   "metadata": {
    "collapsed": false
   },
   "outputs": [
    {
     "data": {
      "text/latex": [
       "$$\\left(\\begin{matrix}x\\\\y\\\\z\\end{matrix}\\right)=\\left(\\begin{matrix}2 \\left(\\cos{\\left (9 t \\right )} + 4\\right) \\cos{\\left (4 t \\right )}\\\\2 \\left(\\cos{\\left (9 t \\right )} + 4\\right) \\sin{\\left (4 t \\right )}\\\\2 \\sin{\\left (9 t \\right )}\\end{matrix}\\right)$$"
      ],
      "text/plain": [
       "Vektorschar([x, z, y]) = Vektorschar([t])"
      ]
     },
     "execution_count": 52,
     "metadata": {},
     "output_type": "execute_result"
    }
   ],
   "source": [
    "tk2 = torus1.kurve(4*t, 9*t, (t, 0, 2*pi))\n",
    "tk2.prg"
   ]
  },
  {
   "cell_type": "code",
   "execution_count": 53,
   "metadata": {
    "collapsed": true
   },
   "outputs": [],
   "source": [
    "zeichne([torus1, 'lightgrey'], [tk2, rot, 'radius=0.2'], achsen=nein, box=nein)"
   ]
  },
  {
   "cell_type": "code",
   "execution_count": null,
   "metadata": {
    "collapsed": true
   },
   "outputs": [],
   "source": []
  }
 ],
 "metadata": {
  "anaconda-cloud": {},
  "kernelspec": {
   "display_name": "Python [default]",
   "language": "python",
   "name": "python3"
  },
  "language_info": {
   "codemirror_mode": {
    "name": "ipython",
    "version": 3
   },
   "file_extension": ".py",
   "mimetype": "text/x-python",
   "name": "python",
   "nbconvert_exporter": "python",
   "pygments_lexer": "ipython3",
   "version": "3.5.2"
  }
 },
 "nbformat": 4,
 "nbformat_minor": 0
}
