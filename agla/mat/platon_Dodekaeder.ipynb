{
 "cells": [
  {
   "cell_type": "markdown",
   "metadata": {},
   "source": [
    "# Materialien zu <i>agla</i>\n",
    "\n",
    "Autor: Holger Böttcher - hbomat@posteo.de\n",
    "\n",
    "## Platonische Körper "
   ]
  },
  {
   "cell_type": "markdown",
   "metadata": {},
   "source": [
    "### Dodekaeder"
   ]
  },
  {
   "cell_type": "code",
   "execution_count": 1,
   "metadata": {
    "collapsed": false
   },
   "outputs": [],
   "source": [
    "%run agla/start"
   ]
  },
  {
   "cell_type": "code",
   "execution_count": 2,
   "metadata": {
    "collapsed": false
   },
   "outputs": [],
   "source": [
    "# Erzeugung über die Seitenliste; die Ecken sind exakt definiert\n",
    "\n",
    "p1 = v(1,1,1); p2 = v(-1,1,1); p3 = v(-1,-1,1); p4 = v(1,-1,1) \n",
    "p5 = v(1,1,-1); p6 = v(-1,1,-1); p7 = v(-1,-1,-1); p8 = v(1,-1,-1)\n",
    "a = Rational(1, 2)*(sqrt(5)-1)\n",
    "p9 = v(a,1+a,0); p10 = v(-a,1+a,0); p11 = v(0,a,1+a); p12 = v(0,-a,1+a) \n",
    "p13 = v(1+a,0,-a); p14 = v(1+a,0,a); p15 = v(-(1+a),0,a); p16 = v(-(1+a),0,-a)\n",
    "p17 = v(-a,-(1+a),0); p18 = v(a,-(1+a),0); p19 = v(0,a,-(1+a)); p20 = v(0,-a,-(1+a))  \n",
    "\n",
    "seiten_liste = [ Koerper(p1, p14, p13, p5, p9, p1),   \n",
    "                 Koerper(p1, p9, p10, p2, p11, p1),\n",
    "                 Koerper(p1, p11, p12, p4, p14, p1),\n",
    "                 Koerper(p15, p3, p12, p11, p2, p15),\n",
    "                 Koerper(p15, p2,p10, p6, p16, p15),\n",
    "                 Koerper(p15, p16, p7, p17, p3, p15),\n",
    "                 Koerper(p3, p12, p4, p18, p17, p3),               \n",
    "                 Koerper(p13,p14, p4, p18, p8, p13),\n",
    "                 Koerper(p17, p7, p20, p8, p18, p17),\n",
    "                 Koerper(p20, p19, p6, p16, p7, p20),\n",
    "                 Koerper(p19, p6, p10, p9, p5, p19),\n",
    "                 Koerper(p19, p5, p13, p8, p20, p19) ]\n",
    "Dodekaeder = Koerper(*seiten_liste, seiten=True)\n"
   ]
  },
  {
   "cell_type": "code",
   "execution_count": 3,
   "metadata": {
    "collapsed": false
   },
   "outputs": [
    {
     "data": {
      "text/plain": [
       "agla.lib.objekte.koerper.Koerper"
      ]
     },
     "execution_count": 3,
     "metadata": {},
     "output_type": "execute_result"
    }
   ],
   "source": [
    "type(Dodekaeder)"
   ]
  },
  {
   "cell_type": "code",
   "execution_count": 4,
   "metadata": {
    "collapsed": false
   },
   "outputs": [],
   "source": [
    "sicht_box(-2, 2)\n",
    "\n",
    "zeichne(Dodekaeder)\n",
    "\n",
    "#zeichne([Dodekaeder, rot, 'fuell=ja'], skalen=nein)\n",
    "        \n",
    "#zeichne([Dodekaeder, rot, 'fuell=ja'], Dodekaeder, achsen=nein, box=nein)"
   ]
  },
  {
   "cell_type": "code",
   "execution_count": 5,
   "metadata": {
    "collapsed": false
   },
   "outputs": [
    {
     "data": {
      "text/latex": [
       "$$\\left ( 20, \\quad 30, \\quad 12\\right )$$"
      ],
      "text/plain": [
       "(20, 30, 12)"
      ]
     },
     "execution_count": 5,
     "metadata": {},
     "output_type": "execute_result"
    }
   ],
   "source": [
    "Dodekaeder.anz_ecken,  Dodekaeder.anz_kanten,  Dodekaeder.anz_seiten"
   ]
  },
  {
   "cell_type": "code",
   "execution_count": 6,
   "metadata": {
    "collapsed": false
   },
   "outputs": [
    {
     "data": {
      "text/latex": [
       "$$2$$"
      ],
      "text/plain": [
       "2"
      ]
     },
     "execution_count": 6,
     "metadata": {},
     "output_type": "execute_result"
    }
   ],
   "source": [
    "# Eulersche Polyederformel:      #Ecken - #Kanten + #Seiten = 2\n",
    "\n",
    "Dodekaeder.anz_ecken - Dodekaeder.anz_kanten + Dodekaeder.anz_seiten"
   ]
  },
  {
   "cell_type": "code",
   "execution_count": 7,
   "metadata": {
    "collapsed": false
   },
   "outputs": [],
   "source": [
    "# Einfärbung der Seiten\n",
    "\n",
    "DS = Dodekaeder.seiten\n",
    "D1 = Koerper(*[DS[i] for i in range(6)], seiten=ja)\n",
    "D2 = Koerper(*[DS[i] for i in range(6, 12)], seiten=ja)\n",
    "\n",
    "zeichne([D1, rot, 'fuell=ja'], [D2, gelb, 'fuell=ja'], Dodekaeder, achsen=nein, box=nein)"
   ]
  },
  {
   "cell_type": "code",
   "execution_count": 8,
   "metadata": {
    "collapsed": false
   },
   "outputs": [],
   "source": [
    "# Markieren der Ecken\n",
    "\n",
    "Dodekaeder.mark_ecken"
   ]
  },
  {
   "cell_type": "code",
   "execution_count": 9,
   "metadata": {
    "collapsed": false
   },
   "outputs": [],
   "source": [
    "# Markieren der Kanten\n",
    "\n",
    "Dodekaeder.mark_kanten"
   ]
  },
  {
   "cell_type": "code",
   "execution_count": 10,
   "metadata": {
    "collapsed": false
   },
   "outputs": [],
   "source": [
    "# Markieren der Seiten\n",
    "\n",
    "Dodekaeder.mark_seiten"
   ]
  },
  {
   "cell_type": "code",
   "execution_count": null,
   "metadata": {
    "collapsed": false
   },
   "outputs": [],
   "source": []
  }
 ],
 "metadata": {
  "anaconda-cloud": {},
  "kernelspec": {
   "display_name": "Python [default]",
   "language": "python",
   "name": "python3"
  },
  "language_info": {
   "codemirror_mode": {
    "name": "ipython",
    "version": 3
   },
   "file_extension": ".py",
   "mimetype": "text/x-python",
   "name": "python",
   "nbconvert_exporter": "python",
   "pygments_lexer": "ipython3",
   "version": "3.5.2"
  }
 },
 "nbformat": 4,
 "nbformat_minor": 0
}
