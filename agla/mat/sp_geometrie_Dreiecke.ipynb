{
 "cells": [
  {
   "cell_type": "markdown",
   "metadata": {},
   "source": [
    "# Materialien zu <i>agla</i>\n",
    "\n",
    "Autor: Holger Böttcher - hbomat@posteo.de\n",
    "\n",
    "## Sphärische Geometrie "
   ]
  },
  {
   "cell_type": "markdown",
   "metadata": {},
   "source": [
    "## Dreiecke <br>\n",
    "\n",
    "<br>\n",
    "Inhalt\n",
    "<br>\n",
    "1. Berechnung von sphärischen Dreiecken\n",
    "\n",
    "2. Konstruktion von sphärischen Dreiecken\n",
    "\n",
    "3. Formeln der sphärischen Geometrie\n",
    "\n",
    "4. Ein Dreieck mit drei rechten Winkeln\n",
    "<br><br>"
   ]
  },
  {
   "cell_type": "markdown",
   "metadata": {},
   "source": [
    "\n",
    "### 1. Berechnung von sphärischen Dreiecken<br>\n",
    "### Verwendete Sätze \n",
    "\n",
    "<br>\n",
    "$\\qquad$Seitenkosinussatz $\\:\\:\\:\\:\\:\\:\\quad\\: \\cos a = \\cos b \\cdot \\cos c + \\sin b \\cdot \\sin c \\cdot \\cos \\alpha $\n",
    "<br>\n",
    "<br>\n",
    "$\\qquad$Winkelkosinussatz $\\:\\:\\:\\:\\:\\,\\quad\\: \\cos \\alpha = - \\cos \\beta\\ \\cdot \\cos\\gamma + \\sin \\beta \\cdot \\sin \\gamma \\cdot \\cos a\t$ \n",
    "<br><br>\n",
    "$\\qquad$Sinussatz$ \\:\\:\\:\\:\\:\\:\\:\\:\\:\\:\\:\\:\\:\\:\\:\\:\\:\\:\\:\\:\\quad\\: \\frac{\\sin a}{\\sin \\alpha} = \\frac{\\sin b}{\\sin \\beta} = \\frac{\\sin c}{sin \\gamma} $\n",
    "<br><br>\n",
    "$\\qquad$Halbseitensatz $ \\:\\:\\:\\:\\:\\:\\:\\:\\:\\:\\:\\:\\quad\\:\\tan \\frac{c} {2} = \\sqrt{\\frac{-\\cos s\\, \\cdot \\, \\cos (s-\\gamma)}{\\cos (s-\\alpha)\\, \\cdot \\, \\cos (s-\\beta)}}, \\:\\:\\:\\:\\:\n",
    "s = \\frac{\\alpha + \\beta + \\gamma}{2}$ \n",
    "<br><br>\n",
    "$\\qquad$Nepersche Analogien$\\quad\\:\\:\\: \\tan \\frac{\\alpha+\\beta}{2} = \\frac{\\cos \\frac{a-b}{2}}{\\cos \\frac{a+b}{2}} \\cot\\frac{\\gamma}{2}$ \n",
    "\n",
    "$\\qquad\\qquad\\qquad\\qquad\\qquad\\:\\:\\:\\,\\tan \\frac{\\alpha-\\beta}{2} = \\frac{\\sin \\frac{a-b}{2}}{\\sin \\frac{a+b}{2}} \\cot\\frac{\\gamma}{2}$\n",
    "\n",
    "$\\qquad\\qquad\\qquad\\qquad\\qquad\\:\\:\\:\\, \\tan \\frac{a+b}{2} = \\frac{\\cos \\frac{\\alpha-\\beta}{2}}{\\cos \\frac{\\alpha+\\beta}{2}} \\tan\\frac{c}{2}$ \n",
    "\n",
    "$\\qquad\\qquad\\qquad\\qquad\\qquad\\:\\:\\:\\,\\tan \\frac{a-b}{2} = \\frac{\\sin \\frac{\\alpha-\\beta}{2}}{\\sin \\frac{\\alpha+\\beta}{2}} \\tan\\frac{c}{2}$\n",
    "\n",
    "Weitere Sätze sind durch die zyklischen Vertauschungen $\\:\\: a \\rightarrow b \\rightarrow c \\rightarrow a\\:\\:$ und<br>\n",
    "$\\alpha \\rightarrow \\beta \\rightarrow \\gamma \\rightarrow \\alpha \\:\\:$ zu gewinnen\n",
    "<br><br>\n",
    "Die Seiten werden in Radian gemessen, die Maßeinheit für Winkel ist Grad, es werden <br>die entsprechenden <i>agla</i>-Funktionen benutzt<br>\n",
    "\n",
    "In den Code-Zellen werden die Bezeichnungen  $wia = \\alpha, wib = \\beta, wic = \\gamma$ verwendet\n",
    "<br><br><br>\n",
    "Die Berechnungen folgen den Anleitungen in\n",
    "\n",
    "www.mathe.tu-freiberg.de/~hebisch/skripte/sphaerik/strigo.pdf, \n",
    "Seite 39-40\n",
    "<br><br>"
   ]
  },
  {
   "cell_type": "code",
   "execution_count": 1,
   "metadata": {
    "collapsed": false
   },
   "outputs": [],
   "source": [
    "%run agla/start"
   ]
  },
  {
   "cell_type": "markdown",
   "metadata": {},
   "source": [
    "### <br> Grundaufgabe SSS (1)<br>"
   ]
  },
  {
   "cell_type": "code",
   "execution_count": 2,
   "metadata": {
    "collapsed": false
   },
   "outputs": [
    {
     "data": {
      "text/latex": [
       "$$\\left ( 58.5870132306548, \\quad 70.9595035797798, \\quad 91.8862959326974\\right )$$"
      ],
      "text/plain": [
       "(58.5870132306548, 70.9595035797798, 91.8862959326974)"
      ]
     },
     "execution_count": 2,
     "metadata": {},
     "output_type": "execute_result"
    }
   ],
   "source": [
    "# Gegeben sind die drei Seiten\n",
    "\n",
    "a = 1; b = 1.2; c = 1.4\n",
    "\n",
    "# Die Winkel werden nach dem Seitenkosinussatz berechnet\n",
    "\n",
    "wic = N(arccosg((cos(c)-cos(a)*cos(b))/(sin(a)*sin(b))))\n",
    "\n",
    "wia = N(arccosg((cos(a)-cos(b)*cos(c))/(sin(b)*sin(c))))\n",
    "\n",
    "wib =N(arccosg((cos(b)-cos(a)*cos(c))/(sin(a)*sin(c))))\n",
    "\n",
    "wia, wib, wic\n"
   ]
  },
  {
   "cell_type": "markdown",
   "metadata": {},
   "source": [
    "### <br>Grundaufgabe WWW (2)<br>"
   ]
  },
  {
   "cell_type": "code",
   "execution_count": 41,
   "metadata": {
    "collapsed": false
   },
   "outputs": [
    {
     "data": {
      "text/latex": [
       "$$\\left ( 1.0, \\quad 1.2, \\quad 1.4\\right )$$"
      ],
      "text/plain": [
       "(1.0, 1.2, 1.4)"
      ]
     },
     "execution_count": 41,
     "metadata": {},
     "output_type": "execute_result"
    }
   ],
   "source": [
    "# Gegeben sind die drei Winkel (ihre Summe muss größer als 180° sein)\n",
    "\n",
    "wia = 58.5870132306548; wib = 70.9595035797798; wic = 91.8862959326974\n",
    "\n",
    "# Die Seiten werden nach dem Winkelkosinussatz berechnet\n",
    "\n",
    "a = N(arccos((cosg(wia)+cosg(wib)*cosg(wic))/(sing(wib)*sing(wic))))\n",
    "\n",
    "b = N(arccos((cosg(wib)+cosg(wic)*cosg(wia))/(sing(wic)*sing(wia))))\n",
    "\n",
    "c = N(arccos((cosg(wic)+cosg(wia)*cosg(wib))/(sing(wia)*sing(wib))))\n",
    "\n",
    "a, b, c      "
   ]
  },
  {
   "cell_type": "code",
   "execution_count": 42,
   "metadata": {
    "collapsed": false
   },
   "outputs": [
    {
     "data": {
      "text/latex": [
       "$$\\left ( 1.0, \\quad 1.2, \\quad 1.4\\right )$$"
      ],
      "text/plain": [
       "(1.0, 1.2, 1.4)"
      ]
     },
     "execution_count": 42,
     "metadata": {},
     "output_type": "execute_result"
    }
   ],
   "source": [
    "# Zum Vergleich werden die Berechnungen auf der Grundlage des \n",
    "# Halbseitensatzes durchgeführt\n",
    "\n",
    "s = 1/2 * (wia + wib + wic)\n",
    "\n",
    "c = N(2*arctan(sqrt(-cosg(s)*cosg(s-wic)/cosg(s-wia)/cosg(s-wib))))\n",
    "\n",
    "a = N(2*arctan(sqrt(-cosg(s)*cosg(s-wia)/cosg(s-wib)/cosg(s-wic))))\n",
    "\n",
    "b = N(2*arctan(sqrt(-cosg(s)*cosg(s-wib)/cosg(s-wia)/cosg(s-wic))))\n",
    "\n",
    "a, b, c"
   ]
  },
  {
   "cell_type": "markdown",
   "metadata": {},
   "source": [
    "### Grundaufgabe SWS  (3)<br>"
   ]
  },
  {
   "cell_type": "code",
   "execution_count": 43,
   "metadata": {
    "collapsed": false
   },
   "outputs": [],
   "source": [
    "# Gegeben sind zwei Seiten und der eingeschlossene Winkel\n",
    "\n",
    "a = 1; b = 1.2;  wic = 91.8862959326974"
   ]
  },
  {
   "cell_type": "code",
   "execution_count": 44,
   "metadata": {
    "collapsed": false
   },
   "outputs": [
    {
     "data": {
      "text/latex": [
       "$$\\left ( 1.4, \\quad 58.5870132306548, \\quad 70.95950357978\\right )$$"
      ],
      "text/plain": [
       "(1.4, 58.5870132306548, 70.95950357978)"
      ]
     },
     "execution_count": 44,
     "metadata": {},
     "output_type": "execute_result"
    }
   ],
   "source": [
    "# Anhand der Neperschen Analogien werden die anderen beiden Winkel als\n",
    "# Lösungen eines LGS berechnet \n",
    "\n",
    "wia, wib = symbols('wia wib')\n",
    "\n",
    "gl1 = (wia+wib)/2 - N(arctang(cos((a-b)/2)/cos((a+b)/2) * cotg(wic/2)))\n",
    "\n",
    "gl2 = (wia-wib)/2 - N(arctang(sin((a-b)/2)/sin((a+b)/2) * cotg(wic/2)))\n",
    "\n",
    "L = löse([gl1, gl2])\n",
    "\n",
    "wia = L[wia].n()\n",
    "wib = L[wib].n()\n",
    "\n",
    "# Die fehlende Seite ergibt sich aus dem Winkelkosinussatz\n",
    "\n",
    "c = N(arccos((cosg(wic)+cosg(wia)*cosg(wib))/(sing(wia)*sing(wib))))\n",
    "\n",
    "c, wia, wib\n"
   ]
  },
  {
   "cell_type": "code",
   "execution_count": 45,
   "metadata": {
    "collapsed": false,
    "scrolled": false
   },
   "outputs": [
    {
     "data": {
      "text/latex": [
       "$$\\left ( 1.4, \\quad 58.5870132306548, \\quad 70.9595035797799\\right )$$"
      ],
      "text/plain": [
       "(1.4, 58.5870132306548, 70.9595035797799)"
      ]
     },
     "execution_count": 45,
     "metadata": {},
     "output_type": "execute_result"
    }
   ],
   "source": [
    "# Bei einem anderen Verfahren werden die fehlende Seite nach dem Seiten-\n",
    "# kosinussatz, die Winkel nach dem Sinussatz berechnet\n",
    "\n",
    "c = N(arccos(cos(a)*cos(b) + sin(a)*sin(b)*cosg(wic)))\n",
    "\n",
    "wia = N(arcsing(sing(wic)*sin(a)/sin(c)))\n",
    "\n",
    "wib = N(arcsing(sing(wic)*sin(b)/sin(c)))\n",
    "\n",
    "c, wia, wib"
   ]
  },
  {
   "cell_type": "markdown",
   "metadata": {},
   "source": [
    "### <br>Grundaufgabe WSW (4)<br>"
   ]
  },
  {
   "cell_type": "code",
   "execution_count": 46,
   "metadata": {
    "collapsed": true
   },
   "outputs": [],
   "source": [
    "# Gegeben sind zwei Winkel und die eingeschlossene Seite\n",
    "\n",
    "c = 1.4; wia = 58.5870132306548; wib = 70.9595035797798"
   ]
  },
  {
   "cell_type": "code",
   "execution_count": 47,
   "metadata": {
    "collapsed": false
   },
   "outputs": [
    {
     "data": {
      "text/latex": [
       "$$\\left ( 1.0, \\quad 1.2, \\quad 91.8862959326974\\right )$$"
      ],
      "text/plain": [
       "(1.0, 1.2, 91.8862959326974)"
      ]
     },
     "execution_count": 47,
     "metadata": {},
     "output_type": "execute_result"
    }
   ],
   "source": [
    "# Anhand der Neperschen Analogien werden die anderen beiden Seiten\n",
    "# als Lösungen eines LGS berechnet \n",
    "\n",
    "a, b = Symbol('a', real=True), Symbol('b', real=True)\n",
    "\n",
    "gl1 = (a+b)/2 - N(arctan(cosg((wia-wib)/2)/cosg((wia+wib)/2) * tan(c/2)))\n",
    "\n",
    "gl2 = (a-b)/2 - N(arctan(sing((wia-wib)/2)/sing((wia+wib)/2) * tan(c/2)))\n",
    "\n",
    "L = löse([gl1, gl2])\n",
    "\n",
    "a = L[a].n()\n",
    "b = L[b].n()\n",
    "\n",
    "# Der fehlende Winkel ergibt sich aus dem Seitenkosinussatz\n",
    "\n",
    "wic = N(arccosg((cos(c)-cos(a)*cos(b))/(sin(a)*sin(b))))\n",
    "\n",
    "a, b, wic\n"
   ]
  },
  {
   "cell_type": "code",
   "execution_count": 48,
   "metadata": {
    "collapsed": false
   },
   "outputs": [
    {
     "data": {
      "text/latex": [
       "$$\\left ( 1.0, \\quad 1.2, \\quad 91.8862959326974\\right )$$"
      ],
      "text/plain": [
       "(1.0, 1.2, 91.8862959326974)"
      ]
     },
     "execution_count": 48,
     "metadata": {},
     "output_type": "execute_result"
    }
   ],
   "source": [
    "# Bei einem anderen Verfahren wird der fehlende Winkel nach dem \n",
    "# Winkelkosinussatz berechnet  \n",
    "\n",
    "wic = N(arccosg((sing(wia)*sing(wib)*cos(c)-cosg(wia)*cosg(wib))))\n",
    "\n",
    "# Die Seiten werden wie in Grundaufgabe WWW ermittelt\n",
    "\n",
    "s = 1/2 * (wia + wib + wic)\n",
    "\n",
    "a = N(2*arctan(sqrt(-cosg(s)*cosg(s-wia)/cosg(s-wib)/cosg(s-wic))))\n",
    "\n",
    "b = N(2*arctan(sqrt(-cosg(s)*cosg(s-wib)/cosg(s-wia)/cosg(s-wic))))\n",
    "\n",
    "a, b, wic\n"
   ]
  },
  {
   "cell_type": "markdown",
   "metadata": {},
   "source": [
    "### <br> Grundaufgabe SSW (5)<br>"
   ]
  },
  {
   "cell_type": "code",
   "execution_count": 55,
   "metadata": {
    "collapsed": false
   },
   "outputs": [
    {
     "data": {
      "text/latex": [
       "$$\\left ( 1.4, \\quad 70.9595035797799, \\quad 91.8862959326974\\right )$$"
      ],
      "text/plain": [
       "(1.4, 70.9595035797799, 91.8862959326974)"
      ]
     },
     "execution_count": 55,
     "metadata": {},
     "output_type": "execute_result"
    }
   ],
   "source": [
    "# Gegeben sind zwei Seiten und ein Gegenwinkel\n",
    "\n",
    "a = 1; b = 1.2; wia = 58.5870132306548\n",
    "\n",
    "# Mit dem Sinussatz wird der Winkel gegenüber b berechnet\n",
    "\n",
    "wib = N(arcsing(sin(b)*sing(wia)/sin(a)))\n",
    "\n",
    "# eine Lösung könnte hier auch 180 - wib sein, der Fall wird unten \n",
    "# untersucht\n",
    "\n",
    "c, wic = symbols('c wic')\n",
    "\n",
    "# die Neperschen Analogien ergeben die Gleichungen\n",
    "\n",
    "gl1 = (a+b)/2 - N(arctan(cosg((wia-wib)/2)/cosg((wia+wib)/2) * tan(c/2)))\n",
    "gl2 = (wia+wib)/2 - N(arctang(cos((a-b)/2)/cos((a+b)/2) * cotg(wic/2)))\n",
    "\n",
    "L = löse([gl1, gl2])\n",
    "\n",
    "c = L[c].n() ; wic = L[wic].n()\n",
    "\n",
    "c, wib, wic\n"
   ]
  },
  {
   "cell_type": "code",
   "execution_count": 56,
   "metadata": {
    "collapsed": false
   },
   "outputs": [
    {
     "data": {
      "text/latex": [
       "$$\\left\\{\\right\\}$$"
      ],
      "text/plain": [
       "set([])"
      ]
     },
     "execution_count": 56,
     "metadata": {},
     "output_type": "execute_result"
    }
   ],
   "source": [
    "# Untersuchung der Mehrdeutigkeit\n",
    "\n",
    "wib1 = 180 - wib   # andere potentielle Lösung\n",
    "\n",
    "# das entsprechende Gleichungssystem hat keine Lösung\n",
    "\n",
    "gl1 = (a+b)/2 - N(arctan(cosg((wia-wib1)/2)/cosg((wia+wib1)/2) * tan(c/2)))\n",
    "gl2 = (wia+wib1)/2 - N(arctang(cos((a-b)/2)/cos((a+b)/2) * cotg(wic/2)))\n",
    "\n",
    "L = löse([gl1, gl2])\n",
    "L\n",
    "\n",
    "# folglich wird das Dreieck eindeutig berechnet\n"
   ]
  },
  {
   "cell_type": "markdown",
   "metadata": {},
   "source": [
    "### <br>Grundaufgabe WWS (6)<br>"
   ]
  },
  {
   "cell_type": "code",
   "execution_count": 54,
   "metadata": {
    "collapsed": false
   },
   "outputs": [
    {
     "data": {
      "text/latex": [
       "$$\\left ( 1.2, \\quad 1.4, \\quad 91.8862959326971\\right )$$"
      ],
      "text/plain": [
       "(1.2, 1.4, 91.8862959326971)"
      ]
     },
     "execution_count": 54,
     "metadata": {},
     "output_type": "execute_result"
    }
   ],
   "source": [
    "# Gegeben sind zwei Winkel und eine Gegenseite\n",
    "\n",
    "a = 1; wia = 58.5870132306548; wib = 70.9595035797798\n",
    "\n",
    "# Mit dem Sinussatz wird die Seite gegenüber wib berechnet\n",
    "\n",
    "b = N(arcsin(sing(wib)*sin(a)/sing(wia)))\n",
    "\n",
    "# eine Lösung könnte hier auch 180 - b sein, der Fall wird unten \n",
    "# untersucht\n",
    "\n",
    "c, wic = symbols('c wic')\n",
    "\n",
    "# die Neperschen Analogien ergeben die Gleichungen\n",
    "\n",
    "gl1 = (a+b)/2 - N(arctan(cosg((wia-wib)/2)/cosg((wia+wib)/2) * tan(c/2)))\n",
    "gl2 = (wia+wib)/2 - N(arctang(cos((a-b)/2)/cos((a+b)/2) * cotg(wic/2)))\n",
    "\n",
    "L = löse([gl1, gl2])\n",
    "\n",
    "c = L[c].n() ; wic = L[wic].n()\n",
    "\n",
    "b, c, wic\n"
   ]
  },
  {
   "cell_type": "code",
   "execution_count": 58,
   "metadata": {
    "collapsed": false
   },
   "outputs": [
    {
     "data": {
      "text/latex": [
       "$$\\left\\{\\right\\}$$"
      ],
      "text/plain": [
       "set([])"
      ]
     },
     "execution_count": 58,
     "metadata": {},
     "output_type": "execute_result"
    }
   ],
   "source": [
    "# Untersuchung der Mehrdeutigkeit\n",
    "\n",
    "b1 = pi - b   # andere potentielle Lösung\n",
    "\n",
    "# das entsprechende Gleichungssystem hat keine Lösung\n",
    "\n",
    "gl1 = (a+b1)/2 - N(arctan(cosg((wia-wib)/2)/cosg((wia+wib)/2) * tan(c/2)))\n",
    "gl2 = (wia+wib)/2 - N(arctang(cos((a-b1)/2)/cos((a+b1)/2) * cotg(wic/2)))\n",
    "\n",
    "L = löse([gl1, gl2])\n",
    "L\n",
    "\n",
    "# folglich wird das Dreieck eindeutig berechnet\n"
   ]
  },
  {
   "cell_type": "markdown",
   "metadata": {},
   "source": [
    "<br>\n",
    "###  2. Konstruktion von Dreiecken "
   ]
  },
  {
   "cell_type": "markdown",
   "metadata": {},
   "source": [
    "### Dreieck in Ursprungslage "
   ]
  },
  {
   "cell_type": "markdown",
   "metadata": {},
   "source": [
    "Bei gegebenen drei Seiten kann ein Dreieck mit einer Ecke ($A$) im \"Ursprung\"<br>\n",
    "konstruiert werden. Das ist der Punkt $O(1, 0, 0)$, seine sphärischen Koodinaten \n",
    "<br>sind $(0,0)$.<br>\n",
    "Der 2.  Eckpunkt ($B$) wird ebenfalls auf den Äquator  (0-ter Breitengrad) gelegt \n",
    "<br><br>\n",
    "Ein solches Dreieck hat folgendes Aussehen:"
   ]
  },
  {
   "cell_type": "code",
   "execution_count": 6,
   "metadata": {
    "collapsed": false
   },
   "outputs": [],
   "source": [
    "S2 = EinhSphäre"
   ]
  },
  {
   "cell_type": "code",
   "execution_count": 7,
   "metadata": {
    "collapsed": false
   },
   "outputs": [],
   "source": [
    "dd = sDreieck(sPunkt(0, 0), sPunkt(0.4*pi, 0), sPunkt(pi/8, pi/4))"
   ]
  },
  {
   "cell_type": "code",
   "execution_count": 8,
   "metadata": {
    "collapsed": false,
    "scrolled": false
   },
   "outputs": [],
   "source": [
    "sicht_box(-1.2, 1.2)\n",
    "zeichne([S2, gelb],  \n",
    "        [dd, 2], sPunkt(0, 0),\n",
    "        [S2.kurve(0, t, (t, 0, 2*pi)), grün],   # 0-Meridian\n",
    "        [S2.kurve(t, 0, (t, 0, 2*pi)), grün],   # Äquator      \n",
    "        box=nein, achsen=nein)\n"
   ]
  },
  {
   "cell_type": "markdown",
   "metadata": {},
   "source": [
    "Die Funktion <b>sDreieckKonstr</b> soll ein solches Dreieck liefern, wobei die 3 Seiten \n",
    "<br>gegeben seien (eventuell sind sie vorher zu berechnen)"
   ]
  },
  {
   "cell_type": "code",
   "execution_count": 9,
   "metadata": {
    "collapsed": false
   },
   "outputs": [],
   "source": [
    "# Definition der Funktion\n",
    "\n",
    "# sie ist nur interaktiv nutzbar, es sind keinerlei Kontrollen enthalten\n",
    "\n",
    "def sDreieckKonstr(a, b,  c):\n",
    "    p, q, r = symbols('p q r', real=True)\n",
    "    A = sPunkt(0, 0); B = sPunkt(p, 0); C = sPunkt(q, r)\n",
    "    gl = A.abstand(B) - c\n",
    "    pp = nsolve(gl, 1)   # der nummerische solver von SymPy\n",
    "    B = sPunkt(pp, 0)\n",
    "    gl0 = A.abstand(C)^2 - b^2   # Quadrate, um die Lösung  \n",
    "    gl1 = B.abstand(C)^2 - a^2   # zu ermöglichen\n",
    "    L = nsolve([gl0, gl1], [q, r], [1, 1])\n",
    "    qq, rr = L[0], L[1]\n",
    "    C = sPunkt(qq, rr)\n",
    "    return sDreieck(A, B, C)\n"
   ]
  },
  {
   "cell_type": "code",
   "execution_count": 10,
   "metadata": {
    "collapsed": false
   },
   "outputs": [],
   "source": [
    "# Anwendung der Funktion - die Berechnungen zur Grundaufgabe SSS \n",
    "# werden überprüft\n",
    "\n",
    "a = 1; b = 1.2; c = 1.4   # gegeben\n",
    "\n",
    "dd = sDreieckKonstr(a, b, c)                       "
   ]
  },
  {
   "cell_type": "code",
   "execution_count": 11,
   "metadata": {
    "collapsed": false
   },
   "outputs": [
    {
     "data": {
      "text/latex": [
       "$$\\left ( \\left ( 1.0, \\quad 1.2, \\quad 1.4\\right ), \\quad \\left ( 58.5870132306548, \\quad 70.9595035797799, \\quad 91.8862959326974\\right )\\right )$$"
      ],
      "text/plain": [
       "((1.0, 1.2, 1.4), (58.5870132306548, 70.9595035797799, 91.8862959326974))"
      ]
     },
     "execution_count": 11,
     "metadata": {},
     "output_type": "execute_result"
    }
   ],
   "source": [
    "dd.längen, dd.winkel"
   ]
  },
  {
   "cell_type": "code",
   "execution_count": 12,
   "metadata": {
    "collapsed": false
   },
   "outputs": [
    {
     "data": {
      "text/latex": [
       "$$\\left ( \\left(\\begin{matrix}1\\\\0\\\\0\\end{matrix}\\right), \\quad \\left(\\begin{matrix}\\frac{169967142900241}{1000000000000000}\\\\\\frac{49272486499423}{50000000000000}\\\\0\\end{matrix}\\right), \\quad \\left(\\begin{matrix}\\frac{181178877238337}{500000000000000}\\\\\\frac{485781647773751}{1000000000000000}\\\\\\frac{31817304686773}{40000000000000}\\end{matrix}\\right)\\right )$$"
      ],
      "text/plain": [
       "(Vektor, Vektor, Vektor)"
      ]
     },
     "execution_count": 12,
     "metadata": {},
     "output_type": "execute_result"
    }
   ],
   "source": [
    "A, B, C = [dd.punkte[i].e for i in (0, 1, 2)] \n",
    "A, B, C"
   ]
  },
  {
   "cell_type": "code",
   "execution_count": 13,
   "metadata": {
    "collapsed": false
   },
   "outputs": [],
   "source": [
    "# Grafische Darstellung\n",
    "\n",
    "sicht_box(-1.2, 1.2)\n",
    "zeichne([S2, gelb], dd, \n",
    "        [A, rot], [B, gruen], [C, blau],\n",
    "        box=nein, achsen=nein)"
   ]
  },
  {
   "cell_type": "markdown",
   "metadata": {
    "collapsed": true
   },
   "source": [
    "<br>\n",
    "### Dreieck in beliebiger Lage<br>\n",
    "$Q(r, s)$  sei ein beliebiger Punkt auf der Einheitssphäre. In \"Sphärische Geometrie - \n",
    "<br>Isometrien\" wird gezeigt, dass zwei aufeinander folgende Drehungen den Ursprung \n",
    "<br>in diesen Punkt überführen\n"
   ]
  },
  {
   "cell_type": "code",
   "execution_count": 14,
   "metadata": {
    "collapsed": false
   },
   "outputs": [],
   "source": [
    "Q = sPunkt(0.2, 0.1)   # als Beispiel\n",
    "\n",
    "dreh1 = drehung(y_achse, -grad(Q.breite))\n",
    "dreh2 = drehung(z_achse, grad(Q.länge))\n",
    "drehe = dreh2 ° dreh1"
   ]
  },
  {
   "cell_type": "code",
   "execution_count": 15,
   "metadata": {
    "collapsed": false
   },
   "outputs": [
    {
     "data": {
      "text/latex": [
       "$$\\left ( \\left(\\begin{matrix}0.975170327201816\\\\0.197676811654084\\\\0.0998334166468282\\end{matrix}\\right), \\quad \\left(\\begin{matrix}0.975170327201816\\\\0.197676811654084\\\\0.0998334166468282\\end{matrix}\\right)\\right )$$"
      ],
      "text/plain": [
       "(Vektor, Vektor)"
      ]
     },
     "execution_count": 15,
     "metadata": {},
     "output_type": "execute_result"
    }
   ],
   "source": [
    "A = sPunkt(0, 0)\n",
    "A.e.bild(drehe).dez, Q.e.dez   # die Punkte sind identisch"
   ]
  },
  {
   "cell_type": "code",
   "execution_count": 16,
   "metadata": {
    "collapsed": false
   },
   "outputs": [],
   "source": [
    "d1 = dd.bild(drehe)"
   ]
  },
  {
   "cell_type": "code",
   "execution_count": 18,
   "metadata": {
    "collapsed": false
   },
   "outputs": [],
   "source": [
    "zeichne([S2, gelb], dd, A, *[[o, rot] for o in (d1, Q)], box=nein, achsen=nein)"
   ]
  },
  {
   "cell_type": "code",
   "execution_count": 19,
   "metadata": {
    "collapsed": false
   },
   "outputs": [
    {
     "data": {
      "text/latex": [
       "$$\\left ( \\left ( 1.0, \\quad 1.2, \\quad 1.4\\right ), \\quad \\left ( 58.5870132306548, \\quad 70.9595035797799, \\quad 91.8862959326974\\right )\\right )$$"
      ],
      "text/plain": [
       "((1.0, 1.2, 1.4), (58.5870132306548, 70.9595035797799, 91.8862959326974))"
      ]
     },
     "execution_count": 19,
     "metadata": {},
     "output_type": "execute_result"
    }
   ],
   "source": [
    "dd.längen, dd.winkel"
   ]
  },
  {
   "cell_type": "code",
   "execution_count": 20,
   "metadata": {
    "collapsed": false
   },
   "outputs": [
    {
     "data": {
      "text/latex": [
       "$$\\left ( \\left ( 1.0, \\quad 1.2, \\quad 1.4\\right ), \\quad \\left ( 58.5870132306548, \\quad 70.9595035797799, \\quad 91.8862959326974\\right )\\right )$$"
      ],
      "text/plain": [
       "((1.0, 1.2, 1.4), (58.5870132306548, 70.9595035797799, 91.8862959326974))"
      ]
     },
     "execution_count": 20,
     "metadata": {},
     "output_type": "execute_result"
    }
   ],
   "source": [
    "d1.längen, d1.winkel"
   ]
  },
  {
   "cell_type": "markdown",
   "metadata": {},
   "source": [
    "### Inkreis, Umkreis"
   ]
  },
  {
   "cell_type": "markdown",
   "metadata": {},
   "source": [
    "Die Formeln der sphärischen Geometrie lauten<br><br>\n",
    "$\\tan(r) = \\tan(\\frac{\\alpha}{2}) \\cdot \\sin(s-a), \\quad s=\\frac{1}{2} \\cdot (a+b+c) \\quad$ Inkreisradius<br><br>\n",
    "$\\cot\\rho) = \\cot(\\frac{a}{2}) \\cdot \\cos(\\sigma-\\alpha), \\quad \\sigma=\\frac{1}{2} \\cdot \n",
    "(\\alpha+\\beta+\\gamma) \\quad$ Umkreisradius<br><br>\n",
    "Für die beiden Kreise:"
   ]
  },
  {
   "cell_type": "code",
   "execution_count": 21,
   "metadata": {
    "collapsed": false,
    "scrolled": false
   },
   "outputs": [],
   "source": [
    "ik = dd.inkreis   # Rechenzeit!\n",
    "uk = dd.umkreis"
   ]
  },
  {
   "cell_type": "markdown",
   "metadata": {},
   "source": [
    "wurden diese Formeln intern verwendet, wie der Vergleich mit der externen <br>Berechnung illustriert"
   ]
  },
  {
   "cell_type": "code",
   "execution_count": 22,
   "metadata": {
    "collapsed": false
   },
   "outputs": [],
   "source": [
    "a, b, c = dd.längen\n",
    "wi = dd.winkel\n",
    "wia, wib, wic = [rad(wi[i]) for i in (0, 1, 2)]\n",
    "\n",
    "s, wis = 1/2*(a+b+c), 1/2*(wia+wib+wic)\n",
    "\n",
    "r1 = atan(tan(wia/2)*sin(s-a))\n",
    "\n",
    "r2 = acot(cot(a/2)*cos(wis-wia))"
   ]
  },
  {
   "cell_type": "code",
   "execution_count": 23,
   "metadata": {
    "collapsed": false
   },
   "outputs": [
    {
     "data": {
      "text/latex": [
       "$$\\left ( 0.382620592549263, \\quad 0.382620592549263\\right )$$"
      ],
      "text/plain": [
       "(0.382620592549263, 0.382620592549263)"
      ]
     },
     "execution_count": 23,
     "metadata": {},
     "output_type": "execute_result"
    }
   ],
   "source": [
    "N(r1), ik.r"
   ]
  },
  {
   "cell_type": "code",
   "execution_count": 24,
   "metadata": {
    "collapsed": false
   },
   "outputs": [
    {
     "data": {
      "text/latex": [
       "$$\\left ( 0.727216337931238, \\quad 0.727216337931\\right )$$"
      ],
      "text/plain": [
       "(0.727216337931238, 0.727216337931)"
      ]
     },
     "execution_count": 24,
     "metadata": {},
     "output_type": "execute_result"
    }
   ],
   "source": [
    "N(r2), uk.r"
   ]
  },
  {
   "cell_type": "code",
   "execution_count": 25,
   "metadata": {
    "collapsed": false
   },
   "outputs": [],
   "source": [
    "sicht_box(-1.2, 1.2)    \n",
    "zeichne([S2, gelb], dd, \n",
    "        [ik, rot], [ik.mitte, rot],\n",
    "        [uk, grün], [uk.mitte, grün],\n",
    "        box=nein, achsen=nein)"
   ]
  },
  {
   "cell_type": "markdown",
   "metadata": {},
   "source": [
    "<br>\n",
    "### Ein Dreieck mit drei rechten Winkeln<br>"
   ]
  },
  {
   "cell_type": "code",
   "execution_count": 26,
   "metadata": {
    "collapsed": true
   },
   "outputs": [],
   "source": [
    "A = sPunkt(0, 0); B = sPunkt(0, pi/2); C = sPunkt(pi/2, 0)\n",
    "d2 = sDreieck(A, B, C)\n",
    "\n",
    "zeichne([S2, gelb], d2, box=nein, achsen=nein)"
   ]
  },
  {
   "cell_type": "code",
   "execution_count": 27,
   "metadata": {
    "collapsed": false,
    "scrolled": true
   },
   "outputs": [
    {
     "data": {
      "text/latex": [
       "$$\\left ( 90.0000000000059, \\quad 90.0000000000059, \\quad 90.0000000000059\\right )$$"
      ],
      "text/plain": [
       "(90.0000000000059, 90.0000000000059, 90.0000000000059)"
      ]
     },
     "execution_count": 27,
     "metadata": {},
     "output_type": "execute_result"
    }
   ],
   "source": [
    "d2.winkel"
   ]
  },
  {
   "cell_type": "markdown",
   "metadata": {
    "collapsed": true
   },
   "source": [
    "Die Fläche des Dreiecks macht $\\frac{1}{8}$ der gesamten Kugeloberfläche ($4\\pi$ wegen $r=1$) aus:"
   ]
  },
  {
   "cell_type": "code",
   "execution_count": 28,
   "metadata": {
    "collapsed": false
   },
   "outputs": [
    {
     "data": {
      "text/latex": [
       "$$\\left ( 1.57079632679521, \\quad 1.5707963267949\\right )$$"
      ],
      "text/plain": [
       "(1.57079632679521, 1.5707963267949)"
      ]
     },
     "execution_count": 28,
     "metadata": {},
     "output_type": "execute_result"
    }
   ],
   "source": [
    "d2.fläche, N(4*pi/8)"
   ]
  },
  {
   "cell_type": "code",
   "execution_count": null,
   "metadata": {
    "collapsed": true
   },
   "outputs": [],
   "source": []
  }
 ],
 "metadata": {
  "anaconda-cloud": {},
  "kernelspec": {
   "display_name": "Python [default]",
   "language": "python",
   "name": "python3"
  },
  "language_info": {
   "codemirror_mode": {
    "name": "ipython",
    "version": 3
   },
   "file_extension": ".py",
   "mimetype": "text/x-python",
   "name": "python",
   "nbconvert_exporter": "python",
   "pygments_lexer": "ipython3",
   "version": "3.5.2"
  }
 },
 "nbformat": 4,
 "nbformat_minor": 0
}
