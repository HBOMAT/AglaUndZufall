{
 "cells": [
  {
   "cell_type": "markdown",
   "metadata": {},
   "source": [
    "# Materialien zu <i>agla</i>\n",
    "\n",
    "Autor: Holger Böttcher - hbomat@posteo.de\n",
    "\n",
    "## Platonische Körper "
   ]
  },
  {
   "cell_type": "markdown",
   "metadata": {},
   "source": [
    "## Ikosaeder"
   ]
  },
  {
   "cell_type": "code",
   "execution_count": 1,
   "metadata": {
    "collapsed": true
   },
   "outputs": [],
   "source": [
    "%run agla/start"
   ]
  },
  {
   "cell_type": "code",
   "execution_count": 2,
   "metadata": {
    "collapsed": false
   },
   "outputs": [],
   "source": [
    "# Erzeugung über die Seiten; die Ecken sind exakt definiert\n",
    "\n",
    "a = Rational(1, 2)*(sqrt(5)-1)\n",
    "p1 = v(1,0,a); p2 = v(1,0,-a); p3 = v(-1,0,a); p4 = v(-1,0,-a)\n",
    "p5 = v(a,1,0); p6 = v(-a,1,0); p7 = v(a,-1,0); p8 = v(-a,-1,0)\n",
    "p9 = v(0,a,1); p10 = v(0,-a,1); p11 = v(0,a,-1); p12 = v(0,-a,-1)\n",
    "\n",
    "seiten_liste = [  Koerper(p1, p2, p5, p1),   \n",
    "                  Koerper(p9, p3, p10, p9),\n",
    "                  Koerper(p2, p7, p12, p2),\n",
    "                  Koerper(p1, p9, p10, p1),\n",
    "                  Koerper(p2, p12, p11, p2),\n",
    "                  Koerper(p1, p10, p7, p1),\n",
    "                  Koerper(p6, p3, p4, p6),\n",
    "                  Koerper(p5, p6, p11, p5),\n",
    "                  Koerper(p3, p10, p8, p3),\n",
    "                  Koerper(p9, p6, p3, p9),\n",
    "                  Koerper(p10, p7, p8, p10),\n",
    "                  Koerper(p2, p5, p11, p2),\n",
    "                  Koerper(p7, p12, p8, p7),\n",
    "                  Koerper(p1, p2, p7, p1),\n",
    "                  Koerper(p12, p8, p4, p12),\n",
    "                  Koerper(p5, p9, p6, p5),\n",
    "                  Koerper(p6, p11, p4, p6),\n",
    "                  Koerper(p3, p8, p4, p3),\n",
    "                  Koerper(p12, p11, p4, p12),\n",
    "                  Koerper(p1, p5, p9, p1) ]              \n",
    "                           \n",
    "Ikosaeder = Koerper(*[seiten_liste[i] for i in range(len(seiten_liste))])                           "
   ]
  },
  {
   "cell_type": "code",
   "execution_count": 3,
   "metadata": {
    "collapsed": false
   },
   "outputs": [],
   "source": [
    "sicht_box(-2, 2)\n",
    "\n",
    "zeichne(Ikosaeder)\n",
    "\n",
    "#zeichne([Ikosaeder, 'fuell=ja'], Ikosaeder, achsen=nein, box=nein)"
   ]
  },
  {
   "cell_type": "code",
   "execution_count": 4,
   "metadata": {
    "collapsed": false
   },
   "outputs": [
    {
     "data": {
      "text/latex": [
       "$$\\left ( 12, \\quad 30, \\quad 20\\right )$$"
      ],
      "text/plain": [
       "(12, 30, 20)"
      ]
     },
     "execution_count": 4,
     "metadata": {},
     "output_type": "execute_result"
    }
   ],
   "source": [
    "Ikosaeder.anz_ecken,  Ikosaeder.anz_kanten,  Ikosaeder.anz_seiten"
   ]
  },
  {
   "cell_type": "code",
   "execution_count": 5,
   "metadata": {
    "collapsed": false
   },
   "outputs": [
    {
     "data": {
      "text/latex": [
       "$$2$$"
      ],
      "text/plain": [
       "2"
      ]
     },
     "execution_count": 5,
     "metadata": {},
     "output_type": "execute_result"
    }
   ],
   "source": [
    "# Eulersche Polyederformel:      #Ecken - #Kanten + #Seiten = 2\n",
    "\n",
    "Ikosaeder.anz_ecken - Ikosaeder.anz_kanten + Ikosaeder.anz_seiten"
   ]
  },
  {
   "cell_type": "code",
   "execution_count": 6,
   "metadata": {
    "collapsed": false
   },
   "outputs": [],
   "source": [
    "# Einfärbung der Seiten\n",
    "\n",
    "S = Ikosaeder.seiten\n",
    "I1 = Körper(*[S[i] for i in (1,3,4,5,9,10,13,14,15,16)])\n",
    "I2 = Körper(*[S[i] for i in (0,2,6,7,8,11,12,17,18,19)])\n",
    "\n",
    "zeichne([I1, gelb, 'fuell=ja'], [I2, rot, 'fuell=ja'], Ikosaeder, achsen=nein, box=nein)"
   ]
  },
  {
   "cell_type": "code",
   "execution_count": 7,
   "metadata": {
    "collapsed": false
   },
   "outputs": [],
   "source": [
    "# Markieren der Ecken\n",
    "\n",
    "Ikosaeder.mark_ecken"
   ]
  },
  {
   "cell_type": "code",
   "execution_count": 8,
   "metadata": {
    "collapsed": false
   },
   "outputs": [],
   "source": [
    "# Markieren der Kanten\n",
    "\n",
    "Ikosaeder.mark_kanten"
   ]
  },
  {
   "cell_type": "code",
   "execution_count": 9,
   "metadata": {
    "collapsed": false
   },
   "outputs": [],
   "source": [
    "# Markieren der Seiten\n",
    "\n",
    "Ikosaeder.mark_seiten"
   ]
  },
  {
   "cell_type": "code",
   "execution_count": null,
   "metadata": {
    "collapsed": false
   },
   "outputs": [],
   "source": []
  }
 ],
 "metadata": {
  "anaconda-cloud": {},
  "kernelspec": {
   "display_name": "Python [default]",
   "language": "python",
   "name": "python3"
  },
  "language_info": {
   "codemirror_mode": {
    "name": "ipython",
    "version": 3
   },
   "file_extension": ".py",
   "mimetype": "text/x-python",
   "name": "python",
   "nbconvert_exporter": "python",
   "pygments_lexer": "ipython3",
   "version": "3.5.2"
  }
 },
 "nbformat": 4,
 "nbformat_minor": 0
}
