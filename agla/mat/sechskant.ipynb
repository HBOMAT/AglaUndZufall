{
 "cells": [
  {
   "cell_type": "markdown",
   "metadata": {},
   "source": [
    "# Materialien zu <i>agla</i>\n",
    "\n",
    "Autor: Holger Böttcher - hbomat@posteo.de\n",
    "\n",
    "## Allgemeiner Körper "
   ]
  },
  {
   "cell_type": "markdown",
   "metadata": {},
   "source": [
    "## Sechskant\n",
    "<br><br>"
   ]
  },
  {
   "cell_type": "code",
   "execution_count": 1,
   "metadata": {
    "collapsed": true
   },
   "outputs": [],
   "source": [
    "%run agla/start"
   ]
  },
  {
   "cell_type": "code",
   "execution_count": 2,
   "metadata": {
    "collapsed": false
   },
   "outputs": [],
   "source": [
    "# Erzeugung über einen Kantenzug\n",
    "\n",
    "k = Kreis(xy_ebene, O, 5)\n",
    "\n",
    "p1, p2, p3, p4, p5, p6 = [k.pkt(i*60) for i in range(6)]\n",
    "\n",
    "abb = verschiebung(v(0, 0, 12))\n",
    "\n",
    "q1, q2, q3, q4, q5, q6 = [k.pkt(i*60).bild(abb) for i in range(6)]\n",
    "\n",
    "sechskant = sk =Körper(p1,q1,p1,p2,q2,p2,p3,q3,p3,p4,q4,p4,p5,q5,p5,p6,q6,p6,p1,q1,q2,q3,q4,q5,q6,q1)"
   ]
  },
  {
   "cell_type": "code",
   "execution_count": 3,
   "metadata": {
    "collapsed": true
   },
   "outputs": [],
   "source": [
    "zeichne([sk, grün, 2], box=nein, achsen=nein)"
   ]
  },
  {
   "cell_type": "code",
   "execution_count": 4,
   "metadata": {
    "collapsed": false
   },
   "outputs": [
    {
     "data": {
      "text/latex": [
       "$$\\left ( 12, \\quad 18, \\quad 8\\right )$$"
      ],
      "text/plain": [
       "(12, 18, 8)"
      ]
     },
     "execution_count": 4,
     "metadata": {},
     "output_type": "execute_result"
    }
   ],
   "source": [
    "sk.anz_ecken,  sk.anz_kanten,  sk.anz_seiten"
   ]
  },
  {
   "cell_type": "code",
   "execution_count": 5,
   "metadata": {
    "collapsed": false
   },
   "outputs": [
    {
     "data": {
      "text/latex": [
       "$$2$$"
      ],
      "text/plain": [
       "2"
      ]
     },
     "execution_count": 5,
     "metadata": {},
     "output_type": "execute_result"
    }
   ],
   "source": [
    "# Eulersche Polyederformel:      #Ecken - #Kanten + #Seiten = 2\n",
    "\n",
    "sk.anz_ecken - sk.anz_kanten + sk.anz_seiten"
   ]
  },
  {
   "cell_type": "code",
   "execution_count": 6,
   "metadata": {
    "collapsed": false
   },
   "outputs": [],
   "source": [
    "# Einfärbung der Seiten - ist durch Teilkörper, die über die Seiten \n",
    "# erzeugt werden,  zu realisieren\n",
    "\n",
    "S = sk.seiten\n",
    "H1 = Körper(*[S[i] for i in (2, 5)], seiten=ja)\n",
    "H2 = Körper(*[S[i] for i in (0, 3, 7)], seiten=ja)\n",
    "H3 = Körper(*[S[i] for i in (1, 4, 6)], seiten=ja)  \n",
    "\n",
    "zeichne([H1, blau, 'füll=ja'], [H2, rot, 'füll=ja'], [H3, gelb, 'füll=ja'], \n",
    "         achsen=nein, box=nein)"
   ]
  },
  {
   "cell_type": "code",
   "execution_count": 7,
   "metadata": {
    "collapsed": false
   },
   "outputs": [],
   "source": [
    "# Markieren der Ecken\n",
    "\n",
    "sk.mark_ecken"
   ]
  },
  {
   "cell_type": "code",
   "execution_count": 8,
   "metadata": {
    "collapsed": false
   },
   "outputs": [],
   "source": [
    "# Markieren der Kanten\n",
    "\n",
    "sk.mark_kanten"
   ]
  },
  {
   "cell_type": "code",
   "execution_count": 9,
   "metadata": {
    "collapsed": false
   },
   "outputs": [],
   "source": [
    "# Markieren der Seiten\n",
    "\n",
    "sk.mark_seiten"
   ]
  },
  {
   "cell_type": "code",
   "execution_count": null,
   "metadata": {
    "collapsed": true
   },
   "outputs": [],
   "source": []
  }
 ],
 "metadata": {
  "anaconda-cloud": {},
  "kernelspec": {
   "display_name": "Python [default]",
   "language": "python",
   "name": "python3"
  },
  "language_info": {
   "codemirror_mode": {
    "name": "ipython",
    "version": 3
   },
   "file_extension": ".py",
   "mimetype": "text/x-python",
   "name": "python",
   "nbconvert_exporter": "python",
   "pygments_lexer": "ipython3",
   "version": "3.5.2"
  }
 },
 "nbformat": 4,
 "nbformat_minor": 0
}
