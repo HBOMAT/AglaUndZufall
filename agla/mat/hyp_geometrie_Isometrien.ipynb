{
 "cells": [
  {
   "cell_type": "markdown",
   "metadata": {},
   "source": [
    "# Materialien zu <i>agla</i>\n",
    "\n",
    "Autor: Holger Böttcher - hbomat@posteo.de\n",
    "\n",
    "## Hyperbolische Geometrie \n",
    "\n",
    "##  Isometrien\n",
    "<br>"
   ]
  },
  {
   "cell_type": "code",
   "execution_count": 1,
   "metadata": {
    "collapsed": false
   },
   "outputs": [],
   "source": [
    "%run agla/start"
   ]
  },
  {
   "cell_type": "markdown",
   "metadata": {},
   "source": [
    "<br>\n",
    "## Isometrien im *D*-Modell"
   ]
  },
  {
   "cell_type": "markdown",
   "metadata": {},
   "source": [
    "Isometrische Abbildungen haben die Form (im Komplexen)"
   ]
  },
  {
   "cell_type": "markdown",
   "metadata": {},
   "source": [
    "$\\;\\;\\;  f(z) = \\frac {a z+\\bar{b}} {b z+\\bar{a}},  \\;\\;\\; g(z) = \\frac {a\\bar{z}+\\bar{b}} {b \\bar{z}+\\bar{a}} \\;\\;\\; $ mit $\\;\\;\\; \\left|\\begin{matrix}a & \\bar{b}\\\\ b & \\bar{a}\\end{matrix}\\right| \\gt 0$"
   ]
  },
  {
   "cell_type": "markdown",
   "metadata": {},
   "source": [
    "Sie sind aus einfacheren Abbildungen zusammengesetzt, die Inversionen an hyperboli-<br>\n",
    "schen Geraden darstellen. Aus geometrischen Überlegungen ist ableitbar:"
   ]
  },
  {
   "cell_type": "markdown",
   "metadata": {},
   "source": [
    "Für die Inversion (Spiegelung) an einem Durchmesser des Einheitskreises ist\n",
    "<br>\n",
    "<br>\n",
    "$ f(z) = \\frac{c \\bar{z}} {\\bar{c}} ,  \\;\\;\\;\\quad n = -c\\, i \\;$  entspricht dem Normalenvektor der euklidischen Geraden, \n",
    "<br>\n",
    "die den Durchmesser enthält\n",
    "<br><br>\n",
    "Für die Inversion an einem Kreisbogen ist\n",
    "<br><br>\n",
    "$ f(z) = \\frac{c \\bar{z} + i} {-i \\bar{z} + \\bar{c}} ,  \\;\\;\\;\\quad m = c\\, i \\;\\;$  entspricht dem Mittelpunkt des Kreises, der den Bogen <br> enthält; sein Radius ist $ \\sqrt{\\vert m \\vert ^2-1} \\;\\\\$ ($m\\;$ muss außerhalb des Einheitskreises liegen)"
   ]
  },
  {
   "cell_type": "markdown",
   "metadata": {},
   "source": [
    "### Einige nützliche Funktionen "
   ]
  },
  {
   "cell_type": "code",
   "execution_count": 2,
   "metadata": {
    "collapsed": false
   },
   "outputs": [],
   "source": [
    "def c2v(z):   # komplexe Zahl --> Vektor\n",
    "    return v(re(z), im(z))  \n",
    "\n",
    "def c2p(z):   # komplexe Zahl --> hyperbolischer Punkt\n",
    "    return hPunkt(re(z), im(z))   \n",
    "\n",
    "def v2c(v):   # Vektor --> komplexe Zahl\n",
    "    return v.x + v.y*I            "
   ]
  },
  {
   "cell_type": "code",
   "execution_count": 3,
   "metadata": {
    "collapsed": false
   },
   "outputs": [
    {
     "data": {
      "text/latex": [
       "$$\\left ( \\left(\\begin{matrix}-0.2\\\\0.5\\end{matrix}\\right), \\quad \\left(\\begin{matrix}0.4\\\\0.1\\end{matrix}\\right), \\quad \\left(\\begin{matrix}0.0\\\\0.0\\end{matrix}\\right)\\right )$$"
      ],
      "text/plain": [
       "(Vektor, Vektor, Vektor)"
      ]
     },
     "execution_count": 3,
     "metadata": {},
     "output_type": "execute_result"
    }
   ],
   "source": [
    "# Hyperbolische Punkte\n",
    "\n",
    "A = hPunkt(-0.2, 0.5); B = hPunkt(0.4, 0.1); OH = hPunkt(0, 0)\n",
    "A.e, B.e, OH.e"
   ]
  },
  {
   "cell_type": "markdown",
   "metadata": {},
   "source": [
    "###  Inversion an an einem Durchmesser"
   ]
  },
  {
   "cell_type": "code",
   "execution_count": 4,
   "metadata": {
    "collapsed": false
   },
   "outputs": [
    {
     "data": {
      "text/latex": [
       "$$Gerade$$"
      ],
      "text/plain": [
       "Gerade"
      ]
     },
     "execution_count": 4,
     "metadata": {},
     "output_type": "execute_result"
    }
   ],
   "source": [
    "d = hGerade(OH, A)\n",
    "d.träger"
   ]
  },
  {
   "cell_type": "code",
   "execution_count": 5,
   "metadata": {
    "collapsed": false
   },
   "outputs": [
    {
     "data": {
      "text/latex": [
       "$$\\left(\\begin{matrix}0.227586206896552\\\\0.631034482758621\\end{matrix}\\right)$$"
      ],
      "text/plain": [
       "Vektor"
      ]
     },
     "execution_count": 5,
     "metadata": {},
     "output_type": "execute_result"
    }
   ],
   "source": [
    "P = hPunkt(-0.6, 0.3)   # der zu spiegelnde hyperbolische Punkt\n",
    "Q = d.inv(P)            # das Bild bei der Spiegelung (hyperbolischer Punkt)\n",
    "Q.e.dez                 # der zugehörige euklidische Punkt mit dezimalen \n",
    "                        # Koorinaten"
   ]
  },
  {
   "cell_type": "code",
   "execution_count": 6,
   "metadata": {
    "collapsed": false
   },
   "outputs": [
    {
     "data": {
      "image/png": "[encoded data removed]",
      "text/plain": [
       "<matplotlib.figure.Figure at 0xbc84e30>"
      ]
     },
     "metadata": {},
     "output_type": "display_data"
    }
   ],
   "source": [
    "sicht_box(-1.1, 1.1)\n",
    "zeichne(EinhKreis2, d, OH, A, [P, grün], [Q, rot, 2], hGerade(P, Q), achsen=nein)"
   ]
  },
  {
   "cell_type": "markdown",
   "metadata": {},
   "source": [
    "### Inversion an an einem Kreisbogen <br>"
   ]
  },
  {
   "cell_type": "code",
   "execution_count": 7,
   "metadata": {
    "collapsed": false
   },
   "outputs": [
    {
     "data": {
      "text/latex": [
       "$$Kreis$$"
      ],
      "text/plain": [
       "Kreis"
      ]
     },
     "execution_count": 7,
     "metadata": {},
     "output_type": "execute_result"
    }
   ],
   "source": [
    "k = hGerade(A, B)\n",
    "k.träger"
   ]
  },
  {
   "cell_type": "code",
   "execution_count": 8,
   "metadata": {
    "collapsed": false
   },
   "outputs": [
    {
     "data": {
      "text/latex": [
       "$$\\left(\\begin{matrix}-0.012051661401895\\\\0.804655657296707\\end{matrix}\\right)$$"
      ],
      "text/plain": [
       "Vektor"
      ]
     },
     "execution_count": 8,
     "metadata": {},
     "output_type": "execute_result"
    }
   ],
   "source": [
    "Q1 = k.inv(P)              \n",
    "Q1.e.dez "
   ]
  },
  {
   "cell_type": "code",
   "execution_count": 9,
   "metadata": {
    "collapsed": false
   },
   "outputs": [
    {
     "data": {
      "image/png": "[encoded data removed]",
      "text/plain": [
       "<matplotlib.figure.Figure at 0xc3442f0>"
      ]
     },
     "metadata": {},
     "output_type": "display_data"
    }
   ],
   "source": [
    "zeichne(EinhKreis2, k, A, B, [P, grün,], [Q1, rot, 2], hStrecke(P, Q1), achsen=nein)"
   ]
  },
  {
   "cell_type": "markdown",
   "metadata": {},
   "source": [
    "### <br> Illustration, dass es sich um eine Spiegelung handelt\n",
    "\n",
    "(Zweimaliges Spiegeln hintereinander ergibt die Identität)\n",
    "<br><br>"
   ]
  },
  {
   "cell_type": "code",
   "execution_count": 10,
   "metadata": {
    "collapsed": false
   },
   "outputs": [
    {
     "data": {
      "text/latex": [
       "$$\\left ( \\left(\\begin{matrix}0.560670000000002\\\\-0.341293999999995\\end{matrix}\\right), \\quad \\left(\\begin{matrix}0.56067\\\\-0.341294\\end{matrix}\\right)\\right )$$"
      ],
      "text/plain": [
       "(Vektor, Vektor)"
      ]
     },
     "execution_count": 10,
     "metadata": {},
     "output_type": "execute_result"
    }
   ],
   "source": [
    "P = hPunkt(0.56067, -0.341294)   # Urbild\n",
    "Q = k.inv(P)                     # Spiegelbild          \n",
    "P1 = k.inv(Q)                    # Bild des Spiegelbildes               \n",
    "P1.e.dez , P.e.dez               # ist das Urbild"
   ]
  },
  {
   "cell_type": "markdown",
   "metadata": {},
   "source": [
    "<br>\n",
    "### Eine Isometrie zur Verschiebung des Ursprungs"
   ]
  },
  {
   "cell_type": "markdown",
   "metadata": {},
   "source": [
    "$P(r, s) \\; $  sei ein beliebiger Punkt innerhalb des Einheitskreises, dann überführt die\n",
    "<br>folgende Isometrie $f$ den Ursprung in diesen Punkt"
   ]
  },
  {
   "cell_type": "code",
   "execution_count": 11,
   "metadata": {
    "collapsed": false
   },
   "outputs": [
    {
     "data": {
      "text/latex": [
       "$$\\frac{\\left(\\frac{r - s}{r^{2} + s^{2}} + \\frac{i \\left(r + s\\right)}{r^{2} + s^{2}}\\right) \\overline{z} + 1 - i}{\\frac{r - s}{r^{2} + s^{2}} - \\frac{i \\left(r + s\\right)}{r^{2} + s^{2}} + \\left(1 + i\\right) \\overline{z}}$$"
      ],
      "text/plain": [
       "⎛ r - s    ⅈ⋅(r + s)⎞ _        \n",
       "⎜─────── + ─────────⎟⋅z + 1 - ⅈ\n",
       "⎜ 2    2     2    2 ⎟          \n",
       "⎝r  + s     r  + s  ⎠          \n",
       "───────────────────────────────\n",
       " r - s    ⅈ⋅(r + s)           _\n",
       "─────── - ───────── + (1 + ⅈ)⋅z\n",
       " 2    2     2    2             \n",
       "r  + s     r  + s              "
      ]
     },
     "execution_count": 11,
     "metadata": {},
     "output_type": "execute_result"
    }
   ],
   "source": [
    "r, s = Symbol('r', real=True), Symbol('s', real=True)\n",
    "a = (r-s)/(r^2+s^2) + (r+s)/(r^2+s^2)*I\n",
    "b = 1+I\n",
    "\n",
    "def f(z):\n",
    "    return (a*conjugate(z)+conjugate(b)) / (b*conjugate(z)+conjugate(a))\n",
    "\n",
    "f(z)"
   ]
  },
  {
   "cell_type": "code",
   "execution_count": 12,
   "metadata": {
    "collapsed": false
   },
   "outputs": [
    {
     "data": {
      "text/latex": [
       "$$\\frac{\\left(1 - i\\right) \\left(r^{2} + s^{2}\\right) + \\left(r - s + i \\left(r + s\\right)\\right) \\overline{z}}{r - s - i \\left(r + s\\right) + \\left(1 + i\\right) \\left(r^{2} + s^{2}\\right) \\overline{z}}$$"
      ],
      "text/plain": [
       "        ⎛ 2    2⎞                       _\n",
       "(1 - ⅈ)⋅⎝r  + s ⎠ + (r - s + ⅈ⋅(r + s))⋅z\n",
       "─────────────────────────────────────────\n",
       "                             ⎛ 2    2⎞ _ \n",
       " r - s - ⅈ⋅(r + s) + (1 + ⅈ)⋅⎝r  + s ⎠⋅z "
      ]
     },
     "execution_count": 12,
     "metadata": {},
     "output_type": "execute_result"
    }
   ],
   "source": [
    "einfach(f(z))"
   ]
  },
  {
   "cell_type": "code",
   "execution_count": 13,
   "metadata": {
    "collapsed": false
   },
   "outputs": [
    {
     "data": {
      "text/latex": [
       "$$\\frac{1}{r^{2} + s^{2}} \\left(- 2 r^{2} - 2 s^{2} + 2\\right)$$"
      ],
      "text/plain": [
       "     2      2    \n",
       "- 2⋅r  - 2⋅s  + 2\n",
       "─────────────────\n",
       "      2    2     \n",
       "     r  + s      "
      ]
     },
     "execution_count": 13,
     "metadata": {},
     "output_type": "execute_result"
    }
   ],
   "source": [
    "det(v(a, b), v(conjugate(b), conjugate(a)))"
   ]
  },
  {
   "cell_type": "markdown",
   "metadata": {},
   "source": [
    "die Determinante ist positiv, da $\\; r^2+s^2<1 \\;$ ist\n",
    "<br>"
   ]
  },
  {
   "cell_type": "code",
   "execution_count": 14,
   "metadata": {
    "collapsed": false
   },
   "outputs": [
    {
     "data": {
      "text/latex": [
       "$$\\left(\\begin{matrix}r\\\\s\\end{matrix}\\right)$$"
      ],
      "text/plain": [
       "Vektorschar([r, s])"
      ]
     },
     "execution_count": 14,
     "metadata": {},
     "output_type": "execute_result"
    }
   ],
   "source": [
    "z = f(0)               # Bild des Ursprungs (komplexe Zahl)\n",
    "c2v(f(0)).einfach      # zugehöriger Punkt"
   ]
  },
  {
   "cell_type": "markdown",
   "metadata": {},
   "source": [
    "### Die inverse Isometrie \n",
    "$F$ wird in folgender Form gewonnen"
   ]
  },
  {
   "cell_type": "code",
   "execution_count": 15,
   "metadata": {
    "collapsed": false
   },
   "outputs": [
    {
     "data": {
      "text/latex": [
       "$$\\left ( \\frac{\\frac{c \\left(1 - i\\right)}{\\frac{r - s}{r^{2} + s^{2}} - \\frac{i \\left(r + s\\right)}{r^{2} + s^{2}}} + \\overline{d}}{\\frac{d \\left(1 - i\\right)}{\\frac{r - s}{r^{2} + s^{2}} - \\frac{i \\left(r + s\\right)}{r^{2} + s^{2}}} + \\overline{c}}, \\quad \\frac{c \\left(1 - i\\right) \\left(r^{2} + s^{2}\\right) + \\left(r - s - i \\left(r + s\\right)\\right) \\overline{d}}{d \\left(1 - i\\right) \\left(r^{2} + s^{2}\\right) + \\left(r - s - i \\left(r + s\\right)\\right) \\overline{c}}\\right )$$"
      ],
      "text/plain": [
       "⎛     c⋅(1 - ⅈ)        _                                             ⎞\n",
       "⎜─────────────────── + d                                             ⎟\n",
       "⎜ r - s    ⅈ⋅(r + s)                                                 ⎟\n",
       "⎜─────── - ─────────                                                 ⎟\n",
       "⎜ 2    2     2    2                 ⎛ 2    2⎞                       _⎟\n",
       "⎜r  + s     r  + s        c⋅(1 - ⅈ)⋅⎝r  + s ⎠ + (r - s - ⅈ⋅(r + s))⋅d⎟\n",
       "⎜───────────────────────, ───────────────────────────────────────────⎟\n",
       "⎜     d⋅(1 - ⅈ)        _            ⎛ 2    2⎞                       _⎟\n",
       "⎜─────────────────── + c  d⋅(1 - ⅈ)⋅⎝r  + s ⎠ + (r - s - ⅈ⋅(r + s))⋅c⎟\n",
       "⎜ r - s    ⅈ⋅(r + s)                                                 ⎟\n",
       "⎜─────── - ─────────                                                 ⎟\n",
       "⎜ 2    2     2    2                                                  ⎟\n",
       "⎝r  + s     r  + s                                                   ⎠"
      ]
     },
     "execution_count": 15,
     "metadata": {},
     "output_type": "execute_result"
    }
   ],
   "source": [
    "d = Symbol('d')\n",
    "\n",
    "F = lambda z: (c*z+conjugate(d))/(d*z+conjugate(c))\n",
    "F(z), einfach(F(z))"
   ]
  },
  {
   "cell_type": "markdown",
   "metadata": {},
   "source": [
    "wobei $\\; c,\\; \\bar{c}, \\; d\\; $ und $ \\; \\bar{d} \\;$ die Elemente der Umkehrmatrix\n",
    "$\\; \\left(\\begin{matrix}c & \\bar{d}\\\\ d & \\bar{c}\\end{matrix}\\right) \\;$ der zur \n",
    "<br>Abbildung $f$ gehörigen Matrix\n",
    "$\\; \\left(\\begin{matrix}a & \\bar{b}\\\\ b & \\bar{a}\\end{matrix}\\right) \\;$ sind"
   ]
  },
  {
   "cell_type": "code",
   "execution_count": 16,
   "metadata": {
    "collapsed": false
   },
   "outputs": [
    {
     "data": {
      "text/latex": [
       "$$\\left(\\begin{matrix}\\frac{r - s}{r^{2} + s^{2}} + \\frac{i \\left(r + s\\right)}{r^{2} + s^{2}} & 1 - i\\\\1 + i & \\frac{r - s}{r^{2} + s^{2}} - \\frac{i \\left(r + s\\right)}{r^{2} + s^{2}}\\end{matrix}\\right)$$"
      ],
      "text/plain": [
       "⎡ r - s    ⅈ⋅(r + s)                     ⎤\n",
       "⎢─────── + ─────────         1 - ⅈ       ⎥\n",
       "⎢ 2    2     2    2                      ⎥\n",
       "⎢r  + s     r  + s                       ⎥\n",
       "⎢                                        ⎥\n",
       "⎢                      r - s    ⅈ⋅(r + s)⎥\n",
       "⎢       1 + ⅈ         ─────── - ─────────⎥\n",
       "⎢                      2    2     2    2 ⎥\n",
       "⎣                     r  + s     r  + s  ⎦"
      ]
     },
     "execution_count": 16,
     "metadata": {},
     "output_type": "execute_result"
    }
   ],
   "source": [
    "M = v(a, b) | v(conjugate(b), conjugate(a))\n",
    "M"
   ]
  },
  {
   "cell_type": "code",
   "execution_count": 17,
   "metadata": {
    "collapsed": false
   },
   "outputs": [
    {
     "data": {
      "text/latex": [
       "$$\\left(\\begin{matrix}\\frac{\\left(1 - i\\right) \\left(1 + i\\right) \\left(r^{2} + s^{2}\\right)^{2} \\left(r + i r - s + i s\\right)}{\\left(r - s + i \\left(r + s\\right)\\right)^{2} \\left(- 2 r^{2} - 2 s^{2} + 2\\right)} + \\frac{r^{2} + s^{2}}{r - s + i \\left(r + s\\right)} & - \\frac{\\left(1 - i\\right) \\left(r^{2} + s^{2}\\right) \\left(r + i r - s + i s\\right)}{\\left(r - s + i \\left(r + s\\right)\\right) \\left(- 2 r^{2} - 2 s^{2} + 2\\right)}\\\\- \\frac{\\left(1 + i\\right) \\left(r^{2} + s^{2}\\right) \\left(r + i r - s + i s\\right)}{\\left(r - s + i \\left(r + s\\right)\\right) \\left(- 2 r^{2} - 2 s^{2} + 2\\right)} & \\frac{r + i r - s + i s}{- 2 r^{2} - 2 s^{2} + 2}\\end{matrix}\\right)$$"
      ],
      "text/plain": [
       "⎡                         2                                                   \n",
       "⎢                ⎛ 2    2⎞                              2    2                \n",
       "⎢(1 - ⅈ)⋅(1 + ⅈ)⋅⎝r  + s ⎠ ⋅(r + ⅈ⋅r - s + ⅈ⋅s)        r  + s        -(1 - ⅈ)⋅\n",
       "⎢────────────────────────────────────────────── + ─────────────────  ─────────\n",
       "⎢                      2 ⎛     2      2    ⎞      r - s + ⅈ⋅(r + s)           \n",
       "⎢   (r - s + ⅈ⋅(r + s)) ⋅⎝- 2⋅r  - 2⋅s  + 2⎠                         (r - s + \n",
       "⎢                                                                             \n",
       "⎢                      ⎛ 2    2⎞                                              \n",
       "⎢             -(1 + ⅈ)⋅⎝r  + s ⎠⋅(r + ⅈ⋅r - s + ⅈ⋅s)                          \n",
       "⎢             ───────────────────────────────────────                         \n",
       "⎢                                 ⎛     2      2    ⎞                         \n",
       "⎣             (r - s + ⅈ⋅(r + s))⋅⎝- 2⋅r  - 2⋅s  + 2⎠                         \n",
       "\n",
       "                              ⎤\n",
       "⎛ 2    2⎞                     ⎥\n",
       "⎝r  + s ⎠⋅(r + ⅈ⋅r - s + ⅈ⋅s) ⎥\n",
       "──────────────────────────────⎥\n",
       "           ⎛     2      2    ⎞⎥\n",
       "ⅈ⋅(r + s))⋅⎝- 2⋅r  - 2⋅s  + 2⎠⎥\n",
       "                              ⎥\n",
       "                              ⎥\n",
       "  r + ⅈ⋅r - s + ⅈ⋅s           ⎥\n",
       "  ─────────────────           ⎥\n",
       "       2      2               ⎥\n",
       "  - 2⋅r  - 2⋅s  + 2           ⎦"
      ]
     },
     "execution_count": 17,
     "metadata": {},
     "output_type": "execute_result"
    }
   ],
   "source": [
    "MI = M^-1\n",
    "MI"
   ]
  },
  {
   "cell_type": "code",
   "execution_count": 18,
   "metadata": {
    "collapsed": false
   },
   "outputs": [
    {
     "data": {
      "text/latex": [
       "$$\\left(\\begin{matrix}1 & 0\\\\0 & 1\\end{matrix}\\right)$$"
      ],
      "text/plain": [
       "⎡1  0⎤\n",
       "⎢    ⎥\n",
       "⎣0  1⎦"
      ]
     },
     "execution_count": 18,
     "metadata": {},
     "output_type": "execute_result"
    }
   ],
   "source": [
    "(M * MI).einfach   # Kontrolle"
   ]
  },
  {
   "cell_type": "code",
   "execution_count": 19,
   "metadata": {
    "collapsed": false
   },
   "outputs": [
    {
     "data": {
      "text/latex": [
       "$$\\left ( \\frac{\\left(1 - i\\right) \\left(1 + i\\right) \\left(r^{2} + s^{2}\\right)^{2} \\left(r + i r - s + i s\\right)}{\\left(r - s + i \\left(r + s\\right)\\right)^{2} \\left(- 2 r^{2} - 2 s^{2} + 2\\right)} + \\frac{r^{2} + s^{2}}{r - s + i \\left(r + s\\right)}, \\quad - \\frac{\\left(1 + i\\right) \\left(r^{2} + s^{2}\\right) \\left(r + i r - s + i s\\right)}{\\left(r - s + i \\left(r + s\\right)\\right) \\left(- 2 r^{2} - 2 s^{2} + 2\\right)}\\right )$$"
      ],
      "text/plain": [
       "⎛                         2                                                   \n",
       "⎜                ⎛ 2    2⎞                              2    2                \n",
       "⎜(1 - ⅈ)⋅(1 + ⅈ)⋅⎝r  + s ⎠ ⋅(r + ⅈ⋅r - s + ⅈ⋅s)        r  + s        -(1 + ⅈ)⋅\n",
       "⎜────────────────────────────────────────────── + ─────────────────, ─────────\n",
       "⎜                      2 ⎛     2      2    ⎞      r - s + ⅈ⋅(r + s)           \n",
       "⎝   (r - s + ⅈ⋅(r + s)) ⋅⎝- 2⋅r  - 2⋅s  + 2⎠                         (r - s + \n",
       "\n",
       "                              ⎞\n",
       "⎛ 2    2⎞                     ⎟\n",
       "⎝r  + s ⎠⋅(r + ⅈ⋅r - s + ⅈ⋅s) ⎟\n",
       "──────────────────────────────⎟\n",
       "           ⎛     2      2    ⎞⎟\n",
       "ⅈ⋅(r + s))⋅⎝- 2⋅r  - 2⋅s  + 2⎠⎠"
      ]
     },
     "execution_count": 19,
     "metadata": {},
     "output_type": "execute_result"
    }
   ],
   "source": [
    "c, d = MI[0, 0], MI[1, 0]\n",
    "c, d"
   ]
  },
  {
   "cell_type": "code",
   "execution_count": 20,
   "metadata": {
    "collapsed": false
   },
   "outputs": [],
   "source": [
    "def F(z): \n",
    "    return (c*z+conjugate(d)) / (d*z+conjugate(c))"
   ]
  },
  {
   "cell_type": "markdown",
   "metadata": {},
   "source": [
    "Diese Abbildung überführt die Zahl $\\;r+i s \\;$ nach 0"
   ]
  },
  {
   "cell_type": "code",
   "execution_count": 21,
   "metadata": {
    "collapsed": false
   },
   "outputs": [
    {
     "data": {
      "text/latex": [
       "$$0$$"
      ],
      "text/plain": [
       "0"
      ]
     },
     "execution_count": 21,
     "metadata": {},
     "output_type": "execute_result"
    }
   ],
   "source": [
    "einfach(F(r+s*I))"
   ]
  },
  {
   "cell_type": "markdown",
   "metadata": {},
   "source": [
    "\n",
    "### Isometrisches Bild eines Dreiecks "
   ]
  },
  {
   "cell_type": "code",
   "execution_count": 22,
   "metadata": {
    "collapsed": false
   },
   "outputs": [
    {
     "data": {
      "text/latex": [
       "$$16$$"
      ],
      "text/plain": [
       "16"
      ]
     },
     "execution_count": 22,
     "metadata": {},
     "output_type": "execute_result"
    }
   ],
   "source": [
    "# Eine Abbildung wird gewählt\n",
    "\n",
    "a, b = 2-5*I, -3+2*I\n",
    "\n",
    "det(v(a, b), v(conjugate(b), conjugate(a)))"
   ]
  },
  {
   "cell_type": "code",
   "execution_count": 23,
   "metadata": {
    "collapsed": false
   },
   "outputs": [
    {
     "data": {
      "text/latex": [
       "$$\\frac{-3 - 2 i + \\frac{\\left(1 + i\\right) \\left(2 - 5 i\\right)}{\\frac{r - s}{r^{2} + s^{2}} + \\frac{i \\left(r + s\\right)}{r^{2} + s^{2}}}}{2 + 5 i + \\frac{\\left(-3 + 2 i\\right) \\left(1 + i\\right)}{\\frac{r - s}{r^{2} + s^{2}} + \\frac{i \\left(r + s\\right)}{r^{2} + s^{2}}}}$$"
      ],
      "text/plain": [
       "            (1 + ⅈ)⋅(2 - 5⋅ⅈ) \n",
       "-3 - 2⋅ⅈ + ───────────────────\n",
       "            r - s    ⅈ⋅(r + s)\n",
       "           ─────── + ─────────\n",
       "            2    2     2    2 \n",
       "           r  + s     r  + s  \n",
       "──────────────────────────────\n",
       "           (-3 + 2⋅ⅈ)⋅(1 + ⅈ) \n",
       "2 + 5⋅ⅈ + ─────────────────── \n",
       "           r - s    ⅈ⋅(r + s) \n",
       "          ─────── + ───────── \n",
       "           2    2     2    2  \n",
       "          r  + s     r  + s   "
      ]
     },
     "execution_count": 23,
     "metadata": {},
     "output_type": "execute_result"
    }
   ],
   "source": [
    "def f(z): \n",
    "    return (a*conjugate(z)+conjugate(b))/(b*conjugate(z)+conjugate(a))\n",
    "\n",
    "f(z)"
   ]
  },
  {
   "cell_type": "code",
   "execution_count": 24,
   "metadata": {
    "collapsed": false
   },
   "outputs": [],
   "source": [
    "# Das Dreieck\n",
    "\n",
    "A = hPunkt(0.7, 0.1); B = hPunkt(-0.3, 0.5); C = hPunkt(0.6, 0.3)\n",
    "dd = hDreieck(A, B, C)"
   ]
  },
  {
   "cell_type": "code",
   "execution_count": 25,
   "metadata": {
    "collapsed": false
   },
   "outputs": [],
   "source": [
    "# Das Bild des Dreiecks\n",
    "\n",
    "zA, zB, zC = f(v2c(A.e)), f(v2c(B.e)), f(v2c(C.e))\n",
    "\n",
    "AA, BB, CC = c2p(zA), c2p(zB), c2p(zC)\n",
    "\n",
    "db = hDreieck(AA, BB, CC)"
   ]
  },
  {
   "cell_type": "code",
   "execution_count": 26,
   "metadata": {
    "collapsed": false
   },
   "outputs": [
    {
     "data": {
      "image/png": "[encoded data removed]",
      "text/plain": [
       "<matplotlib.figure.Figure at 0xca7fbd0>"
      ]
     },
     "metadata": {},
     "output_type": "display_data"
    }
   ],
   "source": [
    "sicht_box(-1.1, 1.1)\n",
    "zeichne(EinhKreis2, dd, [db, rot], achsen=nein)"
   ]
  },
  {
   "cell_type": "code",
   "execution_count": 27,
   "metadata": {
    "collapsed": false
   },
   "outputs": [
    {
     "data": {
      "text/latex": [
       "$$\\left ( 2.42282916765166, \\quad 0.82887090230963, \\quad 2.77246987970995\\right )$$"
      ],
      "text/plain": [
       "(2.42282916765166, 0.82887090230963, 2.77246987970995)"
      ]
     },
     "execution_count": 27,
     "metadata": {},
     "output_type": "execute_result"
    }
   ],
   "source": [
    "# Die Dreiecke sind kongruent\n",
    "\n",
    "dd.laengen"
   ]
  },
  {
   "cell_type": "code",
   "execution_count": 28,
   "metadata": {
    "collapsed": false
   },
   "outputs": [
    {
     "data": {
      "text/latex": [
       "$$\\left ( 2.42282916765166, \\quad 0.828870902309631, \\quad 2.77246987970995\\right )$$"
      ],
      "text/plain": [
       "(2.42282916765166, 0.828870902309631, 2.77246987970995)"
      ]
     },
     "execution_count": 28,
     "metadata": {},
     "output_type": "execute_result"
    }
   ],
   "source": [
    "db.laengen"
   ]
  },
  {
   "cell_type": "code",
   "execution_count": 29,
   "metadata": {
    "collapsed": false
   },
   "outputs": [
    {
     "data": {
      "text/latex": [
       "$$\\left ( 44.51650278910969, \\quad 6.671974785275454, \\quad 93.10003103564955\\right )$$"
      ],
      "text/plain": [
       "(44.51650278910969, 6.671974785275454, 93.10003103564955)"
      ]
     },
     "execution_count": 29,
     "metadata": {},
     "output_type": "execute_result"
    }
   ],
   "source": [
    "dd.winkel"
   ]
  },
  {
   "cell_type": "code",
   "execution_count": 30,
   "metadata": {
    "collapsed": false
   },
   "outputs": [
    {
     "data": {
      "text/latex": [
       "$$\\left ( 44.51650278910969, \\quad 6.671974785275454, \\quad 93.10003103564961\\right )$$"
      ],
      "text/plain": [
       "(44.51650278910969, 6.671974785275454, 93.10003103564961)"
      ]
     },
     "execution_count": 30,
     "metadata": {},
     "output_type": "execute_result"
    }
   ],
   "source": [
    "db.winkel"
   ]
  },
  {
   "cell_type": "code",
   "execution_count": 31,
   "metadata": {
    "collapsed": false
   },
   "outputs": [
    {
     "data": {
      "text/latex": [
       "$$\\left ( 0.623283105552501, \\quad 0.6232831055525\\right )$$"
      ],
      "text/plain": [
       "(0.623283105552501, 0.6232831055525)"
      ]
     },
     "execution_count": 31,
     "metadata": {},
     "output_type": "execute_result"
    }
   ],
   "source": [
    "dd.fläche, db.fläche"
   ]
  },
  {
   "cell_type": "markdown",
   "metadata": {},
   "source": [
    "<br>\n",
    "##  Isometrien im *H*-Modell"
   ]
  },
  {
   "cell_type": "markdown",
   "metadata": {},
   "source": [
    "Isometrische Abbildungen im $H$-Modell sind Parallelverschiebungen entlang der <br>$x$- bzw. $y$-Achse um eine Größe $d$ und Drehungen um die z-Achse um einen <br>Winkel $\\phi$ mit den Matrizen"
   ]
  },
  {
   "cell_type": "code",
   "execution_count": 55,
   "metadata": {
    "collapsed": false
   },
   "outputs": [],
   "source": [
    "def M1(d):\n",
    "    return Matrix(v(cosh(d), 0, sinh(d)), v(0, 1, 0), v(sinh(d), 0, cosh(d)))\n",
    "\n",
    "def M2(d):\n",
    "    return Matrix(v(1, 0, 0), v(0, cosh(d), sinh(d)), v(0, sinh(d), cosh(d)))\n",
    "    \n",
    "def M3(phi):    \n",
    "    return Matrix(v(cos(phi), sin(phi), 0), v(-sin(phi), cos(phi), 0), v(0, 0, 1))"
   ]
  },
  {
   "cell_type": "code",
   "execution_count": 33,
   "metadata": {
    "collapsed": false
   },
   "outputs": [
    {
     "data": {
      "text/latex": [
       "$$\\left ( \\left(\\begin{matrix}\\cosh{\\left (\\frac{\\left(1 + i\\right) \\left(r^{2} + s^{2}\\right) \\left(r + i r - s + i s\\right)}{\\left(r - s + i \\left(r + s\\right)\\right) \\left(- 2 r^{2} - 2 s^{2} + 2\\right)} \\right )} & 0 & - \\sinh{\\left (\\frac{\\left(1 + i\\right) \\left(r^{2} + s^{2}\\right) \\left(r + i r - s + i s\\right)}{\\left(r - s + i \\left(r + s\\right)\\right) \\left(- 2 r^{2} - 2 s^{2} + 2\\right)} \\right )}\\\\0 & 1 & 0\\\\- \\sinh{\\left (\\frac{\\left(1 + i\\right) \\left(r^{2} + s^{2}\\right) \\left(r + i r - s + i s\\right)}{\\left(r - s + i \\left(r + s\\right)\\right) \\left(- 2 r^{2} - 2 s^{2} + 2\\right)} \\right )} & 0 & \\cosh{\\left (\\frac{\\left(1 + i\\right) \\left(r^{2} + s^{2}\\right) \\left(r + i r - s + i s\\right)}{\\left(r - s + i \\left(r + s\\right)\\right) \\left(- 2 r^{2} - 2 s^{2} + 2\\right)} \\right )}\\end{matrix}\\right), \\quad \\left(\\begin{matrix}1 & 0 & 0\\\\0 & \\cosh{\\left (\\frac{\\left(1 + i\\right) \\left(r^{2} + s^{2}\\right) \\left(r + i r - s + i s\\right)}{\\left(r - s + i \\left(r + s\\right)\\right) \\left(- 2 r^{2} - 2 s^{2} + 2\\right)} \\right )} & - \\sinh{\\left (\\frac{\\left(1 + i\\right) \\left(r^{2} + s^{2}\\right) \\left(r + i r - s + i s\\right)}{\\left(r - s + i \\left(r + s\\right)\\right) \\left(- 2 r^{2} - 2 s^{2} + 2\\right)} \\right )}\\\\0 & - \\sinh{\\left (\\frac{\\left(1 + i\\right) \\left(r^{2} + s^{2}\\right) \\left(r + i r - s + i s\\right)}{\\left(r - s + i \\left(r + s\\right)\\right) \\left(- 2 r^{2} - 2 s^{2} + 2\\right)} \\right )} & \\cosh{\\left (\\frac{\\left(1 + i\\right) \\left(r^{2} + s^{2}\\right) \\left(r + i r - s + i s\\right)}{\\left(r - s + i \\left(r + s\\right)\\right) \\left(- 2 r^{2} - 2 s^{2} + 2\\right)} \\right )}\\end{matrix}\\right), \\quad \\left(\\begin{matrix}\\cos{\\left (\\phi \\right )} & - \\sin{\\left (\\phi \\right )} & 0\\\\\\sin{\\left (\\phi \\right )} & \\cos{\\left (\\phi \\right )} & 0\\\\0 & 0 & 1\\end{matrix}\\right)\\right )$$"
      ],
      "text/plain": [
       "⎛⎡    ⎛         ⎛ 2    2⎞                     ⎞           ⎛         ⎛ 2    2⎞ \n",
       "⎜⎢    ⎜ (1 + ⅈ)⋅⎝r  + s ⎠⋅(r + ⅈ⋅r - s + ⅈ⋅s) ⎟           ⎜ (1 + ⅈ)⋅⎝r  + s ⎠⋅\n",
       "⎜⎢cosh⎜───────────────────────────────────────⎟   0  -sinh⎜───────────────────\n",
       "⎜⎢    ⎜                    ⎛     2      2    ⎞⎟           ⎜                   \n",
       "⎜⎢    ⎝(r - s + ⅈ⋅(r + s))⋅⎝- 2⋅r  - 2⋅s  + 2⎠⎠           ⎝(r - s + ⅈ⋅(r + s))\n",
       "⎜⎢                                                                            \n",
       "⎜⎢                      0                         1                        0  \n",
       "⎜⎢                                                                            \n",
       "⎜⎢     ⎛         ⎛ 2    2⎞                     ⎞         ⎛         ⎛ 2    2⎞  \n",
       "⎜⎢     ⎜ (1 + ⅈ)⋅⎝r  + s ⎠⋅(r + ⅈ⋅r - s + ⅈ⋅s) ⎟         ⎜ (1 + ⅈ)⋅⎝r  + s ⎠⋅(\n",
       "⎜⎢-sinh⎜───────────────────────────────────────⎟  0  cosh⎜────────────────────\n",
       "⎜⎢     ⎜                    ⎛     2      2    ⎞⎟         ⎜                    \n",
       "⎜⎣     ⎝(r - s + ⅈ⋅(r + s))⋅⎝- 2⋅r  - 2⋅s  + 2⎠⎠         ⎝(r - s + ⅈ⋅(r + s))⋅\n",
       "⎜                                                                             \n",
       "⎝                                                                             \n",
       "\n",
       "                    ⎞⎤                                                        \n",
       "(r + ⅈ⋅r - s + ⅈ⋅s) ⎟⎥                                                        \n",
       "────────────────────⎟⎥, ⎡1                        0                           \n",
       " ⎛     2      2    ⎞⎟⎥  ⎢                                                     \n",
       "⋅⎝- 2⋅r  - 2⋅s  + 2⎠⎠⎥  ⎢       ⎛         ⎛ 2    2⎞                     ⎞     \n",
       "                     ⎥  ⎢       ⎜ (1 + ⅈ)⋅⎝r  + s ⎠⋅(r + ⅈ⋅r - s + ⅈ⋅s) ⎟     \n",
       "                     ⎥  ⎢0  cosh⎜───────────────────────────────────────⎟   -s\n",
       "                     ⎥  ⎢       ⎜                    ⎛     2      2    ⎞⎟     \n",
       "                   ⎞ ⎥  ⎢       ⎝(r - s + ⅈ⋅(r + s))⋅⎝- 2⋅r  - 2⋅s  + 2⎠⎠     \n",
       "r + ⅈ⋅r - s + ⅈ⋅s) ⎟ ⎥  ⎢                                                     \n",
       "───────────────────⎟ ⎥  ⎢        ⎛         ⎛ 2    2⎞                     ⎞    \n",
       "⎛     2      2    ⎞⎟ ⎥  ⎢        ⎜ (1 + ⅈ)⋅⎝r  + s ⎠⋅(r + ⅈ⋅r - s + ⅈ⋅s) ⎟    \n",
       "⎝- 2⋅r  - 2⋅s  + 2⎠⎠ ⎦  ⎢0  -sinh⎜───────────────────────────────────────⎟  co\n",
       "                        ⎢        ⎜                    ⎛     2      2    ⎞⎟    \n",
       "                        ⎣        ⎝(r - s + ⅈ⋅(r + s))⋅⎝- 2⋅r  - 2⋅s  + 2⎠⎠    \n",
       "\n",
       "                                                                   ⎞\n",
       "                                                                   ⎟\n",
       "                    0                       ⎤, ⎡cos(φ)  -sin(φ)  0⎤⎟\n",
       "                                            ⎥  ⎢                  ⎥⎟\n",
       "   ⎛         ⎛ 2    2⎞                     ⎞⎥  ⎢sin(φ)  cos(φ)   0⎥⎟\n",
       "   ⎜ (1 + ⅈ)⋅⎝r  + s ⎠⋅(r + ⅈ⋅r - s + ⅈ⋅s) ⎟⎥  ⎢                  ⎥⎟\n",
       "inh⎜───────────────────────────────────────⎟⎥  ⎣  0        0     1⎦⎟\n",
       "   ⎜                    ⎛     2      2    ⎞⎟⎥                      ⎟\n",
       "   ⎝(r - s + ⅈ⋅(r + s))⋅⎝- 2⋅r  - 2⋅s  + 2⎠⎠⎥                      ⎟\n",
       "                                            ⎥                      ⎟\n",
       "  ⎛         ⎛ 2    2⎞                     ⎞ ⎥                      ⎟\n",
       "  ⎜ (1 + ⅈ)⋅⎝r  + s ⎠⋅(r + ⅈ⋅r - s + ⅈ⋅s) ⎟ ⎥                      ⎟\n",
       "sh⎜───────────────────────────────────────⎟ ⎥                      ⎟\n",
       "  ⎜                    ⎛     2      2    ⎞⎟ ⎥                      ⎟\n",
       "  ⎝(r - s + ⅈ⋅(r + s))⋅⎝- 2⋅r  - 2⋅s  + 2⎠⎠ ⎦                      ⎠"
      ]
     },
     "execution_count": 33,
     "metadata": {},
     "output_type": "execute_result"
    }
   ],
   "source": [
    "M1(d), M2(d), M3(phi)"
   ]
  },
  {
   "cell_type": "markdown",
   "metadata": {},
   "source": [
    "Diese Abbildungen lassen die quadratische Form  $\\sigma$  invariant und erhalten somit \n",
    "die Metrik"
   ]
  },
  {
   "cell_type": "code",
   "execution_count": 34,
   "metadata": {
    "collapsed": true
   },
   "outputs": [],
   "source": [
    "x1, x2, y1, y2, z1, z2 = symbols('x_1, x_2, y_1 y_2, z_1, z_2')"
   ]
  },
  {
   "cell_type": "code",
   "execution_count": 35,
   "metadata": {
    "collapsed": false
   },
   "outputs": [
    {
     "data": {
      "text/latex": [
       "$$\\left ( \\left(\\begin{matrix}x_{1}\\\\y_{1}\\\\z_{1}\\end{matrix}\\right), \\quad \\left(\\begin{matrix}x_{2}\\\\y_{2}\\\\z_{2}\\end{matrix}\\right)\\right )$$"
      ],
      "text/plain": [
       "(Vektorschar([z_1, y_1, x_1]), Vektorschar([x_2, z_2, y_2]))"
      ]
     },
     "execution_count": 35,
     "metadata": {},
     "output_type": "execute_result"
    }
   ],
   "source": [
    "P1 = v(x1, y1, z1); P2 = v(x2, y2, z2)   # 2 Punkte\n",
    "P1, P2"
   ]
  },
  {
   "cell_type": "code",
   "execution_count": 36,
   "metadata": {
    "collapsed": false
   },
   "outputs": [
    {
     "data": {
      "text/latex": [
       "$$- x_{1} x_{2} - y_{1} y_{2} + z_{1} z_{2}$$"
      ],
      "text/plain": [
       "-x₁⋅x₂ - y₁⋅y₂ + z₁⋅z₂"
      ]
     },
     "execution_count": 36,
     "metadata": {},
     "output_type": "execute_result"
    }
   ],
   "source": [
    "def sigma(P, Q):             # die quadratische Form\n",
    "    return -P.x*Q.x - P.y*Q.y + P.z*Q.z\n",
    "\n",
    "sigma(P1, P2)"
   ]
  },
  {
   "cell_type": "code",
   "execution_count": 37,
   "metadata": {
    "collapsed": false
   },
   "outputs": [
    {
     "data": {
      "text/latex": [
       "$$- x_{1} x_{2} - y_{1} y_{2} + z_{1} z_{2}$$"
      ],
      "text/plain": [
       "-x₁⋅x₂ - y₁⋅y₂ + z₁⋅z₂"
      ]
     },
     "execution_count": 37,
     "metadata": {},
     "output_type": "execute_result"
    }
   ],
   "source": [
    "PP, QQ = M1(d) * P1, M1(d) * P2; einfach(sigma(PP, QQ))   # Nachweis ..."
   ]
  },
  {
   "cell_type": "code",
   "execution_count": 38,
   "metadata": {
    "collapsed": false
   },
   "outputs": [
    {
     "data": {
      "text/latex": [
       "$$- x_{1} x_{2} - y_{1} y_{2} + z_{1} z_{2}$$"
      ],
      "text/plain": [
       "-x₁⋅x₂ - y₁⋅y₂ + z₁⋅z₂"
      ]
     },
     "execution_count": 38,
     "metadata": {},
     "output_type": "execute_result"
    }
   ],
   "source": [
    "PP, QQ = M2(d) * P1, M2(d) * P2; einfach(sigma(PP, QQ))   # der ..."
   ]
  },
  {
   "cell_type": "code",
   "execution_count": 39,
   "metadata": {
    "collapsed": false
   },
   "outputs": [
    {
     "data": {
      "text/latex": [
       "$$- x_{1} x_{2} - y_{1} y_{2} + z_{1} z_{2}$$"
      ],
      "text/plain": [
       "-x₁⋅x₂ - y₁⋅y₂ + z₁⋅z₂"
      ]
     },
     "execution_count": 39,
     "metadata": {},
     "output_type": "execute_result"
    }
   ],
   "source": [
    "PP, QQ = M3(phi) * P1, M3(phi) * P2; einfach(sigma(PP, QQ))   # Invarianz"
   ]
  },
  {
   "cell_type": "markdown",
   "metadata": {},
   "source": [
    "### Isometrische Dreiecke"
   ]
  },
  {
   "cell_type": "code",
   "execution_count": 40,
   "metadata": {
    "collapsed": false
   },
   "outputs": [
    {
     "data": {
      "text/latex": [
       "$$\\left ( \\left(\\begin{matrix}0.2\\\\-1.0\\\\1.42828568570857\\end{matrix}\\right), \\quad \\left(\\begin{matrix}0.5\\\\0.3\\\\1.15758369027902\\end{matrix}\\right), \\quad \\left(\\begin{matrix}-2.0\\\\0.5\\\\2.29128784747792\\end{matrix}\\right)\\right )$$"
      ],
      "text/plain": [
       "(Vektor, Vektor, Vektor)"
      ]
     },
     "execution_count": 40,
     "metadata": {},
     "output_type": "execute_result"
    }
   ],
   "source": [
    "A = hPunkt(0.2, -1, 'h')\n",
    "B = hPunkt(0.5, 0.3,'h')\n",
    "C = hPunkt(-2, 0.5, 'h')\n",
    "A.e, B.e, C.e"
   ]
  },
  {
   "cell_type": "code",
   "execution_count": 41,
   "metadata": {
    "collapsed": true
   },
   "outputs": [],
   "source": [
    "d = hDreieck(A, B, C)   # das Ausgangsdreieck"
   ]
  },
  {
   "cell_type": "code",
   "execution_count": 42,
   "metadata": {
    "collapsed": false
   },
   "outputs": [
    {
     "data": {
      "text/latex": [
       "$$\\left ( \\left(\\begin{matrix}4.34438131233119\\\\-1.0\\\\4.56876886993997\\end{matrix}\\right), \\quad \\left(\\begin{matrix}4.47669810603631\\\\0.3\\\\4.59682781193609\\end{matrix}\\right), \\quad \\left(\\begin{matrix}0.405273383120814\\\\0.5\\\\1.18922096982278\\end{matrix}\\right)\\right )$$"
      ],
      "text/plain": [
       "(Vektor, Vektor, Vektor)"
      ]
     },
     "execution_count": 42,
     "metadata": {},
     "output_type": "execute_result"
    }
   ],
   "source": [
    "M1 = M1(1.7)   # Verschiebung entlang der x-Achse um 1.7\n",
    "\n",
    "A1 = hPunkt(M1*A.e)\n",
    "B1 = hPunkt(M1*B.e)\n",
    "C1 = hPunkt(M1*C.e)\n",
    "\n",
    "d1 = hDreieck(A1, B1, C1)\n",
    "\n",
    "A1.e, B1.e, C1.e\n",
    "\n",
    "# mit M2 kann analog verfahren werden\n"
   ]
  },
  {
   "cell_type": "code",
   "execution_count": 56,
   "metadata": {
    "collapsed": false
   },
   "outputs": [
    {
     "data": {
      "text/latex": [
       "$$\\left ( \\left(\\begin{matrix}-0.920844649545402\\\\0.438229541911092\\\\1.42828568570857\\end{matrix}\\right), \\quad \\left(\\begin{matrix}-0.0588842438087799\\\\-0.580114338584273\\\\1.15758369027902\\end{matrix}\\right), \\quad \\left(\\begin{matrix}1.59749645598263\\\\1.30307523693873\\\\2.29128784747792\\end{matrix}\\right)\\right )$$"
      ],
      "text/plain": [
       "(Vektor, Vektor, Vektor)"
      ]
     },
     "execution_count": 56,
     "metadata": {},
     "output_type": "execute_result"
    }
   ],
   "source": [
    "M3 = M3(180)     # Drehung um die z-Achse um 180°\n",
    "\n",
    "A3 = hPunkt(M3*A.e)\n",
    "B3 = hPunkt(M3*B.e)\n",
    "C3 = hPunkt(M3*C.e)\n",
    "\n",
    "d3 = hDreieck(A3, B3, C3)\n",
    "\n",
    "A3.e, B3.e, C3.e"
   ]
  },
  {
   "cell_type": "code",
   "execution_count": 57,
   "metadata": {
    "collapsed": false
   },
   "outputs": [],
   "source": [
    "sicht_box(5)\n",
    "zeichne([HypSchale, gelb], [d, 2], [d3, 2, rot])"
   ]
  },
  {
   "cell_type": "markdown",
   "metadata": {},
   "source": [
    "Die drei Dreiecke sind in der Tat kongruent, ihre Seitenlängen und <br>Innenwinkel stimmen überein"
   ]
  },
  {
   "cell_type": "code",
   "execution_count": 49,
   "metadata": {
    "collapsed": false
   },
   "outputs": [
    {
     "data": {
      "text/latex": [
       "$$\\left ( 1.92554989602509, \\quad 2.10701128138797, \\quad 1.22782338996751\\right )$$"
      ],
      "text/plain": [
       "(1.92554989602509, 2.10701128138797, 1.22782338996751)"
      ]
     },
     "execution_count": 49,
     "metadata": {},
     "output_type": "execute_result"
    }
   ],
   "source": [
    "d.längen"
   ]
  },
  {
   "cell_type": "code",
   "execution_count": 50,
   "metadata": {
    "collapsed": false
   },
   "outputs": [
    {
     "data": {
      "text/latex": [
       "$$\\left ( 1.92554989602513, \\quad 2.107011281388, \\quad 1.22782338996756\\right )$$"
      ],
      "text/plain": [
       "(1.92554989602513, 2.107011281388, 1.22782338996756)"
      ]
     },
     "execution_count": 50,
     "metadata": {},
     "output_type": "execute_result"
    }
   ],
   "source": [
    "d1.längen"
   ]
  },
  {
   "cell_type": "code",
   "execution_count": 51,
   "metadata": {
    "collapsed": false
   },
   "outputs": [
    {
     "data": {
      "text/latex": [
       "$$\\left ( 1.92554989602509, \\quad 2.10701128138797, \\quad 1.22782338996751\\right )$$"
      ],
      "text/plain": [
       "(1.92554989602509, 2.10701128138797, 1.22782338996751)"
      ]
     },
     "execution_count": 51,
     "metadata": {},
     "output_type": "execute_result"
    }
   ],
   "source": [
    "d3.längen"
   ]
  },
  {
   "cell_type": "code",
   "execution_count": 52,
   "metadata": {
    "collapsed": false
   },
   "outputs": [
    {
     "data": {
      "text/latex": [
       "$$\\left ( 47.98528028840903, \\quad 63.72622990618886, \\quad 20.206238282279774\\right )$$"
      ],
      "text/plain": [
       "(47.98528028840903, 63.72622990618886, 20.206238282279774)"
      ]
     },
     "execution_count": 52,
     "metadata": {},
     "output_type": "execute_result"
    }
   ],
   "source": [
    "d.winkel"
   ]
  },
  {
   "cell_type": "code",
   "execution_count": 53,
   "metadata": {
    "collapsed": false
   },
   "outputs": [
    {
     "data": {
      "text/latex": [
       "$$\\left ( 47.98528028840857, \\quad 63.726229906187136, \\quad 20.206238282279774\\right )$$"
      ],
      "text/plain": [
       "(47.98528028840857, 63.726229906187136, 20.206238282279774)"
      ]
     },
     "execution_count": 53,
     "metadata": {},
     "output_type": "execute_result"
    }
   ],
   "source": [
    "d1.winkel"
   ]
  },
  {
   "cell_type": "code",
   "execution_count": 54,
   "metadata": {
    "collapsed": false
   },
   "outputs": [
    {
     "data": {
      "text/latex": [
       "$$\\left ( 47.98528028840903, \\quad 63.72622990618886, \\quad 20.206238282279774\\right )$$"
      ],
      "text/plain": [
       "(47.98528028840903, 63.72622990618886, 20.206238282279774)"
      ]
     },
     "execution_count": 54,
     "metadata": {},
     "output_type": "execute_result"
    }
   ],
   "source": [
    "d3.winkel\n"
   ]
  },
  {
   "cell_type": "markdown",
   "metadata": {},
   "source": [
    "<br>\n",
    "## Parkettierung mit Fünfecken im *D*-Modell"
   ]
  },
  {
   "cell_type": "markdown",
   "metadata": {},
   "source": [
    "siehe [Rosebrock]\n",
    "<br><br>\n",
    "Die Konstruktion ist gegenwärtig **SEHR** zeitaufwändig; es werden bei jedem Schritt <br>nur ein bis zwei Fünfecke hinzugefügt\n",
    "<br>"
   ]
  },
  {
   "cell_type": "code",
   "execution_count": 58,
   "metadata": {
    "collapsed": false
   },
   "outputs": [
    {
     "data": {
      "text/latex": [
       "$$\\left ( 0.842482081462008, \\quad 0.530637530952518, \\quad 0.626869662906178\\right )$$"
      ],
      "text/plain": [
       "(0.842482081462008, 0.530637530952518, 0.626869662906178)"
      ]
     },
     "execution_count": 58,
     "metadata": {},
     "output_type": "execute_result"
    }
   ],
   "source": [
    "# Das Fundamentaldreieck   [Rosebrock S150]\n",
    "\n",
    "wia = pi/2; wib = pi/5; wic = pi/4\n",
    "\n",
    "# Die Seitenlängen\n",
    "\n",
    "# Die Berechnung erfolgt auf der Grundlage des Halbseitensatzes der \n",
    "# sphärischen Geometrie; R wird durch I ersetzt\n",
    "\n",
    "s = 1/2 * (wia + wib + wic)\n",
    "\n",
    "c = (N(abs(2*R*arctan(sqrt(-cos(s)*cos(s-wic)/cos(s-wia)/cos(s-wib)))))).subs(R, I)\n",
    "\n",
    "a = (N(abs(2*R*arctan(sqrt(-cos(s)*cos(s-wia)/cos(s-wib)/cos(s-wic)))))).subs(R, I)\n",
    "\n",
    "b = (N(abs(2*R*arctan(sqrt(-cos(s)*cos(s-wib)/cos(s-wia)/cos(s-wic)))))).subs(R, I)\n",
    "\n",
    "a, b, c"
   ]
  },
  {
   "cell_type": "code",
   "execution_count": 59,
   "metadata": {
    "collapsed": false
   },
   "outputs": [
    {
     "data": {
      "text/latex": [
       "$$\\left ( \\left(\\begin{matrix}0\\\\-0.303558658726647\\end{matrix}\\right), \\quad \\left(\\begin{matrix}0.0\\\\0.0\\end{matrix}\\right), \\quad \\left(\\begin{matrix}-0.233924086638903\\\\-0.321968883612519\\end{matrix}\\right)\\right )$$"
      ],
      "text/plain": [
       "(Vektor, Vektor, Vektor)"
      ]
     },
     "execution_count": 59,
     "metadata": {},
     "output_type": "execute_result"
    }
   ],
   "source": [
    "# Die Eckpunkte\n",
    "\n",
    "B = hPunkt(0, 0)\n",
    "\n",
    "h = Symbol('h')\n",
    "A = hPunkt(0, h); h = nsolve(A.abstand(B)-c, -0.5)\n",
    "A = hPunkt(0, N(h))\n",
    "\n",
    "t = Symbol('t')\n",
    "g = Gerade(v(0, 0), v(1, tan(3/10*pi)))\n",
    "C = hPunkt(g.pkt(t)); t = nsolve(C.abstand(B)-a, -0.5)\n",
    "C = hPunkt(g.pkt(N(t)))\n",
    "\n",
    "d = hDreieck(A, B, C)\n",
    "\n",
    "A.e.dez, B.e, C.e.dez"
   ]
  },
  {
   "cell_type": "code",
   "execution_count": 60,
   "metadata": {
    "collapsed": false
   },
   "outputs": [
    {
     "data": {
      "image/png": "[encoded data removed]",
      "text/plain": [
       "<matplotlib.figure.Figure at 0x16b96210>"
      ]
     },
     "metadata": {},
     "output_type": "display_data"
    }
   ],
   "source": [
    "sicht_box(1.1)\n",
    "zeichne(EinhKreis2, [A, rot, 2], [B, gruen, 2], [C, blau, 2], d, achsen=nein)"
   ]
  },
  {
   "cell_type": "markdown",
   "metadata": {},
   "source": [
    "Aus diesem Dreieck kann durch Spiegelungen an den auf Durchmessern liegenden Seiten \n",
    "<br>das Ausgangs-5-Eck erzeugt werden\n",
    "<br><br>\n",
    "Hier wird es durch euklidische Drehungen des Eckpunktes $C$ erzeugt\n",
    "<br>"
   ]
  },
  {
   "cell_type": "code",
   "execution_count": 61,
   "metadata": {
    "collapsed": false
   },
   "outputs": [],
   "source": [
    "# Das Ausgangs-5-Eck\n",
    "\n",
    "ecken = [hPunkt(C.e.bild(drehung(O2, i*360/5), exakt=False)) for i in range(5)]\n",
    "ecken += [ecken[0]]"
   ]
  },
  {
   "cell_type": "code",
   "execution_count": 62,
   "metadata": {
    "collapsed": false
   },
   "outputs": [],
   "source": [
    "seiten = [hStrecke(ecken[i], ecken[i+1]) for i in range(5)]"
   ]
  },
  {
   "cell_type": "code",
   "execution_count": 63,
   "metadata": {
    "collapsed": false
   },
   "outputs": [
    {
     "data": {
      "text/latex": [
       "$$\\left [ 1.0612750619050382, \\quad 1.061275061905038, \\quad 1.0612750619050377, \\quad 1.0612750619050382, \\quad 1.0612750619050373\\right ]$$"
      ],
      "text/plain": [
       "[1.0612750619050382, 1.061275061905038, 1.0612750619050377, 1.0612750619050382\n",
       ", 1.0612750619050373]"
      ]
     },
     "execution_count": 63,
     "metadata": {},
     "output_type": "execute_result"
    }
   ],
   "source": [
    "# Das Fünfeck ist regulär\n",
    "\n",
    "[ecken[i].abstand(ecken[i+1]) for i in range(5)]"
   ]
  },
  {
   "cell_type": "code",
   "execution_count": 64,
   "metadata": {
    "collapsed": false
   },
   "outputs": [
    {
     "data": {
      "image/png": "[encoded data removed]",
      "text/plain": [
       "<matplotlib.figure.Figure at 0x1528c90>"
      ]
     },
     "metadata": {},
     "output_type": "display_data"
    }
   ],
   "source": [
    "sicht_box(-1.1, 1.1)\n",
    "zeichne(EinhKreis2, *[[seiten[i], rot] for i in range(5)], achsen=nein)"
   ]
  },
  {
   "cell_type": "code",
   "execution_count": 65,
   "metadata": {
    "collapsed": false,
    "scrolled": false
   },
   "outputs": [],
   "source": [
    "# Durch Inversion des Fünfecks an seinen Seiten wird die nächste  \n",
    "# Generation von Fünfecken erzeugt\n",
    "\n",
    "seiten0 = [seiten[0].gerade.inv(s) for s in seiten]   # Inversion an \n",
    "                                            # der 0. (unteren) Seite"
   ]
  },
  {
   "cell_type": "code",
   "execution_count": 66,
   "metadata": {
    "collapsed": false
   },
   "outputs": [],
   "source": [
    "seiten1 = [seiten[1].gerade.inv(s) for s in seiten]   # Inversion an \n",
    "                                       # der 1. (angrenzenden) Seite"
   ]
  },
  {
   "cell_type": "code",
   "execution_count": 67,
   "metadata": {
    "collapsed": false
   },
   "outputs": [
    {
     "data": {
      "image/png": "[encoded data removed]",
      "text/plain": [
       "<matplotlib.figure.Figure at 0x16bf1750>"
      ]
     },
     "metadata": {},
     "output_type": "display_data"
    }
   ],
   "source": [
    "sicht_box(-1.1, 1.1)\n",
    "zeichne(EinhKreis2, \n",
    "        [seiten0[1], blau],  [seiten0[2], blau],  [seiten0[3], blau],  [seiten0[4], blau],\n",
    "        [seiten1[0], blau],  [seiten1[2], blau],  [seiten1[3], blau],  [seiten1[4], blau],\n",
    "        *[[seiten[i], rot] for i in range(5)], achsen=nein)\n"
   ]
  },
  {
   "cell_type": "code",
   "execution_count": 68,
   "metadata": {
    "collapsed": false
   },
   "outputs": [],
   "source": [
    "g0 = [hGerade(ecken[i], ecken[i+1]) for i in range(5)]   # 0. Geraden-\n",
    "                                                         # Generation"
   ]
  },
  {
   "cell_type": "code",
   "execution_count": 69,
   "metadata": {
    "collapsed": false
   },
   "outputs": [
    {
     "data": {
      "image/png": "[encoded data removed]",
      "text/plain": [
       "<matplotlib.figure.Figure at 0x14b4c90>"
      ]
     },
     "metadata": {},
     "output_type": "display_data"
    }
   ],
   "source": [
    "zeichne(EinhKreis2, [seiten0[2], blau, 2], [seiten0[3], rot, 2],\n",
    "        *[g0[i] for i in range(5)], achsen=nein)"
   ]
  },
  {
   "cell_type": "code",
   "execution_count": 70,
   "metadata": {
    "collapsed": false,
    "scrolled": false
   },
   "outputs": [],
   "source": [
    "# 1. Geraden-Generation \n",
    "\n",
    "g10 = seiten0[3].gerade\n",
    "g11 = seiten0[2].gerade\n",
    "\n",
    "dr = drehung(O2, 360/5)\n",
    "P0, Q0 = g10.e.pkt(30), g10.e.pkt(45)               # Punkte innerhalb \n",
    "PP0, QQ0 = hPunkt(P0.bild(dr)), hPunkt(Q0.bild(dr))\n",
    "g12 = hGerade(PP0, QQ0)\n",
    "P1, Q1 = g11.e.pkt(90), g11.e.pkt(120)              # des Einheitskreises\n",
    "PP1, QQ1 = hPunkt(P1.bild(dr)), hPunkt(Q1.bild(dr)) \n",
    "g13 = hGerade(PP1, QQ1)"
   ]
  },
  {
   "cell_type": "code",
   "execution_count": 71,
   "metadata": {
    "collapsed": false
   },
   "outputs": [
    {
     "data": {
      "image/png": "[encoded data removed]",
      "text/plain": [
       "<matplotlib.figure.Figure at 0x17c2d10>"
      ]
     },
     "metadata": {},
     "output_type": "display_data"
    }
   ],
   "source": [
    "sicht_box(-1.1, 1.1)\n",
    "zeichne(EinhKreis2, [seiten0[2], blau, 2], [seiten0[3], rot, 2],\n",
    "        g10, g11, g12, g13,\n",
    "        *[g0[i] for i in range(5)], achsen=nein)"
   ]
  },
  {
   "cell_type": "code",
   "execution_count": 72,
   "metadata": {
    "collapsed": false
   },
   "outputs": [],
   "source": [
    "# Zur Berechnung der 2. Geraden-Generation wird wieder invertiert\n",
    "\n",
    "seiten_rot = [seiten0[3].gerade.inv(seiten0[i]) for i in range(5)]"
   ]
  },
  {
   "cell_type": "code",
   "execution_count": 73,
   "metadata": {
    "collapsed": false
   },
   "outputs": [],
   "source": [
    "seiten_blau = [seiten0[2].gerade.inv(seiten0[i]) for i in range(5)]"
   ]
  },
  {
   "cell_type": "code",
   "execution_count": 74,
   "metadata": {
    "collapsed": false
   },
   "outputs": [
    {
     "data": {
      "image/png": "[encoded data removed]",
      "text/plain": [
       "<matplotlib.figure.Figure at 0x14f3790>"
      ]
     },
     "metadata": {},
     "output_type": "display_data"
    }
   ],
   "source": [
    "zeichne(EinhKreis2, [seiten0[2], blau, 2], [seiten0[3], rot, 2],\n",
    "        g10, g11, \n",
    "        [seiten_rot[0], rot, 2], [seiten_rot[1], blau, 2], seiten_rot[2], seiten_rot[4],\n",
    "        [seiten_blau[0], blau, 2], seiten_blau[1], seiten_blau[2], seiten_blau[3],  [seiten_blau[4], rot, 2],\n",
    "        *[g0[i] for i in range(5)], achsen=nein)"
   ]
  },
  {
   "cell_type": "code",
   "execution_count": 75,
   "metadata": {
    "collapsed": false
   },
   "outputs": [],
   "source": [
    "g20 = seiten_rot[0].gerade\n",
    "g21 = seiten_rot[1].gerade\n",
    "g22 = seiten_blau[4].gerade\n",
    "g23 = seiten_blau[0].gerade"
   ]
  },
  {
   "cell_type": "code",
   "execution_count": 76,
   "metadata": {
    "collapsed": false
   },
   "outputs": [
    {
     "data": {
      "image/png": "[encoded data removed]",
      "text/plain": [
       "<matplotlib.figure.Figure at 0xc3a10f0>"
      ]
     },
     "metadata": {},
     "output_type": "display_data"
    }
   ],
   "source": [
    "zeichne(EinhKreis2, \n",
    "        g10, g11,\n",
    "        g20, g21, g22, g23,\n",
    "        *[g0[i] for i in range(5)], achsen=nein)"
   ]
  },
  {
   "cell_type": "code",
   "execution_count": 77,
   "metadata": {
    "collapsed": false
   },
   "outputs": [],
   "source": [
    "# Überprüfung, dass die Spiegelung an einer \"Seitenkante\" ebenfalls zu einem \n",
    "# kongruenten Fünfeck führt\n",
    "\n",
    "seiten2 = [seiten0[1].gerade.inv(seiten0[i]) for i in range(5)]"
   ]
  },
  {
   "cell_type": "code",
   "execution_count": 78,
   "metadata": {
    "collapsed": false
   },
   "outputs": [
    {
     "data": {
      "image/png": "[encoded data removed]",
      "text/plain": [
       "<matplotlib.figure.Figure at 0xca79090>"
      ]
     },
     "metadata": {},
     "output_type": "display_data"
    }
   ],
   "source": [
    "zeichne(EinhKreis2, \n",
    "        g10, g11,\n",
    "        *[[seiten0[i], blau, 3] for i in range(5)], \n",
    "        *[[seiten2[i], grün, 3] for i in (0, 2, 3, 4)], \n",
    "        *[g0[i] for i in range(5)], achsen=nein)"
   ]
  },
  {
   "cell_type": "markdown",
   "metadata": {
    "collapsed": false
   },
   "source": [
    "<br>\n",
    "### Anmerkung\n",
    "Die verwendete Literatur ist mit der Hilfe-Funktion einsehbar "
   ]
  },
  {
   "cell_type": "code",
   "execution_count": 53,
   "metadata": {
    "collapsed": false
   },
   "outputs": [],
   "source": [
    "#Hilfe(h=23)    # entfernen"
   ]
  }
 ],
 "metadata": {
  "anaconda-cloud": {},
  "kernelspec": {
   "display_name": "Python [default]",
   "language": "python",
   "name": "python3"
  },
  "language_info": {
   "codemirror_mode": {
    "name": "ipython",
    "version": 3
   },
   "file_extension": ".py",
   "mimetype": "text/x-python",
   "name": "python",
   "nbconvert_exporter": "python",
   "pygments_lexer": "ipython3",
   "version": "3.5.2"
  }
 },
 "nbformat": 4,
 "nbformat_minor": 0
}
