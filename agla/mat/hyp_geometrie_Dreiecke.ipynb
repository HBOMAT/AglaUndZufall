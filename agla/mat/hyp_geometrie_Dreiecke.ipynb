{
 "cells": [
  {
   "cell_type": "markdown",
   "metadata": {},
   "source": [
    "# Materialien zu <i>agla</i>\n",
    "\n",
    "Autor: Holger Böttcher - hbomat@posteo.de\n",
    "\n",
    "## Hyperbolische Geometrie \n",
    "\n",
    "<br>"
   ]
  },
  {
   "cell_type": "code",
   "execution_count": 1,
   "metadata": {
    "collapsed": false
   },
   "outputs": [],
   "source": [
    "%run agla/start"
   ]
  },
  {
   "cell_type": "markdown",
   "metadata": {},
   "source": [
    "<br>\n",
    "## Berechnung von Dreiecken "
   ]
  },
  {
   "cell_type": "markdown",
   "metadata": {},
   "source": [
    "### Verwendete Sätze "
   ]
  },
  {
   "cell_type": "markdown",
   "metadata": {},
   "source": [
    "<b>Seitenkosinussatz</b> $\\:\\:\\:\\:\\:\\: \\cosh c = \\cosh a\\, \\cosh b - \\sinh a\\, \\sinh b\\, \\cos \\gamma $\n",
    "<br>\n",
    "<br><b>Winkelkosinussatz</b> $\\:\\:\\:\\:\\:\\, \\cos \\alpha = - \\cos \\beta\\, \\cos\\gamma + \\sin \\beta \\, \\sin \\gamma\\, \\cosh a\t$ \n",
    "<br><br>\n",
    "<b>Sinussatz</b>$ \\:\\:\\:\\:\\:\\:\\:\\:\\:\\:\\:\\:\\:\\:\\:\\:\\:\\:\\:\\: \\frac{\\sin \\alpha}{\\sin \\beta} = \\frac{\\sinh a}{\\sinh b} $\n",
    "<br><br>\n",
    "<b>Halbseitensatz</b> $ \\:\\:\\:\\:\\:\\:\\:\\:\\:\\:\\:\\:\\tan \\frac{c} {R} = \\sqrt{\\frac{-\\cos s\\, \\cos (s-\\gamma)}{\\cos (s-\\alpha)\\, \\cos (s-\\beta)}}, \\:\\:\\:\\:\\:\n",
    "s = \\frac{\\alpha + \\beta + \\gamma}{2}, \\:\\:\\:\\:\\: R $- Radius \n",
    "<br><br>\n",
    "$\\qquad\\qquad\\qquad\\quad\\:\\:$ (Satz der sphärischen Geometrie, $\\:R\\:$ wird durch $\\:i\\:$ ersetzt)\n",
    "\n",
    "Weitere Sätze sind durch die zyklischen Vertauschungen $\\:\\: a \\rightarrow b \\rightarrow c \\rightarrow a, \n",
    "\\:\\:\\alpha \\rightarrow \\beta \\rightarrow \\gamma \\rightarrow \\alpha \\:\\:$ zu gewinnen\n",
    "\n",
    "\n",
    "\n",
    "Die Maßeinheit für Winkel ist Grad, es werden die entsprechenden Funktionen benutzt\n",
    "<br><br>"
   ]
  },
  {
   "cell_type": "markdown",
   "metadata": {},
   "source": [
    "### <br> Grundaufgabe SSS  (1)"
   ]
  },
  {
   "cell_type": "code",
   "execution_count": 26,
   "metadata": {
    "collapsed": false
   },
   "outputs": [
    {
     "data": {
      "text/latex": [
       "$$\\left ( 9.92298225786045, \\quad 128.187167858749, \\quad 7.22134301861041\\right )$$"
      ],
      "text/plain": [
       "(9.92298225786045, 128.187167858749, 7.22134301861041)"
      ]
     },
     "execution_count": 26,
     "metadata": {},
     "output_type": "execute_result"
    }
   ],
   "source": [
    "# Gegeben sind die drei Seiten\n",
    "\n",
    "a = 2; b = 3.5; c = 1.7\n",
    "\n",
    "# Die Winkel werden nach dem Seitenkosinussatz berechnet\n",
    "\n",
    "wic = N(acosg((cosh(a)*cosh(b)-cosh(c))/(sinh(a)*sinh(b))))\n",
    "\n",
    "wia = N(acosg((cosh(b)*cosh(c)-cosh(a))/(sinh(b)*sinh(c))))\n",
    "\n",
    "wib = N(acosg((cosh(a)*cosh(c)-cosh(b))/(sinh(a)*sinh(c))))\n",
    "\n",
    "wia, wib, wic\n"
   ]
  },
  {
   "cell_type": "markdown",
   "metadata": {},
   "source": [
    "### <br> Grundaufgabe WWW (2)"
   ]
  },
  {
   "cell_type": "code",
   "execution_count": 3,
   "metadata": {
    "collapsed": false
   },
   "outputs": [
    {
     "data": {
      "text/latex": [
       "$$\\left ( 1.99999999999991, \\quad 3.49999999999979, \\quad 1.69999999999988\\right )$$"
      ],
      "text/plain": [
       "(1.99999999999991, 3.49999999999979, 1.69999999999988)"
      ]
     },
     "execution_count": 3,
     "metadata": {},
     "output_type": "execute_result"
    }
   ],
   "source": [
    "# Gegeben sind die drei Winkel\n",
    "\n",
    "wia = 9.92298225786045; wib = 128.187167858749; wic = 7.22134301861041\n",
    "\n",
    "# Die Berechnung der Seiten erfolgt auf der Grundlage des Halbseitensatzes der\n",
    "# sphärischen Geometrie\n",
    "\n",
    "s = 1/2 * (wia + wib + wic)\n",
    "\n",
    "c = (N(abs(2*R*atan(sqrt(-cosg(s)*cosg(s-wic)/cosg(s-wia)/cosg(s-wib)))))).subs(R, I)\n",
    "\n",
    "a = (N(abs(2*R*atan(sqrt(-cosg(s)*cosg(s-wia)/cosg(s-wib)/cosg(s-wic)))))).subs(R, I)\n",
    "\n",
    "b = (N(abs(2*R*atan(sqrt(-cosg(s)*cosg(s-wib)/cosg(s-wia)/cosg(s-wic)))))).subs(R, I)\n",
    "\n",
    "a, b, c"
   ]
  },
  {
   "cell_type": "markdown",
   "metadata": {},
   "source": [
    "### <br> Grundaufgabe SWS (3)"
   ]
  },
  {
   "cell_type": "code",
   "execution_count": 4,
   "metadata": {
    "collapsed": false
   },
   "outputs": [
    {
     "data": {
      "text/latex": [
       "$$\\left ( 1.70000000000003, \\quad 9.92298225785978, \\quad 128.187167858746\\right )$$"
      ],
      "text/plain": [
       "(1.70000000000003, 9.92298225785978, 128.187167858746)"
      ]
     },
     "execution_count": 4,
     "metadata": {},
     "output_type": "execute_result"
    }
   ],
   "source": [
    "# Gegeben sind zwei Seiten und der eingeschlossene Winkel\n",
    "\n",
    "a = 2; b = 3.5; wic = 7.22134301861041\n",
    "\n",
    "# Die fehlende Seite wird nach dem Seitenkosinussatz\n",
    "\n",
    "c = N(acosh(cosh(a)*cosh(b) - sinh(a)*sinh(b)*cosg(wic)))\n",
    "\n",
    "# Die Winkel werden durch Lösen eines Gleichungssystems auf der \n",
    "# Basis des Winkelkosinussatzes erhalten\n",
    "\n",
    "wia, wib = symbols('wia wib')\n",
    "\n",
    "gl1 = cosg(wia) + cosg(wib)*cosg(wic) - sing(wib)*sing(wic)*cosh(a)\n",
    "gl2 = cosg(wib) + cosg(wic)*cosg(wia) - sing(wic)*sing(wia)*cosh(b)\n",
    "\n",
    "L = nsolve([gl1, gl2], [wia, wib], [45, 45])\n",
    "\n",
    "wia = N(L[0]); wib = N(L[1])\n",
    "\n",
    "# Die Winkel können auch nach dem Sinussatz ermittelt werden; \n",
    "# dort sind Mehrdeutigkeiten zu beachten  \n",
    "\n",
    "c, wia, wib"
   ]
  },
  {
   "cell_type": "markdown",
   "metadata": {},
   "source": [
    "### <br> Grundaufgabe WSW (4)"
   ]
  },
  {
   "cell_type": "code",
   "execution_count": 5,
   "metadata": {
    "collapsed": false
   },
   "outputs": [
    {
     "data": {
      "text/latex": [
       "$$\\left ( 2.00000000000272, \\quad 3.5000000000027, \\quad 7.22134301859021\\right )$$"
      ],
      "text/plain": [
       "(2.00000000000272, 3.5000000000027, 7.22134301859021)"
      ]
     },
     "execution_count": 5,
     "metadata": {},
     "output_type": "execute_result"
    }
   ],
   "source": [
    "# Gegeben sind eine Seite und die beiden anliegenden Winkel\n",
    "\n",
    "c = 1.7; wia = 9.92298225786045; wib = 128.187167858749;\n",
    "\n",
    "# Der fehlende Winkel wird nach dem Winkelkosinussatz berechnet  \n",
    "\n",
    "wic = N(arccosg((sing(wia)*sing(wib)*cosh(c)-cosg(wia)*cosg(wib))))\n",
    "\n",
    "# Die Seiten werden wie in Grundaufgabe WWW ermittelt\n",
    "\n",
    "s = 1/2 * (wia + wib + wic)\n",
    "\n",
    "c = N(abs(2*R*arctan(sqrt(-cosg(s)*cosg(s-wic)/cosg(s-wia)/cosg(s-wib))))).subs(R, I)\n",
    "\n",
    "a = N(abs(2*R*arctan(sqrt(-cosg(s)*cosg(s-wia)/cosg(s-wib)/cosg(s-wic))))).subs(R, I)\n",
    "\n",
    "b = N(abs(2*R*arctan(sqrt(-cosg(s)*cosg(s-wib)/cosg(s-wia)/cosg(s-wic))))).subs(R, I)\n",
    "\n",
    "a, b, wic"
   ]
  },
  {
   "cell_type": "markdown",
   "metadata": {},
   "source": [
    "<br>\n",
    "## Konstruktion von Dreiecken "
   ]
  },
  {
   "cell_type": "markdown",
   "metadata": {},
   "source": [
    "### Dreieck in Ursprungslage "
   ]
  },
  {
   "cell_type": "markdown",
   "metadata": {},
   "source": [
    "Bei gegebenen drei Seiten kann ein Dreieck mit einer Ecke ($A$) im (euklidischen) Ursprung<br>\n",
    "konstruiert werden. Wenn der 2.  Eckpunkt ($B$) auf die  positive $x$-Achse gelegt wird, sind die <br>\n",
    "Seiten $c$ und $b$ hyperbolische Strecken, deren Träger Durchmesser des Einheitskreises sind<br><br>"
   ]
  },
  {
   "cell_type": "code",
   "execution_count": 6,
   "metadata": {
    "collapsed": false
   },
   "outputs": [
    {
     "data": {
      "image/png": "[encoded data removed]",
      "text/plain": [
       "<matplotlib.figure.Figure at 0xcb777d0>"
      ]
     },
     "metadata": {},
     "output_type": "display_data"
    }
   ],
   "source": [
    "# Beispiel für die Lage eines solcheen Dreiecks\n",
    "\n",
    "A = hPunkt(0, 0); B = hPunkt(0.8, 0); C = hPunkt(0.3, 0.3)\n",
    "d = hDreieck(A, B, C)\n",
    "\n",
    "sicht_box(-1.1, 1.1)\n",
    "zeichne(EinhKreis2, [d, rot, 2], \n",
    "        [A, rot, 2], [B, gruen, 2], [C, blau, 2],\n",
    "        [Gerade(v(-1, 0), v(1, 0)), gruen],\n",
    "        [Gerade(O2, C.e), gruen], \n",
    "        bez = [(O2-v(0,0.1), 'A'),\n",
    "               (B.e-v(0, 0.1), 'B'),\n",
    "               (C.e+v(0, 0.05), 'C'),\n",
    "               (v(0.3, -0.07), 'c'),\n",
    "               (v(0.5, 0.16), 'a'),\n",
    "               (v(0.1, 0.17), 'b')],\n",
    "        achsen=nein)"
   ]
  },
  {
   "cell_type": "code",
   "execution_count": 7,
   "metadata": {
    "collapsed": false
   },
   "outputs": [
    {
     "data": {
      "text/latex": [
       "$$\\left ( 1.86439895327004, \\quad 0.905761413341474, \\quad 2.19722457733622\\right )$$"
      ],
      "text/plain": [
       "(1.86439895327004, 0.905761413341474, 2.19722457733622)"
      ]
     },
     "execution_count": 7,
     "metadata": {},
     "output_type": "execute_result"
    }
   ],
   "source": [
    "d.längen"
   ]
  },
  {
   "cell_type": "markdown",
   "metadata": {},
   "source": [
    "<br>Die nachfolgenden Anweisungen erzeugen ein solches Dreieck anhand der 3 <br>\n",
    "vorgegebenen Seitenlängen \n",
    "<br>"
   ]
  },
  {
   "cell_type": "code",
   "execution_count": 54,
   "metadata": {
    "collapsed": false
   },
   "outputs": [
    {
     "data": {
      "text/latex": [
       "$$\\left ( \\operatorname{acosh}{\\left (\\frac{2 q^{2} + 2 r^{2}}{- q^{2} - r^{2} + 1} + 1 \\right )} - 2, \\quad \\operatorname{acosh}{\\left (\\frac{4.10747317631726 r^{2} + 4.10747317631726 \\left(- q + 0.716297870199024\\right)^{2}}{- q^{2} - r^{2} + 1} + 1 \\right )} - 1.5\\right )$$"
      ],
      "text/plain": [
       "⎛     ⎛   ⎛ 2    2⎞     ⎞           ⎛                 ⎛ 2                     \n",
       "⎜     ⎜ 2⋅⎝q  + r ⎠     ⎟           ⎜4.10747317631726⋅⎝r  + (-q + 0.7162978701\n",
       "⎜acosh⎜───────────── + 1⎟ - 2, acosh⎜─────────────────────────────────────────\n",
       "⎜     ⎜   2    2        ⎟           ⎜                     2    2              \n",
       "⎝     ⎝- q  - r  + 1    ⎠           ⎝                  - q  - r  + 1          \n",
       "\n",
       "      2⎞    ⎞      ⎞\n",
       "99024) ⎠    ⎟      ⎟\n",
       "──────── + 1⎟ - 1.5⎟\n",
       "            ⎟      ⎟\n",
       "            ⎠      ⎠"
      ]
     },
     "execution_count": 54,
     "metadata": {},
     "output_type": "execute_result"
    }
   ],
   "source": [
    "a = 1.5; b = 2; c = 1.8\n",
    "\n",
    "p = Symbol('p', real=True)\n",
    "q = Symbol('q', real=True)\n",
    "r = Symbol('r', real=True)\n",
    "\n",
    "A = hPunkt(0, 0)\n",
    "B = hPunkt(p, 0)\n",
    "C = hPunkt(q, r)  \n",
    "\n",
    "L = solve(A.abstand(B) - c, numeric=True)   # Verwendung von solve wegen\n",
    "p0 = L[1]                                   # des Zusatzes\n",
    "\n",
    "B = B.subs(p, p0)\n",
    "\n",
    "# Weiter ist das System aus den beiden Gleichungen\n",
    "\n",
    "gl1 = A.abstand(C) - b\n",
    "gl2 = B.abstand(C) - a\n",
    "\n",
    "# nach q und r zu lösen\n",
    "\n",
    "gl1, gl2\n"
   ]
  },
  {
   "cell_type": "code",
   "execution_count": 55,
   "metadata": {
    "collapsed": false
   },
   "outputs": [
    {
     "data": {
      "text/latex": [
       "$$\\left ( \\left [ q, \\quad r\\right ], \\quad \\left\\{\\left ( 0.666502947807627, \\quad -0.36850980848509\\right ), \\left ( 0.666502947807627, \\quad 0.36850980848509\\right )\\right\\}\\right )$$"
      ],
      "text/plain": [
       "([q, r], set([(0.666502947807627, -0.36850980848509), (0.666502947807627, 0.36\n",
       "850980848509)]))"
      ]
     },
     "execution_count": 55,
     "metadata": {},
     "output_type": "execute_result"
    }
   ],
   "source": [
    "L1 = solve([gl1, gl2], set=True)\n",
    "L1"
   ]
  },
  {
   "cell_type": "code",
   "execution_count": 56,
   "metadata": {
    "collapsed": false
   },
   "outputs": [
    {
     "data": {
      "text/latex": [
       "$$\\left ( 0.666502947807627, \\quad 0.36850980848509\\right )$$"
      ],
      "text/plain": [
       "(0.666502947807627, 0.36850980848509)"
      ]
     },
     "execution_count": 56,
     "metadata": {},
     "output_type": "execute_result"
    }
   ],
   "source": [
    "q0 = list(L1[1])[0][0]    # beide Lösungen sollen positiv sein\n",
    "r0 = list(L1[1])[0][1]\n",
    "q0, r0"
   ]
  },
  {
   "cell_type": "code",
   "execution_count": 57,
   "metadata": {
    "collapsed": true
   },
   "outputs": [],
   "source": [
    "C = hPunkt(q0, r0)"
   ]
  },
  {
   "cell_type": "code",
   "execution_count": 58,
   "metadata": {
    "collapsed": false
   },
   "outputs": [
    {
     "data": {
      "text/latex": [
       "$$\\left ( \\left(\\begin{matrix}0.0\\\\0.0\\end{matrix}\\right), \\quad \\left(\\begin{matrix}0.716297870199024\\\\0.0\\end{matrix}\\right), \\quad \\left(\\begin{matrix}0.666502947807627\\\\0.36850980848509\\end{matrix}\\right)\\right )$$"
      ],
      "text/plain": [
       "(Vektor, Vektor, Vektor)"
      ]
     },
     "execution_count": 58,
     "metadata": {},
     "output_type": "execute_result"
    }
   ],
   "source": [
    "A.e, B.e, C.e"
   ]
  },
  {
   "cell_type": "code",
   "execution_count": 59,
   "metadata": {
    "collapsed": true
   },
   "outputs": [],
   "source": [
    "d1 = hDreieck(A, B, C)"
   ]
  },
  {
   "cell_type": "code",
   "execution_count": 60,
   "metadata": {
    "collapsed": false
   },
   "outputs": [
    {
     "data": {
      "text/latex": [
       "$$\\left ( \\left ( 1.5, \\quad 2.0, \\quad 1.8\\right ), \\quad \\left ( 28.938227483351053, \\quad 55.50574218395355, \\quad 41.95848811252205\\right )\\right )$$"
      ],
      "text/plain": [
       "((1.5, 2.0, 1.8), (28.938227483351053, 55.50574218395355, 41.95848811252205))"
      ]
     },
     "execution_count": 60,
     "metadata": {},
     "output_type": "execute_result"
    }
   ],
   "source": [
    "d1.längen, d1.winkel   # das Dreieck hat die vorgegebenen Seiten"
   ]
  },
  {
   "cell_type": "code",
   "execution_count": 15,
   "metadata": {
    "collapsed": false
   },
   "outputs": [
    {
     "data": {
      "image/png": "[encoded data removed]",
      "text/plain": [
       "<matplotlib.figure.Figure at 0xcc0ddb0>"
      ]
     },
     "metadata": {},
     "output_type": "display_data"
    }
   ],
   "source": [
    "zeichne(EinhKreis2, d1, A, B, C)"
   ]
  },
  {
   "cell_type": "markdown",
   "metadata": {},
   "source": [
    "### <br>Dreieck in beliebiger Lage"
   ]
  },
  {
   "cell_type": "code",
   "execution_count": 27,
   "metadata": {
    "collapsed": false
   },
   "outputs": [
    {
     "data": {
      "text/latex": [
       "$$\\frac{\\left(\\frac{r - s}{r^{2} + s^{2}} + \\frac{i \\left(r + s\\right)}{r^{2} + s^{2}}\\right) \\overline{z} + 1 - i}{\\frac{r - s}{r^{2} + s^{2}} - \\frac{i \\left(r + s\\right)}{r^{2} + s^{2}} + \\left(1 + i\\right) \\overline{z}}$$"
      ],
      "text/plain": [
       "⎛ r - s    ⅈ⋅(r + s)⎞ _        \n",
       "⎜─────── + ─────────⎟⋅z + 1 - ⅈ\n",
       "⎜ 2    2     2    2 ⎟          \n",
       "⎝r  + s     r  + s  ⎠          \n",
       "───────────────────────────────\n",
       " r - s    ⅈ⋅(r + s)           _\n",
       "─────── - ───────── + (1 + ⅈ)⋅z\n",
       " 2    2     2    2             \n",
       "r  + s     r  + s              "
      ]
     },
     "execution_count": 27,
     "metadata": {},
     "output_type": "execute_result"
    }
   ],
   "source": [
    "# Mit der folgenden Isometrie kann der Ursprung in den Punkt P(r, s)\n",
    "# überführt werden (siehe Isometrien im D-Modell)\n",
    "\n",
    "r, s = Symbol('r', real=True), Symbol('s', real=True)\n",
    "\n",
    "a = (r-s)/(r^2+s^2) + (r+s)/(r^2+s^2)*I\n",
    "b = 1+I\n",
    "\n",
    "f = lambda z: (a*conjugate(z)+conjugate(b)) / (b*conjugate(z)+conjugate(a))\n",
    "f(z)\n"
   ]
  },
  {
   "cell_type": "code",
   "execution_count": 34,
   "metadata": {
    "collapsed": false
   },
   "outputs": [
    {
     "data": {
      "text/latex": [
       "$$\\left ( r, \\quad s\\right )$$"
      ],
      "text/plain": [
       "(r, s)"
      ]
     },
     "execution_count": 34,
     "metadata": {},
     "output_type": "execute_result"
    }
   ],
   "source": [
    "einfach(re(f(0))), einfach(im(f(0)))   # Kontrolle"
   ]
  },
  {
   "cell_type": "code",
   "execution_count": 18,
   "metadata": {
    "collapsed": false
   },
   "outputs": [
    {
     "data": {
      "text/latex": [
       "$$\\left ( \\left(\\begin{matrix}-0.5\\\\0.6\\end{matrix}\\right), \\quad \\left(\\begin{matrix}-0.0769394844292764\\\\0.817234444512158\\end{matrix}\\right), \\quad \\left(\\begin{matrix}-0.369089358476263\\\\0.390884108784232\\end{matrix}\\right)\\right )$$"
      ],
      "text/plain": [
       "(Vektor, Vektor, Vektor)"
      ]
     },
     "execution_count": 18,
     "metadata": {},
     "output_type": "execute_result"
    }
   ],
   "source": [
    "P = hPunkt(-0.5, 0.6)   # Ziel-Bild des Ursprungs\n",
    "\n",
    "# die entsprechende Isometrie\n",
    "\n",
    "r, s = -0.5, 0.6\n",
    "a = (r-s)/(r**2+s**2) + (r+s)/(r**2+s**2)*I;  b = 1+I\n",
    "\n",
    "f = lambda z: (a*conjugate(z)+conjugate(b)) / (b*conjugate(z)+conjugate(a))\n",
    "\n",
    "# Anwendung der Isometrie auf die Eckpunkte des Dreiecks d\n",
    "\n",
    "A, B, C = d.punkte\n",
    "AA = hPunkt(re(f(0)), im(f(0)))\n",
    "wB = f(B.e.x+B.e.y*I); BB = hPunkt(re(wB), im(wB))\n",
    "wC = f(C.e.x+C.e.y*I); CC = hPunkt(re(wC), im(wC))\n",
    "\n",
    "AA.e.dez, BB.e.dez, CC.e.dez\n"
   ]
  },
  {
   "cell_type": "code",
   "execution_count": 19,
   "metadata": {
    "collapsed": false
   },
   "outputs": [],
   "source": [
    "# Das Dreieck\n",
    "\n",
    "dd = hDreieck(AA, BB, CC)\n",
    "\n",
    "# ist zum obigen Dreieck d kongruent"
   ]
  },
  {
   "cell_type": "code",
   "execution_count": 20,
   "metadata": {
    "collapsed": false
   },
   "outputs": [
    {
     "data": {
      "text/latex": [
       "$$\\left ( \\left ( 1.86439895327004, \\quad 0.905761413341474, \\quad 2.19722457733622\\right ), \\quad \\left ( 45.0, \\quad 13.438188158350592, \\quad 86.5106750942036\\right )\\right )$$"
      ],
      "text/plain": [
       "((1.86439895327004, 0.905761413341474, 2.19722457733622), (45.0, 13.4381881583\n",
       "50592, 86.5106750942036))"
      ]
     },
     "execution_count": 20,
     "metadata": {},
     "output_type": "execute_result"
    }
   ],
   "source": [
    "dd.laengen, dd.winkel"
   ]
  },
  {
   "cell_type": "code",
   "execution_count": 21,
   "metadata": {
    "collapsed": false
   },
   "outputs": [
    {
     "data": {
      "text/latex": [
       "$$\\left ( \\left ( 1.86439895327004, \\quad 0.905761413341474, \\quad 2.19722457733622\\right ), \\quad \\left ( 45.0, \\quad 13.438188158350592, \\quad 86.51067509420363\\right )\\right )$$"
      ],
      "text/plain": [
       "((1.86439895327004, 0.905761413341474, 2.19722457733622), (45.0, 13.4381881583\n",
       "50592, 86.51067509420363))"
      ]
     },
     "execution_count": 21,
     "metadata": {},
     "output_type": "execute_result"
    }
   ],
   "source": [
    "d.längen, d.winkel   # siehe oben"
   ]
  },
  {
   "cell_type": "code",
   "execution_count": 24,
   "metadata": {
    "collapsed": false
   },
   "outputs": [
    {
     "data": {
      "text/latex": [
       "$$\\left ( 0.611757742809706, \\quad 0.611757742809705\\right )$$"
      ],
      "text/plain": [
       "(0.611757742809706, 0.611757742809705)"
      ]
     },
     "execution_count": 24,
     "metadata": {},
     "output_type": "execute_result"
    }
   ],
   "source": [
    "dd.fläche, d.fläche"
   ]
  },
  {
   "cell_type": "code",
   "execution_count": 22,
   "metadata": {
    "collapsed": false
   },
   "outputs": [
    {
     "data": {
      "image/png": "[encoded data removed]",
      "text/plain": [
       "<matplotlib.figure.Figure at 0xce98130>"
      ]
     },
     "metadata": {},
     "output_type": "display_data"
    }
   ],
   "source": [
    "zeichne(EinhKreis2, d, [dd, rot, 2], A, [P, rot, 2], achsen=nein)"
   ]
  },
  {
   "cell_type": "code",
   "execution_count": null,
   "metadata": {
    "collapsed": true
   },
   "outputs": [],
   "source": []
  }
 ],
 "metadata": {
  "anaconda-cloud": {},
  "kernelspec": {
   "display_name": "Python [default]",
   "language": "python",
   "name": "python3"
  },
  "language_info": {
   "codemirror_mode": {
    "name": "ipython",
    "version": 3
   },
   "file_extension": ".py",
   "mimetype": "text/x-python",
   "name": "python",
   "nbconvert_exporter": "python",
   "pygments_lexer": "ipython3",
   "version": "3.5.2"
  }
 },
 "nbformat": 4,
 "nbformat_minor": 0
}
