{
 "cells": [
  {
   "cell_type": "markdown",
   "metadata": {},
   "source": [
    "# Materialien zu <i>agla</i>\n",
    "\n",
    "Autor: Holger Böttcher - hbomat@posteo.de\n",
    "\n",
    "## Archimedische Körper"
   ]
  },
  {
   "cell_type": "markdown",
   "metadata": {},
   "source": [
    "### Kuboktaeder   "
   ]
  },
  {
   "cell_type": "markdown",
   "metadata": {},
   "source": [
    "Flächenfolge in einer Ecke  (3, 4, 3, 4)\n",
    "<br><br>"
   ]
  },
  {
   "cell_type": "code",
   "execution_count": 1,
   "metadata": {
    "collapsed": true
   },
   "outputs": [],
   "source": [
    "%run agla/start"
   ]
  },
  {
   "cell_type": "code",
   "execution_count": 2,
   "metadata": {
    "collapsed": false
   },
   "outputs": [],
   "source": [
    "# Die Koordinaten der Eckpunkte sind exakt definiert\n",
    "\n",
    "# Erzeugung des Körpers über seine Seitenflächen\n",
    "\n",
    "UMG.SIMPL = False\n",
    "\n",
    "p0  = v(-1, 0, 1) \n",
    "p1  = v(0,-1, 1) \n",
    "p2  = v(-1,-1, 0) \n",
    "p3  = v(1, 0,-1) \n",
    "p4  = v(1,-1, 0) \n",
    "p5  = v(0,-1,-1) \n",
    "p6  = v(1, 0, 1) \n",
    "p7  = v(1, 1, 0) \n",
    "p8  = v(0, 1, 1) \n",
    "p9  = v(-1, 0,-1) \n",
    "p10 = v(-1, 1, 0) \n",
    "p11 = v(0, 1,-1) \n",
    "\n",
    "dreiecke = [\n",
    " Koerper(p0, p1, p2,p0),\n",
    " Koerper(p3, p4, p5,p3),\n",
    " Koerper(p6, p7, p8,p6),\n",
    " Koerper(p9, p10,p11,p9),\n",
    " Koerper(p2, p9, p5,p2),\n",
    " Koerper(p4, p6, p1,p4),\n",
    " Koerper(p10,p0, p8,p10),\n",
    " Koerper(p7, p3, p11,p7)\n",
    "] \n",
    "\n",
    "vierecke = [\n",
    " Koerper(p0, p10,p9, p2,p0),\n",
    " Koerper(p6, p4, p3, p7,p6),\n",
    " Koerper(p1, p2, p5, p4,p1),\n",
    " Koerper(p8, p7, p11,p10,p8),\n",
    " Koerper(p8, p0, p1, p6,p8),\n",
    " Koerper(p11,p3, p5, p9,p11)\n",
    "] \n",
    "\n",
    "seiten_liste = [dreiecke[i] for i in range(len(dreiecke))] + [vierecke[i] for i in range(len(vierecke))]"
   ]
  },
  {
   "cell_type": "code",
   "execution_count": 3,
   "metadata": {
    "collapsed": false
   },
   "outputs": [],
   "source": [
    "K = Körper(*seiten_liste, seiten=True)   "
   ]
  },
  {
   "cell_type": "code",
   "execution_count": 4,
   "metadata": {
    "collapsed": false
   },
   "outputs": [],
   "source": [
    "sicht_box(-1.2, 1.2)\n",
    "zeichne(K)"
   ]
  },
  {
   "cell_type": "code",
   "execution_count": 5,
   "metadata": {
    "collapsed": false
   },
   "outputs": [],
   "source": [
    "KS = K.seiten"
   ]
  },
  {
   "cell_type": "code",
   "execution_count": 6,
   "metadata": {
    "collapsed": false
   },
   "outputs": [],
   "source": [
    "K1  = Körper(*[KS[i] for i in range(len(KS)) if KS[i].anz_ecken == 3], seiten=True)   \n",
    "K2  = Körper(*[KS[i] for i in range(len(KS)) if KS[i].anz_ecken == 4], seiten=True)"
   ]
  },
  {
   "cell_type": "code",
   "execution_count": 7,
   "metadata": {
    "collapsed": false
   },
   "outputs": [],
   "source": [
    "sicht_box(-2, 2)\n",
    "zeichne([K1, rot, 'fuell=ja'], [K2, gelb, 'fuell=ja'], K, achsen=False, box=False)"
   ]
  },
  {
   "cell_type": "code",
   "execution_count": null,
   "metadata": {
    "collapsed": false
   },
   "outputs": [],
   "source": []
  }
 ],
 "metadata": {
  "anaconda-cloud": {},
  "kernelspec": {
   "display_name": "Python [default]",
   "language": "python",
   "name": "python3"
  },
  "language_info": {
   "codemirror_mode": {
    "name": "ipython",
    "version": 3
   },
   "file_extension": ".py",
   "mimetype": "text/x-python",
   "name": "python",
   "nbconvert_exporter": "python",
   "pygments_lexer": "ipython3",
   "version": "3.5.2"
  }
 },
 "nbformat": 4,
 "nbformat_minor": 0
}
