{
 "cells": [
  {
   "cell_type": "markdown",
   "metadata": {},
   "source": [
    "# Materialien zu <i>agla</i>\n",
    "\n",
    "Autor: Holger Böttcher - hbomat@posteo.de\n",
    "\n",
    "## Standardaufgaben im $\\mathbb{R}^3$"
   ]
  },
  {
   "cell_type": "markdown",
   "metadata": {},
   "source": [
    "Mittelpunkt einer Strecke\n",
    "\n",
    "Spiegelung eines Punktes an einem Punkt \n",
    "\n",
    "Gerade durch zwei Punkte\n",
    "\n",
    "Ebene durch drei Punkte\n",
    "\n",
    "Ebene durch einen Punkt und eine Gerade\n",
    "\n",
    "Ebene durch zwei Geraden\n",
    "  \n",
    "Parallele zu einer Geraden durch einen Punkt\n",
    "\n",
    "Parallele zu einer Ebene \n",
    "\n",
    "Lotgerade von einem Punkt auf eine Ebene\n",
    "\n",
    "Spiegelung eines Punktes an einer Ebene\n",
    "\n",
    "Lotgerade von einem Punkt auf eine Gerade \n",
    "\n",
    "Spiegelung eines Punktes an einer Geraden\n",
    "\n",
    "Winkelhalbierende von zwei Geraden\n",
    "\n",
    "Winkelhalbierende von zwei Ebenen\n",
    "\n",
    "Umkugel einer dreiseitigen Pyramide\n",
    "\n",
    "Kugel durch 4 Punkte \n",
    "\n",
    "Inkugel einer quadratischen Pyramide\n",
    "\n",
    "Thaleskreis über einer Strecke\n",
    "\n",
    "Mittelsenkrechte einer Strecke\n",
    "\n",
    "<br>\n",
    "<i>Bei der Ausführung des Notebooks sind zum Zeichnen der Grafiken die Kommentar-<br>anweisungen (#) zu entfernen</i>\n",
    "<br><br>"
   ]
  },
  {
   "cell_type": "code",
   "execution_count": 1,
   "metadata": {
    "collapsed": false
   },
   "outputs": [],
   "source": [
    "%run agla/start"
   ]
  },
  {
   "cell_type": "markdown",
   "metadata": {},
   "source": [
    "<br>\n",
    "### Mittelpunkt einer Strecke"
   ]
  },
  {
   "cell_type": "code",
   "execution_count": 2,
   "metadata": {
    "collapsed": false
   },
   "outputs": [
    {
     "data": {
      "text/latex": [
       "$$\\left ( \\left(\\begin{matrix}- \\frac{3}{2}\\\\\\frac{3}{2}\\\\\\frac{1}{2}\\end{matrix}\\right), \\quad \\left(\\begin{matrix}- \\frac{3}{2}\\\\\\frac{3}{2}\\\\\\frac{1}{2}\\end{matrix}\\right), \\quad \\left(\\begin{matrix}- \\frac{3}{2}\\\\\\frac{3}{2}\\\\\\frac{1}{2}\\end{matrix}\\right), \\quad \\left(\\begin{matrix}- \\frac{3}{2}\\\\\\frac{3}{2}\\\\\\frac{1}{2}\\end{matrix}\\right), \\quad \\left(\\begin{matrix}- \\frac{3}{2}\\\\\\frac{3}{2}\\\\\\frac{1}{2}\\end{matrix}\\right)\\right )$$"
      ],
      "text/plain": [
       "(Vektor, Vektor, Vektor, Vektor, Vektor)"
      ]
     },
     "execution_count": 2,
     "metadata": {},
     "output_type": "execute_result"
    }
   ],
   "source": [
    "A = v(-5, 6, -2); B = v(2, -3, 3)\n",
    "\n",
    "M1 = 1/2 * (A + B)            # oder   / 1/2 ergibt Gleitkommazahl\n",
    "M2 = A + 1/2 * v(A, B)        # oder\n",
    "\n",
    "M3 = (A + B) / 2              # oder\n",
    "M4 = A + v(A, B) / 2          # oder\n",
    "\n",
    "M5 = Strecke(A, B).mitte\n",
    "\n",
    "M1, M2, M3, M4, M5"
   ]
  },
  {
   "cell_type": "code",
   "execution_count": 3,
   "metadata": {
    "collapsed": false
   },
   "outputs": [
    {
     "data": {
      "text/plain": [
       "sympy.core.numbers.Rational"
      ]
     },
     "execution_count": 3,
     "metadata": {},
     "output_type": "execute_result"
    }
   ],
   "source": [
    "type(M3.x)"
   ]
  },
  {
   "cell_type": "code",
   "execution_count": 4,
   "metadata": {
    "collapsed": true
   },
   "outputs": [],
   "source": [
    "zeichne(Strecke(A, B), A, B, [M1, rot, 2])"
   ]
  },
  {
   "cell_type": "markdown",
   "metadata": {},
   "source": [
    "### Spiegelung eines Punktes an einem Punkt"
   ]
  },
  {
   "cell_type": "code",
   "execution_count": 5,
   "metadata": {
    "collapsed": false
   },
   "outputs": [
    {
     "data": {
      "text/latex": [
       "$$\\left(\\begin{matrix}-7\\\\0\\\\2\\end{matrix}\\right)$$"
      ],
      "text/plain": [
       "Vektor"
      ]
     },
     "execution_count": 5,
     "metadata": {},
     "output_type": "execute_result"
    }
   ],
   "source": [
    "A = v(3, 2, -2)        # zu spiegelnder Punkt\n",
    "S = v(-2, 1, 0)        # Spiegelpunkt\n",
    "\n",
    "B = A + 2 * v(A, S)    # Bildpunkt    \n",
    "B"
   ]
  },
  {
   "cell_type": "code",
   "execution_count": 6,
   "metadata": {
    "collapsed": true
   },
   "outputs": [],
   "source": [
    "zeichne(S, [A, grün], [B, rot, 2], Strecke(A, B))"
   ]
  },
  {
   "cell_type": "markdown",
   "metadata": {},
   "source": [
    "### Gerade durch zwei Punkte"
   ]
  },
  {
   "cell_type": "markdown",
   "metadata": {},
   "source": [
    "Ein Ortsvektor wird zum Stützvektor, der Differenzvektor mit dem anderen zum Rich-<br>tungsvektor\n"
   ]
  },
  {
   "cell_type": "code",
   "execution_count": 7,
   "metadata": {
    "collapsed": false
   },
   "outputs": [
    {
     "data": {
      "text/latex": [
       "$$\\left(\\begin{matrix}x\\\\y\\\\z\\end{matrix}\\right)=\\left(\\begin{matrix}-3\\\\4\\\\-2\\end{matrix}\\right)+t\\,\\left(\\begin{matrix}1\\\\-3\\\\-2\\end{matrix}\\right)$$"
      ],
      "text/plain": [
       "<IPython.core.display.Math object>"
      ]
     },
     "metadata": {},
     "output_type": "display_data"
    }
   ],
   "source": [
    "A = v(-3, 4, -2); B = v(-2, 1, -4)\n",
    "\n",
    "g = Gerade(A, v(A, B))   \n",
    "\n",
    "g.prg\n"
   ]
  },
  {
   "cell_type": "code",
   "execution_count": 8,
   "metadata": {
    "collapsed": true
   },
   "outputs": [],
   "source": [
    "zeichne([g, blau], A, B)"
   ]
  },
  {
   "cell_type": "markdown",
   "metadata": {},
   "source": [
    "### Ebene durch drei Punkte"
   ]
  },
  {
   "cell_type": "markdown",
   "metadata": {},
   "source": [
    "Ein Ortsvektor wird zum Stützvektor, die Differenzvektoren mit den beiden anderen wer-<br>den Spannvektoren"
   ]
  },
  {
   "cell_type": "code",
   "execution_count": 9,
   "metadata": {
    "collapsed": false
   },
   "outputs": [
    {
     "data": {
      "text/latex": [
       "$$\\left(\\begin{matrix}x\\\\y\\\\z\\end{matrix}\\right)=\\left(\\begin{matrix}-3\\\\4\\\\-2\\end{matrix}\\right)+r\\,\\left(\\begin{matrix}1\\\\-3\\\\-2\\end{matrix}\\right)+s\\,\\left(\\begin{matrix}7\\\\-7\\\\1\\end{matrix}\\right)$$"
      ],
      "text/plain": [
       "<IPython.core.display.Math object>"
      ]
     },
     "metadata": {},
     "output_type": "display_data"
    }
   ],
   "source": [
    "A = v(-3, 4, -2); B = v(-2, 1, -4); C = v(4, -3, -1)\n",
    "\n",
    "E = Ebene(A, v(A, B), v(A, C), r, s)   \n",
    "\n",
    "E.prg   \n"
   ]
  },
  {
   "cell_type": "code",
   "execution_count": 10,
   "metadata": {
    "collapsed": true
   },
   "outputs": [],
   "source": [
    "zeichne(E, A, B, C)"
   ]
  },
  {
   "cell_type": "markdown",
   "metadata": {},
   "source": [
    "### Ebene durch einen Punkt und eine Gerade"
   ]
  },
  {
   "cell_type": "markdown",
   "metadata": {},
   "source": [
    "Stützvektor ist der Ortsvektor des Punktes,  Spannvektoren sind der Richtungsvektor <br>\n",
    "der Geraden sowie die Differenz zwischen dem Ortsvektor des Punktes und dem <br>\n",
    "Stützvektor der Geraden "
   ]
  },
  {
   "cell_type": "code",
   "execution_count": 11,
   "metadata": {
    "collapsed": false
   },
   "outputs": [
    {
     "data": {
      "text/latex": [
       "$$\\left(\\begin{matrix}x\\\\y\\\\z\\end{matrix}\\right)=\\left(\\begin{matrix}-1\\\\4\\\\3\\end{matrix}\\right)+r\\,\\left(\\begin{matrix}4\\\\-2\\\\2\\end{matrix}\\right)+s\\,\\left(\\begin{matrix}2\\\\-6\\\\0\\end{matrix}\\right)$$"
      ],
      "text/plain": [
       "<IPython.core.display.Math object>"
      ]
     },
     "metadata": {},
     "output_type": "display_data"
    }
   ],
   "source": [
    "P = v(-1, 4, 3)\n",
    "g = Gerade(v(1, -2, 3), v(4, -2, 2), t)\n",
    "        \n",
    "E = Ebene(P, g.richt, v(P, g.stütz), r, s)\n",
    "        \n",
    "E.prg"
   ]
  },
  {
   "cell_type": "code",
   "execution_count": 12,
   "metadata": {
    "collapsed": true
   },
   "outputs": [],
   "source": [
    "zeichne(E, g, P)"
   ]
  },
  {
   "cell_type": "markdown",
   "metadata": {},
   "source": [
    "### Ebene durch zwei Geraden  "
   ]
  },
  {
   "cell_type": "markdown",
   "metadata": {},
   "source": [
    "a) die Geraden schneiden sich<br><br>\n",
    "Stützvektor ist der Stützvektor der Geraden, Spannvektoren sind die beiden Richtungs-<br>\n",
    "vektoren"
   ]
  },
  {
   "cell_type": "code",
   "execution_count": 13,
   "metadata": {
    "collapsed": false
   },
   "outputs": [
    {
     "data": {
      "text/latex": [
       "$$\\left(\\begin{matrix}x\\\\y\\\\z\\end{matrix}\\right)=\\left(\\begin{matrix}1\\\\-2\\\\3\\end{matrix}\\right)+r\\,\\left(\\begin{matrix}4\\\\-2\\\\2\\end{matrix}\\right)+s\\,\\left(\\begin{matrix}1\\\\-1\\\\3\\end{matrix}\\right)$$"
      ],
      "text/plain": [
       "<IPython.core.display.Math object>"
      ]
     },
     "metadata": {},
     "output_type": "display_data"
    }
   ],
   "source": [
    "g = Gerade(v(1, -2, 3), v(4, -2, 2), t)\n",
    "h = Gerade(v(-3, 0, 1), v(1, -1, 3), u)\n",
    "\n",
    "E = Ebene(g.stütz, g.richt, h.richt, r, s) \n",
    "\n",
    "E.prg\n"
   ]
  },
  {
   "cell_type": "code",
   "execution_count": 14,
   "metadata": {
    "collapsed": true
   },
   "outputs": [],
   "source": [
    "zeichne(E, g, h)"
   ]
  },
  {
   "cell_type": "markdown",
   "metadata": {},
   "source": [
    "b) die Geraden sind parallel<br><br>\n",
    "Stützvektor ist der Stützvektor einer Geraden, Spannvektoren sind der Richtungsvektor<br> \n",
    "einer Geraden sowie die Differenz der beiden Stützvektoren"
   ]
  },
  {
   "cell_type": "code",
   "execution_count": 15,
   "metadata": {
    "collapsed": false
   },
   "outputs": [
    {
     "data": {
      "text/latex": [
       "$$\\left(\\begin{matrix}x\\\\y\\\\z\\end{matrix}\\right)=\\left(\\begin{matrix}1\\\\-2\\\\3\\end{matrix}\\right)+r\\,\\left(\\begin{matrix}4\\\\-2\\\\2\\end{matrix}\\right)+s\\,\\left(\\begin{matrix}2\\\\1\\\\-3\\end{matrix}\\right)$$"
      ],
      "text/plain": [
       "<IPython.core.display.Math object>"
      ]
     },
     "metadata": {},
     "output_type": "display_data"
    }
   ],
   "source": [
    "g = Gerade(v(1, -2, 3), v(4, -2, 2), t)\n",
    "h = Gerade(v(3, -1, 0), v(-2, 1, -1), u)\n",
    "\n",
    "E = Ebene(g.stütz, g.richt, v(g.stütz, h.stütz), r, s)\n",
    "\n",
    "E.prg\n"
   ]
  },
  {
   "cell_type": "code",
   "execution_count": 16,
   "metadata": {
    "collapsed": true
   },
   "outputs": [],
   "source": [
    "zeichne(E, g, h)"
   ]
  },
  {
   "cell_type": "markdown",
   "metadata": {},
   "source": [
    "### Parallele zu einer Geraden durch einen Punkt"
   ]
  },
  {
   "cell_type": "markdown",
   "metadata": {},
   "source": [
    "Stützvektor ist der Ortsvektor des Punktes, Richtungsvektor ist der Richtungsvektor <br>der Geraden"
   ]
  },
  {
   "cell_type": "code",
   "execution_count": 17,
   "metadata": {
    "collapsed": false
   },
   "outputs": [
    {
     "data": {
      "text/latex": [
       "$$\\left(\\begin{matrix}x\\\\y\\\\z\\end{matrix}\\right)=\\left(\\begin{matrix}2\\\\-6\\\\1\\end{matrix}\\right)+t\\,\\left(\\begin{matrix}4\\\\-2\\\\2\\end{matrix}\\right)$$"
      ],
      "text/plain": [
       "<IPython.core.display.Math object>"
      ]
     },
     "metadata": {},
     "output_type": "display_data"
    }
   ],
   "source": [
    "P = v(2, -6, 1)\n",
    "g = Gerade(v(1, -2, 3), v(4, -2, 2), t)\n",
    "\n",
    "p = Gerade(P, g.richt, t)\n",
    "\n",
    "p.prg"
   ]
  },
  {
   "cell_type": "code",
   "execution_count": 18,
   "metadata": {
    "collapsed": true
   },
   "outputs": [],
   "source": [
    "zeichne(g, [P, 2], [p, rot])"
   ]
  },
  {
   "cell_type": "markdown",
   "metadata": {},
   "source": [
    "### Parallele zu einer Ebene "
   ]
  },
  {
   "cell_type": "markdown",
   "metadata": {},
   "source": [
    "a) durch einen Punkt<br><br>\n",
    "Stützvektors ist der Ortsvektor des Punktes, Spannvektoren sind die Spannvektoren <br>der Ebene"
   ]
  },
  {
   "cell_type": "code",
   "execution_count": 19,
   "metadata": {
    "collapsed": false
   },
   "outputs": [
    {
     "data": {
      "text/latex": [
       "$$\\left ( 2 x + y - z - 1=0, \\quad 2 x + y - z + 5=0\\right )$$"
      ],
      "text/plain": [
       "(2*x + y - z - 1 = 0, 2*x + y - z + 5 = 0)"
      ]
     },
     "execution_count": 19,
     "metadata": {},
     "output_type": "execute_result"
    }
   ],
   "source": [
    "P = v(2, -6, 3)\n",
    "E = Ebene(2, 1, -1, -1)\n",
    "\n",
    "H = Ebene(P, E.richt[0], E.richt[1])\n",
    "    \n",
    "E.koord, H.koord    \n"
   ]
  },
  {
   "cell_type": "markdown",
   "metadata": {},
   "source": [
    "oder Benutzung der parallele - Methode"
   ]
  },
  {
   "cell_type": "code",
   "execution_count": 20,
   "metadata": {
    "collapsed": false
   },
   "outputs": [
    {
     "data": {
      "text/latex": [
       "$$2 x + y - z + 5=0$$"
      ],
      "text/plain": [
       "2*x + y - z + 5 = 0"
      ]
     },
     "execution_count": 20,
     "metadata": {},
     "output_type": "execute_result"
    }
   ],
   "source": [
    "H = E.parallele(P)\n",
    "\n",
    "H.koord\n"
   ]
  },
  {
   "cell_type": "code",
   "execution_count": 21,
   "metadata": {
    "collapsed": true
   },
   "outputs": [],
   "source": [
    "zeichne([H, rot], E, [P, 2])"
   ]
  },
  {
   "cell_type": "markdown",
   "metadata": {},
   "source": [
    "b) mit einem gegebenen Abstand    (hier 5 bzw. -5)<br><br>\n",
    "Der Stützvektor wird in Richtung des Normaleneinheitsvektors um den Wert des \n",
    "<br>Abstandes verschoben, die Spannvektoren werden von der Ebene übernommen"
   ]
  },
  {
   "cell_type": "code",
   "execution_count": 22,
   "metadata": {
    "collapsed": false
   },
   "outputs": [
    {
     "data": {
      "text/latex": [
       "$$\\left(\\begin{matrix}x\\\\y\\\\z\\end{matrix}\\right)=\\left(\\begin{matrix}\\frac{1}{2} + \\frac{5 \\sqrt{6}}{3}\\\\\\frac{5 \\sqrt{6}}{6}\\\\- \\frac{5 \\sqrt{6}}{6}\\end{matrix}\\right)+r\\,\\left(\\begin{matrix}1\\\\-2\\\\0\\end{matrix}\\right)+s\\,\\left(\\begin{matrix}-2\\\\-1\\\\-5\\end{matrix}\\right)$$"
      ],
      "text/plain": [
       "<IPython.core.display.Math object>"
      ]
     },
     "metadata": {},
     "output_type": "display_data"
    }
   ],
   "source": [
    "H = Ebene(E.stütz + 5 * E.norm.einh_vekt, E.richt[0], E.richt[1], r, s)\n",
    "\n",
    "H.prg\n"
   ]
  },
  {
   "cell_type": "code",
   "execution_count": 23,
   "metadata": {
    "collapsed": false
   },
   "outputs": [
    {
     "data": {
      "text/latex": [
       "$$2 x + y - z - 5 \\sqrt{6} - 1=0$$"
      ],
      "text/plain": [
       "2*x + y - z - 5*sqrt(6) - 1 = 0"
      ]
     },
     "execution_count": 23,
     "metadata": {},
     "output_type": "execute_result"
    }
   ],
   "source": [
    "H.koord"
   ]
  },
  {
   "cell_type": "markdown",
   "metadata": {},
   "source": [
    "oder Benutzung der parallele - Methode"
   ]
  },
  {
   "cell_type": "code",
   "execution_count": 24,
   "metadata": {
    "collapsed": false
   },
   "outputs": [
    {
     "data": {
      "text/latex": [
       "$$2 x + y - z - 5 \\sqrt{6} - 1=0$$"
      ],
      "text/plain": [
       "2*x + y - z - 5*sqrt(6) - 1 = 0"
      ]
     },
     "execution_count": 24,
     "metadata": {},
     "output_type": "execute_result"
    }
   ],
   "source": [
    "H1 = E.parallele(5)\n",
    "\n",
    "H1.koord\n"
   ]
  },
  {
   "cell_type": "code",
   "execution_count": 25,
   "metadata": {
    "collapsed": true
   },
   "outputs": [],
   "source": [
    "zeichne(E, [H, rot], [H1, blau])"
   ]
  },
  {
   "cell_type": "markdown",
   "metadata": {},
   "source": [
    "### Lotgerade von einem Punkt auf eine Ebene"
   ]
  },
  {
   "cell_type": "markdown",
   "metadata": {},
   "source": [
    "Stützvektor ist der Ortsvektor des Punktes, Richtungsvektor der Normalenvektor der <br>Ebene"
   ]
  },
  {
   "cell_type": "code",
   "execution_count": 26,
   "metadata": {
    "collapsed": false
   },
   "outputs": [
    {
     "data": {
      "text/latex": [
       "$$\\left(\\begin{matrix}x\\\\y\\\\z\\end{matrix}\\right)=\\left(\\begin{matrix}2\\\\-6\\\\0\\end{matrix}\\right)+t\\,\\left(\\begin{matrix}2\\\\-3\\\\-1\\end{matrix}\\right)$$"
      ],
      "text/plain": [
       "<IPython.core.display.Math object>"
      ]
     },
     "metadata": {},
     "output_type": "display_data"
    }
   ],
   "source": [
    "P = v(2, -6, 0)\n",
    "E = Ebene(2, -3, -1, 3)\n",
    "\n",
    "lot = Gerade(P, E.norm)\n",
    "\n",
    "lot.prg"
   ]
  },
  {
   "cell_type": "code",
   "execution_count": 27,
   "metadata": {
    "collapsed": true
   },
   "outputs": [],
   "source": [
    "zeichne(E, [P, 2], lot)"
   ]
  },
  {
   "cell_type": "markdown",
   "metadata": {},
   "source": [
    "Zugehöriger Lotfußpunkt ist der Schnittpunkt der Lotgeraden mit der Ebene"
   ]
  },
  {
   "cell_type": "code",
   "execution_count": 28,
   "metadata": {
    "collapsed": false
   },
   "outputs": [
    {
     "data": {
      "text/latex": [
       "$$\\left(\\begin{matrix}- \\frac{11}{7}\\\\- \\frac{9}{14}\\\\\\frac{25}{14}\\end{matrix}\\right)$$"
      ],
      "text/plain": [
       "Vektor"
      ]
     },
     "execution_count": 28,
     "metadata": {},
     "output_type": "execute_result"
    }
   ],
   "source": [
    "F = E.schnitt(lot)\n",
    "F"
   ]
  },
  {
   "cell_type": "code",
   "execution_count": 29,
   "metadata": {
    "collapsed": true
   },
   "outputs": [],
   "source": [
    "zeichne(E, [P, 2], lot, [F, rot, 2])"
   ]
  },
  {
   "cell_type": "markdown",
   "metadata": {},
   "source": [
    "### Spiegelung eines Punktes an einer Ebene"
   ]
  },
  {
   "cell_type": "markdown",
   "metadata": {},
   "source": [
    "Ermittlung des Bildpunktes über den Fußpunkt des Lotes vom Punkt auf die Ebene\n",
    "\n"
   ]
  },
  {
   "cell_type": "code",
   "execution_count": 30,
   "metadata": {
    "collapsed": false
   },
   "outputs": [
    {
     "data": {
      "text/latex": [
       "$$\\left(\\begin{matrix}-3\\\\3\\\\1\\end{matrix}\\right)$$"
      ],
      "text/plain": [
       "Vektor"
      ]
     },
     "execution_count": 30,
     "metadata": {},
     "output_type": "execute_result"
    }
   ],
   "source": [
    "A = v(1, -5, 5)\n",
    "E = Ebene(-1,2,-1,4)\n",
    "\n",
    "B = A + 2 * v(A, E.schnitt(Gerade(A, E.norm)))\n",
    "\n",
    "B"
   ]
  },
  {
   "cell_type": "code",
   "execution_count": 31,
   "metadata": {
    "collapsed": true
   },
   "outputs": [],
   "source": [
    "zeichne(E, [A, blau], [B, rot, 2], Strecke(A, B), [E.schnitt(Gerade(A, E.norm))])"
   ]
  },
  {
   "cell_type": "markdown",
   "metadata": {},
   "source": [
    "### Lotgerade von einem Punkt auf eine Gerade "
   ]
  },
  {
   "cell_type": "markdown",
   "metadata": {},
   "source": [
    "Ermittlung über den Schnitt der Geraden mit einer Ebene, die den Punkt enthält \n",
    "und <br>senkrecht zur Geraden liegt"
   ]
  },
  {
   "cell_type": "code",
   "execution_count": 32,
   "metadata": {
    "collapsed": false
   },
   "outputs": [
    {
     "data": {
      "text/latex": [
       "$$\\left(\\begin{matrix}- \\frac{28}{11}\\\\- \\frac{5}{11}\\\\\\frac{26}{11}\\end{matrix}\\right)$$"
      ],
      "text/plain": [
       "Vektor"
      ]
     },
     "execution_count": 32,
     "metadata": {},
     "output_type": "execute_result"
    }
   ],
   "source": [
    "P = v(2, -6, -1)\n",
    "g = Gerade(v(-3, 0, 1), v(1, -1, 3), u)\n",
    "\n",
    "E = Ebene(P, g.richt)\n",
    "\n",
    "F = g.schnitt(E)\n",
    "F"
   ]
  },
  {
   "cell_type": "code",
   "execution_count": 33,
   "metadata": {
    "collapsed": false
   },
   "outputs": [
    {
     "data": {
      "text/latex": [
       "$$\\left(\\begin{matrix}x\\\\y\\\\z\\end{matrix}\\right)=\\left(\\begin{matrix}2\\\\-6\\\\-1\\end{matrix}\\right)+t\\,\\left(\\begin{matrix}- \\frac{50}{11}\\\\\\frac{61}{11}\\\\\\frac{37}{11}\\end{matrix}\\right)$$"
      ],
      "text/plain": [
       "<IPython.core.display.Math object>"
      ]
     },
     "metadata": {},
     "output_type": "display_data"
    }
   ],
   "source": [
    "lot = Gerade(P, v(P, F))\n",
    "lot.prg"
   ]
  },
  {
   "cell_type": "code",
   "execution_count": 34,
   "metadata": {
    "collapsed": true
   },
   "outputs": [],
   "source": [
    "zeichne(g, P, E, [lot, rot], [F, rot, 2])"
   ]
  },
  {
   "cell_type": "markdown",
   "metadata": {},
   "source": [
    "Lotfußpunkt und Lot können auch ohne explizite Zuweisung der Ebene \n",
    "geschrieben <br>werden"
   ]
  },
  {
   "cell_type": "code",
   "execution_count": 35,
   "metadata": {
    "collapsed": false
   },
   "outputs": [
    {
     "data": {
      "text/latex": [
       "$$\\left(\\begin{matrix}- \\frac{28}{11}\\\\- \\frac{5}{11}\\\\\\frac{26}{11}\\end{matrix}\\right)$$"
      ],
      "text/plain": [
       "Vektor"
      ]
     },
     "execution_count": 35,
     "metadata": {},
     "output_type": "execute_result"
    }
   ],
   "source": [
    "F = g.schnitt(Ebene(P, g.richt))\n",
    "F"
   ]
  },
  {
   "cell_type": "code",
   "execution_count": 36,
   "metadata": {
    "collapsed": false
   },
   "outputs": [
    {
     "data": {
      "text/latex": [
       "$$\\left(\\begin{matrix}x\\\\y\\\\z\\end{matrix}\\right)=\\left(\\begin{matrix}2\\\\-6\\\\-1\\end{matrix}\\right)+t\\,\\left(\\begin{matrix}- \\frac{50}{11}\\\\\\frac{61}{11}\\\\\\frac{37}{11}\\end{matrix}\\right)$$"
      ],
      "text/plain": [
       "<IPython.core.display.Math object>"
      ]
     },
     "metadata": {},
     "output_type": "display_data"
    }
   ],
   "source": [
    "lot = Gerade(P, v(P, g.schnitt(Ebene(P, g.richt))))\n",
    "\n",
    "lot.prg"
   ]
  },
  {
   "cell_type": "markdown",
   "metadata": {},
   "source": [
    "### Spiegelung eines Punktes an einer Geraden"
   ]
  },
  {
   "cell_type": "markdown",
   "metadata": {},
   "source": [
    "Ermittlung des Bildpunktes über den Fußpunkt des Lotes vom Punkt auf die Gerade"
   ]
  },
  {
   "cell_type": "code",
   "execution_count": 37,
   "metadata": {
    "collapsed": false
   },
   "outputs": [
    {
     "data": {
      "text/latex": [
       "$$\\left(\\begin{matrix}-6\\\\4\\\\7\\end{matrix}\\right)$$"
      ],
      "text/plain": [
       "Vektor"
      ]
     },
     "execution_count": 37,
     "metadata": {},
     "output_type": "execute_result"
    }
   ],
   "source": [
    "A = v(2, -6, 1)\n",
    "g = Gerade(v(-3, 0, 1), v(1, -1, 3), u)\n",
    "\n",
    "B = A + 2 * v(A, g.schnitt(Ebene(A, g.richt)))\n",
    "\n",
    "B"
   ]
  },
  {
   "cell_type": "code",
   "execution_count": 38,
   "metadata": {
    "collapsed": true
   },
   "outputs": [],
   "source": [
    "zeichne(g, [A, blau], [B, rot, 2], Strecke(A, B), g.schnitt(Ebene(A, g.richt)))"
   ]
  },
  {
   "cell_type": "markdown",
   "metadata": {},
   "source": [
    "### Winkelhalbierende von zwei Geraden"
   ]
  },
  {
   "cell_type": "markdown",
   "metadata": {},
   "source": [
    "(die Geraden schneiden sich)<br><br>\n",
    "Der Schnittpunkt der Geraden ist Stützvektor und die Summe der beiden\n",
    "Richtungs-<br>einheitsvektoren ist Richtungsvektor"
   ]
  },
  {
   "cell_type": "code",
   "execution_count": 39,
   "metadata": {
    "collapsed": false
   },
   "outputs": [
    {
     "data": {
      "text/latex": [
       "$$\\left(\\begin{matrix}x\\\\y\\\\z\\end{matrix}\\right)=\\left(\\begin{matrix}-3\\\\0\\\\1\\end{matrix}\\right)+t\\,\\left(\\begin{matrix}\\frac{\\sqrt{11}}{11} + \\frac{\\sqrt{6}}{3}\\\\- \\frac{\\sqrt{6}}{6} - \\frac{\\sqrt{11}}{11}\\\\\\frac{\\sqrt{6}}{6} + \\frac{3 \\sqrt{11}}{11}\\end{matrix}\\right)$$"
      ],
      "text/plain": [
       "<IPython.core.display.Math object>"
      ]
     },
     "metadata": {},
     "output_type": "display_data"
    }
   ],
   "source": [
    "g = Gerade(v(1, -2, 3), v(4, -2, 2), t)\n",
    "h = Gerade(v(-3, 0, 1), v(1, -1, 3), u)\n",
    "\n",
    "w = Gerade(h.schnitt(g), g.richt.einh_vekt + h.richt.einh_vekt, t)\n",
    "\n",
    "w.prg"
   ]
  },
  {
   "cell_type": "markdown",
   "metadata": {},
   "source": [
    "oder<br><br>\n",
    "Der Schnittpunkt der Geraden ist Stützvektor und die Differenz der beiden\n",
    "Richtungs-<br>einheitsvektoren ist Richtungsvektor"
   ]
  },
  {
   "cell_type": "code",
   "execution_count": 40,
   "metadata": {
    "collapsed": false
   },
   "outputs": [
    {
     "data": {
      "text/latex": [
       "$$\\left(\\begin{matrix}x\\\\y\\\\z\\end{matrix}\\right)=\\left(\\begin{matrix}-3\\\\0\\\\1\\end{matrix}\\right)+t\\,\\left(\\begin{matrix}- \\frac{\\sqrt{11}}{11} + \\frac{\\sqrt{6}}{3}\\\\- \\frac{\\sqrt{6}}{6} + \\frac{\\sqrt{11}}{11}\\\\- \\frac{3 \\sqrt{11}}{11} + \\frac{\\sqrt{6}}{6}\\end{matrix}\\right)$$"
      ],
      "text/plain": [
       "<IPython.core.display.Math object>"
      ]
     },
     "metadata": {},
     "output_type": "display_data"
    }
   ],
   "source": [
    "w1 = Gerade(h.schnitt(g), g.richt.einh_vekt - h.richt.einh_vekt, t)\n",
    "\n",
    "w1.prg"
   ]
  },
  {
   "cell_type": "code",
   "execution_count": 41,
   "metadata": {
    "collapsed": true
   },
   "outputs": [],
   "source": [
    "zeichne( g, h, [w, rot, 2], [w1, blau, 2], Ebene(g.stütz, g.richt, h.richt) )"
   ]
  },
  {
   "cell_type": "markdown",
   "metadata": {},
   "source": [
    "### Winkelhalbierende von zwei Ebenen"
   ]
  },
  {
   "cell_type": "markdown",
   "metadata": {},
   "source": [
    "(die Ebenen schneiden sich)<br><br>\n",
    "Ermittlung über einen Punkt der Schnittgeraden als Stützvektor und die Summe der<br>\n",
    "Normaleneinheitsvektoren der beiden Ebenen als Normalenvektor"
   ]
  },
  {
   "cell_type": "code",
   "execution_count": 42,
   "metadata": {
    "collapsed": false
   },
   "outputs": [
    {
     "data": {
      "text/latex": [
       "$$\\left[\\left(\\begin{matrix}x\\\\y\\\\z\\end{matrix}\\right)-\\left(\\begin{matrix}\\frac{69}{22}\\\\- \\frac{5}{11}\\\\- \\frac{1}{22}\\end{matrix}\\right)\\right]\\circ\\left(\\begin{matrix}- \\frac{\\sqrt{6}}{6} + \\frac{\\sqrt{10}}{10}\\\\\\frac{\\sqrt{6}}{3}\\\\- \\frac{\\sqrt{6}}{6} + \\frac{3 \\sqrt{10}}{10}\\end{matrix}\\right)=0$$"
      ],
      "text/plain": [
       "<IPython.core.display.Math object>"
      ]
     },
     "metadata": {},
     "output_type": "display_data"
    }
   ],
   "source": [
    "E1 = Ebene(-1, 2, -1, 4)\n",
    "E2 = Ebene(1, 0, 3, -3)\n",
    "\n",
    "W = Ebene(E1.schnitt(E2).pkt(0), E1.norm.einh_vekt + E2.norm.einh_vekt)\n",
    "\n",
    "W.nf"
   ]
  },
  {
   "cell_type": "markdown",
   "metadata": {},
   "source": [
    "oder<br><br>\n",
    "Ermittlung über einen Punkt der Schnittgeraden als Stützvektor und die Differenz \n",
    "der <br>Normaleneinheitsvektoren der beiden Ebenen als Normalenvektor"
   ]
  },
  {
   "cell_type": "code",
   "execution_count": 43,
   "metadata": {
    "collapsed": false
   },
   "outputs": [
    {
     "data": {
      "text/latex": [
       "$$\\left[\\left(\\begin{matrix}x\\\\y\\\\z\\end{matrix}\\right)-\\left(\\begin{matrix}\\frac{69}{22}\\\\- \\frac{5}{11}\\\\- \\frac{1}{22}\\end{matrix}\\right)\\right]\\circ\\left(\\begin{matrix}- \\frac{\\sqrt{6}}{6} - \\frac{\\sqrt{10}}{10}\\\\\\frac{\\sqrt{6}}{3}\\\\- \\frac{3 \\sqrt{10}}{10} - \\frac{\\sqrt{6}}{6}\\end{matrix}\\right)=0$$"
      ],
      "text/plain": [
       "<IPython.core.display.Math object>"
      ]
     },
     "metadata": {},
     "output_type": "display_data"
    }
   ],
   "source": [
    "W1 = Ebene(E1.schnitt(E2).pkt(0), E1.norm.einh_vekt - E2.norm.einh_vekt)\n",
    "\n",
    "W1.nf"
   ]
  },
  {
   "cell_type": "code",
   "execution_count": 44,
   "metadata": {
    "collapsed": true
   },
   "outputs": [],
   "source": [
    "zeichne(E1, E2, E1.schnitt(E2), [W, rot], [W1, blau])"
   ]
  },
  {
   "cell_type": "markdown",
   "metadata": {},
   "source": [
    "### Umkugel einer dreiseitigen Pyramide"
   ]
  },
  {
   "cell_type": "markdown",
   "metadata": {},
   "source": [
    "Gegeben"
   ]
  },
  {
   "cell_type": "code",
   "execution_count": 45,
   "metadata": {
    "collapsed": true
   },
   "outputs": [],
   "source": [
    "A = v(-1, -2, -3); B = v(-3, 0, 2); C = v(4, -5, 4)\n",
    "d = Dreieck(A, B, C)\n",
    "p = Pyramide(d, v(1, 4, 1))"
   ]
  },
  {
   "cell_type": "markdown",
   "metadata": {},
   "source": [
    "Der Kugelmittelpunkt ist Punkt der Senkrechten zur Dreiecksebene \n",
    "im Umkreismittel-<br>punkt des Dreiecks"
   ]
  },
  {
   "cell_type": "code",
   "execution_count": 46,
   "metadata": {
    "collapsed": false
   },
   "outputs": [],
   "source": [
    "M = (Gerade(d.umkreis.mitte, d.ebene.norm, t)).pkt(t) "
   ]
  },
  {
   "cell_type": "markdown",
   "metadata": {},
   "source": [
    "Der Wert von $t$ wird über die Gleichheit der Abstände vom Mittelpunkt zur \n",
    "Spitze und <br>zu einem der Eckpunkte der Grundfläche bestimmt"
   ]
  },
  {
   "cell_type": "code",
   "execution_count": 47,
   "metadata": {
    "collapsed": false
   },
   "outputs": [
    {
     "data": {
      "text/latex": [
       "$$\\left \\{ t : \\frac{2433}{54694}\\right \\}$$"
      ],
      "text/plain": [
       "⎧    2433⎫\n",
       "⎨t: ─────⎬\n",
       "⎩   54694⎭"
      ]
     },
     "execution_count": 47,
     "metadata": {},
     "output_type": "execute_result"
    }
   ],
   "source": [
    "L = löse(M.abstand(p.spitze) - M.abstand(A))\n",
    "L"
   ]
  },
  {
   "cell_type": "markdown",
   "metadata": {},
   "source": [
    "Nach $M$ kann auch $r$ berechnet werden"
   ]
  },
  {
   "cell_type": "code",
   "execution_count": 48,
   "metadata": {
    "collapsed": false
   },
   "outputs": [],
   "source": [
    "M = M.subs(t, L[t])\n",
    "r = M.abstand(A)"
   ]
  },
  {
   "cell_type": "markdown",
   "metadata": {},
   "source": [
    "Die gesuchte Kugel ist dann"
   ]
  },
  {
   "cell_type": "code",
   "execution_count": 49,
   "metadata": {
    "collapsed": false
   },
   "outputs": [
    {
     "data": {
      "text/latex": [
       "$$\\left ( \\left(\\begin{matrix}\\frac{93}{46}\\\\- \\frac{51}{46}\\\\\\frac{53}{46}\\end{matrix}\\right), \\quad \\frac{3 \\sqrt{6387}}{46}\\right )$$"
      ],
      "text/plain": [
       "⎛        3⋅√6387⎞\n",
       "⎜Vektor, ───────⎟\n",
       "⎝           46  ⎠"
      ]
     },
     "execution_count": 49,
     "metadata": {},
     "output_type": "execute_result"
    }
   ],
   "source": [
    "K = Kugel(M, r)   \n",
    "\n",
    "K.mitte, K.radius"
   ]
  },
  {
   "cell_type": "code",
   "execution_count": 50,
   "metadata": {
    "collapsed": true
   },
   "outputs": [],
   "source": [
    "zeichne([K, blau], [A, rot, 2], [B, rot, 2], [C, rot, 2], [p.spitze, rot, 2])"
   ]
  },
  {
   "cell_type": "markdown",
   "metadata": {},
   "source": [
    "### Kugel durch 4 Punkte "
   ]
  },
  {
   "cell_type": "markdown",
   "metadata": {},
   "source": [
    "Die Berechnung ist analog zur Berechnung der Umkugel der dreiseitigen Pyramide, <br>\n",
    "indem einer der Punkte (hier: der letzte) als Spitze und das Dreieck aus den anderen <br>Punkten als Grundseite einer dreiseitigen Pyramide betrachtet werden"
   ]
  },
  {
   "cell_type": "code",
   "execution_count": 51,
   "metadata": {
    "collapsed": false
   },
   "outputs": [
    {
     "data": {
      "text/latex": [
       "$$\\left \\{ t : - \\frac{3}{2}\\right \\}$$"
      ],
      "text/plain": [
       "{t: -3/2}"
      ]
     },
     "execution_count": 51,
     "metadata": {},
     "output_type": "execute_result"
    }
   ],
   "source": [
    "A = v(1, 2, 3); B = v(-3, 0, -2); C = v(-4, 1, -1); D = v(4, -3, 3)\n",
    "d = Dreieck(A, B, C)\n",
    "\n",
    "M = Gerade(d.umKreis.mitte, d.ebene.norm, t).pkt()\n",
    "\n",
    "L = löse(M.abstand(D) - M.abstand(A))\n",
    "L"
   ]
  },
  {
   "cell_type": "code",
   "execution_count": 52,
   "metadata": {
    "collapsed": false
   },
   "outputs": [],
   "source": [
    "M = M.subs(t, -3/2)\n",
    "r = M.abstand(A)"
   ]
  },
  {
   "cell_type": "code",
   "execution_count": 53,
   "metadata": {
    "collapsed": false
   },
   "outputs": [
    {
     "data": {
      "text/latex": [
       "$$\\left ( \\left(\\begin{matrix}- \\frac{5}{2}\\\\- \\frac{7}{2}\\\\\\frac{7}{2}\\end{matrix}\\right), \\quad \\frac{3 \\sqrt{19}}{2}\\right )$$"
      ],
      "text/plain": [
       "⎛        3⋅√19⎞\n",
       "⎜Vektor, ─────⎟\n",
       "⎝          2  ⎠"
      ]
     },
     "execution_count": 53,
     "metadata": {},
     "output_type": "execute_result"
    }
   ],
   "source": [
    "K = Kugel(M, r)\n",
    "\n",
    "K.mitte, K.radius"
   ]
  },
  {
   "cell_type": "code",
   "execution_count": 54,
   "metadata": {
    "collapsed": true
   },
   "outputs": [],
   "source": [
    "zeichne([K, gelb], [A, rot, 2], [B, rot, 2], [C, rot, 2], [D, rot, 2])"
   ]
  },
  {
   "cell_type": "markdown",
   "metadata": {},
   "source": [
    "### Inkugel einer quadratischen Pyramide"
   ]
  },
  {
   "cell_type": "markdown",
   "metadata": {},
   "source": [
    "Die Grundseite und die Pyramide"
   ]
  },
  {
   "cell_type": "code",
   "execution_count": 55,
   "metadata": {
    "collapsed": false
   },
   "outputs": [
    {
     "data": {
      "text/latex": [
       "$$Quadrat$$"
      ],
      "text/plain": [
       "<IPython.core.display.Math object>"
      ]
     },
     "metadata": {},
     "output_type": "display_data"
    }
   ],
   "source": [
    "A = v(0, -3, -3); B = v(4, 1, -1); C =v (0, 3, 3); D = v(-4, -1, 1)\n",
    "\n",
    "ve = Viereck(A, B, C, D)\n",
    "\n",
    "p = Pyramide(ve, 6)\n",
    "\n",
    "ve.form      # Kontrolle\n"
   ]
  },
  {
   "cell_type": "markdown",
   "metadata": {},
   "source": [
    "Der Kugelmittelpunkt ist Punkt der Senkrechten zur Vierecksebene \n",
    "im Mittelpunkt <br>des Vierecks"
   ]
  },
  {
   "cell_type": "code",
   "execution_count": 56,
   "metadata": {
    "collapsed": true
   },
   "outputs": [],
   "source": [
    "M = Gerade(ve.schwer_pkt, ve.ebene.norm).pkt(t)"
   ]
  },
  {
   "cell_type": "markdown",
   "metadata": {},
   "source": [
    "Der Wert von $t$ wird über die Gleichheit der Abstände vom Mittelpunkt zur \n",
    "Ebene der <br>Grundfläche und zur Ebene einer der Seitenflächen bestimmt\n",
    "\n",
    "Da der Abstand hier mit einem Vorzeichen behaftet ist, werden zwei \n",
    "Gleichungen be-<br>trachtet"
   ]
  },
  {
   "cell_type": "code",
   "execution_count": 57,
   "metadata": {
    "collapsed": false
   },
   "outputs": [
    {
     "data": {
      "text/latex": [
       "$$\\left ( \\left \\{ t : - \\frac{\\sqrt{5}}{2} - \\frac{1}{2}\\right \\}, \\quad \\left \\{ t : - \\frac{1}{2} + \\frac{\\sqrt{5}}{2}\\right \\}\\right )$$"
      ],
      "text/plain": [
       "⎛⎧     √5   1⎫  ⎧     1   √5⎫⎞\n",
       "⎜⎨t: - ── - ─⎬, ⎨t: - ─ + ──⎬⎟\n",
       "⎝⎩     2    2⎭  ⎩     2   2 ⎭⎠"
      ]
     },
     "execution_count": 57,
     "metadata": {},
     "output_type": "execute_result"
    }
   ],
   "source": [
    "L1 = löse(M.abstand(ve.ebene) - M.abstand(p.seiten[0].ebene))    \n",
    "L2 = löse(M.abstand(ve.ebene) + M.abstand(p.seiten[0].ebene)) \n",
    "\n",
    "L1, L2"
   ]
  },
  {
   "cell_type": "markdown",
   "metadata": {},
   "source": [
    "Der erste Wert ergibt die Kugel unterhalb der Pyramide"
   ]
  },
  {
   "cell_type": "code",
   "execution_count": 58,
   "metadata": {
    "collapsed": false
   },
   "outputs": [
    {
     "data": {
      "text/latex": [
       "$$\\left ( \\left(\\begin{matrix}- \\frac{\\sqrt{5}}{2} - \\frac{1}{2}\\\\1 + \\sqrt{5}\\\\- \\sqrt{5} - 1\\end{matrix}\\right), \\quad \\frac{3}{2} + \\frac{3 \\sqrt{5}}{2}\\right )$$"
      ],
      "text/plain": [
       "⎛        3   3⋅√5⎞\n",
       "⎜Vektor, ─ + ────⎟\n",
       "⎝        2    2  ⎠"
      ]
     },
     "execution_count": 58,
     "metadata": {},
     "output_type": "execute_result"
    }
   ],
   "source": [
    "M1 = M.subs(t, L1[t])\n",
    "K1 = Kugel(M1, abs(M1.abstand(ve.ebene)))\n",
    "K1.mitte, K1.radius    "
   ]
  },
  {
   "cell_type": "code",
   "execution_count": 59,
   "metadata": {
    "collapsed": true
   },
   "outputs": [],
   "source": [
    "zeichne(p, K1)"
   ]
  },
  {
   "cell_type": "markdown",
   "metadata": {},
   "source": [
    "Der zweite Wert entspricht der gesuchten Inkugel"
   ]
  },
  {
   "cell_type": "code",
   "execution_count": 60,
   "metadata": {
    "collapsed": false
   },
   "outputs": [
    {
     "data": {
      "text/latex": [
       "$$\\left ( \\left(\\begin{matrix}- \\frac{1}{2} + \\frac{\\sqrt{5}}{2}\\\\- \\sqrt{5} + 1\\\\-1 + \\sqrt{5}\\end{matrix}\\right), \\quad - \\frac{3}{2} + \\frac{3 \\sqrt{5}}{2}\\right )$$"
      ],
      "text/plain": [
       "⎛          3   3⋅√5⎞\n",
       "⎜Vektor, - ─ + ────⎟\n",
       "⎝          2    2  ⎠"
      ]
     },
     "execution_count": 60,
     "metadata": {},
     "output_type": "execute_result"
    }
   ],
   "source": [
    "M2 = M.subs(t, L2[t])\n",
    "K2 = Kugel(M2, abs(M2.abstand(ve.ebene)))\n",
    "K2.mitte, K2.radius    "
   ]
  },
  {
   "cell_type": "code",
   "execution_count": 61,
   "metadata": {
    "collapsed": true
   },
   "outputs": [],
   "source": [
    "zeichne(p, K2)"
   ]
  },
  {
   "cell_type": "markdown",
   "metadata": {},
   "source": [
    "### Thaleskreis über einer Strecke\n",
    "(in einer Trägerebene der Strecke)"
   ]
  },
  {
   "cell_type": "markdown",
   "metadata": {},
   "source": [
    "Gegeben sind eine Ebene und eine Strecke in ihr"
   ]
  },
  {
   "cell_type": "code",
   "execution_count": 62,
   "metadata": {
    "collapsed": true
   },
   "outputs": [],
   "source": [
    "E = Ebene(1, -1, 1, 2)\n",
    "s = Strecke(v(1, 1, -2), v(-1, 3, 2))\n",
    "\n",
    "K = Kreis(E, s.mitte, 1/2*s.länge)"
   ]
  },
  {
   "cell_type": "code",
   "execution_count": 63,
   "metadata": {
    "collapsed": true
   },
   "outputs": [],
   "source": [
    "zeichne(s, [K, rot], K.mitte, [E, gelb])"
   ]
  },
  {
   "cell_type": "markdown",
   "metadata": {},
   "source": [
    "### Mittelsenkrechte einer Strecke\n",
    "(als Gerade in einer Trägerebene der Strecke)"
   ]
  },
  {
   "cell_type": "markdown",
   "metadata": {},
   "source": [
    "Gegeben sind eine Ebene und eine Strecke in ihr"
   ]
  },
  {
   "cell_type": "code",
   "execution_count": 64,
   "metadata": {
    "collapsed": false
   },
   "outputs": [
    {
     "data": {
      "text/latex": [
       "$$\\left(\\begin{matrix}x\\\\y\\\\z\\end{matrix}\\right)=\\left(\\begin{matrix}0\\\\2\\\\0\\end{matrix}\\right)+r\\,\\left(\\begin{matrix}2\\\\2\\\\0\\end{matrix}\\right)$$"
      ],
      "text/plain": [
       "<IPython.core.display.Math object>"
      ]
     },
     "metadata": {},
     "output_type": "display_data"
    }
   ],
   "source": [
    "E = Ebene(1, -1, 1, 2)\n",
    "s = Strecke(v(1, 1, -2), v(-1, 3, 2))\n",
    "\n",
    "m1 = E.schnitt(Ebene(s.mitte, s.gerade.richt))\n",
    "\n",
    "# oder\n",
    "\n",
    "m2 = Gerade(s.mitte, s.gerade.richt >< E.norm, t)   # >< - Vektorprodukt\n",
    "\n",
    "m1.prg"
   ]
  },
  {
   "cell_type": "code",
   "execution_count": 65,
   "metadata": {
    "collapsed": false
   },
   "outputs": [
    {
     "data": {
      "text/latex": [
       "$$\\left(\\begin{matrix}x\\\\y\\\\z\\end{matrix}\\right)=\\left(\\begin{matrix}0\\\\2\\\\0\\end{matrix}\\right)+t\\,\\left(\\begin{matrix}6\\\\6\\\\0\\end{matrix}\\right)$$"
      ],
      "text/plain": [
       "<IPython.core.display.Math object>"
      ]
     },
     "metadata": {},
     "output_type": "display_data"
    }
   ],
   "source": [
    "m2.prg"
   ]
  },
  {
   "cell_type": "code",
   "execution_count": 66,
   "metadata": {
    "collapsed": false
   },
   "outputs": [
    {
     "data": {
      "text/plain": [
       "True"
      ]
     },
     "execution_count": 66,
     "metadata": {},
     "output_type": "execute_result"
    }
   ],
   "source": [
    "identisch(m1, m2)"
   ]
  },
  {
   "cell_type": "code",
   "execution_count": 67,
   "metadata": {
    "collapsed": false
   },
   "outputs": [
    {
     "data": {
      "text/latex": [
       "$$0$$"
      ],
      "text/plain": [
       "0"
      ]
     },
     "execution_count": 67,
     "metadata": {},
     "output_type": "execute_result"
    }
   ],
   "source": [
    "m1.richt ° s.gerade.richt   # rechter Winkel zwischen den Geraden"
   ]
  },
  {
   "cell_type": "code",
   "execution_count": 69,
   "metadata": {
    "collapsed": true
   },
   "outputs": [],
   "source": [
    "zeichne([E, gelb], s, [s.mitte, 2], [m1, rot])"
   ]
  },
  {
   "cell_type": "code",
   "execution_count": null,
   "metadata": {
    "collapsed": false
   },
   "outputs": [],
   "source": []
  }
 ],
 "metadata": {
  "anaconda-cloud": {},
  "kernelspec": {
   "display_name": "Python [default]",
   "language": "python",
   "name": "python3"
  },
  "language_info": {
   "codemirror_mode": {
    "name": "ipython",
    "version": 3
   },
   "file_extension": ".py",
   "mimetype": "text/x-python",
   "name": "python",
   "nbconvert_exporter": "python",
   "pygments_lexer": "ipython3",
   "version": "3.5.2"
  }
 },
 "nbformat": 4,
 "nbformat_minor": 0
}
