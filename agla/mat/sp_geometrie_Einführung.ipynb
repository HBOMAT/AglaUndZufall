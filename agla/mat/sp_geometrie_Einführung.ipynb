{
 "cells": [
  {
   "cell_type": "markdown",
   "metadata": {},
   "source": [
    "# Materialien zu <i>agla</i>\n",
    "\n",
    "Autor: Holger Böttcher - hbomat@posteo.de\n",
    "\n",
    "## Sphärische Geometrie "
   ]
  },
  {
   "cell_type": "markdown",
   "metadata": {},
   "source": [
    "## Kurzeinführung \n",
    "<br><br>\n",
    "Die sphärische Geometrie wird auf der <b>Einheitssphäre</b> (Oberfläche der Kugel mit dem <br>\n",
    "Radius 1) modelliert. Die Punkte dieser Fläche bilden die Menge<br><br>\n",
    "$\\qquad S^2 = \\{ X \\in R^3\\, | \\,x^2+y^2+z^2=1 \\},\\quad X=\\left(\\begin{matrix}x \\\\ y \\\\ z\\end{matrix}\\right)$\n",
    "<br><br>\n",
    "Abstände und Winkel werden mittels einer <b>quadratischen Form</b> definiert, die das Ska-<br>\n",
    "larprodukt im $R^3$ darstellt<br>\n",
    "$\\qquad$Für zwei Punkte $\\quad X_1 = \\left(\\begin{matrix}x_1 \\\\ y_1 \\\\ z_1\\end{matrix}\\right) \\quad \\text{und}  \n",
    "\\quad X_2 = \\left(\\begin{matrix}x_2 \\\\ y_2 \\\\ z_2\\end{matrix}\\right)\\quad$ ist das die Form<br><br>\n",
    "$\\qquad\\sigma(X_1, X_2) = x_1 \\cdot x_2 + y_1 \\cdot y_2 + z_1 \\cdot z_2$\n",
    "<br><br>\n",
    "Der <b>Abstand</b> zwischen zwei Punkten $A, B \\in S^2$ ist\n",
    "<br><br>\n",
    "$\\qquad d(A, B) = \\arccos (A, B) = \\angle(\\vec{OA},\\vec{OB})$\n",
    "<br><br>\n",
    "Sphärische <b>Geraden</b> sind die Großkreise der Sphäre. Sie sind die Schnitte von Ebenen<br>\n",
    "durch den Ursprung mit derselben. Durch zwei verschiedene Punkte (Paare gegenüber<br>\n",
    "liegender Punkte werden als ein Punkt betrachtet) wird eine sphärische Gerade eindeutig <br>\n",
    "bestimmt. Ein Normaleneinheitsvektor der erzeugenden Ebene ist <b>Pol</b> der sphärischen<br>\n",
    "Geraden\n",
    "<br><br>\n",
    "Eine beliebige Gerade schneidet jede andere in einem Punkt, es gibt <b>keine Parallelen</b>\n",
    "<br><br>\n",
    "Sphärische <b>Strecken</b> sind Teilstücke von sphärischen Geraden mit einer Länge kleiner<br> als $\\pi$\n",
    "<br><br>\n",
    "Eine sphärische Gerade kann mittels eines ihrer Punkte $A$ und eines ihrer Pole $N$ als pa-<br>\n",
    "rametrisierte Kurve mit dem allgemeinen Punkt \n",
    "<br><br>\n",
    "$\\qquad\\cos(\\varphi) \\cdot A + sin(\\varphi) \\cdot (A \\times N)\\quad $ ($A$ und $N$ sind die Ortsvektoren der Punkte)\n",
    "<br><br>\n",
    "dargestellt werden, wobei für den Winkelparameter $\\varphi \\in [0,2\\pi]$ gilt. Bei der sphärischen<br>\n",
    "Strecke von $A$ nach $B$ nimmt der Parameter Werte zwischen $0$ und $d(A,B)$ an \n",
    "<br><br>\n",
    "In einem sphärischen <b>Dreieck</b> sollen alle Seitenlängen und Innenwinkel kleiner als $\\pi$ sein \n",
    "<br><br>\n",
    "Die <b>Winkelmessung</b> erfolgt wie allgemein bei Raumkurven durch Bestimmung des Win- <br>\n",
    "kels zwischen den entsprechenden Tangenten\n",
    "<br><br>\n",
    "<b>Isometrische Abbildungen</b> der Sphäre sind die Drehungen des Raumes um den Ursprung <br>\n",
    "und Spiegelungen an Ebenen durch den Ursprung (die letzteren erhalten nicht die Orien-<br>\n",
    "tierung)\n",
    "<br><br>"
   ]
  },
  {
   "cell_type": "code",
   "execution_count": null,
   "metadata": {
    "collapsed": true
   },
   "outputs": [],
   "source": []
  }
 ],
 "metadata": {
  "anaconda-cloud": {},
  "kernelspec": {
   "display_name": "Python [default]",
   "language": "python",
   "name": "python3"
  },
  "language_info": {
   "codemirror_mode": {
    "name": "ipython",
    "version": 3
   },
   "file_extension": ".py",
   "mimetype": "text/x-python",
   "name": "python",
   "nbconvert_exporter": "python",
   "pygments_lexer": "ipython3",
   "version": "3.5.2"
  }
 },
 "nbformat": 4,
 "nbformat_minor": 1
}
