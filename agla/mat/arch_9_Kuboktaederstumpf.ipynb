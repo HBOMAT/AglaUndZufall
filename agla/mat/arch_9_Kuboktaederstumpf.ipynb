{
 "cells": [
  {
   "cell_type": "markdown",
   "metadata": {},
   "source": [
    "# Materialien zu <i>agla</i>\n",
    "\n",
    "Autor: Holger Böttcher - hbomat@posteo.de\n",
    "\n",
    "## Archimedische Körper"
   ]
  },
  {
   "cell_type": "markdown",
   "metadata": {},
   "source": [
    "### Kuboktaederstumpf   "
   ]
  },
  {
   "cell_type": "markdown",
   "metadata": {},
   "source": [
    "(Großes Rhombenkuboktaeder) \n",
    "\n",
    "Flächenfolge in einer Ecke  (4,6,4,8) \n",
    "<br><br>"
   ]
  },
  {
   "cell_type": "code",
   "execution_count": 1,
   "metadata": {
    "collapsed": true
   },
   "outputs": [],
   "source": [
    "%run agla/start"
   ]
  },
  {
   "cell_type": "code",
   "execution_count": 2,
   "metadata": {
    "collapsed": false
   },
   "outputs": [],
   "source": [
    "# Die Koordinaten der Eckpunkte sind näherungsweise definiert\n",
    "\n",
    "# Erzeugung des Körpers über seine Seitenflächen\n",
    "\n",
    "UMG.SIMPL = False\n",
    "\n",
    "p0=v(0,0,0.665678)\n",
    "p1=v(0.28046135,0,0.60371025)\n",
    "p2=v(-0.01369089,0.2801266,0.60371025)\n",
    "p3=v(-0.2216877,-0.1717937,0.60371025)\n",
    "p4=v(0.2667704,0.2801266,0.54174445)\n",
    "p5=v(0.4554056,-0.1717937,0.45411145)\n",
    "p6=v(-0.2490696,0.38846015,0.47977865)\n",
    "p7=v(-0.2547402,-0.41474615,0.45411145)\n",
    "p8=v(-0.45706635,-0.06346022,0.47977865)\n",
    "p9=v(0.4280237,0.38846015,0.33017985)\n",
    "p10=v(0.4223531,-0.41474615,0.3045133)\n",
    "p11=v(0.6166589,-0.06346022,0.2425475)\n",
    "p12=v(-0.3014843,0.54166645,0.2425475)\n",
    "p13=v(-0.4707573,0.21666645,0.41781285)\n",
    "p14=v(-0.49011885,-0.30641325,0.33017985)\n",
    "p15=v(-0.07979595,-0.58653985,0.3045133)\n",
    "p16=v(0.375609,0.54166645,0.0929487)\n",
    "p17=v(0.60296795,0.21666645,0.1805817)\n",
    "p18=v(0.5836064,-0.30641325,0.0929487)\n",
    "p19=v(0.20066475,-0.58653985,0.2425475)\n",
    "p20=v(-0.523172,0.3698734,0.1805817)\n",
    "p21=v(-0.14023035,0.65,0.0309829)\n",
    "p22=v(-0.55055325,-0.3698734,0.05664997)\n",
    "p23=v(-0.14023035,-0.65,0.0309829)\n",
    "p24=v(0.55055325,0.3698734,-0.05664997)\n",
    "p25=v(0.14023035,0.65,-0.0309829)\n",
    "p26=v(0.523172,-0.3698734,-0.1805817)\n",
    "p27=v(0.14023035,-0.65,-0.0309829)\n",
    "p28=v(-0.5836064,0.30641325,-0.0929487)\n",
    "p29=v(-0.20066475,0.58653985,-0.2425475)\n",
    "p30=v(-0.60296795,-0.21666645,-0.1805817)\n",
    "p31=v(-0.375609,-0.54166645,-0.0929487)\n",
    "p32=v(0.49011885,0.30641325,-0.33017985)\n",
    "p33=v(0.07979595,0.58653985,-0.3045133)\n",
    "p34=v(0.4707573,-0.21666645,-0.41781285)\n",
    "p35=v(0.3014843,-0.54166645,-0.2425475)\n",
    "p36=v(-0.6166589,0.06346022,-0.2425475)\n",
    "p37=v(-0.4223531,0.41474615,-0.3045133)\n",
    "p38=v(-0.4280237,-0.38846015,-0.33017985)\n",
    "p39=v(0.45706635,0.06346022,-0.47977865)\n",
    "p40=v(0.2547402,0.41474615,-0.45411145)\n",
    "p41=v(0.2490696,-0.38846015,-0.47977865)\n",
    "p42=v(-0.4554056,0.1717937,-0.45411145)\n",
    "p43=v(-0.2667704,-0.2801266,-0.54174445)\n",
    "p44=v(0.2216877,0.1717937,-0.60371025)\n",
    "p45=v(0.01369089,-0.2801266,-0.60371025)\n",
    "p46=v(-0.28046135,0,-0.60371025)\n",
    "p47=v(0,0,-0.665678)\n",
    "\n",
    "vierecke = [\n",
    "Koerper(p0, p1, p4, p2,p0),\n",
    "Koerper(p3, p8, p14,p7,p3),\n",
    "Koerper(p5, p10,p18,p11,p5),\n",
    "Koerper(p6, p12,p20,p13,p6),\n",
    "Koerper(p9, p17,p24,p16,p9),\n",
    "Koerper(p15,p23,p27,p19,p15),\n",
    "Koerper(p21,p25,p33,p29,p21),\n",
    "Koerper(p22,p30,p38,p31,p22),\n",
    "Koerper(p26,p35,p41,p34,p26),\n",
    "Koerper(p28,p37,p42,p36,p28),\n",
    "Koerper(p32,p39,p44,p40,p32),\n",
    "Koerper(p43,p46,p47,p45,p43)\n",
    "] \n",
    "\n",
    "sechsecke = [\n",
    "Koerper(p0, p2, p6, p13,p8, p3,p0),\n",
    "Koerper(p1, p5, p11,p17,p9, p4,p1),\n",
    "Koerper(p7, p14,p22,p31,p23,p15,p7),\n",
    "Koerper(p10,p19,p27,p35,p26,p18,p10),\n",
    "Koerper(p12,p21,p29,p37,p28,p20,p12),\n",
    "Koerper(p16,p24,p32,p40,p33,p25,p16),\n",
    "Koerper(p30,p36,p42,p46,p43,p38,p30),\n",
    "Koerper(p34,p41,p45,p47,p44,p39,p34)\n",
    "] \n",
    "\n",
    "achtecke = [\n",
    "Koerper(p0, p3, p7, p15,p19,p10,p5, p1,p0),\n",
    "Koerper(p2, p4, p9, p16,p25,p21,p12,p6,p2),\n",
    "Koerper(p8, p13,p20,p28,p36,p30,p22,p14,p8),\n",
    "Koerper(p11,p18,p26,p34,p39,p32,p24,p17,p11),\n",
    "Koerper(p23,p31,p38,p43,p45,p41,p35,p27,p23),\n",
    "Koerper(p29,p33,p40,p44,p47,p46,p42,p37,p29)\n",
    "] \n",
    "\n",
    "seiten_liste = [vierecke[i] for i in range(len(vierecke))] + [sechsecke[i] for i in range(len(sechsecke))] + \\\n",
    "               [achtecke[i] for i in range(len(achtecke))]"
   ]
  },
  {
   "cell_type": "code",
   "execution_count": 3,
   "metadata": {
    "collapsed": false
   },
   "outputs": [],
   "source": [
    "K = Körper(*seiten_liste, seiten=True)   "
   ]
  },
  {
   "cell_type": "code",
   "execution_count": 4,
   "metadata": {
    "collapsed": false
   },
   "outputs": [],
   "source": [
    "sicht_box(-1.2, 1.2)\n",
    "zeichne(K)"
   ]
  },
  {
   "cell_type": "code",
   "execution_count": 5,
   "metadata": {
    "collapsed": false
   },
   "outputs": [],
   "source": [
    "KS = K.seiten"
   ]
  },
  {
   "cell_type": "code",
   "execution_count": 6,
   "metadata": {
    "collapsed": false
   },
   "outputs": [],
   "source": [
    "K1  = Körper(*[KS[i] for i in range(len(KS)) if KS[i].anz_ecken == 4], seiten=True)   \n",
    "K2  = Körper(*[KS[i] for i in range(len(KS)) if KS[i].anz_ecken == 6], seiten=True)\n",
    "K3  = Körper(*[KS[i] for i in range(len(KS)) if KS[i].anz_ecken == 8], seiten=True)"
   ]
  },
  {
   "cell_type": "code",
   "execution_count": 7,
   "metadata": {
    "collapsed": false
   },
   "outputs": [],
   "source": [
    "sicht_box(-2, 2)\n",
    "zeichne([K1, rot, 'fuell=ja'], [K2, gruen, 'fuell=ja'], [K3, gelb, 'fuell=ja'], K, achsen=False, box=False)"
   ]
  },
  {
   "cell_type": "code",
   "execution_count": null,
   "metadata": {
    "collapsed": false
   },
   "outputs": [],
   "source": []
  }
 ],
 "metadata": {
  "anaconda-cloud": {},
  "kernelspec": {
   "display_name": "Python [default]",
   "language": "python",
   "name": "python3"
  },
  "language_info": {
   "codemirror_mode": {
    "name": "ipython",
    "version": 3
   },
   "file_extension": ".py",
   "mimetype": "text/x-python",
   "name": "python",
   "nbconvert_exporter": "python",
   "pygments_lexer": "ipython3",
   "version": "3.5.2"
  }
 },
 "nbformat": 4,
 "nbformat_minor": 0
}
