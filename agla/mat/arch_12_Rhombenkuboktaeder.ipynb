{
 "cells": [
  {
   "cell_type": "markdown",
   "metadata": {},
   "source": [
    "# Materialien zu <i>agla</i>\n",
    "\n",
    "Autor: Holger Böttcher - hbomat@posteo.de\n",
    "\n",
    "## Archimedische Körper"
   ]
  },
  {
   "cell_type": "markdown",
   "metadata": {},
   "source": [
    "### Rhombenkuboktaeder"
   ]
  },
  {
   "cell_type": "markdown",
   "metadata": {},
   "source": [
    "(Kleines) \n",
    "\n",
    "Flächenfolge in einer Ecke  (3, 4, 4, 4) \n",
    "<br><br>"
   ]
  },
  {
   "cell_type": "code",
   "execution_count": 1,
   "metadata": {
    "collapsed": true
   },
   "outputs": [],
   "source": [
    "%run agla/start"
   ]
  },
  {
   "cell_type": "code",
   "execution_count": 2,
   "metadata": {
    "collapsed": false
   },
   "outputs": [],
   "source": [
    "# Die Koordinaten der Eckpunkte sind näherungsweise definiert\n",
    "\n",
    "# Erzeugung des Körpers über seine Seitenflächen\n",
    "\n",
    "UMG.SIMPL = False\n",
    "\n",
    "p0  = v(  0,           0,           0.695968) \n",
    "p1  = v(  0.46462845,  0,           0.51816375) \n",
    "p2  = v( -0.0680433,   0.45961955,  0.51816375) \n",
    "p3  = v( -0.44469945,  0.13461955,  0.51816375) \n",
    "p4  = v( -0.0680433,  -0.45961955,  0.51816375) \n",
    "p5  = v(  0.39658515,  0.45961955,  0.3403582) \n",
    "p6  = v(  0.677014,    0.13461955,  0.0889031) \n",
    "p7  = v(  0.39658515, -0.45961955,  0.3403582) \n",
    "p8  = v( -0.23231455,  0.65,        0.0889031) \n",
    "p9  = v( -0.51274275, -0.325,       0.3403582) \n",
    "p10 = v( -0.6089707,   0.325,       0.0889031) \n",
    "p11 = v( -0.23231455, -0.65,        0.0889031) \n",
    "p12 = v(  0.23231455,  0.65,       -0.0889031) \n",
    "p13 = v(  0.6089707,  -0.325,      -0.0889031) \n",
    "p14 = v(  0.51274275,  0.325,      -0.3403582) \n",
    "p15 = v(  0.23231455, -0.65,       -0.0889031) \n",
    "p16 = v( -0.39658515,  0.45961955, -0.3403582) \n",
    "p17 = v( -0.677014,   -0.13461955, -0.0889031) \n",
    "p18 = v( -0.39658515, -0.45961955, -0.3403582) \n",
    "p19 = v(  0.0680433,   0.45961955, -0.51816375) \n",
    "p20 = v(  0.44469945, -0.13461955, -0.51816375) \n",
    "p21 = v(  0.0680433,  -0.45961955, -0.51816375) \n",
    "p22 = v( -0.46462845,  0,          -0.51816375) \n",
    "p23 = v(  0,           0,          -0.695968) \n",
    "\n",
    "dreiecke = [\n",
    " Koerper(p0, p2, p3,p0),\n",
    " Koerper(p1, p6, p5,p1),\n",
    " Koerper(p4, p9, p11,p4),\n",
    " Koerper(p7, p15,p13,p7),\n",
    " Koerper(p8, p16,p10,p8),\n",
    " Koerper(p12,p14,p19,p12),\n",
    " Koerper(p17,p22,p18,p17),\n",
    " Koerper(p20,p21,p23,p20)\n",
    "] \n",
    "\n",
    "vierecke =[\n",
    " Koerper(p0, p1, p5, p2,p0),\n",
    " Koerper(p0, p3, p9, p4,p0),\n",
    " Koerper(p0, p4, p7, p1,p0),\n",
    " Koerper(p1, p7, p13,p6,p1),\n",
    " Koerper(p2, p5, p12,p8,p2),\n",
    " Koerper(p2, p8, p10,p3,p2),\n",
    " Koerper(p3, p10,p17,p9,p3),\n",
    " Koerper(p4, p11,p15,p7,p4),\n",
    " Koerper(p5, p6, p14,p12,p5),\n",
    " Koerper(p6, p13,p20,p14,p6),\n",
    " Koerper(p8, p12,p19,p16,p8),\n",
    " Koerper(p9, p17,p18,p11,p9),\n",
    " Koerper(p10,p16,p22,p17,p10),\n",
    " Koerper(p11,p18,p21,p15,p11),\n",
    " Koerper(p13,p15,p21,p20,p13),\n",
    " Koerper(p14,p20,p23,p19,p14),\n",
    " Koerper(p16,p19,p23,p22,p16),\n",
    " Koerper(p18,p22,p23,p21,p18)\n",
    "] \n",
    "\n",
    "seiten_liste = [dreiecke[i] for i in range(len(dreiecke))] + [vierecke[i] for i in range(len(vierecke))]"
   ]
  },
  {
   "cell_type": "code",
   "execution_count": 3,
   "metadata": {
    "collapsed": false
   },
   "outputs": [],
   "source": [
    "K = Körper(*seiten_liste, seiten=True)   "
   ]
  },
  {
   "cell_type": "code",
   "execution_count": 4,
   "metadata": {
    "collapsed": false
   },
   "outputs": [],
   "source": [
    "sicht_box(-1.2, 1.2)\n",
    "zeichne(K)"
   ]
  },
  {
   "cell_type": "code",
   "execution_count": 5,
   "metadata": {
    "collapsed": false
   },
   "outputs": [],
   "source": [
    "KS = K.seiten"
   ]
  },
  {
   "cell_type": "code",
   "execution_count": 6,
   "metadata": {
    "collapsed": false
   },
   "outputs": [],
   "source": [
    "K1  = Körper(*[KS[i] for i in range(len(KS)) if KS[i].anz_ecken == 3], seiten=True)   \n",
    "K2  = Körper(*[KS[i] for i in range(len(KS)) if KS[i].anz_ecken == 4], seiten=True)"
   ]
  },
  {
   "cell_type": "code",
   "execution_count": 7,
   "metadata": {
    "collapsed": false
   },
   "outputs": [],
   "source": [
    "sicht_box(-2, 2)\n",
    "zeichne([K1, rot, 'fuell=ja'], [K2, gelb, 'fuell=ja'], K, achsen=False, box=False)"
   ]
  },
  {
   "cell_type": "code",
   "execution_count": null,
   "metadata": {
    "collapsed": true
   },
   "outputs": [],
   "source": []
  }
 ],
 "metadata": {
  "anaconda-cloud": {},
  "kernelspec": {
   "display_name": "Python [default]",
   "language": "python",
   "name": "python3"
  },
  "language_info": {
   "codemirror_mode": {
    "name": "ipython",
    "version": 3
   },
   "file_extension": ".py",
   "mimetype": "text/x-python",
   "name": "python",
   "nbconvert_exporter": "python",
   "pygments_lexer": "ipython3",
   "version": "3.5.2"
  }
 },
 "nbformat": 4,
 "nbformat_minor": 0
}
