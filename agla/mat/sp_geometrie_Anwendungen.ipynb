{
 "cells": [
  {
   "cell_type": "markdown",
   "metadata": {},
   "source": [
    "# Materialien zu <i>agla</i>\n",
    "\n",
    "Autor: Holger Böttcher - hbomat@posteo.de\n",
    "\n",
    "## Sphärische Geometrie "
   ]
  },
  {
   "cell_type": "markdown",
   "metadata": {},
   "source": [
    "##  Anwendungen \n",
    "<br>\n",
    "Die Anwendungen stammen aus dem Schiffs- und Flugverkehr\n",
    "\n",
    "Die Erde wird als Einheitssphäre definiert. Die Berechnungen mittels der Formeln der \n",
    "<br>sphärischen Geometrie können alle mit dem Radius 1 durchgeführt werden. Nur bei \n",
    "<br>der Bereitstellung von Längen als Endergebnis ist mit dem Erdradius zu \n",
    "<br>multiplizieren. Dieser wird mit 6370 km angenommen"
   ]
  },
  {
   "cell_type": "code",
   "execution_count": 1,
   "metadata": {
    "collapsed": false
   },
   "outputs": [],
   "source": [
    "%run agla/start"
   ]
  },
  {
   "cell_type": "code",
   "execution_count": 2,
   "metadata": {
    "collapsed": false
   },
   "outputs": [],
   "source": [
    "Erde = EinhSphäre; R = 6370  "
   ]
  },
  {
   "cell_type": "code",
   "execution_count": 3,
   "metadata": {
    "collapsed": false
   },
   "outputs": [
    {
     "data": {
      "text/latex": [
       "$$\\left(\\begin{matrix}\\cos{\\left (u \\right )} \\cos{\\left (w \\right )}\\\\\\sin{\\left (u \\right )} \\cos{\\left (w \\right )}\\\\\\sin{\\left (w \\right )}\\end{matrix}\\right)$$"
      ],
      "text/plain": [
       "Vektorschar([w, u])"
      ]
     },
     "execution_count": 3,
     "metadata": {},
     "output_type": "execute_result"
    }
   ],
   "source": [
    "Erde.pkt()"
   ]
  },
  {
   "cell_type": "markdown",
   "metadata": {},
   "source": [
    "Die Parameter der Fläche ($u$ - Länge, $w$ - Breite) sind in Bogenmaß angegeben, die \n",
    "<br>Bereiche sind"
   ]
  },
  {
   "cell_type": "code",
   "execution_count": 4,
   "metadata": {
    "collapsed": false
   },
   "outputs": [
    {
     "data": {
      "text/latex": [
       "$$\\left ( \\left ( 0, \\quad 2 \\pi\\right ), \\quad \\left ( - \\frac{\\pi}{2}, \\quad \\frac{\\pi}{2}\\right )\\right )$$"
      ],
      "text/plain": [
       "⎛          ⎛-π   π⎞⎞\n",
       "⎜(0, 2⋅π), ⎜───, ─⎟⎟\n",
       "⎝          ⎝ 2   2⎠⎠"
      ]
     },
     "execution_count": 4,
     "metadata": {},
     "output_type": "execute_result"
    }
   ],
   "source": [
    "Erde.ber"
   ]
  },
  {
   "cell_type": "markdown",
   "metadata": {},
   "source": [
    "Zur Umrechnung der üblichen Angaben für die geografische Breite und Länge von \n",
    "<br>Punkten der Erdoberfläche werden entsprechende Funktionen definiert"
   ]
  },
  {
   "cell_type": "code",
   "execution_count": 5,
   "metadata": {
    "collapsed": true
   },
   "outputs": [],
   "source": [
    "NB = lambda winkel: winkel/180*pi          # nördliche Breite\n",
    "SB = lambda winkel: -winkel/180*pi         # südliche Breite\n",
    "OL = lambda winkel: winkel/180*pi          # östliche Länge\n",
    "WL = lambda winkel: (360 - winkel)/180*pi  # westliche Länge"
   ]
  },
  {
   "cell_type": "markdown",
   "metadata": {},
   "source": [
    "Ein Punkt auf der Erde (als sphärischer Punkt) wird über Breite und Länge erzeugt, \n",
    "<br>die mittels dieser Funktionen anzugeben sind; anschließend einige Beispiele"
   ]
  },
  {
   "cell_type": "code",
   "execution_count": 6,
   "metadata": {
    "collapsed": false
   },
   "outputs": [],
   "source": [
    "ErdPkt = lambda breite, länge: sPunkt(Erde.pkt(länge, breite))"
   ]
  },
  {
   "cell_type": "code",
   "execution_count": 7,
   "metadata": {
    "collapsed": false
   },
   "outputs": [],
   "source": [
    "Honolulu   = ErdPkt( NB(21.3), WL(157.9) )\n",
    "SanDiego   = ErdPkt( NB(32.7), WL(117.2) )\n",
    "Kopenhagen = ErdPkt( NB(55.7), OL(12.6) )\n",
    "Chicago    = ErdPkt( NB(41.9), WL(87.6) )"
   ]
  },
  {
   "cell_type": "code",
   "execution_count": 8,
   "metadata": {
    "collapsed": false
   },
   "outputs": [
    {
     "data": {
      "text/latex": [
       "$$\\left(\\begin{matrix}0.549954516947292\\\\0.122929398926629\\\\0.826098294495763\\end{matrix}\\right)$$"
      ],
      "text/plain": [
       "Vektor"
      ]
     },
     "execution_count": 8,
     "metadata": {},
     "output_type": "execute_result"
    }
   ],
   "source": [
    "Kopenhagen.e.dez"
   ]
  },
  {
   "cell_type": "markdown",
   "metadata": {},
   "source": [
    "Die Genauigkeit aller nachfolgenden Berechnungen hängt von der Genauigleit ab, \n",
    "<br>mit der der Erdradius und die geografischen Koordinaten der Städte vorgegeben \n",
    "<br>sind\n",
    "\n",
    "Entfernungen werden als sphärische Abstände berechnet (der für die Einheitssphäre \n",
    "<br>ermittelte Wert ist mit dem Erdradius zu multiplizieren)"
   ]
  },
  {
   "cell_type": "code",
   "execution_count": 9,
   "metadata": {
    "collapsed": false
   },
   "outputs": [
    {
     "data": {
      "text/latex": [
       "$$\\left ( 9093.582505462, \\quad 6835.52742925871\\right )$$"
      ],
      "text/plain": [
       "(9093.582505462, 6835.52742925871)"
      ]
     },
     "execution_count": 9,
     "metadata": {},
     "output_type": "execute_result"
    }
   ],
   "source": [
    "Kopenhagen.abstand(SanDiego) * R,   Kopenhagen.abstand(Chicago) * R"
   ]
  },
  {
   "cell_type": "markdown",
   "metadata": {},
   "source": [
    "Kurswinkel ergeben sich als Innenwinkel des Poldreiecks, das die beiden Punkte \n",
    "<br>zusammen mit dem Nordpol bilden"
   ]
  },
  {
   "cell_type": "code",
   "execution_count": 10,
   "metadata": {
    "collapsed": false
   },
   "outputs": [
    {
     "data": {
      "text/latex": [
       "$$\\left(\\begin{matrix}0\\\\0\\\\1\\end{matrix}\\right)$$"
      ],
      "text/plain": [
       "Vektor"
      ]
     },
     "execution_count": 10,
     "metadata": {},
     "output_type": "execute_result"
    }
   ],
   "source": [
    "Nordpol = P = ErdPkt(NB(90), 0)  # N statt P ist ungünstig, da es\n",
    "                                 # belegt ist\n",
    "P.e"
   ]
  },
  {
   "cell_type": "code",
   "execution_count": 11,
   "metadata": {
    "collapsed": false
   },
   "outputs": [
    {
     "data": {
      "text/latex": [
       "$$\\left ( 40.7839001933849, \\quad 129.79999999996, \\quad 25.9398369360809\\right )$$"
      ],
      "text/plain": [
       "(40.7839001933849, 129.79999999996, 25.9398369360809)"
      ]
     },
     "execution_count": 11,
     "metadata": {},
     "output_type": "execute_result"
    }
   ],
   "source": [
    "d = sDreieck(Kopenhagen, P, SanDiego)\n",
    "d.winkel"
   ]
  },
  {
   "cell_type": "markdown",
   "metadata": {},
   "source": [
    "Der Winkel in dem jeweiligen Eckpunkt ist der Kurswinkel, d.h. für Kopenhagen 40,78°, für <br>\n",
    "San Diego  25,94°"
   ]
  },
  {
   "cell_type": "code",
   "execution_count": 13,
   "metadata": {
    "collapsed": false
   },
   "outputs": [],
   "source": [
    "sicht_box(-1.2, 1.2)\n",
    "zeichne([Erde, 'lightblue', 'gitter=ja'], d, \n",
    "        [Kopenhagen, rot], P, [SanDiego, gelb], \n",
    "         box=nein, achsen=nein)"
   ]
  },
  {
   "cell_type": "markdown",
   "metadata": {},
   "source": [
    "<br>\n",
    "Hier noch einige Hilfsmittel\n",
    "\n",
    "Umrechnung  $km \\rightarrow sm,\\;  sm \\rightarrow km$  ( $sm$ - Seemeile ,  $1 sm = 1852 m$ )"
   ]
  },
  {
   "cell_type": "code",
   "execution_count": 14,
   "metadata": {
    "collapsed": false
   },
   "outputs": [
    {
     "data": {
      "text/latex": [
       "$$6370.0$$"
      ],
      "text/plain": [
       "6370.0"
      ]
     },
     "execution_count": 14,
     "metadata": {},
     "output_type": "execute_result"
    }
   ],
   "source": [
    "km2sm = lambda km: km / 1.852\n",
    "sm2km = lambda sm: sm * 1.852\n",
    "\n",
    "sm2km(km2sm(6370))\n"
   ]
  },
  {
   "cell_type": "markdown",
   "metadata": {},
   "source": [
    "Umrechnung Bogenminuten / -sekunden"
   ]
  },
  {
   "cell_type": "code",
   "execution_count": 14,
   "metadata": {
    "collapsed": false
   },
   "outputs": [
    {
     "data": {
      "text/latex": [
       "$$34.3858333333333$$"
      ],
      "text/plain": [
       "34.3858333333333"
      ]
     },
     "execution_count": 14,
     "metadata": {},
     "output_type": "execute_result"
    }
   ],
   "source": [
    "min2dez = lambda grad_wert, min, sec: N(grad_wert + min/60 + sec/3600)\n",
    "\n",
    "min2dez(34, 23, 9)\n"
   ]
  },
  {
   "cell_type": "markdown",
   "metadata": {},
   "source": [
    "## Komplexaufgabe"
   ]
  },
  {
   "cell_type": "markdown",
   "metadata": {},
   "source": [
    "Die folgende Aufgabe ist aus\n",
    "\n",
    "<i>I. Agricola, Th. Friedrich, Elementargeometrie, Vieweg+Teubner, Wiesbaden, 2009</i>\n",
    "     \n",
    "entnommen. Sie wird in dem Buch mit sphärisch-trigonometrischen Mitteln vollständig \n",
    "<br>durchgerechnet. Dieser Weg kann mit <i>agla</i> nachvollzogen werden. Hier soll ein \n",
    "<br>Weg gezeigt werden, bei dem die spezifischen <i>agla</i>-Mittel benutzt werden\n",
    "<br><br>\n",
    "\n",
    "Für die Verbindung zwischen Hongkong und Valparaiso sind zu berechnen:\n",
    "\n",
    "(1)  die kürzeste Entfernung und die beiden Kurswinkel<br>\n",
    "(2)  der südlichste Punkt<br>\n",
    "(3)  der Schnittpunkt mit der Datumsgrenze  (Länge = 180°)<br>\n",
    "(4)  der Schnittpunkt mit dem Äquator (Breite = 0°)<br>\n",
    "(5)  der Schnittpunkt mit dem südlichen Wendekreis ($23,5°\\; SB$)<br>\n",
    "<br>\n",
    "<i>Die Rechenzeiten zur Lösung sind mitunter lang</i>"
   ]
  },
  {
   "cell_type": "code",
   "execution_count": 15,
   "metadata": {
    "collapsed": true
   },
   "outputs": [],
   "source": [
    "Hongkong   = H = ErdPkt( NB(22.3), OL(114.2) )\n",
    "Valparaiso = V = ErdPkt( SB(33.0), WL(71.7) )\n",
    "    \n",
    "HV = sStrecke(H, V)   # die Verbindungsstrecke Hongkong - Valparaiso"
   ]
  },
  {
   "cell_type": "markdown",
   "metadata": {},
   "source": [
    "<br>\n",
    "<b>(1)</b>  Entfernung und Kurswinkel"
   ]
  },
  {
   "cell_type": "code",
   "execution_count": 16,
   "metadata": {
    "collapsed": false
   },
   "outputs": [
    {
     "data": {
      "text/latex": [
       "$$18688.73195580391$$"
      ],
      "text/plain": [
       "18688.73195580391"
      ]
     },
     "execution_count": 16,
     "metadata": {},
     "output_type": "execute_result"
    }
   ],
   "source": [
    "HV.laenge * R              # die kürzeste Entfernung"
   ]
  },
  {
   "cell_type": "code",
   "execution_count": 17,
   "metadata": {
    "collapsed": false
   },
   "outputs": [
    {
     "data": {
      "text/latex": [
       "$$\\left ( 155.290760527338, \\quad 174.099999999937, \\quad 152.538868947292\\right )$$"
      ],
      "text/plain": [
       "(155.290760527338, 174.099999999937, 152.538868947292)"
      ]
     },
     "execution_count": 17,
     "metadata": {},
     "output_type": "execute_result"
    }
   ],
   "source": [
    "d = sDreieck(H, P, V)     # das Poldreieck\n",
    "d.winkel                  # die Winkel bei den Ecken"
   ]
  },
  {
   "cell_type": "markdown",
   "metadata": {},
   "source": [
    "Kurswinkel in Hongkong ist 155,29°, in Valparaiso 152,54°"
   ]
  },
  {
   "cell_type": "code",
   "execution_count": 18,
   "metadata": {
    "collapsed": false
   },
   "outputs": [],
   "source": [
    "se = d.seiten   # die mittlere Seite (Index = 1) ist die Strecke HV"
   ]
  },
  {
   "cell_type": "code",
   "execution_count": 20,
   "metadata": {
    "collapsed": false
   },
   "outputs": [],
   "source": [
    "zeichne([Erde, 'lightblue'], [H, rot, 2], P, [V, gelb, 2], \n",
    "        [HV, rot], se[0], se[2],\n",
    "         box=nein, achsen=nein)"
   ]
  },
  {
   "cell_type": "markdown",
   "metadata": {},
   "source": [
    "<br>\n",
    "<b>(2)</b> Südlichster Punkt; es wird die kleinste $z$-Koordinate der Verbindungsstrecke gesucht"
   ]
  },
  {
   "cell_type": "code",
   "execution_count": 21,
   "metadata": {
    "collapsed": false
   },
   "outputs": [],
   "source": [
    "Q = HV.e.pkt(t)   # der allgemeine Punkt der Verbindungsstrecke\n",
    "di = diff(Q.z, t)"
   ]
  },
  {
   "cell_type": "code",
   "execution_count": 22,
   "metadata": {
    "collapsed": false
   },
   "outputs": [
    {
     "data": {
      "text/latex": [
       "$$114.297545436322$$"
      ],
      "text/plain": [
       "114.297545436322"
      ]
     },
     "execution_count": 22,
     "metadata": {},
     "output_type": "execute_result"
    }
   ],
   "source": [
    "# Ermitteln von Extremstellen der z-Koordinate\n",
    "\n",
    "# 1. Nullstellen der 1. Ableitung; Verwendung von SymPy's nsolve, \n",
    "#    das 2. Argumnt ist der Startwert des Verfahrns\n",
    "\n",
    "L = nsolve(di, (HV.ber[0]+HV.ber[1])/2)    \n",
    "t0 = N(L)\n",
    "t0"
   ]
  },
  {
   "cell_type": "code",
   "execution_count": 23,
   "metadata": {
    "collapsed": false
   },
   "outputs": [
    {
     "data": {
      "text/latex": [
       "$$0.000280913465381858$$"
      ],
      "text/plain": [
       "0.000280913465381858"
      ]
     },
     "execution_count": 23,
     "metadata": {},
     "output_type": "execute_result"
    }
   ],
   "source": [
    "# 2. Kontrolle auf Minimum über die 2. Ableitung\n",
    "\n",
    "N(diff(Q.z, t, t).subs(t, t0))   #  hinreichende Bedingung für Minimum"
   ]
  },
  {
   "cell_type": "code",
   "execution_count": 24,
   "metadata": {
    "collapsed": false
   },
   "outputs": [
    {
     "data": {
      "text/latex": [
       "$$67.25^\\circ \\:S, \\:\\:\\: 145.90^\\circ \\:W$$"
      ],
      "text/plain": [
       "<IPython.core.display.Math object>"
      ]
     },
     "metadata": {},
     "output_type": "display_data"
    }
   ],
   "source": [
    "A = HV.e.pkt(t0)    \n",
    "SP = sPunkt(A)      # der südlichste Punkt und \n",
    "SP.geo_koord        # seine geografischen Koordinaten"
   ]
  },
  {
   "cell_type": "markdown",
   "metadata": {},
   "source": [
    "<br>\n",
    "<b>(3)</b>  Schnittpunkt mit der Datumsgrenze"
   ]
  },
  {
   "cell_type": "code",
   "execution_count": 25,
   "metadata": {
    "collapsed": false
   },
   "outputs": [],
   "source": [
    "dg = sGerade(sPunkt(pi, 0), sPunkt(pi, -pi/2))   # Datumsgrenze\n",
    "hvg = HV.gerade      "
   ]
  },
  {
   "cell_type": "code",
   "execution_count": 26,
   "metadata": {
    "collapsed": false
   },
   "outputs": [
    {
     "data": {
      "text/latex": [
       "$$\\left ( sPunkt, \\quad sPunkt\\right )$$"
      ],
      "text/plain": [
       "(sPunkt, sPunkt)"
      ]
     },
     "execution_count": 26,
     "metadata": {},
     "output_type": "execute_result"
    }
   ],
   "source": [
    "B = hvg.schnitt(dg)\n",
    "B"
   ]
  },
  {
   "cell_type": "code",
   "execution_count": 27,
   "metadata": {
    "collapsed": false
   },
   "outputs": [
    {
     "data": {
      "text/latex": [
       "$$63.14^\\circ \\:S, \\:\\:\\: 180.00^\\circ$$"
      ],
      "text/plain": [
       "<IPython.core.display.Math object>"
      ]
     },
     "metadata": {},
     "output_type": "display_data"
    }
   ],
   "source": [
    "B[1].geo_koord   # anhand der Grafik wird diese Lösung ausgewählt\n",
    "S3 = B[1]"
   ]
  },
  {
   "cell_type": "markdown",
   "metadata": {},
   "source": [
    "<br>\n",
    "<b>(4)</b>  Schnittpunkt mit dem Äquator"
   ]
  },
  {
   "cell_type": "code",
   "execution_count": 28,
   "metadata": {
    "collapsed": false
   },
   "outputs": [
    {
     "data": {
      "text/latex": [
       "$$\\left ( sPunkt, \\quad sPunkt\\right )$$"
      ],
      "text/plain": [
       "(sPunkt, sPunkt)"
      ]
     },
     "execution_count": 28,
     "metadata": {},
     "output_type": "execute_result"
    }
   ],
   "source": [
    "aq = sGerade(sPunkt(H.l, 0), sPunkt(V.l, 0))   # der Äquator\n",
    "C = hvg.schnitt(aq)\n",
    "C"
   ]
  },
  {
   "cell_type": "code",
   "execution_count": 29,
   "metadata": {
    "collapsed": false
   },
   "outputs": [
    {
     "data": {
      "text/latex": [
       "$$0.00^\\circ, \\:\\:\\: 124.10^\\circ \\:O$$"
      ],
      "text/plain": [
       "<IPython.core.display.Math object>"
      ]
     },
     "metadata": {},
     "output_type": "display_data"
    }
   ],
   "source": [
    "C[1].geo_koord   # ebenfalls anhand der Grafik\n",
    "S4 = C[1]"
   ]
  },
  {
   "cell_type": "markdown",
   "metadata": {},
   "source": [
    "<br>\n",
    "<b>(5)</b>  Schnittpunkt mit dem südlichen Wendekreis"
   ]
  },
  {
   "cell_type": "code",
   "execution_count": 30,
   "metadata": {
    "collapsed": false
   },
   "outputs": [
    {
     "data": {
      "text/latex": [
       "$$\\left ( sPunkt, \\quad sPunkt\\right )$$"
      ],
      "text/plain": [
       "(sPunkt, sPunkt)"
      ]
     },
     "execution_count": 30,
     "metadata": {},
     "output_type": "execute_result"
    }
   ],
   "source": [
    "sw = sKreis(P, pi/2+23.5/180*pi)     # ein Kreis auf der Sphäre\n",
    "C = hvg.schnitt(sw)\n",
    "C    "
   ]
  },
  {
   "cell_type": "code",
   "execution_count": 31,
   "metadata": {
    "collapsed": false
   },
   "outputs": [
    {
     "data": {
      "text/latex": [
       "$$23.50^\\circ \\:S, \\:\\:\\: 134.61^\\circ \\:O$$"
      ],
      "text/plain": [
       "<IPython.core.display.Math object>"
      ]
     },
     "metadata": {},
     "output_type": "display_data"
    }
   ],
   "source": [
    "C[1].geo_koord     # anhand der Grafik Auswahl des 2. Punktes\n",
    "S5 = C[1]"
   ]
  },
  {
   "cell_type": "code",
   "execution_count": 36,
   "metadata": {
    "collapsed": false
   },
   "outputs": [],
   "source": [
    "sicht_box(-1.2, 1.2)\n",
    "zeichne([Erde, 'lightblue', 'gitter=ja'], [H, rot, 2], P, [V, gelb, 2], \n",
    "       [HV, 3], \n",
    "       [SP, rot, 2],                           \n",
    "       [dg, blau, 2], [S3, blau, 2],         \n",
    "       [aq, blau, 2], [S4, blau, 2],         \n",
    "       [sw, gruen, 2], [S5, gruen, 2],\n",
    "        box=nein, achsen=nein)"
   ]
  },
  {
   "cell_type": "code",
   "execution_count": null,
   "metadata": {
    "collapsed": true
   },
   "outputs": [],
   "source": []
  }
 ],
 "metadata": {
  "anaconda-cloud": {},
  "kernelspec": {
   "display_name": "Python [default]",
   "language": "python",
   "name": "python3"
  },
  "language_info": {
   "codemirror_mode": {
    "name": "ipython",
    "version": 3
   },
   "file_extension": ".py",
   "mimetype": "text/x-python",
   "name": "python",
   "nbconvert_exporter": "python",
   "pygments_lexer": "ipython3",
   "version": "3.5.2"
  }
 },
 "nbformat": 4,
 "nbformat_minor": 1
}
