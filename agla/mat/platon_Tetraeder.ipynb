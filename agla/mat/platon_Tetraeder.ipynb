{
 "cells": [
  {
   "cell_type": "markdown",
   "metadata": {},
   "source": [
    "# Materialien zu <i>agla</i>\n",
    "\n",
    "Autor: Holger Böttcher - hbomat@posteo.de\n",
    "\n",
    "## Platonische Körper "
   ]
  },
  {
   "cell_type": "markdown",
   "metadata": {},
   "source": [
    "## Tetraeder"
   ]
  },
  {
   "cell_type": "code",
   "execution_count": 1,
   "metadata": {
    "collapsed": true
   },
   "outputs": [],
   "source": [
    "%run agla/start"
   ]
  },
  {
   "cell_type": "code",
   "execution_count": 2,
   "metadata": {
    "collapsed": false
   },
   "outputs": [],
   "source": [
    "# Erzeugung über einen Kantenzug\n",
    "\n",
    "p1 = v(1,1,-1); p2 = v(-1,-1,-1); p3 = v(-1,1,1); p4 = v(1,-1,1)\n",
    "\n",
    "Tetraeder = Koerper(p1, p2, p3, p1, p4, p2, p4, p3)\n"
   ]
  },
  {
   "cell_type": "code",
   "execution_count": 3,
   "metadata": {
    "collapsed": false
   },
   "outputs": [],
   "source": [
    "sicht_box(-2, 2)\n",
    "\n",
    "zeichne(Tetraeder)\n",
    "\n",
    "#zeichne([Tetraeder, 'fuell=ja'])\n"
   ]
  },
  {
   "cell_type": "code",
   "execution_count": 4,
   "metadata": {
    "collapsed": false
   },
   "outputs": [
    {
     "data": {
      "text/latex": [
       "$$\\left ( 4, \\quad 6, \\quad 4\\right )$$"
      ],
      "text/plain": [
       "(4, 6, 4)"
      ]
     },
     "execution_count": 4,
     "metadata": {},
     "output_type": "execute_result"
    }
   ],
   "source": [
    "Tetraeder.anz_ecken,  Tetraeder.anz_kanten,  Tetraeder.anz_seiten"
   ]
  },
  {
   "cell_type": "code",
   "execution_count": 5,
   "metadata": {
    "collapsed": false
   },
   "outputs": [
    {
     "data": {
      "text/latex": [
       "$$2$$"
      ],
      "text/plain": [
       "2"
      ]
     },
     "execution_count": 5,
     "metadata": {},
     "output_type": "execute_result"
    }
   ],
   "source": [
    "# Eulersche Polyederformel:      #Ecken - #Kanten + #Seiten = 2\n",
    "\n",
    "Tetraeder.anz_ecken - Tetraeder.anz_kanten + Tetraeder.anz_seiten"
   ]
  },
  {
   "cell_type": "code",
   "execution_count": 6,
   "metadata": {
    "collapsed": false
   },
   "outputs": [],
   "source": [
    "# Einfärbung der Seiten\n",
    "\n",
    "S = Tetraeder.seiten\n",
    "\n",
    "zeichne([S[0], rot, 'fuell=ja'], [S[1], 'fuell=ja'], [S[2], 'fuell=ja'], [S[3], 'fuell=ja'], \n",
    "        achsen=nein, box=nein)"
   ]
  },
  {
   "cell_type": "code",
   "execution_count": 7,
   "metadata": {
    "collapsed": false
   },
   "outputs": [],
   "source": [
    "# Markieren der Ecken\n",
    "\n",
    "Tetraeder.mark_ecken"
   ]
  },
  {
   "cell_type": "code",
   "execution_count": 8,
   "metadata": {
    "collapsed": false
   },
   "outputs": [],
   "source": [
    "# Markieren der Kanten\n",
    "\n",
    "Tetraeder.mark_kanten"
   ]
  },
  {
   "cell_type": "code",
   "execution_count": 9,
   "metadata": {
    "collapsed": false
   },
   "outputs": [],
   "source": [
    "# Markieren der Seiten\n",
    "\n",
    "Tetraeder.mark_seiten"
   ]
  },
  {
   "cell_type": "code",
   "execution_count": null,
   "metadata": {
    "collapsed": false
   },
   "outputs": [],
   "source": []
  }
 ],
 "metadata": {
  "anaconda-cloud": {},
  "kernelspec": {
   "display_name": "Python [default]",
   "language": "python",
   "name": "python3"
  },
  "language_info": {
   "codemirror_mode": {
    "name": "ipython",
    "version": 3
   },
   "file_extension": ".py",
   "mimetype": "text/x-python",
   "name": "python",
   "nbconvert_exporter": "python",
   "pygments_lexer": "ipython3",
   "version": "3.5.2"
  }
 },
 "nbformat": 4,
 "nbformat_minor": 0
}
