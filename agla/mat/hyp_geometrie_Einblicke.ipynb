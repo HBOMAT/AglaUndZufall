{
 "cells": [
  {
   "cell_type": "markdown",
   "metadata": {},
   "source": [
    "# Materialien zu <i>agla</i>\n",
    "\n",
    "Autor: Holger Böttcher - hbomat@posteo.de\n",
    "\n",
    "## Hyperbolische Geometrie "
   ]
  },
  {
   "cell_type": "markdown",
   "metadata": {},
   "source": [
    "## Einblicke \n",
    "\n",
    "Es wird das Kreisscheiben-Modell $D$ von Poincarè verwendet, welches sich auch durch \n",
    "<br>eine Projektion des Minkowski-Modells auf der oberen Schale eines zweischaligen \n",
    "<br>\n",
    "Hyperboloids (hier $H$ genannt) ergibt <br><br>"
   ]
  },
  {
   "cell_type": "code",
   "execution_count": 1,
   "metadata": {
    "collapsed": false
   },
   "outputs": [],
   "source": [
    "%run agla/start"
   ]
  },
  {
   "cell_type": "markdown",
   "metadata": {},
   "source": [
    "### Hyperbolischer Abstand\n",
    "(Erläuterungen im *D*-Modell)"
   ]
  },
  {
   "cell_type": "code",
   "execution_count": 2,
   "metadata": {
    "collapsed": false
   },
   "outputs": [
    {
     "data": {
      "text/latex": [
       "$$\\left ( \\infty, \\quad \\infty, \\quad 1.0785603435107454\\right )$$"
      ],
      "text/plain": [
       "(∞, ∞, 1.0785603435107454)"
      ]
     },
     "execution_count": 2,
     "metadata": {},
     "output_type": "execute_result"
    }
   ],
   "source": [
    "OD = hPunkt(0, 0)       # der \"Ursprung\"\n",
    "R = hPunkt(1, 0)        # Randpunkt\n",
    "Q = hPunkt(0.2, 0.45)   # beliebiger Punkt\n",
    "\n",
    "OD.abstand(R), Q.abstand(R), Q.abstand(OD) \n",
    "\n",
    "# (der hyperbolische Abstand eines Punktes zu einem Randpunkt ist \n",
    "# unendlich, sonst ist er endlich)"
   ]
  },
  {
   "cell_type": "code",
   "execution_count": 3,
   "metadata": {
    "collapsed": false
   },
   "outputs": [
    {
     "data": {
      "text/latex": [
       "$$\\left [ 0, \\quad \\frac{1}{10}, \\quad \\frac{1}{5}, \\quad \\frac{3}{10}, \\quad \\frac{2}{5}, \\quad \\frac{1}{2}, \\quad \\frac{3}{5}, \\quad \\frac{7}{10}, \\quad \\frac{4}{5}, \\quad \\frac{9}{10}, \\quad 1\\right ]$$"
      ],
      "text/plain": [
       "[0, 1/10, 1/5, 3/10, 2/5, 1/2, 3/5, 7/10, 4/5, 9/10, 1]"
      ]
     },
     "execution_count": 3,
     "metadata": {},
     "output_type": "execute_result"
    }
   ],
   "source": [
    "# Eine Liste von Zahlen aus [0, 1] \n",
    "\n",
    "xx = [i * Rational(1, 10) for i in range(11)]; xx   "
   ]
  },
  {
   "cell_type": "code",
   "execution_count": 4,
   "metadata": {
    "collapsed": false
   },
   "outputs": [
    {
     "data": {
      "text/latex": [
       "$$\\left [ \\left(\\begin{matrix}0\\\\0\\end{matrix}\\right), \\quad \\left(\\begin{matrix}\\frac{1}{10}\\\\0\\end{matrix}\\right), \\quad \\left(\\begin{matrix}\\frac{1}{5}\\\\0\\end{matrix}\\right), \\quad \\left(\\begin{matrix}\\frac{3}{10}\\\\0\\end{matrix}\\right), \\quad \\left(\\begin{matrix}\\frac{2}{5}\\\\0\\end{matrix}\\right), \\quad \\left(\\begin{matrix}\\frac{1}{2}\\\\0\\end{matrix}\\right), \\quad \\left(\\begin{matrix}\\frac{3}{5}\\\\0\\end{matrix}\\right), \\quad \\left(\\begin{matrix}\\frac{7}{10}\\\\0\\end{matrix}\\right), \\quad \\left(\\begin{matrix}\\frac{4}{5}\\\\0\\end{matrix}\\right), \\quad \\left(\\begin{matrix}\\frac{9}{10}\\\\0\\end{matrix}\\right), \\quad \\left(\\begin{matrix}1\\\\0\\end{matrix}\\right)\\right ]$$"
      ],
      "text/plain": [
       "[Vektor, Vektor, Vektor, Vektor, Vektor, Vektor, Vektor, Vektor, Vektor, Vekto\n",
       "r, Vektor]"
      ]
     },
     "execution_count": 4,
     "metadata": {},
     "output_type": "execute_result"
    }
   ],
   "source": [
    "# zugehörige Punkte auf der  x-Achse\n",
    "\n",
    "pp = [v(xx[i], 0) for i in range(11)]; pp   "
   ]
  },
  {
   "cell_type": "code",
   "execution_count": 5,
   "metadata": {
    "collapsed": false
   },
   "outputs": [
    {
     "data": {
      "text/latex": [
       "$$\\left [ \\frac{1}{10}, \\quad \\frac{1}{10}, \\quad \\frac{1}{10}, \\quad \\frac{1}{10}, \\quad \\frac{1}{10}, \\quad \\frac{1}{10}, \\quad \\frac{1}{10}, \\quad \\frac{1}{10}, \\quad \\frac{1}{10}, \\quad \\frac{1}{10}\\right ]$$"
      ],
      "text/plain": [
       "[1/10, 1/10, 1/10, 1/10, 1/10, 1/10, 1/10, 1/10, 1/10, 1/10]"
      ]
     },
     "execution_count": 5,
     "metadata": {},
     "output_type": "execute_result"
    }
   ],
   "source": [
    "# die euklidischen Abstände aufeinanderfolgender Punkte sind konstant\n",
    "\n",
    "[pp[i+1].abstand(pp[i]) for i in range(10)]"
   ]
  },
  {
   "cell_type": "code",
   "execution_count": 6,
   "metadata": {
    "collapsed": false
   },
   "outputs": [],
   "source": [
    "# die Abstände zwischen den entsprechenden hyperbolischen Punkten\n",
    "\n",
    "hp = [hPunkt(p) for p in pp]"
   ]
  },
  {
   "cell_type": "code",
   "execution_count": 7,
   "metadata": {
    "collapsed": false
   },
   "outputs": [
    {
     "data": {
      "text/latex": [
       "$$\\left [ 0.201, \\quad 0.205, \\quad 0.214, \\quad 0.228, \\quad 0.251, \\quad 0.288, \\quad 0.348, \\quad 0.463, \\quad 0.747, \\quad \\infty\\right ]$$"
      ],
      "text/plain": [
       "[0.201, 0.205, 0.214, 0.228, 0.251, 0.288, 0.348, 0.463, 0.747, +inf]"
      ]
     },
     "execution_count": 7,
     "metadata": {},
     "output_type": "execute_result"
    }
   ],
   "source": [
    "# wachsen an; sie hängen von der Lage der Punkte ab\n",
    "\n",
    "[N(hp[i+1].abstand(hp[i]), 3) for i in range(10)]   "
   ]
  },
  {
   "cell_type": "markdown",
   "metadata": {},
   "source": [
    "<br>\n",
    "Im betrachteten $D$-Modell ist es notwendig, die unendlche hyperbolische Ebene mittels \n",
    "<br>einer endlichen Kreisscheibe darzustellen\n",
    "\n",
    "Die prinzipielle Möglichkeit eines solchen Vorgehens wird mit folgender Überlegung \n",
    "<br>und der zugehörigen Grafik veranschaulicht:\n",
    "\n",
    "Ein Wanderer versucht, vom Ursprung aus die Kreislinie zu erreichen wobei er sich \n",
    "<br>entlang der $x$-Achse bewegt. Hat er die Hälfte des Abstandes zu dieser Linie \n",
    "<br>durchschritten, soll er dabei auch um die Hälfte kleiner geworden sein (d.h., \n",
    "<br>daß die Abstände lageabhängig sind). Damit werden seine Schritte kürzer und er \n",
    "<br>kommt entsprechend langsamer voran. Hat er von der verbleibenden Hälfte wieder \n",
    "<br>die Hälfte durchschritten, ist er nur noch ein Viertel so groß wie am Anfang.<br>\n",
    "Geht das so weiter, wird er jeden Punkt des Intervalls [0, 1) erreichen, die Kreislinie\n",
    "<br>jedoch nie.\n",
    "<br><br> "
   ]
  },
  {
   "cell_type": "code",
   "execution_count": 8,
   "metadata": {
    "collapsed": false
   },
   "outputs": [
    {
     "data": {
      "image/png": "[encoded data removed]",
      "text/plain": [
       "<matplotlib.figure.Figure at 0xccb6fb0>"
      ]
     },
     "metadata": {},
     "output_type": "display_data"
    }
   ],
   "source": [
    "def figur(n):\n",
    "    return Strecke(9*v(1-1/2^n, 0), 9*v(1-1/2^n, 1/2^n))\n",
    "\n",
    "zeichne(Kreis(O2, 9), *[[figur(i), rot, 2] for i in range(7)], achsen=nein)"
   ]
  },
  {
   "cell_type": "markdown",
   "metadata": {},
   "source": [
    "### Hyperbolische Geraden im *D*-Modell"
   ]
  },
  {
   "cell_type": "code",
   "execution_count": 10,
   "metadata": {
    "collapsed": false
   },
   "outputs": [],
   "source": [
    "ek = EinhKreis2   # der (vordefinierte) Einheitskreis"
   ]
  },
  {
   "cell_type": "code",
   "execution_count": 11,
   "metadata": {
    "collapsed": false
   },
   "outputs": [],
   "source": [
    "A1 = hPunkt(ek.pkt(70)); B1 = hPunkt(ek.pkt(80)); g1 = hGerade(A1, B1)\n",
    "A2 = hPunkt(ek.pkt(65)); B2 = hPunkt(ek.pkt(85)); g2 = hGerade(A2, B2)\n",
    "A3 = hPunkt(0.22, 0.25); B3 = hPunkt(-0.2, 0.65); g3 = hGerade(A3, B3)\n",
    "A4 = OD; B4 = hPunkt(-0.2, 0.8); g4 = hGerade(A4, B4)\n",
    "A5 = hPunkt(ek.pkt(30)); B5 = hPunkt(ek.pkt(240)); g5 = hGerade(A5, B5)\n",
    "gg = g1, g2, g3, g4, g5"
   ]
  },
  {
   "cell_type": "code",
   "execution_count": 12,
   "metadata": {
    "collapsed": false
   },
   "outputs": [
    {
     "data": {
      "image/png": "[encoded data removed]",
      "text/plain": [
       "<matplotlib.figure.Figure at 0x6d38e10>"
      ]
     },
     "metadata": {},
     "output_type": "display_data"
    }
   ],
   "source": [
    "# Hyperbolische Geraden und ihre euklidischen Trägerkreise\n",
    "\n",
    "sicht_box(2.4)\n",
    "zeichne(ek, \n",
    "        *[[g, blau, 2] for g in gg], \n",
    "        *[[g.träger, grün] for g in gg], \n",
    "        achsen=nein, bez=[(v(0.68, 0.14), 'g3')])"
   ]
  },
  {
   "cell_type": "markdown",
   "metadata": {},
   "source": [
    "<br>Überprüfung der <b>Winkel mit dem Einheitskreis</b> am Beispiel  $g_3$<br><br>\n",
    "Da der Einheitskreis kein hyperbolisches Objekt ist, wird zu Kurve-Objekten \n",
    "<br>übergegangen und die Winkel in deren Schnittpunkten berechnet\n",
    "<br>"
   ]
  },
  {
   "cell_type": "code",
   "execution_count": 13,
   "metadata": {
    "collapsed": false
   },
   "outputs": [
    {
     "data": {
      "image/png": "[encoded data removed]",
      "text/plain": [
       "<matplotlib.figure.Figure at 0x14a0350>"
      ]
     },
     "metadata": {},
     "output_type": "display_data"
    }
   ],
   "source": [
    "sicht_box(1.2)\n",
    "zeichne(ek, [g3, blau, 3], [g3.träger, grün], achsen=nein)"
   ]
  },
  {
   "cell_type": "markdown",
   "metadata": {},
   "source": [
    "Die Parameterwerte der Schnittpunkte des Trägerkreises mit dem Einheitskreis <br> wurden bereits bei der Erzeugung von $g_3$ ermittelt und sind mit"
   ]
  },
  {
   "cell_type": "code",
   "execution_count": 14,
   "metadata": {
    "collapsed": false
   },
   "outputs": [
    {
     "data": {
      "text/latex": [
       "$$\\left [ 200.352262848382, \\quad 273.170744988761\\right ]$$"
      ],
      "text/plain": [
       "[200.352262848382, 273.170744988761]"
      ]
     },
     "execution_count": 14,
     "metadata": {},
     "output_type": "execute_result"
    }
   ],
   "source": [
    "g3.ber   "
   ]
  },
  {
   "cell_type": "markdown",
   "metadata": {
    "collapsed": false
   },
   "source": [
    "abrufbar; diese Gradwerte sind für ihren Gebrauch als Kurvenparamter in\n",
    "Bogenmaß <br>umzurechnen\n",
    "<br><br>\n",
    "Weiterhin fehlen noch die entsprechenden Parameterwerte der Schnittpunkte für den Einheitskreis<br>\n",
    "Diese können so beschafft werden:\n",
    "<br><br>\n",
    "Die Schnittpunkte sind"
   ]
  },
  {
   "cell_type": "code",
   "execution_count": 15,
   "metadata": {
    "collapsed": false
   },
   "outputs": [
    {
     "data": {
      "text/latex": [
       "$$\\left ( \\left(\\begin{matrix}- \\frac{33897727303613}{25000000000000} \\cos{\\left (\\frac{5653406346773 \\pi}{50000000000000} \\right )} + \\frac{461735751295337}{500000000000000}\\\\- \\frac{33897727303613}{25000000000000} \\sin{\\left (\\frac{5653406346773 \\pi}{50000000000000} \\right )} + \\frac{140914507772021}{100000000000000}\\end{matrix}\\right), \\quad \\left(\\begin{matrix}\\frac{33897727303613}{25000000000000} \\cos{\\left (\\frac{12059618751561 \\pi}{25000000000000} \\right )} + \\frac{461735751295337}{500000000000000}\\\\- \\frac{33897727303613}{25000000000000} \\sin{\\left (\\frac{12059618751561 \\pi}{25000000000000} \\right )} + \\frac{140914507772021}{100000000000000}\\end{matrix}\\right)\\right )$$"
      ],
      "text/plain": [
       "(Vektor, Vektor)"
      ]
     },
     "execution_count": 15,
     "metadata": {},
     "output_type": "execute_result"
    }
   ],
   "source": [
    "S = g3.träger.pkt(g3.ber[0]), g3.träger.pkt(g3.ber[1])\n",
    "S"
   ]
  },
  {
   "cell_type": "code",
   "execution_count": 16,
   "metadata": {
    "collapsed": false
   },
   "outputs": [
    {
     "data": {
      "text/latex": [
       "$$\\left ( \\left(\\begin{matrix}-0.347791010750621\\\\0.937572084077286\\end{matrix}\\right), \\quad \\left(\\begin{matrix}0.998469136281889\\\\0.0553116976099046\\end{matrix}\\right)\\right )$$"
      ],
      "text/plain": [
       "(Vektor, Vektor)"
      ]
     },
     "execution_count": 16,
     "metadata": {},
     "output_type": "execute_result"
    }
   ],
   "source": [
    "S[0].dez, S[1].dez"
   ]
  },
  {
   "cell_type": "code",
   "execution_count": 17,
   "metadata": {
    "collapsed": false
   },
   "outputs": [
    {
     "data": {
      "image/png": "[encoded data removed]",
      "text/plain": [
       "<matplotlib.figure.Figure at 0xcd65c70>"
      ]
     },
     "metadata": {},
     "output_type": "display_data"
    }
   ],
   "source": [
    "zeichne(ek, [g3, blau, 2], [S[0], grün, 2], [S[1], grün, 2], \n",
    "        [ek.pkt(0), rot],\n",
    "        *[ek.pkt(w) for w in range(30, 360, 30)],\n",
    "        achsen=nein)"
   ]
  },
  {
   "cell_type": "markdown",
   "metadata": {},
   "source": [
    "Die obige Grafik enthält zusätzlich eine Skalierung der Parameterwerte des Einheits-<br>\n",
    "kreises (in 30-Grad-Schritten), die zur Ermittlung von Startwerten im folgenden numme-<br>\n",
    "rischen Verfahren benutzt werden kann"
   ]
  },
  {
   "cell_type": "code",
   "execution_count": 18,
   "metadata": {
    "collapsed": false
   },
   "outputs": [
    {
     "data": {
      "text/latex": [
       "$$\\left ( 110.352262848382, \\quad 3.17074498876092\\right )$$"
      ],
      "text/plain": [
       "(110.352262848382, 3.17074498876092)"
      ]
     },
     "execution_count": 18,
     "metadata": {},
     "output_type": "execute_result"
    }
   ],
   "source": [
    "t0 = ek.in_kurve.par_wert(S[0], rad(110)).n()   # rad(110) - Startwert\n",
    "t1 = ek.in_kurve.par_wert(S[1], rad(0)).n()     # rad(0) ebenso\n",
    "\n",
    "t0 = grad(t0).n(); t1 = grad(t1).n()            # Umrechnung in Grad, \n",
    "        # da die Parameter für Kurven in Radian, für Kreise in Grad \n",
    "        # anzugeben sind\n",
    "t0, t1        "
   ]
  },
  {
   "cell_type": "markdown",
   "metadata": {},
   "source": [
    "Einsetzen der Werte in die entsprechende Methode des Einhheitskreises bestätigt die <br>Richtigkeit der Rechnung"
   ]
  },
  {
   "cell_type": "code",
   "execution_count": 19,
   "metadata": {
    "collapsed": false
   },
   "outputs": [
    {
     "data": {
      "text/latex": [
       "$$\\left ( \\left(\\begin{matrix}-0.347791010750625\\\\0.937572084077304\\end{matrix}\\right), \\quad \\left(\\begin{matrix}-0.347791010750621\\\\0.937572084077286\\end{matrix}\\right)\\right )$$"
      ],
      "text/plain": [
       "(Vektor, Vektor)"
      ]
     },
     "execution_count": 19,
     "metadata": {},
     "output_type": "execute_result"
    }
   ],
   "source": [
    "ek.pkt(t0).dez, S[0].dez"
   ]
  },
  {
   "cell_type": "code",
   "execution_count": 20,
   "metadata": {
    "collapsed": false
   },
   "outputs": [
    {
     "data": {
      "text/latex": [
       "$$\\left ( \\left(\\begin{matrix}0.998469136281893\\\\0.0553116976099045\\end{matrix}\\right), \\quad \\left(\\begin{matrix}0.998469136281889\\\\0.0553116976099046\\end{matrix}\\right)\\right )$$"
      ],
      "text/plain": [
       "(Vektor, Vektor)"
      ]
     },
     "execution_count": 20,
     "metadata": {},
     "output_type": "execute_result"
    }
   ],
   "source": [
    "ek.pkt(t1).dez, S[1].dez"
   ]
  },
  {
   "cell_type": "markdown",
   "metadata": {},
   "source": [
    "Die Berechnung der Winkel unter Zuhilfenahme der Parameterwerte ergibt, dass der <br>Kreis, auf dem $g_3$ liegt, den\n",
    "Einheitskreis mit zwei rechten Winkeln schneidet"
   ]
  },
  {
   "cell_type": "code",
   "execution_count": 21,
   "metadata": {
    "collapsed": false
   },
   "outputs": [
    {
     "data": {
      "text/latex": [
       "$$\\left ( 90.0000000000009, \\quad 90.0000000000001\\right )$$"
      ],
      "text/plain": [
       "(90.0000000000009, 90.0000000000001)"
      ]
     },
     "execution_count": 21,
     "metadata": {},
     "output_type": "execute_result"
    }
   ],
   "source": [
    "g3.e.in_kurve.winkel(ek.in_kurve, rad(g3.ber[0]), rad(t0)), \\\n",
    "g3.e.in_kurve.winkel(ek.in_kurve, rad(g3.ber[1]), rad(t1))"
   ]
  },
  {
   "cell_type": "markdown",
   "metadata": {},
   "source": [
    "### Parallelität von Geraden im *D*-Modell"
   ]
  },
  {
   "cell_type": "code",
   "execution_count": 22,
   "metadata": {
    "collapsed": true
   },
   "outputs": [],
   "source": [
    "g = g5; P = hPunkt(0, 0.5)"
   ]
  },
  {
   "cell_type": "code",
   "execution_count": 23,
   "metadata": {
    "collapsed": false
   },
   "outputs": [
    {
     "data": {
      "image/png": "[encoded data removed]",
      "text/plain": [
       "<matplotlib.figure.Figure at 0xcd8feb0>"
      ]
     },
     "metadata": {},
     "output_type": "display_data"
    }
   ],
   "source": [
    "zeichne(ek, [g5, rot, 2],        \n",
    "    hGerade(P, A5), hGerade(P, B5),\n",
    "    hGerade(P, hPunkt(ek.pkt(70))), \n",
    "    hGerade(P, hPunkt(ek.pkt(140))),\n",
    "    [P, 2, rot, 2],    \n",
    "    achsen=nein)"
   ]
  },
  {
   "cell_type": "markdown",
   "metadata": {},
   "source": [
    "### Ein Dreieck und sein Inkreis im *D*-Modell"
   ]
  },
  {
   "cell_type": "code",
   "execution_count": 24,
   "metadata": {
    "collapsed": false
   },
   "outputs": [],
   "source": [
    "A = hPunkt(-0.4, -0.3); B = hPunkt(0.25, 0.3); C = hPunkt(0, 0.6)\n",
    "\n",
    "d = hDreieck(A, B, C)\n",
    "\n",
    "ik = d.inkreis   # Rechenzeit!"
   ]
  },
  {
   "cell_type": "code",
   "execution_count": 26,
   "metadata": {
    "collapsed": false
   },
   "outputs": [
    {
     "data": {
      "text/latex": [
       "$$\\left ( 0.300028644326042, \\quad 0.134924441185683, \\quad \\left(\\begin{matrix}0.0556831610963773\\\\0.298105195137048\\end{matrix}\\right)\\right )$$"
      ],
      "text/plain": [
       "(0.300028644326042, 0.134924441185683, Vektor)"
      ]
     },
     "execution_count": 26,
     "metadata": {},
     "output_type": "execute_result"
    }
   ],
   "source": [
    "ik.radius, ik.e.radius, ik.e.mitte.dez   # hyperbolischer und\n",
    "                       # euklidischer Radius sind verschieden"
   ]
  },
  {
   "cell_type": "code",
   "execution_count": 27,
   "metadata": {
    "collapsed": false
   },
   "outputs": [
    {
     "data": {
      "image/png": "[encoded data removed]",
      "text/plain": [
       "<matplotlib.figure.Figure at 0x1000ad0>"
      ]
     },
     "metadata": {},
     "output_type": "display_data"
    }
   ],
   "source": [
    "sicht_box(-1.2, 1.2)\n",
    "zeichne(ek, d, [ik, rot], [ik.mitte, rot], achsen=nein)"
   ]
  },
  {
   "cell_type": "markdown",
   "metadata": {
    "collapsed": true
   },
   "source": [
    "### Hyperbolische Objekte im *H*-Modell"
   ]
  },
  {
   "cell_type": "markdown",
   "metadata": {},
   "source": [
    "Die obere Schale des zweischaligen Einheithyperboloids ist als Träger des $H$-Modells <br>vordefiniert"
   ]
  },
  {
   "cell_type": "code",
   "execution_count": 28,
   "metadata": {
    "collapsed": false
   },
   "outputs": [
    {
     "data": {
      "text/latex": [
       "$$\\left ( Fläche, \\quad x^{2} + y^{2} - z^{2} + 1=0\\right )$$"
      ],
      "text/plain": [
       "(Fläche, x**2 + y**2 - z**2 + 1 = 0)"
      ]
     },
     "execution_count": 28,
     "metadata": {},
     "output_type": "execute_result"
    }
   ],
   "source": [
    "HypSchale, HypSchale.imp"
   ]
  },
  {
   "cell_type": "markdown",
   "metadata": {},
   "source": [
    "Einige hyperbolische Punkte"
   ]
  },
  {
   "cell_type": "code",
   "execution_count": 29,
   "metadata": {
    "collapsed": false
   },
   "outputs": [
    {
     "data": {
      "text/latex": [
       "$$\\left ( \\left(\\begin{matrix}0.0\\\\0.0\\\\1.0\\end{matrix}\\right), \\quad \\left(\\begin{matrix}1.2\\\\-0.6\\\\1.67332005306815\\end{matrix}\\right)\\right )$$"
      ],
      "text/plain": [
       "(Vektor, Vektor)"
      ]
     },
     "execution_count": 29,
     "metadata": {},
     "output_type": "execute_result"
    }
   ],
   "source": [
    "OH = hPunkt(0, 0, 'H')   # der \"Ursprung\"\n",
    "P = hPunkt(1.2, -0.6, 'H')\n",
    "OH.e, P.e"
   ]
  },
  {
   "cell_type": "code",
   "execution_count": 30,
   "metadata": {
    "collapsed": false
   },
   "outputs": [
    {
     "data": {
      "text/latex": [
       "$$\\left ( \\left(\\begin{matrix}-1.06666666666667\\\\-0.8\\\\1.66666666666667\\end{matrix}\\right), \\quad \\left(\\begin{matrix}0.589970501474926\\\\0.707964601769911\\\\1.3598820058997\\end{matrix}\\right), \\quad \\left(\\begin{matrix}0\\\\1.875\\\\2.125\\end{matrix}\\right)\\right )$$"
      ],
      "text/plain": [
       "(Vektor, Vektor, Vektor)"
      ]
     },
     "execution_count": 30,
     "metadata": {},
     "output_type": "execute_result"
    }
   ],
   "source": [
    "AH, BH, CH = [D2H(p) for p in (A, B, C)]   # Überführung der Punkte \n",
    "                                       # aus dem D- in das H-Modell\n",
    "AH.e.dez, BH.e.dez, CH.e.dez"
   ]
  },
  {
   "cell_type": "code",
   "execution_count": 31,
   "metadata": {
    "collapsed": false
   },
   "outputs": [],
   "source": [
    "g1 = hGerade(OH, P)\n",
    "g2 = hGerade(hPunkt(1.2, -2, 'H'), hPunkt(-1.4, -1.8, 'H'))\n",
    "dH = hDreieck(AH, BH, CH)"
   ]
  },
  {
   "cell_type": "code",
   "execution_count": 32,
   "metadata": {
    "collapsed": false
   },
   "outputs": [],
   "source": [
    "sicht_box(3)\n",
    "zeichne(HypSchale, [g1, gelb, 2], [g2, blau, 2], [OH, 2])"
   ]
  },
  {
   "cell_type": "code",
   "execution_count": 33,
   "metadata": {
    "collapsed": true
   },
   "outputs": [],
   "source": [
    "sicht_box(3)\n",
    "zeichne(HypSchale, [dH, rot, 2], AH, BH, CH)"
   ]
  },
  {
   "cell_type": "markdown",
   "metadata": {},
   "source": [
    "Das im $H$-Modell erzeugte Dreieck ist zu dem Ausgangsdreieck im $D$-Modell <br>kongruent, die Seitenlängen und Innenwinkel beider Dreiecke sind gleich"
   ]
  },
  {
   "cell_type": "code",
   "execution_count": 34,
   "metadata": {
    "collapsed": false
   },
   "outputs": [
    {
     "data": {
      "text/latex": [
       "$$\\left ( 1.01619451814309, \\quad 2.30090014390345, \\quad 1.91349367757599\\right )$$"
      ],
      "text/plain": [
       "(1.01619451814309, 2.30090014390345, 1.91349367757599)"
      ]
     },
     "execution_count": 34,
     "metadata": {},
     "output_type": "execute_result"
    }
   ],
   "source": [
    "d.längen"
   ]
  },
  {
   "cell_type": "code",
   "execution_count": 35,
   "metadata": {
    "collapsed": false
   },
   "outputs": [
    {
     "data": {
      "text/latex": [
       "$$\\left ( 1.01619451814309, \\quad 2.30090014390345, \\quad 1.91349367757599\\right )$$"
      ],
      "text/plain": [
       "(1.01619451814309, 2.30090014390345, 1.91349367757599)"
      ]
     },
     "execution_count": 35,
     "metadata": {},
     "output_type": "execute_result"
    }
   ],
   "source": [
    "dH.längen"
   ]
  },
  {
   "cell_type": "code",
   "execution_count": 36,
   "metadata": {
    "collapsed": false
   },
   "outputs": [
    {
     "data": {
      "text/latex": [
       "$$\\left ( 13.997173303377476, \\quad 84.70311151454864, \\quad 41.90517444580712\\right )$$"
      ],
      "text/plain": [
       "(13.997173303377476, 84.70311151454864, 41.90517444580712)"
      ]
     },
     "execution_count": 36,
     "metadata": {},
     "output_type": "execute_result"
    }
   ],
   "source": [
    "d.winkel"
   ]
  },
  {
   "cell_type": "code",
   "execution_count": 37,
   "metadata": {
    "collapsed": false
   },
   "outputs": [
    {
     "data": {
      "text/latex": [
       "$$\\left ( 13.997173303377476, \\quad 84.70311151454867, \\quad 41.90517444580712\\right )$$"
      ],
      "text/plain": [
       "(13.997173303377476, 84.70311151454867, 41.90517444580712)"
      ]
     },
     "execution_count": 37,
     "metadata": {},
     "output_type": "execute_result"
    }
   ],
   "source": [
    "dH.winkel"
   ]
  },
  {
   "cell_type": "markdown",
   "metadata": {},
   "source": [
    "### Gemeinsame Darstellung von Objekten des $D$- und $H$-Modells"
   ]
  },
  {
   "cell_type": "markdown",
   "metadata": {
    "collapsed": true
   },
   "source": [
    "Die zur Überführung in das $H$-Modell benutzte Funktion $D2H$ realisiert eine Zentral-<br>projektion mit dem Zentrum im Punkt"
   ]
  },
  {
   "cell_type": "code",
   "execution_count": 38,
   "metadata": {
    "collapsed": false
   },
   "outputs": [
    {
     "data": {
      "text/latex": [
       "$$\\left(\\begin{matrix}0\\\\0\\\\-1\\end{matrix}\\right)$$"
      ],
      "text/plain": [
       "Vektor"
      ]
     },
     "execution_count": 38,
     "metadata": {},
     "output_type": "execute_result"
    }
   ],
   "source": [
    "Z = v(0, 0, -1); Z"
   ]
  },
  {
   "cell_type": "markdown",
   "metadata": {},
   "source": [
    "wobei die zweidimensionale Ebene (als Träger des $D$-Modells) in die $xy$-Ebene des <br>Raumes gelegt wurde"
   ]
  },
  {
   "cell_type": "markdown",
   "metadata": {},
   "source": [
    "Zur gemeinsamen Darstellung werden die Objekte des $D$-Modells in Objekte des <br>$D3$-(Hilfs-)Modells mittels der Funktion $D2D3$ überführt"
   ]
  },
  {
   "cell_type": "code",
   "execution_count": 39,
   "metadata": {
    "collapsed": false
   },
   "outputs": [],
   "source": [
    "A3, B3, C3 = [D2D3(p) for p in (A, B, C)]"
   ]
  },
  {
   "cell_type": "code",
   "execution_count": 40,
   "metadata": {
    "collapsed": false
   },
   "outputs": [
    {
     "data": {
      "text/latex": [
       "$$\\left ( \\left(\\begin{matrix}-0.4\\\\-0.3\\\\0.0\\end{matrix}\\right), \\quad \\left(\\begin{matrix}0.25\\\\0.3\\\\0.0\\end{matrix}\\right), \\quad \\left(\\begin{matrix}0.0\\\\0.6\\\\0.0\\end{matrix}\\right)\\right )$$"
      ],
      "text/plain": [
       "(Vektor, Vektor, Vektor)"
      ]
     },
     "execution_count": 40,
     "metadata": {},
     "output_type": "execute_result"
    }
   ],
   "source": [
    "A3.e, B3.e, C3.e"
   ]
  },
  {
   "cell_type": "code",
   "execution_count": 41,
   "metadata": {
    "collapsed": true
   },
   "outputs": [],
   "source": [
    "d3 = hDreieck(A3, B3, C3)"
   ]
  },
  {
   "cell_type": "code",
   "execution_count": 42,
   "metadata": {
    "collapsed": false
   },
   "outputs": [],
   "source": [
    "zeichne([HypSchale, gelb],                    # ca. 20 sec\n",
    "        [EinhKreis, 'khaki', 'füll=ja'],\n",
    "        [dH, 2], [d3, 2],\n",
    "        A3, [B3, grün], [C3, blau],\n",
    "        AH, [BH, grün], [CH, blau], [Z, rot],\n",
    "        Strecke(Z, AH.e),\n",
    "        [Strecke(Z, BH.e), grün],\n",
    "        [Strecke(Z, CH.e), blau]\n",
    "       )"
   ]
  },
  {
   "cell_type": "code",
   "execution_count": null,
   "metadata": {
    "collapsed": true
   },
   "outputs": [],
   "source": []
  }
 ],
 "metadata": {
  "anaconda-cloud": {},
  "kernelspec": {
   "display_name": "Python [default]",
   "language": "python",
   "name": "python3"
  },
  "language_info": {
   "codemirror_mode": {
    "name": "ipython",
    "version": 3
   },
   "file_extension": ".py",
   "mimetype": "text/x-python",
   "name": "python",
   "nbconvert_exporter": "python",
   "pygments_lexer": "ipython3",
   "version": "3.5.2"
  }
 },
 "nbformat": 4,
 "nbformat_minor": 1
}
