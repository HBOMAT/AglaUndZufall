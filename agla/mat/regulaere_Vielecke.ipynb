{
 "cells": [
  {
   "cell_type": "markdown",
   "metadata": {},
   "source": [
    "# Materialien zu <i>agla</i>\n",
    "\n",
    "Autor: Holger Böttcher - hbomat@posteo.de\n",
    "\n",
    "## Reguläre Vielecke\n",
    "### in der Ebene und in der $\\,\\mathit{xy}$ - Ebene des Raumes\n",
    "<br>"
   ]
  },
  {
   "cell_type": "code",
   "execution_count": 1,
   "metadata": {
    "collapsed": true
   },
   "outputs": [],
   "source": [
    "%run agla/start"
   ]
  },
  {
   "cell_type": "markdown",
   "metadata": {},
   "source": [
    "### Bereitstellen einer Funktion"
   ]
  },
  {
   "cell_type": "markdown",
   "metadata": {},
   "source": [
    "Die Eckpunkte eines *n*-Ecks werden durch Teilung des Einheitskreises in *n* \n",
    "<br>gleiche Teile gewonnen. Zum Erreichen gleicher Seitenlängen <i>a</i> werden alle \n",
    "<br>Eckpunkte mit dem Streckzentrum im Ursprung und einem Streckfaktor, der von der \n",
    "<br>Anzahl der Ecken undf von <i>a</i> abhängt, gestreckt\n",
    "\n",
    "Die folgende Funktion stellt ein solches Vieleck bereit, wobei der Streckfaktor <br>mit dem \n",
    "Standardwert 1 belegt ist. Das bedeutet, dass alle Eckpunkte auf dem <br>Einheitskreis liegen\n",
    "\n",
    "Die Funktion ist analog zu den fest in *agla* implementierten Funktionen und Methoden<br>\n",
    "gestaltet und stellt auch Hilfeinformationen bereit\n",
    "\n",
    "Die Ableitung der Formel für den Streckfaktor erfolgt am Ende des Notebooks\n",
    "<br><br>"
   ]
  },
  {
   "cell_type": "code",
   "execution_count": 14,
   "metadata": {
    "collapsed": false
   },
   "outputs": [],
   "source": [
    "def viel_eck(*args, **kwargs):\n",
    "    \"\"\"Erzeugung eines regulären Vielecks\"\"\"    \n",
    "    \n",
    "    if kwargs.get('h'):\n",
    "        print('\\nErzeugung regulärer Vielecke\\n')\n",
    "        print('Ein n-Eck mit der Seitenlänge a wird durch Teilung des Einheitskreises')\n",
    "        print('in n gleiche Teile und eine Streckung erzeugt\\n')\n",
    "        print(' Aufruf   viel_eck( n, /[a] )')   \n",
    "        print('                    n   Anzahl der Ecken')\n",
    "        print('                    a   vorgegebene Seitenlänge; Zahl > 0')   \n",
    "        print('                        keine Streckung, falls weggelassen\\n')\n",
    "        print('Zusatz    r3=ja   Erzeugung in der xy-Ebene des Raumes')\n",
    "        print('          h=1     Hilfe\\n')\n",
    "        return\n",
    "\n",
    "    raum = kwargs.get('r3')\n",
    "    if len(args) == 1:\n",
    "        n = sympify(args[0])\n",
    "        f = 1\n",
    "    elif len(args) == 2:\n",
    "        n, a = sympify(args[0]), sympify(args[1])\n",
    "    else:\n",
    "        print('ein oder zwei Argumente angeben')\n",
    "        return\n",
    "    if not (type(n) is Integer and n > 2):\n",
    "        print('für n eine ganze Zahl > 2 angeben')\n",
    "        return\n",
    "    if len(args) == 2:\n",
    "        if not(a.is_number and a > 0):\n",
    "            print('für die Seitenlänge eine Zahl > 0 angeben')\n",
    "            return\n",
    "        f = a / (2*sin(pi/n))   # Streckfaktor\n",
    "    ek = EinhKreis2\n",
    "    if raum:\n",
    "        ek = EinhKreis\n",
    "    ecken = [f * ek.pkt(i/n*360) for i in range(n)]\n",
    "    kanten = [[i, i+1] for i in range(n-1)] + [[n-1, 0]]\n",
    "    if not raum:\n",
    "        return Figur(ecken, kanten)\n",
    "    else:\n",
    "        return Koerper(ecken, kanten)"
   ]
  },
  {
   "cell_type": "code",
   "execution_count": 15,
   "metadata": {
    "collapsed": false
   },
   "outputs": [],
   "source": [
    "ve1 = viel_eck(4)\n",
    "ve2 = viel_eck(4, 5)\n",
    "ve3 = viel_eck(7, Rational(11, 3))\n",
    "ve4 = viel_eck(6, sqrt(7))\n",
    "ve5 = viel_eck(6, sqrt(7), r3=ja)"
   ]
  },
  {
   "cell_type": "markdown",
   "metadata": {},
   "source": [
    "### Gebrauch der Funktion"
   ]
  },
  {
   "cell_type": "code",
   "execution_count": 16,
   "metadata": {
    "collapsed": false
   },
   "outputs": [
    {
     "name": "stdout",
     "output_type": "stream",
     "text": [
      "\n",
      "Erzeugung regulaerer Vielecke\n",
      "\n",
      "Ein n-Eck mit der Seitenlaenge a wird durch Teilung des Einheitskreises\n",
      "in n gleiche Teile und eine Streckung erzeugt\n",
      "\n",
      " Aufruf   viel_eck( n, /[a] )\n",
      "                    n   Anzahl der Ecken\n",
      "                    a   vorgegebene Seitenlaenge; Zahl > 0\n",
      "                        keine Streckung, falls weggelassen\n",
      "\n",
      "Zusatz    r3=ja   Erzeugung in der xy-Ebene des Raumes\n",
      "          h=1     Hilfe\n",
      "\n"
     ]
    }
   ],
   "source": [
    "viel_eck(h=1)"
   ]
  },
  {
   "cell_type": "markdown",
   "metadata": {},
   "source": [
    "### Überprüfung der Seitenlängen"
   ]
  },
  {
   "cell_type": "code",
   "execution_count": 17,
   "metadata": {
    "collapsed": false
   },
   "outputs": [],
   "source": [
    "def  länge(ve):\n",
    "    return Abstand(ve.ecken[0], ve.ecken[1])"
   ]
  },
  {
   "cell_type": "code",
   "execution_count": 18,
   "metadata": {
    "collapsed": false
   },
   "outputs": [
    {
     "data": {
      "text/latex": [
       "$$\\sqrt{2}$$"
      ],
      "text/plain": [
       "√2"
      ]
     },
     "execution_count": 18,
     "metadata": {},
     "output_type": "execute_result"
    }
   ],
   "source": [
    "länge(ve1)"
   ]
  },
  {
   "cell_type": "code",
   "execution_count": 19,
   "metadata": {
    "collapsed": false
   },
   "outputs": [
    {
     "data": {
      "text/latex": [
       "$$5$$"
      ],
      "text/plain": [
       "5"
      ]
     },
     "execution_count": 19,
     "metadata": {},
     "output_type": "execute_result"
    }
   ],
   "source": [
    "länge(ve2)"
   ]
  },
  {
   "cell_type": "code",
   "execution_count": 20,
   "metadata": {
    "collapsed": false
   },
   "outputs": [
    {
     "data": {
      "text/latex": [
       "$$\\left ( \\sqrt{- \\frac{121 \\cos{\\left (\\frac{2 \\pi}{7} \\right )}}{18 \\sin^{2}{\\left (\\frac{\\pi}{7} \\right )}} + \\frac{121 \\cos^{2}{\\left (\\frac{2 \\pi}{7} \\right )}}{36 \\sin^{2}{\\left (\\frac{\\pi}{7} \\right )}} + \\frac{121 \\sin^{2}{\\left (\\frac{2 \\pi}{7} \\right )}}{36 \\sin^{2}{\\left (\\frac{\\pi}{7} \\right )}} + \\frac{121}{36 \\sin^{2}{\\left (\\frac{\\pi}{7} \\right )}}}, \\quad 3.66666666666667\\right )$$"
      ],
      "text/plain": [
       "⎛        _____________________________________________________________        \n",
       "⎜       ╱          ⎛2⋅π⎞          2⎛2⋅π⎞          2⎛2⋅π⎞                      \n",
       "⎜      ╱    121⋅cos⎜───⎟   121⋅cos ⎜───⎟   121⋅sin ⎜───⎟                      \n",
       "⎜     ╱            ⎝ 7 ⎠           ⎝ 7 ⎠           ⎝ 7 ⎠      121             \n",
       "⎜    ╱    - ──────────── + ───────────── + ───────────── + ────────── , 3.6666\n",
       "⎜   ╱              2⎛π⎞            2⎛π⎞            2⎛π⎞          2⎛π⎞         \n",
       "⎜  ╱         18⋅sin ⎜─⎟      36⋅sin ⎜─⎟      36⋅sin ⎜─⎟    36⋅sin ⎜─⎟         \n",
       "⎝╲╱                 ⎝7⎠             ⎝7⎠             ⎝7⎠           ⎝7⎠         \n",
       "\n",
       "          ⎞\n",
       "          ⎟\n",
       "          ⎟\n",
       "          ⎟\n",
       "6666666667⎟\n",
       "          ⎟\n",
       "          ⎟\n",
       "          ⎠"
      ]
     },
     "execution_count": 20,
     "metadata": {},
     "output_type": "execute_result"
    }
   ],
   "source": [
    "länge(ve3), länge(ve3).n()"
   ]
  },
  {
   "cell_type": "code",
   "execution_count": 21,
   "metadata": {
    "collapsed": false
   },
   "outputs": [
    {
     "data": {
      "text/latex": [
       "$$\\frac{11}{3}$$"
      ],
      "text/plain": [
       "11/3"
      ]
     },
     "execution_count": 21,
     "metadata": {},
     "output_type": "execute_result"
    }
   ],
   "source": [
    "einfach(länge(ve3).n(), num=ja)"
   ]
  },
  {
   "cell_type": "code",
   "execution_count": 22,
   "metadata": {
    "collapsed": false
   },
   "outputs": [
    {
     "data": {
      "text/latex": [
       "$$\\sqrt{7}$$"
      ],
      "text/plain": [
       "√7"
      ]
     },
     "execution_count": 22,
     "metadata": {},
     "output_type": "execute_result"
    }
   ],
   "source": [
    "länge(ve4)"
   ]
  },
  {
   "cell_type": "code",
   "execution_count": 23,
   "metadata": {
    "collapsed": false
   },
   "outputs": [
    {
     "data": {
      "image/png": "[encoded data removed]",
      "text/plain": [
       "<matplotlib.figure.Figure at 0xbc5ee50>"
      ]
     },
     "metadata": {},
     "output_type": "display_data"
    }
   ],
   "source": [
    "sicht_box(5)\n",
    "zeichne(ve3)"
   ]
  },
  {
   "cell_type": "code",
   "execution_count": 24,
   "metadata": {
    "collapsed": false
   },
   "outputs": [],
   "source": [
    "zeichne(ve5)   # im Raum"
   ]
  },
  {
   "cell_type": "markdown",
   "metadata": {},
   "source": [
    "<br>\n",
    "### Ableitung der Formel für den Streckfaktor"
   ]
  },
  {
   "cell_type": "code",
   "execution_count": 25,
   "metadata": {
    "collapsed": true
   },
   "outputs": [],
   "source": [
    "ek = EinhKreis2"
   ]
  },
  {
   "cell_type": "code",
   "execution_count": 26,
   "metadata": {
    "collapsed": false
   },
   "outputs": [],
   "source": [
    "gl = Abstand(f*ek.pkt(0/n * 360), f*ek.pkt(1/n * 360)) - a"
   ]
  },
  {
   "cell_type": "code",
   "execution_count": 27,
   "metadata": {
    "collapsed": false
   },
   "outputs": [
    {
     "data": {
      "text/latex": [
       "$$\\left [ \\left \\{ f : - \\frac{a}{2} \\sqrt{\\frac{1}{\\sin^{2}{\\left (\\frac{\\pi}{n} \\right )}}}\\right \\}, \\quad \\left \\{ f : \\frac{a}{2} \\sqrt{\\frac{1}{\\sin^{2}{\\left (\\frac{\\pi}{n} \\right )}}}\\right \\}\\right ]$$"
      ],
      "text/plain": [
       "⎡⎧            _________ ⎫  ⎧           _________⎫⎤\n",
       "⎢⎪           ╱    1     ⎪  ⎪          ╱    1    ⎪⎥\n",
       "⎢⎪   -a⋅    ╱  ───────  ⎪  ⎪   a⋅    ╱  ─────── ⎪⎥\n",
       "⎢⎪         ╱      2⎛π⎞  ⎪  ⎪        ╱      2⎛π⎞ ⎪⎥\n",
       "⎢⎨        ╱    sin ⎜─⎟  ⎬  ⎨       ╱    sin ⎜─⎟ ⎬⎥\n",
       "⎢⎪      ╲╱         ⎝n⎠  ⎪  ⎪     ╲╱         ⎝n⎠ ⎪⎥\n",
       "⎢⎪f: ───────────────────⎪, ⎪f: ─────────────────⎪⎥\n",
       "⎢⎪            2         ⎪  ⎪           2        ⎪⎥\n",
       "⎣⎩                      ⎭  ⎩                    ⎭⎦"
      ]
     },
     "execution_count": 27,
     "metadata": {},
     "output_type": "execute_result"
    }
   ],
   "source": [
    "L = löse(gl, f); L"
   ]
  },
  {
   "cell_type": "markdown",
   "metadata": {
    "collapsed": false
   },
   "source": [
    "Da das Argument der Sinusfunktion zwischen 0 und $\\frac{\\pi}{3}$ liegt und $\\,f>0\\,$ ist, <br>ist die \n",
    "Formel für $f$"
   ]
  },
  {
   "cell_type": "code",
   "execution_count": 16,
   "metadata": {
    "collapsed": false
   },
   "outputs": [
    {
     "data": {
      "text/latex": [
       "$$\\frac{a}{2 \\sin{\\left (\\frac{\\pi}{n} \\right )}}$$"
      ],
      "text/plain": [
       "   a    \n",
       "────────\n",
       "     ⎛π⎞\n",
       "2⋅sin⎜─⎟\n",
       "     ⎝n⎠"
      ]
     },
     "execution_count": 16,
     "metadata": {},
     "output_type": "execute_result"
    }
   ],
   "source": [
    "f = a / (2*sin(pi/n)); f"
   ]
  },
  {
   "cell_type": "code",
   "execution_count": null,
   "metadata": {
    "collapsed": true
   },
   "outputs": [],
   "source": []
  }
 ],
 "metadata": {
  "anaconda-cloud": {},
  "kernelspec": {
   "display_name": "Python [default]",
   "language": "python",
   "name": "python3"
  },
  "language_info": {
   "codemirror_mode": {
    "name": "ipython",
    "version": 3
   },
   "file_extension": ".py",
   "mimetype": "text/x-python",
   "name": "python",
   "nbconvert_exporter": "python",
   "pygments_lexer": "ipython3",
   "version": "3.5.2"
  }
 },
 "nbformat": 4,
 "nbformat_minor": 0
}
