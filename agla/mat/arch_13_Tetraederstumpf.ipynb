{
 "cells": [
  {
   "cell_type": "markdown",
   "metadata": {},
   "source": [
    "# Materialien zu <i>agla</i>\n",
    "\n",
    "Autor: Holger Böttcher - hbomat@posteo.de\n",
    "\n",
    "## Archimedische Körper"
   ]
  },
  {
   "cell_type": "markdown",
   "metadata": {},
   "source": [
    "### Tetraederstumpf"
   ]
  },
  {
   "cell_type": "markdown",
   "metadata": {},
   "source": [
    "Flächenfolge in einer Ecke  (3, 6, 6) \n",
    "<br><br>"
   ]
  },
  {
   "cell_type": "code",
   "execution_count": 1,
   "metadata": {
    "collapsed": true
   },
   "outputs": [],
   "source": [
    "%run agla/start"
   ]
  },
  {
   "cell_type": "code",
   "execution_count": 2,
   "metadata": {
    "collapsed": false
   },
   "outputs": [],
   "source": [
    "# Die Koordinaten der Eckpunkte sind näherungsweise definiert\n",
    "\n",
    "# Erzeugung des Körpers über seine Seitenflächen\n",
    "\n",
    "UMG.SIMPL = False\n",
    "\n",
    "p0  = v(  0,           0,           0.718601) \n",
    "p1  = v(  0.55432195,  0,           0.4572919) \n",
    "p2  = v( -0.46193485,  0.30641325,  0.4572919) \n",
    "p3  = v(  0.2155699,  -0.5106881,   0.4572919) \n",
    "p4  = v(  0.64670905,  0.30641325, -0.0653276) \n",
    "p5  = v( -0.7082985,   0.10213775, -0.0653276) \n",
    "p6  = v( -0.36954775,  0.61282585, -0.0653276) \n",
    "p7  = v( -0.03079564, -0.714961,   -0.0653276) \n",
    "p8  = v(  0.40034345,  0.10213775, -0.5879471) \n",
    "p9  = v(  0.1847742,   0.61282585, -0.32663735) \n",
    "p10 = v( -0.49273055, -0.40855035, -0.32663735) \n",
    "p11 = v(  0.06159134, -0.40855035, -0.5879471) \n",
    "\n",
    "dreiecke = [\n",
    " Koerper(p0,p3, p1,p0),\n",
    " Koerper(p2,p6, p5,p2),\n",
    " Koerper(p4,p8, p9,p4),\n",
    " Koerper(p7,p10,p11,p7)\n",
    "] \n",
    "\n",
    "sechsecke = [\n",
    " Koerper(p0,p1,p4,p9, p6,p2,p0),\n",
    " Koerper(p0,p2,p5,p10,p7,p3,p0),\n",
    " Koerper(p1,p3,p7,p11,p8,p4,p1),\n",
    " Koerper(p5,p6,p9,p8,p11,p10,p5)\n",
    "] \n",
    "\n",
    "seiten_liste = [dreiecke[i] for i in range(len(dreiecke))] + [sechsecke[i] for i in range(len(sechsecke))]"
   ]
  },
  {
   "cell_type": "code",
   "execution_count": 3,
   "metadata": {
    "collapsed": false
   },
   "outputs": [],
   "source": [
    "K = Körper(*seiten_liste, seiten=True)   "
   ]
  },
  {
   "cell_type": "code",
   "execution_count": 4,
   "metadata": {
    "collapsed": false
   },
   "outputs": [],
   "source": [
    "sicht_box(-1.2, 1.2)\n",
    "zeichne(K)"
   ]
  },
  {
   "cell_type": "code",
   "execution_count": 5,
   "metadata": {
    "collapsed": false
   },
   "outputs": [],
   "source": [
    "KS = K.seiten"
   ]
  },
  {
   "cell_type": "code",
   "execution_count": 6,
   "metadata": {
    "collapsed": false
   },
   "outputs": [],
   "source": [
    "K1  = Körper(*[KS[i] for i in range(len(KS)) if KS[i].anz_ecken == 3], seiten=True)   \n",
    "K2  = Körper(*[KS[i] for i in range(len(KS)) if KS[i].anz_ecken == 6], seiten=True)"
   ]
  },
  {
   "cell_type": "code",
   "execution_count": 7,
   "metadata": {
    "collapsed": true
   },
   "outputs": [],
   "source": [
    "sicht_box(-2, 2)\n",
    "zeichne([K1, rot, 'fuell=ja'], [K2, gelb, 'fuell=ja'], K, achsen=False, box=False)"
   ]
  },
  {
   "cell_type": "code",
   "execution_count": null,
   "metadata": {
    "collapsed": true
   },
   "outputs": [],
   "source": []
  }
 ],
 "metadata": {
  "anaconda-cloud": {},
  "kernelspec": {
   "display_name": "Python [default]",
   "language": "python",
   "name": "python3"
  },
  "language_info": {
   "codemirror_mode": {
    "name": "ipython",
    "version": 3
   },
   "file_extension": ".py",
   "mimetype": "text/x-python",
   "name": "python",
   "nbconvert_exporter": "python",
   "pygments_lexer": "ipython3",
   "version": "3.5.2"
  }
 },
 "nbformat": 4,
 "nbformat_minor": 0
}
