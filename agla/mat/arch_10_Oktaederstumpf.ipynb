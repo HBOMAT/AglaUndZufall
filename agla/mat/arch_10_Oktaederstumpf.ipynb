{
 "cells": [
  {
   "cell_type": "markdown",
   "metadata": {},
   "source": [
    "# Materialien zu <i>agla</i>\n",
    "\n",
    "Autor: Holger Böttcher - hbomat@posteo.de\n",
    "\n",
    "## Archimedische Körper"
   ]
  },
  {
   "cell_type": "markdown",
   "metadata": {},
   "source": [
    "### Oktaederstumpf   \n",
    "\n",
    "Flächenfolge in einer Ecke  (4, 6, 6) \n",
    "<br><br>"
   ]
  },
  {
   "cell_type": "code",
   "execution_count": 1,
   "metadata": {
    "collapsed": false
   },
   "outputs": [],
   "source": [
    "%run agla/start"
   ]
  },
  {
   "cell_type": "code",
   "execution_count": 2,
   "metadata": {
    "collapsed": false
   },
   "outputs": [],
   "source": [
    "# Die Koordinaten der Eckpunkte sind näherungsweise definiert\n",
    "\n",
    "# Erzeugung des Körpers über seine Seitenflächen\n",
    "\n",
    "UMG.SIMPL = False\n",
    "\n",
    "p0  = v(  0,           0,           0.6851585) \n",
    "p1  = v(  0.4110964,   0,           0.5481281) \n",
    "p2  = v( -0.27406405,  0.30641325,  0.5481281) \n",
    "p3  = v( -0.04567732, -0.40855035,  0.5481281) \n",
    "p4  = v(  0.5481281,   0.30641325,  0.27406405) \n",
    "p5  = v(  0.36541895, -0.40855035,  0.4110964) \n",
    "p6  = v( -0.59380555,  0.2042755,   0.27406405) \n",
    "p7  = v( -0.13703235,  0.61282585,  0.27406405) \n",
    "p8  = v( -0.36541895, -0.5106881,   0.27406405) \n",
    "p9  = v(  0.639483,    0.2042755,  -0.13703235) \n",
    "p10 = v(  0.27406405,  0.61282585,  0.13703235) \n",
    "p11 = v(  0.4567732,  -0.5106881,   0) \n",
    "p12 = v( -0.4567732,   0.5106881,   0) \n",
    "p13 = v( -0.639483,   -0.2042755,   0.13703235) \n",
    "p14 = v( -0.27406405, -0.61282585, -0.13703235) \n",
    "p15 = v(  0.36541895,  0.5106881,  -0.27406405) \n",
    "p16 = v(  0.59380555, -0.2042755,  -0.27406405) \n",
    "p17 = v(  0.13703235, -0.61282585, -0.27406405) \n",
    "p18 = v( -0.36541895,  0.40855035, -0.4110964) \n",
    "p19 = v( -0.5481281,  -0.30641325, -0.27406405) \n",
    "p20 = v(  0.04567732,  0.40855035, -0.5481281) \n",
    "p21 = v(  0.27406405, -0.30641325, -0.5481281) \n",
    "p22 = v( -0.4110964,   0,          -0.5481281) \n",
    "p23 = v(  0,           0,          -0.6851585) \n",
    "\n",
    "vierecke = [\n",
    "Koerper(p0, p3, p5, p1,p0),\n",
    "Koerper(p2, p7, p12,p6,p2),\n",
    "Koerper(p4, p9, p15,p10,p4),\n",
    "Koerper(p8, p13,p19,p14,p8),\n",
    "Koerper(p11,p17,p21,p16,p11),\n",
    "Koerper(p18,p20,p23,p22,p18)\n",
    "] \n",
    "\n",
    "sechsecke = [\n",
    "Koerper(p0, p1, p4, p10,p7, p2,p0), \n",
    "Koerper(p0, p2, p6, p13,p8, p3,p0), \n",
    "Koerper(p1, p5, p11,p16,p9, p4,p1),\n",
    "Koerper(p3, p8, p14,p17,p11,p5,p3),\n",
    "Koerper(p6, p12,p18,p22,p19,p13,p6),\n",
    "Koerper(p7, p10,p15,p20,p18,p12,p7),\n",
    "Koerper(p9, p16,p21,p23,p20,p15,p9),\n",
    "Koerper(p14,p19,p22,p23,p21,p17,p14)\n",
    "] \n",
    "\n",
    "seiten_liste = [vierecke[i] for i in range(len(vierecke))] + [sechsecke[i] for i in range(len(sechsecke))]"
   ]
  },
  {
   "cell_type": "code",
   "execution_count": 3,
   "metadata": {
    "collapsed": false
   },
   "outputs": [
    {
     "data": {
      "text/latex": [
       "$$\\left(\\begin{matrix}0.4567732\\\\-0.5106881\\\\0\\end{matrix}\\right)$$"
      ],
      "text/plain": [
       "Vektor"
      ]
     },
     "execution_count": 3,
     "metadata": {},
     "output_type": "execute_result"
    }
   ],
   "source": [
    "p11"
   ]
  },
  {
   "cell_type": "code",
   "execution_count": 4,
   "metadata": {
    "collapsed": false
   },
   "outputs": [],
   "source": [
    "K = Körper(*seiten_liste, seiten=True)   "
   ]
  },
  {
   "cell_type": "code",
   "execution_count": 5,
   "metadata": {
    "collapsed": false
   },
   "outputs": [],
   "source": [
    "sicht_box(-1.2, 1.2)\n",
    "zeichne(K)"
   ]
  },
  {
   "cell_type": "code",
   "execution_count": 6,
   "metadata": {
    "collapsed": false
   },
   "outputs": [],
   "source": [
    "KS = K.seiten"
   ]
  },
  {
   "cell_type": "code",
   "execution_count": 7,
   "metadata": {
    "collapsed": false
   },
   "outputs": [],
   "source": [
    "K1  = Körper(*[KS[i] for i in range(len(KS)) if KS[i].anz_ecken == 4], seiten=True)   \n",
    "K2  = Körper(*[KS[i] for i in range(len(KS)) if KS[i].anz_ecken == 6], seiten=True)"
   ]
  },
  {
   "cell_type": "code",
   "execution_count": 8,
   "metadata": {
    "collapsed": false
   },
   "outputs": [],
   "source": [
    "sicht_box(-2, 2)\n",
    "zeichne([K1, rot, 'fuell=ja'], [K2, gelb, 'fuell=ja'], K, achsen=False, box=False)"
   ]
  },
  {
   "cell_type": "code",
   "execution_count": null,
   "metadata": {
    "collapsed": false
   },
   "outputs": [],
   "source": []
  }
 ],
 "metadata": {
  "anaconda-cloud": {},
  "kernelspec": {
   "display_name": "Python [default]",
   "language": "python",
   "name": "python3"
  },
  "language_info": {
   "codemirror_mode": {
    "name": "ipython",
    "version": 3
   },
   "file_extension": ".py",
   "mimetype": "text/x-python",
   "name": "python",
   "nbconvert_exporter": "python",
   "pygments_lexer": "ipython3",
   "version": "3.5.2"
  }
 },
 "nbformat": 4,
 "nbformat_minor": 0
}
