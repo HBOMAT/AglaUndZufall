{
 "cells": [
  {
   "cell_type": "markdown",
   "metadata": {},
   "source": [
    "# Materialien zu <i>agla</i>\n",
    "\n",
    "Autor: Holger Böttcher - hbomat@posteo.de\n",
    "\n",
    "## Hyperbolische Geometrie "
   ]
  },
  {
   "cell_type": "markdown",
   "metadata": {},
   "source": [
    "## Zur Theorie \n",
    "<br>\n",
    "Hier werden zwei Modelle - das <b>$E$</b>-Modell auf der <b>Einheitskreisscheibe</b> und das<br>\n",
    "<b>$H$</b>-Modell auf der <b>Hyperboloidschale</b> - unterstützt<br>\n",
    "<br>Außerdem wird zur gemeinsamen Darstellung beider Modelle das Hilfsmodell <b>$D3$</b> <br>benutzt. Es beinhaltet \n",
    " die Übertragung des $D$-Modells in die $xy$-Ebene des Raumes \n",
    "\n",
    "Es wird keine umfassende Darlegung der Modelle gegeben, sondern nur auf die <br>wichtigsten Formeln (ohne jegliche Herleitung) verwiesen, die bei der Herstellung <br>der Objekte benutzt werden\n",
    "<br>"
   ]
  },
  {
   "cell_type": "markdown",
   "metadata": {},
   "source": [
    "### *H* - Modell"
   ]
  },
  {
   "cell_type": "markdown",
   "metadata": {
    "collapsed": true
   },
   "source": [
    "Im  $H$-Modell  wird die hyperbolische Ebene als Fläche im Euklidischen Raum $R^3$<br>modelliert. Dazu dient die obere Schale des (zweischaligen) Einheitshyperboloids\n"
   ]
  },
  {
   "cell_type": "markdown",
   "metadata": {},
   "source": [
    "Die Punkte dieser Fläche bilden die Menge \n",
    "<br>\n",
    "$\\qquad H = \\{X \\in R^3;\\: x^2+y^2-z^2=-1, \\: \\: z>0\\} \\qquad X=\\left(\\begin{matrix}x\\\\y\\\\z\\end{matrix}\\right)$\n",
    "\n",
    "Abstände und Winkel werden auf der Grundlage einer quadratischen Form definiert, <br>die die Metrik auf der Hyperboloid-Schale erzeugt. Es ist für zwei Punkte\n",
    "<br><br>\n",
    "$\\qquad X_1=\\left(\\begin{matrix}x_1\\\\y_1\\\\z_1\\end{matrix}\\right), \\quad X_2=\\left(\\begin{matrix}x_2\\\\y_2\\\\z_2\\end{matrix}\\right) \\quad$ die Form\n",
    "<br><br>\n",
    "$\\qquad \\sigma(X_1, X_2) = -x_1 x_2 - y_1 y_2 + z_1 z_2$\n",
    "<br><br>\n",
    "Der hyperbolische Abstand zwischen zwei Punkten $A, B \\in H$ ist\n",
    "<br><br>\n",
    "$\\qquad d(A, B) = arccosh(\\sigma(A, B))$\n",
    "<br><br>\n",
    "Der hyperbolische Winkel zwischen den hyperbolischen Strecken, die $A$ mit $B$  bzw. <br>$A$ mit $C$  verbinden (der Winkel bei $A$), hat laut Definition den Kosinus\n",
    "<br><br>\n",
    "$\\qquad cos(\\alpha) = - \\sigma(\\frac{B-A cosh(c)}{sinh(c)}, \\frac{C-A cosh(b)}{sinh(b)}) \\qquad c = d(A, B), \\:b = d(A, C)$"
   ]
  },
  {
   "cell_type": "markdown",
   "metadata": {},
   "source": [
    "Hyperbolische Geraden sind Hyperbeläste auf der Hyperboloidschale. Sie sind die <br>Schnitte von Ebenen durch den Ursprung mit der Hyperboloidschale\n",
    "\n",
    "Die Strecke zwischen $A$ und $B\\,$ kann als parametrisierte Kurve mit dem allgemeinen <br>Punkt\n",
    "<br><br>\n",
    "$\\qquad \\frac{sinh(c-t)}{sinh(c)} A + \\frac{sinh(t)}{sinh(c)} B \\qquad t \\in [0, c], \\quad c = d(A, B$\n",
    "<br><br>\n",
    "dargestellt werden\n",
    "<br><br>\n",
    "Isometrische Abbildungen im $H$-Modell sind Parallelverschiebungen entlang der <br>$x$- bzw. $y$-Achse um eine Größe $d$ und Drehungen um die z-Achse um einen <br>Winkel $\\phi$ mit den Matrizen\n",
    "<br><br>\n",
    "$\\left(\\begin{matrix}\\cosh(d) & 0 & \\sinh(d)\\\\0 & 1 & 0\\\\\\sinh(d) & 0 & \\cosh(d)\\end{matrix}\\right), \\qquad$\n",
    "\n",
    "$\\left(\\begin{matrix}1 & 0 & 0\\\\0 & \\cosh(d) & \\sinh(d)\\\\0 & \\sinh(d) & \\cosh(d)\\end{matrix}\\right), \\qquad$\n",
    "\n",
    "$\\left(\\begin{matrix}\\cos(\\phi) & -\\sin(\\phi) & 0\\\\\\sin(\\phi) & \\cos(\\phi) & 0\\\\0 & 0 & 1\\end{matrix}\\right), \\qquad$\n",
    "<br><br>\n",
    "Diese Abbildungen lassen die quadratische Form $\\sigma$ invariant und erhalten somit <br>die Metrik \n"
   ]
  },
  {
   "cell_type": "markdown",
   "metadata": {},
   "source": [
    "### *D* - Modell"
   ]
  },
  {
   "cell_type": "markdown",
   "metadata": {},
   "source": [
    "Im $D$-Modell werden die innerhalb des Einheitskreises in $R^2$ liegenden Punkte als <br>Punkte der hyperbolischen Ebene angesehen\n",
    "<br><br>\n",
    "Diese Punkte bilden die Menge  \n",
    "<br>\n",
    "$\\qquad D = \\{ X =\\left(\\begin{matrix}x\\\\y\\end{matrix}\\right) \\in R^2; \\quad|X| < 1 \\} \\qquad$ bzw.\n",
    "<br><br>\n",
    "$\\qquad D = \\{ z = x+yi; \\:\\quad|z| < 1\\} \\qquad\\qquad\\;$ (im Komplexen)\n",
    "<br><br>\n",
    "Die Metrik wird über das Bogenlängenelement   \n",
    "<br>\n",
    "$\\qquad ds = \\frac{2\\, |dX|}{1-X^2} \\qquad$ bzw.<br><br>\n",
    "$\\qquad ds = \\frac{2\\, |dz|}{1-|z|^2} \\qquad$ (im Komplexen) $\\qquad$ erzeugt\n",
    "\n",
    "Der hyperbolische Abstand zweier Punkte aus $D$ ist \n",
    "<br><br>\n",
    "$\\qquad d(X, Y) = \\text{arccosh}\\left(1 + \\frac{2\\,|X-Y|^2}{(1-X)(1-Y)}\\right) \\qquad$(für zwei euklidische Punkte $X$ und $Y$)\n",
    "<br><br>\n",
    "$\\qquad d(z, w) = \\ln \\left(\\frac{|1-w \\overline{z}|+|z-w|}{|1-w \\overline{z}|-|z-w|} \\right)\\qquad$ (für zwei komplexe Zahlen $z$  und $w$)\n",
    "<br><br>\n",
    "Die Winkelmessung erfolgt wie in der Euklidischen Ebene <br>\n",
    "\n",
    "Hyperbolische Geraden sind Durchmesser des Einheitskreises oder Kreisbögen, die <br>unter rechten Winkeln auf diesem enden<br>\n",
    "\n",
    "Eine hyperbolische Gerade in der komplexen Ebene hat die Gleichung<br>\n",
    "\n",
    "$\\qquad e\\,z\\, \\overline{z} + \\overline{f}\\,z + f \\,\\overline{z} + g = 0, \\qquad e$ reell und $\\:|f| > |e|$\n",
    "<br><br>\n",
    "Eine Parameterform einer hyperbolischen Geraden, die durch die beiden komplexen <br>Zahlen $a$ und $b$ bestimmt ist, ist gegeben durch\n",
    "<br><br>\n",
    "$\\qquad \\{(c\\,t-a)\\,(c\\, t\\, \\overline{a}-1), \\:t \\in \\left[-\\frac{1}{|c|}, \\frac{1}{|c|}\\right]\\},\\qquad c = (b-a)\\,(\\overline{a}\\,b-1)$\n",
    "\n",
    "Für die hyperbolische Strecke zwischen $a$ und $b$ gilt $t \\in [0, 1]$\n",
    "<br><br>\n",
    "Isometrische Abbildungen im $D$-Modell sind durch folgende Funktionen gegeben <br>(im Komplexen)\n",
    "<br><br>\n",
    "$\\qquad f(z) = \\frac{a z+\\overline{b}}{b z+\\overline{a}} \\qquad$ und $\\qquad g(z) = \\frac{a \\overline{z}+\\overline{b}}{b \\overline{z}+\\overline{a}} \\qquad$ mit \n",
    "$\\:\\:\\:\\left|\\begin{matrix}a & \\bar{b}\\\\ b & \\bar{a}\\end{matrix}\\right| > 0$\n",
    "<br><br>\n",
    "Sie wirken wie das wiederholte Ausführen von Inversionen an hyperbolischen Geraden\n",
    "<br><br>\n",
    "Das $D$-Modell wird darüberhinaus im $R^3$ betrachtet, wobei der Einheitskreis in der <br>$xy$-Ebene liegt. Dieses Hilfs-Modell dient der gemeinsamen Darstellung von Objekten <br>des $D$- und des $H$-Modells\n"
   ]
  },
  {
   "cell_type": "markdown",
   "metadata": {},
   "source": [
    "### Abbildungen zwischen den Modellen"
   ]
  },
  {
   "cell_type": "markdown",
   "metadata": {},
   "source": [
    "Das $H$-Modell kann auf das $D$-Modell abgebildet werden. Das erfolgt durch eine <br>Zentralprojektion vom Punkt $(0,0,-1)$  auf die $xy$-Ebene\n",
    "<br><br>\n",
    "Die Abbildung ist umkehrbar, die Abbildungsgleichungen sind\n",
    "<br><br>\n",
    "$\\qquad H \\rightarrow D: \\qquad X = \\left(\\begin{matrix}x\\\\y\\\\z\\end{matrix}\\right) \\rightarrow \\left(\\begin{matrix}\\frac{x}{z+1}\\\\\\frac{y}{z+1}\\end{matrix}\\right)$\n",
    "\n",
    "<br><br>\n",
    "$\\qquad D \\rightarrow H: \\qquad X = \\left(\\begin{matrix}x\\\\y\\end{matrix}\\right) \\rightarrow \\left(\\begin{matrix}\\frac{2x}{1-|X|^2}\\\\\\frac{2y}{1-|X|^2}\\\\\\frac{1+|X|^2}{1-|X|^2}\\end{matrix}\\right)$\n"
   ]
  },
  {
   "cell_type": "code",
   "execution_count": null,
   "metadata": {
    "collapsed": true
   },
   "outputs": [],
   "source": []
  }
 ],
 "metadata": {
  "anaconda-cloud": {},
  "kernelspec": {
   "display_name": "Python [default]",
   "language": "python",
   "name": "python3"
  },
  "language_info": {
   "codemirror_mode": {
    "name": "ipython",
    "version": 3
   },
   "file_extension": ".py",
   "mimetype": "text/x-python",
   "name": "python",
   "nbconvert_exporter": "python",
   "pygments_lexer": "ipython3",
   "version": "3.5.2"
  }
 },
 "nbformat": 4,
 "nbformat_minor": 1
}
