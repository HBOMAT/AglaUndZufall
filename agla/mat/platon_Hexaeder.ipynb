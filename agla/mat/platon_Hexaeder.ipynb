{
 "cells": [
  {
   "cell_type": "markdown",
   "metadata": {},
   "source": [
    "# Materialien zu <i>agla</i>\n",
    "\n",
    "Autor: Holger Böttcher - hbomat@posteo.de\n",
    "\n",
    "## Platonische Körper "
   ]
  },
  {
   "cell_type": "markdown",
   "metadata": {},
   "source": [
    "## Hexaeder, Würfel"
   ]
  },
  {
   "cell_type": "code",
   "execution_count": 1,
   "metadata": {
    "collapsed": true
   },
   "outputs": [],
   "source": [
    "%run agla/start"
   ]
  },
  {
   "cell_type": "code",
   "execution_count": 2,
   "metadata": {
    "collapsed": false
   },
   "outputs": [],
   "source": [
    "# Erzeugung über einen Kantenzug\n",
    "\n",
    "p1 = v(0,0,0); p2 = v(1,0,0); p3 = v(1,1,0); p4 = v(0,1,0)\n",
    "p5 = v(0,0,1); p6 = v(1,0,1); p7 = v(1,1,1); p8 = v(0,1,1)\n",
    "\n",
    "Hexaeder = Körper(p1, p2, p3, p4, p1, p5, p6, p7, p8, p5, p6, p2, p3, p7, p8, p4)   \n"
   ]
  },
  {
   "cell_type": "code",
   "execution_count": 3,
   "metadata": {
    "collapsed": false
   },
   "outputs": [],
   "source": [
    "sicht_box(-3, 3)\n",
    "\n",
    "#zeichne([Hexaeder, rot])\n",
    "\n",
    "zeichne([Hexaeder, rot, 'fuell=ja'], Hexaeder, achsen=nein, box=nein)"
   ]
  },
  {
   "cell_type": "code",
   "execution_count": 4,
   "metadata": {
    "collapsed": false
   },
   "outputs": [
    {
     "data": {
      "text/latex": [
       "$$\\left ( 8, \\quad 12, \\quad 6\\right )$$"
      ],
      "text/plain": [
       "(8, 12, 6)"
      ]
     },
     "execution_count": 4,
     "metadata": {},
     "output_type": "execute_result"
    }
   ],
   "source": [
    "Hexaeder.anz_ecken,  Hexaeder.anz_kanten,  Hexaeder.anz_seiten"
   ]
  },
  {
   "cell_type": "code",
   "execution_count": 5,
   "metadata": {
    "collapsed": false
   },
   "outputs": [
    {
     "data": {
      "text/latex": [
       "$$2$$"
      ],
      "text/plain": [
       "2"
      ]
     },
     "execution_count": 5,
     "metadata": {},
     "output_type": "execute_result"
    }
   ],
   "source": [
    "# Eulersche Polyederformel:      #Ecken - #Kanten + #Seiten = 2\n",
    "\n",
    "Hexaeder.anz_ecken - Hexaeder.anz_kanten + Hexaeder.anz_seiten"
   ]
  },
  {
   "cell_type": "code",
   "execution_count": 6,
   "metadata": {
    "collapsed": false
   },
   "outputs": [],
   "source": [
    "# Einfärbung der Seiten - ist durch Teilkörper, die über die Seiten \n",
    "# erzeugt werden,  zu realisieren\n",
    "\n",
    "S = Hexaeder.seiten\n",
    "H1 = Körper(*[S[i] for i in (0, 2, 3)], seiten=ja)\n",
    "H2 = Körper(*[S[i] for i in (1, 4, 5)], seiten=ja)  \n",
    "\n",
    "zeichne([H1, rot, 'fuell=ja'], [H2, gelb, 'fuell=ja'], achsen=nein, box=nein)"
   ]
  },
  {
   "cell_type": "code",
   "execution_count": 7,
   "metadata": {
    "collapsed": false
   },
   "outputs": [],
   "source": [
    "# Markieren der Ecken\n",
    "\n",
    "Hexaeder.mark_ecken"
   ]
  },
  {
   "cell_type": "code",
   "execution_count": 8,
   "metadata": {
    "collapsed": false
   },
   "outputs": [],
   "source": [
    "# Markieren der Kanten\n",
    "\n",
    "Hexaeder.mark_kanten"
   ]
  },
  {
   "cell_type": "code",
   "execution_count": 9,
   "metadata": {
    "collapsed": false
   },
   "outputs": [],
   "source": [
    "# Markieren der Seiten\n",
    "\n",
    "Hexaeder.mark_seiten"
   ]
  },
  {
   "cell_type": "code",
   "execution_count": null,
   "metadata": {
    "collapsed": false
   },
   "outputs": [],
   "source": []
  }
 ],
 "metadata": {
  "anaconda-cloud": {},
  "kernelspec": {
   "display_name": "Python [default]",
   "language": "python",
   "name": "python3"
  },
  "language_info": {
   "codemirror_mode": {
    "name": "ipython",
    "version": 3
   },
   "file_extension": ".py",
   "mimetype": "text/x-python",
   "name": "python",
   "nbconvert_exporter": "python",
   "pygments_lexer": "ipython3",
   "version": "3.5.2"
  }
 },
 "nbformat": 4,
 "nbformat_minor": 0
}
