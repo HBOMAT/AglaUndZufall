{
 "cells": [
  {
   "cell_type": "markdown",
   "metadata": {},
   "source": [
    "# Materialien zu <i>agla</i>\n",
    "\n",
    "Autor: Holger Böttcher - hbomat@posteo.de\n",
    "\n",
    "## Archimedische Körper"
   ]
  },
  {
   "cell_type": "markdown",
   "metadata": {},
   "source": [
    "### Abgeschrägtes Dodekaeder    "
   ]
  },
  {
   "cell_type": "markdown",
   "metadata": {},
   "source": [
    "(Dodecaedron simum) \n",
    "\n",
    "Flächenfolge in einer Ecke  (3, 3, 3, 3, 5)\n",
    "<br><br>"
   ]
  },
  {
   "cell_type": "code",
   "execution_count": 1,
   "metadata": {
    "collapsed": false
   },
   "outputs": [],
   "source": [
    "%run agla/start"
   ]
  },
  {
   "cell_type": "code",
   "execution_count": 2,
   "metadata": {
    "collapsed": false
   },
   "outputs": [],
   "source": [
    "# Erzeugung des Körpers über seine Seitenflächen\n",
    "\n",
    "# Die Koordinaten der Eckpunkte sind näherungsweise definiert\n",
    "\n",
    "UMG.SIMPL = False\n",
    "\n",
    "p0=v(0,0,0.6682195)\n",
    "p1=v(0.30150705,0,0.59633219)\n",
    "p2=v(0.1421836,0.26587665,0.5963321)\n",
    "p3=v(-0.16740685,0.25076155,0.5963321)\n",
    "p4=v(-0.30007315,-0.02937025,0.5963321)\n",
    "p5=v(-0.1156077,-0.2784626,0.5963321)\n",
    "p6=v(0.3722407,-0.2784626,0.4800146)\n",
    "p7=v(0.536861,-0.02937025,0.3967821)\n",
    "p8=v(0.4184674,0.25076155,0.45664255)\n",
    "p9=v(0.2272712,0.48726795,0.3967821)\n",
    "p10=v(-0.27365585,0.4628117,0.3967821)\n",
    "p11=v(-0.4409041,0.208806,0.45664255)\n",
    "p12=v(-0.3920501,-0.2903329,0.45664255)\n",
    "p13=v(-0.17872465,-0.5070897,0.3967821)\n",
    "p14=v(0.11445005,-0.4505618,0.4800146)\n",
    "p15=v(0.3385291,-0.5070897,0.2734537)\n",
    "p16=v(0.5559138,-0.2903329,0.23062)\n",
    "p17=v(0.658411,-0.0230659,0.1117207)\n",
    "p18=v(0.4668456,0.4301973,0.20857655)\n",
    "p19=v(0.23618985,0.61454705,0.1143025)\n",
    "p20=v(-0.02973159,0.6089811,0.2734537)\n",
    "p21=v(-0.29493035,0.5886166,0.1143025)\n",
    "p22=v(-0.50653135,0.38267515,0.20857655)\n",
    "p23=v(-0.6199193,0.0950443,0.23062)\n",
    "p24=v(-0.5897255,-0.2134405,0.23062)\n",
    "p25=v(-0.42271905,-0.4736277,0.20857655)\n",
    "p26=v(0.05498662,-0.6247475,0.23062)\n",
    "p27=v(0.25669475,-0.6169319,-0.00459716)\n",
    "p28=v(0.60843055,-0.26621205,-0.0739037)\n",
    "p29=v(0.6389097,0.01749989,-0.19495255)\n",
    "p30=v(0.6151392,0.26096265,-0.00459716)\n",
    "p31=v(0.4357977,0.49808395,-0.09225905)\n",
    "p32=v(-0.03254973,0.666705,-0.03106987)\n",
    "p33=v(-0.2791321,0.5749757,-0.19495255)\n",
    "p34=v(-0.6215092,0.2417558,-0.042414)\n",
    "p35=v(-0.664326,-0.0650221,-0.03106987)\n",
    "p36=v(-0.5628389,-0.35767615,-0.042414)\n",
    "p37=v(-0.3398044,-0.57060445,-0.0739037)\n",
    "p38=v(-0.04456608,-0.664001,-0.06027996)\n",
    "p39=v(0.14508325,-0.5833672,-0.29180905)\n",
    "p40=v(0.4235036,-0.46806175,-0.21927555)\n",
    "p41=v(0.5180201,-0.2115074,-0.36529285)\n",
    "p42=v(0.52434655,0.28569775,-0.29992625)\n",
    "p43=v(0.29042195,0.4782622,-0.36529285)\n",
    "p44=v(0.00096772,0.5824754,-0.32747585)\n",
    "p45=v(-0.229801,0.4249479,-0.46165925)\n",
    "p46=v(-0.4809688,0.3606044,-0.29180905)\n",
    "p47=v(-0.5928156,0.071643,-0.29992625)\n",
    "p48=v(-0.42861,-0.401882,-0.3182816)\n",
    "p49=v(-0.16189225,-0.55952585,-0.32747585)\n",
    "p50=v(0.27956825,-0.37472435,-0.4774328)\n",
    "p51=v(0.3287427,-0.0848432,-0.57554185)\n",
    "p52=v(0.3326531,0.22244625,-0.53514305)\n",
    "p53=v(0.06330733,0.3751761,-0.54932085)\n",
    "p54=v(-0.39123175,0.16591835,-0.5156814)\n",
    "p55=v(-0.4471363,-0.1365481,-0.4774328)\n",
    "p56=v(-0.2171286,-0.33614815,-0.53514305)\n",
    "p57=v(0.0557091,-0.2219347,-0.627822)\n",
    "p58=v(0.08302775,0.08538595,-0.6575205)\n",
    "p59=v(-0.1978925,-0.04394215,-0.6367309)\n",
    "\n",
    "dreiecke = [\n",
    "Koerper(p0, p1, p2, p0),\n",
    "Koerper(p0, p2, p3, p0),\n",
    "Koerper(p0, p3, p4, p0),\n",
    "Koerper(p0, p4, p5, p0),\n",
    "Koerper(p1, p6, p7, p1),\n",
    "Koerper(p1, p7, p8, p1),\n",
    "Koerper(p1, p8, p2, p1),\n",
    "Koerper(p2, p8, p9, p2),\n",
    "Koerper(p3, p10,p11,p3),\n",
    "Koerper(p3, p11,p4, p3),\n",
    "Koerper(p4, p12,p5, p4),\n",
    "Koerper(p5, p12,p13, p5),\n",
    "Koerper(p5, p13,p14, p5),\n",
    "Koerper(p6, p14,p15, p6),\n",
    "Koerper(p6, p15,p16, p6),\n",
    "Koerper(p6, p16,p7, p6),\n",
    "Koerper(p7, p16,p17, p7),\n",
    "Koerper(p8, p18,p9, p8),\n",
    "Koerper(p9, p18,p19, p9),\n",
    "Koerper(p9, p19,p20, p9),\n",
    "Koerper(p10,p20,p21, p10),\n",
    "Koerper(p10,p21,p22, p10),\n",
    "Koerper(p10,p22,p11, p10),\n",
    "Koerper(p11,p22,p23, p11),\n",
    "Koerper(p12,p24,p25, p12),\n",
    "Koerper(p12,p25,p13, p12),\n",
    "Koerper(p13,p26,p14, p13),\n",
    "Koerper(p14,p26,p15, p14),\n",
    "Koerper(p15,p26,p27, p15),\n",
    "Koerper(p16,p28,p17, p16),\n",
    "Koerper(p17,p28,p29, p17),\n",
    "Koerper(p17,p29,p30, p17),\n",
    "Koerper(p18,p30,p31, p18),\n",
    "Koerper(p18,p31,p19, p18),\n",
    "Koerper(p19,p32,p20, p19),\n",
    "Koerper(p20,p32,p21, p20),\n",
    "Koerper(p21,p32,p33, p21),\n",
    "Koerper(p22,p34,p23, p22),\n",
    "Koerper(p23,p34,p35, p23),\n",
    "Koerper(p23,p35,p24, p23),\n",
    "Koerper(p24,p35,p36, p24),\n",
    "Koerper(p24,p36,p25, p24),\n",
    "Koerper(p25,p36,p37, p25),\n",
    "Koerper(p26,p38,p27, p26),\n",
    "Koerper(p27,p38,p39, p27),\n",
    "Koerper(p27,p39,p40, p27),\n",
    "Koerper(p28,p40,p41, p28),\n",
    "Koerper(p28,p41,p29, p28),\n",
    "Koerper(p29,p42,p30, p29),\n",
    "Koerper(p30,p42,p31, p30),\n",
    "Koerper(p31,p42,p43, p31),\n",
    "Koerper(p32,p44,p33, p32),\n",
    "Koerper(p33,p44,p45, p33),\n",
    "Koerper(p33,p45,p46, p33),\n",
    "Koerper(p34,p46,p47,p34),\n",
    "Koerper(p34,p47,p35,p34),\n",
    "Koerper(p36,p48,p37,p36),\n",
    "Koerper(p37,p48,p49,p37),\n",
    "Koerper(p37,p49,p38,p37),\n",
    "Koerper(p38,p49,p39,p38),\n",
    "Koerper(p39,p50,p40,p39),\n",
    "Koerper(p40,p50,p41,p40),\n",
    "Koerper(p41,p50,p51,p41),\n",
    "Koerper(p42,p52,p43,p42),\n",
    "Koerper(p43,p52,p53,p43),\n",
    "Koerper(p43,p53,p44,p43),\n",
    "Koerper(p44,p53,p45,p44),\n",
    "Koerper(p45,p54,p46,p45),\n",
    "Koerper(p46,p54,p47,p46),\n",
    "Koerper(p47,p54,p55,p47),\n",
    "Koerper(p48,p55,p56,p48),\n",
    "Koerper(p48,p56,p49,p48),\n",
    "Koerper(p50,p57,p51,p50),\n",
    "Koerper(p51,p57,p58,p51),\n",
    "Koerper(p51,p58,p52,p51),\n",
    "Koerper(p52,p58,p53,p52),\n",
    "Koerper(p54,p59,p55,p54),\n",
    "Koerper(p55,p59,p56,p55),\n",
    "Koerper(p56,p59,p57,p56),\n",
    "Koerper(p57,p59,p58,p57)\n",
    "]\n",
    "\n",
    "fuenfecke = [\n",
    "Koerper(p0, p5, p14,p6, p1, p0),\n",
    "Koerper(p2, p9, p20,p10,p3,p2),\n",
    "Koerper(p4, p11,p23,p24,p12,p4),\n",
    "Koerper(p7, p17,p30,p18,p8,p7),\n",
    "Koerper(p13,p25,p37,p38,p26,p13),\n",
    "Koerper(p15,p27,p40,p28,p16,p15),\n",
    "Koerper(p19,p31,p43,p44,p32,p19),\n",
    "Koerper(p21,p33,p46,p34,p22,p21),\n",
    "Koerper(p29,p41,p51,p52,p42,p29),\n",
    "Koerper(p35,p47,p55,p48,p36,p35),\n",
    "Koerper(p39,p49,p56,p57,p50,p39),\n",
    "Koerper(p45,p53,p58,p59,p54,p45)\n",
    "]\n",
    "\n",
    "seiten_liste = [dreiecke[i] for i in range(len(dreiecke))] + [fuenfecke[i] for i in range(len(fuenfecke))]   "
   ]
  },
  {
   "cell_type": "code",
   "execution_count": 3,
   "metadata": {
    "collapsed": false
   },
   "outputs": [],
   "source": [
    "K = Körper(*seiten_liste, seiten=True)   "
   ]
  },
  {
   "cell_type": "code",
   "execution_count": 4,
   "metadata": {
    "collapsed": false
   },
   "outputs": [],
   "source": [
    "sicht_box(-1.2, 1.2)\n",
    "\n",
    "zeichne(K)"
   ]
  },
  {
   "cell_type": "code",
   "execution_count": 5,
   "metadata": {
    "collapsed": false
   },
   "outputs": [
    {
     "data": {
      "text/latex": [
       "$$\\left ( 60, \\quad 150, \\quad 92\\right )$$"
      ],
      "text/plain": [
       "(60, 150, 92)"
      ]
     },
     "execution_count": 5,
     "metadata": {},
     "output_type": "execute_result"
    }
   ],
   "source": [
    "K.anz_ecken,  K.anz_kanten,  K.anz_seiten"
   ]
  },
  {
   "cell_type": "code",
   "execution_count": 6,
   "metadata": {
    "collapsed": false
   },
   "outputs": [
    {
     "data": {
      "text/latex": [
       "$$2$$"
      ],
      "text/plain": [
       "2"
      ]
     },
     "execution_count": 6,
     "metadata": {},
     "output_type": "execute_result"
    }
   ],
   "source": [
    "# Eulersche Polyederformel:      #Ecken - #Kanten + #Seiten = 2\n",
    "\n",
    "K.anz_ecken - K.anz_kanten + K.anz_seiten"
   ]
  },
  {
   "cell_type": "code",
   "execution_count": 7,
   "metadata": {
    "collapsed": false
   },
   "outputs": [],
   "source": [
    "# Einfärbung der Seiten\n",
    "\n",
    "KS = K.seiten\n",
    "K1  = Körper(*[KS[i] for i in range(len(KS)) if KS[i].anz_ecken == 3], seiten=True)   \n",
    "K2  = Körper(*[KS[i] for i in range(len(KS)) if KS[i].anz_ecken > 3], seiten=True) \n",
    "\n",
    "zeichne([K1, rot, 'fuell=ja'], [K2, gelb, 'fuell=ja'], K, achsen=False, box=False)"
   ]
  },
  {
   "cell_type": "code",
   "execution_count": 8,
   "metadata": {
    "collapsed": false
   },
   "outputs": [],
   "source": [
    "# Markieren der Ecken\n",
    "\n",
    "#K.mark_ecken"
   ]
  },
  {
   "cell_type": "code",
   "execution_count": 9,
   "metadata": {
    "collapsed": false
   },
   "outputs": [],
   "source": [
    "# Markieren der Kanten\n",
    "\n",
    "#K.mark_kanten"
   ]
  },
  {
   "cell_type": "code",
   "execution_count": 10,
   "metadata": {
    "collapsed": false
   },
   "outputs": [],
   "source": [
    "# Markieren der Seiten\n",
    "\n",
    "#K.mark_seiten"
   ]
  },
  {
   "cell_type": "code",
   "execution_count": null,
   "metadata": {
    "collapsed": false
   },
   "outputs": [],
   "source": []
  }
 ],
 "metadata": {
  "anaconda-cloud": {},
  "kernelspec": {
   "display_name": "Python [default]",
   "language": "python",
   "name": "python3"
  },
  "language_info": {
   "codemirror_mode": {
    "name": "ipython",
    "version": 3
   },
   "file_extension": ".py",
   "mimetype": "text/x-python",
   "name": "python",
   "nbconvert_exporter": "python",
   "pygments_lexer": "ipython3",
   "version": "3.5.2"
  }
 },
 "nbformat": 4,
 "nbformat_minor": 0
}
