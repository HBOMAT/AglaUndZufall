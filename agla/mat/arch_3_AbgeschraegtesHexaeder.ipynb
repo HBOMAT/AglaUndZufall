{
 "cells": [
  {
   "cell_type": "markdown",
   "metadata": {},
   "source": [
    "# Materialien zu <i>agla</i>\n",
    "\n",
    "Autor: Holger Böttcher - hbomat@posteo.de\n",
    "\n",
    "## Archimedische Körper"
   ]
  },
  {
   "cell_type": "markdown",
   "metadata": {},
   "source": [
    "### Abgeschrägtes Hexaeder    "
   ]
  },
  {
   "cell_type": "markdown",
   "metadata": {},
   "source": [
    "(Cubus simus) \n",
    "\n",
    "Flächenfolge in einer Ecke  (3, 3, 3, 3, 4)\n",
    "<br><br>"
   ]
  },
  {
   "cell_type": "code",
   "execution_count": 1,
   "metadata": {
    "collapsed": true
   },
   "outputs": [],
   "source": [
    "%run agla/start"
   ]
  },
  {
   "cell_type": "code",
   "execution_count": 2,
   "metadata": {
    "collapsed": false
   },
   "outputs": [],
   "source": [
    "# Die Koordinaten der Eckpunkte sind näherungsweise definiert\n",
    "\n",
    "# Erzeugung des Körpers über seine Seitenflächen\n",
    "\n",
    "UMG.SIMPL = False\n",
    "\n",
    "p0=v(0,0,0.700284)\n",
    "p1=v(0.4837339,0,0.50636235)\n",
    "p2=v(0.20299565,0.4390802,0.50636235)\n",
    "p3=v(-0.3133624,0.36851425,0.50636235)\n",
    "p4=v(-0.4659967,-0.12979135,0.50636235)\n",
    "p5=v(-0.0777426,-0.4774458,0.50636235)\n",
    "p6=v(0.40599195,-0.4774458,0.31243745)\n",
    "p7=v(0.6867315,-0.12979135,0.04424492)\n",
    "p8=v(0.57636345,0.36851425,0.1496794)\n",
    "p9=v(0.1703715,0.6778005,0.04424492)\n",
    "p10=v(-0.34598655,0.60723715,0.04424492)\n",
    "p11=v(-0.654108,0.2003573,0.1496794)\n",
    "p12=v(-0.4563533,-0.50964615,0.1496794)\n",
    "p13=v(0.0177374,-0.6986655,0.04424492)\n",
    "p14=v(0.43337255,-0.50964615,-0.2070029)\n",
    "p15=v(0.5340959,-0.05922514,-0.44903885)\n",
    "p16=v(0.42372915,0.4390802,-0.34360365)\n",
    "p17=v(-0.0777426,0.56887155,-0.4009278)\n",
    "p18=v(-0.5260021,0.30928885,-0.34360365)\n",
    "p19=v(-0.644462,-0.17949815,-0.2070029)\n",
    "p20=v(-0.29038165,-0.5366712,-0.34360365)\n",
    "p21=v(0.12525305,-0.3476551,-0.59485205)\n",
    "p22=v(0.12001015,0.16815695,-0.669123)\n",
    "p23=v(-0.32824935,-0.0914251,-0.6117969)\n",
    "\n",
    "dreiecke = [\n",
    "Koerper(p0, p1, p2,p0),\n",
    "Koerper(p0, p2, p3,p0),\n",
    "Koerper(p0, p3, p4,p0),\n",
    "Koerper(p0, p4, p5,p0),\n",
    "Koerper(p1, p6, p7,p1),\n",
    "Koerper(p1, p7, p8,p1),\n",
    "Koerper(p1, p8, p2,p1),\n",
    "Koerper(p2, p8, p9,p2),\n",
    "Koerper(p3, p10,p11,p3),\n",
    "Koerper(p3, p11,p4,p3),\n",
    "Koerper(p4, p12,p5,p4),\n",
    "Koerper(p5, p12,p13,p5),\n",
    "Koerper(p5, p13,p6,p5),\n",
    "Koerper(p6, p13,p14,p6),\n",
    "Koerper(p6, p14,p7,p6),\n",
    "Koerper(p7, p14,p15,p7),\n",
    "Koerper(p8, p16,p9,p8),\n",
    "Koerper(p9, p16,p17,p9),\n",
    "Koerper(p9, p17,p10,p9),\n",
    "Koerper(p10,p17,p18,p10),\n",
    "Koerper(p10,p18,p11,p10),\n",
    "Koerper(p11,p18,p19,p11),\n",
    "Koerper(p12,p19,p20,p12),\n",
    "Koerper(p12,p20,p13,p12),\n",
    "Koerper(p14,p21,p15,p14),\n",
    "Koerper(p15,p21,p22,p15),\n",
    "Koerper(p15,p22,p16,p15),\n",
    "Koerper(p16,p22,p17,p16),\n",
    "Koerper(p18,p23,p19,p18),\n",
    "Koerper(p19,p23,p20,p19),\n",
    "Koerper(p20,p23,p21,p20),\n",
    "Koerper(p21,p23,p22,p21)\n",
    "] \n",
    "\n",
    "vierecke = [\n",
    "Koerper(p0, p5, p6, p1,p0),\n",
    "Koerper(p2, p9, p10,p3,p2),\n",
    "Koerper(p4, p11,p19,p12,p4),\n",
    "Koerper(p7, p15,p16,p8,p7),\n",
    "Koerper(p13,p20,p21,p14,p13),\n",
    "Koerper(p17,p22,p23,p18,p17)\n",
    "] \n",
    "\n",
    "seiten_liste = [dreiecke[i] for i in range(len(dreiecke))] + [vierecke[i] for i in range(len(vierecke))]   "
   ]
  },
  {
   "cell_type": "code",
   "execution_count": 3,
   "metadata": {
    "collapsed": false
   },
   "outputs": [],
   "source": [
    "K = Körper(*seiten_liste, seiten=True)   "
   ]
  },
  {
   "cell_type": "code",
   "execution_count": 4,
   "metadata": {
    "collapsed": false
   },
   "outputs": [],
   "source": [
    "sicht_box(-1.2, 1.2)\n",
    "zeichne(K)"
   ]
  },
  {
   "cell_type": "code",
   "execution_count": 5,
   "metadata": {
    "collapsed": false
   },
   "outputs": [],
   "source": [
    "KS = K.seiten"
   ]
  },
  {
   "cell_type": "code",
   "execution_count": 6,
   "metadata": {
    "collapsed": false
   },
   "outputs": [],
   "source": [
    "K1  = Körper(*[KS[i] for i in range(len(KS)) if KS[i].anz_ecken == 3], seiten=True)   \n",
    "K2  = Körper(*[KS[i] for i in range(len(KS)) if KS[i].anz_ecken > 3], seiten=True)               "
   ]
  },
  {
   "cell_type": "code",
   "execution_count": 7,
   "metadata": {
    "collapsed": false
   },
   "outputs": [],
   "source": [
    "sicht_box(-2, 2)\n",
    "zeichne([K1, rot, 'fuell=ja'], [K2, gelb, 'fuell=ja'], K, achsen=False, box=False)"
   ]
  },
  {
   "cell_type": "code",
   "execution_count": null,
   "metadata": {
    "collapsed": false
   },
   "outputs": [],
   "source": []
  }
 ],
 "metadata": {
  "anaconda-cloud": {},
  "kernelspec": {
   "display_name": "Python [default]",
   "language": "python",
   "name": "python3"
  },
  "language_info": {
   "codemirror_mode": {
    "name": "ipython",
    "version": 3
   },
   "file_extension": ".py",
   "mimetype": "text/x-python",
   "name": "python",
   "nbconvert_exporter": "python",
   "pygments_lexer": "ipython3",
   "version": "3.5.2"
  }
 },
 "nbformat": 4,
 "nbformat_minor": 0
}
