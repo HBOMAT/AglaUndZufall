{
 "cells": [
  {
   "cell_type": "markdown",
   "metadata": {},
   "source": [
    "# Materialien zu <i>zufall</i>\n",
    "\n",
    "Autor: Holger Böttcher - hbomat@posteo.de\n",
    "\n",
    "## Aufgaben 15 - Simulation (Zahlenlotto)"
   ]
  },
  {
   "cell_type": "markdown",
   "metadata": {},
   "source": [
    "<br>\n",
    "<i>Die Aufgabe wurde entnommen aus<br>\n",
    "<br>\n",
    "LS Stochastik<br>\n",
    "Grundkurs<br>\n",
    "Klett Verlag 1986<br>\n",
    "S. 34 Aufgabe 11</i><br>\n",
    "<br>\n",
    "Mit welcher Wahrscheinlichkeit kommt beim Zahlenlotto \"6 aus 49\" mindestens ein<br>\n",
    "Paar aufeinanderfolgender Zahlen vor?\n",
    "<br>"
   ]
  },
  {
   "cell_type": "code",
   "execution_count": 1,
   "metadata": {
    "collapsed": false
   },
   "outputs": [],
   "source": [
    "%run zufall/start"
   ]
  },
  {
   "cell_type": "markdown",
   "metadata": {},
   "source": [
    "Eine Ziehung wird dargestellt durch 6 Zufallszahlen zwischen 1 und 49, die ohne<br>\n",
    "Wiederholung ermittelt werden; zur einfacheren Behandlung werden die Zahlen sor-<br>\n",
    "tiert"
   ]
  },
  {
   "cell_type": "code",
   "execution_count": 2,
   "metadata": {
    "collapsed": false
   },
   "outputs": [
    {
     "data": {
      "text/latex": [
       "$$\\left [ 8, \\quad 24, \\quad 34, \\quad 37, \\quad 39, \\quad 45\\right ]$$"
      ],
      "text/plain": [
       "[8, 24, 34, 37, 39, 45]"
      ]
     },
     "execution_count": 2,
     "metadata": {},
     "output_type": "execute_result"
    }
   ],
   "source": [
    "ziehung = zuf_zahl((1, 49), 6, w=ohne, s=ja); ziehung"
   ]
  },
  {
   "cell_type": "markdown",
   "metadata": {},
   "source": [
    "Eine Funktion, die für eine Ziehung die geforderte Eigenschaft feststellt, ist die fol-<br>\n",
    "gende Prozedur, die $1$ (bei vorhandener Eigenschaft) bzw. $0$ (sonst) zurückgibt"
   ]
  },
  {
   "cell_type": "code",
   "execution_count": 3,
   "metadata": {
    "collapsed": false
   },
   "outputs": [
    {
     "data": {
      "text/latex": [
       "$$\\left ( 0, \\quad 1\\right )$$"
      ],
      "text/plain": [
       "(0, 1)"
      ]
     },
     "execution_count": 3,
     "metadata": {},
     "output_type": "execute_result"
    }
   ],
   "source": [
    "def f(x):      # x - Liste\n",
    "    for i in range(5):\n",
    "        if x[i+1] == x[i]+1:\n",
    "            return 1\n",
    "    return 0\n",
    "\n",
    "f(ziehung), f([2, 12, 13, 27, 34, 43])     #  Test auf Funktionieren"
   ]
  },
  {
   "cell_type": "markdown",
   "metadata": {},
   "source": [
    "Die <b>Simulation</b> wird mit $n$ Ziehungen durchgeführt"
   ]
  },
  {
   "cell_type": "code",
   "execution_count": 4,
   "metadata": {
    "collapsed": false
   },
   "outputs": [
    {
     "data": {
      "text/latex": [
       "$$0.5003$$"
      ],
      "text/plain": [
       "0.500300000000000"
      ]
     },
     "execution_count": 4,
     "metadata": {},
     "output_type": "execute_result"
    }
   ],
   "source": [
    "n = 10000\n",
    "\n",
    "sim = [ zuf_zahl((1, 49), 6, w=ohne, s=ja) for i in range(n) ]    # n Ziehungen\n",
    "sim1 = [ f(x) for x in sim ]            # Anwenden der Funktion auf jede Ziehung\n",
    "N(anzahl(1)(sim1) / n)                  # relative Häufigkeit"
   ]
  },
  {
   "cell_type": "markdown",
   "metadata": {},
   "source": [
    "Der <b>theoretische Wert</b> ergibt sich über das Gegenereignis zu $\\: \n",
    "1 - \\dfrac{\\binom{44}{6}}{\\binom{49}{6}} \\approx 0.495$"
   ]
  },
  {
   "cell_type": "code",
   "execution_count": null,
   "metadata": {
    "collapsed": true
   },
   "outputs": [],
   "source": []
  }
 ],
 "metadata": {
  "anaconda-cloud": {},
  "kernelspec": {
   "display_name": "Python [default]",
   "language": "python",
   "name": "python3"
  },
  "language_info": {
   "codemirror_mode": {
    "name": "ipython",
    "version": 3
   },
   "file_extension": ".py",
   "mimetype": "text/x-python",
   "name": "python",
   "nbconvert_exporter": "python",
   "pygments_lexer": "ipython3",
   "version": "3.5.2"
  }
 },
 "nbformat": 4,
 "nbformat_minor": 0
}
