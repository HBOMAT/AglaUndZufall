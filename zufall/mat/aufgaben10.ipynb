{
 "cells": [
  {
   "cell_type": "markdown",
   "metadata": {
    "collapsed": false
   },
   "source": [
    "# Materialien zu <i>zufall</i>\n",
    "\n",
    "Autor: Holger Böttcher - hbomat@posteo.de\n",
    "\n",
    "## Aufgaben 10 - Zum Geburtstagsproblem"
   ]
  },
  {
   "cell_type": "markdown",
   "metadata": {},
   "source": [
    "<i>Siehe dazu\n",
    "<br>\n",
    "Elemente der Mathematik<br>\n",
    "Leistungskurs Stochastik<br>\n",
    "Schroedel Verlag 2003<br>\n",
    "S. 52-53\n",
    "<br><br>\n",
    "</i>"
   ]
  },
  {
   "cell_type": "markdown",
   "metadata": {
    "collapsed": true
   },
   "source": [
    "Es soll die Handhabung von Python-Mitteln zur Bearbeitung der bei Schroedel<br>\n",
    "betrachteten Aufgaben demonstriert werden\n",
    "<br>\n",
    "#### Klassisches Geburtstagsproblem\n",
    "Das klassische Geburtstagsproblem lautet:\n",
    "\n",
    "23 Personen werden zufällig ausgewählt. Lohnt es sich darauf zu wetten, dass <br>\n",
    "unter diesen mindestens zwei sind, die am gleichen Tag Geburtstag haben?\n",
    "<br><br>\n",
    "Die Antwort ist\n",
    "<br><br>\n",
    "$\\qquad$ Ja. $\\quad$    Die Wahrscheinlichkeit für dieses Ereignis ist größer als 0.5\n",
    "<br><br>\n",
    "Die Berechnung der Wahrscheinlichkeit erfolgt über das Gegenereignis <br>\n",
    "\"keine zwei Personen haben am gleichen Tag Geburtstag\"<br><br>\n",
    "$P(\\text{ mindestens zwei der 23 Personen haben am gleichen Tag Geburtstag} ) = $\n",
    "<br><br>\n",
    "$\\quad = 1 - \\frac{365 \\, \\times \\, \\dots \\, \\, \\times \\, 343}{365^{23}} = 0.5073$"
   ]
  },
  {
   "cell_type": "code",
   "execution_count": 1,
   "metadata": {
    "collapsed": false
   },
   "outputs": [],
   "source": [
    "%run zufall/start"
   ]
  },
  {
   "cell_type": "markdown",
   "metadata": {
    "collapsed": false
   },
   "source": [
    "Bei der Berechnung kann die Funktion"
   ]
  },
  {
   "cell_type": "code",
   "execution_count": 2,
   "metadata": {
    "collapsed": true
   },
   "outputs": [],
   "source": [
    "def p(k):\n",
    "    m = 1\n",
    "    for i in range(365-k+1, 365):\n",
    "        m *= i/365\n",
    "    return 1 - m"
   ]
  },
  {
   "cell_type": "markdown",
   "metadata": {},
   "source": [
    "benutzt werden, die bei  $k = 23$  den obigen Wert ergibt"
   ]
  },
  {
   "cell_type": "code",
   "execution_count": 3,
   "metadata": {
    "collapsed": false
   },
   "outputs": [
    {
     "data": {
      "text/latex": [
       "$$0.5072972343239853$$"
      ],
      "text/plain": [
       "0.5072972343239853"
      ]
     },
     "execution_count": 3,
     "metadata": {},
     "output_type": "execute_result"
    }
   ],
   "source": [
    "p(23)"
   ]
  },
  {
   "cell_type": "markdown",
   "metadata": {},
   "source": [
    "Das Ergebnis widerspricht der Intuition vieler. Eventuell besteht die Vorstellung, <br>\n",
    "dass die Wahrscheinlichkeit linear mit der Anzahl der Personen wächst und einen<br>\n",
    "Wert über $0.5$ erst bei einem größeren Wert von $k$ erreicht. Die folgende Grafik<br>\n",
    "zeigt die Abhängigkeit der Wahrscheinlichkeit für das Zusammentreffen von minde-<br>\n",
    "stens zwei Geburtstagen von der Personenzahl. Es ist ersichtlich, dass eine solche <br>\n",
    "Annahme nicht richtig ist\n",
    "<br><br>\n",
    "(nach G. von Randow, Das Ziegenproblem, Rowohlt 1992/2004, S. 44)\n",
    "<br><br>\n",
    "Die Anweisungen zur Erzeugung der Grafik mit <b><i>matplotlib</i></b> sind bewußt im Notebook <br>\n",
    "belassen worden"
   ]
  },
  {
   "cell_type": "code",
   "execution_count": 4,
   "metadata": {
    "collapsed": false
   },
   "outputs": [
    {
     "data": {
      "image/png": "[encoded data removed]",
      "text/plain": [
       "<matplotlib.figure.Figure at 0x63492b0>"
      ]
     },
     "metadata": {},
     "output_type": "display_data"
    }
   ],
   "source": [
    "import numpy as np\n",
    "import matplotlib.pyplot as plt\n",
    "\n",
    "plt.close('all')\n",
    "plt.figure(figsize=(4, 2.5))\n",
    "\n",
    "x = np.array(range(60))\n",
    "y = np.array([p(int(k)) for k in x])\n",
    "plt.plot(x, y, color='r', lw=0.8)\n",
    "\n",
    "z = np.linspace(0, 60, 100)\n",
    "plt.plot(z, 0.009*z, color='g', lw=0.8)\n",
    "\n",
    "plt.plot([23, 23], [0, p(23)], color='k', lw=0.8, linestyle='dotted')\n",
    "plt.plot([0, 23], [p(23), p(23)], color='k', lw=0.8, linestyle='dotted')\n",
    "\n",
    "plt.plot([47, 47], [0, p(47)], color='b', lw=0.8, linestyle='dotted')\n",
    "plt.plot([0, 47], [p(47), p(47)], color='b', lw=0.8, linestyle='dotted')\n",
    "\n",
    "plt.xlabel('Personen')\n",
    "plt.ylim(0, 1.1)\n",
    "\n",
    "plt.show()"
   ]
  },
  {
   "cell_type": "markdown",
   "metadata": {},
   "source": [
    "Die grüne Linie entspricht der Annahme eines linearen Ansteigens der Wahr-<br>\n",
    "scheinlichkeit. Es sind außerdem die Personenzahlen markiert, bei denen die<br>\n",
    "Wahrscheinlichkeit $0.5$ (schwarz) bzw.$ 0.95$ (blau) erstmals übersteigt"
   ]
  },
  {
   "cell_type": "code",
   "execution_count": 5,
   "metadata": {
    "collapsed": false
   },
   "outputs": [
    {
     "data": {
      "text/latex": [
       "$$\\left ( 0.47569530766254997, \\quad 0.5072972343239853, \\quad 0.9482528433672548, \\quad 0.9547744028332994\\right )$$"
      ],
      "text/plain": [
       "(0.47569530766254997, 0.5072972343239853, 0.9482528433672548, 0.95477440283329\n",
       "94)"
      ]
     },
     "execution_count": 5,
     "metadata": {},
     "output_type": "execute_result"
    }
   ],
   "source": [
    "p(22), p(23), p(46), p(47)"
   ]
  },
  {
   "cell_type": "markdown",
   "metadata": {
    "collapsed": true
   },
   "source": [
    "#### Allgemeines Problem der Wiederholungen bei Zufallsversuchen\n",
    "Ein Zufallsexperiment mit $m$ möglichen gleichwahrscheinlichen Ergebnissen wird<br>\n",
    "$k$-mal durchgeführt $(k = 1, 2, \\dots,  m+1)$\n",
    "<br>\n",
    "Es soll der Wert  $k_{50}$  bestimmt werden, dass die Wahrscheinlichkeit für mindestens\n",
    "<br>\n",
    "eine Wiederholung größer ist als $50\\%$\n",
    "<br><br>\n",
    "Die folgende Tabelle (s. Schroedel, Aufgabe 5) zeigt diese Werte für verschiedene $m$<br>\n",
    "(der letzte Wert entspricht dem Lottospiel 6 aus 49)\n",
    "\n",
    "<div style='font-family:roman; font-size:16px'>\n",
    "<table align='left', style=>\n",
    "  <col width='55'>\n",
    "  <col width='55'>\n",
    "  <col width='55'>\n",
    "  <col width='55'>\n",
    "  <col width='55'>\n",
    "  <col width='55'>\n",
    "  <col width='60'>\n",
    "  <col width='60'>\n",
    "  <col width='60'>\n",
    "  <row align='right'>\n",
    "  <tr>\n",
    "     <td>$m$</th>\n",
    "     <td>400</th>\n",
    "     <td>900</th>\n",
    "     <td>1600</th>\n",
    "     <td>2500</th>\n",
    "     <td>10000</th>\n",
    "     <td>250000</th>\n",
    "     <td>1000000</th>\n",
    "     <td>13983816</th>\n",
    "   </tr>\n",
    "   <tr>\n",
    "     <td>$k_{50}$</th>\n",
    "     <td>24</th>\n",
    "     <td>36</th>\n",
    "     <td>48</th>\n",
    "     <td>60</th>\n",
    "     <td>119</th>\n",
    "     <td>589</th>\n",
    "     <td>1178</th>\n",
    "     <td>4404</th>  \n",
    "  </tr\n",
    "</table>  "
   ]
  },
  {
   "cell_type": "markdown",
   "metadata": {},
   "source": [
    "Die Bestätigung der Tabellenwerte (Aufgabe 5a) kann analog zur oben verwende-<br>\n",
    "ten Funktion $p$ mittels einer Funktion $f$ erfolgen"
   ]
  },
  {
   "cell_type": "code",
   "execution_count": 6,
   "metadata": {
    "collapsed": true
   },
   "outputs": [],
   "source": [
    "def f(m, k):\n",
    "    q = 1\n",
    "    for i in range(m-k+1, m):\n",
    "        q *= i/m\n",
    "    return 1 - q"
   ]
  },
  {
   "cell_type": "markdown",
   "metadata": {},
   "source": [
    "Die Funktion wurde so gestaltet, dass  Zahlen zwischen 0 und 1 zu multiplizie-<br>\n",
    "ren sind und nicht ganze Zahlen  (was bei großen $m$ und $k$ schnell zum Speicher-<br>\n",
    "überlauf des Rechners führt). Bei $m = 365$ ergibt sie die selben Werte wie die <br>\n",
    "Funktion $p$"
   ]
  },
  {
   "cell_type": "code",
   "execution_count": 7,
   "metadata": {
    "collapsed": false
   },
   "outputs": [
    {
     "data": {
      "text/latex": [
       "$$\\left ( 0.5072972343239853, \\quad 0.5072972343239853, \\quad 0.9547744028332994, \\quad 0.9547744028332994\\right )$$"
      ],
      "text/plain": [
       "(0.5072972343239853, 0.5072972343239853, 0.9547744028332994, 0.954774402833299\n",
       "4)"
      ]
     },
     "execution_count": 7,
     "metadata": {},
     "output_type": "execute_result"
    }
   ],
   "source": [
    "f(365, 23), p(23), f(365, 47), p(47)"
   ]
  },
  {
   "cell_type": "markdown",
   "metadata": {},
   "source": [
    "Die Tabellenwerte werden bestätigt, indem (bei gegebenem $m$) der angegebene $k_{50}$-<br>\n",
    "Wert und der um 1 verringerte Wert als Argumente angegeben werden, womit man <br>\n",
    "sich vom Erreichen der Grenze 0.5 überzeugt; z.B."
   ]
  },
  {
   "cell_type": "code",
   "execution_count": 8,
   "metadata": {
    "collapsed": false
   },
   "outputs": [
    {
     "data": {
      "text/latex": [
       "$$\\left ( 0.5053593788661789, \\quad 0.47518236484475196\\right )$$"
      ],
      "text/plain": [
       "(0.5053593788661789, 0.47518236484475196)"
      ]
     },
     "execution_count": 8,
     "metadata": {},
     "output_type": "execute_result"
    }
   ],
   "source": [
    "f(400, 24), f(400, 23)"
   ]
  },
  {
   "cell_type": "code",
   "execution_count": 9,
   "metadata": {
    "collapsed": false
   },
   "outputs": [
    {
     "data": {
      "text/latex": [
       "$$\\left ( 0.505836993838501, \\quad 0.49993624148805993\\right )$$"
      ],
      "text/plain": [
       "(0.505836993838501, 0.49993624148805993)"
      ]
     },
     "execution_count": 9,
     "metadata": {},
     "output_type": "execute_result"
    }
   ],
   "source": [
    "f(10000, 119),  f(10000, 118)"
   ]
  },
  {
   "cell_type": "code",
   "execution_count": 10,
   "metadata": {
    "collapsed": false
   },
   "outputs": [
    {
     "data": {
      "text/latex": [
       "$$\\left ( 0.5001280323435917, \\quad 0.49997059109240716\\right )$$"
      ],
      "text/plain": [
       "(0.5001280323435917, 0.49997059109240716)"
      ]
     },
     "execution_count": 10,
     "metadata": {},
     "output_type": "execute_result"
    }
   ],
   "source": [
    "f(13983816, 4404), f(13983816, 4403)"
   ]
  },
  {
   "cell_type": "markdown",
   "metadata": {},
   "source": [
    "Eine weitere kleine Funktion berechnet für einen beliebigen $m$-Wert den zugehörigen<br>\n",
    "$k_{50}$-Wert"
   ]
  },
  {
   "cell_type": "code",
   "execution_count": 11,
   "metadata": {
    "collapsed": false
   },
   "outputs": [],
   "source": [
    "def k50(m):\n",
    "    k = 1\n",
    "    while f(m, k) < 0.5:\n",
    "        k += 1\n",
    "    return k        "
   ]
  },
  {
   "cell_type": "code",
   "execution_count": 12,
   "metadata": {
    "collapsed": false
   },
   "outputs": [
    {
     "data": {
      "text/latex": [
       "$$589$$"
      ],
      "text/plain": [
       "589"
      ]
     },
     "execution_count": 12,
     "metadata": {},
     "output_type": "execute_result"
    }
   ],
   "source": [
    "k50(250000)"
   ]
  },
  {
   "cell_type": "markdown",
   "metadata": {},
   "source": [
    "Die bei Schroedel angegebene Faustregel lautet:  <br><br>\n",
    "Führt man $k_{50} \\approx 1.2 \\cdot \\sqrt{m}$ Zufallsversuche durch, dann ist die Wahrscheinlichkeit, dass <br>\n",
    "mindestens zwei Ergebnisse gleich sind, bereits über 50%\n",
    "<br><br>\n",
    "Die bei Schroedel angegebene Grafik einschließlich der in der Faustregel verwendeten<br>\n",
    "Funktion kann dann so erzeugt werden"
   ]
  },
  {
   "cell_type": "code",
   "execution_count": 13,
   "metadata": {
    "collapsed": false
   },
   "outputs": [],
   "source": [
    "m = range(1, 1000, 20)\n",
    "k50werte = [k50(i) for i in m]"
   ]
  },
  {
   "cell_type": "code",
   "execution_count": 14,
   "metadata": {
    "collapsed": false
   },
   "outputs": [
    {
     "data": {
      "image/png": "[encoded data removed]",
      "text/plain": [
       "<matplotlib.figure.Figure at 0x8199e30>"
      ]
     },
     "metadata": {},
     "output_type": "display_data"
    }
   ],
   "source": [
    "plt.close('all')\n",
    "plt.figure(figsize=(6, 2.5))\n",
    "plt.plot(m, k50werte, 'k.')\n",
    "z = np.linspace(0, 1000, 100)\n",
    "plt.plot(z, 1.2*np.sqrt(z), color='b', lw=0.8)\n",
    "plt.xlabel('$m$', fontsize=12)\n",
    "plt.ylabel('$k_{50}$', fontsize=12)\n",
    "\n",
    "plt.show()"
   ]
  },
  {
   "cell_type": "markdown",
   "metadata": {},
   "source": [
    "Der Vergleich der unten berechneten Näherungswerte mit den exakten Tabellenwer-<br>\n",
    "ten zeigt eine gute Approximation durch die Funktion  (Aufgabe 5b)"
   ]
  },
  {
   "cell_type": "code",
   "execution_count": 15,
   "metadata": {
    "collapsed": false
   },
   "outputs": [
    {
     "data": {
      "text/latex": [
       "$$\\left [ \\left ( 400, \\quad 24.0\\right ), \\quad \\left ( 900, \\quad 36.0\\right ), \\quad \\left ( 1600, \\quad 48.0\\right ), \\quad \\left ( 2500, \\quad 60.0\\right ), \\quad \\left ( 10000, \\quad 120.0\\right ), \\quad \\left ( 250000, \\quad 600.0\\right ), \\quad \\left ( 1000000, \\quad 1200.0\\right ), \\quad \\left ( 13983816, \\quad 4487.39290011\\right )\\right ]$$"
      ],
      "text/plain": [
       "[(400, 24.0), (900, 36.0), (1600, 48.0), (2500, 60.0), (10000, 120.0), (250000\n",
       ", 600.0), (1000000, 1200.0), (13983816, 4487.39290011)]"
      ]
     },
     "execution_count": 15,
     "metadata": {},
     "output_type": "execute_result"
    }
   ],
   "source": [
    "[(m, (1.2*np.sqrt(m))) for m in (400, 900, 1600, 2500, 10000, 250000, 1000000, 13983816)]"
   ]
  },
  {
   "cell_type": "markdown",
   "metadata": {},
   "source": [
    "Bei $k = 2 \\cdot \\sqrt{m}$ erreicht die Wahrscheinlichkeit für mindestens zwei gleiche Ergebnis-<br>\n",
    "se fast 90%  (Aufgabe 5c)"
   ]
  },
  {
   "cell_type": "markdown",
   "metadata": {},
   "source": [
    "Damit die Funktion $f$ auch für irrationale $k$ benutzt werden kann, wird<br>\n",
    "sie leicht modifiziert"
   ]
  },
  {
   "cell_type": "code",
   "execution_count": 16,
   "metadata": {
    "collapsed": true
   },
   "outputs": [],
   "source": [
    "from sympy import ceiling\n",
    "\n",
    "def ff(m, k):\n",
    "    q = 1\n",
    "    for i in range(ceiling(m-k+1), m):\n",
    "        q *= i/m\n",
    "    return 1 - q"
   ]
  },
  {
   "cell_type": "code",
   "execution_count": 17,
   "metadata": {
    "collapsed": false
   },
   "outputs": [
    {
     "data": {
      "text/latex": [
       "$$\\left [ 0.8670200951442043, \\quad 0.8662119073603859, \\quad 0.8658167163216178, \\quad 0.8655823510626799, \\quad 0.8651196385197779, \\quad 0.8647550910142474, \\quad 0.8647098661620823, \\quad 0.8646052358027866\\right ]$$"
      ],
      "text/plain": [
       "[0.8670200951442043, 0.8662119073603859, 0.8658167163216178, 0.865582351062679\n",
       "9, 0.8651196385197779, 0.8647550910142474, 0.8647098661620823, 0.8646052358027\n",
       "866]"
      ]
     },
     "execution_count": 17,
     "metadata": {},
     "output_type": "execute_result"
    }
   ],
   "source": [
    "[ff(m, 2*np.sqrt(m)) for m in (400, 900, 1600, 2500, 10000, 250000, 1000000, 13983816)]"
   ]
  },
  {
   "cell_type": "code",
   "execution_count": null,
   "metadata": {
    "collapsed": true
   },
   "outputs": [],
   "source": []
  }
 ],
 "metadata": {
  "anaconda-cloud": {},
  "kernelspec": {
   "display_name": "Python [default]",
   "language": "python",
   "name": "python3"
  },
  "language_info": {
   "codemirror_mode": {
    "name": "ipython",
    "version": 3
   },
   "file_extension": ".py",
   "mimetype": "text/x-python",
   "name": "python",
   "nbconvert_exporter": "python",
   "pygments_lexer": "ipython3",
   "version": "3.5.2"
  }
 },
 "nbformat": 4,
 "nbformat_minor": 0
}
