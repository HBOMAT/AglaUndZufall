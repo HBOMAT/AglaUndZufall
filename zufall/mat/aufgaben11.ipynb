{
 "cells": [
  {
   "cell_type": "markdown",
   "metadata": {
    "collapsed": false
   },
   "source": [
    "# Materialien zu <i>zufall</i>\n",
    "\n",
    "Autor: Holger Böttcher - hbomat@posteo.de\n",
    "\n",
    "## Aufgaben 11 - Zum Rencontre-Problem "
   ]
  },
  {
   "cell_type": "markdown",
   "metadata": {},
   "source": [
    "<br>\n",
    "<i>Die Aufgaben wurden entnommen aus \n",
    "<br><br>\n",
    "Elemente der Mathematik<br>\n",
    "Leistungskurs Stochastik<br>\n",
    "Schroedel Verlag 2003<br>\n",
    "S. 137-139\n",
    "<br><br>\n",
    "</i>"
   ]
  },
  {
   "cell_type": "markdown",
   "metadata": {
    "collapsed": true
   },
   "source": [
    "Gegeben sind $n$ nummerierte Kugeln, die so auf $n$ nummerierte Fächer verteilt <br>\n",
    "werden, dass in jedem Fach genau eine Kugel liegt.\n",
    "<br><br>\n",
    "Mit welcher Wahrscheinlichkeit stimmen die Nummern von $k$ Fächern und Kugeln <br>\n",
    "überein $(\\, k = 0, 1, 2, ..., n\\, )$ ?\n",
    "<br><br>\n",
    "### Einfacher Zählalgorithmus zur Berechnung der <br>Wahrscheinlichkeitsverteilung\n",
    "Demonstration für $\\mathbf{\\mathit{n} = 3}$"
   ]
  },
  {
   "cell_type": "code",
   "execution_count": 1,
   "metadata": {
    "collapsed": false
   },
   "outputs": [],
   "source": [
    "%run zufall/start"
   ]
  },
  {
   "cell_type": "code",
   "execution_count": 2,
   "metadata": {
    "collapsed": false
   },
   "outputs": [
    {
     "data": {
      "text/latex": [
       "$$\\left [ 1, \\quad 2, \\quad 3\\right ]$$"
      ],
      "text/plain": [
       "[1, 2, 3]"
      ]
     },
     "execution_count": 2,
     "metadata": {},
     "output_type": "execute_result"
    }
   ],
   "source": [
    "n = 3\n",
    "L = list(range(1, n+1)); L"
   ]
  },
  {
   "cell_type": "markdown",
   "metadata": {
    "collapsed": true
   },
   "source": [
    "Die Liste repräsentiert die richtige Anordnung - alle Kugeln liegen in ihrem Fach<br>\n",
    "($k = n;\\; Kugel = \\;$Zahl, $Fach = \\;$Platz in der Liste)\n",
    "<br><br>\n",
    "In der Liste der Permutationen"
   ]
  },
  {
   "cell_type": "code",
   "execution_count": 3,
   "metadata": {
    "collapsed": false
   },
   "outputs": [
    {
     "data": {
      "text/latex": [
       "$$\\left [ \\left ( 1, \\quad 2, \\quad 3\\right ), \\quad \\left ( 1, \\quad 3, \\quad 2\\right ), \\quad \\left ( 2, \\quad 1, \\quad 3\\right ), \\quad \\left ( 2, \\quad 3, \\quad 1\\right ), \\quad \\left ( 3, \\quad 1, \\quad 2\\right ), \\quad \\left ( 3, \\quad 2, \\quad 1\\right )\\right ]$$"
      ],
      "text/plain": [
       "[(1, 2, 3), (1, 3, 2), (2, 1, 3), (2, 3, 1), (3, 1, 2), (3, 2, 1)]"
      ]
     },
     "execution_count": 3,
     "metadata": {},
     "output_type": "execute_result"
    }
   ],
   "source": [
    "L1 = permutationen(L, l=ja); L1"
   ]
  },
  {
   "cell_type": "markdown",
   "metadata": {},
   "source": [
    "werden die Übereinstimmungen zunächst markiert, dann gezählt und auf dieser <br>\n",
    "Grundlage die gesuchte Verteilung gewonnen"
   ]
  },
  {
   "cell_type": "code",
   "execution_count": 4,
   "metadata": {
    "collapsed": false
   },
   "outputs": [
    {
     "data": {
      "text/latex": [
       "$$\\left [ \\left [ 1, \\quad 1, \\quad 1\\right ], \\quad \\left [ 1, \\quad 0, \\quad 0\\right ], \\quad \\left [ 0, \\quad 0, \\quad 1\\right ], \\quad \\left [ 0, \\quad 0, \\quad 0\\right ], \\quad \\left [ 0, \\quad 0, \\quad 0\\right ], \\quad \\left [ 0, \\quad 1, \\quad 0\\right ]\\right ]$$"
      ],
      "text/plain": [
       "[[1, 1, 1], [1, 0, 0], [0, 0, 1], [0, 0, 0], [0, 0, 0], [0, 1, 0]]"
      ]
     },
     "execution_count": 4,
     "metadata": {},
     "output_type": "execute_result"
    }
   ],
   "source": [
    "def mark(tupel):\n",
    "    l = []\n",
    "    for i in range(len(tupel)):\n",
    "        if tupel[i] == i+1:   # die Zählung im Tupel beginnt mit 0\n",
    "            l += [1]\n",
    "        else:\n",
    "            l += [0]  \n",
    "    return l      \n",
    "\n",
    "L2 = [mark(x) for x in L1]; L2       # Markieren der Treffer"
   ]
  },
  {
   "cell_type": "code",
   "execution_count": 5,
   "metadata": {
    "collapsed": false
   },
   "outputs": [
    {
     "data": {
      "text/latex": [
       "$$\\left [ 3, \\quad 1, \\quad 1, \\quad 0, \\quad 0, \\quad 1\\right ]$$"
      ],
      "text/plain": [
       "[3, 1, 1, 0, 0, 1]"
      ]
     },
     "execution_count": 5,
     "metadata": {},
     "output_type": "execute_result"
    }
   ],
   "source": [
    "L3 = [anzahl(x, 1) for x in L2]; L3   #  Zählen der Treffer in jedem Listenelement"
   ]
  },
  {
   "cell_type": "code",
   "execution_count": 6,
   "metadata": {
    "collapsed": false
   },
   "outputs": [
    {
     "data": {
      "text/latex": [
       "$$\\left \\{ 0 : \\frac{1}{3}, \\quad 1 : \\frac{1}{2}, \\quad 3 : \\frac{1}{6}\\right \\}$$"
      ],
      "text/plain": [
       "{0: 1/3, 1: 1/2, 3: 1/6}"
      ]
     },
     "execution_count": 6,
     "metadata": {},
     "output_type": "execute_result"
    }
   ],
   "source": [
    "da = DR(L3);    ve = da.vert; ve    #  Gewinnung der Häufigkeitsverteilung über eine DatenReihe"
   ]
  },
  {
   "cell_type": "code",
   "execution_count": 7,
   "metadata": {
    "collapsed": true
   },
   "outputs": [],
   "source": [
    "R3 = ZG(ve)   # Zufallsgröße \"Anzahl der Übereinstimmungen\" bei n=3 "
   ]
  },
  {
   "cell_type": "markdown",
   "metadata": {},
   "source": [
    "### Algorithmus als Prozedur"
   ]
  },
  {
   "cell_type": "code",
   "execution_count": 8,
   "metadata": {
    "collapsed": false
   },
   "outputs": [],
   "source": [
    "def rencontre(n):                        \n",
    "    L = list(range(1, n+1))\n",
    "    L1 = permutationen(L, l=ja)\n",
    "    L2 = [mark(x) for x in L1] \n",
    "    L3 = [anzahl(x, 1) for x in L2]\n",
    "    da = DatenReihe(L3)\n",
    "    return ZufallsGroesse(da.vert)"
   ]
  },
  {
   "cell_type": "markdown",
   "metadata": {},
   "source": [
    "Bis $n = 8$ ist die Rechenzeit akzeptabel, bei $n=9$ beträgt sie ca. 10 sec und wächst dann<br>\n",
    "explosionsartig an (bei $n=10$ bereits auf über 1.5 min)"
   ]
  },
  {
   "cell_type": "markdown",
   "metadata": {},
   "source": [
    "### Aufgaben aus Schroedel\n",
    "### Aufgabe 2\n",
    "Ermittlung der Verteilungen für  $n = 4, 5$<br><br>\n",
    "Die Verteilungen sind"
   ]
  },
  {
   "cell_type": "code",
   "execution_count": 9,
   "metadata": {
    "collapsed": false
   },
   "outputs": [
    {
     "data": {
      "text/latex": [
       "$$\\left ( \\left \\{ 0 : \\frac{3}{8}, \\quad 1 : \\frac{1}{3}, \\quad 2 : \\frac{1}{4}, \\quad 4 : \\frac{1}{24}\\right \\}, \\quad \\left \\{ 0 : \\frac{11}{30}, \\quad 1 : \\frac{3}{8}, \\quad 2 : \\frac{1}{6}, \\quad 3 : \\frac{1}{12}, \\quad 5 : \\frac{1}{120}\\right \\}\\right )$$"
      ],
      "text/plain": [
       "⎛                                   ⎧   11                                   ⎫\n",
       "⎜{0: 3/8, 1: 1/3, 2: 1/4, 4: 1/24}, ⎨0: ──, 1: 3/8, 2: 1/6, 3: 1/12, 5: 1/120⎬\n",
       "⎝                                   ⎩   30                                   ⎭\n",
       "\n",
       "⎞\n",
       "⎟\n",
       "⎠"
      ]
     },
     "execution_count": 9,
     "metadata": {},
     "output_type": "execute_result"
    }
   ],
   "source": [
    "R4 = rencontre(4); R5 = rencontre(5)\n",
    "R4.vert, R5.vert"
   ]
  },
  {
   "cell_type": "markdown",
   "metadata": {},
   "source": [
    "Die Erwartungswerte sind immer 1"
   ]
  },
  {
   "cell_type": "code",
   "execution_count": 10,
   "metadata": {
    "collapsed": false
   },
   "outputs": [
    {
     "data": {
      "text/latex": [
       "$$\\left ( 1, \\quad 1, \\quad 1\\right )$$"
      ],
      "text/plain": [
       "(1, 1, 1)"
      ]
     },
     "execution_count": 10,
     "metadata": {},
     "output_type": "execute_result"
    }
   ],
   "source": [
    "R3.erw, R4.erw, R5.erw"
   ]
  },
  {
   "cell_type": "markdown",
   "metadata": {},
   "source": [
    "### Aufgabe 4</b> &nbsp;(Auswahl)\n",
    "<br>\n",
    "<b>a)</b> Vertauschte Briefe<br><br>\n",
    "5 Briefe werden willkürlich (zufällig) in 5  Briefumschläge gesteckt.Wie groß ist die <br>\n",
    "Wahrscheinlichkeit, dass mindestens ein Brief an den richtigen Adressaten geht?\n",
    "</div>"
   ]
  },
  {
   "cell_type": "code",
   "execution_count": 11,
   "metadata": {
    "collapsed": false
   },
   "outputs": [
    {
     "data": {
      "text/latex": [
       "$$0.6333$$"
      ],
      "text/plain": [
       "0.6333"
      ]
     },
     "execution_count": 11,
     "metadata": {},
     "output_type": "execute_result"
    }
   ],
   "source": [
    "R5.P( X >= 1, d=4)"
   ]
  },
  {
   "cell_type": "markdown",
   "metadata": {},
   "source": [
    "<b>b)</b> Vertauschte Hüte<br><br>\n",
    "7 Herren besuchen ihren Stammtisch. Am Garderobenständer hängen sie ihre gleich-<br>\n",
    "aussehenden Hüte ab. Nach dem Stammtisch (und dem reichlichen Genuss von Alkohol) <br>\n",
    "greifen sie nach irgendeinem Hut.<br>\n",
    "Wie groß ist die Wahrscheinlichkeit, dass mindestens einer seinen eigenen Hut nimmt?"
   ]
  },
  {
   "cell_type": "code",
   "execution_count": 12,
   "metadata": {
    "collapsed": false
   },
   "outputs": [
    {
     "data": {
      "text/latex": [
       "$$0.63214286$$"
      ],
      "text/plain": [
       "0.63214286"
      ]
     },
     "execution_count": 12,
     "metadata": {},
     "output_type": "execute_result"
    }
   ],
   "source": [
    "R7 = rencontre(7)\n",
    "R7.P( X >= 1, d=8)    "
   ]
  },
  {
   "cell_type": "markdown",
   "metadata": {},
   "source": [
    "Dieser Wert entspricht bereits gut dem theoretisch zu erwartenden Wert für große $n$<br>\n",
    "von $1-\\frac{1}{e} \\approx 0.632120558828558$  &nbsp; &nbsp; &nbsp; (Rencontre-Paradoxon)"
   ]
  },
  {
   "cell_type": "markdown",
   "metadata": {},
   "source": [
    "<b>c)</b> Tanzschule<br><br>\n",
    "In der Tanzschule sind 8 Tanzpaare. Damit nicht immer die gleichen Paare miteinander <br>\n",
    "tanzen, werden für den nächsten Tanz die Partner der Damen ausgelost.<br> \n",
    "Mit welcher Wahrscheinlichkeit tanzt mindestens ein \"altes Paar\" wieder zusammen?    "
   ]
  },
  {
   "cell_type": "code",
   "execution_count": 13,
   "metadata": {
    "collapsed": false
   },
   "outputs": [
    {
     "data": {
      "text/latex": [
       "$$\\left ( 0.63211806, \\quad 0.632120558828558\\right )$$"
      ],
      "text/plain": [
       "(0.63211806, 0.632120558828558)"
      ]
     },
     "execution_count": 13,
     "metadata": {},
     "output_type": "execute_result"
    }
   ],
   "source": [
    "R8 = rencontre(8)\n",
    "R8.P( X >= 1, d=8), N(1-1/E)    # E = 2.71828..."
   ]
  },
  {
   "cell_type": "markdown",
   "metadata": {},
   "source": [
    "<b>d)</b> Wettlauf<br><br>\n",
    "6 Läufer mit den Startnummern 1; 2; ...; 6 treten zu einem Wettlauf an.<br>\n",
    "Wie groß ist die Wahrscheinlichkeit dafür, dass mindestens bei einem der Läufer<br>\n",
    "Startnummer und Rangplatz übereinstimmen?    "
   ]
  },
  {
   "cell_type": "code",
   "execution_count": 16,
   "metadata": {
    "collapsed": false
   },
   "outputs": [
    {
     "data": {
      "text/latex": [
       "$$\\left ( 0.63194444, \\quad 0.632120558828558\\right )$$"
      ],
      "text/plain": [
       "(0.63194444, 0.632120558828558)"
      ]
     },
     "execution_count": 16,
     "metadata": {},
     "output_type": "execute_result"
    }
   ],
   "source": [
    "R6 = rencontre(6)\n",
    "R6.P( X >= 1, d=8), N(1-1/E)"
   ]
  },
  {
   "cell_type": "code",
   "execution_count": null,
   "metadata": {
    "collapsed": true
   },
   "outputs": [],
   "source": []
  }
 ],
 "metadata": {
  "anaconda-cloud": {},
  "kernelspec": {
   "display_name": "Python [default]",
   "language": "python",
   "name": "python3"
  },
  "language_info": {
   "codemirror_mode": {
    "name": "ipython",
    "version": 3
   },
   "file_extension": ".py",
   "mimetype": "text/x-python",
   "name": "python",
   "nbconvert_exporter": "python",
   "pygments_lexer": "ipython3",
   "version": "3.5.2"
  }
 },
 "nbformat": 4,
 "nbformat_minor": 0
}
