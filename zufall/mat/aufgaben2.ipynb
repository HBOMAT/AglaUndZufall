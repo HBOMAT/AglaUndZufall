{
 "cells": [
  {
   "cell_type": "markdown",
   "metadata": {},
   "source": [
    "# Materialien zu <i>zufall</i>\n",
    "\n",
    "Autor: Holger Böttcher - hbomat@posteo.de\n",
    "\n",
    "## Aufgaben 2 - Urnen-Experimente (1)"
   ]
  },
  {
   "cell_type": "markdown",
   "metadata": {},
   "source": [
    "<br>\n",
    "<i>Die Aufgaben wurden entnommen aus \n",
    "\n",
    "A. Müller<br>\n",
    "Wahrscheinlichkeitsrechnung und Statistik<br>\n",
    "Grundkurs<br>\n",
    "Stark Verlag 1997<br>\n",
    "\n",
    "Aufgaben 12, 15, 17, 18\n",
    "<br>"
   ]
  },
  {
   "cell_type": "code",
   "execution_count": 1,
   "metadata": {
    "collapsed": false
   },
   "outputs": [],
   "source": [
    "%run zufall/start"
   ]
  },
  {
   "cell_type": "markdown",
   "metadata": {},
   "source": [
    "### Aufgabe 12\n",
    "In einer Urne befinden sich vier rote, drei schwarze Kugeln und eine grüne Kugel. Es<br> werden zwei\n",
    "Kugeln mit Zurücklegen gezogen. Bestimmen Sie die Wahrscheinlichkeit <br>des Ereignisses <br><br>\n",
    "$A$ = \"Mindestens eine rote Kugel wird gezogen\"<br>"
   ]
  },
  {
   "cell_type": "code",
   "execution_count": 2,
   "metadata": {
    "collapsed": false
   },
   "outputs": [
    {
     "data": {
      "text/latex": [
       "$$Urne(Stufen=2, mit Wiederholung , mit Anordnung)$$"
      ],
      "text/plain": [
       "Urne(Stufen=2, mit Wiederholung , mit Anordnung)"
      ]
     },
     "execution_count": 2,
     "metadata": {},
     "output_type": "execute_result"
    }
   ],
   "source": [
    "u1 = Urne( {r:4, s:3, g:1}, 2 )\n",
    "u1"
   ]
  },
  {
   "cell_type": "code",
   "execution_count": 3,
   "metadata": {
    "collapsed": false
   },
   "outputs": [
    {
     "data": {
      "text/latex": [
       "$$\\left\\{gg, gr, gs, rg, rr, rs, sg, sr, ss\\right\\}$$"
      ],
      "text/plain": [
       "set([gg, gr, gs, rg, rr, rs, sg, sr, ss])"
      ]
     },
     "execution_count": 3,
     "metadata": {},
     "output_type": "execute_result"
    }
   ],
   "source": [
    "u1.omega"
   ]
  },
  {
   "cell_type": "code",
   "execution_count": 4,
   "metadata": {
    "collapsed": false
   },
   "outputs": [
    {
     "data": {
      "text/latex": [
       "$$\\frac{3}{4}$$"
      ],
      "text/plain": [
       "3/4"
      ]
     },
     "execution_count": 4,
     "metadata": {},
     "output_type": "execute_result"
    }
   ],
   "source": [
    "u1.P([ 'gr', 'rg', 'rr', 'rs', 'sr' ])"
   ]
  },
  {
   "cell_type": "markdown",
   "metadata": {},
   "source": [
    "oder"
   ]
  },
  {
   "cell_type": "code",
   "execution_count": 5,
   "metadata": {
    "collapsed": false
   },
   "outputs": [
    {
     "data": {
      "text/latex": [
       "$$\\frac{3}{4}$$"
      ],
      "text/plain": [
       "3/4"
      ]
     },
     "execution_count": 5,
     "metadata": {},
     "output_type": "execute_result"
    }
   ],
   "source": [
    "u1.P( symbols('gr rg rr rs sr') )    # leichter zu schreiben"
   ]
  },
  {
   "cell_type": "markdown",
   "metadata": {},
   "source": [
    "oder mittels einer ZG-Funktion"
   ]
  },
  {
   "cell_type": "code",
   "execution_count": 6,
   "metadata": {
    "collapsed": false
   },
   "outputs": [
    {
     "name": "stdout",
     "output_type": "stream",
     "text": [
      "Erzeugung eines ZufallsGroesse-Objektes\n"
     ]
    }
   ],
   "source": [
    "u2 = Urne( {r:4, s:3, g:1}, 2, f=anzahl(r) )   # anzahl ist vordefiniert; es zählt \n",
    "                                               # hier die r in den Elementen der Grundmenge"
   ]
  },
  {
   "cell_type": "code",
   "execution_count": 7,
   "metadata": {
    "collapsed": false
   },
   "outputs": [
    {
     "data": {
      "text/latex": [
       "$$\\frac{3}{4}$$"
      ],
      "text/plain": [
       "3/4"
      ]
     },
     "execution_count": 7,
     "metadata": {},
     "output_type": "execute_result"
    }
   ],
   "source": [
    "u2.P(X >= 1)"
   ]
  },
  {
   "cell_type": "markdown",
   "metadata": {},
   "source": [
    "eventuell auch mit einer eigenen Funktion:"
   ]
  },
  {
   "cell_type": "code",
   "execution_count": 5,
   "metadata": {
    "collapsed": false
   },
   "outputs": [
    {
     "name": "stdout",
     "output_type": "stream",
     "text": [
      "Erzeugung eines ZufallsGroesse-Objektes\n"
     ]
    }
   ],
   "source": [
    "def func(liste):             # func operiert auf einer Liste\n",
    "    return liste.count(r)    # und zählt, wie oft r in ihr enthalten ist\n",
    "\n",
    "u3 = Urne({r:4, s:3, g:1}, 2, f=func)"
   ]
  },
  {
   "cell_type": "code",
   "execution_count": 6,
   "metadata": {
    "collapsed": false
   },
   "outputs": [
    {
     "data": {
      "text/latex": [
       "$$\\frac{3}{4}$$"
      ],
      "text/plain": [
       "3/4"
      ]
     },
     "execution_count": 6,
     "metadata": {},
     "output_type": "execute_result"
    }
   ],
   "source": [
    "u3.P(X > 0)"
   ]
  },
  {
   "cell_type": "markdown",
   "metadata": {},
   "source": [
    "### Aufgabe 15\n",
    "Aus einem Lesekasten sind zehn gleichartige Buchstabenkärtchen in eine Urne gegeben <br>worden. Eines\n",
    "der Kärtchen trägt den Buchstaben $L$, eines den Buchstaben $S$ und acht <br>den Buchstaben $E$. Aus der Urne\n",
    "werden zwei Kärtchen ohne Zurücklegen gezogen.\n",
    "<br><br>\n",
    "a)  Zeichnen Sie ein Baumdiagramm und bestimmen Sie die Wahrscheinlichkeit der Ereignisse\n",
    "<br><br>\n",
    "&nbsp;&nbsp;&nbsp;&nbsp;&nbsp;$A$ = \"Genau einmal wird $S$ gezogen\" und <br>\n",
    "&nbsp;&nbsp;&nbsp;&nbsp;&nbsp;$B$ = \"Höchstens einmal wird $E$ gezogen\"<br><br>\n",
    "b)  Formulieren Sie die Ereignisse $A$ und  $nicht(\\;A \\cup B \\;)$  in der Umgangssprache\n",
    "<br><br>\n",
    "c)  Mit welcher Wahrscheinlichkeit ergeben fünf nacheinander ohne Zurücklegen gezogene <br>\n",
    "&nbsp;&nbsp;&nbsp;&nbsp;Kärtchen das Wort SEELE?<br><br>\n",
    "<br>"
   ]
  },
  {
   "cell_type": "code",
   "execution_count": 10,
   "metadata": {
    "collapsed": false
   },
   "outputs": [
    {
     "data": {
      "text/latex": [
       "$$Urne(Stufen=2, ohne Wiederholung , mit Anordnung)$$"
      ],
      "text/plain": [
       "Urne(Stufen=2, ohne Wiederholung , mit Anordnung)"
      ]
     },
     "execution_count": 10,
     "metadata": {},
     "output_type": "execute_result"
    }
   ],
   "source": [
    "u = Urne( {'L':1, 'S':1, 'E':8}, 2, w=ohne )\n",
    "u"
   ]
  },
  {
   "cell_type": "markdown",
   "metadata": {},
   "source": [
    "### zu a)"
   ]
  },
  {
   "cell_type": "code",
   "execution_count": 11,
   "metadata": {
    "collapsed": false
   },
   "outputs": [
    {
     "data": {
      "image/png": "[encoded data removed]",
      "text/plain": [
       "<matplotlib.figure.Figure at 0x8c8af70>"
      ]
     },
     "metadata": {},
     "output_type": "display_data"
    }
   ],
   "source": [
    "u.baum"
   ]
  },
  {
   "cell_type": "code",
   "execution_count": 12,
   "metadata": {
    "collapsed": false
   },
   "outputs": [
    {
     "data": {
      "text/latex": [
       "$$\\left\\{ES, LS, SE, SL\\right\\}$$"
      ],
      "text/plain": [
       "set([ES, LS, SE, SL])"
      ]
     },
     "execution_count": 12,
     "metadata": {},
     "output_type": "execute_result"
    }
   ],
   "source": [
    "ES, LS, SE, SL = symbols('ES LS SE SL')\n",
    "\n",
    "A = { ES, LS, SE, SL }; A"
   ]
  },
  {
   "cell_type": "code",
   "execution_count": 13,
   "metadata": {
    "collapsed": false
   },
   "outputs": [
    {
     "data": {
      "text/latex": [
       "$$\\left\\{EL, ES, LE, LS, SE, SL\\right\\}$$"
      ],
      "text/plain": [
       "set([EL, ES, LE, LS, SE, SL])"
      ]
     },
     "execution_count": 13,
     "metadata": {},
     "output_type": "execute_result"
    }
   ],
   "source": [
    "B = { *symbols('LS LE SL SE EL ES')}; B   # leichter zu schreiben\n",
    "                                          # * entpackt das Tupel"
   ]
  },
  {
   "cell_type": "code",
   "execution_count": 14,
   "metadata": {
    "collapsed": false
   },
   "outputs": [
    {
     "data": {
      "text/latex": [
       "$$\\left ( \\frac{1}{5}, \\quad \\frac{17}{45}\\right )$$"
      ],
      "text/plain": [
       "⎛     17⎞\n",
       "⎜1/5, ──⎟\n",
       "⎝     45⎠"
      ]
     },
     "execution_count": 14,
     "metadata": {},
     "output_type": "execute_result"
    }
   ],
   "source": [
    "pA = u.P(A); pB = u.P(B); pA, pB"
   ]
  },
  {
   "cell_type": "markdown",
   "metadata": {},
   "source": [
    "### zu b)"
   ]
  },
  {
   "cell_type": "code",
   "execution_count": 15,
   "metadata": {
    "collapsed": false
   },
   "outputs": [
    {
     "data": {
      "text/latex": [
       "$$\\left\\{EE, EL, ES, LE, LS, SE, SL\\right\\}$$"
      ],
      "text/plain": [
       "set([EE, EL, ES, LE, LS, SE, SL])"
      ]
     },
     "execution_count": 15,
     "metadata": {},
     "output_type": "execute_result"
    }
   ],
   "source": [
    "u.omega"
   ]
  },
  {
   "cell_type": "code",
   "execution_count": 16,
   "metadata": {
    "collapsed": false
   },
   "outputs": [
    {
     "data": {
      "text/latex": [
       "$$\\left\\{EE, EL, LE\\right\\}$$"
      ],
      "text/plain": [
       "set([EE, EL, LE])"
      ]
     },
     "execution_count": 16,
     "metadata": {},
     "output_type": "execute_result"
    }
   ],
   "source": [
    "ea = EA(u.omega)   # Bereitstellung einer Ereignisalgebra zum Rechnen \n",
    "                   # mit Ereignissen bezüglich der Urne\n",
    "\n",
    "ea.berechnen(A, B, 'nicht A') \n"
   ]
  },
  {
   "cell_type": "markdown",
   "metadata": {},
   "source": [
    "Das Ergebnis ist \"Es wird kein $S$ gezogen\""
   ]
  },
  {
   "cell_type": "code",
   "execution_count": 17,
   "metadata": {
    "collapsed": false
   },
   "outputs": [
    {
     "data": {
      "text/latex": [
       "$$\\left\\{EE\\right\\}$$"
      ],
      "text/plain": [
       "set([EE])"
      ]
     },
     "execution_count": 17,
     "metadata": {},
     "output_type": "execute_result"
    }
   ],
   "source": [
    "ea.berechnen(A, B, 'nicht (A oder B)')   \n"
   ]
  },
  {
   "cell_type": "markdown",
   "metadata": {},
   "source": [
    "Das Ergebnis ist \"Es wird zweimal $E$ gezogen\""
   ]
  },
  {
   "cell_type": "markdown",
   "metadata": {},
   "source": [
    "### Zu c)\n",
    "Das folgende Schema zeigt den Prozess, in den Klammern steht der Inhalt der Urne,<br> unten stehen die\n",
    "entsprechenden Wahrscheinlichkeiten\n",
    "\n",
    "$\\qquad\\qquad \\quad\\quad\\:\\:\\:S \\qquad\\quad\\:\\:\\:E \\qquad\\quad\\:\\: E \\qquad\\quad\\:\\: L \\qquad\\quad\\:\\:\\,  E$\n",
    "\n",
    "$[L, S, E] :  [1,1,8] \\rightarrow [1,0,8]\\rightarrow[1,0,7]\\rightarrow[1,0,6]\\rightarrow[0,0,6]\\rightarrow[0,0,5]$\n",
    "\n",
    "$\\qquad\\qquad \\quad\\quad\\:\\:\\frac{1}{10} \\qquad\\quad\\:\\frac{8}{9} \\qquad\\quad\\:\\: \\frac{7}{8} \\qquad\\quad\\:\\: \\frac{1}{7} \\qquad\\quad\\:\\: 1$\n",
    "<br><br>\n",
    "\n",
    "die Multiplikation der Wahrscheinlichkeiten ergibt &nbsp;&nbsp; \n",
    "$\\frac{1}{10} \\cdot \\frac{8}{9} \\cdot\\frac{7}{8} \\cdot\\frac{1}{7} \\cdot 1 = \\frac{1}{90}$\n",
    "<br><br>"
   ]
  },
  {
   "cell_type": "markdown",
   "metadata": {},
   "source": [
    "### Aufgabe 17\n",
    "Faschingskrapfen werden manchmal aus Jux mit Senf gefüllt. In einem Korb liegen zehn<br> Krapfen, von \n",
    "denen zwei mit Senf ($s$) gefüllt sind, die anderen acht mit Marmelade ($m$).<br>Äußerlich lassen sich die\n",
    "Krapfen nicht unterscheiden.<br>\n",
    "Ein Faschingsnarr greift zweimal hintereinander in den Korb und holt jeweils (ohne Zurück-<br>legen)\n",
    "einen Krapfen heraus.\n",
    "\n",
    "a)  Zeichnen Sie zu diesem Zufallsexperiment ein Baumdiagramm und bestimmen Sie <br>\n",
    "&nbsp;&nbsp;&nbsp;&nbsp;daraus die Wahrscheinlichkeit der Ereignisse\n",
    "\n",
    "&nbsp;&nbsp;&nbsp;&nbsp;&nbsp;&nbsp;&nbsp;&nbsp;$A$ = \"Beide Krapfen sind mit Senf gefüllt\"<br>\n",
    "&nbsp;&nbsp;&nbsp;&nbsp;&nbsp;&nbsp;&nbsp;&nbsp;$B$ = \"Mindestens ein Krapfen ist mit Senf gefüllt\"\n",
    "\n",
    "b)  Formulieren Sie das Ereignis $\\overline{A} \\cap \\overline{B}\\,$ in Worten und geben Sie dessen Wahrscheinlichkeit an\n",
    "\n",
    "c)  Alle Krapfen mögen wieder in obiger Zusammensetzung im Korb liegen. Es werden fünf<br>\n",
    "&nbsp;&nbsp;&nbsp;&nbsp;Krapfen (ohne Zurücklegen) gezogen. Mit welcher Wahrscheinlichkeit  \n",
    "\n",
    "\n",
    "&nbsp;&nbsp;&nbsp;&nbsp;&nbsp;&nbsp;&nbsp;&nbsp;(1)  sind der zweite und der fünfte die mit Senf gefüllten Krapfen<br>\n",
    "&nbsp;&nbsp;&nbsp;&nbsp;&nbsp;&nbsp;&nbsp;&nbsp;(2)  ist nur einer mit Senf gefüllt?"
   ]
  },
  {
   "cell_type": "markdown",
   "metadata": {},
   "source": [
    "### Zu a)"
   ]
  },
  {
   "cell_type": "code",
   "execution_count": 18,
   "metadata": {
    "collapsed": false
   },
   "outputs": [],
   "source": [
    "u = Urne( { s:2, m:8 }, 2, w=nein )"
   ]
  },
  {
   "cell_type": "code",
   "execution_count": 19,
   "metadata": {
    "collapsed": false
   },
   "outputs": [
    {
     "data": {
      "image/png": "[encoded data removed]",
      "text/plain": [
       "<matplotlib.figure.Figure at 0x18e0e50>"
      ]
     },
     "metadata": {},
     "output_type": "display_data"
    }
   ],
   "source": [
    "u.baum"
   ]
  },
  {
   "cell_type": "code",
   "execution_count": 20,
   "metadata": {
    "collapsed": false
   },
   "outputs": [
    {
     "data": {
      "text/latex": [
       "$$\\left ( \\left\\{ss\\right\\}, \\quad \\left\\{ms, sm, ss\\right\\}\\right )$$"
      ],
      "text/plain": [
       "(set([ss]), set([ms, sm, ss]))"
      ]
     },
     "execution_count": 20,
     "metadata": {},
     "output_type": "execute_result"
    }
   ],
   "source": [
    "ss, sm, ms, mm = symbols('ss sm ms mm')\n",
    "\n",
    "A = {ss}; B = {sm, ms, ss}; A, B   # die beiden Ereignisse"
   ]
  },
  {
   "cell_type": "code",
   "execution_count": 21,
   "metadata": {
    "collapsed": false
   },
   "outputs": [
    {
     "data": {
      "text/latex": [
       "$$\\left ( \\frac{1}{45}, \\quad \\frac{17}{45}\\right )$$"
      ],
      "text/plain": [
       "⎛      17⎞\n",
       "⎜1/45, ──⎟\n",
       "⎝      45⎠"
      ]
     },
     "execution_count": 21,
     "metadata": {},
     "output_type": "execute_result"
    }
   ],
   "source": [
    "u.P(A), u.P(B)"
   ]
  },
  {
   "cell_type": "markdown",
   "metadata": {},
   "source": [
    "oder wieder mit einer Zufallsgröße"
   ]
  },
  {
   "cell_type": "code",
   "execution_count": 22,
   "metadata": {
    "collapsed": false
   },
   "outputs": [
    {
     "name": "stdout",
     "output_type": "stream",
     "text": [
      "Erzeugung eines ZufallsGroesse-Objektes\n"
     ]
    }
   ],
   "source": [
    "u1 = Urne( { s:2, m:8 }, 2, w=nein, f=anzahl(s) )"
   ]
  },
  {
   "cell_type": "code",
   "execution_count": 23,
   "metadata": {
    "collapsed": false
   },
   "outputs": [
    {
     "data": {
      "text/latex": [
       "$$\\left ( \\frac{1}{45}, \\quad \\frac{17}{45}\\right )$$"
      ],
      "text/plain": [
       "⎛      17⎞\n",
       "⎜1/45, ──⎟\n",
       "⎝      45⎠"
      ]
     },
     "execution_count": 23,
     "metadata": {},
     "output_type": "execute_result"
    }
   ],
   "source": [
    "pA = u1.P(2); pB = u1.P(X >= 1); pA, pB"
   ]
  },
  {
   "cell_type": "markdown",
   "metadata": {},
   "source": [
    "### Zu b)"
   ]
  },
  {
   "cell_type": "code",
   "execution_count": 24,
   "metadata": {
    "collapsed": false
   },
   "outputs": [
    {
     "data": {
      "text/latex": [
       "$$\\left\\{mm, ms, sm, ss\\right\\}$$"
      ],
      "text/plain": [
       "set([mm, ms, sm, ss])"
      ]
     },
     "execution_count": 24,
     "metadata": {},
     "output_type": "execute_result"
    }
   ],
   "source": [
    "u.omega"
   ]
  },
  {
   "cell_type": "code",
   "execution_count": 25,
   "metadata": {
    "collapsed": false
   },
   "outputs": [
    {
     "data": {
      "text/latex": [
       "$$\\left\\{mm\\right\\}$$"
      ],
      "text/plain": [
       "set([mm])"
      ]
     },
     "execution_count": 25,
     "metadata": {},
     "output_type": "execute_result"
    }
   ],
   "source": [
    "ea = EA(u.omega)\n",
    "\n",
    "ea.berechnen(A, B, 'nicht A und nicht B')\n"
   ]
  },
  {
   "cell_type": "markdown",
   "metadata": {},
   "source": [
    "Ergebnis ist  \"Es wird zweimal ein Krapfen mit Marmelade gezogen\""
   ]
  },
  {
   "cell_type": "code",
   "execution_count": 26,
   "metadata": {
    "collapsed": false
   },
   "outputs": [
    {
     "data": {
      "text/latex": [
       "$$\\frac{28}{45}$$"
      ],
      "text/plain": [
       "28\n",
       "──\n",
       "45"
      ]
     },
     "execution_count": 26,
     "metadata": {},
     "output_type": "execute_result"
    }
   ],
   "source": [
    "u.P(mm)"
   ]
  },
  {
   "cell_type": "markdown",
   "metadata": {},
   "source": [
    "### Zu c)"
   ]
  },
  {
   "cell_type": "code",
   "execution_count": 27,
   "metadata": {
    "collapsed": true
   },
   "outputs": [],
   "source": [
    "uc = Urne( { s:2, m:8 }, 5, w=nein )"
   ]
  },
  {
   "cell_type": "code",
   "execution_count": 28,
   "metadata": {
    "collapsed": false
   },
   "outputs": [
    {
     "data": {
      "text/latex": [
       "$$\\frac{1}{45}$$"
      ],
      "text/plain": [
       "1/45"
      ]
     },
     "execution_count": 28,
     "metadata": {},
     "output_type": "execute_result"
    }
   ],
   "source": [
    "uc.P('msmms')   # Ergebnis zu (1)"
   ]
  },
  {
   "cell_type": "code",
   "execution_count": 29,
   "metadata": {
    "collapsed": false
   },
   "outputs": [
    {
     "data": {
      "text/latex": [
       "$$\\frac{5}{9}$$"
      ],
      "text/plain": [
       "5/9"
      ]
     },
     "execution_count": 29,
     "metadata": {},
     "output_type": "execute_result"
    }
   ],
   "source": [
    "uc.P(['smmmm', 'msmmm', 'mmsmm', 'mmmsm', 'mmmms'])   # Ergebnis zu (2)"
   ]
  },
  {
   "cell_type": "markdown",
   "metadata": {},
   "source": [
    "oder Erhalten des Ergebnisses zu (2) mit einer Zufallsgröße"
   ]
  },
  {
   "cell_type": "code",
   "execution_count": 30,
   "metadata": {
    "collapsed": false
   },
   "outputs": [
    {
     "name": "stdout",
     "output_type": "stream",
     "text": [
      "Erzeugung eines ZufallsGroesse-Objektes\n"
     ]
    },
    {
     "data": {
      "text/latex": [
       "$$\\frac{5}{9}$$"
      ],
      "text/plain": [
       "5/9"
      ]
     },
     "execution_count": 30,
     "metadata": {},
     "output_type": "execute_result"
    }
   ],
   "source": [
    "zg = Urne( { s:2, m:8 }, 5, w=nein, f=anzahl(s) )\n",
    "\n",
    "zg.P(1)"
   ]
  },
  {
   "cell_type": "markdown",
   "metadata": {},
   "source": [
    "### Aufgabe 18\n",
    "In einer Schale liegen 20 Bonbons, acht mit Erdbeer-, acht mit Zitronen- und vier<br>\n",
    "mit Kirschgeschmack. Da sie mit dem jeweils gleichen Papier eingewickelt sind, kann<br>\n",
    "man sie nicht unterscheiden. Der Fruchtgeschmack wird dadurch festgestellt, dass <br>\n",
    "man das Bonbon isst\n",
    "<br>\n",
    "<br>\n",
    "a)  Jemand isst drei Bonbons hintereinander\n",
    "<br><br>\n",
    "&nbsp;&nbsp;&nbsp;&nbsp;&nbsp;&nbsp;&nbsp;&nbsp;(1)  Geben Sie die Ereignisse  $A$: \"Jeder Geschmack ist vertreten\" und  $B$: \"Minde-<br>\n",
    "&nbsp;&nbsp;&nbsp;&nbsp;&nbsp;&nbsp;&nbsp;&nbsp;&nbsp;&nbsp;&nbsp;&nbsp; stens zwei Bonbons sind mit Kirschgeschmack\" als Teilmengen von $\\Omega\\,$ an und \n",
    "<br>&nbsp;&nbsp;&nbsp;&nbsp;&nbsp;&nbsp;&nbsp;&nbsp;&nbsp;&nbsp;&nbsp;&nbsp;\n",
    "berechnen Sie $P(A)$ und $P(B)$ \n",
    "<br>\n",
    "&nbsp;&nbsp;&nbsp;&nbsp;&nbsp;&nbsp;&nbsp;&nbsp;(2) Formulieren Sie das Ereignis $\\overline{B}\\,$ in Worten und berechnen Sie $P(\\overline{B})\\,$\n",
    "\n",
    "b)  Jemand isst fünf Bonbons so, dass er jeweils, wenn er ein Bonbon aus der Schale <br>\n",
    "&nbsp;&nbsp;&nbsp;&nbsp;nimmt, eines mit Kirschgeschmack in die Schale gibt.\n",
    "<br>\n",
    "&nbsp;&nbsp;&nbsp;&nbsp;Berechnen Sie die Wahrscheinlichkeit des Elementarereignisses $\\,C = \\{ ZEKKE \\}$\n",
    "<br>"
   ]
  },
  {
   "cell_type": "markdown",
   "metadata": {},
   "source": [
    "### Zu a)"
   ]
  },
  {
   "cell_type": "code",
   "execution_count": 31,
   "metadata": {
    "collapsed": false
   },
   "outputs": [
    {
     "data": {
      "text/latex": [
       "$$\\left ( E, \\quad K, \\quad Z\\right )$$"
      ],
      "text/plain": [
       "(E, K, Z)"
      ]
     },
     "execution_count": 31,
     "metadata": {},
     "output_type": "execute_result"
    }
   ],
   "source": [
    "E = Symbol('E')\n",
    "E, K, Z   # 3 Symbole"
   ]
  },
  {
   "cell_type": "code",
   "execution_count": 32,
   "metadata": {
    "collapsed": false
   },
   "outputs": [],
   "source": [
    "u = Urne( { E:8, Z:8, K:4 }, 3, w=ohne )"
   ]
  },
  {
   "cell_type": "code",
   "execution_count": 33,
   "metadata": {
    "collapsed": false
   },
   "outputs": [
    {
     "data": {
      "text/latex": [
       "$$\\left\\{EEE, EEK, EEZ, EKE, EKK, EKZ, EZE, EZK, EZZ, KEE, KEK, KEZ, KKE, KKK, KKZ, KZE, KZK, KZZ, ZEE, ZEK, ZEZ, ZKE, ZKK, ZKZ, ZZE, ZZK, ZZZ\\right\\}$$"
      ],
      "text/plain": [
       "set([EEE, EEK, EEZ, EKE, EKK, EKZ, EZE, EZK, EZZ, KEE, KEK, KEZ, KKE, KKK, KKZ\n",
       ", KZE, KZK, KZZ, ZEE, ZEK, ZEZ, ZKE, ZKK, ZKZ, ZZE, ZZK, ZZZ])"
      ]
     },
     "execution_count": 33,
     "metadata": {},
     "output_type": "execute_result"
    }
   ],
   "source": [
    "u.omega"
   ]
  },
  {
   "cell_type": "code",
   "execution_count": 34,
   "metadata": {
    "collapsed": false
   },
   "outputs": [
    {
     "data": {
      "text/latex": [
       "$$\\left\\{EKZ, EZK, KEZ, KZE, ZEK, ZKE\\right\\}$$"
      ],
      "text/plain": [
       "set([EKZ, EZK, KEZ, KZE, ZEK, ZKE])"
      ]
     },
     "execution_count": 34,
     "metadata": {},
     "output_type": "execute_result"
    }
   ],
   "source": [
    "A = { *symbols('EZK, EKZ, ZEK, ZKE, KEZ, KZE') }; A   # * packt die Elemente des Tupels aus"
   ]
  },
  {
   "cell_type": "code",
   "execution_count": 35,
   "metadata": {
    "collapsed": false
   },
   "outputs": [
    {
     "data": {
      "text/latex": [
       "$$\\left\\{EKK, KEK, KKE, KKK, KKZ, KZK, ZKK\\right\\}$$"
      ],
      "text/plain": [
       "set([EKK, KEK, KKE, KKK, KKZ, KZK, ZKK])"
      ]
     },
     "execution_count": 35,
     "metadata": {},
     "output_type": "execute_result"
    }
   ],
   "source": [
    "B = { *symbols('KKE, KKZ, KEK, KZK, EKK, ZKK, KKK') }; B"
   ]
  },
  {
   "cell_type": "code",
   "execution_count": 36,
   "metadata": {
    "collapsed": false
   },
   "outputs": [
    {
     "data": {
      "text/latex": [
       "$$\\left ( \\frac{64}{285}, \\quad 0.2246\\right )$$"
      ],
      "text/plain": [
       "⎛ 64        ⎞\n",
       "⎜───, 0.2246⎟\n",
       "⎝285        ⎠"
      ]
     },
     "execution_count": 36,
     "metadata": {},
     "output_type": "execute_result"
    }
   ],
   "source": [
    "u.P(A), u.P(A, d=4)   # Ergebnis zu (1)"
   ]
  },
  {
   "cell_type": "code",
   "execution_count": 37,
   "metadata": {
    "collapsed": false
   },
   "outputs": [
    {
     "data": {
      "text/latex": [
       "$$\\left ( \\frac{5}{57}, \\quad 0.0877\\right )$$"
      ],
      "text/plain": [
       "(5/57, 0.0877)"
      ]
     },
     "execution_count": 37,
     "metadata": {},
     "output_type": "execute_result"
    }
   ],
   "source": [
    "u.P(B), u.P(B, d=4)   # ebenso"
   ]
  },
  {
   "cell_type": "markdown",
   "metadata": {},
   "source": [
    "$\\overline{B}$ = \"Höchstens ein Bonbon ist mit Kirschgeschmack\""
   ]
  },
  {
   "cell_type": "code",
   "execution_count": 38,
   "metadata": {
    "collapsed": false
   },
   "outputs": [
    {
     "data": {
      "text/latex": [
       "$$\\left\\{EEE, EEK, EEZ, EKE, EKZ, EZE, EZK, EZZ, KEE, KEZ, KZE, KZZ, ZEE, ZEK, ZEZ, ZKE, ZKZ, ZZE, ZZK, ZZZ\\right\\}$$"
      ],
      "text/plain": [
       "set([EEE, EEK, EEZ, EKE, EKZ, EZE, EZK, EZZ, KEE, KEZ, KZE, KZZ, ZEE, ZEK, ZEZ\n",
       ", ZKE, ZKZ, ZZE, ZZK, ZZZ])"
      ]
     },
     "execution_count": 38,
     "metadata": {},
     "output_type": "execute_result"
    }
   ],
   "source": [
    "ea = EA(u.omega)\n",
    "nichtB = ea.berechnen(A, B, 'nicht B')\n",
    "\n",
    "nichtB"
   ]
  },
  {
   "cell_type": "code",
   "execution_count": 39,
   "metadata": {
    "collapsed": false
   },
   "outputs": [
    {
     "data": {
      "text/latex": [
       "$$\\left ( \\frac{52}{57}, \\quad \\frac{52}{57}\\right )$$"
      ],
      "text/plain": [
       "⎛52  52⎞\n",
       "⎜──, ──⎟\n",
       "⎝57  57⎠"
      ]
     },
     "execution_count": 39,
     "metadata": {},
     "output_type": "execute_result"
    }
   ],
   "source": [
    "u.P(nichtB), 1 - u.P(B)   # Ergebnis zu (2)"
   ]
  },
  {
   "cell_type": "markdown",
   "metadata": {},
   "source": [
    "### Zu b)\n",
    "Das folgende Schema zeigt den Prozess, in den Klammern steht der Inhalt der Urne,<br>\n",
    "unten stehen die entsprechenden Wahrscheinlichkeiten\n",
    "\n",
    "$\\qquad\\qquad \\quad\\quad\\:\\:\\:Z \\qquad\\quad\\:\\:\\:E \\qquad\\quad\\:\\: K \\qquad\\quad\\: K \\qquad\\quad\\,  E$\n",
    "\n",
    "$[E, Z, K] :  [8,8,4] \\rightarrow [8,7,5]\\rightarrow[7,7,6]\\rightarrow[7,7,6]\\rightarrow[7,7,6]\\rightarrow[6,7,6]$\n",
    "\n",
    "$\\qquad\\qquad \\quad\\quad\\:\\:\\,\\frac{8}{20} \\qquad\\quad\\,\\frac{8}{20} \\qquad\\quad \\frac{6}{20} \\qquad\\quad \\frac{6}{20} \\qquad\\quad\\,\\frac{7}{20}$\n",
    "<br><br>\n",
    "die Multiplikation der Wahrscheinlichkeiten ergibt &nbsp;&nbsp; \n",
    "$\\frac{8}{20} \\cdot \\frac{8}{20} \\cdot\\frac{6}{20} \\cdot\\frac{6}{20} \\cdot \\frac{7}{20} = \\frac{63}{12500} = 0.00504$\n",
    "<br><br>"
   ]
  },
  {
   "cell_type": "code",
   "execution_count": null,
   "metadata": {
    "collapsed": true
   },
   "outputs": [],
   "source": []
  }
 ],
 "metadata": {
  "anaconda-cloud": {},
  "kernelspec": {
   "display_name": "Python [default]",
   "language": "python",
   "name": "python3"
  },
  "language_info": {
   "codemirror_mode": {
    "name": "ipython",
    "version": 3
   },
   "file_extension": ".py",
   "mimetype": "text/x-python",
   "name": "python",
   "nbconvert_exporter": "python",
   "pygments_lexer": "ipython3",
   "version": "3.5.2"
  }
 },
 "nbformat": 4,
 "nbformat_minor": 0
}
