{
 "cells": [
  {
   "cell_type": "markdown",
   "metadata": {},
   "source": [
    "# Materialien zu <i>zufall</i>\n",
    "\n",
    "Autor: Holger Böttcher - hbomat@posteo.de\n",
    "\n",
    "## Aufgaben 8 - Wahrscheinlichkeiten der Binomial-<br>verteilung\n",
    "<br><br>"
   ]
  },
  {
   "cell_type": "code",
   "execution_count": 1,
   "metadata": {
    "collapsed": false
   },
   "outputs": [],
   "source": [
    "%run zufall/start"
   ]
  },
  {
   "cell_type": "markdown",
   "metadata": {},
   "source": [
    "### Beispiele zur Berechnung\n",
    "<i>Bei der Verwendung von zufall können die Wahrscheinlichkeiten der Binomial-<br>\n",
    "verteilung immer exakt (als rationale Zahlen) berechnet werden</i> \n",
    "<br><br>\n",
    "Gegeben sei die Verteilung\n",
    "</div>"
   ]
  },
  {
   "cell_type": "code",
   "execution_count": 2,
   "metadata": {
    "collapsed": false
   },
   "outputs": [],
   "source": [
    "bv = BV(50, 0.3)"
   ]
  },
  {
   "cell_type": "markdown",
   "metadata": {},
   "source": [
    "Für eine leichtere Schreibweise wird die der $P$-Methode von $bv$ temporär umbenannt"
   ]
  },
  {
   "cell_type": "code",
   "execution_count": 3,
   "metadata": {
    "collapsed": true
   },
   "outputs": [],
   "source": [
    "P = bv.P"
   ]
  },
  {
   "cell_type": "markdown",
   "metadata": {},
   "source": [
    "Berechnung von Wahrscheinlichkeiten "
   ]
  },
  {
   "cell_type": "code",
   "execution_count": 8,
   "metadata": {
    "collapsed": false
   },
   "outputs": [
    {
     "data": {
      "text/latex": [
       "$$\\left ( \\frac{6405457976272296933117425178499025258105735307}{500000000000000000000000000000000000000000000000}, \\quad 0.0128\\right )$$"
      ],
      "text/plain": [
       "⎛ 6405457976272296933117425178499025258105735307         ⎞\n",
       "⎜────────────────────────────────────────────────, 0.0128⎟\n",
       "⎝500000000000000000000000000000000000000000000000        ⎠"
      ]
     },
     "execution_count": 8,
     "metadata": {},
     "output_type": "execute_result"
    }
   ],
   "source": [
    "P(22), P(22, d=4)   # W. für ein Elementarereignis"
   ]
  },
  {
   "cell_type": "code",
   "execution_count": 9,
   "metadata": {
    "collapsed": false
   },
   "outputs": [
    {
     "data": {
      "text/latex": [
       "$$\\frac{130820253983903689893135559302140252321046769797}{6250000000000000000000000000000000000000000000000}$$"
      ],
      "text/plain": [
       " 130820253983903689893135559302140252321046769797\n",
       "─────────────────────────────────────────────────\n",
       "6250000000000000000000000000000000000000000000000"
      ]
     },
     "execution_count": 9,
     "metadata": {},
     "output_type": "execute_result"
    }
   ],
   "source": [
    "P([22, 23, 25])   # W. für ein (zusammengesetztes) Ereignis"
   ]
  },
  {
   "cell_type": "code",
   "execution_count": 10,
   "metadata": {
    "collapsed": false
   },
   "outputs": [
    {
     "data": {
      "text/latex": [
       "$$\\frac{130820253983903689893135559302140252321046769797}{6250000000000000000000000000000000000000000000000}$$"
      ],
      "text/plain": [
       " 130820253983903689893135559302140252321046769797\n",
       "─────────────────────────────────────────────────\n",
       "6250000000000000000000000000000000000000000000000"
      ]
     },
     "execution_count": 10,
     "metadata": {},
     "output_type": "execute_result"
    }
   ],
   "source": [
    "P(22) + P(23) + P(25)   # Summe der Einzel-W. zum Vergleich"
   ]
  },
  {
   "cell_type": "markdown",
   "metadata": {},
   "source": [
    "<br>\n",
    "Gesucht werde $\\quad  p = P(10 \\le X \\le 20)$\n",
    "<br><br>\n",
    "Es werden Möglichkeiten zur Berechnung der exakten Werte wie auch von Näherungs-<br>\n",
    "werten über die Normalverteilung aufgezeigt\n",
    "<br>"
   ]
  },
  {
   "cell_type": "markdown",
   "metadata": {},
   "source": [
    "### 1. Berechnung exakter Werte"
   ]
  },
  {
   "cell_type": "code",
   "execution_count": 13,
   "metadata": {
    "collapsed": false
   },
   "outputs": [
    {
     "data": {
      "text/latex": [
       "$$\\frac{9120045304402759334967569950009126169627526030399}{10000000000000000000000000000000000000000000000000}$$"
      ],
      "text/plain": [
       "9120045304402759334967569950009126169627526030399 \n",
       "──────────────────────────────────────────────────\n",
       "10000000000000000000000000000000000000000000000000"
      ]
     },
     "execution_count": 13,
     "metadata": {},
     "output_type": "execute_result"
    }
   ],
   "source": [
    "P( '10 <= X <= 20' )    # der exakte Wert"
   ]
  },
  {
   "cell_type": "code",
   "execution_count": 14,
   "metadata": {
    "collapsed": false
   },
   "outputs": [
    {
     "data": {
      "text/latex": [
       "$$0.912005$$"
      ],
      "text/plain": [
       "0.912005"
      ]
     },
     "execution_count": 14,
     "metadata": {},
     "output_type": "execute_result"
    }
   ],
   "source": [
    "P( '10 <= X <= 20', d=6 )   # der exakte Wert im Rahmen der gewählten Genauigkeit"
   ]
  },
  {
   "cell_type": "markdown",
   "metadata": {},
   "source": [
    "### 2. Berechnung mittels der Verteilungsfunktion</b>\n",
    "\n",
    "Diese Berechnungsart wird bei der manuellen Berechnung unter Verwendung einer<br>\n",
    "Tabelle der Binomialverteilung angewendet"
   ]
  },
  {
   "cell_type": "code",
   "execution_count": 27,
   "metadata": {
    "collapsed": true
   },
   "outputs": [],
   "source": [
    "F = bv.F   # Umbenennung, analog zu P"
   ]
  },
  {
   "cell_type": "code",
   "execution_count": 28,
   "metadata": {
    "collapsed": false
   },
   "outputs": [
    {
     "data": {
      "text/latex": [
       "$$\\left ( 0.9522, \\quad 0.0402\\right )$$"
      ],
      "text/plain": [
       "(0.9522, 0.0402)"
      ]
     },
     "execution_count": 28,
     "metadata": {},
     "output_type": "execute_result"
    }
   ],
   "source": [
    "F(20, d=4), F(9, d=4)     # einzelne Werte"
   ]
  },
  {
   "cell_type": "code",
   "execution_count": 29,
   "metadata": {
    "collapsed": false
   },
   "outputs": [
    {
     "data": {
      "text/latex": [
       "$$0.912004530440276$$"
      ],
      "text/plain": [
       "0.912004530440276"
      ]
     },
     "execution_count": 29,
     "metadata": {},
     "output_type": "execute_result"
    }
   ],
   "source": [
    "N(F(20) - F(9))   # ebenfalls ein exakter Wert im Rahmen der gewählten Genauigkeit"
   ]
  },
  {
   "cell_type": "code",
   "execution_count": 30,
   "metadata": {
    "collapsed": false
   },
   "outputs": [
    {
     "data": {
      "text/latex": [
       "$$0.912$$"
      ],
      "text/plain": [
       "0.912"
      ]
     },
     "execution_count": 30,
     "metadata": {},
     "output_type": "execute_result"
    }
   ],
   "source": [
    "F(20, d=4) - F(9, d=4)    # ein ungenauerer Wert, da die Rundung bereits für \n",
    "                                # die Einzelwerte vorgenommen wurde"
   ]
  },
  {
   "cell_type": "markdown",
   "metadata": {},
   "source": [
    "### 3. Berechnung von Näherungswerten mittels der $ \\:(0,1)\\,-\\,$Normalverteilung</b>\n",
    "\n",
    "Diese Berechnungsart wird bei der manuellen Berechnung unter Verwendung einer<br>\n",
    "Tabelle der Normalverteilung angewendet. Die Berechnung \"per Hand\" läuft so ab\n",
    "<br><br>\n",
    "<b>a)</b>  Bestimmung von Erwartungswert, Varianz, Standardabweichung der gegebenen <br>\n",
    "$\\quad$Binomialverteilung"
   ]
  },
  {
   "cell_type": "code",
   "execution_count": 20,
   "metadata": {
    "collapsed": false
   },
   "outputs": [
    {
     "data": {
      "text/latex": [
       "$$\\left ( 15, \\quad \\frac{21}{2}, \\quad \\frac{\\sqrt{42}}{2}\\right )$$"
      ],
      "text/plain": [
       "⎛          √42⎞\n",
       "⎜15, 21/2, ───⎟\n",
       "⎝           2 ⎠"
      ]
     },
     "execution_count": 20,
     "metadata": {},
     "output_type": "execute_result"
    }
   ],
   "source": [
    "bv.erw,   bv.var,   bv.sigma"
   ]
  },
  {
   "cell_type": "code",
   "execution_count": 23,
   "metadata": {
    "collapsed": false
   },
   "outputs": [
    {
     "data": {
      "text/latex": [
       "$$\\left ( 15, \\quad 10.5, \\quad 3.2404\\right )$$"
      ],
      "text/plain": [
       "(15, 10.5, 3.2404)"
      ]
     },
     "execution_count": 23,
     "metadata": {},
     "output_type": "execute_result"
    }
   ],
   "source": [
    "bv.erw,   bv.var_(d=4),   bv.sigma_(d=4)"
   ]
  },
  {
   "cell_type": "markdown",
   "metadata": {},
   "source": [
    "<b>b)</b>  Untersuchung der Anwendbarkeit der Approximation durch die Normalverteilung "
   ]
  },
  {
   "cell_type": "code",
   "execution_count": 24,
   "metadata": {
    "collapsed": false
   },
   "outputs": [
    {
     "name": "stdout",
     "output_type": "stream",
     "text": [
      " \n"
     ]
    },
    {
     "data": {
      "text/latex": [
       "$$\\mathrm{Moivre-Laplace-Bedingung\\;für\\; Approximation\\; durch\\; die\\;Normalverteilung\\; }$$"
      ],
      "text/plain": [
       "<IPython.core.display.Math object>"
      ]
     },
     "metadata": {},
     "output_type": "display_data"
    },
    {
     "data": {
      "text/latex": [
       "$$\\mathrm{ist\\;erfüllt}$$"
      ],
      "text/plain": [
       "<IPython.core.display.Math object>"
      ]
     },
     "metadata": {},
     "output_type": "display_data"
    },
    {
     "data": {
      "text/latex": [
       "$$\\sigma^2 = n\\,p\\, (1-p) \\gt 9 \\quad\\text{(gefordert)}$$"
      ],
      "text/plain": [
       "<IPython.core.display.Math object>"
      ]
     },
     "metadata": {},
     "output_type": "display_data"
    },
    {
     "data": {
      "text/latex": [
       "$$\\sigma^2 = 10.5$$"
      ],
      "text/plain": [
       "<IPython.core.display.Math object>"
      ]
     },
     "metadata": {},
     "output_type": "display_data"
    },
    {
     "data": {
      "text/latex": [
       "$$\\mathrm{Bedingung\\; für\\; Approximation\\; durch\\; die\\;Poissonverteilung\\;} \\mathrm{ist\\;nicht\\;erfüllt}$$"
      ],
      "text/plain": [
       "<IPython.core.display.Math object>"
      ]
     },
     "metadata": {},
     "output_type": "display_data"
    },
    {
     "data": {
      "text/latex": [
       "$$n \\ge 100 , \\quad p \\le 0.1\\quad\\text{(gefordert)}$$"
      ],
      "text/plain": [
       "<IPython.core.display.Math object>"
      ]
     },
     "metadata": {},
     "output_type": "display_data"
    },
    {
     "data": {
      "text/latex": [
       "$$n = 50, \\quad p = 0.3$$"
      ],
      "text/plain": [
       "<IPython.core.display.Math object>"
      ]
     },
     "metadata": {},
     "output_type": "display_data"
    }
   ],
   "source": [
    "bv.faust_regel"
   ]
  },
  {
   "cell_type": "markdown",
   "metadata": {},
   "source": [
    "<b>c)</b> Standardisierung und Ermittlung der Grenzen des Intervalls für die <br>\n",
    "&nbsp;&nbsp;&nbsp;$\\,(0, \\:1)\\,-\\,$Normalverteilung; hier wurde die Stetigkeitskorrektur beachtet"
   ]
  },
  {
   "cell_type": "code",
   "execution_count": 31,
   "metadata": {
    "collapsed": true
   },
   "outputs": [],
   "source": [
    "z = lambda x: N((x-bv.erw) / bv.sigma)"
   ]
  },
  {
   "cell_type": "code",
   "execution_count": 32,
   "metadata": {
    "collapsed": false
   },
   "outputs": [
    {
     "data": {
      "text/latex": [
       "$$\\left ( -1.69733684958301, \\quad 1.69733684958301\\right )$$"
      ],
      "text/plain": [
       "(-1.69733684958301, 1.69733684958301)"
      ]
     },
     "execution_count": 32,
     "metadata": {},
     "output_type": "execute_result"
    }
   ],
   "source": [
    "z(9.5), z(20.5)"
   ]
  },
  {
   "cell_type": "markdown",
   "metadata": {},
   "source": [
    "<b>d)</b>  Entnahme von Werten aus der Tabelle (hier reicht zufällig ein Wert aus)\n",
    "<br><br>\n",
    "Aus der Tabelle wird für $x = 1.7$ der Wert  $0.4554$ entnommen, dieser ist zu verdop-<br>\n",
    "peln, die gesuchte Wahrscheinlichkeit ist $p = 0.9108$"
   ]
  },
  {
   "cell_type": "markdown",
   "metadata": {},
   "source": [
    "Der \"genau\" berechnete, über die Normalverteilung ermittelbare Wert ist"
   ]
  },
  {
   "cell_type": "code",
   "execution_count": 16,
   "metadata": {
    "collapsed": false
   },
   "outputs": [
    {
     "data": {
      "text/latex": [
       "$$0.9103670057321107$$"
      ],
      "text/plain": [
       "0.9103670057321107"
      ]
     },
     "execution_count": 16,
     "metadata": {},
     "output_type": "execute_result"
    }
   ],
   "source": [
    "NV(0,1).P( '-1.69733684958301 < X < 1.69733684958301' )"
   ]
  },
  {
   "cell_type": "markdown",
   "metadata": {},
   "source": [
    "### 4. Berechnung von Näherungswerten mittels der Eigenschaft $nv$_$approx$\n",
    "\n",
    "Die Approximation der gegebenen Binomialverteilung durch eine Normalvertei-<br>\n",
    "lung ist"
   ]
  },
  {
   "cell_type": "code",
   "execution_count": 4,
   "metadata": {
    "collapsed": false
   },
   "outputs": [
    {
     "data": {
      "text/latex": [
       "$$NormalVerteilung\\left(15,\\;\\frac{\\sqrt{42}}{2}\\right)$$"
      ],
      "text/plain": [
       "NormalVerteilung\\left(15,\\;\\frac{\\sqrt{42}}{2}\\right)"
      ]
     },
     "execution_count": 4,
     "metadata": {},
     "output_type": "execute_result"
    }
   ],
   "source": [
    "nv = bv.nv_approx; nv"
   ]
  },
  {
   "cell_type": "markdown",
   "metadata": {},
   "source": [
    "also eine NormalVerteilung, deren Parameter sich aus Erwartungswert\n",
    "und Varianz <br>der Binomialverteilung ergeben"
   ]
  },
  {
   "cell_type": "markdown",
   "metadata": {},
   "source": [
    "Die Berechnung der gesuchten Wahrscheinlichkeit ergibt (fast( den gleichen Wert <br>\n",
    "wie bei Verwendung der $(0,1)$-Normalverteilung\n",
    "\n",
    "(Auch hier muss die Faustregel zur Entscheidung über die Verwendbarkeit der <br>\n",
    "Näherung herangezogen werden)"
   ]
  },
  {
   "cell_type": "code",
   "execution_count": 5,
   "metadata": {
    "collapsed": false
   },
   "outputs": [
    {
     "data": {
      "text/latex": [
       "$$0.9103670057321109$$"
      ],
      "text/plain": [
       "0.9103670057321109"
      ]
     },
     "execution_count": 5,
     "metadata": {},
     "output_type": "execute_result"
    }
   ],
   "source": [
    "nv.P( '9.5 < X < 20.5' )    "
   ]
  },
  {
   "cell_type": "markdown",
   "metadata": {},
   "source": [
    "Der visuelle Vergleich der Binomialverteilung mit mit ihrer $NV$-Näherung <br>\n",
    "ist mittels der $hist$-Eigenschaft möglich"
   ]
  },
  {
   "cell_type": "code",
   "execution_count": 9,
   "metadata": {
    "collapsed": false
   },
   "outputs": [
    {
     "name": "stdout",
     "output_type": "stream",
     "text": [
      " \n"
     ]
    },
    {
     "data": {
      "image/png": "[encoded data removed]",
      "text/plain": [
       "<matplotlib.figure.Figure at 0xd22f850>"
      ]
     },
     "metadata": {},
     "output_type": "display_data"
    }
   ],
   "source": [
    "bv.hist_(bv.nv_approx)"
   ]
  },
  {
   "cell_type": "markdown",
   "metadata": {},
   "source": [
    "Durch Verschieben entlang der $x$-Achse kann die Grafik besser eingepaßt <br>werden\n",
    "(der Verschiebe-Paramter -1 wurde hier durch Probieren ermittelt)"
   ]
  },
  {
   "cell_type": "code",
   "execution_count": 7,
   "metadata": {
    "collapsed": false
   },
   "outputs": [
    {
     "name": "stdout",
     "output_type": "stream",
     "text": [
      " \n"
     ]
    },
    {
     "data": {
      "image/png": "[encoded data removed]",
      "text/plain": [
       "<matplotlib.figure.Figure at 0xcdd12d0>"
      ]
     },
     "metadata": {},
     "output_type": "display_data"
    }
   ],
   "source": [
    "bv.hist_(NV(bv.nv_approx.erw + 1, bv.nv_approx.sigma))"
   ]
  },
  {
   "cell_type": "code",
   "execution_count": null,
   "metadata": {
    "collapsed": true
   },
   "outputs": [],
   "source": []
  }
 ],
 "metadata": {
  "anaconda-cloud": {},
  "kernelspec": {
   "display_name": "Python [default]",
   "language": "python",
   "name": "python3"
  },
  "language_info": {
   "codemirror_mode": {
    "name": "ipython",
    "version": 3
   },
   "file_extension": ".py",
   "mimetype": "text/x-python",
   "name": "python",
   "nbconvert_exporter": "python",
   "pygments_lexer": "ipython3",
   "version": "3.5.2"
  }
 },
 "nbformat": 4,
 "nbformat_minor": 0
}
