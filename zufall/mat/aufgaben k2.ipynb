{
 "cells": [
  {
   "cell_type": "markdown",
   "metadata": {},
   "source": [
    "# Materialien zu <i>zufall</i>\n",
    "\n",
    "Autor: Holger Böttcher - hbomat@posteo.de\n",
    "\n",
    "## Aufgaben K2 - Übungsklausur 2"
   ]
  },
  {
   "cell_type": "markdown",
   "metadata": {},
   "source": [
    "<br>\n",
    "<i>Die Aufgabe wurde entnommen aus<br>\n",
    "<br>\n",
    "A. Müller<br>\n",
    "Wahrscheinlichkeitsrechnung und Statistik<br>\n",
    "Grundkurs<br>\n",
    "Stark Verlag 1997<br>\n",
    "S. 70 Klausur 2<br>\n",
    "</i><br>\n",
    "\n",
    "Christine, Susanne sowie vier weitere Freundinnen essen jeden Tag in der Mensa. \n",
    "\n",
    "1.  a)  Bevor sie zur Essensausgabe gehen, suchen sie sich einen runden Tisch für 6<br>\n",
    "$\\quad$Personen aus und reservieren sich einen Platz.<br>\n",
    "$\\quad$Wie viele verschiedene Möglichkeiten der Sitzreihenfolge um den Tisch gibt es?\n",
    "<br><br>\n",
    "b)  Es ist nur ein runder Tisch mit acht Plätzen frei. Wie viele verschiedene Möglich-<br>\n",
    "$\\quad$keiten gibt es, 6 Plätze zu belegen?<br>\n",
    "<br>\n",
    "c)  Vor der Essensausgabe stellen sich die sechs Mädchen in einer Reihe an. Wie vie-<br> \n",
    "$\\quad$le Möglichkeiten des Anstellens gibt es, wenn<br>\n",
    "<br>\n",
    "$\\quad\\quad$(1)  keinerlei Einschränkungen gelten,<br>\n",
    "$\\quad\\quad$(2)  Christine und Susanne immer direkt hintereinander stehen?\n",
    "<br><br> \n",
    "d)  Nach der Auswahl ihrer Menüs gibt es drei Kassen, an denen sie bezahlen können.<br>\n",
    "$\\quad$Auf wie viele verschiedene Arten können sie das tun, wenn<br>\n",
    "<br>\n",
    "$\\quad\\quad$(1)  die Kassen beliebig ausgewählt werden<br>\n",
    "$\\quad\\quad$(2)  Christine und Susanne immer an derselben Kasse zahlen?\n",
    "<br><br>\n",
    "\n",
    "2. Auf der Speisekarte stehen immer drei Hauptgerichte, ein Fleischgericht ($F$), ein<br>\n",
    "$\\,$vegetarisches Gericht ($V$) sowie eine Salatplatte ($S$). Aus Erfahrung weiß man,<br> \n",
    "$\\,$dass $F$ mit einer Wahrscheinlichkeit von 60%, $V$ mit 10% und $S$ mit 30% gewählt <br>\n",
    "$\\,$wird.\n",
    "<br><br>\n",
    "a)  Christine und Susanne wählen heute ihr Hauptgericht auf gut Glück aus. Bestim-<br>\n",
    "$\\quad$men Sie für dieses Zufallsexperiment die Wahrscheinlichkeiten der Ereignisse $A$ =<br>\n",
    "$\\quad$\"Es wird  zweimal das gleiche Hauptgericht gewählt\" und $B$ = \"Es wird mindestens <br>\n",
    "$\\quad$einmal $S$ gewählt\" und überprüfen Sie dann diese Ereignisse auf Unvereinbarkeit\n",
    "<br><br>\n",
    "b)  Auch die restlichen vier Freundinnen wählen ihr Hauptgericht rein zufällig aus.<br>\n",
    "$\\quad$Mit welcher Wahrscheinlichkeit wird dabei\n",
    "<br>         \n",
    "$\\quad\\quad$(1)  genau einmal $S$,<br>\n",
    "$\\quad\\quad$(2)  mindestens einmal $F$,<br>\n",
    "$\\quad\\quad$(3)  viermal $F$,<br>\n",
    "$\\quad\\quad$(4)  höchstens einmal $V$ gewählt?\n",
    "<br><br>\n",
    "c)  Heute kommen sie sehr spät in die Mensa, die nach ihnen geschlossen wird. Susan-<br>\n",
    "$\\quad$ne hat als letzte in der Reihe der Anstehenden noch acht Personen vor sich. Sie<br>\n",
    "$\\quad$sieht, dass an Gerichten nur noch zweimal $S$, zweimal $V$, aber genügend $F$ vorhan-<br> \n",
    "$\\quad$den sind. Sie möchte gerne eine Salatplatte essen, aber auf keinen Fall das Gericht<br>\n",
    "$\\quad V$\n",
    "<br><br>\n",
    "$\\quad$Mit welcher Wahrscheinlichkeit\n",
    "<br><br> \n",
    "$\\quad\\quad$(1)  bekommt Susanne ihre Salatplatte,<br>\n",
    "$\\quad\\quad$(2)  ist das Gericht $V$ am Ende ausverkauft?\n",
    "<br><br>"
   ]
  },
  {
   "cell_type": "code",
   "execution_count": 1,
   "metadata": {
    "collapsed": false
   },
   "outputs": [],
   "source": [
    "%run zufall/start"
   ]
  },
  {
   "cell_type": "markdown",
   "metadata": {
    "collapsed": true
   },
   "source": [
    "### Zu 1."
   ]
  },
  {
   "cell_type": "markdown",
   "metadata": {},
   "source": [
    "### a)"
   ]
  },
  {
   "cell_type": "code",
   "execution_count": 2,
   "metadata": {
    "collapsed": false
   },
   "outputs": [
    {
     "data": {
      "text/latex": [
       "$$120$$"
      ],
      "text/plain": [
       "120"
      ]
     },
     "execution_count": 2,
     "metadata": {},
     "output_type": "execute_result"
    }
   ],
   "source": [
    "permutationen(6) / 6"
   ]
  },
  {
   "cell_type": "markdown",
   "metadata": {},
   "source": [
    "### b)"
   ]
  },
  {
   "cell_type": "code",
   "execution_count": 3,
   "metadata": {
    "collapsed": false
   },
   "outputs": [
    {
     "data": {
      "text/latex": [
       "$$28$$"
      ],
      "text/plain": [
       "28"
      ]
     },
     "execution_count": 3,
     "metadata": {},
     "output_type": "execute_result"
    }
   ],
   "source": [
    "binomial(8, 6)  "
   ]
  },
  {
   "cell_type": "markdown",
   "metadata": {},
   "source": [
    "### c)"
   ]
  },
  {
   "cell_type": "code",
   "execution_count": 4,
   "metadata": {
    "collapsed": false
   },
   "outputs": [
    {
     "data": {
      "text/latex": [
       "$$720$$"
      ],
      "text/plain": [
       "720"
      ]
     },
     "execution_count": 4,
     "metadata": {},
     "output_type": "execute_result"
    }
   ],
   "source": [
    "fakultät(6)      # Ergebnis zu (1))"
   ]
  },
  {
   "cell_type": "markdown",
   "metadata": {
    "collapsed": true
   },
   "source": [
    "Christine und Susanne können auf 2 Arten hintereinanderstehen, das können die <br>\n",
    "Plätze 1-2, 2-3, 3-4, 4-5, 5-6 sein (5 Möglichkeiten), die anderen vier Mädchen<br>\n",
    "besetzen die restlichen Plätze"
   ]
  },
  {
   "cell_type": "code",
   "execution_count": 5,
   "metadata": {
    "collapsed": false
   },
   "outputs": [
    {
     "data": {
      "text/latex": [
       "$$240$$"
      ],
      "text/plain": [
       "240"
      ]
     },
     "execution_count": 5,
     "metadata": {},
     "output_type": "execute_result"
    }
   ],
   "source": [
    "2 * 5 * perm(4)      # Ergebnis zu (2)"
   ]
  },
  {
   "cell_type": "markdown",
   "metadata": {},
   "source": [
    "### d)"
   ]
  },
  {
   "cell_type": "code",
   "execution_count": 6,
   "metadata": {
    "collapsed": false
   },
   "outputs": [
    {
     "data": {
      "text/latex": [
       "$$729$$"
      ],
      "text/plain": [
       "729"
      ]
     },
     "execution_count": 6,
     "metadata": {},
     "output_type": "execute_result"
    }
   ],
   "source": [
    "3^6    # jedes Mädchen kann an eine von 3 Kassen gehen        Ergebnis zu (1)"
   ]
  },
  {
   "cell_type": "code",
   "execution_count": 7,
   "metadata": {
    "collapsed": false
   },
   "outputs": [
    {
     "data": {
      "text/latex": [
       "$$243$$"
      ],
      "text/plain": [
       "243"
      ]
     },
     "execution_count": 7,
     "metadata": {},
     "output_type": "execute_result"
    }
   ],
   "source": [
    "3^5   # Christine und Susanne bilden eine einzige Person          Ergebnis zu (2)"
   ]
  },
  {
   "cell_type": "markdown",
   "metadata": {
    "collapsed": true
   },
   "source": [
    "### Zu 2."
   ]
  },
  {
   "cell_type": "markdown",
   "metadata": {},
   "source": [
    "### a)"
   ]
  },
  {
   "cell_type": "code",
   "execution_count": 8,
   "metadata": {
    "collapsed": true
   },
   "outputs": [],
   "source": [
    "F, V, S = symbols('F V S')\n",
    "ze = ZE( { F:60, V:10, S:30 }, 2)"
   ]
  },
  {
   "cell_type": "code",
   "execution_count": 9,
   "metadata": {
    "collapsed": false
   },
   "outputs": [
    {
     "data": {
      "image/png": "[encoded data removed]",
      "text/plain": [
       "<matplotlib.figure.Figure at 0x7bef890>"
      ]
     },
     "metadata": {},
     "output_type": "display_data"
    }
   ],
   "source": [
    "ze.baum_(p=ja)"
   ]
  },
  {
   "cell_type": "markdown",
   "metadata": {},
   "source": [
    "Die Wahrscheinlichkiten können anhand dieses Baumdiagrammes oder direkt berech-<br>\n",
    "net werden"
   ]
  },
  {
   "cell_type": "code",
   "execution_count": 10,
   "metadata": {
    "collapsed": false
   },
   "outputs": [
    {
     "data": {
      "text/latex": [
       "$$\\left\\{FF, SS, VV\\right\\}$$"
      ],
      "text/plain": [
       "set([FF, SS, VV])"
      ]
     },
     "execution_count": 10,
     "metadata": {},
     "output_type": "execute_result"
    }
   ],
   "source": [
    "FF, VV, SS = symbols('FF, VV, SS')\n",
    "\n",
    "A = { FF, VV, SS }; A                  # oder"
   ]
  },
  {
   "cell_type": "code",
   "execution_count": 11,
   "metadata": {
    "collapsed": false
   },
   "outputs": [
    {
     "data": {
      "text/latex": [
       "$$\\left\\{FF, SS, VV\\right\\}$$"
      ],
      "text/plain": [
       "set([FF, SS, VV])"
      ]
     },
     "execution_count": 11,
     "metadata": {},
     "output_type": "execute_result"
    }
   ],
   "source": [
    "A = { *symbols('FF, VV, SS') }; A"
   ]
  },
  {
   "cell_type": "code",
   "execution_count": 12,
   "metadata": {
    "collapsed": false
   },
   "outputs": [
    {
     "data": {
      "text/latex": [
       "$$46.0$$"
      ],
      "text/plain": [
       "46.0"
      ]
     },
     "execution_count": 12,
     "metadata": {},
     "output_type": "execute_result"
    }
   ],
   "source": [
    " ze.P(A, p=ja)    # Ergebnis zu A"
   ]
  },
  {
   "cell_type": "code",
   "execution_count": 13,
   "metadata": {
    "collapsed": false
   },
   "outputs": [
    {
     "data": {
      "text/latex": [
       "$$\\left\\{FS, SF, SS, SV, VS\\right\\}$$"
      ],
      "text/plain": [
       "set([FS, SF, SS, SV, VS])"
      ]
     },
     "execution_count": 13,
     "metadata": {},
     "output_type": "execute_result"
    }
   ],
   "source": [
    "B = { *symbols('SF, FS, SV, VS, SS') }; B"
   ]
  },
  {
   "cell_type": "code",
   "execution_count": 14,
   "metadata": {
    "collapsed": false
   },
   "outputs": [
    {
     "data": {
      "text/latex": [
       "$$51.0$$"
      ],
      "text/plain": [
       "51.0"
      ]
     },
     "execution_count": 14,
     "metadata": {},
     "output_type": "execute_result"
    }
   ],
   "source": [
    "ze.P(B, p=ja)    # Ergebnis zu B"
   ]
  },
  {
   "cell_type": "code",
   "execution_count": 15,
   "metadata": {
    "collapsed": true
   },
   "outputs": [],
   "source": [
    "ea = EA(ze.omega)"
   ]
  },
  {
   "cell_type": "code",
   "execution_count": 16,
   "metadata": {
    "collapsed": false
   },
   "outputs": [
    {
     "data": {
      "text/latex": [
       "$$\\left\\{SS\\right\\}$$"
      ],
      "text/plain": [
       "set([SS])"
      ]
     },
     "execution_count": 16,
     "metadata": {},
     "output_type": "execute_result"
    }
   ],
   "source": [
    "ea.berechnen(A, B, 'A und B')    # die Ereignisse sind nicht unvereinbar"
   ]
  },
  {
   "cell_type": "markdown",
   "metadata": {},
   "source": [
    "### b)"
   ]
  },
  {
   "cell_type": "code",
   "execution_count": 17,
   "metadata": {
    "collapsed": false
   },
   "outputs": [
    {
     "name": "stdout",
     "output_type": "stream",
     "text": [
      "Erzeugung eines BernoulliKette-BinomialVerteilung-Objektes\n"
     ]
    },
    {
     "data": {
      "text/latex": [
       "$$41.16$$"
      ],
      "text/plain": [
       "41.16"
      ]
     },
     "execution_count": 17,
     "metadata": {},
     "output_type": "execute_result"
    }
   ],
   "source": [
    "v1 = BK(4, 0.3)\n",
    "\n",
    "v1.P(1, p=ja)      #  Ergebnis zu (1)"
   ]
  },
  {
   "cell_type": "code",
   "execution_count": 18,
   "metadata": {
    "collapsed": false
   },
   "outputs": [
    {
     "name": "stdout",
     "output_type": "stream",
     "text": [
      "Erzeugung eines BernoulliKette-BinomialVerteilung-Objektes\n"
     ]
    },
    {
     "data": {
      "text/latex": [
       "$$97.44$$"
      ],
      "text/plain": [
       "97.44"
      ]
     },
     "execution_count": 18,
     "metadata": {},
     "output_type": "execute_result"
    }
   ],
   "source": [
    "v2 = BK(4, 0.6)\n",
    "\n",
    "v2.P(X >= 1, p=ja)      #  Ergebnis zu (2)"
   ]
  },
  {
   "cell_type": "code",
   "execution_count": 19,
   "metadata": {
    "collapsed": false
   },
   "outputs": [
    {
     "data": {
      "text/latex": [
       "$$12.96$$"
      ],
      "text/plain": [
       "12.96"
      ]
     },
     "execution_count": 19,
     "metadata": {},
     "output_type": "execute_result"
    }
   ],
   "source": [
    "v2.P(4, p=ja)     # Ergebnis zu (3)"
   ]
  },
  {
   "cell_type": "code",
   "execution_count": 20,
   "metadata": {
    "collapsed": false
   },
   "outputs": [
    {
     "name": "stdout",
     "output_type": "stream",
     "text": [
      "Erzeugung eines BernoulliKette-BinomialVerteilung-Objektes\n"
     ]
    },
    {
     "data": {
      "text/latex": [
       "$$94.77$$"
      ],
      "text/plain": [
       "94.77"
      ]
     },
     "execution_count": 20,
     "metadata": {},
     "output_type": "execute_result"
    }
   ],
   "source": [
    "v3 = BK(4, 0.1)\n",
    "\n",
    "v3.P(X <= 1, p=ja)     # Ergebnis zu (4)"
   ]
  },
  {
   "cell_type": "markdown",
   "metadata": {},
   "source": [
    "### c)\n",
    "<br>\n",
    "(1) - Die vor Susanne stehenden 8 Personen dürfen höchstens einmal $S$ wählen"
   ]
  },
  {
   "cell_type": "code",
   "execution_count": 21,
   "metadata": {
    "collapsed": false
   },
   "outputs": [
    {
     "name": "stdout",
     "output_type": "stream",
     "text": [
      "Erzeugung eines BernoulliKette-BinomialVerteilung-Objektes\n"
     ]
    },
    {
     "data": {
      "text/latex": [
       "$$25.53$$"
      ],
      "text/plain": [
       "25.53"
      ]
     },
     "execution_count": 21,
     "metadata": {},
     "output_type": "execute_result"
    }
   ],
   "source": [
    "vv = BK(8, 0.3)\n",
    "vv.P(X <= 1, p=ja)    # Ergebnis zu (1)"
   ]
  },
  {
   "cell_type": "markdown",
   "metadata": {},
   "source": [
    "(2) - Die vor Susanne stehenden 8 Personen müssen das Gericht $V$ zweimal wählen"
   ]
  },
  {
   "cell_type": "code",
   "execution_count": 22,
   "metadata": {
    "collapsed": false
   },
   "outputs": [
    {
     "name": "stdout",
     "output_type": "stream",
     "text": [
      "Erzeugung eines BernoulliKette-BinomialVerteilung-Objektes\n"
     ]
    },
    {
     "data": {
      "text/latex": [
       "$$14.88$$"
      ],
      "text/plain": [
       "14.88"
      ]
     },
     "execution_count": 22,
     "metadata": {},
     "output_type": "execute_result"
    }
   ],
   "source": [
    "vv = BK(8, 0.1)\n",
    "vv.P(2, p=ja)    # Ergebnis zu (2)"
   ]
  },
  {
   "cell_type": "code",
   "execution_count": null,
   "metadata": {
    "collapsed": true
   },
   "outputs": [],
   "source": []
  }
 ],
 "metadata": {
  "anaconda-cloud": {},
  "kernelspec": {
   "display_name": "Python [default]",
   "language": "python",
   "name": "python3"
  },
  "language_info": {
   "codemirror_mode": {
    "name": "ipython",
    "version": 3
   },
   "file_extension": ".py",
   "mimetype": "text/x-python",
   "name": "python",
   "nbconvert_exporter": "python",
   "pygments_lexer": "ipython3",
   "version": "3.5.2"
  }
 },
 "nbformat": 4,
 "nbformat_minor": 0
}
