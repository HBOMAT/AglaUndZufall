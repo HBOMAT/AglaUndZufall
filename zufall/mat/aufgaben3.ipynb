{
 "cells": [
  {
   "cell_type": "markdown",
   "metadata": {},
   "source": [
    "# Materialien zu <i>zufall</i>\n",
    "\n",
    "Autor: Holger Böttcher - hbomat@posteo.de\n",
    "\n",
    "## Aufgaben 3 - Urnen-Experimente (2)"
   ]
  },
  {
   "cell_type": "markdown",
   "metadata": {},
   "source": [
    "<br>\n",
    "<i>Die Aufgaben wurden entnommen aus \n",
    "\n",
    "A. Müller<br>\n",
    "Wahrscheinlichkeitsrechnung und Statistik<br>\n",
    "Grundkurs<br>\n",
    "Stark Verlag 1997<br>\n",
    "\n",
    "Aufgaben 19, 20, 22\n",
    "<br>"
   ]
  },
  {
   "cell_type": "markdown",
   "metadata": {},
   "source": [
    "### Aufgabe 19\n",
    "Ein Elektronikbastler steht ratlos vor einer Schachtel mit zwölf gleich aussehen-<br>\n",
    "den Kondensatoren, von denen er nur weiß, dass zehn in Ordnung (1) und zwei <br>\n",
    "defekt (0) sind. Er entnimmt zwei Kondensatoren ohne Zurücklegen.\n",
    "<br>\n",
    "<br>\n",
    "a) Zeichnen Sie zu diesem Zufallsexperiment ein Baumdiagramm, bestimmen Sie<br>\n",
    "&nbsp;&nbsp;&nbsp;&nbsp;den zugehörigen Ereignisraum $\\Omega\\,$ und geben Sie an, wie viele Elemente der<br>\n",
    "&nbsp;&nbsp;&nbsp;&nbsp;zugehörige Ereigniraum $P(\\Omega)\\,$ besitzt\n",
    "<br>\n",
    "<br>\n",
    "b) Bestimmen Sie dann die Wahrscheinlichkeiten der Elementarereignisse sowie<br>\n",
    "&nbsp;&nbsp;&nbsp;&nbsp;der Ereignisse\n",
    "<br>\n",
    "<br>\n",
    "&nbsp;&nbsp;&nbsp;&nbsp;&nbsp;$A$ = \"Höchstens ein Kondensator ist defekt\" <br>\n",
    " &nbsp;&nbsp;&nbsp;&nbsp;&nbsp;$B$ = \"Genau ein Kondensator ist defekt\"\n",
    "<br>\n",
    "<br>\n",
    "c) Formulieren Sie das Ereignis $C = \\overline{A} \\cup \\overline{B}\\,$ in Worten und bestimmen Sie die<br>\n",
    "&nbsp;&nbsp;&nbsp;&nbsp;Wahrscheinlichkeit $P(C)$\n",
    "<br>\n",
    "<br>\n",
    "d) Es werden vier Kondensatoren ohne Zurücklegen entnommen. Mit welcher<br>\n",
    "&nbsp;&nbsp;&nbsp;&nbsp;Wahrscheinlichkeit sind der erste und der vierte Kondensator die beiden defek-<br>\n",
    "&nbsp;&nbsp;&nbsp;&nbsp;ten?\n",
    "<br><br>"
   ]
  },
  {
   "cell_type": "code",
   "execution_count": 1,
   "metadata": {
    "collapsed": false
   },
   "outputs": [],
   "source": [
    "%run zufall/start"
   ]
  },
  {
   "cell_type": "markdown",
   "metadata": {},
   "source": [
    "<br>\n",
    "Das zugrunde liegende Urne-Modell ist"
   ]
  },
  {
   "cell_type": "code",
   "execution_count": 10,
   "metadata": {
    "collapsed": false
   },
   "outputs": [
    {
     "data": {
      "text/latex": [
       "$$Urne(Stufen=2, ohne Wiederholung , mit Anordnung)$$"
      ],
      "text/plain": [
       "Urne(Stufen=2, ohne Wiederholung , mit Anordnung)"
      ]
     },
     "execution_count": 10,
     "metadata": {},
     "output_type": "execute_result"
    }
   ],
   "source": [
    "u = Urne( { 1:10, 0:2 }, 2, w=ohne )\n",
    "u"
   ]
  },
  {
   "cell_type": "markdown",
   "metadata": {},
   "source": [
    "### zu a)"
   ]
  },
  {
   "cell_type": "code",
   "execution_count": 3,
   "metadata": {
    "collapsed": false
   },
   "outputs": [
    {
     "data": {
      "image/png": "[encoded data removed]",
      "text/plain": [
       "<matplotlib.figure.Figure at 0x86a7ff0>"
      ]
     },
     "metadata": {},
     "output_type": "display_data"
    }
   ],
   "source": [
    "u.baum"
   ]
  },
  {
   "cell_type": "markdown",
   "metadata": {},
   "source": [
    "$\\Omega$, Anzahl der Elemente und Größe der Potenzmenge $P(\\Omega)$:"
   ]
  },
  {
   "cell_type": "code",
   "execution_count": 4,
   "metadata": {
    "collapsed": false
   },
   "outputs": [
    {
     "data": {
      "text/latex": [
       "$$\\left ( \\left\\{00, 01, 10, 11\\right\\}, \\quad 4, \\quad 16\\right )$$"
      ],
      "text/plain": [
       "(set([00, 01, 10, 11]), 4, 16)"
      ]
     },
     "execution_count": 4,
     "metadata": {},
     "output_type": "execute_result"
    }
   ],
   "source": [
    "u.omega, u.n_omega, 2^4"
   ]
  },
  {
   "cell_type": "markdown",
   "metadata": {},
   "source": [
    "### zu b)"
   ]
  },
  {
   "cell_type": "code",
   "execution_count": 5,
   "metadata": {
    "collapsed": false
   },
   "outputs": [
    {
     "data": {
      "text/latex": [
       "$$\\left \\{ 00 : \\frac{1}{66}, \\quad 01 : \\frac{5}{33}, \\quad 10 : \\frac{5}{33}, \\quad 11 : \\frac{15}{22}\\right \\}$$"
      ],
      "text/plain": [
       "⎧                                  15⎫\n",
       "⎨00: 1/66, 01: 5/33, 10: 5/33, 11: ──⎬\n",
       "⎩                                  22⎭"
      ]
     },
     "execution_count": 5,
     "metadata": {},
     "output_type": "execute_result"
    }
   ],
   "source": [
    "u.vert   # Wahrscheinlichkeitsverteilung"
   ]
  },
  {
   "cell_type": "code",
   "execution_count": 6,
   "metadata": {
    "collapsed": false
   },
   "outputs": [
    {
     "data": {
      "text/latex": [
       "$$\\left ( \\frac{65}{66}, \\quad 0.9848\\right )$$"
      ],
      "text/plain": [
       "⎛65        ⎞\n",
       "⎜──, 0.9848⎟\n",
       "⎝66        ⎠"
      ]
     },
     "execution_count": 6,
     "metadata": {},
     "output_type": "execute_result"
    }
   ],
   "source": [
    "A = { *symbols('11, 10, 01') }   # hier müssen Symbole angegeben werden\n",
    "                                 # * packt das Tupel aus\n",
    "u.P(A), u.P(A, d=4)"
   ]
  },
  {
   "cell_type": "code",
   "execution_count": 7,
   "metadata": {
    "collapsed": false
   },
   "outputs": [
    {
     "data": {
      "text/latex": [
       "$$\\left ( \\frac{10}{33}, \\quad 0.303\\right )$$"
      ],
      "text/plain": [
       "⎛10       ⎞\n",
       "⎜──, 0.303⎟\n",
       "⎝33       ⎠"
      ]
     },
     "execution_count": 7,
     "metadata": {},
     "output_type": "execute_result"
    }
   ],
   "source": [
    "B = { *symbols('10, 01') }  \n",
    "\n",
    "u.P(B), u.P(B, d=4)"
   ]
  },
  {
   "cell_type": "markdown",
   "metadata": {},
   "source": [
    "### zu c)"
   ]
  },
  {
   "cell_type": "code",
   "execution_count": 8,
   "metadata": {
    "collapsed": false
   },
   "outputs": [
    {
     "data": {
      "text/latex": [
       "$$\\left\\{01, 10, 11\\right\\}$$"
      ],
      "text/plain": [
       "set([01, 10, 11])"
      ]
     },
     "execution_count": 8,
     "metadata": {},
     "output_type": "execute_result"
    }
   ],
   "source": [
    "ea = EA(u.omega)\n",
    "C = ea.berechnen(A, B, 'mindestens A oder B')\n",
    "C"
   ]
  },
  {
   "cell_type": "markdown",
   "metadata": {},
   "source": [
    "Ergebnis ist \"Beide sind in Ordnung oder beide sind defekt\""
   ]
  },
  {
   "cell_type": "code",
   "execution_count": 9,
   "metadata": {
    "collapsed": false
   },
   "outputs": [
    {
     "data": {
      "text/latex": [
       "$$\\left ( \\frac{65}{66}, \\quad 0.9848\\right )$$"
      ],
      "text/plain": [
       "⎛65        ⎞\n",
       "⎜──, 0.9848⎟\n",
       "⎝66        ⎠"
      ]
     },
     "execution_count": 9,
     "metadata": {},
     "output_type": "execute_result"
    }
   ],
   "source": [
    "u.P(C), u.P(C, d=4)"
   ]
  },
  {
   "cell_type": "markdown",
   "metadata": {},
   "source": [
    "### zu d)"
   ]
  },
  {
   "cell_type": "code",
   "execution_count": 11,
   "metadata": {
    "collapsed": false
   },
   "outputs": [
    {
     "data": {
      "text/latex": [
       "$$Urne(Stufen=4, ohne Wiederholung , mit Anordnung)$$"
      ],
      "text/plain": [
       "Urne(Stufen=4, ohne Wiederholung , mit Anordnung)"
      ]
     },
     "execution_count": 11,
     "metadata": {},
     "output_type": "execute_result"
    }
   ],
   "source": [
    "u1 = Urne( { 1:10, 0:2 }, 4, w=ohne ); u1"
   ]
  },
  {
   "cell_type": "code",
   "execution_count": 12,
   "metadata": {
    "collapsed": false
   },
   "outputs": [
    {
     "data": {
      "text/latex": [
       "$$\\left ( \\frac{1}{66}, \\quad 0.0152\\right )$$"
      ],
      "text/plain": [
       "(1/66, 0.0152)"
      ]
     },
     "execution_count": 12,
     "metadata": {},
     "output_type": "execute_result"
    }
   ],
   "source": [
    "D = Symbol('0110'); u1.P(D), u1.P(D, d=4)"
   ]
  },
  {
   "cell_type": "markdown",
   "metadata": {},
   "source": [
    "### Aufgabe 20\n",
    "In einem nicht einsehbaren Behältnis befinden sich zehn Schrauben, acht schwar-<br>\n",
    "ze ($s$) und zwei goldfarbene ($g$). Die Schrauben unterscheiden sich nur in der Farbe. <br>\n",
    "Ein Hobbybastler entnimmt dreimal hintereinander eine Schraube und legt sie auf <br>\n",
    "seine Werkbank.\n",
    "<br>\n",
    "<br>\n",
    "a) Fertigen Sie ein Baumdiagramm und berechnen Sie die Wahrscheinlichkeit der<br>\n",
    "&nbsp;&nbsp;&nbsp;&nbsp;Ereignisse\n",
    "<br>\n",
    "<br>\n",
    "&nbsp;&nbsp;&nbsp;&nbsp;&nbsp;$A$ = \"Höchstens eine goldene Schraube ist dabei\" <br>\n",
    "&nbsp;&nbsp;&nbsp;&nbsp;&nbsp;$B$ = \"Die zweite Schraube ist goldfarben\" <br>\n",
    "&nbsp;&nbsp;&nbsp;&nbsp;&nbsp;$C$ = \"Die erste oder die dritte Schraube ist goldfarben\" \n",
    "<br><br>\n",
    "b)  Formulieren Sie $\\,\\overline{C}\\,$ in Worten und überprüfen Sie die Ereignisse $B$ und $\\overline{C}\\,$  auf Un-<br>\n",
    "&nbsp;&nbsp;&nbsp;&nbsp;vereinbarkeit\n",
    "<br>\n",
    "<br>\n",
    "c)  Mit welcher Wahrscheinlichkeit erhält man bei sechsmaligem Ziehen ohne Zurück-<br>\n",
    "&nbsp;&nbsp;&nbsp;&nbsp;legen das Ereignis {ssgsgs}? \n",
    "<br>"
   ]
  },
  {
   "cell_type": "markdown",
   "metadata": {},
   "source": [
    "Das zugrunde liegende Urne-Modell ist"
   ]
  },
  {
   "cell_type": "code",
   "execution_count": 13,
   "metadata": {
    "collapsed": false
   },
   "outputs": [
    {
     "data": {
      "text/latex": [
       "$$Urne(Stufen=3, ohne Wiederholung , mit Anordnung)$$"
      ],
      "text/plain": [
       "Urne(Stufen=3, ohne Wiederholung , mit Anordnung)"
      ]
     },
     "execution_count": 13,
     "metadata": {},
     "output_type": "execute_result"
    }
   ],
   "source": [
    "u = Urne( { s:8, g:2 }, 3, w=ohne )\n",
    "u"
   ]
  },
  {
   "cell_type": "markdown",
   "metadata": {},
   "source": [
    "### zu a)"
   ]
  },
  {
   "cell_type": "code",
   "execution_count": 14,
   "metadata": {
    "collapsed": false
   },
   "outputs": [
    {
     "data": {
      "image/png": "[encoded data removed]",
      "text/plain": [
       "<matplotlib.figure.Figure at 0xcf8def0>"
      ]
     },
     "metadata": {},
     "output_type": "display_data"
    }
   ],
   "source": [
    "u.baum"
   ]
  },
  {
   "cell_type": "code",
   "execution_count": 15,
   "metadata": {
    "collapsed": false
   },
   "outputs": [
    {
     "data": {
      "text/latex": [
       "$$\\left ( \\left\\{gss, sgs, ssg, sss\\right\\}, \\quad \\frac{14}{15}\\right )$$"
      ],
      "text/plain": [
       "⎛                           14⎞\n",
       "⎜set([gss, sgs, ssg, sss]), ──⎟\n",
       "⎝                           15⎠"
      ]
     },
     "execution_count": 15,
     "metadata": {},
     "output_type": "execute_result"
    }
   ],
   "source": [
    "A = { *symbols('sss, gss, sgs, ssg') }; A, u.P(A)"
   ]
  },
  {
   "cell_type": "code",
   "execution_count": 16,
   "metadata": {
    "collapsed": false
   },
   "outputs": [
    {
     "data": {
      "text/latex": [
       "$$\\left ( \\left\\{ggs, sgg, sgs\\right\\}, \\quad \\frac{1}{5}\\right )$$"
      ],
      "text/plain": [
       "(set([ggs, sgg, sgs]), 1/5)"
      ]
     },
     "execution_count": 16,
     "metadata": {},
     "output_type": "execute_result"
    }
   ],
   "source": [
    "B = { *symbols('sgs, ggs, sgg') }; B, u.P(B)"
   ]
  },
  {
   "cell_type": "code",
   "execution_count": 17,
   "metadata": {
    "collapsed": false
   },
   "outputs": [
    {
     "data": {
      "text/latex": [
       "$$\\left ( \\left\\{ggs, gsg, gss, sgg, ssg\\right\\}, \\quad \\frac{17}{45}\\right )$$"
      ],
      "text/plain": [
       "⎛                                17⎞\n",
       "⎜set([ggs, gsg, gss, sgg, ssg]), ──⎟\n",
       "⎝                                45⎠"
      ]
     },
     "execution_count": 17,
     "metadata": {},
     "output_type": "execute_result"
    }
   ],
   "source": [
    "C = { *symbols('ggs,gss,sgg,ssg,gsg') }; C, u.P(C)"
   ]
  },
  {
   "cell_type": "markdown",
   "metadata": {},
   "source": [
    "### zu b)"
   ]
  },
  {
   "cell_type": "code",
   "execution_count": 18,
   "metadata": {
    "collapsed": true
   },
   "outputs": [],
   "source": [
    "ea = EA(u.omega)"
   ]
  },
  {
   "cell_type": "code",
   "execution_count": 19,
   "metadata": {
    "collapsed": false
   },
   "outputs": [
    {
     "data": {
      "text/latex": [
       "$$\\left\\{sgs, sss\\right\\}$$"
      ],
      "text/plain": [
       "set([sgs, sss])"
      ]
     },
     "execution_count": 19,
     "metadata": {},
     "output_type": "execute_result"
    }
   ],
   "source": [
    "nichtC = ea.berechnen(C, C, 'nicht B')  # Beachtung der Benennung der Ereignisse \n",
    "nichtC                                  # bei der Anwendung der Methode"
   ]
  },
  {
   "cell_type": "markdown",
   "metadata": {},
   "source": [
    "Die Ereignisse sind nicht unvereinbar"
   ]
  },
  {
   "cell_type": "code",
   "execution_count": 20,
   "metadata": {
    "collapsed": false
   },
   "outputs": [
    {
     "data": {
      "text/latex": [
       "$$\\left\\{sgs\\right\\}$$"
      ],
      "text/plain": [
       "set([sgs])"
      ]
     },
     "execution_count": 20,
     "metadata": {},
     "output_type": "execute_result"
    }
   ],
   "source": [
    "ea.berechnen(B, C, 'A und nicht B')   # ebenso"
   ]
  },
  {
   "cell_type": "markdown",
   "metadata": {},
   "source": [
    "### zu c)"
   ]
  },
  {
   "cell_type": "code",
   "execution_count": 21,
   "metadata": {
    "collapsed": false
   },
   "outputs": [
    {
     "data": {
      "text/latex": [
       "$$Urne(Stufen=6, ohne Wiederholung , mit Anordnung)$$"
      ],
      "text/plain": [
       "Urne(Stufen=6, ohne Wiederholung , mit Anordnung)"
      ]
     },
     "execution_count": 21,
     "metadata": {},
     "output_type": "execute_result"
    }
   ],
   "source": [
    "u6 = Urne( { s:8, g:2 }, 6, w=ohne )\n",
    "u6"
   ]
  },
  {
   "cell_type": "code",
   "execution_count": 22,
   "metadata": {
    "collapsed": false
   },
   "outputs": [
    {
     "data": {
      "text/latex": [
       "$$\\frac{1}{45}$$"
      ],
      "text/plain": [
       "1/45"
      ]
     },
     "execution_count": 22,
     "metadata": {},
     "output_type": "execute_result"
    }
   ],
   "source": [
    "u6.P('ssgsgs')"
   ]
  },
  {
   "cell_type": "markdown",
   "metadata": {},
   "source": [
    "### Aufgabe 22\n",
    "In einer Lostrommel befinden sich noch 50 Lose mit zwei Hauptgewinnen ($H$),<br>\n",
    "acht Kleingewinnen ($K$) und 40 Nieten ($N$). Käthe kauft zwei Lose\n",
    "<br>\n",
    "<br>\n",
    "a)  Zeichnen Sie ein Baumdiagramm und bestimmen Sie die Wahrscheinlichkeiten<br>\n",
    "&nbsp;&nbsp;&nbsp;&nbsp;der Ereignisse\n",
    "<br>\n",
    "<br>\n",
    "&nbsp;&nbsp;&nbsp;&nbsp;&nbsp;$A$ = \"Genau ein Kleingewinn\" und <br>\n",
    "&nbsp;&nbsp;&nbsp;&nbsp;&nbsp;$B$ = \"Mindestens ein Hauptgewinn\" \n",
    "<br><br>\n",
    "b)  Mit welcher Wahrscheinlichkeit zieht man beim 2. Los einen Hauptgewinn?\n",
    "<br>\n",
    "<br>\n",
    "c)  Inge kauft fünf Lose und öffnet sie der Reihe nach. Mit welcher Wahrscheinlich- <br>\n",
    "&nbsp;&nbsp;&nbsp;&nbsp;keit tritt das Elementarereignis $NKNNH$ ein?<br>"
   ]
  },
  {
   "cell_type": "markdown",
   "metadata": {},
   "source": [
    "Das zugrunde liegende Urne-Modell ist"
   ]
  },
  {
   "cell_type": "code",
   "execution_count": 23,
   "metadata": {
    "collapsed": false
   },
   "outputs": [
    {
     "data": {
      "text/latex": [
       "$$\\left ( H, \\quad K, \\quad N\\right )$$"
      ],
      "text/plain": [
       "(H, K, N)"
      ]
     },
     "execution_count": 23,
     "metadata": {},
     "output_type": "execute_result"
    }
   ],
   "source": [
    "N = Symbol('N')   # das Symbol N war durch eine SymPy-Funktion belegt\n",
    "H, K, N   # 3 Symbole"
   ]
  },
  {
   "cell_type": "code",
   "execution_count": 24,
   "metadata": {
    "collapsed": false
   },
   "outputs": [],
   "source": [
    "u = Urne( { H:2, K:8, N:40 }, 2, w=ohne )"
   ]
  },
  {
   "cell_type": "markdown",
   "metadata": {},
   "source": [
    "### zu a)"
   ]
  },
  {
   "cell_type": "code",
   "execution_count": 25,
   "metadata": {
    "collapsed": false
   },
   "outputs": [
    {
     "data": {
      "image/png": "[encoded data removed]",
      "text/plain": [
       "<matplotlib.figure.Figure at 0x688fe10>"
      ]
     },
     "metadata": {},
     "output_type": "display_data"
    }
   ],
   "source": [
    "u.baum"
   ]
  },
  {
   "cell_type": "code",
   "execution_count": 26,
   "metadata": {
    "collapsed": false
   },
   "outputs": [
    {
     "data": {
      "text/latex": [
       "$$\\left ( \\left\\{HK, KH, KN, NK\\right\\}, \\quad \\left\\{HH, HK, HN, KH, NH\\right\\}\\right )$$"
      ],
      "text/plain": [
       "(set([HK, KH, KN, NK]), set([HH, HK, HN, KH, NH]))"
      ]
     },
     "execution_count": 26,
     "metadata": {},
     "output_type": "execute_result"
    }
   ],
   "source": [
    "A = { *symbols('KH, KN, HK, NK') }\n",
    "B = { *symbols('HH, HK, HN, KH, NH') }\n",
    "A, B"
   ]
  },
  {
   "cell_type": "code",
   "execution_count": 27,
   "metadata": {
    "collapsed": false
   },
   "outputs": [
    {
     "data": {
      "text/latex": [
       "$$\\left ( \\frac{48}{175}, \\quad 0.2743\\right )$$"
      ],
      "text/plain": [
       "⎛ 48        ⎞\n",
       "⎜───, 0.2743⎟\n",
       "⎝175        ⎠"
      ]
     },
     "execution_count": 27,
     "metadata": {},
     "output_type": "execute_result"
    }
   ],
   "source": [
    "u.P(A), u.P(A, d=4)"
   ]
  },
  {
   "cell_type": "code",
   "execution_count": 28,
   "metadata": {
    "collapsed": false
   },
   "outputs": [
    {
     "data": {
      "text/latex": [
       "$$\\left ( \\frac{97}{1225}, \\quad 0.0792\\right )$$"
      ],
      "text/plain": [
       "⎛ 97         ⎞\n",
       "⎜────, 0.0792⎟\n",
       "⎝1225        ⎠"
      ]
     },
     "execution_count": 28,
     "metadata": {},
     "output_type": "execute_result"
    }
   ],
   "source": [
    "u.P(B), u.P(B, d=4)"
   ]
  },
  {
   "cell_type": "markdown",
   "metadata": {},
   "source": [
    "### zu b)"
   ]
  },
  {
   "cell_type": "code",
   "execution_count": 29,
   "metadata": {
    "collapsed": false
   },
   "outputs": [
    {
     "data": {
      "text/latex": [
       "$$\\left ( \\frac{1}{25}, \\quad 0.04\\right )$$"
      ],
      "text/plain": [
       "(1/25, 0.04)"
      ]
     },
     "execution_count": 29,
     "metadata": {},
     "output_type": "execute_result"
    }
   ],
   "source": [
    "u.P( ['HH', 'KH', 'NH'] ), u.P( ['HH', 'KH', 'NH'], d=4 )"
   ]
  },
  {
   "cell_type": "markdown",
   "metadata": {},
   "source": [
    "### zu c)"
   ]
  },
  {
   "cell_type": "code",
   "execution_count": 30,
   "metadata": {
    "collapsed": false
   },
   "outputs": [
    {
     "data": {
      "text/latex": [
       "$$0.0037$$"
      ],
      "text/plain": [
       "0.0037"
      ]
     },
     "execution_count": 30,
     "metadata": {},
     "output_type": "execute_result"
    }
   ],
   "source": [
    "u5 = Urne( { H:2, K:8, N:40 }, 5, w=ohne )\n",
    "u5.P('NKNNH', d=4)"
   ]
  },
  {
   "cell_type": "code",
   "execution_count": null,
   "metadata": {
    "collapsed": true
   },
   "outputs": [],
   "source": []
  }
 ],
 "metadata": {
  "anaconda-cloud": {},
  "kernelspec": {
   "display_name": "Python [default]",
   "language": "python",
   "name": "python3"
  },
  "language_info": {
   "codemirror_mode": {
    "name": "ipython",
    "version": 3
   },
   "file_extension": ".py",
   "mimetype": "text/x-python",
   "name": "python",
   "nbconvert_exporter": "python",
   "pygments_lexer": "ipython3",
   "version": "3.5.2"
  }
 },
 "nbformat": 4,
 "nbformat_minor": 0
}
