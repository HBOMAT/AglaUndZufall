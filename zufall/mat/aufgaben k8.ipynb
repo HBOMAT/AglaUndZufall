{
 "cells": [
  {
   "cell_type": "markdown",
   "metadata": {},
   "source": [
    "# Materialien zu <i>zufall</i>\n",
    "\n",
    "Autor: Holger Böttcher - hbomat@posteo.de\n",
    "\n",
    "## Aufgaben K8 - Übungsklausur 8"
   ]
  },
  {
   "cell_type": "markdown",
   "metadata": {},
   "source": [
    "<br>\n",
    "<i>Die Aufgaben wurden entnommen aus \n",
    "<br><br>\n",
    "A. Müller<br>\n",
    "Wahrscheinlichkeitsrechnung und Statistik<br>\n",
    "Grundkurs<br>\n",
    "Stark Verlag 1997<br>\n",
    "S. 84 Klausur 8<br>\n",
    "</i>\n",
    "<br><br>\n",
    "Mithilfe von vollautomatisch arbeitenden Maschinen wird ein Massenartikel her-<br>\n",
    "gestellt.<br>\n",
    "1. Eine der Maschinen, von der bekannt ist, dass sie störungsanfällig ist und inner-<br>\n",
    "halb einer Stunde mit der Wahrscheinlichkeit 20% ausfällt, wird nach jeder Stun-<br>\n",
    "de kontrolliert.<br><br>\n",
    "Berechnen Sie die Wahrscheinlichkeiten der Ereignisse<br><br>\n",
    "$\\quad A$ = \"Die Maschine fällt in der dritten Stunde aus\"<br>\n",
    "$\\quad B$ = \"Die Maschine fällt mindestens drei Stunden nicht aus\"<br>\n",
    "$\\quad C$ = \"Die Maschine fällt erstmals in der dritten Stunde aus \"<br>\n",
    "$\\quad D$ =  $A \\cup B$<br><br>     \n",
    "2.  Bei der Herstellung des Massenartikels entsteht erfahrungsgemäß 10% Aus-<br>\n",
    "schuss.<br><br>\n",
    "a)  Entscheiden Sie durch Berechnung der jeweiligen Wahrscheinlichkeit, ob es <br>\n",
    "$\\quad$wahrscheinlicher ist, unter 10 Stück des obigen Artikels  genau ein Ausschuss-<br>\n",
    "$\\quad$Stück oder unter 20 höchstens ein Ausschuss-Stück zu erhalten.<br>          \n",
    "b)  Es werden 50 Teile der Produktion rein zufällig überprüft. Mit welcher Wahr-<br>\n",
    "$\\quad$scheinlichkeit findet man mehr als zwei, aber höchstens sechs defekte Stücke?<br><br>\n",
    "c)  Wie viele Stücke der laufenden Produktion muss man mindestens überprüfen,     \n",
    "$\\quad$um mit einer Wahrscheinlichkeit von mehr als 95% wenigstens ein Ausschuss-<br>\n",
    "$\\quad$Stück zu erhalten?<br><br>\n",
    "d)  Wie viele Stücke der laufenden Produktion darf man höchstens überprüfen, da-<br>\n",
    "$\\quad$mit es günstig ist, darauf zu wetten, dass sich darunter kein Ausschuss-Stück<br>\n",
    "$\\quad$befindet?<br><br>\n",
    "3.  Ein Kontrolleur überprüft 100 Stück der laufenden Produktion einer Maschine. Er <br>\n",
    "erklärt diese für \"in Ordnung\" (d.h. mit 10% Ausschuss), wenn er höchstens 15 de-<br>\n",
    "fekte Teile findet. Ansonsten lässt er die Maschine neu einstellen.<br><br>\n",
    "a)  Mit welcher Wahrscheinlichkeit gibt der Kontrolleur irrtümlicherweise den Auf-<br>\n",
    "$\\quad$trag, die Maschine neu einzustellen, obwohl sie nur 10% Ausschuss produziert?<br>     \n",
    "b)  Durch einen nicht bemerkten Defekt ist die Fehlerquote der Maschine auf 20%<br>\n",
    "$\\quad$angetiegen. Beschreiben Sie die Fehlentscheidung, die der Kontrolleur unter  <br>\n",
    "$\\quad$Nichtkenntnis der neuen Voraussetzungen treffen kann und berechnen Sie dann <br>\n",
    "$\\quad$deren Wahrscheinlichkeit.<br><br>\n",
    "4.  In einer Schachtel mit 20 Stück des Massenartikels befinden sich vier, die nicht in <br>\n",
    "Ordnung sind.<br><br>\n",
    "a)  Jemand entnimmt fünf Stück auf einmal aus der Schachtel. Mit welcher Wahr-<br>\n",
    "$\\quad$scheinlichkeit befinden sich darunter <br><br>\n",
    "$\\quad$(1)  genau zwei Ausschuss-Stücke,<br>\n",
    "$\\quad$(2)  höchstens drei Ausschuss-Stücke,<br>\n",
    "$\\quad$(3)  mindestens ein Ausschuss-Stücke?<br><br>\n",
    "b)  Die 20 Stück werden der Schachtel entnommen und in einer Reihe auf einen <br>\n",
    "$\\quad$Tisch gelegt. Dabei wird nur nach defekten und nicht defekten Teilen unterschie-<br>\n",
    "$\\quad$den.<br><br>\n",
    "$\\quad$(1)  Wie viele unterschiedliche Reihenfolgen sind möglich?<br>\n",
    "$\\quad$(2)  Bei wie vielen Reihenfolgen liegen zwei defekte Teile am Schluss?<br>\n",
    "$\\quad$(3)  Bei wie vielen Reihenfolgen liegen die vier defekten Teile hintereinander?<br><br>"
   ]
  },
  {
   "cell_type": "code",
   "execution_count": 1,
   "metadata": {
    "collapsed": false
   },
   "outputs": [],
   "source": [
    "%run zufall/start"
   ]
  },
  {
   "cell_type": "markdown",
   "metadata": {
    "collapsed": true
   },
   "source": [
    "### Zu 1.\n",
    "$P(A) = 0.2$     Die Wahrscheinlichkeit ist für jede Stunde gleich <br><br>\n",
    "$P(B) = (1-0.2)^3 = 0.512$ <br><br>\n",
    "$P(C) = 0.8^2 \\cdot 0.2 = 0.128$ <br><br>\n",
    "$P(D) = P(A \\cup B) = P(A) + P(B) + P(A \\cap B)\\quad$ da $A$ und $B$ unvereinbar sind, ist <br><br>\n",
    "der letzte Term 0<br><br>\n",
    "$P(D) = P(A) + P(B) = 0.712$"
   ]
  },
  {
   "cell_type": "markdown",
   "metadata": {},
   "source": [
    "### Zu 2.\n",
    "### a)"
   ]
  },
  {
   "cell_type": "code",
   "execution_count": 2,
   "metadata": {
    "collapsed": false
   },
   "outputs": [
    {
     "name": "stdout",
     "output_type": "stream",
     "text": [
      "Erzeugung eines BernoulliKette-BinomialVerteilung-Objektes\n",
      "Erzeugung eines BernoulliKette-BinomialVerteilung-Objektes\n"
     ]
    },
    {
     "data": {
      "text/latex": [
       "$$\\left ( 0.3874, \\quad 0.3917\\right )$$"
      ],
      "text/plain": [
       "(0.3874, 0.3917)"
      ]
     },
     "execution_count": 2,
     "metadata": {},
     "output_type": "execute_result"
    }
   ],
   "source": [
    "v10 = BK(10, 0.1);    v20 = BK(20, 0.1)\n",
    "v10.P( 1, d=4 ), v20.P( X <= 1, d=4 )   # Wahrsch.1 < Wahrsch.2"
   ]
  },
  {
   "cell_type": "markdown",
   "metadata": {
    "collapsed": false
   },
   "source": [
    "### b)"
   ]
  },
  {
   "cell_type": "code",
   "execution_count": 3,
   "metadata": {
    "collapsed": false
   },
   "outputs": [
    {
     "name": "stdout",
     "output_type": "stream",
     "text": [
      "Erzeugung eines BernoulliKette-BinomialVerteilung-Objektes\n"
     ]
    },
    {
     "data": {
      "text/latex": [
       "$$0.6585$$"
      ],
      "text/plain": [
       "0.6585"
      ]
     },
     "execution_count": 3,
     "metadata": {},
     "output_type": "execute_result"
    }
   ],
   "source": [
    "v50 = BK(50, 0.1);     v50.P( '2 < X <= 6', d=4 )"
   ]
  },
  {
   "cell_type": "markdown",
   "metadata": {
    "collapsed": false
   },
   "source": [
    "### c)\n",
    "Wegen $P$( mindestens ein ... ) = $1 - P$( kein ... ) muss gelten"
   ]
  },
  {
   "cell_type": "code",
   "execution_count": 4,
   "metadata": {
    "collapsed": false
   },
   "outputs": [
    {
     "data": {
      "text/latex": [
       "$$- 0.9^{n} + 1 > 0.95$$"
      ],
      "text/plain": [
       "     n           \n",
       "- 0.9  + 1 > 0.95"
      ]
     },
     "execution_count": 4,
     "metadata": {},
     "output_type": "execute_result"
    }
   ],
   "source": [
    "u = 1 -(1-0.1)^n > 0.95; u"
   ]
  },
  {
   "cell_type": "code",
   "execution_count": 5,
   "metadata": {
    "collapsed": false
   },
   "outputs": [
    {
     "data": {
      "text/latex": [
       "$$\\left(28.4331588057434, \\infty\\right)$$"
      ],
      "text/plain": [
       "(28.4331588057434, ∞)"
      ]
     },
     "execution_count": 5,
     "metadata": {},
     "output_type": "execute_result"
    }
   ],
   "source": [
    "löse(u, set=ja)"
   ]
  },
  {
   "cell_type": "markdown",
   "metadata": {},
   "source": [
    "Man muss mindestens 29 Stücke überprüfen<br>\n",
    "\n",
    "### d)\n",
    "Bei der Wette muss die Gewinnwahrscheinlichkeit > 0.5 sein, deshalb muss gelten"
   ]
  },
  {
   "cell_type": "code",
   "execution_count": 6,
   "metadata": {
    "collapsed": false
   },
   "outputs": [
    {
     "data": {
      "text/latex": [
       "$$0.9^{n} > 0.5$$"
      ],
      "text/plain": [
       "   n      \n",
       "0.9  > 0.5"
      ]
     },
     "execution_count": 6,
     "metadata": {},
     "output_type": "execute_result"
    }
   ],
   "source": [
    "u = 0.9^n > 0.5; u"
   ]
  },
  {
   "cell_type": "code",
   "execution_count": 7,
   "metadata": {
    "collapsed": false
   },
   "outputs": [
    {
     "data": {
      "text/latex": [
       "$$\\left(-\\infty, 6.57881347896058\\right)$$"
      ],
      "text/plain": [
       "(-∞, 6.57881347896058)"
      ]
     },
     "execution_count": 7,
     "metadata": {},
     "output_type": "execute_result"
    }
   ],
   "source": [
    "löse(u, set=ja)"
   ]
  },
  {
   "cell_type": "markdown",
   "metadata": {},
   "source": [
    "Man darf höchstens 6 Stücke überprüfen"
   ]
  },
  {
   "cell_type": "markdown",
   "metadata": {
    "collapsed": false
   },
   "source": [
    "<br>\n",
    "### Zu 3.\n",
    "### a)\n",
    "Die Anweisung wird irrtümlich gegeben, wenn die Hypothese $H_1: p = 0.1$ wahr <br>\n",
    "ist, sich aber ein Ergebnis aus dem Ablehnungsbereich ergibt. Die Wahrschein-<br>\n",
    "lichkeit dafür ist"
   ]
  },
  {
   "cell_type": "code",
   "execution_count": 8,
   "metadata": {
    "collapsed": false
   },
   "outputs": [
    {
     "data": {
      "text/latex": [
       "$$0.0399$$"
      ],
      "text/plain": [
       "0.0399"
      ]
     },
     "execution_count": 8,
     "metadata": {},
     "output_type": "execute_result"
    }
   ],
   "source": [
    " vv = BV(100, 0.1);     vv.P( X > 15, d=4 )"
   ]
  },
  {
   "cell_type": "markdown",
   "metadata": {
    "collapsed": false
   },
   "source": [
    "### b)\n",
    "Der Fehler besteht darin, dass die Hypothese angenommen wird (sie ist ja falsch,<br>\n",
    "es gilt  $p$ = 0.2). Die Wahrscheinlichkeit dafür ist"
   ]
  },
  {
   "cell_type": "code",
   "execution_count": 9,
   "metadata": {
    "collapsed": false
   },
   "outputs": [
    {
     "data": {
      "text/latex": [
       "$$0.1285$$"
      ],
      "text/plain": [
       "0.1285"
      ]
     },
     "execution_count": 9,
     "metadata": {},
     "output_type": "execute_result"
    }
   ],
   "source": [
    "vv = BV(100, 0.2);     vv.P( X <= 15, d=4 )   "
   ]
  },
  {
   "cell_type": "markdown",
   "metadata": {
    "collapsed": false
   },
   "source": [
    "### Zu 4.\n",
    "### a)\n",
    "Es wird ein Urnenmodell ohne Zurücklegen verwendet, aus dem eine ZufallsGroesse <br>\n",
    "gewonnen wird $\\quad$ ($A$ - Ausschuss)"
   ]
  },
  {
   "cell_type": "code",
   "execution_count": 10,
   "metadata": {
    "collapsed": false
   },
   "outputs": [
    {
     "name": "stdout",
     "output_type": "stream",
     "text": [
      "Erzeugung eines ZufallsGroesse-Objektes\n"
     ]
    }
   ],
   "source": [
    "A, o = symbols('A o')    \n",
    "\n",
    "u = Urne( { A:4, o:16 }, 5, w=ohne, f=anzahl(A))  "
   ]
  },
  {
   "cell_type": "code",
   "execution_count": 11,
   "metadata": {
    "collapsed": false
   },
   "outputs": [
    {
     "data": {
      "text/latex": [
       "$$0.2167$$"
      ],
      "text/plain": [
       "0.2167"
      ]
     },
     "execution_count": 11,
     "metadata": {},
     "output_type": "execute_result"
    }
   ],
   "source": [
    "u.P(2, d=4)        # Ergebnis zu (1)"
   ]
  },
  {
   "cell_type": "code",
   "execution_count": 12,
   "metadata": {
    "collapsed": false
   },
   "outputs": [
    {
     "data": {
      "text/latex": [
       "$$0.999$$"
      ],
      "text/plain": [
       "0.999"
      ]
     },
     "execution_count": 12,
     "metadata": {},
     "output_type": "execute_result"
    }
   ],
   "source": [
    "u.P( X <= 3, d=4 )   # Ergebnis zu (2)"
   ]
  },
  {
   "cell_type": "code",
   "execution_count": 13,
   "metadata": {
    "collapsed": false
   },
   "outputs": [
    {
     "data": {
      "text/latex": [
       "$$0.7183$$"
      ],
      "text/plain": [
       "0.7183"
      ]
     },
     "execution_count": 13,
     "metadata": {},
     "output_type": "execute_result"
    }
   ],
   "source": [
    "u.P( X >= 1, d=4 )   # Ergebnis zu (3)\n"
   ]
  },
  {
   "cell_type": "markdown",
   "metadata": {},
   "source": [
    "### b)"
   ]
  },
  {
   "cell_type": "code",
   "execution_count": 15,
   "metadata": {
    "collapsed": false
   },
   "outputs": [
    {
     "data": {
      "text/latex": [
       "$$153$$"
      ],
      "text/plain": [
       "153"
      ]
     },
     "execution_count": 15,
     "metadata": {},
     "output_type": "execute_result"
    }
   ],
   "source": [
    "B(18, 2)   # Ergebnis zu (2)"
   ]
  },
  {
   "cell_type": "markdown",
   "metadata": {},
   "source": [
    "(3)  Die Anordnungen sind  1.2.3.4., 2.3.4.5., ... bis 17.18.19.20. - das sind 17 "
   ]
  },
  {
   "cell_type": "code",
   "execution_count": 14,
   "metadata": {
    "collapsed": false
   },
   "outputs": [
    {
     "data": {
      "text/latex": [
       "$$4845$$"
      ],
      "text/plain": [
       "4845"
      ]
     },
     "execution_count": 14,
     "metadata": {},
     "output_type": "execute_result"
    }
   ],
   "source": [
    "B(20, 4)   # Ergebnis zu (1)"
   ]
  },
  {
   "cell_type": "code",
   "execution_count": null,
   "metadata": {
    "collapsed": true
   },
   "outputs": [],
   "source": []
  }
 ],
 "metadata": {
  "anaconda-cloud": {},
  "kernelspec": {
   "display_name": "Python [default]",
   "language": "python",
   "name": "python3"
  },
  "language_info": {
   "codemirror_mode": {
    "name": "ipython",
    "version": 3
   },
   "file_extension": ".py",
   "mimetype": "text/x-python",
   "name": "python",
   "nbconvert_exporter": "python",
   "pygments_lexer": "ipython3",
   "version": "3.5.2"
  }
 },
 "nbformat": 4,
 "nbformat_minor": 0
}
