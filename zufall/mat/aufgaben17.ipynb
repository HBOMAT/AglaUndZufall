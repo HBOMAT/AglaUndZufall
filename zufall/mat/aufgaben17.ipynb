{
 "cells": [
  {
   "cell_type": "markdown",
   "metadata": {},
   "source": [
    "# Materialien zu <i>zufall</i>\n",
    "\n",
    "Autor: Holger Böttcher - hbomat@posteo.de\n",
    "\n",
    "## Aufgaben 17 - Simulation (Ehepaare)"
   ]
  },
  {
   "cell_type": "markdown",
   "metadata": {},
   "source": [
    "<br>\n",
    "<i>Die Aufgabe wurde entnommen aus<br>\n",
    "<br>\n",
    "LS Stochastik<br>\n",
    "Grundkurs<br>\n",
    "Klett Verlag 1986<br>\n",
    "S. 32 Aufgabe 1</i><br>\n",
    "<br><br>\n",
    "Der Schweizer Mathematiker Daniel Bernoulli versuchte um 1760 ein Modell für die<br>\n",
    "Dauer von Ehen aufzustellen. Dabei spielte in der damaligen Zeit die Möglichkeit der<br>\n",
    "Ehescheidung keine Rolle, denn Ehen wurden nach dem Prinzip \"bis dass der Tod euch<br>\n",
    "scheidet\" geschlossen. Damals war jedoch die Sterblichkeit sehr hoch, sodass die Dau- <br>\n",
    "er von Ehen vor allem hiervon abhing\n",
    "<br><br>\n",
    "Wir betrachten 10 Ehepaare, wobei die Ehepartner ungefähr gleich alt sein sollen. Die<br>\n",
    "Sterblichkeit bei Frauen und Männern werde als gleich angesehen. Innerhalb eines ge-<br>\n",
    "wissen Zeitraumes sterben \"zufällig\" 10 der 20 Personen \n",
    "<br><br>\n",
    "Wie viele Paare sind darunter, d.h. wie viele Ehen bestehen auch noch nach dem be-<br>\n",
    "trachteten Zeitraum?<br><br>\n",
    "Wie groß ist die Wahrscheinlichkeit dafür, dass unter den 10 überlebenden Personen<br>\n",
    "0, 1, 2, 3, 4, 5 Paare sind?\n",
    "<br>"
   ]
  },
  {
   "cell_type": "code",
   "execution_count": 1,
   "metadata": {
    "collapsed": false
   },
   "outputs": [],
   "source": [
    "%run zufall/start"
   ]
  },
  {
   "cell_type": "markdown",
   "metadata": {},
   "source": [
    "Das Problem ist äquivalent zu dem, die Paare unter den verstorbenen zu betrachten\n",
    "\n",
    "Die anfangs vorhandenen Paare sind [die Partner sind einzeln aufgeführt ($0$ - Mann, <br>\n",
    "$1$ - Frau), z.B. ist das 3. Paar $(0, \\;3)$ und $(1,\\; 3)$]"
   ]
  },
  {
   "cell_type": "code",
   "execution_count": 2,
   "metadata": {
    "collapsed": false
   },
   "outputs": [
    {
     "data": {
      "text/latex": [
       "$$\\left [ \\left ( 0, \\quad 1\\right ), \\quad \\left ( 0, \\quad 2\\right ), \\quad \\left ( 0, \\quad 3\\right ), \\quad \\left ( 0, \\quad 4\\right ), \\quad \\left ( 0, \\quad 5\\right ), \\quad \\left ( 0, \\quad 6\\right ), \\quad \\left ( 0, \\quad 7\\right ), \\quad \\left ( 0, \\quad 8\\right ), \\quad \\left ( 0, \\quad 9\\right ), \\quad \\left ( 0, \\quad 10\\right ), \\quad \\left ( 1, \\quad 1\\right ), \\quad \\left ( 1, \\quad 2\\right ), \\quad \\left ( 1, \\quad 3\\right ), \\quad \\left ( 1, \\quad 4\\right ), \\quad \\left ( 1, \\quad 5\\right ), \\quad \\left ( 1, \\quad 6\\right ), \\quad \\left ( 1, \\quad 7\\right ), \\quad \\left ( 1, \\quad 8\\right ), \\quad \\left ( 1, \\quad 9\\right ), \\quad \\left ( 1, \\quad 10\\right )\\right ]$$"
      ],
      "text/plain": [
       "[(0, 1), (0, 2), (0, 3), (0, 4), (0, 5), (0, 6), (0, 7), (0, 8), (0, 9), (0, 1\n",
       "0), (1, 1), (1, 2), (1, 3), (1, 4), (1, 5), (1, 6), (1, 7), (1, 8), (1, 9), (1\n",
       ", 10)]"
      ]
     },
     "execution_count": 2,
     "metadata": {},
     "output_type": "execute_result"
    }
   ],
   "source": [
    "paare = [ (i, j) for i in (0, 1) for j in range(1, 11) ]; paare"
   ]
  },
  {
   "cell_type": "markdown",
   "metadata": {},
   "source": [
    "10 zufällig verstorbene Personen sind (die Verwendung einer Funktion erleichtert<br>\n",
    "die Arbeit)"
   ]
  },
  {
   "cell_type": "code",
   "execution_count": 3,
   "metadata": {
    "collapsed": false
   },
   "outputs": [],
   "source": [
    "def verstorben():\n",
    "    tot = zuf_zahl((1, 20), 10, w=ohne)   # ohne Wiederholung\n",
    "    paare_tot = []\n",
    "    for z in tot:\n",
    "        if z <= 10:\n",
    "            paare_tot += [(0, z)]         # 1...10 - Mann\n",
    "        else:\n",
    "            paare_tot += [(1, z-10)]      # 11...20 - Frau            \n",
    "    return paare_tot                       "
   ]
  },
  {
   "cell_type": "code",
   "execution_count": 4,
   "metadata": {
    "collapsed": false
   },
   "outputs": [
    {
     "data": {
      "text/latex": [
       "$$\\left [ \\left ( 1, \\quad 8\\right ), \\quad \\left ( 0, \\quad 6\\right ), \\quad \\left ( 1, \\quad 5\\right ), \\quad \\left ( 0, \\quad 9\\right ), \\quad \\left ( 0, \\quad 2\\right ), \\quad \\left ( 0, \\quad 10\\right ), \\quad \\left ( 0, \\quad 4\\right ), \\quad \\left ( 1, \\quad 1\\right ), \\quad \\left ( 0, \\quad 5\\right ), \\quad \\left ( 1, \\quad 2\\right )\\right ]$$"
      ],
      "text/plain": [
       "[(1, 8), (0, 6), (1, 5), (0, 9), (0, 2), (0, 10), (0, 4), (1, 1), (0, 5), (1, \n",
       "2)]"
      ]
     },
     "execution_count": 4,
     "metadata": {},
     "output_type": "execute_result"
    }
   ],
   "source": [
    "verstorben()"
   ]
  },
  {
   "cell_type": "markdown",
   "metadata": {},
   "source": [
    "Zur Feststellung der Paare werden die Paarnummern (das 2. Element in jeder Liste)<br>\n",
    "separiert, die Liste sortiert und eine entsprechende Funktion bereitgestellt und ange-<br>\n",
    "wendet"
   ]
  },
  {
   "cell_type": "code",
   "execution_count": 5,
   "metadata": {
    "collapsed": false
   },
   "outputs": [
    {
     "data": {
      "text/latex": [
       "$$\\left [ 1, \\quad 2, \\quad 3, \\quad 4, \\quad 5, \\quad 6, \\quad 7, \\quad 7, \\quad 8, \\quad 8\\right ]$$"
      ],
      "text/plain": [
       "[1, 2, 3, 4, 5, 6, 7, 7, 8, 8]"
      ]
     },
     "execution_count": 5,
     "metadata": {},
     "output_type": "execute_result"
    }
   ],
   "source": [
    "sorted([x[1] for x in verstorben()])   # doppelte Zahl entspricht einem Paar"
   ]
  },
  {
   "cell_type": "code",
   "execution_count": 6,
   "metadata": {
    "collapsed": true
   },
   "outputs": [],
   "source": [
    "def anzahl_paare(v):    # v - verstorben()-Liste\n",
    "    vv = sorted([x[1] for x in v])\n",
    "    anz = 0\n",
    "    for i in range(9):\n",
    "        if vv[i+1] == vv[i]:\n",
    "            anz += 1\n",
    "    return anz"
   ]
  },
  {
   "cell_type": "code",
   "execution_count": 7,
   "metadata": {
    "collapsed": false
   },
   "outputs": [
    {
     "data": {
      "text/latex": [
       "$$\\left ( \\left [ \\left ( 1, \\quad 4\\right ), \\quad \\left ( 0, \\quad 8\\right ), \\quad \\left ( 1, \\quad 9\\right ), \\quad \\left ( 0, \\quad 3\\right ), \\quad \\left ( 0, \\quad 7\\right ), \\quad \\left ( 0, \\quad 1\\right ), \\quad \\left ( 1, \\quad 7\\right ), \\quad \\left ( 1, \\quad 10\\right ), \\quad \\left ( 1, \\quad 8\\right ), \\quad \\left ( 0, \\quad 9\\right )\\right ], \\quad 3\\right )$$"
      ],
      "text/plain": [
       "([(1, 4), (0, 8), (1, 9), (0, 3), (0, 7), (0, 1), (1, 7), (1, 10), (1, 8), (0,\n",
       " 9)], 3)"
      ]
     },
     "execution_count": 7,
     "metadata": {},
     "output_type": "execute_result"
    }
   ],
   "source": [
    "ve = verstorben()    \n",
    "ve, anzahl_paare(ve)   # Kontrole   "
   ]
  },
  {
   "cell_type": "markdown",
   "metadata": {},
   "source": [
    "Die <b>Simulation</b> wird mit $n$ solchen Listen durchgeführt, dabei werden die absoluten<br>\n",
    "Häufigkeiten gesammelt und anschliessend die Verteilung der relativen Häufigkeiten<br>\n",
    "berechnet"
   ]
  },
  {
   "cell_type": "code",
   "execution_count": 9,
   "metadata": {
    "collapsed": false,
    "scrolled": false
   },
   "outputs": [
    {
     "data": {
      "text/latex": [
       "$$\\left \\{ 0 : 67, \\quad 1 : 1221, \\quad 2 : 4340, \\quad 3 : 3701, \\quad 4 : 663, \\quad 5 : 8\\right \\}$$"
      ],
      "text/plain": [
       "{0: 67, 1: 1221, 2: 4340, 3: 3701, 4: 663, 5: 8}"
      ]
     },
     "execution_count": 9,
     "metadata": {},
     "output_type": "execute_result"
    }
   ],
   "source": [
    "n = 10000   # wiederholen\n",
    "\n",
    "absH = { x:0 for x in range(6) }   \n",
    "       # in diesem dict werden die absoluten Häufigkeiten für \n",
    "       # die möglichen Werte  0, 1, 2, ... , 5  gesammelt       \n",
    "for i in range(n):\n",
    "    ve = verstorben() \n",
    "    anz = anzahl_paare(ve)\n",
    "    absH[anz] += 1\n",
    "    \n",
    "absH"
   ]
  },
  {
   "cell_type": "code",
   "execution_count": 10,
   "metadata": {
    "collapsed": false
   },
   "outputs": [
    {
     "data": {
      "text/latex": [
       "$$\\left \\{ 0 : \\frac{67}{10000}, \\quad 1 : \\frac{1221}{10000}, \\quad 2 : \\frac{217}{500}, \\quad 3 : \\frac{3701}{10000}, \\quad 4 : \\frac{663}{10000}, \\quad 5 : \\frac{1}{1250}\\right \\}$$"
      ],
      "text/plain": [
       "⎧     67       1221     217      3701      663            ⎫\n",
       "⎨0: ─────, 1: ─────, 2: ───, 3: ─────, 4: ─────, 5: 1/1250⎬\n",
       "⎩   10000     10000     500     10000     10000           ⎭"
      ]
     },
     "execution_count": 10,
     "metadata": {},
     "output_type": "execute_result"
    }
   ],
   "source": [
    "relH = dict( [ (k, Rational(absH[k], n)) for k in absH ] )\n",
    "relH"
   ]
  },
  {
   "cell_type": "markdown",
   "metadata": {},
   "source": [
    "Die Bereitstellung einer Zufallsgröße auf der Basis dieser Verteilung erlaubt weitere<br>\n",
    "Betrachtungen zum Thema"
   ]
  },
  {
   "cell_type": "code",
   "execution_count": 11,
   "metadata": {
    "collapsed": true
   },
   "outputs": [],
   "source": [
    "zg = ZG(relH)"
   ]
  },
  {
   "cell_type": "code",
   "execution_count": 12,
   "metadata": {
    "collapsed": false
   },
   "outputs": [
    {
     "data": {
      "text/latex": [
       "$$\\left ( 2.37, \\quad 0.434\\right )$$"
      ],
      "text/plain": [
       "(2.37, 0.434)"
      ]
     },
     "execution_count": 12,
     "metadata": {},
     "output_type": "execute_result"
    }
   ],
   "source": [
    "zg.erw_(d=2), zg.P(2, d=4)"
   ]
  },
  {
   "cell_type": "code",
   "execution_count": 13,
   "metadata": {
    "collapsed": false
   },
   "outputs": [
    {
     "name": "stdout",
     "output_type": "stream",
     "text": [
      " \n"
     ]
    },
    {
     "data": {
      "image/png": "[encoded data removed]",
      "text/plain": [
       "<matplotlib.figure.Figure at 0x8bbfe10>"
      ]
     },
     "metadata": {},
     "output_type": "display_data"
    }
   ],
   "source": [
    "zg.hist"
   ]
  },
  {
   "cell_type": "markdown",
   "metadata": {},
   "source": [
    "Die <b>Simulation</b> kann auch einfach mit einer <b>DatenReihe</b> erfolgen, deren Attribute<br>\n",
    "und Methoden dann verwendet werden können"
   ]
  },
  {
   "cell_type": "code",
   "execution_count": 14,
   "metadata": {
    "collapsed": false
   },
   "outputs": [],
   "source": [
    "n = 10000\n",
    "simulation = [ anzahl_paare(verstorben()) for i in range(n) ]\n",
    "\n",
    "dr = DR(simulation)"
   ]
  },
  {
   "cell_type": "code",
   "execution_count": 15,
   "metadata": {
    "collapsed": false
   },
   "outputs": [
    {
     "data": {
      "text/latex": [
       "$$\\left ( 10000, \\quad \\left [ 2, \\quad 1, \\quad 3, \\quad 3, \\quad 2, \\quad 2, \\quad 3, \\quad 2, \\quad 3, \\quad 4\\right ]\\right )$$"
      ],
      "text/plain": [
       "(10000, [2, 1, 3, 3, 2, 2, 3, 2, 3, 4])"
      ]
     },
     "execution_count": 15,
     "metadata": {},
     "output_type": "execute_result"
    }
   ],
   "source": [
    "dr.n, dr.daten[:10]   # die ersten 10 Elemente von 10000"
   ]
  },
  {
   "cell_type": "code",
   "execution_count": 16,
   "metadata": {
    "collapsed": false
   },
   "outputs": [
    {
     "data": {
      "text/latex": [
       "$$\\left \\{ 0 : \\frac{53}{10000}, \\quad 1 : \\frac{1}{8}, \\quad 2 : \\frac{4331}{10000}, \\quad 3 : \\frac{1817}{5000}, \\quad 4 : \\frac{713}{10000}, \\quad 5 : \\frac{19}{10000}\\right \\}$$"
      ],
      "text/plain": [
       "⎧     53               4331     1817      713        19 ⎫\n",
       "⎨0: ─────, 1: 1/8, 2: ─────, 3: ────, 4: ─────, 5: ─────⎬\n",
       "⎩   10000             10000     5000     10000     10000⎭"
      ]
     },
     "execution_count": 16,
     "metadata": {},
     "output_type": "execute_result"
    }
   ],
   "source": [
    "dr.vert"
   ]
  },
  {
   "cell_type": "code",
   "execution_count": 17,
   "metadata": {
    "collapsed": false
   },
   "outputs": [
    {
     "data": {
      "text/latex": [
       "$$\\left ( 2.3761, \\quad 0.4331\\right )$$"
      ],
      "text/plain": [
       "(2.3761, 0.4331)"
      ]
     },
     "execution_count": 17,
     "metadata": {},
     "output_type": "execute_result"
    }
   ],
   "source": [
    "dr.mittel_(), dr.hh(2, d=4)"
   ]
  },
  {
   "cell_type": "code",
   "execution_count": 18,
   "metadata": {
    "collapsed": false
   },
   "outputs": [
    {
     "name": "stdout",
     "output_type": "stream",
     "text": [
      " \n"
     ]
    },
    {
     "data": {
      "image/png": "[encoded data removed]",
      "text/plain": [
       "<matplotlib.figure.Figure at 0x8c2a5f0>"
      ]
     },
     "metadata": {},
     "output_type": "display_data"
    }
   ],
   "source": [
    "dr.hist"
   ]
  },
  {
   "cell_type": "code",
   "execution_count": null,
   "metadata": {
    "collapsed": true
   },
   "outputs": [],
   "source": []
  }
 ],
 "metadata": {
  "anaconda-cloud": {},
  "kernelspec": {
   "display_name": "Python [default]",
   "language": "python",
   "name": "python3"
  },
  "language_info": {
   "codemirror_mode": {
    "name": "ipython",
    "version": 3
   },
   "file_extension": ".py",
   "mimetype": "text/x-python",
   "name": "python",
   "nbconvert_exporter": "python",
   "pygments_lexer": "ipython3",
   "version": "3.5.2"
  }
 },
 "nbformat": 4,
 "nbformat_minor": 0
}
