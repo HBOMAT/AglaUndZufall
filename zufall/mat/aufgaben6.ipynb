{
 "cells": [
  {
   "cell_type": "markdown",
   "metadata": {},
   "source": [
    "# Materialien zu <i>zufall</i>\n",
    "\n",
    "Autor: Holger Böttcher - hbomat@posteo.de\n",
    "\n",
    "## Aufgaben 6 - Astragalus"
   ]
  },
  {
   "cell_type": "markdown",
   "metadata": {},
   "source": [
    "<br>\n",
    "<i>Die Aufgabe wurden entnommen aus \n",
    "<br>\n",
    "<br>\n",
    "LS Stochastik<br>\n",
    "Grundkurs<br>\n",
    "Klett Verlag 1986<br>\n",
    "S. 36 Aufgabe 12\n",
    "</i>\n",
    "<br>\n",
    "<br>\n",
    "Griechen und Römer verwendeten neben dem Würfel den Astragalus, einen Knöchel<br>\n",
    "aus dem Hinterfuß einer Ziege oder eines Schafes. Ein Astragalus hat 4 längliche, <br>\n",
    "voneinander verschiedene und 2 kleinere, gewölbte Seitenflächen, auf die er nicht <br>\n",
    "fallen kann. Die länglichen Seitenflächen werden mit 1, 3, 4, 6 bezeichnet. \n",
    "<br>"
   ]
  },
  {
   "cell_type": "code",
   "execution_count": 1,
   "metadata": {
    "collapsed": false
   },
   "outputs": [],
   "source": [
    "%run zufall/start"
   ]
  },
  {
   "cell_type": "markdown",
   "metadata": {},
   "source": [
    "In dem dictionary"
   ]
  },
  {
   "cell_type": "code",
   "execution_count": 2,
   "metadata": {
    "collapsed": false
   },
   "outputs": [
    {
     "data": {
      "text/latex": [
       "$$\\left \\{ 1 : 44, \\quad 3 : 191, \\quad 4 : 187, \\quad 6 : 53\\right \\}$$"
      ],
      "text/plain": [
       "{1: 44, 3: 191, 4: 187, 6: 53}"
      ]
     },
     "execution_count": 2,
     "metadata": {},
     "output_type": "execute_result"
    }
   ],
   "source": [
    "tab = { 1:44, 3:191, 4:187, 6:53 }; tab"
   ]
  },
  {
   "cell_type": "markdown",
   "metadata": {},
   "source": [
    "ist das Protokoll von 475 Würfen enthalten\n",
    "<br>\n",
    "<br>\n",
    "a)  Lege eine Wahrscheinlichkeitsverteilung fest\n",
    "<br>\n",
    "<br>\n",
    "b)  Der Astragalus wird 4-mal geworfen. Berechne die Wahrscheinlichkeiten für \n",
    "<br>\n",
    "<br>\n",
    "&nbsp;&nbsp;&nbsp;&nbsp; $A$ = \"alle Würfe zeigen 1\"<br>\n",
    "&nbsp;&nbsp;&nbsp;&nbsp; $B$ = \"alle Würfe sind verschieden\"<br>\n",
    "&nbsp;&nbsp;&nbsp;&nbsp; $C$ = \"Augensumme = 8\""
   ]
  },
  {
   "cell_type": "markdown",
   "metadata": {},
   "source": [
    "### Zu a)</h4>"
   ]
  },
  {
   "cell_type": "code",
   "execution_count": 3,
   "metadata": {
    "collapsed": false
   },
   "outputs": [
    {
     "data": {
      "text/latex": [
       "$$ZufallsExperiment(Stufen=1, mit Wiederholung , mit Anordnung)$$"
      ],
      "text/plain": [
       "ZufallsExperiment(Stufen=1, mit Wiederholung , mit Anordnung)"
      ]
     },
     "execution_count": 3,
     "metadata": {},
     "output_type": "execute_result"
    }
   ],
   "source": [
    "ast = ZE(tab); ast"
   ]
  },
  {
   "cell_type": "code",
   "execution_count": 6,
   "metadata": {
    "collapsed": false
   },
   "outputs": [
    {
     "data": {
      "text/latex": [
       "$$\\left ( \\left \\{ 1 : \\frac{44}{475}, \\quad 3 : \\frac{191}{475}, \\quad 4 : \\frac{98421052631579}{250000000000000}, \\quad 6 : \\frac{53}{475}\\right \\}, \\quad \\left \\{ 1 : 0.0926, \\quad 3 : 0.4021, \\quad 4 : 0.3937, \\quad 6 : 0.1116\\right \\}\\right )$$"
      ],
      "text/plain": [
       "⎛⎧    44     191      98421052631579      53⎫                                 \n",
       "⎜⎨1: ───, 3: ───, 4: ───────────────, 6: ───⎬, {1: 0.0926, 3: 0.4021, 4: 0.393\n",
       "⎝⎩   475     475     250000000000000     475⎭                                 \n",
       "\n",
       "             ⎞\n",
       "7, 6: 0.1116}⎟\n",
       "             ⎠"
      ]
     },
     "execution_count": 6,
     "metadata": {},
     "output_type": "execute_result"
    }
   ],
   "source": [
    "ast.vert, ast.vert_(d=4)"
   ]
  },
  {
   "cell_type": "markdown",
   "metadata": {},
   "source": [
    "### Zu b)"
   ]
  },
  {
   "cell_type": "code",
   "execution_count": 7,
   "metadata": {
    "collapsed": false
   },
   "outputs": [
    {
     "data": {
      "text/latex": [
       "$$ZufallsExperiment(Stufen=4, mit Wiederholung , mit Anordnung)$$"
      ],
      "text/plain": [
       "ZufallsExperiment(Stufen=4, mit Wiederholung , mit Anordnung)"
      ]
     },
     "execution_count": 7,
     "metadata": {},
     "output_type": "execute_result"
    }
   ],
   "source": [
    "ast4 = ZE(tab, 4); ast4"
   ]
  },
  {
   "cell_type": "code",
   "execution_count": 8,
   "metadata": {
    "collapsed": false
   },
   "outputs": [
    {
     "data": {
      "text/latex": [
       "$$7.36269e-05$$"
      ],
      "text/plain": [
       "7.36269e-05"
      ]
     },
     "execution_count": 8,
     "metadata": {},
     "output_type": "execute_result"
    }
   ],
   "source": [
    "ast4.P('1111', d=10)   # Antwort für A"
   ]
  },
  {
   "cell_type": "markdown",
   "metadata": {},
   "source": [
    "Die verschiedenen Würfe sind"
   ]
  },
  {
   "cell_type": "code",
   "execution_count": 9,
   "metadata": {
    "collapsed": false
   },
   "outputs": [
    {
     "data": {
      "text/latex": [
       "$$\\left [ 1346, \\quad 1364, \\quad 1436, \\quad 1463, \\quad 1634, \\quad 1643, \\quad 3146, \\quad 3164, \\quad 3416, \\quad 3461, \\quad 3614, \\quad 3641, \\quad 4136, \\quad 4163, \\quad 4316, \\quad 4361, \\quad 4613, \\quad 4631, \\quad 6134, \\quad 6143, \\quad 6314, \\quad 6341, \\quad 6413, \\quad 6431\\right ]$$"
      ],
      "text/plain": [
       "[1346, 1364, 1436, 1463, 1634, 1643, 3146, 3164, 3416, 3461, 3614, 3641, 4136,\n",
       " 4163, 4316, 4361, 4613, 4631, 6134, 6143, 6314, 6341, 6413, 6431]"
      ]
     },
     "execution_count": 9,
     "metadata": {},
     "output_type": "execute_result"
    }
   ],
   "source": [
    "versch = permutationen([1, 3, 4, 6], k=ja); versch"
   ]
  },
  {
   "cell_type": "code",
   "execution_count": 10,
   "metadata": {
    "collapsed": false
   },
   "outputs": [
    {
     "data": {
      "text/latex": [
       "$$0.0393$$"
      ],
      "text/plain": [
       "0.0393"
      ]
     },
     "execution_count": 10,
     "metadata": {},
     "output_type": "execute_result"
    }
   ],
   "source": [
    "ast4.P(versch, d=4)"
   ]
  },
  {
   "cell_type": "markdown",
   "metadata": {},
   "source": [
    "Da alle diese Würfe gleich wahrscheinlich sind, ist der Wert auch einfacher<br> zu ermitteln"
   ]
  },
  {
   "cell_type": "code",
   "execution_count": 14,
   "metadata": {
    "collapsed": false
   },
   "outputs": [
    {
     "data": {
      "text/latex": [
       "$$0.0384$$"
      ],
      "text/plain": [
       "0.0384000000000000"
      ]
     },
     "execution_count": 14,
     "metadata": {},
     "output_type": "execute_result"
    }
   ],
   "source": [
    "ast4.P('1346', d=4) * perm(4)"
   ]
  },
  {
   "cell_type": "markdown",
   "metadata": {},
   "source": [
    "Die Differenz ergibt sich aus der Rundung des benutzten Wertes für die Einzel-<br>\n",
    "wahrscheinlichkeit"
   ]
  },
  {
   "cell_type": "code",
   "execution_count": 15,
   "metadata": {
    "collapsed": false
   },
   "outputs": [
    {
     "data": {
      "text/latex": [
       "$$\\left ( \\frac{32878438421052649161}{837280273437500000000}, \\quad 0.0392681393126204\\right )$$"
      ],
      "text/plain": [
       "⎛ 32878438421052649161                    ⎞\n",
       "⎜─────────────────────, 0.0392681393126204⎟\n",
       "⎝837280273437500000000                    ⎠"
      ]
     },
     "execution_count": 15,
     "metadata": {},
     "output_type": "execute_result"
    }
   ],
   "source": [
    "ast4.P('1346')*perm(4),    N(ast4.P('1346')*perm(4))   "
   ]
  },
  {
   "cell_type": "markdown",
   "metadata": {},
   "source": [
    "### Zu c)"
   ]
  },
  {
   "cell_type": "markdown",
   "metadata": {},
   "source": [
    "Mittels der ZG-Funktion $summe$ wird die ZufallsGroesse $AugSumme$ erzeugt und<br>\n",
    "die Wahrscheinlichkeit berechnet"
   ]
  },
  {
   "cell_type": "code",
   "execution_count": 16,
   "metadata": {
    "collapsed": false
   },
   "outputs": [
    {
     "name": "stdout",
     "output_type": "stream",
     "text": [
      "Erzeugung eines ZufallsGroesse-Objektes\n"
     ]
    }
   ],
   "source": [
    "AugSumme = ZE(tab, 4, f=summe)"
   ]
  },
  {
   "cell_type": "code",
   "execution_count": 17,
   "metadata": {
    "collapsed": false
   },
   "outputs": [
    {
     "data": {
      "text/latex": [
       "$$\\left ( \\frac{423763296}{50906640625}, \\quad 0.0083\\right )$$"
      ],
      "text/plain": [
       "⎛ 423763296         ⎞\n",
       "⎜───────────, 0.0083⎟\n",
       "⎝50906640625        ⎠"
      ]
     },
     "execution_count": 17,
     "metadata": {},
     "output_type": "execute_result"
    }
   ],
   "source": [
    "AugSumme.P(8),      AugSumme.P(8, d=4)"
   ]
  },
  {
   "cell_type": "markdown",
   "metadata": {},
   "source": [
    "Diese Wahrscheinlichkeit kann auch aus der Überlegung gewonnen werden, dass <br>\n",
    "eine 8 nur aus zwei Einsen und zwei Dreien entstehen kann"
   ]
  },
  {
   "cell_type": "code",
   "execution_count": 18,
   "metadata": {
    "collapsed": false,
    "scrolled": true
   },
   "outputs": [
    {
     "data": {
      "text/latex": [
       "$$\\frac{423763296}{50906640625}$$"
      ],
      "text/plain": [
       " 423763296 \n",
       "───────────\n",
       "50906640625"
      ]
     },
     "execution_count": 18,
     "metadata": {},
     "output_type": "execute_result"
    }
   ],
   "source": [
    "ast.P(1)^2 * ast.P(3)^2 * perm(4) / fakultaet(2)^2"
   ]
  },
  {
   "cell_type": "code",
   "execution_count": null,
   "metadata": {
    "collapsed": true
   },
   "outputs": [],
   "source": []
  }
 ],
 "metadata": {
  "anaconda-cloud": {},
  "kernelspec": {
   "display_name": "Python [default]",
   "language": "python",
   "name": "python3"
  },
  "language_info": {
   "codemirror_mode": {
    "name": "ipython",
    "version": 3
   },
   "file_extension": ".py",
   "mimetype": "text/x-python",
   "name": "python",
   "nbconvert_exporter": "python",
   "pygments_lexer": "ipython3",
   "version": "3.5.2"
  }
 },
 "nbformat": 4,
 "nbformat_minor": 0
}
