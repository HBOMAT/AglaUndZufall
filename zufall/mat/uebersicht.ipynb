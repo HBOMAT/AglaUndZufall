{
 "cells": [
  {
   "cell_type": "markdown",
   "metadata": {},
   "source": [
    "# Materialien zu <i>zufall</i>\n",
    "\n",
    "Autor: Holger Böttcher - hbomat@posteo.de\n",
    "\n",
    "## Aufgaben - Übersicht"
   ]
  },
  {
   "cell_type": "markdown",
   "metadata": {
    "collapsed": true
   },
   "source": [
    "<br>\n",
    "Aufgaben &nbsp;&nbsp;&nbsp;&nbsp;1 - Baumdiagramme\n",
    "<br><br>\n",
    "Aufgaben &nbsp;&nbsp;&nbsp;&nbsp;2 - Urnen-Experimente (1)\n",
    "<br><br>\n",
    "Aufgaben &nbsp;&nbsp;&nbsp;&nbsp;3 - Urnen-Experimente (2)\n",
    "<br><br>\n",
    "Aufgaben &nbsp;&nbsp;&nbsp;&nbsp;4 - Mehrere Listen\n",
    "<br><br>\n",
    "Aufgaben &nbsp;&nbsp;&nbsp;&nbsp;5 - Vollständige Listen\n",
    "<br><br>\n",
    "Aufgaben &nbsp;&nbsp;&nbsp;&nbsp;6 - Astragalus\n",
    "<br><br>\n",
    "Aufgaben &nbsp;&nbsp;&nbsp;&nbsp;7 - Vierfeldertafeln\n",
    "<br><br>\n",
    "Aufgaben &nbsp;&nbsp;&nbsp;&nbsp;8 - Wahrscheinlichkeiten der Binomialverteilung\n",
    "<br><br>\n",
    "Aufgaben &nbsp;&nbsp;&nbsp;&nbsp;9 - Verteilung der Augensumme beim Würfeln\n",
    "<br><br>\n",
    "Aufgaben &nbsp;&nbsp;10 - Zum Geburtstagsproblem\n",
    "<br><br>\n",
    "Aufgaben &nbsp;&nbsp;11 - Zum Rencontre - Problem\n",
    "<br><br>\n",
    "Aufgaben &nbsp;&nbsp;12 - Zum Ziegenproblem\n",
    "<br><br>\n",
    "Aufgaben &nbsp;&nbsp;13 - Simulation (Probleme von Leibniz und de Méré)\n",
    "<br><br>\n",
    "Aufgaben &nbsp;&nbsp;14 - Simulation (Geburtstage)\n",
    "<br><br>\n",
    "Aufgaben &nbsp;&nbsp;15 - Simulation (Zahlenlotto)\n",
    "<br><br>\n",
    "Aufgaben &nbsp;&nbsp;16 - Simulation (Bernoulliketten)\n",
    "<br><br>\n",
    "Aufgaben &nbsp;&nbsp;17 - Simulation (Ehepaare)\n",
    "<br><br>\n",
    "Aufgaben &nbsp;&nbsp;18 - Korrelation und Regression\n",
    "<br><br>\n",
    "Aufgaben &nbsp;&nbsp; K1 - Übungsklausur 1\n",
    "<br><br>\n",
    "Aufgaben &nbsp;&nbsp; K2 - Übungsklausur 2\n",
    "<br><br>\n",
    "Aufgaben &nbsp;&nbsp; K3 - Übungsklausur 3\n",
    "<br><br>\n",
    "Aufgaben &nbsp;&nbsp; K4 - Übungsklausur 4\n",
    "<br><br>\n",
    "Aufgaben &nbsp;&nbsp; K5 - Übungsklausur 5\n",
    "<br><br>\n",
    "Aufgaben &nbsp;&nbsp; K6 - Übungsklausur 6\n",
    "<br><br>\n",
    "Aufgaben &nbsp;&nbsp; K7 - Übungsklausur 7\n",
    "<br><br>\n",
    "Aufgaben &nbsp;&nbsp; K8-  Übungsklausur 8\n",
    "<br><br>"
   ]
  },
  {
   "cell_type": "code",
   "execution_count": null,
   "metadata": {
    "collapsed": true
   },
   "outputs": [],
   "source": []
  }
 ],
 "metadata": {
  "anaconda-cloud": {},
  "kernelspec": {
   "display_name": "Python [default]",
   "language": "python",
   "name": "python3"
  },
  "language_info": {
   "codemirror_mode": {
    "name": "ipython",
    "version": 3
   },
   "file_extension": ".py",
   "mimetype": "text/x-python",
   "name": "python",
   "nbconvert_exporter": "python",
   "pygments_lexer": "ipython3",
   "version": "3.5.2"
  }
 },
 "nbformat": 4,
 "nbformat_minor": 0
}
