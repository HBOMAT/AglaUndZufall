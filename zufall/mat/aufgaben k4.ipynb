{
 "cells": [
  {
   "cell_type": "markdown",
   "metadata": {},
   "source": [
    "# Materialien zu <i>zufall</i>\n",
    "\n",
    "Autor: Holger Böttcher - hbomat@posteo.de\n",
    "\n",
    "## Aufgaben K4 - Übungsklausur 4"
   ]
  },
  {
   "cell_type": "markdown",
   "metadata": {},
   "source": [
    "<br>\n",
    "<i>Die Aufgaben wurden entnommen aus \n",
    "<br><br>\n",
    "A. Müller<br>\n",
    "Wahrscheinlichkeitsrechnung und Statistik<br>\n",
    "Grundkurs<br>\n",
    "Stark Verlag 1997<br>\n",
    "S. 76 Klausur 4<br>\n",
    "</i>\n",
    "<br><br>\n",
    "In einem bestimmten Jahr ist die Wahrscheinlichkeit dafür, dass eine Person an <br>\n",
    "Grippe erkrankt, 30%. Die Wahrscheinlichkeit, dass eine gegen Grippe geimpfte <br>\n",
    "Person  erkrankt, beträgt 5%, dass eine nicht geimpfte nicht erkrankt, 40%.\n",
    "<br><br>\n",
    "1.  a)  Geben Sie eine vollständige Vierfeldertafel an und überprüfen Sie die Ereig-<br>\n",
    "$\\quad$nisse $E$: \"Erkrankung an Grippe\"  und $G$: \"Geimpft gegen Grippe\" auf stocha-<br>\n",
    "$\\quad$stische Unabhängigkeit\n",
    "\n",
    "    b)  Mit welcher Wahrscheinlichkeit gilt für eine beliebige Person, dass sie\n",
    "      \n",
    "    $\\quad$(1)  nicht geimpft ist und an Grippe erkrankt,<br>\n",
    "    $\\quad$(2)  entweder geimpft ist oder an Grippe erkrankt,<br>\n",
    "    $\\quad$(3)  geimpft ist und nicht an Grippe erkrankt?<br>\n",
    "<br>          \n",
    "2.  a)  Mit welcher Wahrscheinlichkeit erkranken unter 100 zufällig ausgewählten<br>\n",
    "$\\quad$Personen mehr als erwartet an Grippe?\n",
    "          \n",
    "     b)  Aus einer Gruppe von Personen werden $n$ ausgewählt und in einer bestimmten<br>\n",
    "     $\\quad$Reihenfolge notiert. Wie groß muss diese Zahl $n$ mindestens sein, wenn das Ereig-<br>\n",
    "     $\\quad$nis, dass nur die letzten beiden notierten Personen an Grippe erkranken, höchstens<br>\n",
    "     $\\quad$1% beträgt?\n",
    "\n",
    "     c)  Wie groß darf eine Gruppe von Personen höchstens sein, dass es lohnt darauf zu <br>\n",
    "     $\\quad$wetten, dass keine von ihnen an Grippe erkrankt?<br><br>\n",
    "          \n",
    "3.  Häufig ist die Grippe mit einem langwierigen Husten verbunden, der vom Mittel $M$ <br>\n",
    "mit einer Wahrscheinlichkeit von 60% kurzfristig geheilt wird. Ist das Mittel $M$ er-<br>\n",
    "folglos angewendet worden, so wird der Patient mit einem zweiten Mittel $N$ behandelt, <br>\n",
    "das mit einer Wahrscheinlichkeit von 50% rasch wirkt.\n",
    "\n",
    "     a)  Eine an Husten erkrankte Person wird mit $M$ und gegebenenfalls mit $N$ behandelt. <br>\n",
    "     $\\quad$Mit welcher Wahrscheinlichkeit wird sie durch diese Behandlung geheilt?\n",
    "\n",
    "     b)  Eine Gruppe von 100 an Husten erkrankten Personen wird der beschriebenen Be-<br>\n",
    "     $\\quad$handlung unterzogen. Von wie vielen erwartet man, dass sie nicht kurzfristig geheilt <br>\n",
    "     $\\quad$werden?\n",
    "     \n",
    "     c)  Bei der Behandlung mit $N$ tritt mit einer Wahrscheinlichkeit von 20% unabhängig<br>\n",
    "     $\\quad$mit $N$ behandelter Patient ohne Nebenwirkung geheilt?<br><br>\n",
    "\n",
    "4.  In einer Gruppe von 200 Personen ist nur jeder fünfte an Grippe erkrankt. Widerspricht <br>\n",
    "dieses Ergebnis der oben aufgestellten Hypothese  $H_0: p_0 \\ge 0.3$ auf dem 5%-Signifi-<br>\n",
    "kanzniveau?\n",
    "<br><br>"
   ]
  },
  {
   "cell_type": "code",
   "execution_count": 1,
   "metadata": {
    "collapsed": false
   },
   "outputs": [],
   "source": [
    "%run zufall/start"
   ]
  },
  {
   "cell_type": "markdown",
   "metadata": {
    "collapsed": true
   },
   "source": [
    "### Zu 1."
   ]
  },
  {
   "cell_type": "markdown",
   "metadata": {},
   "source": [
    "### a)\n",
    "Die durch Ergänzung der Angaben (es sind alles Prozentwerte) erhaltene Vier-<br>\n",
    "feldertafel ist ( nichtG steht für $\\overline{G}$, nichtE für $\\overline{E}$)"
   ]
  },
  {
   "cell_type": "code",
   "execution_count": 2,
   "metadata": {
    "collapsed": false
   },
   "outputs": [
    {
     "data": {
      "image/png": "[encoded data removed]",
      "text/plain": [
       "<matplotlib.figure.Figure at 0x92155f0>"
      ]
     },
     "metadata": {},
     "output_type": "display_data"
    },
    {
     "name": "stdout",
     "output_type": "stream",
     "text": [
      " \n"
     ]
    }
   ],
   "source": [
    "t = VT([5, 25, 30, 40], ['G', 'nichtG', 'E', 'nichtE'])\n",
    "t.ausg"
   ]
  },
  {
   "cell_type": "code",
   "execution_count": 3,
   "metadata": {
    "collapsed": false
   },
   "outputs": [
    {
     "name": "stdout",
     "output_type": "stream",
     "text": [
      " \n"
     ]
    },
    {
     "data": {
      "text/latex": [
       "$$\\text{Vorliegende Vierfeldertafel}$$"
      ],
      "text/plain": [
       "<IPython.core.display.Math object>"
      ]
     },
     "metadata": {},
     "output_type": "display_data"
    },
    {
     "data": {
      "image/png": "[encoded data removed]",
      "text/plain": [
       "<matplotlib.figure.Figure at 0x92c7f70>"
      ]
     },
     "metadata": {},
     "output_type": "display_data"
    },
    {
     "name": "stdout",
     "output_type": "stream",
     "text": [
      " \n"
     ]
    },
    {
     "data": {
      "text/latex": [
       "$$\\text{In der Tafel enthaltene Wahrscheinlichkeiten}$$"
      ],
      "text/plain": [
       "<IPython.core.display.Math object>"
      ]
     },
     "metadata": {},
     "output_type": "display_data"
    },
    {
     "data": {
      "text/latex": [
       "$$\\qquad P(G \\cap E) = \\frac{5}{100}=0.05\\qquad P(nichtG \\cap E) = \\frac{25}{100}=0.25 \\qquad $$"
      ],
      "text/plain": [
       "<IPython.core.display.Math object>"
      ]
     },
     "metadata": {},
     "output_type": "display_data"
    },
    {
     "data": {
      "text/latex": [
       "$$\\qquad\\qquad\\qquad P(E)= \\frac{30}{100}=0.3\\qquad P(nichtE)= \\frac{70}{100}=0.7$$"
      ],
      "text/plain": [
       "<IPython.core.display.Math object>"
      ]
     },
     "metadata": {},
     "output_type": "display_data"
    },
    {
     "data": {
      "text/latex": [
       "$$\\qquad P(G \\cap nichtE) = \\frac{30}{100}=0.3\\qquad P(nichtG \\cap nichtE) = \\frac{40}{100}=0.4 \\qquad $$"
      ],
      "text/plain": [
       "<IPython.core.display.Math object>"
      ]
     },
     "metadata": {},
     "output_type": "display_data"
    },
    {
     "data": {
      "text/latex": [
       "$$\\qquad\\qquad\\qquad P(G) = \\frac{35}{100}=0.35\\qquad P(nichtG) = \\frac{65}{100}=0.65$$"
      ],
      "text/plain": [
       "<IPython.core.display.Math object>"
      ]
     },
     "metadata": {},
     "output_type": "display_data"
    },
    {
     "data": {
      "text/latex": [
       "$$\\text{Bedingte Wahrscheinlichkeiten  (Verwendung der Bayes-Formel)}$$"
      ],
      "text/plain": [
       "<IPython.core.display.Math object>"
      ]
     },
     "metadata": {},
     "output_type": "display_data"
    },
    {
     "data": {
      "text/latex": [
       "$$\\qquad P(G\\,|\\,E) = \\frac{P(G \\cap E)}{P(E)} = \\frac{5}{30} = 0.1667$$"
      ],
      "text/plain": [
       "<IPython.core.display.Math object>"
      ]
     },
     "metadata": {},
     "output_type": "display_data"
    },
    {
     "data": {
      "text/latex": [
       "$$\\qquad P(G\\,|\\,nichtE) = \\frac{P(G \\cap nichtE)}{P(nichtE)} = \\frac{30}{70} = 0.4286$$"
      ],
      "text/plain": [
       "<IPython.core.display.Math object>"
      ]
     },
     "metadata": {},
     "output_type": "display_data"
    },
    {
     "data": {
      "text/latex": [
       "$$\\qquad P(E\\,|\\,G) = \\frac{P(E \\cap G)}{P(G)} = \\frac{5}{35} = 0.1429$$"
      ],
      "text/plain": [
       "<IPython.core.display.Math object>"
      ]
     },
     "metadata": {},
     "output_type": "display_data"
    },
    {
     "data": {
      "text/latex": [
       "$$\\qquad P(E\\,|\\,nichtG) = \\frac{P(E \\cap nichtG)}{P(nichtG)} = \\frac{25}{65} = 0.3846$$"
      ],
      "text/plain": [
       "<IPython.core.display.Math object>"
      ]
     },
     "metadata": {},
     "output_type": "display_data"
    },
    {
     "data": {
      "text/latex": [
       "$$\\qquad P(nichtG\\,|\\,E) = \\frac{P(nichtG \\cap E)}{P(E)} = \\frac{25}{30} = 0.8333$$"
      ],
      "text/plain": [
       "<IPython.core.display.Math object>"
      ]
     },
     "metadata": {},
     "output_type": "display_data"
    },
    {
     "data": {
      "text/latex": [
       "$$\\qquad P(nichtG\\,|\\,nichtE) = \\frac{P(nichtG \\cap nichtE)}{P(nichtE)} = \\frac{40}{70} = 0.5714$$"
      ],
      "text/plain": [
       "<IPython.core.display.Math object>"
      ]
     },
     "metadata": {},
     "output_type": "display_data"
    },
    {
     "data": {
      "text/latex": [
       "$$\\qquad P(nichtE\\,|\\,G) = \\frac{P(nichtE \\cap G)}{P(G)} = \\frac{30}{35} = 0.8571$$"
      ],
      "text/plain": [
       "<IPython.core.display.Math object>"
      ]
     },
     "metadata": {},
     "output_type": "display_data"
    },
    {
     "data": {
      "text/latex": [
       "$$\\qquad P(nichtE\\,|\\,nichtG) = \\frac{P(nichtE \\cap nichtG)}{P(nichtG)} = \\frac{40}{65} = 0.6154$$"
      ],
      "text/plain": [
       "<IPython.core.display.Math object>"
      ]
     },
     "metadata": {},
     "output_type": "display_data"
    },
    {
     "data": {
      "text/latex": [
       "$$\\mathrm{siehe\\; auch} \\quad vt.hb.wahrsch$$"
      ],
      "text/plain": [
       "<IPython.core.display.Math object>"
      ]
     },
     "metadata": {},
     "output_type": "display_data"
    },
    {
     "name": "stdout",
     "output_type": "stream",
     "text": [
      " \n"
     ]
    }
   ],
   "source": [
    "t.wahrsch"
   ]
  },
  {
   "cell_type": "markdown",
   "metadata": {},
   "source": [
    "Die Tabelle zeigt die stochastische Abhängigkeit der Ereignisse"
   ]
  },
  {
   "cell_type": "code",
   "execution_count": 4,
   "metadata": {
    "collapsed": false
   },
   "outputs": [
    {
     "name": "stdout",
     "output_type": "stream",
     "text": [
      " \n"
     ]
    },
    {
     "data": {
      "text/latex": [
       "$$\\mathrm{Vorliegende\\; VierFelderTafel}$$"
      ],
      "text/plain": [
       "<IPython.core.display.Math object>"
      ]
     },
     "metadata": {},
     "output_type": "display_data"
    },
    {
     "data": {
      "image/png": "[encoded data removed]",
      "text/plain": [
       "<matplotlib.figure.Figure at 0x98316b0>"
      ]
     },
     "metadata": {},
     "output_type": "display_data"
    },
    {
     "name": "stdout",
     "output_type": "stream",
     "text": [
      " \n"
     ]
    },
    {
     "data": {
      "text/latex": [
       "$$\\mathrm{Bei\\;Unabhängigkeit\\;der\\;Ereignisse}\\;G\\;\\mathrm{und}\\;E\\;\\mathrm{gilt\\;nach\\;dem\\;Multiplikationssatz}$$"
      ],
      "text/plain": [
       "<IPython.core.display.Math object>"
      ]
     },
     "metadata": {},
     "output_type": "display_data"
    },
    {
     "data": {
      "text/latex": [
       "$$\\qquad P(G \\cap E) = P(G) \\cdot P(E)$$"
      ],
      "text/plain": [
       "<IPython.core.display.Math object>"
      ]
     },
     "metadata": {},
     "output_type": "display_data"
    },
    {
     "data": {
      "text/latex": [
       "$$\\mathrm{Hier\\;ist}$$"
      ],
      "text/plain": [
       "<IPython.core.display.Math object>"
      ]
     },
     "metadata": {},
     "output_type": "display_data"
    },
    {
     "data": {
      "text/latex": [
       "$$\\qquad P(G) = \\frac{35}{100}=0.35\\qquad P(E) = \\frac{30}{100}=0.3$$"
      ],
      "text/plain": [
       "<IPython.core.display.Math object>"
      ]
     },
     "metadata": {},
     "output_type": "display_data"
    },
    {
     "data": {
      "text/latex": [
       "$$\\qquad P(G \\cap E) = \\frac{5}{100}=0.05\\qquad P(G)\\cdot P( E) = 0.35\\cdot0.3=0.105$$"
      ],
      "text/plain": [
       "<IPython.core.display.Math object>"
      ]
     },
     "metadata": {},
     "output_type": "display_data"
    },
    {
     "data": {
      "text/latex": [
       "$$\\qquad P(G \\cap E) - P(G)\\cdot P( E) = -0.055$$"
      ],
      "text/plain": [
       "<IPython.core.display.Math object>"
      ]
     },
     "metadata": {},
     "output_type": "display_data"
    },
    {
     "name": "stdout",
     "output_type": "stream",
     "text": [
      " \n"
     ]
    }
   ],
   "source": [
    "t.unabh"
   ]
  },
  {
   "cell_type": "markdown",
   "metadata": {},
   "source": [
    "### b)\n",
    "Aus der Tafel folgt <br><br>\n",
    "$P_1 = 0.25$<br>\n",
    "$P_2 = P(G \\cap \\overline{E}) + P(\\overline{G} \\cap E) = 0.3+0.25 = 0.55$<br>\n",
    "$P_33 = 0.3$<br>\n",
    "\n",
    "### Zu 2.\n",
    "\n",
    "### a)"
   ]
  },
  {
   "cell_type": "code",
   "execution_count": 5,
   "metadata": {
    "collapsed": false
   },
   "outputs": [
    {
     "data": {
      "text/latex": [
       "$$30.0$$"
      ],
      "text/plain": [
       "30.0"
      ]
     },
     "execution_count": 5,
     "metadata": {},
     "output_type": "execute_result"
    }
   ],
   "source": [
    "0.3 * 100     # Erwartete Anzahl erkrankter Personen"
   ]
  },
  {
   "cell_type": "code",
   "execution_count": 6,
   "metadata": {
    "collapsed": false
   },
   "outputs": [
    {
     "name": "stdout",
     "output_type": "stream",
     "text": [
      "Erzeugung eines BernoulliKette-BinomialVerteilung-Objektes\n"
     ]
    },
    {
     "data": {
      "text/latex": [
       "$$0.4509$$"
      ],
      "text/plain": [
       "0.4509"
      ]
     },
     "execution_count": 6,
     "metadata": {},
     "output_type": "execute_result"
    }
   ],
   "source": [
    "vv = BK(100, 0.3)    # Bernoullikette für 100 Personen\n",
    "vv.P(X > 30, d=4)"
   ]
  },
  {
   "cell_type": "markdown",
   "metadata": {
    "collapsed": false
   },
   "source": [
    "### b)\n",
    "Die Kette enthält $n-2$ mal Niete und 2 Treffer, die (per Hand mittels Logarithmie-<br>ren) zu lösende Ungleichung ist"
   ]
  },
  {
   "cell_type": "code",
   "execution_count": 7,
   "metadata": {
    "collapsed": false
   },
   "outputs": [
    {
     "data": {
      "text/latex": [
       "$$0.09 \\cdot 0.7^{n - 2} < 0.01$$"
      ],
      "text/plain": [
       "        n - 2       \n",
       "0.09⋅0.7      < 0.01"
      ]
     },
     "execution_count": 7,
     "metadata": {},
     "output_type": "execute_result"
    }
   ],
   "source": [
    "0.7^(n-2)*0.3^2 < 0.01"
   ]
  },
  {
   "cell_type": "code",
   "execution_count": 8,
   "metadata": {
    "collapsed": false
   },
   "outputs": [
    {
     "data": {
      "text/latex": [
       "$$8.16029977624009 < n \\wedge n < \\infty$$"
      ],
      "text/plain": [
       "8.16029977624009 < n ∧ n < ∞"
      ]
     },
     "execution_count": 8,
     "metadata": {},
     "output_type": "execute_result"
    }
   ],
   "source": [
    "löse(0.7^(n-2)*0.3^2 < 0.01)"
   ]
  },
  {
   "cell_type": "code",
   "execution_count": 9,
   "metadata": {
    "collapsed": false
   },
   "outputs": [
    {
     "data": {
      "text/latex": [
       "$$\\left(8.16029977624009, \\infty\\right)$$"
      ],
      "text/plain": [
       "(8.16029977624009, ∞)"
      ]
     },
     "execution_count": 9,
     "metadata": {},
     "output_type": "execute_result"
    }
   ],
   "source": [
    "# oder\n",
    "\n",
    "löse(0.7^(n-2)*0.3^2 < 0.01, set=ja)   # n ist mindestens 9"
   ]
  },
  {
   "cell_type": "markdown",
   "metadata": {},
   "source": [
    "### c)\n",
    "Die Gewinnwahrscheinlichkeit der Wette ist gleich der Wahrscheinlichkeit dafür, <br>\n",
    "dass keine der $n$ Personen erkrankt ist, es muss gelten "
   ]
  },
  {
   "cell_type": "code",
   "execution_count": 10,
   "metadata": {
    "collapsed": false
   },
   "outputs": [
    {
     "data": {
      "text/latex": [
       "$$0.7^{n} > 0.5$$"
      ],
      "text/plain": [
       "   n      \n",
       "0.7  > 0.5"
      ]
     },
     "execution_count": 10,
     "metadata": {},
     "output_type": "execute_result"
    }
   ],
   "source": [
    "0.7^n > 0.5"
   ]
  },
  {
   "cell_type": "code",
   "execution_count": 11,
   "metadata": {
    "collapsed": false
   },
   "outputs": [
    {
     "data": {
      "text/latex": [
       "$$\\left(-\\infty, 1.94335820987473\\right)$$"
      ],
      "text/plain": [
       "(-∞, 1.94335820987473)"
      ]
     },
     "execution_count": 11,
     "metadata": {},
     "output_type": "execute_result"
    }
   ],
   "source": [
    "löse(_, set=ja)    # _ greift auf das letzte Resultat zu"
   ]
  },
  {
   "cell_type": "markdown",
   "metadata": {},
   "source": [
    "Das bedeutet, dass es eine solche Gruppe nicht gibt - bereits bei 2 Personen sinkt<br>\n",
    "die Gewinnwahrscheinlichkeit unter 0.5"
   ]
  },
  {
   "cell_type": "markdown",
   "metadata": {},
   "source": [
    "### Zu 3.\n",
    "### a)\n",
    "Die Person wird entweder durch $M$ geheilt (Ereignis $E_M$ = \"Heilungserfolg durch $M$\",  <br>\n",
    "$p=0.6$) oder in 2 Stufen: nicht  durch $M$ (Ereignis $\\overline{E}_M$,   $p=0.4$), aber durch $N$ (Ereig-<br>\n",
    "nis $E_N$ = \"Heilungserfolg durch $N$\", $p=0.5$)\n",
    "<br><br>\n",
    "Nach dem  Additionssatz gilt<br>\n",
    "<br>\n",
    "$P(E_M \\cup \\overline{E}_M \\cap E_N) = P(E_M) + P(\\overline{E}_M \\cap E_N) - P(E_M \\cap \\overline{E}_M \\cap E_N)$\n",
    " <br><br>\n",
    "Der letzte Term ist 0 (die Wahrscheinlichkeit für ein unmögliches Ereignis), die Hei-<br>\n",
    "lungserfolge durch die beiden Medikamente sind unabhängig, deshalb ist die gesuchte <br>\n",
    "Wahrscheinlichkeit\n",
    "<br><br>\n",
    "$P(E_M) + P(\\overline{E}_M \\cap E_N) = 0.6 + 0.4 \\cdot 0.5 = 0.8$"
   ]
  },
  {
   "cell_type": "markdown",
   "metadata": {
    "collapsed": false
   },
   "source": [
    "### b)\n",
    "Es wird erwartet, dass $100 \\cdot 0.8 = 80$ Personen geheilt werden, also 20 nicht \n",
    "### c)\n",
    "Wegen der Unabhängigkeit der Ereignisse $E_N$ und $NW$ = \"Nebenwirkung\" ist die <br>\n",
    "Wahrscheinlichkeit<br>\n",
    "<br>\n",
    "$P(E_N \\cap NW) = P(E_N \\cdot P(NW) = 0.8 \\cdot 0.5 = 0.4$"
   ]
  },
  {
   "cell_type": "markdown",
   "metadata": {},
   "source": [
    "### Zu 4\n",
    "Der Signifikanztest ergibt"
   ]
  },
  {
   "cell_type": "code",
   "execution_count": 12,
   "metadata": {
    "collapsed": false
   },
   "outputs": [
    {
     "name": "stdout",
     "output_type": "stream",
     "text": [
      "\n"
     ]
    },
    {
     "data": {
      "text/latex": [
       "$$\\mathrm{Ermittlung\\; der\\; Entscheidungsregel\\; für\\; den\\; Signifikanztest}$$"
      ],
      "text/plain": [
       "<IPython.core.display.Math object>"
      ]
     },
     "metadata": {},
     "output_type": "display_data"
    },
    {
     "data": {
      "text/latex": [
       "$$\\mathrm{Gegeben}$$"
      ],
      "text/plain": [
       "<IPython.core.display.Math object>"
      ]
     },
     "metadata": {},
     "output_type": "display_data"
    },
    {
     "data": {
      "text/latex": [
       "$$\\qquad \\mathrm{H_0}:\\;p=0.3$$"
      ],
      "text/plain": [
       "<IPython.core.display.Math object>"
      ]
     },
     "metadata": {},
     "output_type": "display_data"
    },
    {
     "data": {
      "text/latex": [
       "$$\\qquad\\alpha=0.05,\\;n=200,\\;\\mathrm{linksseitiger\\;Test}$$"
      ],
      "text/plain": [
       "<IPython.core.display.Math object>"
      ]
     },
     "metadata": {},
     "output_type": "display_data"
    },
    {
     "data": {
      "text/latex": [
       "$$\\qquad\\text{Prüfgröße}  \\;\\; X=\\text{ \"Anzahl Treffer\"}$$"
      ],
      "text/plain": [
       "<IPython.core.display.Math object>"
      ]
     },
     "metadata": {},
     "output_type": "display_data"
    },
    {
     "data": {
      "text/latex": [
       "$$\\qquad\\text{Verteilung von }X\\;\\;BinomialVerteilung(200,3/10)$$"
      ],
      "text/plain": [
       "<IPython.core.display.Math object>"
      ]
     },
     "metadata": {},
     "output_type": "display_data"
    },
    {
     "data": {
      "text/latex": [
       "$$\\mathrm{Kritische\\;Zahl\\;\\;}48$$"
      ],
      "text/plain": [
       "<IPython.core.display.Math object>"
      ]
     },
     "metadata": {},
     "output_type": "display_data"
    },
    {
     "data": {
      "text/latex": [
       "$$\\mathrm{Ablehnungsbereich\\;für\\;}H_0\\;\\; X  \\le48$$"
      ],
      "text/plain": [
       "<IPython.core.display.Math object>"
      ]
     },
     "metadata": {},
     "output_type": "display_data"
    },
    {
     "data": {
      "text/latex": [
       "$$\\mathrm{Entscheidungsregel}$$"
      ],
      "text/plain": [
       "<IPython.core.display.Math object>"
      ]
     },
     "metadata": {},
     "output_type": "display_data"
    },
    {
     "data": {
      "text/latex": [
       "$$\\mathrm{Liegt\\;der\\;Wert\\;der\\;Prüfgröße\\;im\\;Ablehnungsbereich,\\;wird\\;} H_0\\text{ mit einer Irrtums-}$$"
      ],
      "text/plain": [
       "<IPython.core.display.Math object>"
      ]
     },
     "metadata": {},
     "output_type": "display_data"
    },
    {
     "data": {
      "text/latex": [
       "$$\\mathrm{wahrscheinlichkeit\\;von\\;höchstens\\;}0.05\\mathrm{\\;abgelehnt,\\;sonst\\;wird\\;}H_0\\text{ beibehalten}$$"
      ],
      "text/plain": [
       "<IPython.core.display.Math object>"
      ]
     },
     "metadata": {},
     "output_type": "display_data"
    },
    {
     "name": "stdout",
     "output_type": "stream",
     "text": [
      " \n"
     ]
    }
   ],
   "source": [
    "st = STP(0.3, 0.05, 'links', 200, 'B') \n",
    "\n",
    "st.regel"
   ]
  },
  {
   "cell_type": "markdown",
   "metadata": {},
   "source": [
    "Da 40 Personen erkrankt sind, ist die Hypothese $H_0$ zu verwerfen"
   ]
  },
  {
   "cell_type": "code",
   "execution_count": null,
   "metadata": {
    "collapsed": true
   },
   "outputs": [],
   "source": []
  }
 ],
 "metadata": {
  "anaconda-cloud": {},
  "kernelspec": {
   "display_name": "Python [default]",
   "language": "python",
   "name": "python3"
  },
  "language_info": {
   "codemirror_mode": {
    "name": "ipython",
    "version": 3
   },
   "file_extension": ".py",
   "mimetype": "text/x-python",
   "name": "python",
   "nbconvert_exporter": "python",
   "pygments_lexer": "ipython3",
   "version": "3.5.2"
  }
 },
 "nbformat": 4,
 "nbformat_minor": 0
}
