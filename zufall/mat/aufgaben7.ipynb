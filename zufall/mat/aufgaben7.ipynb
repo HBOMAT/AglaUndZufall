{
 "cells": [
  {
   "cell_type": "markdown",
   "metadata": {},
   "source": [
    "# Materialien zu <i>zufall</i>\n",
    "\n",
    "Autor: Holger Böttcher - hbomat@posteo.de\n",
    "\n",
    "## Aufgaben 7 - Vierfeldertafeln\n",
    "<br>\n",
    "<br>"
   ]
  },
  {
   "cell_type": "code",
   "execution_count": 1,
   "metadata": {
    "collapsed": false
   },
   "outputs": [],
   "source": [
    "%run zufall/start"
   ]
  },
  {
   "cell_type": "markdown",
   "metadata": {},
   "source": [
    "### Aufgabe 1\n",
    "<br>\n",
    "<i>Die Aufgabe wurden entnommen aus \n",
    "<br>\n",
    "<br>\n",
    "A. Müller<br>\n",
    "Wahrscheinlichkeitsrechnung und Statistik<br>\n",
    "Grundkurs<br>\n",
    "Stark Verlag 1997<br>\n",
    "Aufgabe 13<br>\n",
    "<br>\n",
    "<br>\n",
    "</i>\n",
    "In einer Lostrommel sind 80% der Lose Nieten ($N$), 40% der Lose sind rot gefärbt ($R$)<br>\n",
    "und 5% sind rot gefärbt und keine Nieten. Es wird ein Los gezogen. Bestimmen Sie<br> \n",
    "mithilfe einer Vierfeldertafel die Wahrscheinlichkeit, dass das gezogene Los\n",
    "<br>\n",
    "<br>\n",
    "a)  ein Gewinnlos, aber nicht rot ist\n",
    "<br>\n",
    "<br>\n",
    "b)  ein Gewinnlos oder ein rot gefärbtes Los ist\n",
    "<br>\n",
    "<br>\n",
    "Die VierFelderTafel wird über die Angabe der inneren Werte gewonnen.  Die fehlen-<br>\n",
    "den inneren Werte sind vorher aus den gegebenen Angaben zu berechnen. Dabei sind<br>\n",
    "die Eigenschaften einer solchen Tafel zu benutzen, die daraus resultieren, dass eine<br>\n",
    "Zerlegung einer Gesamtheit in vier unvereinbare Ereignisse anhand zweier gegebener-<br>\n",
    "Ereignisse vorgenommen wird (die Summe der beiden ersten Werte einer Zeile/Spalte ist<br>\n",
    "gleich dem dritten Wert; die Summe der beiden Zeilen-/Spaltensummen ergibt die Ge-<br>\n",
    "samtsumme)\n",
    "<br><br>"
   ]
  },
  {
   "cell_type": "code",
   "execution_count": 3,
   "metadata": {
    "collapsed": false
   },
   "outputs": [
    {
     "data": {
      "image/png": "[encoded data removed]",
      "text/plain": [
       "<matplotlib.figure.Figure at 0x93e7f90>"
      ]
     },
     "metadata": {},
     "output_type": "display_data"
    },
    {
     "name": "stdout",
     "output_type": "stream",
     "text": [
      " \n"
     ]
    }
   ],
   "source": [
    "t = VT([35, 45, 5, 15], ['R', 'nichtR', 'N', 'nichtN'])\n",
    "t.ausg"
   ]
  },
  {
   "cell_type": "markdown",
   "metadata": {},
   "source": [
    "$P_a = P(\\overline{N} \\cap \\overline{R}) = 15\\% $ &nbsp;&nbsp;&nbsp;&nbsp;&nbsp; Ergebnis zu <b>a)</b><br>\n",
    "<br>\n",
    "$P_b = P(\\overline{N} \\cup R) = P(\\overline{N} \\cap R) + P(\\overline{N} \\cap \\overline{R}) + P(N \\cap R) = 5+15+35 = 55\\% $ &nbsp;&nbsp;&nbsp;&nbsp;&nbsp; Ergebnis zu <b>b</b>)<br>\n",
    "<br>\n",
    "oder    (de Morgansches Gesetz)<br>\n",
    "<br>\n",
    "$P_b = 1-P(N \\cap \\overline{R}) = 100 - 45 = 55\\%$<br>\n",
    "<br>\n",
    "oder     (Additionssatz)<br>\n",
    "<br>\n",
    "$P_b = P(\\overline{N} \\cup R) = P(\\overline{N}) +P(R) - P(\\overline{N} \\cap R) = 20+40-5 = 55\\%$\n",
    "<br>\n",
    "<br>"
   ]
  },
  {
   "cell_type": "markdown",
   "metadata": {},
   "source": [
    "### Aufgabe 2\n",
    "<br>\n",
    "<i>Die Aufgabe wurden entnommen aus \n",
    "\n",
    "A. Müller<br>\n",
    "Wahrscheinlichkeitsrechnung und Statistik<br>\n",
    "Grundkurs<br>\n",
    "Stark Verlag 1997<br>\n",
    "Aufgabe 14\n",
    "</i>\n",
    "<br>\n",
    "<br>\n",
    "Über die Wahrscheinlichkeiten zweier Ereignisse weiß man:<br><br>\n",
    "$P(A) = \\dfrac{1}{4}, \\quad P(\\overline{B}) = \\dfrac{2}{3}, \\quad P(A \\cap B) = \\dfrac{1}{5}$\n",
    "<br><br>\n",
    "Zeichnen Sie eine vollständige Vierfeldertafel und geben Sie daraus die Wahr-<br>\n",
    "scheinlichkeit $P( \\overline{A} \\cup B)$ an\n",
    "\n",
    "Die VierFelderTafel wird anhand der Angaben automatisch berechnet. Dazu sind<br>\n",
    "alle neun Eintragungen der vollständigen Tafel zeilenweise anzugeben. Eine feh-<br>\n",
    "lende Information wird mit $x$ gekennzeichnet"
   ]
  },
  {
   "cell_type": "code",
   "execution_count": 4,
   "metadata": {
    "collapsed": false
   },
   "outputs": [
    {
     "name": "stdout",
     "output_type": "stream",
     "text": [
      "Die Tafel wird automatisch vervollständigt\n"
     ]
    },
    {
     "data": {
      "image/png": "[encoded data removed]",
      "text/plain": [
       "<matplotlib.figure.Figure at 0x10f2dd0>"
      ]
     },
     "metadata": {},
     "output_type": "display_data"
    },
    {
     "name": "stdout",
     "output_type": "stream",
     "text": [
      " \n"
     ]
    }
   ],
   "source": [
    "t = VT([1/5, x, x, x, x, 2/3, 1/4, x, 1])\n",
    "t.ausg"
   ]
  },
  {
   "cell_type": "markdown",
   "metadata": {},
   "source": [
    "$P( \\overline{A} \\cup B) = P(\\overline{A} \\cap B) + P( \\overline{A} \\cap \\overline{B}) \n",
    "+ P(A \\cap B) = \\frac{2}{15} + \\frac{37}{60} + \\frac{1}{5} = \\frac{19}{20}\\qquad$ <br>\n",
    "<br>oder (de Morgansches Gesetz)\n",
    "<br>\n",
    "<br>\n",
    "$P( \\overline{A} \\cup B) = 1 - P(A \\cap \\overline{B)} = 1 - \\frac{1}{20} = \\frac{19}{20}\\qquad$  <br>\n",
    "<br>oder (Additionssatz)\n",
    "<br>\n",
    "<br>\n",
    "$P( \\overline{A} \\cup B) = P(\\overline{A}) + P(B) - P( \\overline{A} \\cap B) = \\frac{3}{4} + \\frac{1}{3} - \\frac{2}{15}\n",
    "= \\frac{19}{20}$  "
   ]
  },
  {
   "cell_type": "markdown",
   "metadata": {
    "collapsed": true
   },
   "source": [
    "<br>\n",
    "### Aufgabe 3\n",
    "<br>\n",
    "<i>Die Aufgabe wurde entnommen aus<br> \n",
    "<br>\n",
    "B. Heußen<br>\n",
    "Mathematik 7-10<br>\n",
    "Wahrscheinlichkeitsrechnung verstehen und anwenden<br>\n",
    "Klett Verlag 2000<br>\n",
    "S. 73 Aufgabe 2<br>\n",
    "</i>\n",
    "<br>\n",
    "<br>\n",
    "Am Ende des Schuljahres haben 15% aller Schüler einer Klasse eine gute Physik-<br>\n",
    "note und 20% aller Schüler eine gute Chemienote. 10% haben in beiden Fächern <br>\n",
    "eine gute Note.<br>\n",
    "<br>\n",
    "Ein Schüler wid zufällig ausgewählt\n",
    "<br><br>\n",
    "a)  Er hat eine gute Physiknote. Wie groß ist die Wahrscheinlichkeit dass er<br>\n",
    "$\\quad$auch eine gute Chemienote hat?<br><br>\n",
    "b)  Er hat eine gute Chemienote. Wie groß ist die Wahrscheinlichkeit, dass er<br>\n",
    "$\\quad$auch eine gute Physiknote hat?<br><br>\n",
    "c)  Wie groß ist die Wahrscheinlichkeit, dass er eine gute Physiknote oder <br>\n",
    "$\\quad$eine gute Chemienote hat?\n",
    "\n",
    "Es liegt folgende (automatisch berechnete) VierFelderTafel vor (<i>Ph</i> = \"gute<br>\n",
    "Physiknote\", <i>nichtPh</i> = \"keine gute Physiknote\", analog für Chemie\n",
    "<br><br>"
   ]
  },
  {
   "cell_type": "code",
   "execution_count": 5,
   "metadata": {
    "collapsed": false
   },
   "outputs": [
    {
     "name": "stdout",
     "output_type": "stream",
     "text": [
      "Die Tafel wird automatisch vervollständigt\n"
     ]
    },
    {
     "data": {
      "image/png": "[encoded data removed]",
      "text/plain": [
       "<matplotlib.figure.Figure at 0xd400490>"
      ]
     },
     "metadata": {},
     "output_type": "display_data"
    },
    {
     "name": "stdout",
     "output_type": "stream",
     "text": [
      " \n"
     ]
    }
   ],
   "source": [
    "t = VT([10, x, 20, x, x, x, 15, x, 100], ['Ph', 'nichtPh', 'Ch', 'nichtCh'])\n",
    "t.ausg"
   ]
  },
  {
   "cell_type": "code",
   "execution_count": 6,
   "metadata": {
    "collapsed": false
   },
   "outputs": [
    {
     "name": "stdout",
     "output_type": "stream",
     "text": [
      " \n"
     ]
    },
    {
     "data": {
      "text/latex": [
       "$$\\text{Vorliegende Vierfeldertafel}$$"
      ],
      "text/plain": [
       "<IPython.core.display.Math object>"
      ]
     },
     "metadata": {},
     "output_type": "display_data"
    },
    {
     "data": {
      "image/png": "[encoded data removed]",
      "text/plain": [
       "<matplotlib.figure.Figure at 0xd3517d0>"
      ]
     },
     "metadata": {},
     "output_type": "display_data"
    },
    {
     "name": "stdout",
     "output_type": "stream",
     "text": [
      " \n"
     ]
    },
    {
     "data": {
      "text/latex": [
       "$$\\text{In der Tafel enthaltene Wahrscheinlichkeiten}$$"
      ],
      "text/plain": [
       "<IPython.core.display.Math object>"
      ]
     },
     "metadata": {},
     "output_type": "display_data"
    },
    {
     "data": {
      "text/latex": [
       "$$\\qquad P(Ph \\cap Ch) = \\frac{10}{100}=0.1\\qquad P(nichtPh \\cap Ch) = \\frac{10}{100}=\\frac{1}{10}=0.1 \\qquad $$"
      ],
      "text/plain": [
       "<IPython.core.display.Math object>"
      ]
     },
     "metadata": {},
     "output_type": "display_data"
    },
    {
     "data": {
      "text/latex": [
       "$$\\qquad\\qquad\\qquad P(Ch)= \\frac{20}{100}=0.2\\qquad P(nichtCh)= \\frac{80}{100}=\\frac{4}{5}=0.8$$"
      ],
      "text/plain": [
       "<IPython.core.display.Math object>"
      ]
     },
     "metadata": {},
     "output_type": "display_data"
    },
    {
     "data": {
      "text/latex": [
       "$$\\qquad P(Ph \\cap nichtCh) = \\frac{5}{100}=\\frac{1}{20}=0.05\\qquad P(nichtPh \\cap nichtCh) = \\frac{75}{100}=\\frac{3}{4}=0.75 \\qquad $$"
      ],
      "text/plain": [
       "<IPython.core.display.Math object>"
      ]
     },
     "metadata": {},
     "output_type": "display_data"
    },
    {
     "data": {
      "text/latex": [
       "$$\\qquad\\qquad\\qquad P(Ph) = \\frac{15}{100}=0.15\\qquad P(nichtPh) = \\frac{85}{100}=\\frac{17}{20}=0.85$$"
      ],
      "text/plain": [
       "<IPython.core.display.Math object>"
      ]
     },
     "metadata": {},
     "output_type": "display_data"
    },
    {
     "data": {
      "text/latex": [
       "$$\\text{Bedingte Wahrscheinlichkeiten  (Verwendung der Bayes-Formel)}$$"
      ],
      "text/plain": [
       "<IPython.core.display.Math object>"
      ]
     },
     "metadata": {},
     "output_type": "display_data"
    },
    {
     "data": {
      "text/latex": [
       "$$\\qquad P(Ph\\,|\\,Ch) = \\frac{P(Ph \\cap Ch)}{P(Ch)} = \\frac{10}{20} = 0.5$$"
      ],
      "text/plain": [
       "<IPython.core.display.Math object>"
      ]
     },
     "metadata": {},
     "output_type": "display_data"
    },
    {
     "data": {
      "text/latex": [
       "$$\\qquad P(Ph\\,|\\,nichtCh) = \\frac{P(Ph \\cap nichtCh)}{P(nichtCh)} = \\frac{5}{80} = 0.0625$$"
      ],
      "text/plain": [
       "<IPython.core.display.Math object>"
      ]
     },
     "metadata": {},
     "output_type": "display_data"
    },
    {
     "data": {
      "text/latex": [
       "$$\\qquad P(Ch\\,|\\,Ph) = \\frac{P(Ch \\cap Ph)}{P(Ph)} = \\frac{10}{15} = 0.6667$$"
      ],
      "text/plain": [
       "<IPython.core.display.Math object>"
      ]
     },
     "metadata": {},
     "output_type": "display_data"
    },
    {
     "data": {
      "text/latex": [
       "$$\\qquad P(Ch\\,|\\,nichtPh) = \\frac{P(Ch \\cap nichtPh)}{P(nichtPh)} = \\frac{10}{85} = 0.1176$$"
      ],
      "text/plain": [
       "<IPython.core.display.Math object>"
      ]
     },
     "metadata": {},
     "output_type": "display_data"
    },
    {
     "data": {
      "text/latex": [
       "$$\\qquad P(nichtPh\\,|\\,Ch) = \\frac{P(nichtPh \\cap Ch)}{P(Ch)} = \\frac{10}{20} = 0.5$$"
      ],
      "text/plain": [
       "<IPython.core.display.Math object>"
      ]
     },
     "metadata": {},
     "output_type": "display_data"
    },
    {
     "data": {
      "text/latex": [
       "$$\\qquad P(nichtPh\\,|\\,nichtCh) = \\frac{P(nichtPh \\cap nichtCh)}{P(nichtCh)} = \\frac{75}{80} = 0.9375$$"
      ],
      "text/plain": [
       "<IPython.core.display.Math object>"
      ]
     },
     "metadata": {},
     "output_type": "display_data"
    },
    {
     "data": {
      "text/latex": [
       "$$\\qquad P(nichtCh\\,|\\,Ph) = \\frac{P(nichtCh \\cap Ph)}{P(Ph)} = \\frac{5}{15} = 0.3333$$"
      ],
      "text/plain": [
       "<IPython.core.display.Math object>"
      ]
     },
     "metadata": {},
     "output_type": "display_data"
    },
    {
     "data": {
      "text/latex": [
       "$$\\qquad P(nichtCh\\,|\\,nichtPh) = \\frac{P(nichtCh \\cap nichtPh)}{P(nichtPh)} = \\frac{75}{85} = 0.8824$$"
      ],
      "text/plain": [
       "<IPython.core.display.Math object>"
      ]
     },
     "metadata": {},
     "output_type": "display_data"
    },
    {
     "data": {
      "text/latex": [
       "$$\\mathrm{siehe\\; auch} \\quad vt.hb.wahrsch$$"
      ],
      "text/plain": [
       "<IPython.core.display.Math object>"
      ]
     },
     "metadata": {},
     "output_type": "display_data"
    },
    {
     "name": "stdout",
     "output_type": "stream",
     "text": [
      " \n"
     ]
    }
   ],
   "source": [
    "t.wahrsch"
   ]
  },
  {
   "cell_type": "markdown",
   "metadata": {},
   "source": [
    "Die Wahrscheinlichkeiten\n",
    "\n",
    "$\\quad P( Chemie\\,|\\, Physik)\\:$ (a)$\\quad$ und <br>\n",
    "$\\quad P(Physik\\,|\\,Chemie)\\:$ b)<br>\n",
    "\n",
    "sind ablesbar, die Wahrscheinlichkeit für (c) ist"
   ]
  },
  {
   "cell_type": "markdown",
   "metadata": {},
   "source": [
    "$P(Ph \\cup Ch) = P(Ph \\cap Ch) + P(Ch \\cap nichtPh) + P(Ph \\cap nichtCh) = \\frac{10 + 5 + 10}{100} = \\frac{1}{4}$"
   ]
  },
  {
   "cell_type": "markdown",
   "metadata": {},
   "source": [
    "<br>\n",
    "### Aufgabe 4\n",
    "<br>\n",
    "<i>Die Aufgabe wurde entnommen aus <br>\n",
    "<br>\n",
    "B. Heußen\n",
    "Mathematik 7-10<br>\n",
    "Wahrscheinlichkeitsrechnung verstehen und anwenden<br>\n",
    "Klett Verlag 2000<br>\n",
    "S. 73 Aufgabe 3<br>\n",
    "</i>\n",
    "<br>\n",
    "<br>\n",
    "Zu Begin einer Ausbildung werden die Auszubildenden durch einen Einstel-<br>\n",
    "lungstest geprüft. Es zeigt sich nach Abschluss der Ausbildung: 30% errei-<br>\n",
    "chen den Abschluss der Ausbildung nicht. Von diesen hatten 90% ein negati-<br>\n",
    "ves Testergebnis. Von den Auszubildenden, dei einen Abschluss erworben ha-<br>\n",
    "ben, hatten nur 15% ein negatives Testergebnis. <br>\n",
    "<br>\n",
    "Wie groß ist die Wahrscheinlichkeit, dass ein Auszubildender mit negativem <br>\n",
    "Testergebnis den Abschluss nicht erreicht? Wie gut ist der Test?\n",
    "<br><br>\n",
    "Die gegebenen Informationen führen auf die Vierfeldertafel\n",
    "<br>"
   ]
  },
  {
   "cell_type": "code",
   "execution_count": 7,
   "metadata": {
    "collapsed": false
   },
   "outputs": [
    {
     "name": "stdout",
     "output_type": "stream",
     "text": [
      "Die Tafel wird automatisch vervollständigt\n"
     ]
    },
    {
     "data": {
      "image/png": "[encoded data removed]",
      "text/plain": [
       "<matplotlib.figure.Figure at 0x1478970>"
      ]
     },
     "metadata": {},
     "output_type": "display_data"
    },
    {
     "name": "stdout",
     "output_type": "stream",
     "text": [
      " \n"
     ]
    }
   ],
   "source": [
    "t = VT([x, x, x, 10.5, 27, x, x, 30, 100], \n",
    "           ['Abschluss', 'keinAbschluss', 'positiv', 'negativ'])\n",
    "t.ausg"
   ]
  },
  {
   "cell_type": "code",
   "execution_count": 8,
   "metadata": {
    "collapsed": false
   },
   "outputs": [
    {
     "name": "stdout",
     "output_type": "stream",
     "text": [
      " \n"
     ]
    },
    {
     "data": {
      "text/latex": [
       "$$\\text{Vorliegende Vierfeldertafel}$$"
      ],
      "text/plain": [
       "<IPython.core.display.Math object>"
      ]
     },
     "metadata": {},
     "output_type": "display_data"
    },
    {
     "data": {
      "image/png": "[encoded data removed]",
      "text/plain": [
       "<matplotlib.figure.Figure at 0x1716810>"
      ]
     },
     "metadata": {},
     "output_type": "display_data"
    },
    {
     "name": "stdout",
     "output_type": "stream",
     "text": [
      " \n"
     ]
    },
    {
     "data": {
      "text/latex": [
       "$$\\text{In der Tafel enthaltene Wahrscheinlichkeiten}$$"
      ],
      "text/plain": [
       "<IPython.core.display.Math object>"
      ]
     },
     "metadata": {},
     "output_type": "display_data"
    },
    {
     "data": {
      "text/latex": [
       "$$\\qquad P(Abschluss \\cap positiv) = \\frac{59.5}{100.0}=0.595\\qquad P(keinAbschluss \\cap positiv) = \\frac{3.0}{100.0}=0.03 \\qquad $$"
      ],
      "text/plain": [
       "<IPython.core.display.Math object>"
      ]
     },
     "metadata": {},
     "output_type": "display_data"
    },
    {
     "data": {
      "text/latex": [
       "$$\\qquad\\qquad\\qquad P(positiv)= \\frac{62.5}{100.0}=0.625\\qquad P(negativ)= \\frac{37.5}{100.0}=0.375$$"
      ],
      "text/plain": [
       "<IPython.core.display.Math object>"
      ]
     },
     "metadata": {},
     "output_type": "display_data"
    },
    {
     "data": {
      "text/latex": [
       "$$\\qquad P(Abschluss \\cap negativ) = \\frac{10.5}{100.0}=0.105\\qquad P(keinAbschluss \\cap negativ) = \\frac{27.0}{100.0}=0.27 \\qquad $$"
      ],
      "text/plain": [
       "<IPython.core.display.Math object>"
      ]
     },
     "metadata": {},
     "output_type": "display_data"
    },
    {
     "data": {
      "text/latex": [
       "$$\\qquad\\qquad\\qquad P(Abschluss) = \\frac{70.0}{100.0}=0.7\\qquad P(keinAbschluss) = \\frac{30.0}{100.0}=0.3$$"
      ],
      "text/plain": [
       "<IPython.core.display.Math object>"
      ]
     },
     "metadata": {},
     "output_type": "display_data"
    },
    {
     "data": {
      "text/latex": [
       "$$\\text{Bedingte Wahrscheinlichkeiten  (Verwendung der Bayes-Formel)}$$"
      ],
      "text/plain": [
       "<IPython.core.display.Math object>"
      ]
     },
     "metadata": {},
     "output_type": "display_data"
    },
    {
     "data": {
      "text/latex": [
       "$$\\qquad P(Abschluss\\,|\\,positiv) = \\frac{P(Abschluss \\cap positiv)}{P(positiv)} = \\frac{59.5}{62.5} = 0.952$$"
      ],
      "text/plain": [
       "<IPython.core.display.Math object>"
      ]
     },
     "metadata": {},
     "output_type": "display_data"
    },
    {
     "data": {
      "text/latex": [
       "$$\\qquad P(Abschluss\\,|\\,negativ) = \\frac{P(Abschluss \\cap negativ)}{P(negativ)} = \\frac{10.5}{37.5} = 0.28$$"
      ],
      "text/plain": [
       "<IPython.core.display.Math object>"
      ]
     },
     "metadata": {},
     "output_type": "display_data"
    },
    {
     "data": {
      "text/latex": [
       "$$\\qquad P(positiv\\,|\\,Abschluss) = \\frac{P(positiv \\cap Abschluss)}{P(Abschluss)} = \\frac{59.5}{70.0} = 0.85$$"
      ],
      "text/plain": [
       "<IPython.core.display.Math object>"
      ]
     },
     "metadata": {},
     "output_type": "display_data"
    },
    {
     "data": {
      "text/latex": [
       "$$\\qquad P(positiv\\,|\\,keinAbschluss) = \\frac{P(positiv \\cap keinAbschluss)}{P(keinAbschluss)} = \\frac{3.0}{30.0} = 0.1$$"
      ],
      "text/plain": [
       "<IPython.core.display.Math object>"
      ]
     },
     "metadata": {},
     "output_type": "display_data"
    },
    {
     "data": {
      "text/latex": [
       "$$\\qquad P(keinAbschluss\\,|\\,positiv) = \\frac{P(keinAbschluss \\cap positiv)}{P(positiv)} = \\frac{3.0}{62.5} = 0.048$$"
      ],
      "text/plain": [
       "<IPython.core.display.Math object>"
      ]
     },
     "metadata": {},
     "output_type": "display_data"
    },
    {
     "data": {
      "text/latex": [
       "$$\\qquad P(keinAbschluss\\,|\\,negativ) = \\frac{P(keinAbschluss \\cap negativ)}{P(negativ)} = \\frac{27.0}{37.5} = 0.72$$"
      ],
      "text/plain": [
       "<IPython.core.display.Math object>"
      ]
     },
     "metadata": {},
     "output_type": "display_data"
    },
    {
     "data": {
      "text/latex": [
       "$$\\qquad P(negativ\\,|\\,Abschluss) = \\frac{P(negativ \\cap Abschluss)}{P(Abschluss)} = \\frac{10.5}{70.0} = 0.15$$"
      ],
      "text/plain": [
       "<IPython.core.display.Math object>"
      ]
     },
     "metadata": {},
     "output_type": "display_data"
    },
    {
     "data": {
      "text/latex": [
       "$$\\qquad P(negativ\\,|\\,keinAbschluss) = \\frac{P(negativ \\cap keinAbschluss)}{P(keinAbschluss)} = \\frac{27.0}{30.0} = 0.9$$"
      ],
      "text/plain": [
       "<IPython.core.display.Math object>"
      ]
     },
     "metadata": {},
     "output_type": "display_data"
    },
    {
     "data": {
      "text/latex": [
       "$$\\mathrm{siehe\\; auch} \\quad vt.hb.wahrsch$$"
      ],
      "text/plain": [
       "<IPython.core.display.Math object>"
      ]
     },
     "metadata": {},
     "output_type": "display_data"
    },
    {
     "name": "stdout",
     "output_type": "stream",
     "text": [
      " \n"
     ]
    }
   ],
   "source": [
    "t.wahrsch"
   ]
  },
  {
   "cell_type": "markdown",
   "metadata": {},
   "source": [
    "Damit erreichen 72% der Auszubildenden mit negativem Testergebnis den Abschluss <br>\n",
    "nicht<br><br>\n",
    "Da 95.2% der Auszubildenden mit positivem Testergebnis den Abschluss schaffen, <br>\n",
    "kann der Test als recht brauchbar angesehen werden\n",
    "\n",
    "Die interessierenden Wahrscheinlichkeiten können anschaulicher ermittelt werden,<br>\n",
    "wenn zum <b>Baum der natürlichen Häufigkeiten</b> übergegangen wird"
   ]
  },
  {
   "cell_type": "code",
   "execution_count": 9,
   "metadata": {
    "collapsed": false
   },
   "outputs": [
    {
     "name": "stdout",
     "output_type": "stream",
     "text": [
      "Erzeugen ganzzahliger Werte, Umrechnen auf 1000\n",
      "bei Notwendigkeit Runden, deshalb kleine Differenzen möglich\n"
     ]
    }
   ],
   "source": [
    "hb = t.hb_(1000)"
   ]
  },
  {
   "cell_type": "code",
   "execution_count": 10,
   "metadata": {
    "collapsed": false
   },
   "outputs": [
    {
     "name": "stdout",
     "output_type": "stream",
     "text": [
      " \n"
     ]
    },
    {
     "data": {
      "text/latex": [
       "$$\\mathrm{Vorliegendes\\; Baumdiagramm:}$$"
      ],
      "text/plain": [
       "<IPython.core.display.Math object>"
      ]
     },
     "metadata": {},
     "output_type": "display_data"
    },
    {
     "data": {
      "image/png": "[encoded data removed]",
      "text/plain": [
       "<matplotlib.figure.Figure at 0x9b01630>"
      ]
     },
     "metadata": {},
     "output_type": "display_data"
    },
    {
     "name": "stdout",
     "output_type": "stream",
     "text": [
      " \n"
     ]
    },
    {
     "data": {
      "text/latex": [
       "$$\\mathrm{Gegeben:}$$"
      ],
      "text/plain": [
       "<IPython.core.display.Math object>"
      ]
     },
     "metadata": {},
     "output_type": "display_data"
    },
    {
     "data": {
      "text/latex": [
       "$$\\qquad P(positiv)= \\frac{625}{1000}= 0.6250= 62.50\\%$$"
      ],
      "text/plain": [
       "<IPython.core.display.Math object>"
      ]
     },
     "metadata": {},
     "output_type": "display_data"
    },
    {
     "data": {
      "text/latex": [
       "$$\\qquad P(Abschluss\\,|\\,positiv)= \\frac{595}{625}= 0.9520= 95.20\\%$$"
      ],
      "text/plain": [
       "<IPython.core.display.Math object>"
      ]
     },
     "metadata": {},
     "output_type": "display_data"
    },
    {
     "data": {
      "text/latex": [
       "$$\\qquad P(Abschluss\\,|\\,negativ)= \\frac{105}{375}= 0.2800= 28.00\\%$$"
      ],
      "text/plain": [
       "<IPython.core.display.Math object>"
      ]
     },
     "metadata": {},
     "output_type": "display_data"
    },
    {
     "data": {
      "text/latex": [
       "$$\\mathrm{Berechnung\\; nach\\; der\\; Bayes-Formel\\; für\\; natürliche\\; Häufigkeiten:}$$"
      ],
      "text/plain": [
       "<IPython.core.display.Math object>"
      ]
     },
     "metadata": {},
     "output_type": "display_data"
    },
    {
     "data": {
      "text/latex": [
       "$$\\qquad P(positiv\\,|\\,Abschluss)= \\frac{a}{a+b}$$"
      ],
      "text/plain": [
       "<IPython.core.display.Math object>"
      ]
     },
     "metadata": {},
     "output_type": "display_data"
    },
    {
     "data": {
      "text/latex": [
       "$$\\qquad\\qquad a - \\mathrm{Anzahl\\;}\\mathrm{\\;mit\\;}positiv\\mathrm{\\;und\\;}Abschluss$$"
      ],
      "text/plain": [
       "<IPython.core.display.Math object>"
      ]
     },
     "metadata": {},
     "output_type": "display_data"
    },
    {
     "data": {
      "text/latex": [
       "$$\\qquad\\qquad b - \\mathrm{Anzahl\\;}\\mathrm{\\;mit\\;}negativ\\mathrm{\\;und\\;}Abschluss$$"
      ],
      "text/plain": [
       "<IPython.core.display.Math object>"
      ]
     },
     "metadata": {},
     "output_type": "display_data"
    },
    {
     "data": {
      "text/latex": [
       "$$\\qquad P(positiv\\,|\\,Abschluss) = \\frac{595}{595+105}= \\frac{595}{700}= 0.8500= 85.00\\%=17\\mathrm{\\, von\\, }20$$"
      ],
      "text/plain": [
       "<IPython.core.display.Math object>"
      ]
     },
     "metadata": {},
     "output_type": "display_data"
    },
    {
     "data": {
      "text/latex": [
       "$$\\mathrm{analog:}$$"
      ],
      "text/plain": [
       "<IPython.core.display.Math object>"
      ]
     },
     "metadata": {},
     "output_type": "display_data"
    },
    {
     "data": {
      "text/latex": [
       "$$\\qquad P(positiv\\,|\\,keinAbschluss) = \\frac{30}{30+270}= \\frac{30}{300}= 0.1000= 10.00\\%=1\\mathrm{\\, von\\, }10$$"
      ],
      "text/plain": [
       "<IPython.core.display.Math object>"
      ]
     },
     "metadata": {},
     "output_type": "display_data"
    },
    {
     "data": {
      "text/latex": [
       "$$\\qquad P(negativ\\,|\\,Abschluss) = \\frac{105}{595+105}= \\frac{105}{700}= 0.1500= 15.00\\%=3\\mathrm{\\, von\\, }20$$"
      ],
      "text/plain": [
       "<IPython.core.display.Math object>"
      ]
     },
     "metadata": {},
     "output_type": "display_data"
    },
    {
     "data": {
      "text/latex": [
       "$$\\qquad P(negativ\\,|\\,keinAbschluss) = \\frac{270}{30+270}= \\frac{270}{300}= 0.9000= 90.00\\%=9\\mathrm{\\, von\\, }10$$"
      ],
      "text/plain": [
       "<IPython.core.display.Math object>"
      ]
     },
     "metadata": {},
     "output_type": "display_data"
    },
    {
     "data": {
      "text/latex": [
       "$$\\mathrm{Die\\; Wahrscheinlichkeiten}\\;\\; P(negativ),\\;P(keinAbschluss\\,|\\,positiv),P(keinAbschluss\\,|\\,negativ)$$"
      ],
      "text/plain": [
       "<IPython.core.display.Math object>"
      ]
     },
     "metadata": {},
     "output_type": "display_data"
    },
    {
     "data": {
      "text/latex": [
       "$$\\mathrm{werden\\; analog\\; berechnet,}$$"
      ],
      "text/plain": [
       "<IPython.core.display.Math object>"
      ]
     },
     "metadata": {},
     "output_type": "display_data"
    },
    {
     "data": {
      "text/latex": [
       "$$P(Abschluss) =\\frac{595+105}{1000}= 0.7000= 70.00\\%$$"
      ],
      "text/plain": [
       "<IPython.core.display.Math object>"
      ]
     },
     "metadata": {},
     "output_type": "display_data"
    },
    {
     "data": {
      "text/latex": [
       "$$P(keinAbschluss) =\\frac{30+270}{1000}= 0.3000= 30.00\\%$$"
      ],
      "text/plain": [
       "<IPython.core.display.Math object>"
      ]
     },
     "metadata": {},
     "output_type": "display_data"
    },
    {
     "name": "stdout",
     "output_type": "stream",
     "text": [
      " \n"
     ]
    }
   ],
   "source": [
    "hb.wahrsch"
   ]
  },
  {
   "cell_type": "code",
   "execution_count": null,
   "metadata": {
    "collapsed": false
   },
   "outputs": [],
   "source": []
  }
 ],
 "metadata": {
  "anaconda-cloud": {},
  "kernelspec": {
   "display_name": "Python [default]",
   "language": "python",
   "name": "python3"
  },
  "language_info": {
   "codemirror_mode": {
    "name": "ipython",
    "version": 3
   },
   "file_extension": ".py",
   "mimetype": "text/x-python",
   "name": "python",
   "nbconvert_exporter": "python",
   "pygments_lexer": "ipython3",
   "version": "3.5.2"
  }
 },
 "nbformat": 4,
 "nbformat_minor": 0
}
