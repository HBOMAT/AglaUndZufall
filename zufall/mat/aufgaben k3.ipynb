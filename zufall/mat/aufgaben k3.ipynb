{
 "cells": [
  {
   "cell_type": "markdown",
   "metadata": {},
   "source": [
    "# Materialien zu <i>zufall</i>\n",
    "\n",
    "Autor: Holger Böttcher - hbomat@posteo.de\n",
    "\n",
    "## Aufgaben K3 - Übungsklausur 3"
   ]
  },
  {
   "cell_type": "markdown",
   "metadata": {},
   "source": [
    "<br>\n",
    "<i>Die Aufgabe wurde entnommen aus<br>\n",
    "<br>\n",
    "A. Müller<br>\n",
    "Wahrscheinlichkeitsrechnung und Statistik<br>\n",
    "Grundkurs<br>\n",
    "Stark Verlag 1997<br>\n",
    "S. 74 Klausur 3<br>\n",
    "</i><br>\n",
    "\n",
    "Bei der Einstellung für einen gehobenen Posten gibt es viele Bewerber, so dass sich<br>\n",
    "die Kandidaten einigen Tests unterziehen müssen. \n",
    "\n",
    "1. Zuerst wird überprüft, ob die Bewerber gesundheitsmäßig geeignet sind (Ereig-<br>\n",
    "nis $G$). 90% der Bewerber sind geeignet. Ein Mediziner stuft 95% der Bewerber<br>\n",
    "richtig ein (Ereignis $R$). 3% der Bewerber sind geeignet, aber als ungeeignet <br>\n",
    "eingestuft.\n",
    "<br><br>\n",
    "a) Erstellen Sie eine vollständige Vierfeldertafel und überprüfen Sie, ob der Me-<br>\n",
    "$\\quad$diziner ein besonders gutes Auge für ungeeignete Bewerber besitzt.<br>\n",
    "<br>\n",
    "b)  Mit welcher Wahrscheinlichkeit ist ein beliebig herausgegriffener Bewerber<br> \n",
    "<br>\n",
    "$\\quad\\quad$(1)  geeignet und richtig eingestuft,<br>\n",
    "$\\quad\\quad$(2) weder geeignet noch richtig eingestuft,<br>\n",
    "$\\quad\\quad$(3) enweder geeignet oder richtig eingestuft?<br>\n",
    "<br>\n",
    "2. Die Reaktionsfähigkeit wird so überprüft, dass ein Bewerber beim Eintreten ei-<br>\n",
    "nes optischen Signals auf einem Monitor innerhalb einer bestimmten Zeitspan-<br>\n",
    "ne einen Knopf drücken muss ($Treffer$). Wegen der kurz  bemessenen Zeitspan-<br>\n",
    "ne gelingt dies einem Kandidaten nur mit einer Wahrscheinlichkeit von 20%\n",
    "<br><br>\n",
    "a) Mit welcher Wahrscheinlichkeit hat er<br>\n",
    "<br>\n",
    "$\\quad\\quad$(1) bei 10 Versuchen 3 Treffer (Ereignis $E_1$),<br>\n",
    "$\\quad\\quad$(2) beim zehnten Versuch den dritten Treffer (Ereignis $E_2$)?<br>\n",
    "<br>\n",
    "b) Begründen Sie, dass die Ereignisse $E_1$ und $E_2$ stochastisch abhängig sind.<br>\n",
    "<br> \n",
    "c) Wie viele Versuche muss er mindestens ausführen, um mit einer Wahrschein-<br>\n",
    "$\\;\\;\\,$ lichkeit von 95% mindestens einmal zu treffen?<br>\n",
    "<br>\n",
    "3. Beim Wissenstest werden in Form eines Multiple-Choice-Tests 20 Fragen ge-<br>\n",
    "stellt, wobei zu jeder Frage vier Antwortmöglichkeiten angeboten werden. Es ist <br>\n",
    "nur bekannt, dass von den vier Antworten mindestens eine rrichtig und minde-<br>\n",
    "stens eine falsch ist.\n",
    "<br><br>\n",
    "a) Mit welcher Wahrscheinlichkeit erhält man bei einer einzelnen Frage die rich-<br>\n",
    "$\\quad$tige Antwort durch reines Raten?<br>\n",
    "<br>\n",
    "b) Ein Kandidat hat sich überhaupt nicht vorbereitet und muss raten. Mit wel-<br>\n",
    "$\\quad$cher Wahrscheinlichkeit gibt er<br>\n",
    "<br>\n",
    "$\\quad\\quad$(1) keine richtige Antwort,<br>\n",
    "$\\quad\\quad$(2) genau fünf richtige Antworten,<br>\n",
    "$\\quad\\quad$(3)  mindestens eine falsche Antwort?\n",
    "<br><br>"
   ]
  },
  {
   "cell_type": "code",
   "execution_count": 1,
   "metadata": {
    "collapsed": false
   },
   "outputs": [],
   "source": [
    "%run zufall/start"
   ]
  },
  {
   "cell_type": "markdown",
   "metadata": {
    "collapsed": true
   },
   "source": [
    "### Zu 1."
   ]
  },
  {
   "cell_type": "markdown",
   "metadata": {},
   "source": [
    "### a)\n",
    "<br><br>\n",
    "Die durch Ergänzung der Angaben (es sind alles Prozentwerte) erhaltene Vier-<br>\n",
    "feldertafel ist ( nichtG steht für $\\overline{G}$, nichtR für $\\overline{R}$)"
   ]
  },
  {
   "cell_type": "code",
   "execution_count": 2,
   "metadata": {
    "collapsed": false
   },
   "outputs": [
    {
     "data": {
      "image/png": "[encoded data removed]",
      "text/plain": [
       "<matplotlib.figure.Figure at 0x82f45b0>"
      ]
     },
     "metadata": {},
     "output_type": "display_data"
    },
    {
     "name": "stdout",
     "output_type": "stream",
     "text": [
      " \n"
     ]
    }
   ],
   "source": [
    "t = VT([87,3,8,2], ['R', 'nichtR', 'G', 'nichtG'])\n",
    "t.ausg"
   ]
  },
  {
   "cell_type": "markdown",
   "metadata": {},
   "source": [
    "Die entsprechenden Wahrscheinlichkeiten sind"
   ]
  },
  {
   "cell_type": "code",
   "execution_count": 3,
   "metadata": {
    "collapsed": false
   },
   "outputs": [
    {
     "name": "stdout",
     "output_type": "stream",
     "text": [
      " \n"
     ]
    },
    {
     "data": {
      "text/latex": [
       "$$\\text{Vorliegende Vierfeldertafel}$$"
      ],
      "text/plain": [
       "<IPython.core.display.Math object>"
      ]
     },
     "metadata": {},
     "output_type": "display_data"
    },
    {
     "data": {
      "image/png": "[encoded data removed]",
      "text/plain": [
       "<matplotlib.figure.Figure at 0x8394fb0>"
      ]
     },
     "metadata": {},
     "output_type": "display_data"
    },
    {
     "name": "stdout",
     "output_type": "stream",
     "text": [
      " \n"
     ]
    },
    {
     "data": {
      "text/latex": [
       "$$\\text{In der Tafel enthaltene Wahrscheinlichkeiten}$$"
      ],
      "text/plain": [
       "<IPython.core.display.Math object>"
      ]
     },
     "metadata": {},
     "output_type": "display_data"
    },
    {
     "data": {
      "text/latex": [
       "$$\\qquad P(R \\cap G) = \\frac{87}{100}=0.87\\qquad P(nichtR \\cap G) = \\frac{3}{100}=0.03 \\qquad $$"
      ],
      "text/plain": [
       "<IPython.core.display.Math object>"
      ]
     },
     "metadata": {},
     "output_type": "display_data"
    },
    {
     "data": {
      "text/latex": [
       "$$\\qquad\\qquad\\qquad P(G)= \\frac{90}{100}=0.9\\qquad P(nichtG)= \\frac{10}{100}=0.1$$"
      ],
      "text/plain": [
       "<IPython.core.display.Math object>"
      ]
     },
     "metadata": {},
     "output_type": "display_data"
    },
    {
     "data": {
      "text/latex": [
       "$$\\qquad P(R \\cap nichtG) = \\frac{8}{100}=0.08\\qquad P(nichtR \\cap nichtG) = \\frac{2}{100}=0.02 \\qquad $$"
      ],
      "text/plain": [
       "<IPython.core.display.Math object>"
      ]
     },
     "metadata": {},
     "output_type": "display_data"
    },
    {
     "data": {
      "text/latex": [
       "$$\\qquad\\qquad\\qquad P(R) = \\frac{95}{100}=0.95\\qquad P(nichtR) = \\frac{5}{100}=0.05$$"
      ],
      "text/plain": [
       "<IPython.core.display.Math object>"
      ]
     },
     "metadata": {},
     "output_type": "display_data"
    },
    {
     "data": {
      "text/latex": [
       "$$\\text{Bedingte Wahrscheinlichkeiten  (Verwendung der Bayes-Formel)}$$"
      ],
      "text/plain": [
       "<IPython.core.display.Math object>"
      ]
     },
     "metadata": {},
     "output_type": "display_data"
    },
    {
     "data": {
      "text/latex": [
       "$$\\qquad P(R\\,|\\,G) = \\frac{P(R \\cap G)}{P(G)} = \\frac{87}{90} = 0.9667$$"
      ],
      "text/plain": [
       "<IPython.core.display.Math object>"
      ]
     },
     "metadata": {},
     "output_type": "display_data"
    },
    {
     "data": {
      "text/latex": [
       "$$\\qquad P(R\\,|\\,nichtG) = \\frac{P(R \\cap nichtG)}{P(nichtG)} = \\frac{8}{10} = 0.8$$"
      ],
      "text/plain": [
       "<IPython.core.display.Math object>"
      ]
     },
     "metadata": {},
     "output_type": "display_data"
    },
    {
     "data": {
      "text/latex": [
       "$$\\qquad P(G\\,|\\,R) = \\frac{P(G \\cap R)}{P(R)} = \\frac{87}{95} = 0.9158$$"
      ],
      "text/plain": [
       "<IPython.core.display.Math object>"
      ]
     },
     "metadata": {},
     "output_type": "display_data"
    },
    {
     "data": {
      "text/latex": [
       "$$\\qquad P(G\\,|\\,nichtR) = \\frac{P(G \\cap nichtR)}{P(nichtR)} = \\frac{3}{5} = 0.6$$"
      ],
      "text/plain": [
       "<IPython.core.display.Math object>"
      ]
     },
     "metadata": {},
     "output_type": "display_data"
    },
    {
     "data": {
      "text/latex": [
       "$$\\qquad P(nichtR\\,|\\,G) = \\frac{P(nichtR \\cap G)}{P(G)} = \\frac{3}{90} = 0.0333$$"
      ],
      "text/plain": [
       "<IPython.core.display.Math object>"
      ]
     },
     "metadata": {},
     "output_type": "display_data"
    },
    {
     "data": {
      "text/latex": [
       "$$\\qquad P(nichtR\\,|\\,nichtG) = \\frac{P(nichtR \\cap nichtG)}{P(nichtG)} = \\frac{2}{10} = 0.2$$"
      ],
      "text/plain": [
       "<IPython.core.display.Math object>"
      ]
     },
     "metadata": {},
     "output_type": "display_data"
    },
    {
     "data": {
      "text/latex": [
       "$$\\qquad P(nichtG\\,|\\,R) = \\frac{P(nichtG \\cap R)}{P(R)} = \\frac{8}{95} = 0.0842$$"
      ],
      "text/plain": [
       "<IPython.core.display.Math object>"
      ]
     },
     "metadata": {},
     "output_type": "display_data"
    },
    {
     "data": {
      "text/latex": [
       "$$\\qquad P(nichtG\\,|\\,nichtR) = \\frac{P(nichtG \\cap nichtR)}{P(nichtR)} = \\frac{2}{5} = 0.4$$"
      ],
      "text/plain": [
       "<IPython.core.display.Math object>"
      ]
     },
     "metadata": {},
     "output_type": "display_data"
    },
    {
     "data": {
      "text/latex": [
       "$$\\mathrm{siehe\\; auch} \\quad vt.hb.wahrsch$$"
      ],
      "text/plain": [
       "<IPython.core.display.Math object>"
      ]
     },
     "metadata": {},
     "output_type": "display_data"
    },
    {
     "name": "stdout",
     "output_type": "stream",
     "text": [
      " \n"
     ]
    }
   ],
   "source": [
    "t.wahrsch"
   ]
  },
  {
   "cell_type": "markdown",
   "metadata": {},
   "source": [
    "Ein gutes Auge für ungeeignete Bewerber bedeutet\n",
    "- die Ereignisse $\\overline{G}$ und $R$ sind stochastisch abhängig<br>\n",
    "- der Anteil der richtig eingestuften unter den ungeeigneten Bewerbern ist größer <br>\n",
    "$\\;\\;$als der Anteil der richtig   eingestuften unter den geeigneten (das sind bedingte <br>\n",
    "$\\;\\;$Wahrscheinlichkeiten)  "
   ]
  },
  {
   "cell_type": "markdown",
   "metadata": {
    "collapsed": false
   },
   "source": [
    "<div style='font-family:roman; font-size:120%'>\n",
    " $P(\\overline{G} \\cap R) = 0.08$, $\\; P(\\overline{G} \\cdot P(R) = 0.2\\cdot 0.95 = 0.095 \\quad \\rightarrow$ stochastich abhängig<br>\n",
    " $P_{\\overline{G}} = \\dfrac{P(\\overline{G} \\cap R)}{P(\\overline{G})} = \\dfrac{0.08}{0.1} = 0.8 \\quad\\rightarrow$ der Prüfer hat ein besseres Auge für geeig-<br>\n",
    "nete Bewerber\n",
    "</div>"
   ]
  },
  {
   "cell_type": "markdown",
   "metadata": {},
   "source": [
    "### b)"
   ]
  },
  {
   "cell_type": "markdown",
   "metadata": {
    "collapsed": false
   },
   "source": [
    "<div style='font-family:roman; font-size:120%'>\n",
    "$P_1 = 0.87$<br>\n",
    "$P_2 = 0.02$<br>\n",
    "$P_3 = P(G \\cap \\overline{R})+P(\\overline{G} \\cap R) = 0.03+0.08 = 0.11$"
   ]
  },
  {
   "cell_type": "markdown",
   "metadata": {
    "collapsed": true
   },
   "source": [
    "### Zu 2.\n",
    "### a)"
   ]
  },
  {
   "cell_type": "code",
   "execution_count": 4,
   "metadata": {
    "collapsed": false
   },
   "outputs": [
    {
     "name": "stdout",
     "output_type": "stream",
     "text": [
      "Erzeugung eines BernoulliKette-BinomialVerteilung-Objektes\n"
     ]
    },
    {
     "data": {
      "text/latex": [
       "$$0.2013$$"
      ],
      "text/plain": [
       "0.2013"
      ]
     },
     "execution_count": 4,
     "metadata": {},
     "output_type": "execute_result"
    }
   ],
   "source": [
    "v1 = BK(10, 0.2)      \n",
    "v1.P(3, d=4)     # Ergebnis zu (1)"
   ]
  },
  {
   "cell_type": "code",
   "execution_count": 5,
   "metadata": {
    "collapsed": false
   },
   "outputs": [
    {
     "name": "stdout",
     "output_type": "stream",
     "text": [
      "Erzeugung eines BernoulliKette-BinomialVerteilung-Objektes\n"
     ]
    },
    {
     "data": {
      "text/latex": [
       "$$0.0603979776$$"
      ],
      "text/plain": [
       "0.0603979776000000"
      ]
     },
     "execution_count": 5,
     "metadata": {},
     "output_type": "execute_result"
    }
   ],
   "source": [
    "v2 = BK(9, 0.2)   # bei den ersten 9 Versuchen müssen 2 Treffer sein, dann \n",
    "                  # noch einer\n",
    "v2.P(2) * 0.2     # Ergebnis zu (2)    "
   ]
  },
  {
   "cell_type": "markdown",
   "metadata": {},
   "source": [
    "### b)\n",
    "Da $E_2 \\subset E_1$ gilt, ist $P(E_1 \\cap E_2) = P(E_2)$, also $P(E_1 \\cap E_2) \\ne P(E_2) \\cdot P(E_1)$, da\n",
    "$P(E_1) \\ne 1)$"
   ]
  },
  {
   "cell_type": "markdown",
   "metadata": {},
   "source": [
    "### c)\n",
    "Wegen $P(\\text{mindestens 1 Treffer})= 1- P(\\text{kein Treffer})$ in $n$ Versuchen muss die fol-<br>\n",
    "gende Ungleichung gelöst werden (per Hand erfolgt das über das Logarithmieren der <br>\n",
    "Ungleichung)"
   ]
  },
  {
   "cell_type": "code",
   "execution_count": 6,
   "metadata": {
    "collapsed": false
   },
   "outputs": [
    {
     "data": {
      "text/latex": [
       "$$- 0.8^{n} + 1 > 0.95$$"
      ],
      "text/plain": [
       "     n           \n",
       "- 0.8  + 1 > 0.95"
      ]
     },
     "execution_count": 6,
     "metadata": {},
     "output_type": "execute_result"
    }
   ],
   "source": [
    "1-0.8^n > 0.95"
   ]
  },
  {
   "cell_type": "code",
   "execution_count": 7,
   "metadata": {
    "collapsed": false
   },
   "outputs": [
    {
     "data": {
      "text/latex": [
       "$$\\left(13.4251348780216, \\infty\\right)$$"
      ],
      "text/plain": [
       "(13.4251348780216, ∞)"
      ]
     },
     "execution_count": 7,
     "metadata": {},
     "output_type": "execute_result"
    }
   ],
   "source": [
    "löse(1-0.8^n > 0.95, set=ja)"
   ]
  },
  {
   "cell_type": "markdown",
   "metadata": {},
   "source": [
    "### Zu 3\n",
    "### a)\n",
    "Erhalten der möglichen Antwortkombinatioen für eine Frage - entweder durch <br>\n",
    "manuelle Auflistung oder wie folgt ($R$ - richtig, $F$ - falsch)"
   ]
  },
  {
   "cell_type": "code",
   "execution_count": 8,
   "metadata": {
    "collapsed": false
   },
   "outputs": [
    {
     "data": {
      "text/latex": [
       "$$\\left [ \\left ( F, \\quad F, \\quad F, \\quad F\\right ), \\quad \\left ( F, \\quad F, \\quad F, \\quad R\\right ), \\quad \\left ( F, \\quad F, \\quad R, \\quad F\\right ), \\quad \\left ( F, \\quad F, \\quad R, \\quad R\\right ), \\quad \\left ( F, \\quad R, \\quad F, \\quad F\\right ), \\quad \\left ( F, \\quad R, \\quad F, \\quad R\\right ), \\quad \\left ( F, \\quad R, \\quad R, \\quad F\\right ), \\quad \\left ( F, \\quad R, \\quad R, \\quad R\\right ), \\quad \\left ( R, \\quad F, \\quad F, \\quad F\\right ), \\quad \\left ( R, \\quad F, \\quad F, \\quad R\\right ), \\quad \\left ( R, \\quad F, \\quad R, \\quad F\\right ), \\quad \\left ( R, \\quad F, \\quad R, \\quad R\\right ), \\quad \\left ( R, \\quad R, \\quad F, \\quad F\\right ), \\quad \\left ( R, \\quad R, \\quad F, \\quad R\\right ), \\quad \\left ( R, \\quad R, \\quad R, \\quad F\\right ), \\quad \\left ( R, \\quad R, \\quad R, \\quad R\\right )\\right ]$$"
      ],
      "text/plain": [
       "[(F, F, F, F), (F, F, F, R), (F, F, R, F), (F, F, R, R), (F, R, F, F), (F, R, \n",
       "F, R), (F, R, R, F), (F, R, R, R), (R, F, F, F), (R, F, F, R), (R, F, R, F), (\n",
       "R, F, R, R), (R, R, F, F), (R, R, F, R), (R, R, R, F), (R, R, R, R)]"
      ]
     },
     "execution_count": 8,
     "metadata": {},
     "output_type": "execute_result"
    }
   ],
   "source": [
    "R, F = symbols('R F')\n",
    "\n",
    "A = kombinationen([R, F], 4, ja, ja, l=ja)  # das sind alle möglichen\n",
    "A"
   ]
  },
  {
   "cell_type": "code",
   "execution_count": 9,
   "metadata": {
    "collapsed": false
   },
   "outputs": [
    {
     "data": {
      "text/latex": [
       "$$\\left [ \\left ( F, \\quad F, \\quad F, \\quad R\\right ), \\quad \\left ( F, \\quad F, \\quad R, \\quad F\\right ), \\quad \\left ( F, \\quad F, \\quad R, \\quad R\\right ), \\quad \\left ( F, \\quad R, \\quad F, \\quad F\\right ), \\quad \\left ( F, \\quad R, \\quad F, \\quad R\\right ), \\quad \\left ( F, \\quad R, \\quad R, \\quad F\\right ), \\quad \\left ( F, \\quad R, \\quad R, \\quad R\\right ), \\quad \\left ( R, \\quad F, \\quad F, \\quad F\\right ), \\quad \\left ( R, \\quad F, \\quad F, \\quad R\\right ), \\quad \\left ( R, \\quad F, \\quad R, \\quad F\\right ), \\quad \\left ( R, \\quad F, \\quad R, \\quad R\\right ), \\quad \\left ( R, \\quad R, \\quad F, \\quad F\\right ), \\quad \\left ( R, \\quad R, \\quad F, \\quad R\\right ), \\quad \\left ( R, \\quad R, \\quad R, \\quad F\\right )\\right ]$$"
      ],
      "text/plain": [
       "[(F, F, F, R), (F, F, R, F), (F, F, R, R), (F, R, F, F), (F, R, F, R), (F, R, \n",
       "R, F), (F, R, R, R), (R, F, F, F), (R, F, F, R), (R, F, R, F), (R, F, R, R), (\n",
       "R, R, F, F), (R, R, F, R), (R, R, R, F)]"
      ]
     },
     "execution_count": 9,
     "metadata": {},
     "output_type": "execute_result"
    }
   ],
   "source": [
    "# Selektion der Kombinationen, die die Bedingungen erfüllen\n",
    "\n",
    "B = [x for x in A if (anzahl(R)(x) >= 1 and anzahl(F)(x) >= 1)]   \n",
    "B"
   ]
  },
  {
   "cell_type": "markdown",
   "metadata": {},
   "source": [
    "Die 14 Kombinationen sind alle gleich wahrscheinlich; durch Auszählen kann ermittelt <br>\n",
    "werden, dass die $i$. Antwort in 7 der 14 Möglichkeiten $R$ ist, sonst $F \\quad (i=1,2,3,4)$:"
   ]
  },
  {
   "cell_type": "code",
   "execution_count": 10,
   "metadata": {
    "collapsed": false
   },
   "outputs": [
    {
     "data": {
      "text/latex": [
       "$$14$$"
      ],
      "text/plain": [
       "14"
      ]
     },
     "execution_count": 10,
     "metadata": {},
     "output_type": "execute_result"
    }
   ],
   "source": [
    "anzahl(B)"
   ]
  },
  {
   "cell_type": "code",
   "execution_count": 11,
   "metadata": {
    "collapsed": false
   },
   "outputs": [
    {
     "data": {
      "text/latex": [
       "$$\\left ( 7, \\quad 7\\right )$$"
      ],
      "text/plain": [
       "(7, 7)"
      ]
     },
     "execution_count": 11,
     "metadata": {},
     "output_type": "execute_result"
    }
   ],
   "source": [
    "C = [x for x in B if x[1] == R]   # (am Beispiel der 1. Antwort)\n",
    "D = [x for x in B if x[1] == F] \n",
    "anzahl(C), anzahl(D)"
   ]
  },
  {
   "cell_type": "markdown",
   "metadata": {},
   "source": [
    "Mit Wahrscheinlichkeit $\\dfrac{1}{4}$ wählt der Bewerber eine der 4 Antworten aus, mit Wahr-<br>\n",
    "scheinlichkeit $\\dfrac{1}{2}$ ist in der (zufälligen) Antwortkombination diese Antwort richtig, <br>\n",
    "die geforderte Wahrscheinlichkeit ist<br><br>\n",
    "$\\dfrac{1}{4} \\cdot \\dfrac{1}{2} = \\dfrac{1}{8}$"
   ]
  },
  {
   "cell_type": "markdown",
   "metadata": {},
   "source": [
    "### b)"
   ]
  },
  {
   "cell_type": "code",
   "execution_count": 12,
   "metadata": {
    "collapsed": false
   },
   "outputs": [
    {
     "name": "stdout",
     "output_type": "stream",
     "text": [
      "Erzeugung eines BernoulliKette-BinomialVerteilung-Objektes\n"
     ]
    }
   ],
   "source": [
    "vv = BK(20, 1/8)"
   ]
  },
  {
   "cell_type": "code",
   "execution_count": 13,
   "metadata": {
    "collapsed": false
   },
   "outputs": [
    {
     "data": {
      "text/latex": [
       "$$0.0692$$"
      ],
      "text/plain": [
       "0.0692"
      ]
     },
     "execution_count": 13,
     "metadata": {},
     "output_type": "execute_result"
    }
   ],
   "source": [
    "vv.P(0, d=4)    # Ergebnis zu (1)"
   ]
  },
  {
   "cell_type": "code",
   "execution_count": 14,
   "metadata": {
    "collapsed": false
   },
   "outputs": [
    {
     "data": {
      "text/latex": [
       "$$0.0638$$"
      ],
      "text/plain": [
       "0.0638"
      ]
     },
     "execution_count": 14,
     "metadata": {},
     "output_type": "execute_result"
    }
   ],
   "source": [
    "vv.P(5, d=4)    # Ergebnis zu (2)"
   ]
  },
  {
   "cell_type": "code",
   "execution_count": 15,
   "metadata": {
    "collapsed": false
   },
   "outputs": [
    {
     "data": {
      "text/latex": [
       "$$1.0$$"
      ],
      "text/plain": [
       "1.0"
      ]
     },
     "execution_count": 15,
     "metadata": {},
     "output_type": "execute_result"
    }
   ],
   "source": [
    "vv.P( X <= 19, d=4)   # Ergebnis zu (3)"
   ]
  },
  {
   "cell_type": "markdown",
   "metadata": {},
   "source": [
    "Die 1 ergibt sich im Rahmen der eingestellten Genauigkeit:"
   ]
  },
  {
   "cell_type": "code",
   "execution_count": 16,
   "metadata": {
    "collapsed": false
   },
   "outputs": [
    {
     "data": {
      "text/latex": [
       "$$\\frac{1152921504606846975}{1152921504606846976}$$"
      ],
      "text/plain": [
       "1152921504606846975\n",
       "───────────────────\n",
       "1152921504606846976"
      ]
     },
     "execution_count": 16,
     "metadata": {},
     "output_type": "execute_result"
    }
   ],
   "source": [
    "vv.P( X <= 19)"
   ]
  },
  {
   "cell_type": "code",
   "execution_count": null,
   "metadata": {
    "collapsed": true
   },
   "outputs": [],
   "source": []
  }
 ],
 "metadata": {
  "anaconda-cloud": {},
  "kernelspec": {
   "display_name": "Python [default]",
   "language": "python",
   "name": "python3"
  },
  "language_info": {
   "codemirror_mode": {
    "name": "ipython",
    "version": 3
   },
   "file_extension": ".py",
   "mimetype": "text/x-python",
   "name": "python",
   "nbconvert_exporter": "python",
   "pygments_lexer": "ipython3",
   "version": "3.5.2"
  }
 },
 "nbformat": 4,
 "nbformat_minor": 0
}
