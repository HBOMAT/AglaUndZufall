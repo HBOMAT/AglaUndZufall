{
 "cells": [
  {
   "cell_type": "markdown",
   "metadata": {},
   "source": [
    "# Materialien zu <i>zufall</i>\n",
    "\n",
    "Autor: Holger Böttcher - hbomat@posteo.de\n",
    "\n",
    "## Aufgaben 13 - Simulation (Probleme von Leibniz <br>und de Méré)"
   ]
  },
  {
   "cell_type": "markdown",
   "metadata": {},
   "source": [
    "<br>\n",
    "### Problem von Leibniz\n",
    "Leibniz nahm fälschlicherweise an, dass beim Werfen von 2 Würfeln die Augensumme<br>\n",
    "11 genau so oft auftritt wie die Augensumme 12<br>\n"
   ]
  },
  {
   "cell_type": "code",
   "execution_count": 1,
   "metadata": {
    "collapsed": false
   },
   "outputs": [],
   "source": [
    "%run zufall\\start"
   ]
  },
  {
   "cell_type": "markdown",
   "metadata": {},
   "source": [
    "Die <b>exakten Wahrscheinlichkeiten</b> können z.B. so ermittellt werden"
   ]
  },
  {
   "cell_type": "code",
   "execution_count": 2,
   "metadata": {
    "collapsed": false
   },
   "outputs": [
    {
     "name": "stdout",
     "output_type": "stream",
     "text": [
      "Erzeugung eines ZufallsGröße-Objektes 'AugenSumme'\n"
     ]
    }
   ],
   "source": [
    "W2 = Würfel(2)"
   ]
  },
  {
   "cell_type": "code",
   "execution_count": 3,
   "metadata": {
    "collapsed": false
   },
   "outputs": [
    {
     "data": {
      "text/latex": [
       "$$\\left ( \\frac{1}{18}, \\quad 0.0556\\right )$$"
      ],
      "text/plain": [
       "(1/18, 0.0556)"
      ]
     },
     "execution_count": 3,
     "metadata": {},
     "output_type": "execute_result"
    }
   ],
   "source": [
    "p11 = W2.P(11);  p11,  W2.P(11, d=4)"
   ]
  },
  {
   "cell_type": "code",
   "execution_count": 4,
   "metadata": {
    "collapsed": false
   },
   "outputs": [
    {
     "data": {
      "text/latex": [
       "$$\\left ( \\frac{1}{36}, \\quad 0.0278\\right )$$"
      ],
      "text/plain": [
       "(1/36, 0.0278)"
      ]
     },
     "execution_count": 4,
     "metadata": {},
     "output_type": "execute_result"
    }
   ],
   "source": [
    "p12 = W2.P(12);  p12,  W2.P(12, d=4)"
   ]
  },
  {
   "cell_type": "markdown",
   "metadata": {},
   "source": [
    "Zur <b>Simulation</b> wird zunächst eine kleine Versuchsanzahl angenommen"
   ]
  },
  {
   "cell_type": "code",
   "execution_count": 5,
   "metadata": {
    "collapsed": false
   },
   "outputs": [],
   "source": [
    "n = 10"
   ]
  },
  {
   "cell_type": "markdown",
   "metadata": {
    "collapsed": true
   },
   "source": [
    "Einmaliges Werfen von zwei Würfeln wird so simuliert (die Funktion <i>zuf_zahl</i> <br>\n",
    "liefert hier zwei Zahlen, die jeweils dem Ergebnis eines Würfels entsprechen)\n",
    "</div>"
   ]
  },
  {
   "cell_type": "code",
   "execution_count": 6,
   "metadata": {
    "collapsed": false
   },
   "outputs": [
    {
     "data": {
      "text/latex": [
       "$$\\left [ 4, \\quad 4\\right ]$$"
      ],
      "text/plain": [
       "[4, 4]"
      ]
     },
     "execution_count": 6,
     "metadata": {},
     "output_type": "execute_result"
    }
   ],
   "source": [
    "zuf_zahl((1, 6), (1, 6))   # Anweisung mehrfach ausführen"
   ]
  },
  {
   "cell_type": "markdown",
   "metadata": {},
   "source": [
    "$n$-maliges Werfen entsprechend"
   ]
  },
  {
   "cell_type": "code",
   "execution_count": 7,
   "metadata": {
    "collapsed": false
   },
   "outputs": [
    {
     "data": {
      "text/latex": [
       "$$\\left [ \\left ( 4, \\quad 2\\right ), \\quad \\left ( 3, \\quad 2\\right ), \\quad \\left ( 3, \\quad 1\\right ), \\quad \\left ( 6, \\quad 2\\right ), \\quad \\left ( 6, \\quad 2\\right ), \\quad \\left ( 4, \\quad 2\\right ), \\quad \\left ( 4, \\quad 4\\right ), \\quad \\left ( 1, \\quad 6\\right ), \\quad \\left ( 6, \\quad 4\\right ), \\quad \\left ( 6, \\quad 6\\right )\\right ]$$"
      ],
      "text/plain": [
       "[(4, 2), (3, 2), (3, 1), (6, 2), (6, 2), (4, 2), (4, 4), (1, 6), (6, 4), (6, 6\n",
       ")]"
      ]
     },
     "execution_count": 7,
     "metadata": {},
     "output_type": "execute_result"
    }
   ],
   "source": [
    "sim = zuf_zahl((1, 6), (1, 6), n); sim"
   ]
  },
  {
   "cell_type": "markdown",
   "metadata": {},
   "source": [
    "Für jeden Wurf wird die Augensumme ermittelt"
   ]
  },
  {
   "cell_type": "code",
   "execution_count": 8,
   "metadata": {
    "collapsed": false
   },
   "outputs": [
    {
     "data": {
      "text/latex": [
       "$$\\left [ 6, \\quad 5, \\quad 4, \\quad 8, \\quad 8, \\quad 6, \\quad 8, \\quad 7, \\quad 10, \\quad 12\\right ]$$"
      ],
      "text/plain": [
       "[6, 5, 4, 8, 8, 6, 8, 7, 10, 12]"
      ]
     },
     "execution_count": 8,
     "metadata": {},
     "output_type": "execute_result"
    }
   ],
   "source": [
    "sim1 = [summe(x) for x in sim]; sim1"
   ]
  },
  {
   "cell_type": "markdown",
   "metadata": {},
   "source": [
    "gezählt, wie oft 11 bzw. 12 auftritt und die entprechenden relativen Häufigkeiten<br>\n",
    "berechnet"
   ]
  },
  {
   "cell_type": "code",
   "execution_count": 9,
   "metadata": {
    "collapsed": false
   },
   "outputs": [],
   "source": [
    "anz11 = anzahl(11)(sim1); h11 = anz11 / n \n",
    "anz12 = anzahl(12)(sim1); h12 = anz12 / n"
   ]
  },
  {
   "cell_type": "code",
   "execution_count": 10,
   "metadata": {
    "collapsed": false
   },
   "outputs": [
    {
     "data": {
      "text/latex": [
       "$$\\left ( 0, \\quad 0.0\\right )$$"
      ],
      "text/plain": [
       "(0, 0.0)"
      ]
     },
     "execution_count": 10,
     "metadata": {},
     "output_type": "execute_result"
    }
   ],
   "source": [
    "anz11, h11"
   ]
  },
  {
   "cell_type": "code",
   "execution_count": 11,
   "metadata": {
    "collapsed": false
   },
   "outputs": [
    {
     "data": {
      "text/latex": [
       "$$\\left ( 1, \\quad 0.1\\right )$$"
      ],
      "text/plain": [
       "(1, 0.1)"
      ]
     },
     "execution_count": 11,
     "metadata": {},
     "output_type": "execute_result"
    }
   ],
   "source": [
    "anz12, h12"
   ]
  },
  {
   "cell_type": "markdown",
   "metadata": {},
   "source": [
    "Zur Simulation mit großem $n$ können die obigen Anweisungen wiederholt werden, <br>\n",
    "nachdem $n$ auf den gewünschten Wert gesetzt wurde (die langen Ausgaben sind zu<br>\n",
    "unterdrücken)<br><br>\n",
    "Hier werden sie zur bequemeren Handhabung in eine Prozedur geschrieben, wobei <br>\n",
    "auch die exakten Werte angegeben werden"
   ]
  },
  {
   "cell_type": "code",
   "execution_count": 12,
   "metadata": {
    "collapsed": false
   },
   "outputs": [],
   "source": [
    "def simulation1(n):\n",
    "    sim = zuf_zahl((1, 6), (1, 6), n)\n",
    "    sim = [summe(x) for x in sim]\n",
    "    anz11 = anzahl(11)(sim)\n",
    "    h11 = anz11 / n \n",
    "    anz12 = anzahl(12)(sim)\n",
    "    h12 = anz12 / n\n",
    "    print('11:   ' +str(N(h11, 6)) + '    exakt ' + str(N(p11, 6)))\n",
    "    print('12:   ' +str(N(h12, 6)) + '    exakt ' + str(N(p12, 6)))"
   ]
  },
  {
   "cell_type": "code",
   "execution_count": 14,
   "metadata": {
    "collapsed": false
   },
   "outputs": [
    {
     "name": "stdout",
     "output_type": "stream",
     "text": [
      "11:   0.0546000    exakt 0.0555556\n",
      "12:   0.0258000    exakt 0.0277778\n"
     ]
    }
   ],
   "source": [
    "simulation1(10000)   # Anweisung mehrfach ausführen, auch mit größerem n"
   ]
  },
  {
   "cell_type": "markdown",
   "metadata": {
    "collapsed": true
   },
   "source": [
    "<br>\n",
    "### Problem von de Méré\n",
    "Er glaubte, dass man bei 4-maligem Werfen eines Würfels ebenso oft eine 6 erhält<br>\n",
    "wie eine Doppelsechs bei 24 Würfen mit 2 Würfeln  (die Annahme ist falsch)\n",
    "<br>"
   ]
  },
  {
   "cell_type": "markdown",
   "metadata": {},
   "source": [
    "Die <b>exakten Werte</b> sind folgende<br>\n",
    "$P(\\text{mindestens eine Sechs}) = 1 - P(\\text{keine Sechs}) = 1-\\dfrac{5^4}{6^4}  \\approx 0.518\\qquad$ <br>\n",
    "beim 4-maligen Werfen eines Würfels <br>\n",
    "\n",
    "$P(\\text{mindestens eine Doppelsechs}) = 1 - P(\\text{keine Doppelsechs}) = 1-\\dfrac{35^{24}}{36^{24}}  \\approx 0.491\\qquad$ <br>\n",
    "beim 24-maligen Werfen von zwei Würfeln\n",
    "<br><br><br>\n",
    "Zur <b>Simulation</b> wird zunächst ein kleiner Wert für $n$ angenommen und <br>\n",
    "die Simulation entworfen"
   ]
  },
  {
   "cell_type": "code",
   "execution_count": 17,
   "metadata": {
    "collapsed": true
   },
   "outputs": [],
   "source": [
    "n = 5"
   ]
  },
  {
   "cell_type": "markdown",
   "metadata": {},
   "source": [
    "### 1. \n",
    "4-maliges Werfen eines Würfels</b> und $n$ solche Versuche werden so simuliert"
   ]
  },
  {
   "cell_type": "code",
   "execution_count": 18,
   "metadata": {
    "collapsed": false
   },
   "outputs": [
    {
     "data": {
      "text/latex": [
       "$$\\left [ 6, \\quad 1, \\quad 4, \\quad 5\\right ]$$"
      ],
      "text/plain": [
       "[6, 1, 4, 5]"
      ]
     },
     "execution_count": 18,
     "metadata": {},
     "output_type": "execute_result"
    }
   ],
   "source": [
    "zuf_zahl((1, 6), 4)"
   ]
  },
  {
   "cell_type": "code",
   "execution_count": 19,
   "metadata": {
    "collapsed": false
   },
   "outputs": [
    {
     "data": {
      "text/latex": [
       "$$\\left [ \\left [ 4, \\quad 3, \\quad 5, \\quad 4\\right ], \\quad \\left [ 3, \\quad 6, \\quad 6, \\quad 1\\right ], \\quad \\left [ 6, \\quad 1, \\quad 4, \\quad 1\\right ], \\quad \\left [ 4, \\quad 5, \\quad 6, \\quad 4\\right ], \\quad \\left [ 2, \\quad 6, \\quad 5, \\quad 6\\right ]\\right ]$$"
      ],
      "text/plain": [
       "[[4, 3, 5, 4], [3, 6, 6, 1], [6, 1, 4, 1], [4, 5, 6, 4], [2, 6, 5, 6]]"
      ]
     },
     "execution_count": 19,
     "metadata": {},
     "output_type": "execute_result"
    }
   ],
   "source": [
    "sim = [ zuf_zahl((1, 6), 4) for i in range(n) ]; sim"
   ]
  },
  {
   "cell_type": "markdown",
   "metadata": {},
   "source": [
    "Ermittlung der Anzahl von Versuchen, bei denen mindestens eine 6 aufgetreten ist<br>\n",
    "sowie der relativen Häufigkeit"
   ]
  },
  {
   "cell_type": "code",
   "execution_count": 20,
   "metadata": {
    "collapsed": false
   },
   "outputs": [
    {
     "data": {
      "text/latex": [
       "$$\\left [ \\left [ 3, \\quad 6, \\quad 6, \\quad 1\\right ], \\quad \\left [ 6, \\quad 1, \\quad 4, \\quad 1\\right ], \\quad \\left [ 4, \\quad 5, \\quad 6, \\quad 4\\right ], \\quad \\left [ 2, \\quad 6, \\quad 5, \\quad 6\\right ]\\right ]$$"
      ],
      "text/plain": [
       "[[3, 6, 6, 1], [6, 1, 4, 1], [4, 5, 6, 4], [2, 6, 5, 6]]"
      ]
     },
     "execution_count": 20,
     "metadata": {},
     "output_type": "execute_result"
    }
   ],
   "source": [
    "sim1 = [ x for x in sim if anzahl(6)(x) > 0 ]; sim1 "
   ]
  },
  {
   "cell_type": "code",
   "execution_count": 21,
   "metadata": {
    "collapsed": false
   },
   "outputs": [
    {
     "data": {
      "text/latex": [
       "$$0.8$$"
      ],
      "text/plain": [
       "0.8"
      ]
     },
     "execution_count": 21,
     "metadata": {},
     "output_type": "execute_result"
    }
   ],
   "source": [
    "anzahl(sim1) / n "
   ]
  },
  {
   "cell_type": "markdown",
   "metadata": {},
   "source": [
    "Die Anweisungen als Prozedur für große $n$"
   ]
  },
  {
   "cell_type": "code",
   "execution_count": 22,
   "metadata": {
    "collapsed": false
   },
   "outputs": [],
   "source": [
    "def simulation2(n):\n",
    "    sim = [ zuf_zahl((1, 6), 4) for i in range(n) ]\n",
    "    sim = [ x for x in sim if anzahl(6)(x) > 0 ]\n",
    "    print('4-mal 1 Würfel   ' + str(N(anzahl(sim)/n, 6)) + '   exakt ' \\\n",
    "          + str(N(1-5**4/6^4, 6)))"
   ]
  },
  {
   "cell_type": "code",
   "execution_count": 24,
   "metadata": {
    "collapsed": false
   },
   "outputs": [
    {
     "name": "stdout",
     "output_type": "stream",
     "text": [
      "4-mal 1 Wuerfel   0.511600   exakt 0.517747\n"
     ]
    }
   ],
   "source": [
    "simulation2(10000)"
   ]
  },
  {
   "cell_type": "markdown",
   "metadata": {},
   "source": [
    "### 2. \n",
    "24-maliges Werfen von  2 Würfeln</b> "
   ]
  },
  {
   "cell_type": "code",
   "execution_count": 25,
   "metadata": {
    "collapsed": false
   },
   "outputs": [
    {
     "data": {
      "text/latex": [
       "$$\\left [ \\left ( 3, \\quad 6\\right ), \\quad \\left ( 5, \\quad 4\\right ), \\quad \\left ( 4, \\quad 2\\right ), \\quad \\left ( 6, \\quad 4\\right ), \\quad \\left ( 4, \\quad 1\\right ), \\quad \\left ( 3, \\quad 1\\right ), \\quad \\left ( 2, \\quad 3\\right ), \\quad \\left ( 2, \\quad 1\\right ), \\quad \\left ( 2, \\quad 5\\right ), \\quad \\left ( 5, \\quad 4\\right ), \\quad \\left ( 4, \\quad 5\\right ), \\quad \\left ( 3, \\quad 2\\right ), \\quad \\left ( 3, \\quad 6\\right ), \\quad \\left ( 3, \\quad 5\\right ), \\quad \\left ( 1, \\quad 1\\right ), \\quad \\left ( 1, \\quad 3\\right ), \\quad \\left ( 2, \\quad 6\\right ), \\quad \\left ( 2, \\quad 2\\right ), \\quad \\left ( 6, \\quad 6\\right ), \\quad \\left ( 3, \\quad 4\\right ), \\quad \\left ( 5, \\quad 5\\right ), \\quad \\left ( 5, \\quad 1\\right ), \\quad \\left ( 2, \\quad 2\\right ), \\quad \\left ( 5, \\quad 1\\right )\\right ]$$"
      ],
      "text/plain": [
       "[(3, 6), (5, 4), (4, 2), (6, 4), (4, 1), (3, 1), (2, 3), (2, 1), (2, 5), (5, 4\n",
       "), (4, 5), (3, 2), (3, 6), (3, 5), (1, 1), (1, 3), (2, 6), (2, 2), (6, 6), (3,\n",
       " 4), (5, 5), (5, 1), (2, 2), (5, 1)]"
      ]
     },
     "execution_count": 25,
     "metadata": {},
     "output_type": "execute_result"
    }
   ],
   "source": [
    "w24 = zuf_zahl((1, 6), (1, 6), 24); w24"
   ]
  },
  {
   "cell_type": "code",
   "execution_count": 26,
   "metadata": {
    "collapsed": false
   },
   "outputs": [
    {
     "data": {
      "text/latex": [
       "$$1$$"
      ],
      "text/plain": [
       "1"
      ]
     },
     "execution_count": 26,
     "metadata": {},
     "output_type": "execute_result"
    }
   ],
   "source": [
    "anzahl([x for x in w24 if summe(x) == 12])"
   ]
  },
  {
   "cell_type": "markdown",
   "metadata": {},
   "source": [
    "Prozedur für $n$ Versuche "
   ]
  },
  {
   "cell_type": "code",
   "execution_count": 27,
   "metadata": {
    "collapsed": false
   },
   "outputs": [],
   "source": [
    "def simulation3(n):\n",
    "    sim = [zuf_zahl((1, 6), (1, 6), 24) for i in range(n)]\n",
    "    sim = [anzahl([x for x in y if summe(x) == 12]) for y in sim]\n",
    "    anz = anzahl([x for x in sim if x > 0])\n",
    "    print('24-mal 2 Würfel   ' + str(N(anz/n, 6)) + '   exakt ' + str(N(1-35^24/36^24, 6)))"
   ]
  },
  {
   "cell_type": "code",
   "execution_count": 28,
   "metadata": {
    "collapsed": false
   },
   "outputs": [
    {
     "name": "stdout",
     "output_type": "stream",
     "text": [
      "24-mal 2 Wuerfel   0.493500   exakt 0.491404\n"
     ]
    }
   ],
   "source": [
    "simulation3(10000)"
   ]
  },
  {
   "cell_type": "code",
   "execution_count": null,
   "metadata": {
    "collapsed": true
   },
   "outputs": [],
   "source": []
  }
 ],
 "metadata": {
  "anaconda-cloud": {},
  "kernelspec": {
   "display_name": "Python [default]",
   "language": "python",
   "name": "python3"
  },
  "language_info": {
   "codemirror_mode": {
    "name": "ipython",
    "version": 3
   },
   "file_extension": ".py",
   "mimetype": "text/x-python",
   "name": "python",
   "nbconvert_exporter": "python",
   "pygments_lexer": "ipython3",
   "version": "3.5.2"
  }
 },
 "nbformat": 4,
 "nbformat_minor": 0
}
