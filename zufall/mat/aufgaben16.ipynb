{
 "cells": [
  {
   "cell_type": "markdown",
   "metadata": {},
   "source": [
    "# Materialien zu <i>zufall</i>\n",
    "\n",
    "Autor: Holger Böttcher - hbomat@posteo.de\n",
    "\n",
    "## Aufgaben 16 - Simulation (Bernoulliketten)"
   ]
  },
  {
   "cell_type": "markdown",
   "metadata": {},
   "source": [
    "<br>\n",
    "<i>Die Aufgabe wurde entnommen aus<br>\n",
    "<br>\n",
    "LS Stochastik<br>\n",
    "Grundkurs<br>\n",
    "Klett Verlag 1986<br>\n",
    "S. 34 Aufgaben 5+6</i><br>\n",
    "<br>"
   ]
  },
  {
   "cell_type": "code",
   "execution_count": 1,
   "metadata": {
    "collapsed": false
   },
   "outputs": [],
   "source": [
    "%run zufall\\start"
   ]
  },
  {
   "cell_type": "markdown",
   "metadata": {},
   "source": [
    "### Aufgabe 5\n",
    "Mit welcher Wahrscheinlichkeit hat eine Familie mit 4 Kindern mindestens 2 <br>\n",
    "Jungen, wenn die Wahrscheinlichkeiten für eine Jungen- und Mädchengeburt <br>\n",
    "gleich groß sind?<br>\n",
    "<br>\n",
    "Eine Familie wird so dargestellt  ($1$ - Junge, $0$ - Mädchen)"
   ]
  },
  {
   "cell_type": "code",
   "execution_count": 2,
   "metadata": {
    "collapsed": false
   },
   "outputs": [
    {
     "data": {
      "text/latex": [
       "$$\\left [ 0, \\quad 1, \\quad 1, \\quad 0\\right ]$$"
      ],
      "text/plain": [
       "[0, 1, 1, 0]"
      ]
     },
     "execution_count": 2,
     "metadata": {},
     "output_type": "execute_result"
    }
   ],
   "source": [
    "familie = zuf_zahl((0, 1), 4); familie"
   ]
  },
  {
   "cell_type": "markdown",
   "metadata": {},
   "source": [
    "Eine <b>Simulation</b> zur Ermittlung der relativen Häufigkeit ist dann"
   ]
  },
  {
   "cell_type": "code",
   "execution_count": 3,
   "metadata": {
    "collapsed": false
   },
   "outputs": [
    {
     "data": {
      "text/latex": [
       "$$0.6862$$"
      ],
      "text/plain": [
       "0.686200000000000"
      ]
     },
     "execution_count": 3,
     "metadata": {},
     "output_type": "execute_result"
    }
   ],
   "source": [
    "n = 10000   # wiederholen\n",
    "\n",
    "sim = [ zuf_zahl((0, 1), 4) for i in range(n) ]      # n Familien\n",
    "sim1 = [ ja_nein(anzahl(1)(x) >= 2) for x in sim ]   # Markieren der Familien mit mindestens 2 Jungen\n",
    "N(anzahl(1)(sim1) / n)                               # relative Häufigkeit"
   ]
  },
  {
   "cell_type": "markdown",
   "metadata": {},
   "source": [
    "Zum Vergleich der <b>theoretische Wert</b> für die Wahrscheinlichkeit, ermittelt anhand<br>\n",
    "der BernoulliKette"
   ]
  },
  {
   "cell_type": "code",
   "execution_count": 4,
   "metadata": {
    "collapsed": false
   },
   "outputs": [
    {
     "name": "stdout",
     "output_type": "stream",
     "text": [
      "Erzeugung eines BernoulliKette-BinomialVerteilung-Objektes\n"
     ]
    },
    {
     "data": {
      "text/latex": [
       "$$\\left ( \\frac{11}{16}, \\quad 0.6875\\right )$$"
      ],
      "text/plain": [
       "⎛11        ⎞\n",
       "⎜──, 0.6875⎟\n",
       "⎝16        ⎠"
      ]
     },
     "execution_count": 4,
     "metadata": {},
     "output_type": "execute_result"
    }
   ],
   "source": [
    "fam4 = BK(4, 1/2);     fam4.P( X >= 2 ), fam4.P( X >= 2, d=4 )"
   ]
  },
  {
   "cell_type": "markdown",
   "metadata": {
    "collapsed": true
   },
   "source": [
    "### Aufgabe 6\n",
    "Mit welcher Wahrscheinlichkeit hat eine Familie mit 5 Kindern mindestens 3 Mädchen, <br>\n",
    "wenn die Wahrscheinlichkeit für eine Jungengeburt 0.514 ist?\n",
    "<br>\n",
    "<br>\n",
    "Die Berechnung der theoretischen Wahrscheinlichkeit über die BernoulliKette ergibt <br>\n",
    "(Treffer ist hier \"Mädchen\")"
   ]
  },
  {
   "cell_type": "code",
   "execution_count": 5,
   "metadata": {
    "collapsed": false
   },
   "outputs": [
    {
     "name": "stdout",
     "output_type": "stream",
     "text": [
      "Erzeugung eines BernoulliKette-BinomialVerteilung-Objektes\n"
     ]
    },
    {
     "data": {
      "text/latex": [
       "$$\\left ( \\frac{7402558074579}{15625000000000}, \\quad 0.4738\\right )$$"
      ],
      "text/plain": [
       "⎛7402558074579         ⎞\n",
       "⎜──────────────, 0.4738⎟\n",
       "⎝15625000000000        ⎠"
      ]
     },
     "execution_count": 5,
     "metadata": {},
     "output_type": "execute_result"
    }
   ],
   "source": [
    "fam5 = BK(5, 1 - 0.514);     fam5.P( X >= 3 ), fam5.P( X >= 3, d=4 )"
   ]
  },
  {
   "cell_type": "markdown",
   "metadata": {},
   "source": [
    "Eine Familie wird mittels 5 Zahlen zwischen 1 und 1000 dargestellt, wobei die Zahlen<br>\n",
    "von 1 bis 514 für einen Jungen stehen, die Zahlen von 515 bis 1000 für ein Mädchen"
   ]
  },
  {
   "cell_type": "code",
   "execution_count": 17,
   "metadata": {
    "collapsed": false
   },
   "outputs": [
    {
     "data": {
      "text/latex": [
       "$$\\left [ 586, \\quad 707, \\quad 824, \\quad 504, \\quad 956\\right ]$$"
      ],
      "text/plain": [
       "[586, 707, 824, 504, 956]"
      ]
     },
     "execution_count": 17,
     "metadata": {},
     "output_type": "execute_result"
    }
   ],
   "source": [
    "familie = lambda : zuf_zahl((1,  1000), 5)   # bei jedem Aufruf wird \n",
    "familie()                         # eine Liste mit 5 Kindern erzeugt"
   ]
  },
  {
   "cell_type": "markdown",
   "metadata": {},
   "source": [
    "Die Simulation mit $n$ Familien ergibt dann die relative Häufigkeit"
   ]
  },
  {
   "cell_type": "code",
   "execution_count": 15,
   "metadata": {
    "collapsed": false
   },
   "outputs": [
    {
     "data": {
      "text/latex": [
       "$$0.4721$$"
      ],
      "text/plain": [
       "0.472100000000000"
      ]
     },
     "execution_count": 15,
     "metadata": {},
     "output_type": "execute_result"
    }
   ],
   "source": [
    "n = 10000   # wiederholen\n",
    "\n",
    "sim = [ familie() for i in range(n) ]                     # Eine Liste, die die n Teillisten der Familien enthält\n",
    "sim1 = [ [ja_nein(y > 514)  for y in x] for x in sim ]    # Markieren der Mädchen in jeder Familie\n",
    "sim2 = [ ja_nein(anzahl(1)(x) >= 3) for x in sim1 ]       # Markieren der Familien mit mehr als 3 Mädchen\n",
    "N(anzahl(1)(sim2) / n)                                    # relative Häufigkeit"
   ]
  },
  {
   "cell_type": "code",
   "execution_count": null,
   "metadata": {
    "collapsed": true
   },
   "outputs": [],
   "source": []
  }
 ],
 "metadata": {
  "anaconda-cloud": {},
  "kernelspec": {
   "display_name": "Python [default]",
   "language": "python",
   "name": "python3"
  },
  "language_info": {
   "codemirror_mode": {
    "name": "ipython",
    "version": 3
   },
   "file_extension": ".py",
   "mimetype": "text/x-python",
   "name": "python",
   "nbconvert_exporter": "python",
   "pygments_lexer": "ipython3",
   "version": "3.5.2"
  }
 },
 "nbformat": 4,
 "nbformat_minor": 0
}
