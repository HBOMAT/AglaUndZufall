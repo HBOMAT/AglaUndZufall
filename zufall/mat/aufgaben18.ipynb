{
 "cells": [
  {
   "cell_type": "markdown",
   "metadata": {},
   "source": [
    "# Materialien zu <i>zufall</i>\n",
    "\n",
    "Autor: Holger Böttcher - hbomat@posteo.de\n",
    "\n",
    "## Aufgaben 18 - Korrelation und Regression"
   ]
  },
  {
   "cell_type": "markdown",
   "metadata": {},
   "source": [
    "<br>\n",
    "<i>Die Aufgabe wurde entnommen aus<br>\n",
    "<br>\n",
    "V. Warstat<br>\n",
    "Mathematik<br>\n",
    "Stochastik<br>\n",
    "R. Oldenbourg Verlag 1993<br>\n",
    "S. 23 Aufgabe 12</i><br><br>\n",
    "In einem Handelsunternehmen werden in einem bestimmten Zeitraum die Angebots-<br>\n",
    "preise und die Absatzmengen für eine bestimmte Ware aufgezeichnet\n",
    "<div style='font-family:roman; font-size:13px'>\n",
    "<table align='left', style=>\n",
    "  <col width='200'>\n",
    "  <col width='40'>\n",
    "  <col width='40'>\n",
    "  <col width='40'>\n",
    "  <col width='40'>\n",
    "  <col width='40'>\n",
    "  <col width='40'>\n",
    "  <col width='40'>\n",
    "  <col width='40'>\n",
    "  <col width='40'>\n",
    "  <col width='40'>\n",
    "  <col width='40'>\n",
    "  <col width='40'>\n",
    "  <row align='right'>\n",
    "  <tr>\n",
    "     <td>Angebotspreis in DM/kg &nbsp;&nbsp;($x$)</th>\n",
    "     <td>2.49</th>                                \n",
    "     <td>2.51</th>\n",
    "     <td>2.53</th>\n",
    "     <td>2.57</th>\n",
    "     <td>2.58</th>\n",
    "     <td>2.62</th>\n",
    "     <td>2.67</th>\n",
    "     <td>2.68</th>\n",
    "     <td>2.77</th>\n",
    "     <td>2.78</th>\n",
    "     <td>2.84</th>\n",
    "     <td>2.85</th>\n",
    "   </tr>\n",
    "   <tr>\n",
    "     <td>Absatzmenge in kg &nbsp;&nbsp;($y$)</th>\n",
    "     <td>670</th>\n",
    "     <td>620</th>                                 \n",
    "     <td>680</th>\n",
    "     <td>630</th>\n",
    "     <td>680</th>\n",
    "     <td>520</th>\n",
    "     <td>560</th>\n",
    "     <td>620</th>  \n",
    "     <td>530</th> \n",
    "     <td>580</th> \n",
    "     <td>540</th> \n",
    "     <td>560</th> \n",
    "  </tr\n",
    "</table>  \n",
    "</div>\n",
    "<br><br><br><br><br>\n",
    "a) Berechnen Sie den Korrelationskoeffizienten\n",
    "<br><br>\n",
    "b) Stellen Sie den Zusammenhang zwischen Angebotspreis und Absatzmenge durch <br>\n",
    "&nbsp;&nbsp;&nbsp;&nbsp;eine lineare Funktion $y = a_0 + a_1 x$ dar\n",
    "<br>    \n",
    "c)  Zeichnen Sie das Streudiagramm und die Regressionsgerade\n",
    "<br>"
   ]
  },
  {
   "cell_type": "code",
   "execution_count": 1,
   "metadata": {
    "collapsed": false
   },
   "outputs": [],
   "source": [
    "%run zufall/start"
   ]
  },
  {
   "cell_type": "code",
   "execution_count": 2,
   "metadata": {
    "collapsed": false
   },
   "outputs": [],
   "source": [
    "x = DR( 2.49, 2.51, 2.53, 2.57, 2.58, 2.62, 2.67, 2.68, 2.77, 2.78, 2.84, 2.85 )\n",
    "y = DR( 670, 620, 680, 630, 680, 520, 560, 620, 530, 580, 540, 560 )"
   ]
  },
  {
   "cell_type": "code",
   "execution_count": 3,
   "metadata": {
    "collapsed": false
   },
   "outputs": [
    {
     "data": {
      "text/latex": [
       "$$-0.723534542686$$"
      ],
      "text/plain": [
       "-0.723534542686"
      ]
     },
     "execution_count": 3,
     "metadata": {},
     "output_type": "execute_result"
    }
   ],
   "source": [
    "x.korr_koeff(y)     # Ergebnis zu a)"
   ]
  },
  {
   "cell_type": "code",
   "execution_count": 4,
   "metadata": {
    "collapsed": false
   },
   "outputs": [
    {
     "name": "stdout",
     "output_type": "stream",
     "text": [
      " \n"
     ]
    },
    {
     "data": {
      "text/latex": [
       "$$\\text{Gleichung der Regressionsgeraden}$$"
      ],
      "text/plain": [
       "<IPython.core.display.Math object>"
      ]
     },
     "metadata": {},
     "output_type": "display_data"
    },
    {
     "data": {
      "text/latex": [
       "$$y =-332.128458223\\; x +1481.7980444$$"
      ],
      "text/plain": [
       "<IPython.core.display.Math object>"
      ]
     },
     "metadata": {},
     "output_type": "display_data"
    },
    {
     "data": {
      "image/png": "[encoded data removed]",
      "text/plain": [
       "<matplotlib.figure.Figure at 0x980ba50>"
      ]
     },
     "metadata": {},
     "output_type": "display_data"
    }
   ],
   "source": [
    "x.streu_diagr(y, g=ja)     # Ergebnis zu b) und c)"
   ]
  },
  {
   "cell_type": "code",
   "execution_count": null,
   "metadata": {
    "collapsed": true
   },
   "outputs": [],
   "source": []
  }
 ],
 "metadata": {
  "anaconda-cloud": {},
  "kernelspec": {
   "display_name": "Python [default]",
   "language": "python",
   "name": "python3"
  },
  "language_info": {
   "codemirror_mode": {
    "name": "ipython",
    "version": 3
   },
   "file_extension": ".py",
   "mimetype": "text/x-python",
   "name": "python",
   "nbconvert_exporter": "python",
   "pygments_lexer": "ipython3",
   "version": "3.5.2"
  }
 },
 "nbformat": 4,
 "nbformat_minor": 0
}
