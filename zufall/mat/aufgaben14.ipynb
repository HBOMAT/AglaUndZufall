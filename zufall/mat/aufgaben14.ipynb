{
 "cells": [
  {
   "cell_type": "markdown",
   "metadata": {},
   "source": [
    "# Materialien zu <i>zufall</i>\n",
    "\n",
    "Autor: Holger Böttcher - hbomat@posteo.de\n",
    "\n",
    "## Aufgaben 14 - Simulation (Geburtstage)"
   ]
  },
  {
   "cell_type": "markdown",
   "metadata": {},
   "source": [
    "<br>\n",
    "<i>Die Aufgabe wurde entnommen aus<br>\n",
    "<br>\n",
    "LS Stochastik<br>\n",
    "Grundkurs<br>\n",
    "Klett Verlag 1986<br>\n",
    "S. 34 Aufgabe11</i><br>\n",
    "<br>\n",
    "Wie groß ist die Wahrscheinlichkeit, dass von 4 Schülern mindestens <br>\n",
    "zwei im gleichen Monat Geburtstag haben?\n",
    "<br>"
   ]
  },
  {
   "cell_type": "code",
   "execution_count": 1,
   "metadata": {
    "collapsed": false
   },
   "outputs": [],
   "source": [
    "%run zufall/start"
   ]
  },
  {
   "cell_type": "markdown",
   "metadata": {},
   "source": [
    "Die 4 Schüler können so dargestellt werden (die Zahlen stehen für die Monate)"
   ]
  },
  {
   "cell_type": "code",
   "execution_count": 2,
   "metadata": {
    "collapsed": false
   },
   "outputs": [
    {
     "data": {
      "text/latex": [
       "$$\\left [ 8, \\quad 12, \\quad 4, \\quad 1\\right ]$$"
      ],
      "text/plain": [
       "[8, 12, 4, 1]"
      ]
     },
     "execution_count": 2,
     "metadata": {},
     "output_type": "execute_result"
    }
   ],
   "source": [
    "schüler = zuf_zahl((1, 12), 4); schüler"
   ]
  },
  {
   "cell_type": "markdown",
   "metadata": {
    "collapsed": true
   },
   "source": [
    "Die folgende Funktion geht von den Überlegungen zum Gegenereignis \"Es gibt<br>\n",
    "nur verschiedene Zahlen in der Liste\" aus und kehrt dann das Ergebnis um. <br>\n",
    "Es wird benutzt, dass die Elemente einer Menge alle verschieden sind"
   ]
  },
  {
   "cell_type": "code",
   "execution_count": 4,
   "metadata": {
    "collapsed": false
   },
   "outputs": [],
   "source": [
    "def f(x):      # x - Liste\n",
    "    return 1 - ja_nein( anzahl( list( { x[0], x[1], x[2], x[3] } ) ) == 4 )"
   ]
  },
  {
   "cell_type": "code",
   "execution_count": 5,
   "metadata": {
    "collapsed": false
   },
   "outputs": [
    {
     "data": {
      "text/latex": [
       "$$\\left ( 0, \\quad 1, \\quad 0\\right )$$"
      ],
      "text/plain": [
       "(0, 1, 0)"
      ]
     },
     "execution_count": 5,
     "metadata": {},
     "output_type": "execute_result"
    }
   ],
   "source": [
    "f(schüler), f([11, 2, 11, 7]), f([3, 2, 11, 7])"
   ]
  },
  {
   "cell_type": "markdown",
   "metadata": {},
   "source": [
    "Die <b>Simulation</b> kann dann durchgeführt werden"
   ]
  },
  {
   "cell_type": "code",
   "execution_count": 6,
   "metadata": {
    "collapsed": false
   },
   "outputs": [
    {
     "data": {
      "text/latex": [
       "$$0.4202$$"
      ],
      "text/plain": [
       "0.420200000000000"
      ]
     },
     "execution_count": 6,
     "metadata": {},
     "output_type": "execute_result"
    }
   ],
   "source": [
    "n = 10000   # wiederholen\n",
    "\n",
    "sim = [ zuf_zahl((1, 12), 4) for i in range(n)]   # Erzeugen von n Schüler-Tupeln\n",
    "sim1 = [ f(x) for x in sim ]                      # Anwenden der Funktion auf alle Listenelemente\n",
    "N(anzahl(1)(sim1) / n)                            # relative Häufigkeit"
   ]
  },
  {
   "cell_type": "markdown",
   "metadata": {},
   "source": [
    "Der erhaltene Wert kann mit der <b>theoretischen Wahrscheinlichkeit</b> verglichen <br>\n",
    "werden, die ebenfalls über das Gegenereignis ermittelt wird:<br>\n",
    "<br>\n",
    "$p = 1 - \\dfrac{12\\cdot 11 \\cdot 10 \\cdot 9}{12^4} = \\dfrac{41}{96} \\approx 0.4271$"
   ]
  },
  {
   "cell_type": "markdown",
   "metadata": {
    "collapsed": true
   },
   "source": [
    "Diese Wahrscheinlichkeit kann mittels der obigen Funktion auch durch \"Abzählen\"<br>\n",
    "berechnet werden. Dazu wird die Funktion als ZG-Funktion benutzt und aus dem <br>\n",
    "ZufallsExperiment, das die Aufgabenstellung modelliert"
   ]
  },
  {
   "cell_type": "code",
   "execution_count": 8,
   "metadata": {
    "collapsed": false
   },
   "outputs": [
    {
     "data": {
      "text/latex": [
       "$$\\left [ 1, \\quad 2, \\quad 3, \\quad 4, \\quad 5, \\quad 6, \\quad 7, \\quad 8, \\quad 9, \\quad 10, \\quad 11, \\quad 12\\right ]$$"
      ],
      "text/plain": [
       "[1, 2, 3, 4, 5, 6, 7, 8, 9, 10, 11, 12]"
      ]
     },
     "execution_count": 8,
     "metadata": {},
     "output_type": "execute_result"
    }
   ],
   "source": [
    "liste = list(range(1, 13))  # 12 Monate\n",
    "liste"
   ]
  },
  {
   "cell_type": "code",
   "execution_count": 9,
   "metadata": {
    "collapsed": false
   },
   "outputs": [],
   "source": [
    "ze = ZE(liste, 4)"
   ]
  },
  {
   "cell_type": "markdown",
   "metadata": {},
   "source": [
    "eine ZufallsGroesse abgeleitet. Das ist eine $(0,1)$-ZufallsGroesse, es interessiert<br>\n",
    "die Wahrscheinlichkeit für 1"
   ]
  },
  {
   "cell_type": "code",
   "execution_count": 11,
   "metadata": {
    "collapsed": false
   },
   "outputs": [
    {
     "name": "stdout",
     "output_type": "stream",
     "text": [
      "Erzeugung eines ZufallsGroesse-Objektes\n"
     ]
    },
    {
     "data": {
      "text/latex": [
       "$$\\left ( \\frac{41}{96}, \\quad 0.4271\\right )$$"
      ],
      "text/plain": [
       "⎛41        ⎞\n",
       "⎜──, 0.4271⎟\n",
       "⎝96        ⎠"
      ]
     },
     "execution_count": 11,
     "metadata": {},
     "output_type": "execute_result"
    }
   ],
   "source": [
    "zg = ZE(liste, 4,  f=f)\n",
    "\n",
    "zg.P(1), zg.P(1, d=4)"
   ]
  },
  {
   "cell_type": "code",
   "execution_count": null,
   "metadata": {
    "collapsed": true
   },
   "outputs": [],
   "source": []
  }
 ],
 "metadata": {
  "anaconda-cloud": {},
  "kernelspec": {
   "display_name": "Python [default]",
   "language": "python",
   "name": "python3"
  },
  "language_info": {
   "codemirror_mode": {
    "name": "ipython",
    "version": 3
   },
   "file_extension": ".py",
   "mimetype": "text/x-python",
   "name": "python",
   "nbconvert_exporter": "python",
   "pygments_lexer": "ipython3",
   "version": "3.5.2"
  }
 },
 "nbformat": 4,
 "nbformat_minor": 0
}
