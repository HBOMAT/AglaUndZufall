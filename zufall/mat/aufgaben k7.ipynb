{
 "cells": [
  {
   "cell_type": "markdown",
   "metadata": {},
   "source": [
    "# Materialien zu <i>zufall</i>\n",
    "\n",
    "Autor: Holger Böttcher - hbomat@posteo.de\n",
    "\n",
    "## Aufgaben K7 - Übungsklausur 7"
   ]
  },
  {
   "cell_type": "markdown",
   "metadata": {},
   "source": [
    "<br><i>Die Aufgaben wurden entnommen aus \n",
    "<br><br>\n",
    "A. Müller<br>\n",
    "Wahrscheinlichkeitsrechnung und Statistik<br>\n",
    "Grundkurs<br>\n",
    "Stark Verlag 1997<br>\n",
    "S. 82 Klausur 7<br>\n",
    "</i>\n",
    "<br><br>\n",
    "Ein regulärer Körper aus zwölf gleichseitigen Fünfecken heißt Dodekaeder. Sechs<br>\n",
    "seiner Flächen sollen die Ziffer 1, drei die Ziffer 2, zwei die Ziffer 3 und  eine die <br>\n",
    "Ziffer 4 tragen. Als geworfen gilt die Ziffer auf der Fläche, auf der das Dodekaeder<br>\n",
    "liegt. Es wird vorausgesetzt, dass das Dodekaeder ein Laplace-Dodekaeder ist.\n",
    "<br><br>\n",
    "1.  Das Dodekaeder wird dreimal geworfen und die geworfenen Ziffern der Reihe <br>\n",
    "nach notiert. Es entsteht eine dreistellige Zahl.<br><br>\n",
    "$\\quad$a)  Wie viele solcher dreistelligen Zahlen sind möglich, <br>    \n",
    "$\\quad$$\\quad$(1)  wenn keine Einschränkungen gelten,<br>\n",
    "$\\quad$$\\quad$(2)  die lauter verschiedene Zahlen enthalten,<br>\n",
    "$\\quad$$\\quad$(3)  die mindestens zwei gleiche Ziffern besitzen,<br>\n",
    "$\\quad$$\\quad$(4)  bei denen die drei Ziffern eine aufsteigende Folge bilden?<br><br>\n",
    "$\\quad$b)  Bestimmen Sie die Wahrscheinlichkeit der Ereignisse<br>     \n",
    "$\\quad$$\\quad$A: \"Die Zahl ist 222\",<br>\n",
    "$\\quad$$\\quad$B: \"Die Zahl ist kleiner als 314\",<br>\n",
    "$\\quad$$\\quad$C: \"Die Zahl hat genau zwei gleiche Ziffern\",<br>\n",
    "$\\quad$$\\quad$D: \"Die Zahl ist ungerade\".<br><br>\n",
    "$\\quad$c)  Beschreiben Sie ein Urnenmodell, mit dem man das dreimalige Werfen des Dode-<br>\n",
    "$\\quad$$\\quad$kaeders simulieren kann.\n",
    "<br><br>\n",
    "2. a)  Beim viermaligen Werfen des Dodekaeders treten die vier Ziffern 1,2,3,4 je ein-<br>\n",
    "$\\quad$mal auf. Wie groß ist die Wahrscheinlichkeit für dieses Ereignis? <br>  \n",
    "b)  Nun wird das Dodekaeder 50-mal geworfen. Wie groß ist die Wahrscheinlichkeit, <br>\n",
    "$\\quad$dass die Ziffer 3 höchstens viermal auftritt?<br>     \n",
    "c)  Wie oft muss das Dodekaeder mindestens geworfen werden, um mit einer Wahr-<br>\n",
    "$\\quad$scheinlichkeit von mehr als 90% wenigstens einmal die Ziffer 4 zu erhalten?\n",
    "<br><br>        \n",
    "3.  a)  Ein Skeptiker glaubt nur dann, dass es sich um ein Laplace-Dodekaeder handelt,<br>\n",
    "$\\quad$wenn bei 100 Würfen des Dodekaeders die Ziffer 1 mindestens 40- und höchstens <br>\n",
    "$\\quad$60-mal auftritt. Mit welcher Wahrscheinlichkeit wird die zutreffende Hypothese <br>\n",
    "$\\quad$$H_1: p_1 = 0.5$ irrtümlich verworfen?<br>    \n",
    "b)  Wie müsste der Annahmebereich $A = { 50 - k, ..., 50 + k }$ für die Hypothese $H_1$ <br>\n",
    "$\\quad$lauten, wenn die Wahrscheinlichkeit für eine Fehlentscheidung kleiner als 1% wer-<br>\n",
    "$\\quad$den soll, bei möglichst kleinem $k \\in \\mathbf{N}$?\n",
    "<br><br>"
   ]
  },
  {
   "cell_type": "code",
   "execution_count": 1,
   "metadata": {
    "collapsed": false
   },
   "outputs": [],
   "source": [
    "%run zufall/start"
   ]
  },
  {
   "cell_type": "markdown",
   "metadata": {
    "collapsed": true
   },
   "source": [
    "### Zu 1.\n",
    "### a)\n",
    "(1)  An jeder Stelle können die 4 Ziffern stehen - das sind $\\;4^3 = 64\\;$ Möglichkeiten oder"
   ]
  },
  {
   "cell_type": "code",
   "execution_count": 2,
   "metadata": {
    "collapsed": false
   },
   "outputs": [
    {
     "data": {
      "text/latex": [
       "$$\\left [ \\left ( 1, \\quad 1, \\quad 1\\right ), \\quad \\left ( 1, \\quad 1, \\quad 2\\right ), \\quad \\left ( 1, \\quad 1, \\quad 3\\right ), \\quad \\left ( 1, \\quad 1, \\quad 4\\right ), \\quad \\left ( 1, \\quad 2, \\quad 1\\right ), \\quad \\left ( 1, \\quad 2, \\quad 2\\right ), \\quad \\left ( 1, \\quad 2, \\quad 3\\right ), \\quad \\left ( 1, \\quad 2, \\quad 4\\right ), \\quad \\left ( 1, \\quad 3, \\quad 1\\right ), \\quad \\left ( 1, \\quad 3, \\quad 2\\right ), \\quad \\left ( 1, \\quad 3, \\quad 3\\right ), \\quad \\left ( 1, \\quad 3, \\quad 4\\right ), \\quad \\left ( 1, \\quad 4, \\quad 1\\right ), \\quad \\left ( 1, \\quad 4, \\quad 2\\right ), \\quad \\left ( 1, \\quad 4, \\quad 3\\right ), \\quad \\left ( 1, \\quad 4, \\quad 4\\right ), \\quad \\left ( 2, \\quad 1, \\quad 1\\right ), \\quad \\left ( 2, \\quad 1, \\quad 2\\right ), \\quad \\left ( 2, \\quad 1, \\quad 3\\right ), \\quad \\left ( 2, \\quad 1, \\quad 4\\right ), \\quad \\left ( 2, \\quad 2, \\quad 1\\right ), \\quad \\left ( 2, \\quad 2, \\quad 2\\right ), \\quad \\left ( 2, \\quad 2, \\quad 3\\right ), \\quad \\left ( 2, \\quad 2, \\quad 4\\right ), \\quad \\left ( 2, \\quad 3, \\quad 1\\right ), \\quad \\left ( 2, \\quad 3, \\quad 2\\right ), \\quad \\left ( 2, \\quad 3, \\quad 3\\right ), \\quad \\left ( 2, \\quad 3, \\quad 4\\right ), \\quad \\left ( 2, \\quad 4, \\quad 1\\right ), \\quad \\left ( 2, \\quad 4, \\quad 2\\right ), \\quad \\left ( 2, \\quad 4, \\quad 3\\right ), \\quad \\left ( 2, \\quad 4, \\quad 4\\right ), \\quad \\left ( 3, \\quad 1, \\quad 1\\right ), \\quad \\left ( 3, \\quad 1, \\quad 2\\right ), \\quad \\left ( 3, \\quad 1, \\quad 3\\right ), \\quad \\left ( 3, \\quad 1, \\quad 4\\right ), \\quad \\left ( 3, \\quad 2, \\quad 1\\right ), \\quad \\left ( 3, \\quad 2, \\quad 2\\right ), \\quad \\left ( 3, \\quad 2, \\quad 3\\right ), \\quad \\left ( 3, \\quad 2, \\quad 4\\right ), \\quad \\left ( 3, \\quad 3, \\quad 1\\right ), \\quad \\left ( 3, \\quad 3, \\quad 2\\right ), \\quad \\left ( 3, \\quad 3, \\quad 3\\right ), \\quad \\left ( 3, \\quad 3, \\quad 4\\right ), \\quad \\left ( 3, \\quad 4, \\quad 1\\right ), \\quad \\left ( 3, \\quad 4, \\quad 2\\right ), \\quad \\left ( 3, \\quad 4, \\quad 3\\right ), \\quad \\left ( 3, \\quad 4, \\quad 4\\right ), \\quad \\left ( 4, \\quad 1, \\quad 1\\right ), \\quad \\left ( 4, \\quad 1, \\quad 2\\right ), \\quad \\left ( 4, \\quad 1, \\quad 3\\right ), \\quad \\left ( 4, \\quad 1, \\quad 4\\right ), \\quad \\left ( 4, \\quad 2, \\quad 1\\right ), \\quad \\left ( 4, \\quad 2, \\quad 2\\right ), \\quad \\left ( 4, \\quad 2, \\quad 3\\right ), \\quad \\left ( 4, \\quad 2, \\quad 4\\right ), \\quad \\left ( 4, \\quad 3, \\quad 1\\right ), \\quad \\left ( 4, \\quad 3, \\quad 2\\right ), \\quad \\left ( 4, \\quad 3, \\quad 3\\right ), \\quad \\left ( 4, \\quad 3, \\quad 4\\right ), \\quad \\left ( 4, \\quad 4, \\quad 1\\right ), \\quad \\left ( 4, \\quad 4, \\quad 2\\right ), \\quad \\left ( 4, \\quad 4, \\quad 3\\right ), \\quad \\left ( 4, \\quad 4, \\quad 4\\right )\\right ]$$"
      ],
      "text/plain": [
       "[(1, 1, 1), (1, 1, 2), (1, 1, 3), (1, 1, 4), (1, 2, 1), (1, 2, 2), (1, 2, 3), \n",
       "(1, 2, 4), (1, 3, 1), (1, 3, 2), (1, 3, 3), (1, 3, 4), (1, 4, 1), (1, 4, 2), (\n",
       "1, 4, 3), (1, 4, 4), (2, 1, 1), (2, 1, 2), (2, 1, 3), (2, 1, 4), (2, 2, 1), (2\n",
       ", 2, 2), (2, 2, 3), (2, 2, 4), (2, 3, 1), (2, 3, 2), (2, 3, 3), (2, 3, 4), (2,\n",
       " 4, 1), (2, 4, 2), (2, 4, 3), (2, 4, 4), (3, 1, 1), (3, 1, 2), (3, 1, 3), (3, \n",
       "1, 4), (3, 2, 1), (3, 2, 2), (3, 2, 3), (3, 2, 4), (3, 3, 1), (3, 3, 2), (3, 3\n",
       ", 3), (3, 3, 4), (3, 4, 1), (3, 4, 2), (3, 4, 3), (3, 4, 4), (4, 1, 1), (4, 1,\n",
       " 2), (4, 1, 3), (4, 1, 4), (4, 2, 1), (4, 2, 2), (4, 2, 3), (4, 2, 4), (4, 3, \n",
       "1), (4, 3, 2), (4, 3, 3), (4, 3, 4), (4, 4, 1), (4, 4, 2), (4, 4, 3), (4, 4, 4\n",
       ")]"
      ]
     },
     "execution_count": 2,
     "metadata": {},
     "output_type": "execute_result"
    }
   ],
   "source": [
    "L = komb([1,2,3,4], 3, mit, mit, l=ja); L"
   ]
  },
  {
   "cell_type": "code",
   "execution_count": 3,
   "metadata": {
    "collapsed": false
   },
   "outputs": [
    {
     "data": {
      "text/latex": [
       "$$64$$"
      ],
      "text/plain": [
       "64"
      ]
     },
     "execution_count": 3,
     "metadata": {},
     "output_type": "execute_result"
    }
   ],
   "source": [
    "anzahl(L)"
   ]
  },
  {
   "cell_type": "markdown",
   "metadata": {},
   "source": [
    "(2)  An der 1. sind 4, an der 2. 3, an der 3. 2 Ziffern möglich - das sind  $\\;4\\cdot 3 \\cdot 2 = 24\\;$ Zahlen <br>oder"
   ]
  },
  {
   "cell_type": "code",
   "execution_count": 4,
   "metadata": {
    "collapsed": false
   },
   "outputs": [
    {
     "data": {
      "text/latex": [
       "$$3$$"
      ],
      "text/plain": [
       "3"
      ]
     },
     "execution_count": 4,
     "metadata": {},
     "output_type": "execute_result"
    }
   ],
   "source": [
    "anzahl(list({2,3,4}))"
   ]
  },
  {
   "cell_type": "code",
   "execution_count": 5,
   "metadata": {
    "collapsed": false
   },
   "outputs": [
    {
     "data": {
      "text/latex": [
       "$$24$$"
      ],
      "text/plain": [
       "24"
      ]
     },
     "execution_count": 5,
     "metadata": {},
     "output_type": "execute_result"
    }
   ],
   "source": [
    "L1 = [ x for x in L if anzahl(list({ x[0], x[1], x[2] })) == 3];    anzahl(L1)"
   ]
  },
  {
   "cell_type": "markdown",
   "metadata": {
    "collapsed": false
   },
   "source": [
    "(3)  ist die Differenz zwischen (1) und (2) - 40 Zahlen<br><br>\n",
    "(4)  die vier Zahlen mit aufsteigender Ziffernfolge sind  123,  124,  134,  234   oder"
   ]
  },
  {
   "cell_type": "code",
   "execution_count": 6,
   "metadata": {
    "collapsed": false
   },
   "outputs": [
    {
     "data": {
      "text/latex": [
       "$$\\left [ \\left ( 1, \\quad 2, \\quad 3\\right ), \\quad \\left ( 1, \\quad 2, \\quad 4\\right ), \\quad \\left ( 1, \\quad 3, \\quad 4\\right ), \\quad \\left ( 2, \\quad 3, \\quad 4\\right )\\right ]$$"
      ],
      "text/plain": [
       "[(1, 2, 3), (1, 2, 4), (1, 3, 4), (2, 3, 4)]"
      ]
     },
     "execution_count": 6,
     "metadata": {},
     "output_type": "execute_result"
    }
   ],
   "source": [
    "[ x for x in L if x[0] < x[1] and x[1] < x[2] ]"
   ]
  },
  {
   "cell_type": "markdown",
   "metadata": {},
   "source": [
    "### b)\n",
    "Es werden bewußt keine kombinatorischen Berechnungen durchgeführt, sondern<br>\n",
    "andere Hilfsmittel von $zufall$ eingesetzt"
   ]
  },
  {
   "cell_type": "code",
   "execution_count": 3,
   "metadata": {
    "collapsed": false
   },
   "outputs": [],
   "source": [
    "dodekaeder = d = ZE( {1:6, 2:3, 3:2, 4:1}, 3)"
   ]
  },
  {
   "cell_type": "code",
   "execution_count": 4,
   "metadata": {
    "collapsed": false
   },
   "outputs": [
    {
     "data": {
      "text/latex": [
       "$$64$$"
      ],
      "text/plain": [
       "64"
      ]
     },
     "execution_count": 4,
     "metadata": {},
     "output_type": "execute_result"
    }
   ],
   "source": [
    "d.n_omega   # Anzahl der Elemente in omega"
   ]
  },
  {
   "cell_type": "code",
   "execution_count": 9,
   "metadata": {
    "collapsed": false
   },
   "outputs": [
    {
     "data": {
      "text/latex": [
       "$$\\left [ 211, \\quad 224, \\quad 323, \\quad 422, \\quad 233\\right ]$$"
      ],
      "text/plain": [
       "[211, 224, 323, 422, 233]"
      ]
     },
     "execution_count": 9,
     "metadata": {},
     "output_type": "execute_result"
    }
   ],
   "source": [
    "list(d.omega)[:5]   # die ersten 5"
   ]
  },
  {
   "cell_type": "code",
   "execution_count": 10,
   "metadata": {
    "collapsed": false
   },
   "outputs": [
    {
     "data": {
      "text/latex": [
       "$$\\left [ \\left [ 1, \\quad 1, \\quad 1\\right ], \\quad \\left [ 1, \\quad 1, \\quad 2\\right ], \\quad \\left [ 1, \\quad 1, \\quad 3\\right ], \\quad \\left [ 1, \\quad 1, \\quad 4\\right ], \\quad \\left [ 1, \\quad 2, \\quad 1\\right ]\\right ]$$"
      ],
      "text/plain": [
       "[[1, 1, 1], [1, 1, 2], [1, 1, 3], [1, 1, 4], [1, 2, 1]]"
      ]
     },
     "execution_count": 10,
     "metadata": {},
     "output_type": "execute_result"
    }
   ],
   "source": [
    "d.omega_(l=ja)[:5]  # 5 Elemente"
   ]
  },
  {
   "cell_type": "code",
   "execution_count": 11,
   "metadata": {
    "collapsed": false
   },
   "outputs": [
    {
     "data": {
      "text/latex": [
       "$$0.0156$$"
      ],
      "text/plain": [
       "0.0156"
      ]
     },
     "execution_count": 11,
     "metadata": {},
     "output_type": "execute_result"
    }
   ],
   "source": [
    "d.P(Symbol('222'), d=4)     # Ergebnis zu A"
   ]
  },
  {
   "cell_type": "code",
   "execution_count": 12,
   "metadata": {
    "collapsed": false
   },
   "outputs": [
    {
     "data": {
      "text/latex": [
       "$$0.8264$$"
      ],
      "text/plain": [
       "0.8264"
      ]
     },
     "execution_count": 12,
     "metadata": {},
     "output_type": "execute_result"
    }
   ],
   "source": [
    "B = [ x for x in d.omega_(l=ja) if x[0]*100+x[1]*10+x[2] < 314 ]   \n",
    "            #  (die Zahl ist kleiner als 314)\n",
    "\n",
    "B1 = [ kurz_form(x) for x in B ]  \n",
    "            # zur Berechnung der Wahrscheinlichkeit müssen die Elemente in \n",
    "            # Kurzform vorliegen\n",
    "    \n",
    "d.P(B1, d=4)   # Ergebnis zu B    "
   ]
  },
  {
   "cell_type": "code",
   "execution_count": 13,
   "metadata": {
    "collapsed": false
   },
   "outputs": [
    {
     "data": {
      "text/latex": [
       "$$0.6042$$"
      ],
      "text/plain": [
       "0.6042"
      ]
     },
     "execution_count": 13,
     "metadata": {},
     "output_type": "execute_result"
    }
   ],
   "source": [
    "C = [ x for x in d.omega_(l=ja) if anzahl(list({ x[0], x[1], x[2] })) == 2 ]     \n",
    "                        # (Die Anzahl der Elemente der Menge der Ziffern ist 2)\n",
    "    \n",
    "C1 = [ kurz_form(x) for x in C ]   \n",
    "\n",
    "d.P(C1, d=4)     # Ergebnis zu C"
   ]
  },
  {
   "cell_type": "code",
   "execution_count": 14,
   "metadata": {
    "collapsed": false
   },
   "outputs": [
    {
     "data": {
      "text/latex": [
       "$$0.6667$$"
      ],
      "text/plain": [
       "0.6667"
      ]
     },
     "execution_count": 14,
     "metadata": {},
     "output_type": "execute_result"
    }
   ],
   "source": [
    "D = [ x for x in d.omega_(l=ja) if x[2] in (1, 3) ]    \n",
    "                  # (die letzte Ziffer ist 1 oder 3)\n",
    "\n",
    "D1 = [ kurz_form(x) for x in D ]   \n",
    "\n",
    "d.P(D1, d=4)     # Ergebnis zu D"
   ]
  },
  {
   "cell_type": "markdown",
   "metadata": {},
   "source": [
    "### c)\n",
    "Das Urnenmodell ist das in <b>b)</b> verwendete\n",
    "### Zu 2.\n",
    "### a)\n",
    "(1)  Auch hier werden bewußt keine kombinatorischen Berechnungen durchgeführt"
   ]
  },
  {
   "cell_type": "code",
   "execution_count": 15,
   "metadata": {
    "collapsed": true
   },
   "outputs": [],
   "source": [
    "dod4 = ZE( {1:6, 2 :3, 3:2, 4:1}, 4)"
   ]
  },
  {
   "cell_type": "code",
   "execution_count": 16,
   "metadata": {
    "collapsed": false
   },
   "outputs": [
    {
     "data": {
      "text/latex": [
       "$$0.0417$$"
      ],
      "text/plain": [
       "0.0417"
      ]
     },
     "execution_count": 16,
     "metadata": {},
     "output_type": "execute_result"
    }
   ],
   "source": [
    "A = [ x for x in dod4.omega_(l=ja) if anzahl(list({ x[0], x[1], x[2], x[3] })) == 4 ]\n",
    "\n",
    "dod4.P([kurz_form(x) for x in A], d=4)    # Ergebnis zu (1)"
   ]
  },
  {
   "cell_type": "markdown",
   "metadata": {},
   "source": [
    "(2)  Eine drei ergibt sich in zwei der 12 Fälle"
   ]
  },
  {
   "cell_type": "code",
   "execution_count": 17,
   "metadata": {
    "collapsed": false
   },
   "outputs": [
    {
     "name": "stdout",
     "output_type": "stream",
     "text": [
      "Erzeugung eines BernoulliKette-BinomialVerteilung-Objektes\n"
     ]
    }
   ],
   "source": [
    "vv = BK(50, 1/6)"
   ]
  },
  {
   "cell_type": "code",
   "execution_count": 18,
   "metadata": {
    "collapsed": false
   },
   "outputs": [
    {
     "data": {
      "text/latex": [
       "$$\\left ( \\frac{6497913318526116199791431427001953125}{101035159683095507580392450057067036672}, \\quad 0.0643\\right )$$"
      ],
      "text/plain": [
       "⎛ 6497913318526116199791431427001953125         ⎞\n",
       "⎜───────────────────────────────────────, 0.0643⎟\n",
       "⎝101035159683095507580392450057067036672        ⎠"
      ]
     },
     "execution_count": 18,
     "metadata": {},
     "output_type": "execute_result"
    }
   ],
   "source": [
    "vv.P( X <= 4),     vv.P( X <= 4, d=4)     # Ergebnis zu (2)"
   ]
  },
  {
   "cell_type": "markdown",
   "metadata": {
    "collapsed": true
   },
   "source": [
    "(3)   Es ist $P$( mindestens ein ... ) = $1 - P$( kein ... ), daher muss gelten"
   ]
  },
  {
   "cell_type": "code",
   "execution_count": 5,
   "metadata": {
    "collapsed": false
   },
   "outputs": [
    {
     "data": {
      "text/latex": [
       "$$- \\left(\\frac{11}{12}\\right)^{n} + 1 > 0.9$$"
      ],
      "text/plain": [
       "      n          \n",
       "  ⎛11⎞           \n",
       "- ⎜──⎟  + 1 > 0.9\n",
       "  ⎝12⎠           "
      ]
     },
     "execution_count": 5,
     "metadata": {},
     "output_type": "execute_result"
    }
   ],
   "source": [
    "u = 1 - (1-Rational(1, 12))^n > 0.9; u    # (eine Vier ergibt sich in einem der 12 Fälle)"
   ]
  },
  {
   "cell_type": "code",
   "execution_count": 6,
   "metadata": {
    "collapsed": false
   },
   "outputs": [
    {
     "data": {
      "text/latex": [
       "$$\\left(26.4630347508289, \\infty\\right)$$"
      ],
      "text/plain": [
       "(26.4630347508289, ∞)"
      ]
     },
     "execution_count": 6,
     "metadata": {},
     "output_type": "execute_result"
    }
   ],
   "source": [
    "löse(u, set=ja)"
   ]
  },
  {
   "cell_type": "markdown",
   "metadata": {},
   "source": [
    "Es müssen mindestens 26 Würfe erfolgen"
   ]
  },
  {
   "cell_type": "markdown",
   "metadata": {},
   "source": [
    "### Zu 3.\n",
    "### a)"
   ]
  },
  {
   "cell_type": "code",
   "execution_count": 21,
   "metadata": {
    "collapsed": false
   },
   "outputs": [],
   "source": [
    "vv = BV(100, 0.5)   # die Verteilung bei wahrer Hypothese  H1: p = 0.5"
   ]
  },
  {
   "cell_type": "markdown",
   "metadata": {},
   "source": [
    "Es ist nach dem Fehler 1. Art gefragt. Die Wahrscheinlichkeit für ein Ergebnis aus <BR>dem Ablehnungsbereich ist"
   ]
  },
  {
   "cell_type": "code",
   "execution_count": 22,
   "metadata": {
    "collapsed": false
   },
   "outputs": [
    {
     "data": {
      "text/latex": [
       "$$0.03520000000000001$$"
      ],
      "text/plain": [
       "0.03520000000000001"
      ]
     },
     "execution_count": 22,
     "metadata": {},
     "output_type": "execute_result"
    }
   ],
   "source": [
    "1 - vv.P( '40 <= X <= 60', d=4)  # Ergebnis zu a)"
   ]
  },
  {
   "cell_type": "markdown",
   "metadata": {},
   "source": [
    "### b)\n",
    "Es wird ein Signifikanztest auf dem Signifikanzniveau 1% durchgeführt"
   ]
  },
  {
   "cell_type": "code",
   "execution_count": 23,
   "metadata": {
    "collapsed": false
   },
   "outputs": [],
   "source": [
    "st = STP(0.5, 0.01, 'zwei', 100, 'BV')"
   ]
  },
  {
   "cell_type": "code",
   "execution_count": 24,
   "metadata": {
    "collapsed": false
   },
   "outputs": [
    {
     "name": "stdout",
     "output_type": "stream",
     "text": [
      "\n"
     ]
    },
    {
     "data": {
      "text/latex": [
       "$$\\mathrm{Ermittlung\\; der\\; Entscheidungsregel\\; für\\; den\\; Signifikanztest}$$"
      ],
      "text/plain": [
       "<IPython.core.display.Math object>"
      ]
     },
     "metadata": {},
     "output_type": "display_data"
    },
    {
     "data": {
      "text/latex": [
       "$$\\mathrm{Gegeben}$$"
      ],
      "text/plain": [
       "<IPython.core.display.Math object>"
      ]
     },
     "metadata": {},
     "output_type": "display_data"
    },
    {
     "data": {
      "text/latex": [
       "$$\\qquad \\mathrm{H_0}:\\;p=0.5$$"
      ],
      "text/plain": [
       "<IPython.core.display.Math object>"
      ]
     },
     "metadata": {},
     "output_type": "display_data"
    },
    {
     "data": {
      "text/latex": [
       "$$\\qquad\\alpha=0.01,\\;n=100,\\;\\mathrm{zweiseitiger\\;Test}$$"
      ],
      "text/plain": [
       "<IPython.core.display.Math object>"
      ]
     },
     "metadata": {},
     "output_type": "display_data"
    },
    {
     "data": {
      "text/latex": [
       "$$\\qquad\\mathrm{Prüfgröße\\;\\;} X=\\,\\mathrm{\"Anzahl\\;Treffer\"}$$"
      ],
      "text/plain": [
       "<IPython.core.display.Math object>"
      ]
     },
     "metadata": {},
     "output_type": "display_data"
    },
    {
     "data": {
      "text/latex": [
       "$$\\qquad\\mathrm{Verteilung\\;von}\\;X\\;\\;BinomialVerteilung(100,1/2)$$"
      ],
      "text/plain": [
       "<IPython.core.display.Math object>"
      ]
     },
     "metadata": {},
     "output_type": "display_data"
    },
    {
     "data": {
      "text/latex": [
       "$$\\mathrm{Kritische\\;Zahlen\\;\\;}35,\\;64$$"
      ],
      "text/plain": [
       "<IPython.core.display.Math object>"
      ]
     },
     "metadata": {},
     "output_type": "display_data"
    },
    {
     "data": {
      "text/latex": [
       "$$\\mathrm{Ablehnungsbereich\\;für\\;H_0\\;\\;\\;} X  \\le35\\mathrm{\\;\\;oder\\;\\;} X \\ge64$$"
      ],
      "text/plain": [
       "<IPython.core.display.Math object>"
      ]
     },
     "metadata": {},
     "output_type": "display_data"
    },
    {
     "data": {
      "text/latex": [
       "$$\\mathrm{Entscheidungsregel}$$"
      ],
      "text/plain": [
       "<IPython.core.display.Math object>"
      ]
     },
     "metadata": {},
     "output_type": "display_data"
    },
    {
     "data": {
      "text/latex": [
       "$$\\mathrm{Liegt\\;der\\;Wert\\;der\\;Prüfgröße\\;im\\;Ablehnungsbereich,\\;wird\\;H_0\\;mit\\;einer\\;Irrtums-}$$"
      ],
      "text/plain": [
       "<IPython.core.display.Math object>"
      ]
     },
     "metadata": {},
     "output_type": "display_data"
    },
    {
     "data": {
      "text/latex": [
       "$$\\mathrm{wahrscheinlichkeit\\;von\\;höchstens\\;}0.01\\mathrm{\\;abgelehnt,\\;sonst\\;wird\\;H_0\\;beibehalten}$$"
      ],
      "text/plain": [
       "<IPython.core.display.Math object>"
      ]
     },
     "metadata": {},
     "output_type": "display_data"
    },
    {
     "name": "stdout",
     "output_type": "stream",
     "text": [
      " \n"
     ]
    }
   ],
   "source": [
    "st.regel"
   ]
  },
  {
   "cell_type": "markdown",
   "metadata": {},
   "source": [
    "<div style='font-family:roman; font-size:120%'>\n",
    "Mit $k = 13$ ist der Annahmebereich\n",
    "</div>"
   ]
  },
  {
   "cell_type": "code",
   "execution_count": 25,
   "metadata": {
    "collapsed": false
   },
   "outputs": [
    {
     "data": {
      "text/latex": [
       "$$\\left\\{36, 37, 38, 39, 40, 41, 42, 43, 44, 45, 46, 47, 48, 49, 50, 51, 52, 53, 54, 55, 56, 57, 58, 59, 60, 61, 62, 63\\right\\}$$"
      ],
      "text/plain": [
       "set([36, 37, 38, 39, 40, 41, 42, 43, 44, 45, 46, 47, 48, 49, 50, 51, 52, 53, 5\n",
       "4, 55, 56, 57, 58, 59, 60, 61, 62, 63])"
      ]
     },
     "execution_count": 25,
     "metadata": {},
     "output_type": "execute_result"
    }
   ],
   "source": [
    "st.an_ber     # Ergebnis zu b)"
   ]
  },
  {
   "cell_type": "code",
   "execution_count": null,
   "metadata": {
    "collapsed": true
   },
   "outputs": [],
   "source": []
  }
 ],
 "metadata": {
  "anaconda-cloud": {},
  "kernelspec": {
   "display_name": "Python [default]",
   "language": "python",
   "name": "python3"
  },
  "language_info": {
   "codemirror_mode": {
    "name": "ipython",
    "version": 3
   },
   "file_extension": ".py",
   "mimetype": "text/x-python",
   "name": "python",
   "nbconvert_exporter": "python",
   "pygments_lexer": "ipython3",
   "version": "3.5.2"
  }
 },
 "nbformat": 4,
 "nbformat_minor": 0
}
