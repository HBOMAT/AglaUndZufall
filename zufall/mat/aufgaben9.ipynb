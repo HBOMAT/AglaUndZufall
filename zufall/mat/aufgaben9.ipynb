{
 "cells": [
  {
   "cell_type": "markdown",
   "metadata": {},
   "source": [
    "# Materialien zu <i>zufall</i>\n",
    "\n",
    "Autor: Holger Böttcher - hbomat@posteo.de\n",
    "\n",
    "## Aufgaben 9 - Verteilung der Augensumme beim <br>Würfeln "
   ]
  },
  {
   "cell_type": "markdown",
   "metadata": {},
   "source": [
    "<br>\n",
    "<i>Die Aufgaben wurden entnommen aus \n",
    "<br><br>\n",
    "Elemente der Mathematik<br>\n",
    "Leistungskurs Stochastik<br>\n",
    "Schroedel Verlag 2003<br>\n",
    "S. 213 Aufgaben 3, 5<br>\n",
    "<br>\n",
    "</i>"
   ]
  },
  {
   "cell_type": "code",
   "execution_count": 2,
   "metadata": {
    "collapsed": false
   },
   "outputs": [],
   "source": [
    "%run zufall/start"
   ]
  },
  {
   "cell_type": "markdown",
   "metadata": {
    "collapsed": true
   },
   "source": [
    "### Aufgabe 3\n",
    "<br>\n",
    "Benutze im Folgenden, dass die Zufallsgröße $X$ = \"Augensumme beim 5-fachen <br>\n",
    "Würfeln\" näherungsweise normalverteilt ist mit dem Erwartungswert $E(X) =$<br>\n",
    "$5 \\cdot 3.5 = 17.5$ und der Varianz $V(X) = 5 \\cdot \\frac{35}{12} = \\frac{175}{12}$\n",
    "<br><br>\n",
    "Bestimme so näherungsweise die Wahrscheinlichkeit, dass die Augensumme\n",
    "<br>\n",
    "<br>\n",
    "(1)  größer ist als 10 $\\qquad$ (2)  genau 18 beträgt $\\qquad$ (3)  höchstens 20 beträgt\n",
    "\n",
    "Hier werden sowohl die Näherungs- als auch die exakten Werte ermittelt\n",
    "<br><br>"
   ]
  },
  {
   "cell_type": "code",
   "execution_count": 3,
   "metadata": {
    "collapsed": false
   },
   "outputs": [
    {
     "name": "stdout",
     "output_type": "stream",
     "text": [
      "Erzeugung eines ZufallsGröße-Objektes 'AugenSumme'\n"
     ]
    },
    {
     "data": {
      "text/latex": [
       "$$\\left ( \\frac{35}{2}, \\quad \\frac{5 \\sqrt{21}}{6}\\right )$$"
      ],
      "text/plain": [
       "⎛      5⋅√21⎞\n",
       "⎜35/2, ─────⎟\n",
       "⎝        6  ⎠"
      ]
     },
     "execution_count": 3,
     "metadata": {},
     "output_type": "execute_result"
    }
   ],
   "source": [
    "W5 = Würfel(5)     # die Benennung mit X verbietet sich bei der \n",
    "W5.erw, W5.sigma   # Berechnung von Wahrscheinlichkeiten wie unten, \n",
    "                   # da dort X zwingend ist "
   ]
  },
  {
   "cell_type": "markdown",
   "metadata": {},
   "source": [
    "Die entsprechende Normalverteilung ist"
   ]
  },
  {
   "cell_type": "code",
   "execution_count": 4,
   "metadata": {
    "collapsed": false
   },
   "outputs": [
    {
     "data": {
      "text/latex": [
       "$$NormalVerteilung\\left(\\frac{35}{2},\\;\\frac{5 \\sqrt{21}}{6}\\right)$$"
      ],
      "text/plain": [
       "NormalVerteilung\\left(\\frac{35}{2},\\;\\frac{5 \\sqrt{21}}{6}\\right)"
      ]
     },
     "execution_count": 4,
     "metadata": {},
     "output_type": "execute_result"
    }
   ],
   "source": [
    "N5 = NV(W5.erw, W5.sigma); N5 "
   ]
  },
  {
   "cell_type": "markdown",
   "metadata": {},
   "source": [
    "Die Lösungen der Aufgaben sind"
   ]
  },
  {
   "cell_type": "code",
   "execution_count": 5,
   "metadata": {
    "collapsed": false
   },
   "outputs": [
    {
     "data": {
      "text/latex": [
       "$$\\left ( 0.9666009657624308, \\quad 0.9676\\right )$$"
      ],
      "text/plain": [
       "(0.9666009657624308, 0.9676)"
      ]
     },
     "execution_count": 5,
     "metadata": {},
     "output_type": "execute_result"
    }
   ],
   "source": [
    "N5.P( X > 10.5 ),    W5.P( X > 10, d=4 )    # Ergebnis zu a)"
   ]
  },
  {
   "cell_type": "code",
   "execution_count": 6,
   "metadata": {
    "collapsed": false
   },
   "outputs": [
    {
     "data": {
      "text/latex": [
       "$$\\left ( 0.1032858764401331, \\quad 0.1003\\right )$$"
      ],
      "text/plain": [
       "(0.1032858764401331, 0.1003)"
      ]
     },
     "execution_count": 6,
     "metadata": {},
     "output_type": "execute_result"
    }
   ],
   "source": [
    "N5.P('17.5 < X < 18.5'), W5.P(18, d=4)    # Ergebnis zu b)"
   ]
  },
  {
   "cell_type": "code",
   "execution_count": 7,
   "metadata": {
    "collapsed": false
   },
   "outputs": [
    {
     "data": {
      "text/latex": [
       "$$\\left ( 0.7839444980787258, \\quad 0.7785\\right )$$"
      ],
      "text/plain": [
       "(0.7839444980787258, 0.7785)"
      ]
     },
     "execution_count": 7,
     "metadata": {},
     "output_type": "execute_result"
    }
   ],
   "source": [
    "N5.P(X < 20.5), W5.P(X <= 20, d=4)    # Ergebnis zu c)"
   ]
  },
  {
   "cell_type": "markdown",
   "metadata": {
    "collapsed": false
   },
   "source": [
    "<br>\n",
    "### Aufgabe 5\n",
    "(Auswahl)\n",
    "\n",
    "Ein Würfel wird  $n$-mal geworfen. Betrachte die Zufallsgröße $X$ = \"Augensumme\"<br>\n",
    "Benutze den Zentralen Grenzwertsatz zur Berechnung der Wahrscheinlichkeiten <br>\n",
    "für folgende Ereignisse\n",
    "<br><br>\n",
    "a) $\\;n=5 \\quad P/X=15)\\qquad$ e) $\\;n=10\\quad P(X \\le 30)\\qquad$<br><br>\n",
    "h) $\\;n=20 \\quad P(70 \\le X \\le 80)$    "
   ]
  },
  {
   "cell_type": "markdown",
   "metadata": {
    "collapsed": true
   },
   "source": [
    "Die Aufgabe erfordert die näherungsweise Berechnung der Wahrscheinlichkeiten <br>\n",
    "anhand der Normalverteilung; darüberhinaus werden auch die exakten Werte berech-\n",
    "<br>net <br>\n",
    "<br>\n",
    "(die Routine zur Konstruktion von $n$ Würfeln zeigt auch bei $n = 100$ ein akzeptables<br>\n",
    "Zeitverhalten, während bei der Konstuktion eines ZufallsExeriment-Objektes diese <br>\n",
    "Schranke bei $n=6$ liegt (dabei kommt nur ein einfacher Zählalgorithmus zum Einsatz))\n",
    "\n",
    "Da die Augensumme beim $n$-maligen Würfeln die Summe von $n$ gleichartigen Zufalls-<br>\n",
    "größen (Augensumme beim Werfen eines Würfels) ist, ergeben sich Erwartungswert <br>\n",
    "und Varianz durch Multiplikation der entsprechenden Werte für einen Würfel mit $n$\n",
    "<br><br>"
   ]
  },
  {
   "cell_type": "code",
   "execution_count": 8,
   "metadata": {
    "collapsed": false
   },
   "outputs": [
    {
     "name": "stdout",
     "output_type": "stream",
     "text": [
      "Erzeugung eines ZufallsGröße-Objektes 'AugenSumme'\n"
     ]
    }
   ],
   "source": [
    "W1 = Wuerfel(1)  "
   ]
  },
  {
   "cell_type": "code",
   "execution_count": 9,
   "metadata": {
    "collapsed": false
   },
   "outputs": [
    {
     "data": {
      "text/latex": [
       "$$NormalVerteilung\\left(\\frac{35}{2},\\;\\frac{5 \\sqrt{21}}{6}\\right)$$"
      ],
      "text/plain": [
       "NormalVerteilung\\left(\\frac{35}{2},\\;\\frac{5 \\sqrt{21}}{6}\\right)"
      ]
     },
     "execution_count": 9,
     "metadata": {},
     "output_type": "execute_result"
    }
   ],
   "source": [
    "N5   # die oben erzeugte Normalverteilung"
   ]
  },
  {
   "cell_type": "code",
   "execution_count": 10,
   "metadata": {
    "collapsed": false
   },
   "outputs": [
    {
     "data": {
      "text/latex": [
       "$$\\left ( \\frac{7}{2}, \\quad \\frac{35}{2}, \\quad \\frac{35}{12}, \\quad \\frac{175}{12}\\right )$$"
      ],
      "text/plain": [
       "⎛           35  175⎞\n",
       "⎜7/2, 35/2, ──, ───⎟\n",
       "⎝           12   12⎠"
      ]
     },
     "execution_count": 10,
     "metadata": {},
     "output_type": "execute_result"
    }
   ],
   "source": [
    " W1.erw, N5.erw, W1.var, N5.var"
   ]
  },
  {
   "cell_type": "code",
   "execution_count": 10,
   "metadata": {
    "collapsed": false
   },
   "outputs": [
    {
     "data": {
      "text/latex": [
       "$$\\left ( 0.0841801281404185, \\quad 0.083719135802\\right )$$"
      ],
      "text/plain": [
       "(0.0841801281404185, 0.083719135802)"
      ]
     },
     "execution_count": 10,
     "metadata": {},
     "output_type": "execute_result"
    }
   ],
   "source": [
    "N5.P( '14.5 < X < 15.5' ),    W5.P(15, d=12)    # Ergebnis zu a)"
   ]
  },
  {
   "cell_type": "code",
   "execution_count": 17,
   "metadata": {
    "collapsed": false
   },
   "outputs": [
    {
     "name": "stdout",
     "output_type": "stream",
     "text": [
      "Erzeugung eines ZufallsGröße-Objektes 'AugenSumme'\n"
     ]
    },
    {
     "data": {
      "text/latex": [
       "$$\\left ( 0.20235523231360772, \\quad 0.204968228849\\right )$$"
      ],
      "text/plain": [
       "(0.20235523231360772, 0.204968228849)"
      ]
     },
     "execution_count": 17,
     "metadata": {},
     "output_type": "execute_result"
    }
   ],
   "source": [
    "N10 = NV( 10 * W1.erw, sqrt(10 * W1.var) ) \n",
    "W10 = Wuerfel(10)\n",
    "\n",
    "N10.P( X < 30.5 ), W10.P( X <= 30, d=12 )             # Ergebnis zu e)"
   ]
  },
  {
   "cell_type": "code",
   "execution_count": 11,
   "metadata": {
    "collapsed": false
   },
   "outputs": [
    {
     "name": "stdout",
     "output_type": "stream",
     "text": [
      "Erzeugung eines ZufallsGröße-Objektes 'AugenSumme'\n"
     ]
    },
    {
     "data": {
      "text/latex": [
       "$$\\left ( 0.441497299052689, \\quad 0.440817778561\\right )$$"
      ],
      "text/plain": [
       "(0.441497299052689, 0.440817778561)"
      ]
     },
     "execution_count": 11,
     "metadata": {},
     "output_type": "execute_result"
    }
   ],
   "source": [
    "N20 = NV( 20 * W1.erw, sqrt(20 * W1.var))\n",
    "W20 = Wuerfel(20)\n",
    "         \n",
    "N20.P( '69.5 < X < 80.5' ),   W20.P( '70 <= X <= 80', d=12 )       # Ergebnis zu h)"
   ]
  },
  {
   "cell_type": "markdown",
   "metadata": {},
   "source": [
    "Zur Illustration der <b>visuelle Vergleich</b> der Verteilungen<br><br>\n",
    "Die Normalverteilung wird durch Verschieben entlang der $x$-Achse eingepaßt, <br>\n",
    "wobei der jeweilge Verschiebewert hier durch Probieren ermittelt wurde\n",
    "<br>"
   ]
  },
  {
   "cell_type": "code",
   "execution_count": 15,
   "metadata": {
    "collapsed": false
   },
   "outputs": [
    {
     "name": "stdout",
     "output_type": "stream",
     "text": [
      " \n"
     ]
    },
    {
     "data": {
      "image/png": "[encoded data removed]",
      "text/plain": [
       "<matplotlib.figure.Figure at 0xd5de030>"
      ]
     },
     "metadata": {},
     "output_type": "display_data"
    }
   ],
   "source": [
    "W5.hist_(NV(W5.erw - 4, W5.sigma))"
   ]
  },
  {
   "cell_type": "code",
   "execution_count": 19,
   "metadata": {
    "collapsed": false
   },
   "outputs": [
    {
     "name": "stdout",
     "output_type": "stream",
     "text": [
      " \n"
     ]
    },
    {
     "data": {
      "image/png": "[encoded data removed]",
      "text/plain": [
       "<matplotlib.figure.Figure at 0xd6fecd0>"
      ]
     },
     "metadata": {},
     "output_type": "display_data"
    }
   ],
   "source": [
    "W10.hist_(NV(W10.erw - 9, W10.sigma))"
   ]
  },
  {
   "cell_type": "code",
   "execution_count": 20,
   "metadata": {
    "collapsed": false
   },
   "outputs": [
    {
     "name": "stdout",
     "output_type": "stream",
     "text": [
      " \n"
     ]
    },
    {
     "data": {
      "image/png": "[encoded data removed]",
      "text/plain": [
       "<matplotlib.figure.Figure at 0xe974b10>"
      ]
     },
     "metadata": {},
     "output_type": "display_data"
    }
   ],
   "source": [
    "W20.hist_(NV(W20.erw-19, W20.sigma))"
   ]
  },
  {
   "cell_type": "code",
   "execution_count": null,
   "metadata": {
    "collapsed": true
   },
   "outputs": [],
   "source": []
  }
 ],
 "metadata": {
  "anaconda-cloud": {},
  "kernelspec": {
   "display_name": "Python [default]",
   "language": "python",
   "name": "python3"
  },
  "language_info": {
   "codemirror_mode": {
    "name": "ipython",
    "version": 3
   },
   "file_extension": ".py",
   "mimetype": "text/x-python",
   "name": "python",
   "nbconvert_exporter": "python",
   "pygments_lexer": "ipython3",
   "version": "3.5.2"
  }
 },
 "nbformat": 4,
 "nbformat_minor": 0
}
