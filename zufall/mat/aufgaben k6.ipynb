{
 "cells": [
  {
   "cell_type": "markdown",
   "metadata": {},
   "source": [
    "# Materialien zu <i>zufall</i>\n",
    "\n",
    "Autor: Holger Böttcher - hbomat@posteo.de\n",
    "\n",
    "## Aufgaben K6 - Übungsklausur 6"
   ]
  },
  {
   "cell_type": "markdown",
   "metadata": {},
   "source": [
    "<br><i>Die Aufgaben wurden entnommen aus \n",
    "<br><br>\n",
    "A. Müller<br>\n",
    "Wahrscheinlichkeitsrechnung und Statistik<br>\n",
    "Grundkurs<br>\n",
    "Stark Verlag 1997<br>\n",
    "S. 80 Klausur 6<br>\n",
    "</i>\n",
    "1.  An einem Gymnasium zeigt sich bei der Wahl der beiden Leistungskursfächer<br>\n",
    "$\\quad$aus den drei Aufgabenfeldern I (SKL), II (GPR) und III (MNT), dass wegen der<br>\n",
    "$\\quad$diversen \"Bindungen\" die Kollegiaten ihren ersten Leistungskurs zu 40% aus dem<br>\n",
    "$\\quad$Gebiet I und zu 60% aus dem Gebiet III wählen. Der zweite Leistungskurs dagegen <br>\n",
    "$\\quad$wird gleichmäßig aus allen drei Feldern belegt. (Eine Kombination II-II ist wegen<br>\n",
    "$\\quad$der Kernfachbindung an diesem Gymnasium nicht erlaubt)<br><br>\n",
    "\n",
    "$\\quad$a)  Zeichnen Sie für das  Zufallsexperiment \"Wahl der beiden Leistungskursfächer\" <br>\n",
    "$\\quad$$\\quad$ein Baumdiagramm und bestimmen Sie damit die Wahrscheinlichkeiten $P(A)$ und <br>\n",
    "$\\quad$$\\quad$$ P(B)$ der Ereignisse $A$: \"Beide Leistungskurse stammen aus dem gleichen Auf- <br>\n",
    "$\\quad$$\\quad$gabenfeld und $B$: \"Mindestens ein Leistungskursfach ist aus dem Bereich III\".<br>\n",
    "$\\quad$$\\quad$[ Zum Vergleich: $P(A) = \\dfrac{1}{3}$] <br><br>\n",
    "$\\quad$b)  Untersuchen Sie die Ereignisse $A$ und $B$ auf Unvereinbarkeit und Unabhängigkeit.<br><br>     \n",
    "$\\quad$c)  Der Kollegstufenbetreuer ordnet die Wahlbogen alphabetisch. Mit welcher Wahr-<br>\n",
    "$\\quad$$\\quad$scheinlichkeit befinden sich unter den ersten zehn Bogen<br><br>\n",
    "$\\quad$$\\quad$$\\quad$(1)  genau fünf,<br>\n",
    "$\\quad$$\\quad$$\\quad$(2)  mindestens drei,<br>\n",
    "$\\quad$$\\quad$$\\quad$(3)  höchstens vier,<br><br> \n",
    "$\\quad$$\\quad$$\\quad$bei denen beide Leistungskurse aus einem Aufgabenfeld stammen?<br><br>          \n",
    "$\\quad$d)  Wie viele Wahlbogen muss der Kollegstufenbetreuer mindestens überprüfen, bis <br>\n",
    "$\\quad\\quad$er mit einer Wahrscheinlichkeit von 99% einmal auf das Ereignis $A$ stößt?\n",
    "<br><br>            \n",
    "2.  Zur Wahl des weiteren Kursprogrammes und der Abiturprüfungsfächer muss der Kol-<br>\n",
    "$\\quad$legiat noch 20 weitere (zur Vereinfachung unabhängige) Entscheidungen treffen. Nach <br>\n",
    "$\\quad$den Erfahrungen des Kollegstufenbetreuers sind diese Entscheidungen jeweils mit der<br>\n",
    "$\\quad$Wahrscheinlichkeit $p$ richtig.<br><br> \n",
    "$\\quad$a)  Wie groß muss diese Wahrscheinlichkeit $p$ mindestens sein, damit das Ereignis, dass<br>\n",
    "$\\quad$$\\quad$er keine Fehlentscheidung trifft, eine Wahrscheinlichkeit besitzt, die nicht unter 10%<br>\n",
    "$\\quad$$\\quad$sinkt?<br><br>\n",
    "$\\quad$b)  Wie viele Fehlentscheidungen erwartet man vom \"Durchschnittskollegiaten\"?\n",
    "<br><br>          \n",
    "3.  Die Fehlzeiten im Grundkursunterricht sind sehr groß. Erfahrungen zeigen, dass ein<br>\n",
    "$\\quad$Kollegiat an einem beliebigen Grundkurs nur mit einer Wahrscheinlichkeit von 80% teil-<br>\n",
    "$\\quad$nimmt.<br><br>\n",
    "$\\quad$a)  Wie groß ist die Wahrscheinlichkeit, dass ein Grundkursleiter an einem Grundkurs-<br>\n",
    "$\\quad$$\\quad$tag weniger als 15 seiner 20 Kollegiaten antrifft?\n",
    "<br><br>\n",
    "$\\quad$b)  Der Kollegstufenbetreuer glaubt, dass die Absentenwahrscheinlichkeit  $p_1 = 20$% <br>\n",
    "$\\quad$$\\quad$nicht stimmt. Er will diesen Wert nur dann als richtig annehmen, wenn er bei einer <br>\n",
    "$\\quad$$\\quad$Überprüfung der nächsten 200 Absentenmöglichkeiten höchstens 44 Absenzen fest-<br>\n",
    "$\\quad$$\\quad$stellt.\n",
    "<br>     \n",
    "$\\quad$$\\quad$$\\quad$(1)  Mit welcher Wahrscheinlichkeit trifft er beim Zutreffen von $p_1 = 0.2$ eine<br>\n",
    "$\\quad$$\\quad$$\\quad$$\\quad$ Fehlentscheidung?<br><br>\n",
    "$\\quad$$\\quad$$\\quad$(2)  Die Absentenwahrscheinlichkeit ist auf $ p_2 = 25$% angestiegen. Mit welcher<br>\n",
    "$\\quad$$\\quad$$\\quad$$\\quad$Wahrscheinlichkeit bemerkt dies der Kollegstufenbetreuer aufgrund der<br>\n",
    "$\\quad$$\\quad$$\\quad$$\\quad$obigen Entscheidungsregel nicht?\n",
    "<br><br>"
   ]
  },
  {
   "cell_type": "code",
   "execution_count": 1,
   "metadata": {
    "collapsed": false
   },
   "outputs": [],
   "source": [
    "%run zufall/start"
   ]
  },
  {
   "cell_type": "markdown",
   "metadata": {
    "collapsed": true
   },
   "source": [
    "### Zu 1.\n",
    "Für die Aufgabenfelder I - III werden die arabischen Ziffern 1 - 3 benutzt. Das Zufalls-<br>\n",
    "experiment kann als 2-stufiges Experiment mit je einer Liste für die beiden Leistungs-<br>\n",
    "kurse modelliert werden"
   ]
  },
  {
   "cell_type": "code",
   "execution_count": 2,
   "metadata": {
    "collapsed": false
   },
   "outputs": [],
   "source": [
    "p3 = Rational(1, 3)\n",
    "\n",
    "ze = ZE( {1:40, 3:60}, {1:p3, 2:p3, 3:p3})"
   ]
  },
  {
   "cell_type": "markdown",
   "metadata": {},
   "source": [
    "### a)"
   ]
  },
  {
   "cell_type": "code",
   "execution_count": 3,
   "metadata": {
    "collapsed": false
   },
   "outputs": [
    {
     "data": {
      "image/png": "[encoded data removed]",
      "text/plain": [
       "<matplotlib.figure.Figure at 0x82e1610>"
      ]
     },
     "metadata": {},
     "output_type": "display_data"
    }
   ],
   "source": [
    "ze.baum"
   ]
  },
  {
   "cell_type": "code",
   "execution_count": 4,
   "metadata": {
    "collapsed": false
   },
   "outputs": [
    {
     "data": {
      "text/latex": [
       "$$\\left ( \\left\\{11, 33\\right\\}, \\quad \\left\\{13, 31, 32, 33\\right\\}\\right )$$"
      ],
      "text/plain": [
       "(set([11, 33]), set([13, 31, 32, 33]))"
      ]
     },
     "execution_count": 4,
     "metadata": {},
     "output_type": "execute_result"
    }
   ],
   "source": [
    "A = { *symbols('11, 33') };    B = { *symbols('13 31 32 33') }\n",
    "\n",
    "A, B"
   ]
  },
  {
   "cell_type": "code",
   "execution_count": 5,
   "metadata": {
    "collapsed": false
   },
   "outputs": [
    {
     "data": {
      "text/latex": [
       "$$\\left ( \\frac{1}{3}, \\quad \\frac{11}{15}\\right )$$"
      ],
      "text/plain": [
       "⎛     11⎞\n",
       "⎜1/3, ──⎟\n",
       "⎝     15⎠"
      ]
     },
     "execution_count": 5,
     "metadata": {},
     "output_type": "execute_result"
    }
   ],
   "source": [
    "ze.P(A),  ze.P(B)"
   ]
  },
  {
   "cell_type": "markdown",
   "metadata": {},
   "source": [
    "### b)"
   ]
  },
  {
   "cell_type": "code",
   "execution_count": 6,
   "metadata": {
    "collapsed": false
   },
   "outputs": [
    {
     "data": {
      "text/latex": [
       "$$\\left\\{33\\right\\}$$"
      ],
      "text/plain": [
       "set([33])"
      ]
     },
     "execution_count": 6,
     "metadata": {},
     "output_type": "execute_result"
    }
   ],
   "source": [
    "ea = EA(ze.omega)\n",
    "\n",
    "ea.berechnen(A, B, 'A und B')    # Die Ereignisse sind nicht unvereinbar\n"
   ]
  },
  {
   "cell_type": "markdown",
   "metadata": {},
   "source": [
    "### c)"
   ]
  },
  {
   "cell_type": "code",
   "execution_count": 7,
   "metadata": {
    "collapsed": true
   },
   "outputs": [],
   "source": [
    "vv = BV(10, 1/3)"
   ]
  },
  {
   "cell_type": "code",
   "execution_count": 8,
   "metadata": {
    "collapsed": false
   },
   "outputs": [
    {
     "data": {
      "text/latex": [
       "$$\\left ( 0.1366, \\quad 0.7009, \\quad 0.7869\\right )$$"
      ],
      "text/plain": [
       "(0.1366, 0.7009, 0.7869)"
      ]
     },
     "execution_count": 8,
     "metadata": {},
     "output_type": "execute_result"
    }
   ],
   "source": [
    "vv.P( 5, d=4 ),   vv.P( X >= 3, d=4 ), vv.P( X <= 4, d=4 )"
   ]
  },
  {
   "cell_type": "markdown",
   "metadata": {},
   "source": [
    "### d)\n",
    "Wegen $P$( mindestens ein ... ) = $1 - P$( kein ... ) muss gelten"
   ]
  },
  {
   "cell_type": "code",
   "execution_count": 9,
   "metadata": {
    "collapsed": false
   },
   "outputs": [
    {
     "data": {
      "text/latex": [
       "$$- \\left(\\frac{2}{3}\\right)^{n} + 1 > 0.99$$"
      ],
      "text/plain": [
       "     n           \n",
       "- 2/3  + 1 > 0.99"
      ]
     },
     "execution_count": 9,
     "metadata": {},
     "output_type": "execute_result"
    }
   ],
   "source": [
    "u = 1 - (1-p3)^n > 0.99; u"
   ]
  },
  {
   "cell_type": "code",
   "execution_count": 10,
   "metadata": {
    "collapsed": false
   },
   "outputs": [
    {
     "data": {
      "text/latex": [
       "$$\\left(11.3577471745351, \\infty\\right)$$"
      ],
      "text/plain": [
       "(11.3577471745351, ∞)"
      ]
     },
     "execution_count": 10,
     "metadata": {},
     "output_type": "execute_result"
    }
   ],
   "source": [
    "löse(u, set=ja)"
   ]
  },
  {
   "cell_type": "markdown",
   "metadata": {
    "collapsed": true
   },
   "source": [
    "### Zu 2.\n",
    "### a)\n",
    "Es muss gelten"
   ]
  },
  {
   "cell_type": "code",
   "execution_count": 11,
   "metadata": {
    "collapsed": false
   },
   "outputs": [
    {
     "data": {
      "text/latex": [
       "$$p^{20} \\geq 0.1$$"
      ],
      "text/plain": [
       " 20      \n",
       "p   ≥ 0.1"
      ]
     },
     "execution_count": 11,
     "metadata": {},
     "output_type": "execute_result"
    }
   ],
   "source": [
    "u = p^20 >= 0.1; u"
   ]
  },
  {
   "cell_type": "code",
   "execution_count": 12,
   "metadata": {
    "collapsed": false
   },
   "outputs": [
    {
     "data": {
      "text/latex": [
       "$$\\left(0.891250938133745 \\leq p \\wedge p < \\infty\\right) \\vee \\left(p \\leq -0.891250938133745 \\wedge - \\infty < p\\right)$$"
      ],
      "text/plain": [
       "(0.891250938133745 ≤ p ∧ p < +inf) ∨ (p ≤ -0.891250938133745 ∧ -inf < p)"
      ]
     },
     "execution_count": 12,
     "metadata": {},
     "output_type": "execute_result"
    }
   ],
   "source": [
    "löse(u)"
   ]
  },
  {
   "cell_type": "code",
   "execution_count": 13,
   "metadata": {
    "collapsed": false
   },
   "outputs": [
    {
     "data": {
      "text/latex": [
       "$$\\left(-\\infty, -0.891250938133746\\right] \\cup \\left[0.891250938133746, \\infty\\right)$$"
      ],
      "text/plain": [
       "(-∞, -0.891250938133746] ∪ [0.891250938133746, ∞)"
      ]
     },
     "execution_count": 13,
     "metadata": {},
     "output_type": "execute_result"
    }
   ],
   "source": [
    "# oder\n",
    "\n",
    "löse(u, set=ja)"
   ]
  },
  {
   "cell_type": "markdown",
   "metadata": {},
   "source": [
    "Folglich ist $p=0.89$"
   ]
  },
  {
   "cell_type": "markdown",
   "metadata": {},
   "source": [
    "### b)\n",
    "Die Zahl der Fehlentscheidungen des Duchschnittskollegiaten ist $\\;20\\cdot (1-0.89) = 2.2$ "
   ]
  },
  {
   "cell_type": "markdown",
   "metadata": {},
   "source": [
    "### Zu 3.\n",
    "### a)"
   ]
  },
  {
   "cell_type": "code",
   "execution_count": 14,
   "metadata": {
    "collapsed": true
   },
   "outputs": [],
   "source": [
    "vv = BV(20, 0.8)"
   ]
  },
  {
   "cell_type": "code",
   "execution_count": 15,
   "metadata": {
    "collapsed": false
   },
   "outputs": [
    {
     "data": {
      "text/latex": [
       "$$0.1958$$"
      ],
      "text/plain": [
       "0.1958"
      ]
     },
     "execution_count": 15,
     "metadata": {},
     "output_type": "execute_result"
    }
   ],
   "source": [
    "vv.P( X < 15, d=4 )"
   ]
  },
  {
   "cell_type": "markdown",
   "metadata": {},
   "source": [
    "### b)\n",
    "(1)  ist die Frage nach der Irrtumswahrscheinlichkeit 1. Art - die Hypothese $H_0: p = 0.2$<br>\n",
    "wird irrtümlicherweise abgelehnt. Das ist der Fall, wenn das Ergebnis im Ablehnungsbe-<br>\n",
    "reich der Hypothese liegt"
   ]
  },
  {
   "cell_type": "code",
   "execution_count": 16,
   "metadata": {
    "collapsed": false
   },
   "outputs": [
    {
     "data": {
      "text/latex": [
       "$$0.2113$$"
      ],
      "text/plain": [
       "0.2113"
      ]
     },
     "execution_count": 16,
     "metadata": {},
     "output_type": "execute_result"
    }
   ],
   "source": [
    "vv = BV(200, 0.2);   vv.P( X >= 45, d=4 )"
   ]
  },
  {
   "cell_type": "markdown",
   "metadata": {},
   "source": [
    "(2)  fragt nach dem Fehler 2. Art - die Hypothese $H_0$ wird nicht abgelehnt, trotzdem sie\n",
    "<br>falsch ist. Dazu muss das Ergebnis in den Annahmebereich fallen"
   ]
  },
  {
   "cell_type": "code",
   "execution_count": 17,
   "metadata": {
    "collapsed": false
   },
   "outputs": [
    {
     "data": {
      "text/latex": [
       "$$0.1852$$"
      ],
      "text/plain": [
       "0.1852"
      ]
     },
     "execution_count": 17,
     "metadata": {},
     "output_type": "execute_result"
    }
   ],
   "source": [
    "v1 = BV(200, 0.25); v1.P( X < 45, d=4 )"
   ]
  },
  {
   "cell_type": "code",
   "execution_count": null,
   "metadata": {
    "collapsed": true
   },
   "outputs": [],
   "source": []
  }
 ],
 "metadata": {
  "anaconda-cloud": {},
  "kernelspec": {
   "display_name": "Python [default]",
   "language": "python",
   "name": "python3"
  },
  "language_info": {
   "codemirror_mode": {
    "name": "ipython",
    "version": 3
   },
   "file_extension": ".py",
   "mimetype": "text/x-python",
   "name": "python",
   "nbconvert_exporter": "python",
   "pygments_lexer": "ipython3",
   "version": "3.5.2"
  }
 },
 "nbformat": 4,
 "nbformat_minor": 0
}
