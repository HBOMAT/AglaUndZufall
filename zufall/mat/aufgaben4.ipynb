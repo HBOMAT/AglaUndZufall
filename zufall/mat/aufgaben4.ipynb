{
 "cells": [
  {
   "cell_type": "markdown",
   "metadata": {},
   "source": [
    "# Materialien zu <i>zufall</i>\n",
    "\n",
    "Autor: Holger Böttcher - hbomat@posteo.de\n",
    "\n",
    "## Aufgaben 4 - Mehrere Listen"
   ]
  },
  {
   "cell_type": "markdown",
   "metadata": {},
   "source": [
    "<br>\n",
    "<i>Siehe dazu\n",
    "\n",
    "Elemente der Mathematik<br>\n",
    "Leistungskurs Stochastik<br>\n",
    "Schroedel 2003<br>\n",
    "S. 87 Aufgabe 9a<br>\n",
    "</i>\n",
    "<br>"
   ]
  },
  {
   "cell_type": "code",
   "execution_count": 1,
   "metadata": {
    "collapsed": false
   },
   "outputs": [],
   "source": [
    "%run zufall/start"
   ]
  },
  {
   "cell_type": "markdown",
   "metadata": {},
   "source": [
    "### 1. Augensumme beim gemeinsamen Werfen von Tetraeder<br> und Oktaeder</h3>\n",
    "Es wird die Zufallsgröße $X$ = \"Augensumme beim gemeinsamen Werfen eines regu-<br>\n",
    "lären Tetraeders und Oktaeders\" betrachtet. Gesucht ist ihre Verteilung\n",
    "<br>"
   ]
  },
  {
   "cell_type": "markdown",
   "metadata": {},
   "source": [
    "Das Zufallsexperiment kann mit den beiden Listen"
   ]
  },
  {
   "cell_type": "code",
   "execution_count": 2,
   "metadata": {
    "collapsed": false
   },
   "outputs": [
    {
     "data": {
      "text/latex": [
       "$$\\left ( \\left [ 1, \\quad 2, \\quad 3, \\quad 4\\right ], \\quad \\left [ 1, \\quad 2, \\quad 3, \\quad 4, \\quad 5, \\quad 6, \\quad 7, \\quad 8\\right ]\\right )$$"
      ],
      "text/plain": [
       "([1, 2, 3, 4], [1, 2, 3, 4, 5, 6, 7, 8])"
      ]
     },
     "execution_count": 2,
     "metadata": {},
     "output_type": "execute_result"
    }
   ],
   "source": [
    "L4 = [1, 2, 3, 4]; L8 = list(range(1, 9)); L4, L8"
   ]
  },
  {
   "cell_type": "markdown",
   "metadata": {},
   "source": [
    "beschrieben werden; $X\\,$ wird mittels einer ZG-Funktion definiert"
   ]
  },
  {
   "cell_type": "code",
   "execution_count": 3,
   "metadata": {
    "collapsed": false
   },
   "outputs": [
    {
     "name": "stdout",
     "output_type": "stream",
     "text": [
      "Erzeugung eines ZufallsGroesse-Objektes\n"
     ]
    }
   ],
   "source": [
    "X = ZE(L4, L8, f=summe)"
   ]
  },
  {
   "cell_type": "code",
   "execution_count": 4,
   "metadata": {
    "collapsed": false
   },
   "outputs": [
    {
     "data": {
      "text/latex": [
       "$$\\left \\{ 2 : \\frac{1}{32}, \\quad 3 : \\frac{1}{16}, \\quad 4 : \\frac{3}{32}, \\quad 5 : \\frac{1}{8}, \\quad 6 : \\frac{1}{8}, \\quad 7 : \\frac{1}{8}, \\quad 8 : \\frac{1}{8}, \\quad 9 : \\frac{1}{8}, \\quad 10 : \\frac{3}{32}, \\quad 11 : \\frac{1}{16}, \\quad 12 : \\frac{1}{32}\\right \\}$$"
      ],
      "text/plain": [
       "{2: 1/32, 3: 1/16, 4: 3/32, 5: 1/8, 6: 1/8, 7: 1/8, 8: 1/8, 9: 1/8, 10: 3/32, \n",
       "11: 1/16, 12: 1/32}"
      ]
     },
     "execution_count": 4,
     "metadata": {},
     "output_type": "execute_result"
    }
   ],
   "source": [
    "X.vert"
   ]
  },
  {
   "cell_type": "code",
   "execution_count": 5,
   "metadata": {
    "collapsed": false
   },
   "outputs": [
    {
     "name": "stdout",
     "output_type": "stream",
     "text": [
      " \n"
     ]
    },
    {
     "data": {
      "image/png": "[encoded data removed]",
      "text/plain": [
       "<matplotlib.figure.Figure at 0x96a1ff0>"
      ]
     },
     "metadata": {},
     "output_type": "display_data"
    }
   ],
   "source": [
    "X.hist"
   ]
  },
  {
   "cell_type": "markdown",
   "metadata": {},
   "source": [
    "### 2. Mehrkampfleistung eines Sportlers\n",
    "Die Aufgabe wurde entnommen aus\n",
    "<br><i>\n",
    "SIGMA Grundkurs Stochastik<br>\n",
    "Ernst Klett Verlag 1982<br>\n",
    "S. 76  Aufgabe 9<br></i>\n",
    "<br>\n",
    "Aus jeder der abgebildeten Urnen wird eine Kugel entnommen. Man interessiert<br> \n",
    "sich für die Summe der darauf stehenden Zahlen\n",
    "<br>\n",
    "<br>\n",
    "(Über die Leistungen des Sportlers in den Einzeldisziplinen liegt statistisches<br>\n",
    "Material vor. Eine Kugel mit der Nummer $i$ bedeutet, dass der Sportler für die <br>\n",
    "entsprechende Leistung $90+i$ Punkte erhält )\n",
    "<br>\n",
    "<img src='bilder/mehrkampf.png', align='left'><br>"
   ]
  },
  {
   "cell_type": "markdown",
   "metadata": {},
   "source": [
    "Die Routine zur Herstellung der Grafik befindet sich am Ende des Notebooks)<br>\n",
    "<br>\n",
    "Ein Versuch erbringt 4 Kugeln, $X_i\\,$ sei die Zufallsgröße, die der $i$. Kugel  ihre <br>\n",
    "Punktzahl zuordnet ($i = 1,2,3,4$). Die Verteilungen dieser Zufallsgrößen sind <br>\n",
    "bekannt. Gesucht ist die Verteilung von $S = X_1+X_2+X_3+X_4$\n",
    "<br>\n",
    "<br>\n",
    "Folgende dict's beschreiben die Urnen"
   ]
  },
  {
   "cell_type": "code",
   "execution_count": 6,
   "metadata": {
    "collapsed": true
   },
   "outputs": [],
   "source": [
    "L1 = {1:1, 2:1, 3:2, 4:5, 5:1}\n",
    "L2 = {1:4, 2:3, 3:2, 4:1}     \n",
    "L3 ={1:2, 2:3, 3:1, 4:1, 5:3}      \n",
    "L4 = {1:3, 2:1, 3:2, 4:1, 5:3}  "
   ]
  },
  {
   "cell_type": "markdown",
   "metadata": {},
   "source": [
    "Die ZufallsGroesse wird aus dem 4-stufigen ZufallsExperiment erzeugt,das<br>\n",
    "auf diesen Listen basiert. Zur Addition der Einzelpunkte wird die Funktion<br>\n",
    "<i>summe</i> benutzt"
   ]
  },
  {
   "cell_type": "code",
   "execution_count": 7,
   "metadata": {
    "collapsed": false
   },
   "outputs": [
    {
     "name": "stdout",
     "output_type": "stream",
     "text": [
      "Erzeugung eines ZufallsGroesse-Objektes\n"
     ]
    }
   ],
   "source": [
    "S = ZE( L1, L2, L3, L4, f=summe)"
   ]
  },
  {
   "cell_type": "markdown",
   "metadata": {},
   "source": [
    "$S$ hat die Verteilung und das Histogramm"
   ]
  },
  {
   "cell_type": "code",
   "execution_count": 8,
   "metadata": {
    "collapsed": false
   },
   "outputs": [
    {
     "data": {
      "text/latex": [
       "$$\\left \\{ 4 : \\frac{3}{1250}, \\quad 5 : \\frac{43}{5000}, \\quad 6 : \\frac{39}{2000}, \\quad 7 : \\frac{87}{2000}, \\quad 8 : \\frac{761}{10000}, \\quad 9 : \\frac{1007}{10000}, \\quad 10 : \\frac{1213}{10000}, \\quad 11 : \\frac{1419}{10000}, \\quad 12 : \\frac{88}{625}, \\quad 13 : \\frac{3}{25}, \\quad 14 : \\frac{183}{2000}, \\quad 15 : \\frac{681}{10000}, \\quad 16 : \\frac{391}{10000}, \\quad 17 : \\frac{187}{10000}, \\quad 18 : \\frac{69}{10000}, \\quad 19 : \\frac{9}{10000}\\right \\}$$"
      ],
      "text/plain": [
       "⎧               43       39       87       761       1007       1213       141\n",
       "⎨4: 3/1250, 5: ────, 6: ────, 7: ────, 8: ─────, 9: ─────, 10: ─────, 11: ────\n",
       "⎩              5000     2000     2000     10000     10000      10000      1000\n",
       "\n",
       "9       88                183        681        391        187         69     \n",
       "─, 12: ───, 13: 3/25, 14: ────, 15: ─────, 16: ─────, 17: ─────, 18: ─────, 19\n",
       "0      625                2000      10000      10000      10000      10000    \n",
       "\n",
       "         ⎫\n",
       ": 9/10000⎬\n",
       "         ⎭"
      ]
     },
     "execution_count": 8,
     "metadata": {},
     "output_type": "execute_result"
    }
   ],
   "source": [
    "S.vert"
   ]
  },
  {
   "cell_type": "markdown",
   "metadata": {},
   "source": [
    "Interessant ist auch der Vergleich mit der Normalverteilung, die mit dem (zwecks<br>\n",
    "besserer Einpassung mittels Versuch/Irrtum korrigierten) Erwartungswert und der <br>Varianz von $S$ definiert wird (die betrachtete Zufallsgröße ist die Summe von vier<br>Zufallsgrößen)"
   ]
  },
  {
   "cell_type": "code",
   "execution_count": 11,
   "metadata": {
    "collapsed": false
   },
   "outputs": [
    {
     "name": "stdout",
     "output_type": "stream",
     "text": [
      " \n"
     ]
    },
    {
     "data": {
      "image/png": "[encoded data removed]",
      "text/plain": [
       "<matplotlib.figure.Figure at 0xd6e62d0>"
      ]
     },
     "metadata": {},
     "output_type": "display_data"
    }
   ],
   "source": [
    "S.hist"
   ]
  },
  {
   "cell_type": "code",
   "execution_count": 10,
   "metadata": {
    "collapsed": false
   },
   "outputs": [
    {
     "name": "stdout",
     "output_type": "stream",
     "text": [
      " \n"
     ]
    },
    {
     "data": {
      "image/png": "[encoded data removed]",
      "text/plain": [
       "<matplotlib.figure.Figure at 0xd63b0b0>"
      ]
     },
     "metadata": {},
     "output_type": "display_data"
    }
   ],
   "source": [
    "S.hist_(NV(S.erw-3, S.sigma))   # -3 - Verschiebung"
   ]
  },
  {
   "cell_type": "markdown",
   "metadata": {},
   "source": [
    "<br>\n",
    "<h3>2. Zwei Glücksräder</h3>\n",
    "<br>\n",
    "<i>Die Aufgabe wurde entnommen aus \n",
    "<br>\n",
    "<br>Fischers Abiturwissen<br>\n",
    "Mathematik<br>\n",
    "Fischer Taschenbuch Verlag 2004<br>\n",
    "S.327</i>\n",
    "<br>\n",
    "<br> \n",
    "Wir betrachten zwei Glücksräder<br>\n",
    "<img src='bilder/gluecksraeder.png', align='left'>"
   ]
  },
  {
   "cell_type": "markdown",
   "metadata": {
    "collapsed": true
   },
   "source": [
    "Jemand bietet Ihnen zwei Spiele zur Auswahl an: Entweder dürfen Sie gegen ei-<br>\n",
    "nen Einsatz von 3.50 € beide Glücksräder drehen und die Summe der Augenzahlen<br> \n",
    "in € als Gewinn behalten, oder Sie dürfen gegen einen Einsatz von 3.50 € beide<br>\n",
    "Glücksräder drehen und das Produkt der Augenzahlen in € als Gewinn behalten. <br><br>\n",
    "Welches Spiel würden Sie wählen? \n",
    "<br>\n",
    "<br>\n",
    "Die beiden Glücksräder werden durch die Listen"
   ]
  },
  {
   "cell_type": "code",
   "execution_count": 12,
   "metadata": {
    "collapsed": false
   },
   "outputs": [],
   "source": [
    "L1 = {0:90, 1:90, 2:60, 3:60, 4:60}\n",
    "L2 = {1:180, 2:60, 3:120}"
   ]
  },
  {
   "cell_type": "markdown",
   "metadata": {},
   "source": [
    "beschrieben (die rechten Zahlen sind die Öffnungswinkel der einzelnen Sekto-<br>\n",
    "ren). Das zugrunde liegende ZufallsExperiment ist"
   ]
  },
  {
   "cell_type": "code",
   "execution_count": 13,
   "metadata": {
    "collapsed": false
   },
   "outputs": [
    {
     "data": {
      "text/latex": [
       "$$GluecksRad(Stufen=2, mit Wiederholung , mit Anordnung)$$"
      ],
      "text/plain": [
       "GluecksRad(Stufen=2, mit Wiederholung , mit Anordnung)"
      ]
     },
     "execution_count": 13,
     "metadata": {},
     "output_type": "execute_result"
    }
   ],
   "source": [
    "GlücksRad(L1, L2)"
   ]
  },
  {
   "cell_type": "markdown",
   "metadata": {},
   "source": [
    "Die interessierende ZufallsGroesse $Summe$ = \"Summe der Augenzahlen\" kann<br>\n",
    "auf der Grundlage dieses ZufallsExperimentes mit Hilfe der ZG-Funktion <i>summe</i><br>\n",
    "berechnet werden"
   ]
  },
  {
   "cell_type": "code",
   "execution_count": 14,
   "metadata": {
    "collapsed": false
   },
   "outputs": [
    {
     "name": "stdout",
     "output_type": "stream",
     "text": [
      "Erzeugung eines ZufallsGroesse-Objektes\n"
     ]
    }
   ],
   "source": [
    "Summe = GlücksRad(L1, L2, f=summe)"
   ]
  },
  {
   "cell_type": "markdown",
   "metadata": {},
   "source": [
    "Für die ZufallsGroesse $Produkt$ = \"Produkt der Augenzahlen\" wird eine eigene<br>\n",
    "ZG-Funktion  benutzt\n",
    "<br>\n",
    "<br>\n",
    "Dazu dient hier eine sogenannte anonyme (unbenannte) <i>lambda</i>-Funktion; <br>\n",
    "ihr  Argument ist ein Element der Ergebnismenge in Listenform, berechnet wird<br>\n",
    "das Produkt der beiden Listenelemente"
   ]
  },
  {
   "cell_type": "code",
   "execution_count": 15,
   "metadata": {
    "collapsed": false
   },
   "outputs": [
    {
     "name": "stdout",
     "output_type": "stream",
     "text": [
      "Erzeugung eines ZufallsGroesse-Objektes\n"
     ]
    }
   ],
   "source": [
    "Produkt = GlücksRad(L1, L2, f=lambda x: x[0]*x[1])"
   ]
  },
  {
   "cell_type": "markdown",
   "metadata": {},
   "source": [
    "Die Histogramme der Wahrscheinlichkeitsverteilungen für die beiden Zufallsgrö-<br>\n",
    "ßen sind "
   ]
  },
  {
   "cell_type": "code",
   "execution_count": 17,
   "metadata": {
    "collapsed": false
   },
   "outputs": [
    {
     "name": "stdout",
     "output_type": "stream",
     "text": [
      " \n"
     ]
    },
    {
     "data": {
      "image/png": "[encoded data removed]",
      "text/plain": [
       "<matplotlib.figure.Figure at 0xd38d930>"
      ]
     },
     "metadata": {},
     "output_type": "display_data"
    },
    {
     "name": "stdout",
     "output_type": "stream",
     "text": [
      " \n"
     ]
    },
    {
     "data": {
      "image/png": "[encoded data removed]",
      "text/plain": [
       "<matplotlib.figure.Figure at 0xd6e6370>"
      ]
     },
     "metadata": {},
     "output_type": "display_data"
    }
   ],
   "source": [
    "Summe.hist; Produkt.hist"
   ]
  },
  {
   "cell_type": "markdown",
   "metadata": {},
   "source": [
    "Die Wahrscheinlichkeitsverteilungen selbst sind"
   ]
  },
  {
   "cell_type": "code",
   "execution_count": 18,
   "metadata": {
    "collapsed": false
   },
   "outputs": [
    {
     "data": {
      "text/latex": [
       "$$\\left \\{ 1 : \\frac{1}{8}, \\quad 2 : \\frac{1}{6}, \\quad 3 : \\frac{5}{24}, \\quad 4 : \\frac{7}{36}, \\quad 5 : \\frac{1}{6}, \\quad 6 : \\frac{1}{12}, \\quad 7 : \\frac{1}{18}\\right \\}$$"
      ],
      "text/plain": [
       "{1: 1/8, 2: 1/6, 3: 5/24, 4: 7/36, 5: 1/6, 6: 1/12, 7: 1/18}"
      ]
     },
     "execution_count": 18,
     "metadata": {},
     "output_type": "execute_result"
    }
   ],
   "source": [
    "Summe.vert"
   ]
  },
  {
   "cell_type": "code",
   "execution_count": 19,
   "metadata": {
    "collapsed": false
   },
   "outputs": [
    {
     "data": {
      "text/latex": [
       "$$\\left \\{ 0 : \\frac{1}{4}, \\quad 1 : \\frac{1}{8}, \\quad 2 : \\frac{1}{8}, \\quad 3 : \\frac{1}{6}, \\quad 4 : \\frac{1}{9}, \\quad 6 : \\frac{1}{12}, \\quad 8 : \\frac{1}{36}, \\quad 9 : \\frac{1}{18}, \\quad 12 : \\frac{1}{18}\\right \\}$$"
      ],
      "text/plain": [
       "{0: 1/4, 1: 1/8, 2: 1/8, 3: 1/6, 4: 1/9, 6: 1/12, 8: 1/36, 9: 1/18, 12: 1/18}"
      ]
     },
     "execution_count": 19,
     "metadata": {},
     "output_type": "execute_result"
    }
   ],
   "source": [
    "Produkt.vert"
   ]
  },
  {
   "cell_type": "markdown",
   "metadata": {},
   "source": [
    "Die Erwartungswerte der beiden ZufallsGrößen sowie die Erwartungswerte<br>\n",
    "des Gewinnes pro Spiel sind dann (in €)"
   ]
  },
  {
   "cell_type": "code",
   "execution_count": 20,
   "metadata": {
    "collapsed": false
   },
   "outputs": [
    {
     "data": {
      "text/latex": [
       "$$\\left ( \\frac{43}{12}, \\quad 0.0833333333333335\\right )$$"
      ],
      "text/plain": [
       "⎛43                    ⎞\n",
       "⎜──, 0.0833333333333335⎟\n",
       "⎝12                    ⎠"
      ]
     },
     "execution_count": 20,
     "metadata": {},
     "output_type": "execute_result"
    }
   ],
   "source": [
    "Summe.erw,     Summe.erw - 3.50"
   ]
  },
  {
   "cell_type": "code",
   "execution_count": 21,
   "metadata": {
    "collapsed": false
   },
   "outputs": [
    {
     "data": {
      "text/latex": [
       "$$\\left ( \\frac{77}{24}, \\quad -0.291666666666667\\right )$$"
      ],
      "text/plain": [
       "⎛77                    ⎞\n",
       "⎜──, -0.291666666666667⎟\n",
       "⎝24                    ⎠"
      ]
     },
     "execution_count": 21,
     "metadata": {},
     "output_type": "execute_result"
    }
   ],
   "source": [
    "Produkt.erw,     Produkt.erw - 3.50"
   ]
  },
  {
   "cell_type": "markdown",
   "metadata": {},
   "source": [
    "Damit ist das Spiel um die  Summe der Augenzahlen mit einem durchschnitt-<br>\n",
    "lichen Gewinn von mehr als 8 cent günstig, während das Spiel um das Produkt<br>\n",
    "durchschnittlich etwa 29 cent Verlust einbringt"
   ]
  },
  {
   "cell_type": "markdown",
   "metadata": {},
   "source": [
    "### Grafik zu Mehrkampfleistung\n",
    "Herstellung und Speicherung in einer Datei:\n",
    "<br>"
   ]
  },
  {
   "cell_type": "code",
   "execution_count": 22,
   "metadata": {
    "collapsed": false
   },
   "outputs": [],
   "source": [
    "import matplotlib.pyplot as plt\n",
    "import matplotlib.patches as patches\n",
    "\n",
    "def line(x, y):\n",
    "    return plt.plot(x, y, color='blue', lw=1)    \n",
    "\n",
    "r = 0.038\n",
    "def kreis(x, y, n):\n",
    "    k = patches.Circle((x, y+0.006), r, fill=None, edgecolor=(0,0,0), alpha=0.5)\n",
    "    ax.add_patch(k)\n",
    "    ax.text(x, y, str(n), fontsize=9, alpha=0.9, horizontalalignment='center',\n",
    "    verticalalignment='center', fontname='Times new Roman')\n",
    "\n",
    "def urne(x, y):\n",
    "    d = 0.4\n",
    "    line([x, x+d], [y, y])\n",
    "    line([x, x], [y, y+0.7*d])\n",
    "    line([x+d, x+d], [y, y+0.7*d])\n",
    "\n",
    "plt.close('all')    \n",
    "fig = plt.figure(figsize=(4, 2.5))\n",
    "ax = fig.add_subplot(1, 1, 1, aspect='equal')\n",
    "ax.axis('off')\n",
    "plt.xlim(0.01, 1.3)\n",
    "plt.ylim(0.09, 1.01)\n",
    "\n",
    "d1 = 0.2\n",
    "urne(0.096, 0.6)\n",
    "urne(d1+0.547, 0.6)\n",
    "urne(0.096, 0.15)\n",
    "urne(d1+0.547, 0.15)\n",
    "\n",
    "ax.text(0.3, 0.55, 'Urne 1', fontsize=10, alpha=0.9, horizontalalignment='center',\n",
    "    verticalalignment='center', fontname='Times New Roman')\n",
    "kreis(0.3-4*r, 0.6+r, 1)\n",
    "kreis(0.3-2*r, 0.6+r, 2)\n",
    "for i in (1, 3):\n",
    "    kreis(0.3, 0.6+i*r, 3)\n",
    "for i in (1, 3, 5, 7, 9):\n",
    "    kreis(0.3+2*r, 0.6+i*r, 4)\n",
    "kreis(0.3+4*r, 0.6+r, 5)\n",
    "      \n",
    "ax.text(d1+0.75, 0.55, 'Urne 2', fontsize=10, alpha=0.9, horizontalalignment='center',\n",
    "    verticalalignment='center', fontname='Times New Roman')    \n",
    "for i in (1, 3, 5, 7):\n",
    "    kreis(d1+0.75-4*r, 0.6+i*r, 1)    \n",
    "for i in (1, 3, 5):\n",
    "    kreis(d1+0.75-2*r, 0.6+i*r, 2) \n",
    "for i in (1, 3):\n",
    "    kreis(d1+0.75, 0.6+i*r, 3)      \n",
    "kreis(d1+0.75+2*r, 0.6+r, 4) \n",
    "\n",
    "ax.text(0.3, 0.1, 'Urne 3', fontsize=10, alpha=0.9, horizontalalignment='center',\n",
    "    verticalalignment='center', fontname='Times New Roman')\n",
    "for i in (1, 3):\n",
    "    kreis(0.3-4*r, 0.15+i*r, 1) \n",
    "for i in (1, 3, 5):\n",
    "    kreis(0.3-2*r, 0.15+i*r, 2)     \n",
    "kreis(0.3, 0.15+r, 3)    \n",
    "kreis(0.3+2*r, 0.15+r, 4)   \n",
    "for i in (1, 3, 5):\n",
    "    kreis(0.3+4*r, 0.15+i*r, 5) \n",
    "\n",
    "ax.text(d1+0.75, 0.1, 'Urne 4', fontsize=10, alpha=0.9, horizontalalignment='center',\n",
    "    verticalalignment='center', fontname='Times New Roman')\n",
    "for i in (1, 3, 5):\n",
    "    kreis(d1+0.75-4*r, 0.15+i*r, 1) \n",
    "kreis(d1+0.75-2*r, 0.15+r, 2)    \n",
    "for i in (1, 3):\n",
    "    kreis(d1+0.75, 0.15+i*r, 3)         \n",
    "kreis(d1+0.75+2*r, 0.15+r, 4)   \n",
    "for i in (1, 3, 5):\n",
    "    kreis(d1+0.75+4*r, 0.15+i*r, 5) \n",
    "  \n",
    "#plt.savefig('mehrkampf.png')   # ist bereits gespeichert\n",
    "\n",
    "#plt.show()"
   ]
  },
  {
   "cell_type": "markdown",
   "metadata": {},
   "source": [
    "Kontrollausgabe (in Markdown-Zelle)"
   ]
  },
  {
   "cell_type": "markdown",
   "metadata": {},
   "source": [
    "<img src='bilder/mehrkampf.png', align='left'>"
   ]
  },
  {
   "cell_type": "markdown",
   "metadata": {
    "collapsed": true
   },
   "source": [
    "### Grafik zu Glücksrädern"
   ]
  },
  {
   "cell_type": "code",
   "execution_count": 21,
   "metadata": {
    "collapsed": false
   },
   "outputs": [],
   "source": [
    "import matplotlib.pyplot as plt\n",
    "import matplotlib.patches as patches\n",
    "\n",
    "r = 1.1\n",
    "gl1 = [1+r*cos(x), 1+r*sin(x)]\n",
    "gl2 = [4+r*cos(x), 1+r*sin(x)]\n",
    "\n",
    "def p1(w):\n",
    "    return [el.subs(x, w) for el in gl1]\n",
    "\n",
    "def p2(wi):\n",
    "    return [el.subs(x, wi) for el in gl2]\n",
    "\n",
    "def line(x, y):\n",
    "    return plt.plot(x, y, color='black', lw=0.8)   \n",
    "\n",
    "def text(x, y, n):\n",
    "    ax.text(x, y, str(n), fontsize=9, alpha=0.9, horizontalalignment='center',\n",
    "    verticalalignment='center', fontname='Times new Roman')\n",
    "    \n",
    "plt.close('all')    \n",
    "fig = plt.figure(figsize=(4, 2))\n",
    "ax = fig.add_subplot(1, 1, 1, aspect='equal')\n",
    "ax.axis('off')\n",
    "plt.xlim(-0.2, 5.5)\n",
    "plt.ylim(-0.2, 2.2)\n",
    "\n",
    "kreis1 = patches.Circle((1, 1), 1.1, fill=None, \n",
    "                 edgecolor=(0,0,0), alpha=0.5)\n",
    "kreis2 = patches.Circle((4, 1), 1.1, fill=None, \n",
    "                 edgecolor=(0,0,0), alpha=0.5)\n",
    "ax.add_patch(kreis1)\n",
    "ax.add_patch(kreis2)\n",
    "\n",
    "for w in (0, pi/3, 2/3*pi, pi, 3/2*pi):\n",
    "    p = [float(p1(w)[0]), float(p1(w)[1])]\n",
    "    line([1, p[0]], [1, p[1]])\n",
    "for w in (pi/2, 5/6*pi, 3/2*pi):\n",
    "    p = [float(p2(w)[0]), float(p2(w)[1])]\n",
    "    line([4, p[0]], [1, p[1]])    \n",
    "    \n",
    "ax.arrow(0.85, 0.2, 0.335, 1.6, head_width=0.085, head_length=0.25, fc='b', ec='b')\n",
    "ax.arrow(3.85, 0.2, 0.335, 1.6, head_width=0.085, head_length=0.25, fc='b', ec='b')\n",
    "\n",
    "for t in [(0.5, 0.5, 0), (1.5, 0.5, 1), (1.6, 1.4, 2), (1, 1.7, 3), (0.4, 1.4, 4), \\\n",
    "         (4.5, 1, 0), (3.7, 1.6, 1), (3.5, 0.5, 2)]:\n",
    "    text(*t)\n",
    "    \n",
    "#plt.savefig('gluecksraeder.png')   # ist bereits gespeichert\n",
    "\n",
    "#plt.show()\n"
   ]
  },
  {
   "cell_type": "markdown",
   "metadata": {},
   "source": [
    "Kontrollausgabe (in Markdown-Zelle; bei einem Doppelklick auf die Grafik wird die <br>zugrundeliegende HTML-Anweisung angezeigt))"
   ]
  },
  {
   "cell_type": "markdown",
   "metadata": {
    "collapsed": false
   },
   "source": [
    "<img src='bilder/gluecksraeder.png', align='left'>"
   ]
  },
  {
   "cell_type": "code",
   "execution_count": null,
   "metadata": {
    "collapsed": true
   },
   "outputs": [],
   "source": []
  }
 ],
 "metadata": {
  "anaconda-cloud": {},
  "kernelspec": {
   "display_name": "Python [default]",
   "language": "python",
   "name": "python3"
  },
  "language_info": {
   "codemirror_mode": {
    "name": "ipython",
    "version": 3
   },
   "file_extension": ".py",
   "mimetype": "text/x-python",
   "name": "python",
   "nbconvert_exporter": "python",
   "pygments_lexer": "ipython3",
   "version": "3.5.2"
  }
 },
 "nbformat": 4,
 "nbformat_minor": 0
}
