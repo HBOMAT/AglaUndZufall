{
 "cells": [
  {
   "cell_type": "markdown",
   "metadata": {},
   "source": [
    "<br>\n",
    "# Einblick in die Arbeit mit <i>zufall</i>\n",
    "\n",
    "von Holger Böttcher - hbomat@posteo.de\n",
    "<br><br>\n",
    "Diese Arbeit steht unter der freien Lizenz [CC BY-SA 4.0](https://creativecommons.org/licenses/by-sa/4.0/deed.de)  \n",
    "<br><br>\n",
    "### Abitur Bayern 2019\n",
    " \n",
    "### Stochastik Teil A, Aufgabengruppe 1+2\n",
    "<br>\n",
    "Quelle: serlo.org $\\quad$ [Aufgabengruppe 1](https://de.serlo.org/mathe/deutschland/bayern/gymnasium/abiturpr%C3%BCfungen-l%C3%B6sung/mathematik-abitur-bayern-2019/stochastik,-teil-,-aufgabengruppe-1)\n",
    "$\\quad$ [Aufgabengruppe 2](https://de.serlo.org/mathe/deutschland/bayern/gymnasium/abiturpr%C3%BCfungen-l%C3%B6sung/mathematik-abitur-bayern-2019/stochastik,-teil-,-aufgabengruppe-2)\n",
    "<br>"
   ]
  },
  {
   "cell_type": "markdown",
   "metadata": {},
   "source": [
    "<br>\n",
    "### Aufgabengruppe 1"
   ]
  },
  {
   "cell_type": "markdown",
   "metadata": {},
   "source": [
    "<br><b>1.</b> Ein Glücksrad besteht aus fünf gleich großen Sektoren. Einer der Sektoren ist mit <br>\n",
    "\"0\" beschriftet, einer mit \"1\" und einer mit \"2\"; die beiden anderen Sektoren sind mit <br>\"9\" beschriftet.\n",
    "\n",
    "$\\quad$<b>a)</b> Das Glücksrad wird viermal gedreht. Bestimmen Sie die Wahrscheinlichkeit dafür, <br>\n",
    "$\\quad$dass die Zahlen <b>2, 0, 1</b> und <b>9</b> in der angegebenen Reihenfolge erzielt werden.\n",
    "\n",
    "$\\quad$<b>b)</b> Das Glücksrad wird zweimal gedreht. Bestimmen Sie die Wahrscheinlichkeit dafür, <br>\n",
    "$\\quad$dass die Summe der erzielten Zahlen mindestens $11$ beträgt.\n",
    "\n",
    "<br><b>2.</b>\n",
    "Die Zufallsgröße $X$ kann ausschließlich die Werte $1, 4, 9$ und $16$ annehmen. <br>\n",
    "Bekannt sind $P(X=9)=0,2$ und $P(X=16)=0,1$ sowie der Erwartungswert<br>\n",
    "$E(X)=5$. Bestimmen Sie mithilfe des Ansatzes für den Erwartungswert die <br>\n",
    "Wahrscheinlichkeiten $P(X=1)$ und $P(X=4)$.\n",
    "\n",
    "<br><b>3.</b>\n",
    "Gegeben ist eine Bernoullikette mit der Länge $n$ und der Trefferwahrscheinlichkeit $p$. <br>\n",
    "Erklären Sie, dass für alle $k \\in \\{0, 1, 2,...,n\\}$ die Beziehung\n",
    "\n",
    "$B(n;p;k)=B(n;1−p;n−k)$ \n",
    "\n",
    "gilt.<br><br>"
   ]
  },
  {
   "cell_type": "code",
   "execution_count": 1,
   "metadata": {
    "collapsed": false
   },
   "outputs": [],
   "source": [
    "%run zufall/start"
   ]
  },
  {
   "cell_type": "markdown",
   "metadata": {
    "collapsed": false
   },
   "source": [
    "<br>\n",
    "### Zu 1."
   ]
  },
  {
   "cell_type": "markdown",
   "metadata": {},
   "source": [
    "Das Glücksrad (als Instanz der <i>zufall</i>-Klasse GlücksRad) wird über eine Schlüssel-<br>\n",
    "Wert - Tabelle mit den Zuordnungen $objekt : anzahl$ erzeugt; die Objekte sind $0, 1, 2$ <br>\n",
    "und $9$, anzahl ist die Anzahl des Auftretens auf dem Rad; $4$ ist die Anzahl der Stufen <br>(Drehungen)"
   ]
  },
  {
   "cell_type": "markdown",
   "metadata": {},
   "source": [
    "<img src='bilder/bayern11.png', align='left'>"
   ]
  },
  {
   "cell_type": "code",
   "execution_count": 2,
   "metadata": {
    "collapsed": false
   },
   "outputs": [],
   "source": [
    "gr4 = GlücksRad( { 0:1, 1:1, 2:1, 9:2 }, 4)"
   ]
  },
  {
   "cell_type": "markdown",
   "metadata": {},
   "source": [
    "### a)"
   ]
  },
  {
   "cell_type": "markdown",
   "metadata": {},
   "source": [
    "Die ersten $10$ Elemente des Ergebnisraums $\\Omega%$ sind (unsortiert)<br>\n",
    "insgesamt sind es $256$"
   ]
  },
  {
   "cell_type": "code",
   "execution_count": 3,
   "metadata": {
    "collapsed": false
   },
   "outputs": [
    {
     "data": {
      "text/latex": [
       "$$\\left [ 0220, \\quad 1201, \\quad 1920, \\quad 2290, \\quad 1191, \\quad 9011, \\quad 0200, \\quad 9212, \\quad 1092, \\quad 1901\\right ]$$"
      ],
      "text/plain": [
       "[0220, 1201, 1920, 2290, 1191, 9011, 0200, 9212, 1092, 1901]"
      ]
     },
     "execution_count": 3,
     "metadata": {},
     "output_type": "execute_result"
    }
   ],
   "source": [
    "list(gr4.omega)[:10]"
   ]
  },
  {
   "cell_type": "code",
   "execution_count": 4,
   "metadata": {
    "collapsed": false
   },
   "outputs": [
    {
     "data": {
      "text/latex": [
       "$$256$$"
      ],
      "text/plain": [
       "256"
      ]
     },
     "execution_count": 4,
     "metadata": {},
     "output_type": "execute_result"
    }
   ],
   "source": [
    "gr4.n_omega"
   ]
  },
  {
   "cell_type": "markdown",
   "metadata": {},
   "source": [
    "Zur Berechnung mit der $P$ - Methode sind die Ergebnisse als Zeichenketten anzugeben"
   ]
  },
  {
   "cell_type": "code",
   "execution_count": 5,
   "metadata": {
    "collapsed": false
   },
   "outputs": [
    {
     "data": {
      "text/latex": [
       "$$\\frac{2}{625}$$"
      ],
      "text/plain": [
       "2/625"
      ]
     },
     "execution_count": 5,
     "metadata": {},
     "output_type": "execute_result"
    }
   ],
   "source": [
    "gr4.P('2019')"
   ]
  },
  {
   "cell_type": "code",
   "execution_count": 6,
   "metadata": {
    "collapsed": false
   },
   "outputs": [
    {
     "data": {
      "text/latex": [
       "$$0.32$$"
      ],
      "text/plain": [
       "0.32"
      ]
     },
     "execution_count": 6,
     "metadata": {},
     "output_type": "execute_result"
    }
   ],
   "source": [
    "gr4.P('2019', p=1)   # in Prozent; Ergebnis zu a)"
   ]
  },
  {
   "cell_type": "markdown",
   "metadata": {},
   "source": [
    "### b)\n",
    "\n",
    "Es wird ein weiteres Glücksrad mit der Stufenanzahl $2$ erzeugt"
   ]
  },
  {
   "cell_type": "code",
   "execution_count": 7,
   "metadata": {
    "collapsed": true
   },
   "outputs": [],
   "source": [
    "gr2 = GlücksRad( {0:1, 1:1, 2:1, 9:2 }, 2)"
   ]
  },
  {
   "cell_type": "code",
   "execution_count": 8,
   "metadata": {
    "collapsed": false
   },
   "outputs": [
    {
     "data": {
      "text/latex": [
       "$$\\left\\{00, 01, 02, 09, 10, 11, 12, 19, 20, 21, 22, 29, 90, 91, 92, 99\\right\\}$$"
      ],
      "text/plain": [
       "set([00, 01, 02, 09, 10, 11, 12, 19, 20, 21, 22, 29, 90, 91, 92, 99])"
      ]
     },
     "execution_count": 8,
     "metadata": {},
     "output_type": "execute_result"
    }
   ],
   "source": [
    "gr2.omega"
   ]
  },
  {
   "cell_type": "markdown",
   "metadata": {},
   "source": [
    "Die für das Ereignis \"Die Summe der Zahlen ist mindestens 11\" zutreffenden Elemente <br>\n",
    "werden in einer Liste zusammengefaßt"
   ]
  },
  {
   "cell_type": "code",
   "execution_count": 9,
   "metadata": {
    "collapsed": false
   },
   "outputs": [
    {
     "data": {
      "text/latex": [
       "$$\\frac{8}{25}$$"
      ],
      "text/plain": [
       "8/25"
      ]
     },
     "execution_count": 9,
     "metadata": {},
     "output_type": "execute_result"
    }
   ],
   "source": [
    "gr2.P(['99', '29', '92'])"
   ]
  },
  {
   "cell_type": "code",
   "execution_count": 10,
   "metadata": {
    "collapsed": false
   },
   "outputs": [
    {
     "data": {
      "text/latex": [
       "$$32.0$$"
      ],
      "text/plain": [
       "32.0"
      ]
     },
     "execution_count": 10,
     "metadata": {},
     "output_type": "execute_result"
    }
   ],
   "source": [
    "gr2.P( ['99', '29', '92'], p=ja )   # Ergebnis zu b)"
   ]
  },
  {
   "cell_type": "markdown",
   "metadata": {},
   "source": [
    "Etwas mehr Python + SymPy kann bei längeren Listen das Schreiben erleichtern, wie <br>\n",
    "z.B. beim Ereignis \"Die Summe der Zahlen ist mindestens 9\" "
   ]
  },
  {
   "cell_type": "code",
   "execution_count": 11,
   "metadata": {
    "collapsed": false
   },
   "outputs": [
    {
     "data": {
      "text/latex": [
       "$$\\frac{16}{25}$$"
      ],
      "text/plain": [
       "16\n",
       "──\n",
       "25"
      ]
     },
     "execution_count": 11,
     "metadata": {},
     "output_type": "execute_result"
    }
   ],
   "source": [
    "gr2.P( [*symbols('09 90 19 91 99 29 92')] )"
   ]
  },
  {
   "cell_type": "markdown",
   "metadata": {
    "collapsed": false
   },
   "source": [
    "### Zu 2."
   ]
  },
  {
   "cell_type": "markdown",
   "metadata": {},
   "source": [
    "Die vorgegebenen Informationen sind in folgender Tabelle enthalten<br>\n",
    "\n",
    "$\\{ \\,1 : a, \\:4 : b,\\:  9 : 0.2,\\: 16 : 0.1 \\,\\}$"
   ]
  },
  {
   "cell_type": "markdown",
   "metadata": {},
   "source": [
    "Es werden zwei Gleichungen herangezogen, um die beiden Unbekannten <br>zu berechnen<br>\n",
    "<br>\n",
    "$\\quad$*nach der Formel berechneter Erwartungswert = 5*\n",
    "\n",
    "$\\quad$*Summe der Wahrscheinlichkeiteen = 1*\n",
    "\n",
    "Beide Gleichungen werden so umgeformt, dass die rechte Seite 0 ist, dann werden die <br>\n",
    "linken Seiten als (lineares) Gleichungssystem gelöst"
   ]
  },
  {
   "cell_type": "code",
   "execution_count": 12,
   "metadata": {
    "collapsed": true
   },
   "outputs": [],
   "source": [
    "gl1 = 1*a + 4*b + 9*0.2 + 16*0.1 - 5"
   ]
  },
  {
   "cell_type": "code",
   "execution_count": 13,
   "metadata": {
    "collapsed": true
   },
   "outputs": [],
   "source": [
    "gl2 = a + b + 0.2 + 0.1 - 1"
   ]
  },
  {
   "cell_type": "code",
   "execution_count": 14,
   "metadata": {
    "collapsed": false
   },
   "outputs": [
    {
     "data": {
      "text/latex": [
       "$$\\left \\{ a : \\frac{2}{5}, \\quad b : \\frac{3}{10}\\right \\}$$"
      ],
      "text/plain": [
       "{a: 2/5, b: 3/10}"
      ]
     },
     "execution_count": 14,
     "metadata": {},
     "output_type": "execute_result"
    }
   ],
   "source": [
    "L = löse([gl1, gl2])\n",
    "L"
   ]
  },
  {
   "cell_type": "markdown",
   "metadata": {
    "collapsed": false
   },
   "source": [
    "### Zu 3."
   ]
  },
  {
   "cell_type": "markdown",
   "metadata": {},
   "source": [
    "Bei einer Bernoullikette mit der Länge $n$ und der Trefferwahrscheinlichkeit $p$ sind die <br>\n",
    "Elemente des Ereignisraumes Folgen der Länge $n$ mit jeweils $k$ Treffern und <br>\n",
    "(notwendigerweise) $n-k$ Nieten, $k \\in \\{0, 1, ..., n\\}$ \n",
    "\n",
    "Ereignisse sind Mengen von solchen Folgen\n",
    "\n",
    "Wenn jetzt Treffer und Nieten vertauscht werden (die Trefferwahrscheinlichkeit ist <br>\n",
    "dann $1-p$), ist erkennbar, dass die Ereignisse \"$k$ Treffer\" und \"$n-k$ Treffer\" gleich <br>\n",
    "sind und somit auch ihre Wahrscheinlichkeiten: \n",
    "\n",
    "$B(n;\\;p;\\;k) = B(n;\\;1-p;\\;n-k)$<br>"
   ]
  },
  {
   "cell_type": "markdown",
   "metadata": {},
   "source": [
    "Das soll am Beispiel $\\:n=4,\\:p=0.2$ (ist hier unwichtig) demonstriert werden\n",
    "\n",
    "Die  Bernoullikette kann als $ZufallsExperiment$ erzeugt werden mit *$1$ - Treffer, $0$ - Niete*"
   ]
  },
  {
   "cell_type": "code",
   "execution_count": 15,
   "metadata": {
    "collapsed": false,
    "scrolled": true
   },
   "outputs": [
    {
     "name": "stdout",
     "output_type": "stream",
     "text": [
      "Erzeugung eines BernoulliKette-ZufallsExperiment-Objektes\n"
     ]
    }
   ],
   "source": [
    "bk = BK(4, 0.2, ze=ja)  "
   ]
  },
  {
   "cell_type": "markdown",
   "metadata": {},
   "source": [
    "Der Ereignisraum ist"
   ]
  },
  {
   "cell_type": "code",
   "execution_count": 16,
   "metadata": {
    "collapsed": false
   },
   "outputs": [
    {
     "data": {
      "text/latex": [
       "$$\\left\\{0000, 0001, 0010, 0011, 0100, 0101, 0110, 0111, 1000, 1001, 1010, 1011, 1100, 1101, 1110, 1111\\right\\}$$"
      ],
      "text/plain": [
       "set([0000, 0001, 0010, 0011, 0100, 0101, 0110, 0111, 1000, 1001, 1010, 1011, 1\n",
       "100, 1101, 1110, 1111])"
      ]
     },
     "execution_count": 16,
     "metadata": {},
     "output_type": "execute_result"
    }
   ],
   "source": [
    "bk.omega"
   ]
  },
  {
   "cell_type": "code",
   "execution_count": 17,
   "metadata": {
    "collapsed": false
   },
   "outputs": [
    {
     "data": {
      "text/latex": [
       "$$\\left [ \\left [ 0, \\quad 0, \\quad 0, \\quad 0\\right ], \\quad \\left [ 0, \\quad 0, \\quad 0, \\quad 1\\right ], \\quad \\left [ 0, \\quad 0, \\quad 1, \\quad 0\\right ], \\quad \\left [ 0, \\quad 0, \\quad 1, \\quad 1\\right ], \\quad \\left [ 0, \\quad 1, \\quad 0, \\quad 0\\right ], \\quad \\left [ 0, \\quad 1, \\quad 0, \\quad 1\\right ], \\quad \\left [ 0, \\quad 1, \\quad 1, \\quad 0\\right ], \\quad \\left [ 0, \\quad 1, \\quad 1, \\quad 1\\right ], \\quad \\left [ 1, \\quad 0, \\quad 0, \\quad 0\\right ], \\quad \\left [ 1, \\quad 0, \\quad 0, \\quad 1\\right ], \\quad \\left [ 1, \\quad 0, \\quad 1, \\quad 0\\right ], \\quad \\left [ 1, \\quad 0, \\quad 1, \\quad 1\\right ], \\quad \\left [ 1, \\quad 1, \\quad 0, \\quad 0\\right ], \\quad \\left [ 1, \\quad 1, \\quad 0, \\quad 1\\right ], \\quad \\left [ 1, \\quad 1, \\quad 1, \\quad 0\\right ], \\quad \\left [ 1, \\quad 1, \\quad 1, \\quad 1\\right ]\\right ]$$"
      ],
      "text/plain": [
       "[[0, 0, 0, 0], [0, 0, 0, 1], [0, 0, 1, 0], [0, 0, 1, 1], [0, 1, 0, 0], [0, 1, \n",
       "0, 1], [0, 1, 1, 0], [0, 1, 1, 1], [1, 0, 0, 0], [1, 0, 0, 1], [1, 0, 1, 0], [\n",
       "1, 0, 1, 1], [1, 1, 0, 0], [1, 1, 0, 1], [1, 1, 1, 0], [1, 1, 1, 1]]"
      ]
     },
     "execution_count": 17,
     "metadata": {},
     "output_type": "execute_result"
    }
   ],
   "source": [
    "om = bk.Omega(l=1)   # Listendarstellung; hier sind die Elemente \n",
    "om                   # der Liste wieder Listen"
   ]
  },
  {
   "cell_type": "markdown",
   "metadata": {},
   "source": [
    "Es wird die Funktion $anzahl$ benutzt, die für eine Liste zählt, wie oft ein Element in ihr <br>\n",
    "vorkommt; diese Liste wird ihr als Argument übergeben, z.B. "
   ]
  },
  {
   "cell_type": "code",
   "execution_count": 18,
   "metadata": {
    "collapsed": false
   },
   "outputs": [
    {
     "data": {
      "text/latex": [
       "$$\\left ( 2, \\quad 3\\right )$$"
      ],
      "text/plain": [
       "(2, 3)"
      ]
     },
     "execution_count": 18,
     "metadata": {},
     "output_type": "execute_result"
    }
   ],
   "source": [
    "anzahl(1)([1, 0, 1, 0, 0, ]), anzahl(0)([1, 0,  0, 1, 0])"
   ]
  },
  {
   "cell_type": "markdown",
   "metadata": {},
   "source": [
    "Es wird noch eine eigene Funktion bereitgestellt, die in einer $0\\,/\\,1$- Liste mit <br>$4$ Elementen die Einsen und Nullen vertauscht"
   ]
  },
  {
   "cell_type": "code",
   "execution_count": 19,
   "metadata": {
    "collapsed": false
   },
   "outputs": [],
   "source": [
    "def vertauschen(liste):\n",
    "    liste1 = []\n",
    "    for i in range(4):\n",
    "        el = 1 if liste[i] is 0 else 0\n",
    "        liste1.append(el)\n",
    "    return liste1"
   ]
  },
  {
   "cell_type": "code",
   "execution_count": 20,
   "metadata": {
    "collapsed": false
   },
   "outputs": [
    {
     "data": {
      "text/latex": [
       "$$\\left [ 1, \\quad 0, \\quad 0, \\quad 1\\right ]$$"
      ],
      "text/plain": [
       "[1, 0, 0, 1]"
      ]
     },
     "execution_count": 20,
     "metadata": {},
     "output_type": "execute_result"
    }
   ],
   "source": [
    "vertauschen([0, 1, 1, 0])   # Test auf Funktionstüchtigkeit"
   ]
  },
  {
   "cell_type": "markdown",
   "metadata": {},
   "source": [
    "Das kleine Programm stellt für jeden möglichen $k$ - Wert 4 Listen bereit\n",
    "\n",
    "- die Listen mit Elementen, die $k$ Einsen ($E_1$), bzw. Nullen ($E_2$) haben<br>\n",
    "- eine Liste, in der die Nullen und Einsen in der zweiten Liste vertauscht wurden ($E_3$)<br>\n",
    "- eine Liste, die durch Umkehrung der dritten Liste entstanden ist "
   ]
  },
  {
   "cell_type": "code",
   "execution_count": 21,
   "metadata": {
    "collapsed": false
   },
   "outputs": [
    {
     "name": "stdout",
     "output_type": "stream",
     "text": [
      "k = 0 [[0, 0, 0, 0]]\n",
      "      [[1, 1, 1, 1]]\n",
      "      [[0, 0, 0, 0]]\n",
      "      [[0, 0, 0, 0]]\n",
      " \n",
      "k = 1 [[0, 0, 0, 1], [0, 0, 1, 0], [0, 1, 0, 0], [1, 0, 0, 0]]\n",
      "      [[0, 1, 1, 1], [1, 0, 1, 1], [1, 1, 0, 1], [1, 1, 1, 0]]\n",
      "      [[1, 0, 0, 0], [0, 1, 0, 0], [0, 0, 1, 0], [0, 0, 0, 1]]\n",
      "      [[0, 0, 0, 1], [0, 0, 1, 0], [0, 1, 0, 0], [1, 0, 0, 0]]\n",
      " \n",
      "k = 2 [[0, 0, 1, 1], [0, 1, 0, 1], [0, 1, 1, 0], [1, 0, 0, 1], [1, 0, 1, 0], [1, 1, 0, 0]]\n",
      "      [[0, 0, 1, 1], [0, 1, 0, 1], [0, 1, 1, 0], [1, 0, 0, 1], [1, 0, 1, 0], [1, 1, 0, 0]]\n",
      "      [[1, 1, 0, 0], [1, 0, 1, 0], [1, 0, 0, 1], [0, 1, 1, 0], [0, 1, 0, 1], [0, 0, 1, 1]]\n",
      "      [[0, 0, 1, 1], [0, 1, 0, 1], [0, 1, 1, 0], [1, 0, 0, 1], [1, 0, 1, 0], [1, 1, 0, 0]]\n",
      " \n",
      "k = 3 [[0, 1, 1, 1], [1, 0, 1, 1], [1, 1, 0, 1], [1, 1, 1, 0]]\n",
      "      [[0, 0, 0, 1], [0, 0, 1, 0], [0, 1, 0, 0], [1, 0, 0, 0]]\n",
      "      [[1, 1, 1, 0], [1, 1, 0, 1], [1, 0, 1, 1], [0, 1, 1, 1]]\n",
      "      [[0, 1, 1, 1], [1, 0, 1, 1], [1, 1, 0, 1], [1, 1, 1, 0]]\n",
      " \n",
      "k = 4 [[1, 1, 1, 1]]\n",
      "      [[0, 0, 0, 0]]\n",
      "      [[1, 1, 1, 1]]\n",
      "      [[1, 1, 1, 1]]\n",
      " \n"
     ]
    }
   ],
   "source": [
    "for k in range(5):\n",
    "    E1 = [e for e in om if anzahl(1)(e)==k]   # == steht für \n",
    "    E2 = [e for e in om if anzahl(0)(e)==k]   # 'mathematisch gleich'\n",
    "    E3 = [vertauschen(e) for e in E2]\n",
    "    print('k =', k, E1)\n",
    "    print('     ', E2)\n",
    "    print('     ', E3)\n",
    "    E3.reverse()\n",
    "    print('     ', E3)\n",
    "    print(' ')\n",
    "    "
   ]
  },
  {
   "cell_type": "markdown",
   "metadata": {},
   "source": [
    "Beim Vergleich der 4. mit der ersten Ausgabe kann für jedes $k$ festgestellt werden, <br>\n",
    "dass sie gleich sind\n",
    "\n",
    "Diese Gleichheit besteht natürlich auch zwischen erster und dritter Ausgabe, wobei <br>\n",
    "in der dritten Liste von rechts nach links zu lesen sind"
   ]
  },
  {
   "cell_type": "markdown",
   "metadata": {},
   "source": [
    "<br5><br>\n",
    "### Aufgabengruppe 2"
   ]
  },
  {
   "cell_type": "markdown",
   "metadata": {},
   "source": [
    "<b>1.</b> Die Aufgabe ist identisch mit der Aufgabe 1 der Aufgabengruppe 1\n",
    "<br>\n",
    "<br><b>2.</b> Gegeben ist eine binomialverteilte Zufallsgröße $X$ mit dem Parameterwert $n=5$. <br>\n",
    "Dem Diagramm in Abbildung 1 kann man die Wahrscheinlichkeitswerte $P(X≤k)$ <br>\n",
    "mit $k \\in \\{0,1,2,3,4\\}$ entnehmen."
   ]
  },
  {
   "cell_type": "markdown",
   "metadata": {},
   "source": [
    "<img src='bilder/bayern10.png', align='left'>"
   ]
  },
  {
   "cell_type": "markdown",
   "metadata": {},
   "source": [
    "Ergänzen Sie den zu $k=5$ gehörenden Wahrscheinlichkeitswert $P(X≤k)$ <br>\n",
    "im Diagramm. Ermitteln Sie näherungsweise die Wahrscheinlichkeit $P(X=2)$.\n",
    "<br><br>\n",
    "<b>3.</b> Das Baumdiagramm in Abbildung 2 gehört zu einem Zufallsexperiment mit den <br>\n",
    "stochastisch unabhängigen Ereignissen $A$ und $B   $.\n",
    "\n",
    "Bestimmen Sie die Wahrscheinlichkeit des Ereignisses $B $."
   ]
  },
  {
   "cell_type": "markdown",
   "metadata": {
    "collapsed": true
   },
   "source": [
    "<img src='bilder/bayern12.png', align='left'>"
   ]
  },
  {
   "cell_type": "markdown",
   "metadata": {
    "collapsed": false
   },
   "source": [
    "### Zu 2."
   ]
  },
  {
   "cell_type": "markdown",
   "metadata": {
    "collapsed": true
   },
   "source": [
    "Da es sich um die <b>kumulative</b> Verteilungsfunktion handelt, ist der zu $k=5$ <br>\n",
    "gehörende Wert $1$\n",
    "\n",
    "Durch Ablesen in der Grafik erhält man\n",
    "\n",
    "$P(X=2) = P(X \\le 2) - P(X \\le 1) \\approx  0.42 - 0.13 = 0.29$"
   ]
  },
  {
   "cell_type": "markdown",
   "metadata": {
    "collapsed": false
   },
   "source": [
    "### Zu 3."
   ]
  },
  {
   "cell_type": "markdown",
   "metadata": {},
   "source": [
    "Aus der Unabhängigkeit der Ereignisse folgt, dass die bedingte Wahrscheinlichkeit <br>\n",
    "$P(B\\,|\\,\\overline{A})$ nicht von der Bedingung abhängig und gleich $P(B)$ ist\n",
    "\n",
    "Das kann im Pfad $\\: o \\rightarrow \\overline{A} \\rightarrow B\\:$ des Baumes als fehlende Wahrscheinlichkeit <br>\n",
    "angetragen werden; aus der Pfadregel ergibt sich dann <br>\n",
    "\n",
    "$\\dfrac{2}{15} = \\dfrac{2}{3} \\cdot P(B)$, also \n",
    "$P(B) = \\dfrac{3}{2} \\cdot \\dfrac{2}{15} = \\dfrac{1}{5}$\n",
    "<br><br>"
   ]
  }
 ],
 "metadata": {
  "anaconda-cloud": {},
  "kernelspec": {
   "display_name": "Python [default]",
   "language": "python",
   "name": "python3"
  },
  "language_info": {
   "codemirror_mode": {
    "name": "ipython",
    "version": 3
   },
   "file_extension": ".py",
   "mimetype": "text/x-python",
   "name": "python",
   "nbconvert_exporter": "python",
   "pygments_lexer": "ipython3",
   "version": "3.5.2"
  }
 },
 "nbformat": 4,
 "nbformat_minor": 1
}
