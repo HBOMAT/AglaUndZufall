{
 "cells": [
  {
   "cell_type": "markdown",
   "metadata": {},
   "source": [
    "<br>\n",
    "# Einblick in die Arbeit mit <i>zufall</i> \n",
    "\n",
    "von Holger Böttcher - hbomat@posteo.de\n",
    "<br><br>\n",
    "Diese Arbeit steht unter der freien Lizenz [CC BY-SA 4.0](https://creativecommons.org/licenses/by-sa/4.0/deed.de)  \n",
    "<br><br>\n",
    "1.<b> Urne</b> - Zufallsexperiment<br>\n",
    "2.<b> Binomialverteilung</b><br>\n",
    "3.<b> Bedingte Wahrscheinlichkeiten</b><br>\n",
    "4.<b> Statistische</b> Berechnungen<br>\n",
    "5.<b></b> Ein <b>Spiel</b><br><br>\n",
    "6.<b> Klassen </b> in <i>zufall</i><br>\n",
    "7.<b> Hilfe</b>-Informationen\n",
    "<br><br><br>\n",
    "Das Paket <i>zufall</i> ist in der Programmiersprache <b>Python</b> geschrieben und basiert\n",
    "<br>auf dem ebenfalls in Python geschriebenen und quelloffen frei verfügbaren <b>CAS \n",
    "<br>SymPy</b> \n",
    "\n",
    "Für die Objekte der Stochastik wurden Python-Klassen im Sinne der Objekt-\n",
    "<br>Orientierten-Programmierung implementiert (siehe die Liste unter 6.). Damit können \n",
    "<br>entsprechende Python-Objekte erzeugt werden, mit denen unter Verwendung ihrer \n",
    "<br>Eigenschaften und Methoden am Computer gearbeitet wird \n",
    "\n",
    "Die Berechnungen werden in einem Jupyter-Notebook (mit englischer Bedienoberfläche)\n",
    "<br>durchgeführt, die vorliegende Datei wurde durch den HTML-Export eines solchen \n",
    "<br>Notebooks erzeugt\n",
    "<br><br>\n",
    "<div style='color:yellowgreen'>\n",
    "<i>Die Kommentare (nach #) sind lediglich Erläuterungen und für die Berechnungen</i> \n",
    "<br><i>nicht relevant</i>\n",
    "</div>\n",
    "<br>"
   ]
  },
  {
   "cell_type": "code",
   "execution_count": 1,
   "metadata": {
    "collapsed": true
   },
   "outputs": [],
   "source": [
    "%run zufall/start   # Aktivierung des Paketes"
   ]
  },
  {
   "cell_type": "markdown",
   "metadata": {},
   "source": [
    "<br>\n",
    "## 1. Urne - Zufallsexperiment"
   ]
  },
  {
   "cell_type": "markdown",
   "metadata": {},
   "source": [
    "Aus einer Urne mit 5 grünen, 3 roten und 2 weißen Kugeln wird 2-mal mit \n",
    "<br>Zurücklegen / Wiederholung gezogen"
   ]
  },
  {
   "cell_type": "code",
   "execution_count": 2,
   "metadata": {
    "collapsed": false
   },
   "outputs": [
    {
     "data": {
      "text/latex": [
       "$$Urne(Stufen=2, mit Wiederholung , mit Anordnung)$$"
      ],
      "text/plain": [
       "Urne(Stufen=2, mit Wiederholung , mit Anordnung)"
      ]
     },
     "execution_count": 2,
     "metadata": {},
     "output_type": "execute_result"
    }
   ],
   "source": [
    "u = Urne({g:5, r:3, w:2}, 2)\n",
    "u   "
   ]
  },
  {
   "cell_type": "markdown",
   "metadata": {},
   "source": [
    "Ergebnismenge und Wahrscheinlichkeitsverteilung"
   ]
  },
  {
   "cell_type": "code",
   "execution_count": 3,
   "metadata": {
    "collapsed": false
   },
   "outputs": [
    {
     "data": {
      "text/latex": [
       "$$\\left\\{gg, gr, gw, rg, rr, rw, wg, wr, ww\\right\\}$$"
      ],
      "text/plain": [
       "set([gg, gr, gw, rg, rr, rw, wg, wr, ww])"
      ]
     },
     "execution_count": 3,
     "metadata": {},
     "output_type": "execute_result"
    }
   ],
   "source": [
    "u.omega"
   ]
  },
  {
   "cell_type": "code",
   "execution_count": 4,
   "metadata": {
    "collapsed": false
   },
   "outputs": [
    {
     "data": {
      "text/latex": [
       "$$\\left \\{ gg : \\frac{1}{4}, \\quad gr : \\frac{3}{20}, \\quad gw : \\frac{1}{10}, \\quad rg : \\frac{3}{20}, \\quad rr : \\frac{9}{100}, \\quad rw : \\frac{3}{50}, \\quad wg : \\frac{1}{10}, \\quad wr : \\frac{3}{50}, \\quad ww : \\frac{1}{25}\\right \\}$$"
      ],
      "text/plain": [
       "{gg: 1/4, gr: 3/20, gw: 1/10, rg: 3/20, rr: 9/100, rw: 3/50, wg: 1/10, wr: 3/5\n",
       "0, ww: 1/25}"
      ]
     },
     "execution_count": 4,
     "metadata": {},
     "output_type": "execute_result"
    }
   ],
   "source": [
    "u.vert"
   ]
  },
  {
   "cell_type": "code",
   "execution_count": 5,
   "metadata": {
    "collapsed": false
   },
   "outputs": [
    {
     "data": {
      "text/latex": [
       "$$\\left \\{ gg : 0.25, \\quad gr : 0.15, \\quad gw : 0.1, \\quad rg : 0.15, \\quad rr : 0.09, \\quad rw : 0.06, \\quad wg : 0.1, \\quad wr : 0.06, \\quad ww : 0.04\\right \\}$$"
      ],
      "text/plain": [
       "{gg: 0.25, gr: 0.15, gw: 0.1, rg: 0.15, rr: 0.09, rw: 0.06, wg: 0.1, wr: 0.06,\n",
       " ww: 0.04}"
      ]
     },
     "execution_count": 5,
     "metadata": {},
     "output_type": "execute_result"
    }
   ],
   "source": [
    "u.Vert(d=4)   # Dezimaldarstellung"
   ]
  },
  {
   "cell_type": "markdown",
   "metadata": {},
   "source": [
    "Das Baumdiagramm kann gezeichnet werden, falls es nicht zu groß wird"
   ]
  },
  {
   "cell_type": "code",
   "execution_count": 6,
   "metadata": {
    "collapsed": false
   },
   "outputs": [
    {
     "data": {
      "image/png": "[encoded data removed]",
      "text/plain": [
       "<matplotlib.figure.Figure at 0x8790cd0>"
      ]
     },
     "metadata": {},
     "output_type": "display_data"
    }
   ],
   "source": [
    "u.baum"
   ]
  },
  {
   "cell_type": "markdown",
   "metadata": {},
   "source": [
    "Die Wahrscheinlichkeiten von Ereignissen sind leicht zu berechnen"
   ]
  },
  {
   "cell_type": "code",
   "execution_count": 7,
   "metadata": {
    "collapsed": false
   },
   "outputs": [
    {
     "data": {
      "text/latex": [
       "$$\\frac{3}{20}$$"
      ],
      "text/plain": [
       "3/20"
      ]
     },
     "execution_count": 7,
     "metadata": {},
     "output_type": "execute_result"
    }
   ],
   "source": [
    "u.P('rg')"
   ]
  },
  {
   "cell_type": "code",
   "execution_count": 8,
   "metadata": {
    "collapsed": false
   },
   "outputs": [
    {
     "data": {
      "text/latex": [
       "$$\\frac{3}{10}$$"
      ],
      "text/plain": [
       "3/10"
      ]
     },
     "execution_count": 8,
     "metadata": {},
     "output_type": "execute_result"
    }
   ],
   "source": [
    "u.P(['rg', 'rr', 'rw'])"
   ]
  },
  {
   "cell_type": "markdown",
   "metadata": {},
   "source": [
    "Es sind Stichproben mit beliebiger Länge moglich"
   ]
  },
  {
   "cell_type": "code",
   "execution_count": 9,
   "metadata": {
    "collapsed": false
   },
   "outputs": [
    {
     "data": {
      "text/latex": [
       "$$\\left [ gr, \\quad rg, \\quad rg, \\quad gg, \\quad gw\\right ]$$"
      ],
      "text/plain": [
       "[gr, rg, rg, gg, gw]"
      ]
     },
     "execution_count": 9,
     "metadata": {},
     "output_type": "execute_result"
    }
   ],
   "source": [
    "u.stich_probe(5)"
   ]
  },
  {
   "cell_type": "markdown",
   "metadata": {},
   "source": [
    "Mit Hilfe der Listendarstellung der Versuchsausgänge in einer Stichprobe"
   ]
  },
  {
   "cell_type": "code",
   "execution_count": 10,
   "metadata": {
    "collapsed": false
   },
   "outputs": [
    {
     "data": {
      "text/latex": [
       "$$\\left [ \\left [ r, \\quad g\\right ], \\quad \\left [ g, \\quad g\\right ], \\quad \\left [ g, \\quad w\\right ], \\quad \\left [ w, \\quad w\\right ], \\quad \\left [ w, \\quad g\\right ]\\right ]$$"
      ],
      "text/plain": [
       "[[r, g], [g, g], [g, w], [w, w], [w, g]]"
      ]
     },
     "execution_count": 10,
     "metadata": {},
     "output_type": "execute_result"
    }
   ],
   "source": [
    "u.stich_probe(5, l=ja)"
   ]
  },
  {
   "cell_type": "markdown",
   "metadata": {},
   "source": [
    "können Zähl-Statistiken erhalten werden:"
   ]
  },
  {
   "cell_type": "code",
   "execution_count": 11,
   "metadata": {
    "collapsed": true
   },
   "outputs": [],
   "source": [
    "n = 100000\n",
    "sp = u.stich_probe(n, l=ja)"
   ]
  },
  {
   "cell_type": "code",
   "execution_count": 12,
   "metadata": {
    "collapsed": false
   },
   "outputs": [
    {
     "data": {
      "text/latex": [
       "$$0.14921$$"
      ],
      "text/plain": [
       "0.14921"
      ]
     },
     "execution_count": 12,
     "metadata": {},
     "output_type": "execute_result"
    }
   ],
   "source": [
    "anzahl(sp, [r, g]) / n    # rel. Häufigkeit; anzahl - zufall-Funktion"
   ]
  },
  {
   "cell_type": "code",
   "execution_count": 13,
   "metadata": {
    "collapsed": false
   },
   "outputs": [
    {
     "data": {
      "text/latex": [
       "$$0.15$$"
      ],
      "text/plain": [
       "0.15"
      ]
     },
     "execution_count": 13,
     "metadata": {},
     "output_type": "execute_result"
    }
   ],
   "source": [
    " u.P('rg', d=4)           # theoretische Wahrscheinlichkeit"
   ]
  },
  {
   "cell_type": "markdown",
   "metadata": {},
   "source": [
    "Es sind auch eigene Python-Funktionen zu benutzen, z.B berechnet die folgende\n",
    "<br>Funktion die relative Häufigkeit aller Versuchsausgänge, die mindestens ein <i>w</i> \n",
    "<br>enthalten "
   ]
  },
  {
   "cell_type": "code",
   "execution_count": 14,
   "metadata": {
    "collapsed": false
   },
   "outputs": [],
   "source": [
    "def eig_fkt(liste):    # die Funktion erwartet eine Liste als Argument\n",
    "    anz = 0\n",
    "    for el in liste:\n",
    "        if w in el:\n",
    "            anz += 1\n",
    "    return anz / len(liste)    # len gibt die Länge der Liste zurück          "
   ]
  },
  {
   "cell_type": "code",
   "execution_count": 15,
   "metadata": {
    "collapsed": false
   },
   "outputs": [
    {
     "data": {
      "text/latex": [
       "$$0.36459$$"
      ],
      "text/plain": [
       "0.36459"
      ]
     },
     "execution_count": 15,
     "metadata": {},
     "output_type": "execute_result"
    }
   ],
   "source": [
    "eig_fkt(sp)   "
   ]
  },
  {
   "cell_type": "markdown",
   "metadata": {},
   "source": [
    "Die theoretische Wahrscheinlichkeit ist in diesem Fall"
   ]
  },
  {
   "cell_type": "code",
   "execution_count": 16,
   "metadata": {
    "collapsed": false
   },
   "outputs": [
    {
     "data": {
      "text/latex": [
       "$$0.36$$"
      ],
      "text/plain": [
       "0.36"
      ]
     },
     "execution_count": 16,
     "metadata": {},
     "output_type": "execute_result"
    }
   ],
   "source": [
    "u.P(['ww', 'wr', 'wg', 'rw', 'gw'], d=4)"
   ]
  },
  {
   "cell_type": "markdown",
   "metadata": {},
   "source": [
    "Die vorige Aufgabe läßt sich aus Python-Sicht eleganter und effektiver mit Hilfe\n",
    "<br>einer <i>list comprehension</i> lösen"
   ]
  },
  {
   "cell_type": "code",
   "execution_count": 17,
   "metadata": {
    "collapsed": false
   },
   "outputs": [
    {
     "data": {
      "text/latex": [
       "$$0.36459$$"
      ],
      "text/plain": [
       "0.36459"
      ]
     },
     "execution_count": 17,
     "metadata": {},
     "output_type": "execute_result"
    }
   ],
   "source": [
    "li = [ x for x in sp if w in x ]\n",
    "\n",
    "len(li) / len(sp)   "
   ]
  },
  {
   "cell_type": "markdown",
   "metadata": {},
   "source": [
    "<br>\n",
    "## 2. Binomialverteilung\n",
    "<br>"
   ]
  },
  {
   "cell_type": "code",
   "execution_count": 18,
   "metadata": {
    "collapsed": false
   },
   "outputs": [
    {
     "data": {
      "text/latex": [
       "$$BinomialVerteilung(12,2/5)$$"
      ],
      "text/plain": [
       "BinomialVerteilung(12,2/5)"
      ]
     },
     "execution_count": 18,
     "metadata": {},
     "output_type": "execute_result"
    }
   ],
   "source": [
    "bv = BV(12, 0.4)   # BV - BinomialVerteilung\n",
    "bv"
   ]
  },
  {
   "cell_type": "markdown",
   "metadata": {},
   "source": [
    "Erwartungswert, Varianz und Standardabweichung"
   ]
  },
  {
   "cell_type": "code",
   "execution_count": 19,
   "metadata": {
    "collapsed": false
   },
   "outputs": [
    {
     "data": {
      "text/latex": [
       "$$\\left ( \\frac{24}{5}, \\quad \\frac{72}{25}, \\quad \\frac{6 \\sqrt{2}}{5}\\right )$$"
      ],
      "text/plain": [
       "⎛      72  6⋅√2⎞\n",
       "⎜24/5, ──, ────⎟\n",
       "⎝      25   5  ⎠"
      ]
     },
     "execution_count": 19,
     "metadata": {},
     "output_type": "execute_result"
    }
   ],
   "source": [
    "bv.erw, bv.var, bv.sigma"
   ]
  },
  {
   "cell_type": "code",
   "execution_count": 20,
   "metadata": {
    "collapsed": false
   },
   "outputs": [
    {
     "data": {
      "text/latex": [
       "$$\\left ( 4.8, \\quad 2.88, \\quad 1.7\\right )$$"
      ],
      "text/plain": [
       "(4.8, 2.88, 1.7)"
      ]
     },
     "execution_count": 20,
     "metadata": {},
     "output_type": "execute_result"
    }
   ],
   "source": [
    "bv.Erw(d=2), bv.Var(d=2), bv.Sigma(d=2)"
   ]
  },
  {
   "cell_type": "markdown",
   "metadata": {},
   "source": [
    "Die Wahrscheinlichkeitsverteilung"
   ]
  },
  {
   "cell_type": "code",
   "execution_count": 21,
   "metadata": {
    "collapsed": false
   },
   "outputs": [
    {
     "data": {
      "text/latex": [
       "$$\\left \\{ 0 : \\frac{531441}{244140625}, \\quad 1 : \\frac{4251528}{244140625}, \\quad 2 : \\frac{15588936}{244140625}, \\quad 3 : \\frac{6928416}{48828125}, \\quad 4 : \\frac{10392624}{48828125}, \\quad 5 : \\frac{55427328}{244140625}, \\quad 6 : \\frac{43110144}{244140625}, \\quad 7 : \\frac{24634368}{244140625}, \\quad 8 : \\frac{2052864}{48828125}, \\quad 9 : \\frac{608256}{48828125}, \\quad 10 : \\frac{608256}{244140625}, \\quad 11 : \\frac{73728}{244140625}, \\quad 12 : \\frac{4096}{244140625}\\right \\}$$"
      ],
      "text/plain": [
       "⎧     531441       4251528       15588936     6928416      10392624      55427\n",
       "⎨0: ─────────, 1: ─────────, 2: ─────────, 3: ────────, 4: ────────, 5: ──────\n",
       "⎩   244140625     244140625     244140625     48828125     48828125     244140\n",
       "\n",
       "328      43110144      24634368     2052864       608256         608256       \n",
       "───, 6: ─────────, 7: ─────────, 8: ────────, 9: ────────, 10: ─────────, 11: \n",
       "625     244140625     244140625     48828125     48828125      244140625      \n",
       "\n",
       "  73728           4096  ⎫\n",
       "─────────, 12: ─────────⎬\n",
       "244140625      244140625⎭"
      ]
     },
     "execution_count": 21,
     "metadata": {},
     "output_type": "execute_result"
    }
   ],
   "source": [
    "bv.vert "
   ]
  },
  {
   "cell_type": "code",
   "execution_count": 22,
   "metadata": {
    "collapsed": false
   },
   "outputs": [
    {
     "data": {
      "text/latex": [
       "$$\\left \\{ 0 : 0.0022, \\quad 1 : 0.0174, \\quad 2 : 0.0639, \\quad 3 : 0.1419, \\quad 4 : 0.2128, \\quad 5 : 0.227, \\quad 6 : 0.1766, \\quad 7 : 0.1009, \\quad 8 : 0.042, \\quad 9 : 0.0125, \\quad 10 : 0.0025, \\quad 11 : 0.0003, \\quad 12 : 0.0\\right \\}$$"
      ],
      "text/plain": [
       "{0: 0.0022, 1: 0.0174, 2: 0.0639, 3: 0.1419, 4: 0.2128, 5: 0.227, 6: 0.1766, 7\n",
       ": 0.1009, 8: 0.042, 9: 0.0125, 10: 0.0025, 11: 0.0003, 12: 0.0}"
      ]
     },
     "execution_count": 22,
     "metadata": {},
     "output_type": "execute_result"
    }
   ],
   "source": [
    "bv.Vert(d=4)   # Dezimaldarstellung"
   ]
  },
  {
   "cell_type": "code",
   "execution_count": 23,
   "metadata": {
    "collapsed": false
   },
   "outputs": [
    {
     "data": {
      "text/latex": [
       "$$\\left \\{ 0 : 0.22, \\quad 1 : 1.74, \\quad 2 : 6.39, \\quad 3 : 14.19, \\quad 4 : 21.28, \\quad 5 : 22.7, \\quad 6 : 17.66, \\quad 7 : 10.09, \\quad 8 : 4.2, \\quad 9 : 1.25, \\quad 10 : 0.25, \\quad 11 : 0.03, \\quad 12 : 0.0\\right \\}$$"
      ],
      "text/plain": [
       "{0: 0.22, 1: 1.74, 2: 6.39, 3: 14.19, 4: 21.28, 5: 22.7, 6: 17.66, 7: 10.09, 8\n",
       ": 4.2, 9: 1.25, 10: 0.25, 11: 0.03, 12: 0.0}"
      ]
     },
     "execution_count": 23,
     "metadata": {},
     "output_type": "execute_result"
    }
   ],
   "source": [
    "bv.Vert(p=ja)   # Prozentwerte"
   ]
  },
  {
   "cell_type": "markdown",
   "metadata": {},
   "source": [
    "Das Histogramm und das Histogramm der kumulierten Wahrscheinlichkeiten"
   ]
  },
  {
   "cell_type": "code",
   "execution_count": 24,
   "metadata": {
    "collapsed": false
   },
   "outputs": [
    {
     "name": "stdout",
     "output_type": "stream",
     "text": [
      " \n"
     ]
    },
    {
     "data": {
      "image/png": "[encoded data removed]",
      "text/plain": [
       "<matplotlib.figure.Figure at 0xccfad50>"
      ]
     },
     "metadata": {},
     "output_type": "display_data"
    }
   ],
   "source": [
    "bv.hist"
   ]
  },
  {
   "cell_type": "code",
   "execution_count": 25,
   "metadata": {
    "collapsed": false
   },
   "outputs": [
    {
     "name": "stdout",
     "output_type": "stream",
     "text": [
      " \n"
     ]
    },
    {
     "data": {
      "image/png": "[encoded data removed]",
      "text/plain": [
       "<matplotlib.figure.Figure at 0xcc9aa70>"
      ]
     },
     "metadata": {},
     "output_type": "display_data"
    }
   ],
   "source": [
    "bv.hist_kum"
   ]
  },
  {
   "cell_type": "markdown",
   "metadata": {},
   "source": [
    "Wahrscheinlichkeiten können so"
   ]
  },
  {
   "cell_type": "code",
   "execution_count": 26,
   "metadata": {
    "collapsed": false
   },
   "outputs": [
    {
     "data": {
      "text/latex": [
       "$$\\frac{55427328}{244140625}$$"
      ],
      "text/plain": [
       " 55427328\n",
       "─────────\n",
       "244140625"
      ]
     },
     "execution_count": 26,
     "metadata": {},
     "output_type": "execute_result"
    }
   ],
   "source": [
    "bv.P(5)  # Auftreten einer 5   "
   ]
  },
  {
   "cell_type": "code",
   "execution_count": 27,
   "metadata": {
    "collapsed": false
   },
   "outputs": [
    {
     "data": {
      "text/latex": [
       "$$0.4533$$"
      ],
      "text/plain": [
       "0.4533"
      ]
     },
     "execution_count": 27,
     "metadata": {},
     "output_type": "execute_result"
    }
   ],
   "source": [
    "bv.P([2, 4, 6], d=4)   # Auftreten einer 2, 4 oder 6"
   ]
  },
  {
   "cell_type": "markdown",
   "metadata": {},
   "source": [
    " oder auch mit einer Notation, die der üblichen sehr nahe kommt, berechnet werden"
   ]
  },
  {
   "cell_type": "code",
   "execution_count": 28,
   "metadata": {
    "collapsed": false
   },
   "outputs": [
    {
     "data": {
      "text/latex": [
       "$$\\frac{55427328}{244140625}$$"
      ],
      "text/plain": [
       " 55427328\n",
       "─────────\n",
       "244140625"
      ]
     },
     "execution_count": 28,
     "metadata": {},
     "output_type": "execute_result"
    }
   ],
   "source": [
    "bv.P(X=5)"
   ]
  },
  {
   "cell_type": "code",
   "execution_count": 29,
   "metadata": {
    "collapsed": false
   },
   "outputs": [
    {
     "data": {
      "text/latex": [
       "$$\\frac{48082653}{48828125}$$"
      ],
      "text/plain": [
       "48082653\n",
       "────────\n",
       "48828125"
      ]
     },
     "execution_count": 29,
     "metadata": {},
     "output_type": "execute_result"
    }
   ],
   "source": [
    "bv.P(X <= 8) "
   ]
  },
  {
   "cell_type": "code",
   "execution_count": 30,
   "metadata": {
    "collapsed": true
   },
   "outputs": [],
   "source": [
    "P = bv.P   # das ist lediglich eine temporäre Umbenennung der Methode"
   ]
  },
  {
   "cell_type": "code",
   "execution_count": 31,
   "metadata": {
    "collapsed": false
   },
   "outputs": [
    {
     "data": {
      "text/latex": [
       "$$\\frac{48082653}{48828125}$$"
      ],
      "text/plain": [
       "48082653\n",
       "────────\n",
       "48828125"
      ]
     },
     "execution_count": 31,
     "metadata": {},
     "output_type": "execute_result"
    }
   ],
   "source": [
    "P(X <= 8)"
   ]
  },
  {
   "cell_type": "code",
   "execution_count": 32,
   "metadata": {
    "collapsed": false
   },
   "outputs": [
    {
     "data": {
      "text/latex": [
       "$$0.9847$$"
      ],
      "text/plain": [
       "0.9847"
      ]
     },
     "execution_count": 32,
     "metadata": {},
     "output_type": "execute_result"
    }
   ],
   "source": [
    "P(X <= 8, d=4)"
   ]
  },
  {
   "cell_type": "code",
   "execution_count": 33,
   "metadata": {
    "collapsed": false
   },
   "outputs": [
    {
     "data": {
      "text/latex": [
       "$$\\left ( \\frac{150500592}{244140625}, \\quad 0.6165\\right )$$"
      ],
      "text/plain": [
       "⎛150500592        ⎞\n",
       "⎜─────────, 0.6165⎟\n",
       "⎝244140625        ⎠"
      ]
     },
     "execution_count": 33,
     "metadata": {},
     "output_type": "execute_result"
    }
   ],
   "source": [
    "P('3 < X <= 6'), P('3 < X <= 6', d=4)"
   ]
  },
  {
   "cell_type": "code",
   "execution_count": 34,
   "metadata": {
    "collapsed": false
   },
   "outputs": [
    {
     "name": "stdout",
     "output_type": "stream",
     "text": [
      " \n"
     ]
    },
    {
     "data": {
      "image/png": "[encoded data removed]",
      "text/plain": [
       "<matplotlib.figure.Figure at 0xd14a2f0>"
      ]
     },
     "metadata": {},
     "output_type": "display_data"
    }
   ],
   "source": [
    "P('3 < X <= 6', g=ja)"
   ]
  },
  {
   "cell_type": "markdown",
   "metadata": {},
   "source": [
    "Es sind Versuche und Stichproben beliebigen Umfangs möglich"
   ]
  },
  {
   "cell_type": "code",
   "execution_count": 35,
   "metadata": {
    "collapsed": false
   },
   "outputs": [
    {
     "data": {
      "text/latex": [
       "$$5$$"
      ],
      "text/plain": [
       "5"
      ]
     },
     "execution_count": 35,
     "metadata": {},
     "output_type": "execute_result"
    }
   ],
   "source": [
    "bv.versuch"
   ]
  },
  {
   "cell_type": "code",
   "execution_count": 36,
   "metadata": {
    "collapsed": false
   },
   "outputs": [
    {
     "data": {
      "text/latex": [
       "$$\\left [ 4, \\quad 5, \\quad 7, \\quad 6, \\quad 4, \\quad 5, \\quad 6, \\quad 6, \\quad 5, \\quad 5\\right ]$$"
      ],
      "text/plain": [
       "[4, 5, 7, 6, 4, 5, 6, 6, 5, 5]"
      ]
     },
     "execution_count": 36,
     "metadata": {},
     "output_type": "execute_result"
    }
   ],
   "source": [
    "sp = bv.stich_probe(50000)   # eine liste mit 50000 Elementen\n",
    "sp[:10]                      # die ersten 10 Elemente"
   ]
  },
  {
   "cell_type": "markdown",
   "metadata": {},
   "source": [
    "Durch die Rückgabe einer DatenReihe mit den Werten der Stichprobe"
   ]
  },
  {
   "cell_type": "code",
   "execution_count": 37,
   "metadata": {
    "collapsed": false
   },
   "outputs": [
    {
     "name": "stdout",
     "output_type": "stream",
     "text": [
      "Rückgabe einer DatenReihe\n"
     ]
    }
   ],
   "source": [
    "dr = bv.stich_probe(50000, d=1)   "
   ]
  },
  {
   "cell_type": "markdown",
   "metadata": {
    "collapsed": false
   },
   "source": [
    "kann ein Vergleich der Wahrscheinlichkeiten der Binomialverteilung und der relativen \n",
    "<br> Häufigkeiten in der Stichprobe erhalten werden; das kann beliebig oft wiederholt \n",
    "<br>werden, indem die Stichprobe neu gezogen wird (durch erneutes Ausführen der obigen \n",
    "<br>Zelle, eventuell auch mit anderem Umfang) und die nachfolgenden Zellen erneut<br>berechnet werden\n",
    "<br><br>\n",
    "Hier der Vergleich zwischen der theoretischen Verteilung und der Stichprobe:"
   ]
  },
  {
   "cell_type": "code",
   "execution_count": 38,
   "metadata": {
    "collapsed": false
   },
   "outputs": [
    {
     "data": {
      "text/latex": [
       "$$\\left ( 4.8, \\quad 4.8041\\right )$$"
      ],
      "text/plain": [
       "(4.8, 4.8041)"
      ]
     },
     "execution_count": 38,
     "metadata": {},
     "output_type": "execute_result"
    }
   ],
   "source": [
    "bv.Erw(d=4), dr.Mittel(d=4)"
   ]
  },
  {
   "cell_type": "code",
   "execution_count": 39,
   "metadata": {
    "collapsed": false
   },
   "outputs": [
    {
     "data": {
      "text/latex": [
       "$$\\left ( 1.6971, \\quad 1.6955\\right )$$"
      ],
      "text/plain": [
       "(1.6971, 1.6955)"
      ]
     },
     "execution_count": 39,
     "metadata": {},
     "output_type": "execute_result"
    }
   ],
   "source": [
    "bv.Sigma(d=4), dr.S(d=4)   # für den zweiten Wert braucht der Computer \n",
    "                           # etwas länger"
   ]
  },
  {
   "cell_type": "code",
   "execution_count": 40,
   "metadata": {
    "collapsed": false
   },
   "outputs": [
    {
     "name": "stdout",
     "output_type": "stream",
     "text": [
      " \n"
     ]
    },
    {
     "data": {
      "image/png": "[encoded data removed]",
      "text/plain": [
       "<matplotlib.figure.Figure at 0xd33b530>"
      ]
     },
     "metadata": {},
     "output_type": "display_data"
    }
   ],
   "source": [
    "bv.Hist(dr)"
   ]
  },
  {
   "cell_type": "markdown",
   "metadata": {},
   "source": [
    "Für ein Ereignis kann veranschaulicht werden, wie sich die relativen \n",
    "<br> Häufigkeiten stabilisieren"
   ]
  },
  {
   "cell_type": "code",
   "execution_count": 41,
   "metadata": {
    "collapsed": false
   },
   "outputs": [
    {
     "data": {
      "text/latex": [
       "$$0.5045$$"
      ],
      "text/plain": [
       "0.5045"
      ]
     },
     "execution_count": 41,
     "metadata": {},
     "output_type": "execute_result"
    }
   ],
   "source": [
    "e = [5, 6, 7]   # Ereignis \"5 oder 6 oder 7\"\n",
    "\n",
    "bv.P(e, d=4)\n"
   ]
  },
  {
   "cell_type": "code",
   "execution_count": 42,
   "metadata": {
    "collapsed": false
   },
   "outputs": [
    {
     "name": "stdout",
     "output_type": "stream",
     "text": [
      " \n",
      "Stabilisierung der relativen Häufigkeiten eines Ereignisses\n",
      "\n",
      "Es werden die relativen Häufigkeiten eines Ereignisses bei wachsender Ver-\n",
      "suchsanzahl dargestellt\n",
      "\n",
      "grüne Linie: theoretische Wahrscheinlichkeit des Ereignisses\n",
      " \n"
     ]
    },
    {
     "data": {
      "image/png": "[encoded data removed]",
      "text/plain": [
       "<matplotlib.figure.Figure at 0xcabc4f0>"
      ]
     },
     "metadata": {},
     "output_type": "display_data"
    }
   ],
   "source": [
    "bv.relh2p(e, 30000)   # mehrfach ausführen, auch mit anderem e  \n",
    "                      # und/oder anderem Stichprobenumfang"
   ]
  },
  {
   "cell_type": "markdown",
   "metadata": {},
   "source": [
    "<br>\n",
    "## 3. Bedingte Wahrscheinlichkeiten"
   ]
  },
  {
   "cell_type": "markdown",
   "metadata": {},
   "source": [
    "<br>\n",
    "In einer Lostrommel sind 80% der Lose Nieten, 40% der Lose sind rot gefärbt und<br>\n",
    "5% sind rot gefärbt und keine Nieten\n",
    "\n",
    "Die zugehörige Vier-Felder-Tafel ist"
   ]
  },
  {
   "cell_type": "code",
   "execution_count": 43,
   "metadata": {
    "collapsed": false
   },
   "outputs": [
    {
     "data": {
      "image/png": "[encoded data removed]",
      "text/plain": [
       "<matplotlib.figure.Figure at 0xe6a3a50>"
      ]
     },
     "metadata": {},
     "output_type": "display_data"
    },
    {
     "name": "stdout",
     "output_type": "stream",
     "text": [
      " \n"
     ]
    }
   ],
   "source": [
    "vt = VT([35, 45, 5, 15], ['Rot', 'nichtRot', 'Niete', 'keineNiete'])\n",
    "vt.ausg"
   ]
  },
  {
   "cell_type": "markdown",
   "metadata": {},
   "source": [
    "Sie kann auch nur mit den gegebenen Werten erzeugt werden"
   ]
  },
  {
   "cell_type": "code",
   "execution_count": 44,
   "metadata": {
    "collapsed": false
   },
   "outputs": [
    {
     "name": "stdout",
     "output_type": "stream",
     "text": [
      "Die Tafel wird automatisch vervollständigt\n"
     ]
    },
    {
     "data": {
      "image/png": "[encoded data removed]",
      "text/plain": [
       "<matplotlib.figure.Figure at 0xca6f5f0>"
      ]
     },
     "metadata": {},
     "output_type": "display_data"
    },
    {
     "name": "stdout",
     "output_type": "stream",
     "text": [
      " \n"
     ]
    }
   ],
   "source": [
    "vt = VT([x, x, 80, 5, x, x, 40, x, 100], ['Rot', 'nichtRot', 'Niete', 'keineNiete'])\n",
    "vt.ausg"
   ]
  },
  {
   "cell_type": "markdown",
   "metadata": {},
   "source": [
    "Die Wahrscheinlichkeiten (einschließlich der bedingten), die sich anhand der Tafel\n",
    "<br>berechnen lassen, sind folgende"
   ]
  },
  {
   "cell_type": "code",
   "execution_count": 45,
   "metadata": {
    "collapsed": false
   },
   "outputs": [
    {
     "name": "stdout",
     "output_type": "stream",
     "text": [
      " \n"
     ]
    },
    {
     "data": {
      "text/latex": [
       "$$\\text{Vorliegende Vierfeldertafel}$$"
      ],
      "text/plain": [
       "<IPython.core.display.Math object>"
      ]
     },
     "metadata": {},
     "output_type": "display_data"
    },
    {
     "data": {
      "image/png": "[encoded data removed]",
      "text/plain": [
       "<matplotlib.figure.Figure at 0xeb0b8d0>"
      ]
     },
     "metadata": {},
     "output_type": "display_data"
    },
    {
     "name": "stdout",
     "output_type": "stream",
     "text": [
      " \n"
     ]
    },
    {
     "data": {
      "text/latex": [
       "$$\\text{In der Tafel enthaltene Wahrscheinlichkeiten}$$"
      ],
      "text/plain": [
       "<IPython.core.display.Math object>"
      ]
     },
     "metadata": {},
     "output_type": "display_data"
    },
    {
     "data": {
      "text/latex": [
       "$$\\qquad P(Rot \\cap Niete) = \\frac{35}{100}=\\frac{7}{20}=0.35\\qquad P(nichtRot \\cap Niete) = \\frac{45}{100}=\\frac{9}{20}=0.45 \\qquad $$"
      ],
      "text/plain": [
       "<IPython.core.display.Math object>"
      ]
     },
     "metadata": {},
     "output_type": "display_data"
    },
    {
     "data": {
      "text/latex": [
       "$$\\qquad\\qquad\\qquad P(Niete)= \\frac{80}{100}=0.8\\qquad P(keineNiete)= \\frac{20}{100}=\\frac{1}{5}=0.2$$"
      ],
      "text/plain": [
       "<IPython.core.display.Math object>"
      ]
     },
     "metadata": {},
     "output_type": "display_data"
    },
    {
     "data": {
      "text/latex": [
       "$$\\qquad P(Rot \\cap keineNiete) = \\frac{5}{100}=0.05\\qquad P(nichtRot \\cap keineNiete) = \\frac{15}{100}=\\frac{3}{20}=0.15 \\qquad $$"
      ],
      "text/plain": [
       "<IPython.core.display.Math object>"
      ]
     },
     "metadata": {},
     "output_type": "display_data"
    },
    {
     "data": {
      "text/latex": [
       "$$\\qquad\\qquad\\qquad P(Rot) = \\frac{40}{100}=0.4\\qquad P(nichtRot) = \\frac{60}{100}=\\frac{3}{5}=0.6$$"
      ],
      "text/plain": [
       "<IPython.core.display.Math object>"
      ]
     },
     "metadata": {},
     "output_type": "display_data"
    },
    {
     "data": {
      "text/latex": [
       "$$\\text{Bedingte Wahrscheinlichkeiten  (Verwendung der Bayes-Formel)}$$"
      ],
      "text/plain": [
       "<IPython.core.display.Math object>"
      ]
     },
     "metadata": {},
     "output_type": "display_data"
    },
    {
     "data": {
      "text/latex": [
       "$$\\qquad P(Rot\\,|\\,Niete) = \\frac{P(Rot \\cap Niete)}{P(Niete)} = \\frac{35}{80} = 0.4375$$"
      ],
      "text/plain": [
       "<IPython.core.display.Math object>"
      ]
     },
     "metadata": {},
     "output_type": "display_data"
    },
    {
     "data": {
      "text/latex": [
       "$$\\qquad P(Rot\\,|\\,keineNiete) = \\frac{P(Rot \\cap keineNiete)}{P(keineNiete)} = \\frac{5}{20} = 0.25$$"
      ],
      "text/plain": [
       "<IPython.core.display.Math object>"
      ]
     },
     "metadata": {},
     "output_type": "display_data"
    },
    {
     "data": {
      "text/latex": [
       "$$\\qquad P(Niete\\,|\\,Rot) = \\frac{P(Niete \\cap Rot)}{P(Rot)} = \\frac{35}{40} = 0.875$$"
      ],
      "text/plain": [
       "<IPython.core.display.Math object>"
      ]
     },
     "metadata": {},
     "output_type": "display_data"
    },
    {
     "data": {
      "text/latex": [
       "$$\\qquad P(Niete\\,|\\,nichtRot) = \\frac{P(Niete \\cap nichtRot)}{P(nichtRot)} = \\frac{45}{60} = 0.75$$"
      ],
      "text/plain": [
       "<IPython.core.display.Math object>"
      ]
     },
     "metadata": {},
     "output_type": "display_data"
    },
    {
     "data": {
      "text/latex": [
       "$$\\qquad P(nichtRot\\,|\\,Niete) = \\frac{P(nichtRot \\cap Niete)}{P(Niete)} = \\frac{45}{80} = 0.5625$$"
      ],
      "text/plain": [
       "<IPython.core.display.Math object>"
      ]
     },
     "metadata": {},
     "output_type": "display_data"
    },
    {
     "data": {
      "text/latex": [
       "$$\\qquad P(nichtRot\\,|\\,keineNiete) = \\frac{P(nichtRot \\cap keineNiete)}{P(keineNiete)} = \\frac{15}{20} = 0.75$$"
      ],
      "text/plain": [
       "<IPython.core.display.Math object>"
      ]
     },
     "metadata": {},
     "output_type": "display_data"
    },
    {
     "data": {
      "text/latex": [
       "$$\\qquad P(keineNiete\\,|\\,Rot) = \\frac{P(keineNiete \\cap Rot)}{P(Rot)} = \\frac{5}{40} = 0.125$$"
      ],
      "text/plain": [
       "<IPython.core.display.Math object>"
      ]
     },
     "metadata": {},
     "output_type": "display_data"
    },
    {
     "data": {
      "text/latex": [
       "$$\\qquad P(keineNiete\\,|\\,nichtRot) = \\frac{P(keineNiete \\cap nichtRot)}{P(nichtRot)} = \\frac{15}{60} = 0.25$$"
      ],
      "text/plain": [
       "<IPython.core.display.Math object>"
      ]
     },
     "metadata": {},
     "output_type": "display_data"
    },
    {
     "data": {
      "text/latex": [
       "$$\\mathrm{siehe\\; auch} \\quad vt.hb.wahrsch$$"
      ],
      "text/plain": [
       "<IPython.core.display.Math object>"
      ]
     },
     "metadata": {},
     "output_type": "display_data"
    },
    {
     "name": "stdout",
     "output_type": "stream",
     "text": [
      " \n"
     ]
    }
   ],
   "source": [
    "vt.wahrsch"
   ]
  },
  {
   "cell_type": "markdown",
   "metadata": {},
   "source": [
    "Gerd Grigerenzer kommt in seinerm Buch <i>Einmaleins der Skepsis</i> zu dem Schluss, \n",
    "<br>dass für den Umgang mit bedingten Wahrscheinlichkeiten von den relativen Zahlen in \n",
    "<br>einer Vier-Felder-Tafel zu den natürlichen (absoluten) Häufigkeiten in einem \n",
    "<br>entsprechenden Baum der natürlichen Häufigkeiten übergegangen werden sollte"
   ]
  },
  {
   "cell_type": "code",
   "execution_count": 46,
   "metadata": {
    "collapsed": false
   },
   "outputs": [
    {
     "name": "stdout",
     "output_type": "stream",
     "text": [
      "Umrechnen auf 1000\n",
      "bei Notwendigkeit Runden, deshalb kleine Differenzen möglich\n"
     ]
    }
   ],
   "source": [
    "hb = vt.hb_(1000)    # Häufigkeitsbaum, welcher der Vierfeldertafel \n",
    "                     # entspricht; auf 1000 umgerechnet"
   ]
  },
  {
   "cell_type": "code",
   "execution_count": 47,
   "metadata": {
    "collapsed": false
   },
   "outputs": [
    {
     "data": {
      "image/png": "[encoded data removed]",
      "text/plain": [
       "<matplotlib.figure.Figure at 0xeb0b0b0>"
      ]
     },
     "metadata": {},
     "output_type": "display_data"
    },
    {
     "name": "stdout",
     "output_type": "stream",
     "text": [
      " \n"
     ]
    }
   ],
   "source": [
    "hb.ausg   "
   ]
  },
  {
   "cell_type": "code",
   "execution_count": 48,
   "metadata": {
    "collapsed": false
   },
   "outputs": [
    {
     "name": "stdout",
     "output_type": "stream",
     "text": [
      " \n"
     ]
    },
    {
     "data": {
      "text/latex": [
       "$$\\mathrm{Vorliegendes\\; Baumdiagramm:}$$"
      ],
      "text/plain": [
       "<IPython.core.display.Math object>"
      ]
     },
     "metadata": {},
     "output_type": "display_data"
    },
    {
     "data": {
      "image/png": "[encoded data removed]",
      "text/plain": [
       "<matplotlib.figure.Figure at 0xd2a6e90>"
      ]
     },
     "metadata": {},
     "output_type": "display_data"
    },
    {
     "name": "stdout",
     "output_type": "stream",
     "text": [
      " \n"
     ]
    },
    {
     "data": {
      "text/latex": [
       "$$\\mathrm{Gegeben:}$$"
      ],
      "text/plain": [
       "<IPython.core.display.Math object>"
      ]
     },
     "metadata": {},
     "output_type": "display_data"
    },
    {
     "data": {
      "text/latex": [
       "$$\\qquad P(Niete)= \\frac{800}{1000}= 0.8000= 80.00\\%$$"
      ],
      "text/plain": [
       "<IPython.core.display.Math object>"
      ]
     },
     "metadata": {},
     "output_type": "display_data"
    },
    {
     "data": {
      "text/latex": [
       "$$\\qquad P(Rot\\,|\\,Niete)= \\frac{350}{800}= 0.4375= 43.75\\%$$"
      ],
      "text/plain": [
       "<IPython.core.display.Math object>"
      ]
     },
     "metadata": {},
     "output_type": "display_data"
    },
    {
     "data": {
      "text/latex": [
       "$$\\qquad P(Rot\\,|\\,keineNiete)= \\frac{50}{200}= 0.2500= 25.00\\%$$"
      ],
      "text/plain": [
       "<IPython.core.display.Math object>"
      ]
     },
     "metadata": {},
     "output_type": "display_data"
    },
    {
     "data": {
      "text/latex": [
       "$$\\mathrm{Berechnung\\; nach\\; der\\; Bayes-Formel\\; für\\; natürliche\\; Häufigkeiten:}$$"
      ],
      "text/plain": [
       "<IPython.core.display.Math object>"
      ]
     },
     "metadata": {},
     "output_type": "display_data"
    },
    {
     "data": {
      "text/latex": [
       "$$\\qquad P(Niete\\,|\\,Rot)= \\frac{a}{a+b}$$"
      ],
      "text/plain": [
       "<IPython.core.display.Math object>"
      ]
     },
     "metadata": {},
     "output_type": "display_data"
    },
    {
     "data": {
      "text/latex": [
       "$$\\qquad\\qquad a - \\mathrm{Anzahl\\;}\\mathrm{\\;mit\\;}Niete\\mathrm{\\;und\\;}Rot$$"
      ],
      "text/plain": [
       "<IPython.core.display.Math object>"
      ]
     },
     "metadata": {},
     "output_type": "display_data"
    },
    {
     "data": {
      "text/latex": [
       "$$\\qquad\\qquad b - \\mathrm{Anzahl\\;}\\mathrm{\\;mit\\;}keineNiete\\mathrm{\\;und\\;}Rot$$"
      ],
      "text/plain": [
       "<IPython.core.display.Math object>"
      ]
     },
     "metadata": {},
     "output_type": "display_data"
    },
    {
     "data": {
      "text/latex": [
       "$$\\qquad P(Niete\\,|\\,Rot) = \\frac{350}{350+50}= \\frac{350}{400}= 0.8750= 87.50\\%=7\\mathrm{\\, von\\, }8$$"
      ],
      "text/plain": [
       "<IPython.core.display.Math object>"
      ]
     },
     "metadata": {},
     "output_type": "display_data"
    },
    {
     "data": {
      "text/latex": [
       "$$\\mathrm{analog:}$$"
      ],
      "text/plain": [
       "<IPython.core.display.Math object>"
      ]
     },
     "metadata": {},
     "output_type": "display_data"
    },
    {
     "data": {
      "text/latex": [
       "$$\\qquad P(Niete\\,|\\,nichtRot) = \\frac{450}{450+150}= \\frac{450}{600}= 0.7500= 75.00\\%=3\\mathrm{\\, von\\, }4$$"
      ],
      "text/plain": [
       "<IPython.core.display.Math object>"
      ]
     },
     "metadata": {},
     "output_type": "display_data"
    },
    {
     "data": {
      "text/latex": [
       "$$\\qquad P(keineNiete\\,|\\,Rot) = \\frac{50}{350+50}= \\frac{50}{400}= 0.1250= 12.50\\%=1\\mathrm{\\, von\\, }8$$"
      ],
      "text/plain": [
       "<IPython.core.display.Math object>"
      ]
     },
     "metadata": {},
     "output_type": "display_data"
    },
    {
     "data": {
      "text/latex": [
       "$$\\qquad P(keineNiete\\,|\\,nichtRot) = \\frac{150}{450+150}= \\frac{150}{600}= 0.2500= 25.00\\%=1\\mathrm{\\, von\\, }4$$"
      ],
      "text/plain": [
       "<IPython.core.display.Math object>"
      ]
     },
     "metadata": {},
     "output_type": "display_data"
    },
    {
     "data": {
      "text/latex": [
       "$$\\mathrm{Die\\; Wahrscheinlichkeiten}\\;\\; P(keineNiete),\\;P(nichtRot\\,|\\,Niete),P(nichtRot\\,|\\,keineNiete)$$"
      ],
      "text/plain": [
       "<IPython.core.display.Math object>"
      ]
     },
     "metadata": {},
     "output_type": "display_data"
    },
    {
     "data": {
      "text/latex": [
       "$$\\mathrm{werden\\; analog\\; berechnet,}$$"
      ],
      "text/plain": [
       "<IPython.core.display.Math object>"
      ]
     },
     "metadata": {},
     "output_type": "display_data"
    },
    {
     "data": {
      "text/latex": [
       "$$P(Rot) =\\frac{350+50}{1000}= 0.4000= 40.00\\%$$"
      ],
      "text/plain": [
       "<IPython.core.display.Math object>"
      ]
     },
     "metadata": {},
     "output_type": "display_data"
    },
    {
     "data": {
      "text/latex": [
       "$$P(nichtRot) =\\frac{450+150}{1000}= 0.6000= 60.00\\%$$"
      ],
      "text/plain": [
       "<IPython.core.display.Math object>"
      ]
     },
     "metadata": {},
     "output_type": "display_data"
    },
    {
     "name": "stdout",
     "output_type": "stream",
     "text": [
      " \n"
     ]
    }
   ],
   "source": [
    "hb.wahrsch"
   ]
  },
  {
   "cell_type": "markdown",
   "metadata": {},
   "source": [
    "## 4. Statistische Berechnungen\n",
    "<br>\n",
    "Eine weitere Datenreihe auf der Grundlage einer Binomialverteilung"
   ]
  },
  {
   "cell_type": "code",
   "execution_count": 49,
   "metadata": {
    "collapsed": false
   },
   "outputs": [
    {
     "name": "stdout",
     "output_type": "stream",
     "text": [
      "Rückgabe einer DatenReihe\n"
     ]
    }
   ],
   "source": [
    "bv = BV(15, 0.2)   # andere Binomialverteilung\n",
    "dr1 = bv.stich_probe(30000, d=1)"
   ]
  },
  {
   "cell_type": "code",
   "execution_count": 50,
   "metadata": {
    "collapsed": false
   },
   "outputs": [
    {
     "data": {
      "text/latex": [
       "$$\\left ( 30000, \\quad \\left [ 1, \\quad 3, \\quad 1, \\quad 5, \\quad 3, \\quad 1, \\quad 1, \\quad 2, \\quad 4, \\quad 3\\right ]\\right )$$"
      ],
      "text/plain": [
       "(30000, [1, 3, 1, 5, 3, 1, 1, 2, 4, 3])"
      ]
     },
     "execution_count": 50,
     "metadata": {},
     "output_type": "execute_result"
    }
   ],
   "source": [
    "dr1.n, dr1.daten[:10]   # Umfang und die ersten 10 Werte"
   ]
  },
  {
   "cell_type": "code",
   "execution_count": 51,
   "metadata": {
    "collapsed": false
   },
   "outputs": [
    {
     "data": {
      "text/latex": [
       "$$0.101$$"
      ],
      "text/plain": [
       "0.101"
      ]
     },
     "execution_count": 51,
     "metadata": {},
     "output_type": "execute_result"
    }
   ],
   "source": [
    "dr1.hh(5, d=3)   # relative Häufigkeit für k=5"
   ]
  },
  {
   "cell_type": "code",
   "execution_count": 52,
   "metadata": {
    "collapsed": false
   },
   "outputs": [
    {
     "data": {
      "text/latex": [
       "$$2.986$$"
      ],
      "text/plain": [
       "2.986"
      ]
     },
     "execution_count": 52,
     "metadata": {},
     "output_type": "execute_result"
    }
   ],
   "source": [
    "dr1.Mittel(d=3)   # Mittelwert"
   ]
  },
  {
   "cell_type": "code",
   "execution_count": 53,
   "metadata": {
    "collapsed": false
   },
   "outputs": [
    {
     "data": {
      "text/plain": [
       "11"
      ]
     },
     "execution_count": 53,
     "metadata": {},
     "output_type": "execute_result"
    }
   ],
   "source": [
    "dr1.spann_weite   # Spannweite"
   ]
  },
  {
   "cell_type": "code",
   "execution_count": 54,
   "metadata": {
    "collapsed": false
   },
   "outputs": [
    {
     "data": {
      "text/latex": [
       "$$\\left ( \\left [ 3\\right ], \\quad 7587\\right )$$"
      ],
      "text/plain": [
       "([3], 7587)"
      ]
     },
     "execution_count": 54,
     "metadata": {},
     "output_type": "execute_result"
    }
   ],
   "source": [
    "dr1.modal   # Modalwert und absolute Häufigkeit"
   ]
  },
  {
   "cell_type": "code",
   "execution_count": 55,
   "metadata": {
    "collapsed": false
   },
   "outputs": [
    {
     "data": {
      "text/latex": [
       "$$\\left ( \\left [ 3\\right ], \\quad 0.2529\\right )$$"
      ],
      "text/plain": [
       "([3], 0.2529)"
      ]
     },
     "execution_count": 55,
     "metadata": {},
     "output_type": "execute_result"
    }
   ],
   "source": [
    "dr1.Modal(rd=ja)   # ebenso, relative Häufigkeit"
   ]
  },
  {
   "cell_type": "code",
   "execution_count": 56,
   "metadata": {
    "collapsed": false
   },
   "outputs": [
    {
     "name": "stdout",
     "output_type": "stream",
     "text": [
      " \n"
     ]
    },
    {
     "data": {
      "image/png": "[encoded data removed]",
      "text/plain": [
       "<matplotlib.figure.Figure at 0xd4920d0>"
      ]
     },
     "metadata": {},
     "output_type": "display_data"
    }
   ],
   "source": [
    "dr1.poly_zug"
   ]
  },
  {
   "cell_type": "code",
   "execution_count": 57,
   "metadata": {
    "collapsed": false
   },
   "outputs": [
    {
     "name": "stdout",
     "output_type": "stream",
     "text": [
      " \n"
     ]
    },
    {
     "data": {
      "image/png": "[encoded data removed]",
      "text/plain": [
       "<matplotlib.figure.Figure at 0xd4edd30>"
      ]
     },
     "metadata": {},
     "output_type": "display_data"
    }
   ],
   "source": [
    "dr1.hist"
   ]
  },
  {
   "cell_type": "markdown",
   "metadata": {},
   "source": [
    "Die Verteilung der relativen Häufigkeiten, in Prozent"
   ]
  },
  {
   "cell_type": "code",
   "execution_count": 58,
   "metadata": {
    "collapsed": false
   },
   "outputs": [
    {
     "data": {
      "text/latex": [
       "$$\\left \\{ 0 : 3.63, \\quad 1 : 13.44, \\quad 2 : 22.77, \\quad 3 : 25.29, \\quad 4 : 18.76, \\quad 5 : 10.14, \\quad 6 : 4.3, \\quad 7 : 1.25, \\quad 8 : 0.34, \\quad 9 : 0.07, \\quad 10 : 0.01, \\quad 11 : 0.0\\right \\}$$"
      ],
      "text/plain": [
       "{0: 3.63, 1: 13.44, 2: 22.77, 3: 25.29, 4: 18.76, 5: 10.14, 6: 4.3, 7: 1.25, 8\n",
       ": 0.34, 9: 0.07, 10: 0.01, 11: 0.0}"
      ]
     },
     "execution_count": 58,
     "metadata": {},
     "output_type": "execute_result"
    }
   ],
   "source": [
    "dr1.Vert(p=ja)"
   ]
  },
  {
   "cell_type": "markdown",
   "metadata": {},
   "source": [
    "Eine Datenreihe auf der Grundlage einer Normalverteilung"
   ]
  },
  {
   "cell_type": "code",
   "execution_count": 59,
   "metadata": {
    "collapsed": false
   },
   "outputs": [
    {
     "name": "stdout",
     "output_type": "stream",
     "text": [
      "Rückgabe einer DatenReihe\n"
     ]
    }
   ],
   "source": [
    "nv = NormalVerteilung(3, 1)   \n",
    "dr2 = nv.stich_probe(50000, d=1)"
   ]
  },
  {
   "cell_type": "code",
   "execution_count": 60,
   "metadata": {
    "collapsed": false
   },
   "outputs": [
    {
     "name": "stdout",
     "output_type": "stream",
     "text": [
      " \n"
     ]
    },
    {
     "data": {
      "image/png": "[encoded data removed]",
      "text/plain": [
       "<matplotlib.figure.Figure at 0xee09ff0>"
      ]
     },
     "metadata": {},
     "output_type": "display_data"
    }
   ],
   "source": [
    "dr2.box_plot"
   ]
  },
  {
   "cell_type": "code",
   "execution_count": 61,
   "metadata": {
    "collapsed": false
   },
   "outputs": [
    {
     "name": "stdout",
     "output_type": "stream",
     "text": [
      " \n"
     ]
    },
    {
     "data": {
      "image/png": "[encoded data removed]",
      "text/plain": [
       "<matplotlib.figure.Figure at 0xee68d10>"
      ]
     },
     "metadata": {},
     "output_type": "display_data"
    }
   ],
   "source": [
    "dr2.violin_plot"
   ]
  },
  {
   "cell_type": "code",
   "execution_count": 62,
   "metadata": {
    "collapsed": true
   },
   "outputs": [],
   "source": [
    "dr3 = dr2.klassen(12)   # Klasseneinteilung"
   ]
  },
  {
   "cell_type": "code",
   "execution_count": 63,
   "metadata": {
    "collapsed": false
   },
   "outputs": [
    {
     "data": {
      "text/latex": [
       "$$\\left ( \\left [ 0, \\quad 0, \\quad 0, \\quad 0, \\quad 0, \\quad 0, \\quad 0, \\quad 0, \\quad 0, \\quad 1, \\quad 1, \\quad 1, \\quad 1, \\quad 1, \\quad 1, \\quad 1, \\quad 1, \\quad 1, \\quad 1, \\quad 1\\right ], \\quad \\left [ 11, \\quad 11, \\quad 11, \\quad 11, \\quad 11, \\quad 11, \\quad 11, \\quad 11, \\quad 11, \\quad 11, \\quad 11, \\quad 11, \\quad 11, \\quad 11, \\quad 11, \\quad 11, \\quad 11, \\quad 11, \\quad 11, \\quad 11\\right ]\\right )$$"
      ],
      "text/plain": [
       "([0, 0, 0, 0, 0, 0, 0, 0, 0, 1, 1, 1, 1, 1, 1, 1, 1, 1, 1, 1], [11, 11, 11, 11\n",
       ", 11, 11, 11, 11, 11, 11, 11, 11, 11, 11, 11, 11, 11, 11, 11, 11])"
      ]
     },
     "execution_count": 63,
     "metadata": {},
     "output_type": "execute_result"
    }
   ],
   "source": [
    "dr3.daten[:20], dr3.daten[-20:]   # die ersten 20 und letzten 20 Werte\n",
    "                                  # Klassennummern 0, 1, ..., 11"
   ]
  },
  {
   "cell_type": "code",
   "execution_count": 64,
   "metadata": {
    "collapsed": false
   },
   "outputs": [
    {
     "data": {
      "text/latex": [
       "$$\\left \\{ 0 : 9, \\quad 1 : 81, \\quad 2 : 532, \\quad 3 : 2305, \\quad 4 : 6219, \\quad 5 : 11214, \\quad 6 : 13085, \\quad 7 : 9784, \\quad 8 : 4881, \\quad 9 : 1506, \\quad 10 : 344, \\quad 11 : 40\\right \\}$$"
      ],
      "text/plain": [
       "{0: 9, 1: 81, 2: 532, 3: 2305, 4: 6219, 5: 11214, 6: 13085, 7: 9784, 8: 4881, \n",
       "9: 1506, 10: 344, 11: 40}"
      ]
     },
     "execution_count": 64,
     "metadata": {},
     "output_type": "execute_result"
    }
   ],
   "source": [
    "dr3.vert_abs_h   # Verteilung der absoluten Häufigkeiten"
   ]
  },
  {
   "cell_type": "code",
   "execution_count": 65,
   "metadata": {
    "collapsed": false
   },
   "outputs": [
    {
     "name": "stdout",
     "output_type": "stream",
     "text": [
      " \n"
     ]
    },
    {
     "data": {
      "image/png": "[encoded data removed]",
      "text/plain": [
       "<matplotlib.figure.Figure at 0x87dc5f0>"
      ]
     },
     "metadata": {},
     "output_type": "display_data"
    }
   ],
   "source": [
    "dr3.hist_abs_h   # entsprechendes Histogramm"
   ]
  },
  {
   "cell_type": "markdown",
   "metadata": {},
   "source": [
    "<br>\n",
    "## 5. Ein Spiel"
   ]
  },
  {
   "cell_type": "markdown",
   "metadata": {},
   "source": [
    "In <i>zufall</i> sind einige einfache Spiele implementiert, die verwendet werden können\n",
    "\n",
    "Hier wird demonstriert, wie das Ziegenproblem mit Hilfe eines Python-Programms \n",
    "<br>simuliert werden kann\n",
    "\n",
    "Das Programm ist auch in einem der Aufgaben-Notebooks in den Materialien enthalten, \n",
    "<br>die von <i>zufall</i> bereitgestellt werden, gemeinsam mit einem Programm zur statistischen \n",
    "<br>Auswertung des Spiels bei vielfacher Wiederholung\n",
    "\n",
    "Der Algorithmus geht auf *Gero von Randow* zurück\n",
    "<br><br>"
   ]
  },
  {
   "cell_type": "code",
   "execution_count": 66,
   "metadata": {
    "collapsed": false
   },
   "outputs": [],
   "source": [
    "# Definition einer Funktion für das Spiel\n",
    "\n",
    "def ziegen_problem():\n",
    "    \n",
    "    auto = zuf_zahl((1, 3))         # die Tür mit dem Auto    ( Zufallszahl 1, 2 oder 3 )\n",
    "    spieler = zuf_zahl((1, 3))      # die vom Spieler gewählte Tür    \n",
    "    frei = {1, 2, 3}.difference({auto, spieler})\n",
    "                                    # eine oder zwei Türen für den Spielleiter\n",
    "                                    # (er darf weder die Auto- noch die gewählte Tür öffnen)    \n",
    "    if spieler != auto:\n",
    "        gewinnA = 'verloren'        # Strategie A: verloren\n",
    "        leiter = frei.pop()         # die Tür für den Spielleiter (frei hat ein Element)\n",
    "    else:                           \n",
    "        gewinnA = 'gewonnen'        # Strategie A: gewonnen\n",
    "        nr = zuf_zahl((0, 1))       # zufällige Wahl eines Index  (frei hat zwei Elemente)    \n",
    "        leiter = list(frei)[nr]  \n",
    "        \n",
    "    wechsel = 6 - spieler - leiter  # zu dieser Tür kann gewechselt werden \n",
    "                                    # (es gilt immer spieler + leiter + wechsel = 6)    \n",
    "    if wechsel == auto: \n",
    "        gewinnB = 'gewonnen'        # Strategie B: gewonnen\n",
    "    else:\n",
    "        gewinnB = 'verloren'        # Strategie B: verloren\n",
    "        \n",
    "    print(\"\\n                     Strategie A        Strategie B\");\n",
    "    print(\"Auto    \" + str(auto) + \".Tür\")\n",
    "    print(\"Spieler \" + str(spieler) + \".Tür\")\n",
    "    print(\"Leiter  \" + str(leiter) + \".Tür\")\n",
    "    print(\"                     kein Wechsel\", \"      Wechsel zur \" + str(wechsel) + \".Tür\")\n",
    "    print(\"                    \", gewinnA, \"         \", gewinnB, \"\\n\")   "
   ]
  },
  {
   "cell_type": "code",
   "execution_count": 67,
   "metadata": {
    "collapsed": false
   },
   "outputs": [
    {
     "name": "stdout",
     "output_type": "stream",
     "text": [
      "\n",
      "                     Strategie A        Strategie B\n",
      "Auto    2.Tuer\n",
      "Spieler 1.Tuer\n",
      "Leiter  3.Tuer\n",
      "                     kein Wechsel       Wechsel zur 2.Tuer\n",
      "                     verloren           gewonnen \n",
      "\n"
     ]
    }
   ],
   "source": [
    "# Durchführung eines Spiels; das kann beliebig oft wiederholt werden\n",
    "\n",
    "ziegen_problem()   "
   ]
  },
  {
   "cell_type": "markdown",
   "metadata": {
    "collapsed": true
   },
   "source": [
    "<br>\n",
    "## 6. Klassen in <i>zufall</i>"
   ]
  },
  {
   "cell_type": "code",
   "execution_count": 68,
   "metadata": {
    "collapsed": false
   },
   "outputs": [
    {
     "name": "stdout",
     "output_type": "stream",
     "text": [
      "\t\t\n",
      "Klassen in zufall\n",
      "\t\n",
      "Kurz-     Langname\n",
      "\n",
      "ZE        ZufallsExperiment\n",
      "             = ZV  ZufallsVersuch\n",
      "ZG        ZufallsGröße\n",
      "BK        BernoulliKette\n",
      "\n",
      "BV        BinomialVerteilung\t\t\n",
      "HGV       HyperGeometrischeVerteilung\t\t\n",
      "GLV       GleichVerteilung\n",
      "GV        GeometrischeVerteilung\n",
      "PV        PoissonVerteilung\n",
      "\t\t\n",
      "NV        NormalVerteilung\n",
      "EV        ExponentialVerteilung\n",
      "\n",
      "DR        DatenReihe\n",
      "\n",
      "EA        EreignisAlgebra\t\t\n",
      "VT        VierFelderTafel\n",
      "HB        HäufigkeitsBaum\n",
      "\n",
      "KI        KonfidenzIntervall\t\t\n",
      "AT        AlternativTest\t\t\n",
      "STP       SignifikanzTestP\n",
      "\t\t\n",
      "Urne\t\t\n",
      "Münze\t\t\n",
      "Würfel\t\t\n",
      "Rad       GlücksRad\n",
      "\t\t\n",
      "MK        MarkoffKette\n",
      "\t\t\n",
      "Roulette\t\t\n",
      "Chuck     ChuckALuck\t\t\n",
      "Craps\t\t\n",
      "Toto      FussballToto\t\t\n",
      "Lotto\t\t\n",
      "Skat      SkatBlatt\n",
      "\t\t\n",
      "Vektor    analog zu agla\t\t\n",
      "Matrix    analog zu agla\t\t\t\n",
      "        \n"
     ]
    }
   ],
   "source": [
    "Hilfe(h=6)"
   ]
  },
  {
   "cell_type": "markdown",
   "metadata": {
    "collapsed": true
   },
   "source": [
    "## 7. Hilfe-Informationen\n",
    "\n",
    "<i>zufall</i> verfügt über ein eingebautes Hilfesystem\n",
    "\n",
    "Hilfethemen können mit <i>Hilfe()</i> abgefragt werden<br> \n",
    "\n",
    "Hilfe zur Erzeugung von Objekten kann jederzeit erhalten werden, indem in der \n",
    "<br>Erzeugerfunktion des Objektes als letztes Argument <i>h = 1</i> angegeben wird, etwa\n",
    "\n",
    "<i>$\\qquad$Urne(..., h=1)</i><br>\n",
    "\n",
    "Das gilt auch für alle Funktions- und Methodenaufrufe\n",
    "\n",
    "Zu einem existierenden Objekt ist die Liste der Namen seiner \n",
    "<br>Eigenschaften und Methoden über die <i>h</i>-Eigenschaft erhältlich, etwa "
   ]
  },
  {
   "cell_type": "code",
   "execution_count": 69,
   "metadata": {
    "collapsed": false
   },
   "outputs": [
    {
     "name": "stdout",
     "output_type": "stream",
     "text": [
      " \t\t\n",
      "Eigenschaften und Methoden (M) für BinomialVerteilung\n",
      " \n",
      "bv.hilfe               Bezeichner der Eigenschaften und Methoden\n",
      "bv.e_sigma_umg         Sigma-Umgebungen des Erwartungswertes\t\t\n",
      "bv.erw                 Erwartungswert\t\n",
      "bv.erw_(...)        M  ebenso, zugehörige Methode\t\n",
      "bv.F(...)           M  Verteilungsfunktion\n",
      "bv.faust_regel         Faustregeln\n",
      "bv.formeln             Formeln\n",
      "bv.graf_F              Graf der Verteilungsfunktion\n",
      "bv.hist                Histogramm\n",
      "bv.hist_(...)       M  ebenso, zugehörige Methode\n",
      "bv.hist_kum            ebenso, kumulierte Wahrscheinlichkeiten\n",
      "bv.n                   Anzahl Versuche\n",
      "bv.n_omega             Größe der Ergebnismenge \n",
      "bv.nv_approx           Approximation durch Normalverteilung \n",
      "bv.omega               Ergebnismenge \n",
      "bv.p                   Trefferwahrscheinlichkeit\n",
      "bv.P(...)           M  Wahrscheinlichkeit eines Ereignisses\n",
      "bv.p_sigma_umg         Sigma-Umgebungen der Wahrscheinlichkeit\n",
      "bv.poly_zug            Polygonzug-Diagramm der Wahrscheinlichkeiten\n",
      "bv.poly_zug_(...)   M  ebenso, zugehörige Methode\n",
      "bv.quantil(...)     M  Quantile\n",
      "bv.relh2p           M  Stabilisierung der relativen Häufigkeiten        \n",
      "bv.sigma               Standardabweichung\n",
      "bk.sigma_(...)      M  ebenso, zugehörige Methode\t\n",
      "bk.stich_probe(...) M  Stichprobe\t\t\n",
      "bv.var                 Varianz\t\t\n",
      "bv.var_(...)        M  ebenso, zugehörige Methode\t\t\n",
      "bv.versuch             Versuch\t\t\n",
      "bv.vert                Wahrscheinlichkeitsverteilung\t\t\n",
      "bv.vert_(...)       M  ebenso, zugehörige Methode\t\t\n",
      "bv.vert_kum            kumulierte Wahrscheinlichkeitsverteilung\n",
      "bv.vert_kum_(...)   M  ebenso, zugehörige Methode\n",
      "\n",
      "Synonyme Bezeichner\n",
      "\n",
      "hilfe          h\n",
      "erw_           Erw\t\n",
      "e_sigma_umg    eSigmaUmg\t\t\n",
      "faust_regel    faustRegel\n",
      "graf_F         grafF\n",
      "hist_          Hist\n",
      "hist_kum       histKum\n",
      "nv_approx      nvApprox\n",
      "n_omega        nOmega\n",
      "poly_zug       polyZug\n",
      "poly_zug_      PolyZug\n",
      "p_sigma_umg    pSigmaUmg\n",
      "sigma_         Sigma\n",
      "stich_probe    stichProbe\n",
      "var_           Var\n",
      "vert_          Vert\n",
      "vert_kum       vertKum\n",
      "vert_kum_      VertKum\n",
      "\t   \n"
     ]
    }
   ],
   "source": [
    "bv.h"
   ]
  }
 ],
 "metadata": {
  "anaconda-cloud": {},
  "kernelspec": {
   "display_name": "Python [default]",
   "language": "python",
   "name": "python3"
  },
  "language_info": {
   "codemirror_mode": {
    "name": "ipython",
    "version": 3
   },
   "file_extension": ".py",
   "mimetype": "text/x-python",
   "name": "python",
   "nbconvert_exporter": "python",
   "pygments_lexer": "ipython3",
   "version": "3.5.2"
  }
 },
 "nbformat": 4,
 "nbformat_minor": 0
}
