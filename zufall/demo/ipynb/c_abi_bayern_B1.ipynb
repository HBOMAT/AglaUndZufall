{
 "cells": [
  {
   "cell_type": "markdown",
   "metadata": {},
   "source": [
    "<br>\n",
    "# Einblick in die Arbeit mit <i>zufall</i>\n",
    "\n",
    "von Holger Böttcher - hbomat@posteo.de\n",
    "<br><br>\n",
    "Diese Arbeit steht unter der freien Lizenz [CC BY-SA 4.0](https://creativecommons.org/licenses/by-sa/4.0/deed.de)  \n",
    "<br><br>\n",
    "### Abitur Bayern 2019\n",
    " \n",
    "### Stochastik Teil B, Aufgabengruppe 1\n",
    "<br>\n",
    "Quelle: [serlo.org](https://de.serlo.org/mathe/deutschland/bayern/gymnasium/abiturpr%C3%BCfungen-l%C3%B6sung/mathematik-abitur-bayern-2019/stochastik,-teil-b,-aufgabengruppe-1) "
   ]
  },
  {
   "cell_type": "markdown",
   "metadata": {},
   "source": [
    "<br>\n",
    "<b>1.</b> Ein Unternehmen organisiert Fahrten mit einem Ausflugsschiff, das Platz für 60 <br>\n",
    "Personen bietet.\n",
    "\n",
    "Betrachtet wird eine Fahrt, bei der das Schiff voll besetzt ist. Unter den Fahrgästen \n",
    "<br>befinden sich Erwachsene, Jugendliche und Kinder. Die Hälfte der Fahrgäste isst <br>\n",
    "während der Fahrt ein Eis, von den Erwachsenen nur jeder Dritte, von den  <br>\n",
    "Jugendlichen und Kindern 75 %. Berechnen Sie, wie viele Erwachsene an der <br>\n",
    "Fahrt teilnehmen.\n",
    "\n",
    "<b>2.</b> Möchte man an einer Fahrt mit einem Ausflugsschiff, das Platz für 60 Fahrgäste<br>\n",
    "bietet, teilnehmen, so muss man dafür im Voraus eine Reservierung vornehmen, ohne \n",
    "<br>dabei schon den Fahrpreis bezahlen zu müssen. Erfahrungsgemäß erscheinen von<br>\n",
    "den Personen mit Reservierung einige nicht zur Fahrt. Für die 60 zur Verfügung <br>\n",
    "stehenden Plätze lässt das Unternehmen deshalb bis zu 64 Reservierungen zu. Es soll <br>\n",
    "davon ausgegangen werden, dass für jede Fahrt tatsächlich 64 Reservierungen<br>\n",
    "vorgenommen werden. Erscheinen mehr als 60 Personen mit Reservierung zur Fahrt, <br>\n",
    "so können nur 60 von ihnen daran teilnehmen; die übrigen müssen abgewiesen <br>\n",
    "werden.\n",
    "\n",
    "Die Zufallsgröße $X$ beschreibt die Anzahl der Personen mit Reservierung, die nicht zur <br>\n",
    "Fahrt erscheinen. Vereinfachend soll angenommen werden, dass $X$ binomialverteilt ist, <br>\n",
    "wobei die Wahrscheinlichkeit dafür, dass eine zufällig ausgewählte Person mit <br>\n",
    "Reservierung nicht zur Fahrt erscheint, 10% beträgt. \n",
    "\n",
    "<b>a)</b> Geben Sie einen Grund dafür an, dass es sich bei der Annahme, die <br>\n",
    "Zufallsgröße $X$ ist binomialverteilt, im Sachzusammenhang um eine Vereinfachung <br>handelt.\n",
    "\n",
    "<b>b)</b> Bestimmen Sie die Wahrscheinlichkeit dafür, dass keine Person mit <br>\n",
    "Reservierung abgewiesen werden muss.\n",
    "\n",
    "<b>c)</b> Für das Unternehmen wäre es hilfreich, wenn die Wahrscheinlichkeit dafür, <br>\n",
    "mindestens eine Person mit Reservierung abweisen zu müssen, höchstens ein <br>\n",
    "Prozent wäre. Dazu müsste die Wahrscheinlichkeit dafür, dass eine zufällig <br>\n",
    "ausgewählte Person mit Reservierung nicht zur Fahrt erscheint, mindestens einen <br>bestimmenten Wert haben. Ermitteln Sie diesen Wert auf ganze Prozent genau.\n",
    "\n",
    "Das Unternhmen richtet ein Online-Portal zur Reservierung ein und vermutet, dass <br>\n",
    "dadurch der Anteil der Personen mit Reservierung, die zur jeweiligen Fahrt nicht <br>\n",
    "erscheinen, zunehmen könnte. Als Grundlage für die Entscheidung darüber, ob pro <br>\n",
    "Fahrt künftig mehr als 64 Reservierungen zugelassen werden, soll die Nullhypothese <br>\n",
    "\"Die Wahrscheinlichkeit dafür, dass eine zufällig ausgewählte Person mit <br>\n",
    "Reservierung nicht zur Fahrt erscheint, beträgt höchstens 10%.\" mithilfe einer <br>\n",
    "Stichprobe von 200 Personen mit Reservierung auf einem Signifikanzniveau von 5% <br>\n",
    "getestet werden. Vor der Durchführung des Tests wird festgelegt, die Anzahl der für <br>\n",
    "eine Fahrt möglichen Reservierungen nur dann zu erhöhen, wenn die Nullhypothese <br>aufgrund des Testergebnisses abgelehnt werden müsste.\n",
    "\n",
    "<b>d)</b> Ermitteln Sie die zughörige Entscheidungsregel.\n",
    "\n",
    "<b>e)</b> Entscheiden Sie, ob bei der Wahl der Nullhypothese eher das Interesse, dass <br>\n",
    "weniger Platz frei bleiben sollen, oder das Interesse, dass nicht mehr Personen mit <br>\n",
    "Reservierung abgewiesen werden müssen, im Vordergrund stand. Begründen Sie <br>\n",
    "Ihre Entscheidung.\n",
    "\n",
    "<b>f)</b> Beschreiben Sie den zugehörigen Fehler zweiter Art sowie die daraus resultierende <br>Konsequenz im Sachzusammenhang.\n",
    "<br><br>"
   ]
  },
  {
   "cell_type": "code",
   "execution_count": 1,
   "metadata": {
    "collapsed": false
   },
   "outputs": [],
   "source": [
    "%run zufall/start"
   ]
  },
  {
   "cell_type": "markdown",
   "metadata": {
    "collapsed": false
   },
   "source": [
    "<br>\n",
    "### Zu 1."
   ]
  },
  {
   "cell_type": "markdown",
   "metadata": {},
   "source": [
    "$e$ - Erwachsene, $k$ - Kinder + Jugendliche$\\quad E$ ist ungünstig, da mit $2.71828...$ belegt\n",
    "\n",
    "Gleichungen\n",
    " \n",
    "$\\quad$$e+k = 60\\quad\\quad\\,$ */ alle Personen zusammen*\n",
    "<br><br>\n",
    "$\\quad$$\\dfrac{e}{3} + \\dfrac{3}{4} k = 30\\quad$  */ eisessende Personen*   \n",
    "<br>\n",
    "Die rechten Seiten werden zu Null gemacht und dann die linken Seiten als <br>\n",
    "lineares Gleichungssystem gelöst\n",
    "<br>"
   ]
  },
  {
   "cell_type": "code",
   "execution_count": 2,
   "metadata": {
    "collapsed": false
   },
   "outputs": [
    {
     "data": {
      "text/latex": [
       "$$\\left \\{ e : 36, \\quad k : 24\\right \\}$$"
      ],
      "text/plain": [
       "{e: 36, k: 24}"
      ]
     },
     "execution_count": 2,
     "metadata": {},
     "output_type": "execute_result"
    }
   ],
   "source": [
    "löse([e + k - 60, 1/3*e + 3/4*k - 30])"
   ]
  },
  {
   "cell_type": "markdown",
   "metadata": {
    "collapsed": false
   },
   "source": [
    "<br>\n",
    "### Zu 2."
   ]
  },
  {
   "cell_type": "markdown",
   "metadata": {},
   "source": [
    "### a)"
   ]
  },
  {
   "cell_type": "markdown",
   "metadata": {},
   "source": [
    "Bei einer zufälligen Reisegruppe kann nicht davon ausgegangen werden, daß <br>die Trefferwahrscheinlichkeit für alle Personen gleich ist<br><br>\n",
    "Außerdem kann nicht vorausgesetzt werden, dass die Ereignisse unabhängig <br>\n",
    "voneinander sind, da z.B. Ehepaare die Reise normalerweise zusammenen <br>\n",
    "antreten oder absagen\n",
    "<br>"
   ]
  },
  {
   "cell_type": "markdown",
   "metadata": {},
   "source": [
    "### b)"
   ]
  },
  {
   "cell_type": "markdown",
   "metadata": {},
   "source": [
    "Die zugrundeliegennde Binomialverteilung ist"
   ]
  },
  {
   "cell_type": "code",
   "execution_count": 3,
   "metadata": {
    "collapsed": true
   },
   "outputs": [],
   "source": [
    "bv = BV(64, 0.1)   # BV - BinomialVerteilung"
   ]
  },
  {
   "cell_type": "markdown",
   "metadata": {},
   "source": [
    "Mindestens 4 der Personen mit Reservierung dürfen nicht erscheinen"
   ]
  },
  {
   "cell_type": "code",
   "execution_count": 4,
   "metadata": {
    "collapsed": false
   },
   "outputs": [
    {
     "data": {
      "text/latex": [
       "$$\\frac{8937088174713912997783918675823193224654269212543263986925978911}{10000000000000000000000000000000000000000000000000000000000000000}$$"
      ],
      "text/plain": [
       " 8937088174713912997783918675823193224654269212543263986925978911\n",
       "─────────────────────────────────────────────────────────────────\n",
       "10000000000000000000000000000000000000000000000000000000000000000"
      ]
     },
     "execution_count": 4,
     "metadata": {},
     "output_type": "execute_result"
    }
   ],
   "source": [
    "bv.P(X >= 4)    # der exakte Wert"
   ]
  },
  {
   "cell_type": "code",
   "execution_count": 5,
   "metadata": {
    "collapsed": false
   },
   "outputs": [
    {
     "data": {
      "text/latex": [
       "$$89.37$$"
      ],
      "text/plain": [
       "89.37"
      ]
     },
     "execution_count": 5,
     "metadata": {},
     "output_type": "execute_result"
    }
   ],
   "source": [
    "bv.P(X >= 4, p=ja)   # der (gerundete) Prozentwert"
   ]
  },
  {
   "cell_type": "markdown",
   "metadata": {},
   "source": [
    "### c)"
   ]
  },
  {
   "cell_type": "markdown",
   "metadata": {},
   "source": [
    "$X$ soll eine Bernoullikette mit der Länge 64 und der unbekannten <br>\n",
    "Trefferwahrscheinlichkeit $p$ sein\n",
    "\n",
    "Das Ereignis \"Mindestens eine Person mit Reservierung wird abgewiesen\" tritt dann <br>\n",
    "ein, wenn \"Höchstens 3 Personen mit Reservierung erscheinen nicht\" eintritt\n",
    "\n",
    "$p$ muss also so gewählt werden, dass  $P(X \\le 3) \\le 0.01$ ist \n",
    "\n",
    "Für $p=0.1 = 10 \\%$ und $p=0.2=20\\%$ ergeben sich die Werte"
   ]
  },
  {
   "cell_type": "code",
   "execution_count": 6,
   "metadata": {
    "collapsed": false
   },
   "outputs": [
    {
     "data": {
      "text/latex": [
       "$$10.63$$"
      ],
      "text/plain": [
       "10.63"
      ]
     },
     "execution_count": 6,
     "metadata": {},
     "output_type": "execute_result"
    }
   ],
   "source": [
    "p1 = 0.1\n",
    "p2 = 0.2\n",
    "\n",
    "BV(64, p1).P(X <= 3, p=ja)   # in Prozent"
   ]
  },
  {
   "cell_type": "code",
   "execution_count": 7,
   "metadata": {
    "collapsed": false
   },
   "outputs": [
    {
     "data": {
      "text/latex": [
       "$$0.05$$"
      ],
      "text/plain": [
       "0.05"
      ]
     },
     "execution_count": 7,
     "metadata": {},
     "output_type": "execute_result"
    }
   ],
   "source": [
    "BV(64, p2).P(X <= 3, p=ja)   # ebenso"
   ]
  },
  {
   "cell_type": "markdown",
   "metadata": {},
   "source": [
    "Das zeigt, dass der gesuchte Wert im Intervall $\\;(0.1, \\,0.2)\\,$ liegt\n",
    "\n",
    "Man könnte jetzt durch schrittweise (manuelle) Verfeinerung dieses Intervalls <br>\n",
    "den Bereich so lange einengen, bis ein Wert mit der geforderten Genauigkeit <br>\n",
    "gefunden ist (das geht recht schnell)\n",
    "\n",
    "Hier wird eine Wertetabelle für den intereressierenden Bereich in ausreichend <br>\n",
    "feiner Untergliederung erzeugt (sie entspricht der in der Aufgabenstellung  <br>\n",
    "angegebenen Tabelle)\n"
   ]
  },
  {
   "cell_type": "code",
   "execution_count": 8,
   "metadata": {
    "collapsed": false
   },
   "outputs": [
    {
     "data": {
      "text/latex": [
       "$$\\left [ 0.1, \\quad 0.11, \\quad 0.12000000000000001, \\quad 0.13, \\quad 0.14, \\quad 0.15000000000000002, \\quad 0.16, \\quad 0.17, \\quad 0.18, \\quad 0.19, \\quad 0.2\\right ]$$"
      ],
      "text/plain": [
       "[0.1, 0.11, 0.12000000000000001, 0.13, 0.14, 0.15000000000000002, 0.16, 0.17, \n",
       "0.18, 0.19, 0.2]"
      ]
     },
     "execution_count": 8,
     "metadata": {},
     "output_type": "execute_result"
    }
   ],
   "source": [
    "ber = [0.1 + i*0.01 for i in range(11)]   # p-Werte\n",
    "ber"
   ]
  },
  {
   "cell_type": "markdown",
   "metadata": {},
   "source": [
    " Die Ungenauigkeiten sind duch die Gleitkommarechnung verursacht (und nicht <br>\n",
    " zu vermeiden), schöner ist"
   ]
  },
  {
   "cell_type": "code",
   "execution_count": 9,
   "metadata": {
    "collapsed": false
   },
   "outputs": [],
   "source": [
    "ber = [N(0.1 + i*0.01, 3) for i in range(11)]"
   ]
  },
  {
   "cell_type": "code",
   "execution_count": 10,
   "metadata": {
    "collapsed": false
   },
   "outputs": [
    {
     "data": {
      "text/latex": [
       "$$\\left [ \\left ( 0.1, \\quad 10.63\\right ), \\quad \\left ( 0.11, \\quad 6.83\\right ), \\quad \\left ( 0.12, \\quad 4.28\\right ), \\quad \\left ( 0.13, \\quad 2.62\\right ), \\quad \\left ( 0.14, \\quad 1.57\\right ), \\quad \\left ( 0.15, \\quad 0.92\\right ), \\quad \\left ( 0.16, \\quad 0.53\\right ), \\quad \\left ( 0.17, \\quad 0.3\\right ), \\quad \\left ( 0.18, \\quad 0.17\\right ), \\quad \\left ( 0.19, \\quad 0.09\\right ), \\quad \\left ( 0.2, \\quad 0.05\\right )\\right ]$$"
      ],
      "text/plain": [
       "[(0.1, 10.63), (0.11, 6.83), (0.12, 4.28), (0.13, 2.62), (0.14, 1.57), (0.15, \n",
       "0.92), (0.16, 0.53), (0.17, 0.3), (0.18, 0.17), (0.19, 0.09), (0.2, 0.05)]"
      ]
     },
     "execution_count": 10,
     "metadata": {},
     "output_type": "execute_result"
    }
   ],
   "source": [
    "bv = [(p, BV(64, p).P(X <= 3, p=ja)) for p in ber]\n",
    "bv"
   ]
  },
  {
   "cell_type": "markdown",
   "metadata": {
    "collapsed": true
   },
   "source": [
    "Es kann abgelesen werden, dass der Spung unter die $1\\%$ - Grenze bei $15\\%$ liegt"
   ]
  },
  {
   "cell_type": "markdown",
   "metadata": {},
   "source": [
    "### d)"
   ]
  },
  {
   "cell_type": "markdown",
   "metadata": {},
   "source": [
    "Es ist ein statistischer Test für die unbekannte Wahrscheinlichkeit einer <br>Binomialverteilung durchzuführen \n",
    "\n",
    "(Einzelheiten für die Argumente siehe unten)"
   ]
  },
  {
   "cell_type": "code",
   "execution_count": 11,
   "metadata": {
    "collapsed": false
   },
   "outputs": [
    {
     "data": {
      "text/latex": [
       "$$SignifikanzTestP$$"
      ],
      "text/plain": [
       "SignifikanzTestP"
      ]
     },
     "execution_count": 11,
     "metadata": {},
     "output_type": "execute_result"
    }
   ],
   "source": [
    "test = STP(0.1, 0.05, 'rechts', 200, 'B')   \n",
    "test"
   ]
  },
  {
   "cell_type": "code",
   "execution_count": 12,
   "metadata": {
    "collapsed": false
   },
   "outputs": [
    {
     "name": "stdout",
     "output_type": "stream",
     "text": [
      "\n"
     ]
    },
    {
     "data": {
      "text/latex": [
       "$$\\mathrm{Ermittlung\\; der\\; Entscheidungsregel\\; für\\; den\\; Signifikanztest}$$"
      ],
      "text/plain": [
       "<IPython.core.display.Math object>"
      ]
     },
     "metadata": {},
     "output_type": "display_data"
    },
    {
     "data": {
      "text/latex": [
       "$$\\mathrm{Gegeben}$$"
      ],
      "text/plain": [
       "<IPython.core.display.Math object>"
      ]
     },
     "metadata": {},
     "output_type": "display_data"
    },
    {
     "data": {
      "text/latex": [
       "$$\\qquad \\mathrm{H_0}:\\;p \\le0.1$$"
      ],
      "text/plain": [
       "<IPython.core.display.Math object>"
      ]
     },
     "metadata": {},
     "output_type": "display_data"
    },
    {
     "data": {
      "text/latex": [
       "$$\\qquad\\alpha=0.05,\\;n=200,\\;\\mathrm{rechtsseitiger\\;Test}$$"
      ],
      "text/plain": [
       "<IPython.core.display.Math object>"
      ]
     },
     "metadata": {},
     "output_type": "display_data"
    },
    {
     "data": {
      "text/latex": [
       "$$\\qquad\\mathrm{Prüfgröße\\;\\;} X=\\,\\mathrm{\"Anzahl\\;Treffer\"}$$"
      ],
      "text/plain": [
       "<IPython.core.display.Math object>"
      ]
     },
     "metadata": {},
     "output_type": "display_data"
    },
    {
     "data": {
      "text/latex": [
       "$$\\mathrm{Verteilung\\;von}\\;X\\;\\;BinomialVerteilung(200,1/10)$$"
      ],
      "text/plain": [
       "<IPython.core.display.Math object>"
      ]
     },
     "metadata": {},
     "output_type": "display_data"
    },
    {
     "data": {
      "text/latex": [
       "$$\\mathrm{Kritische\\;Zahl\\;\\;}27$$"
      ],
      "text/plain": [
       "<IPython.core.display.Math object>"
      ]
     },
     "metadata": {},
     "output_type": "display_data"
    },
    {
     "data": {
      "text/latex": [
       "$$\\mathrm{Ablehnungsbereich\\;für\\;H_0\\;\\;} X  \\ge28$$"
      ],
      "text/plain": [
       "<IPython.core.display.Math object>"
      ]
     },
     "metadata": {},
     "output_type": "display_data"
    },
    {
     "data": {
      "text/latex": [
       "$$\\mathrm{Entscheidungsregel}$$"
      ],
      "text/plain": [
       "<IPython.core.display.Math object>"
      ]
     },
     "metadata": {},
     "output_type": "display_data"
    },
    {
     "data": {
      "text/latex": [
       "$$\\mathrm{Liegt\\;der\\;Wert\\;der\\;Prüfgröße\\;im\\;Ablehnungsbereich,\\;wird\\;H_0\\;mit\\;einer}$$"
      ],
      "text/plain": [
       "<IPython.core.display.Math object>"
      ]
     },
     "metadata": {},
     "output_type": "display_data"
    },
    {
     "data": {
      "text/latex": [
       "$$\\mathrm{Irrtumswahrscheinlichkeit\\;von\\;höchstens\\;}0.05\\mathrm{\\;abgelehnt,\\;sonst\\;}$$"
      ],
      "text/plain": [
       "<IPython.core.display.Math object>"
      ]
     },
     "metadata": {},
     "output_type": "display_data"
    },
    {
     "data": {
      "text/latex": [
       "$$\\mathrm{wird\\;H_0\\;beibehalten}$$"
      ],
      "text/plain": [
       "<IPython.core.display.Math object>"
      ]
     },
     "metadata": {},
     "output_type": "display_data"
    },
    {
     "name": "stdout",
     "output_type": "stream",
     "text": [
      " \n"
     ]
    }
   ],
   "source": [
    "test.regel"
   ]
  },
  {
   "cell_type": "code",
   "execution_count": 13,
   "metadata": {
    "collapsed": false
   },
   "outputs": [
    {
     "name": "stdout",
     "output_type": "stream",
     "text": [
      " \n"
     ]
    },
    {
     "data": {
      "text/latex": [
       "$$\\mathrm{Schema\\; eines\\; Signifikanztestes\\;}$$"
      ],
      "text/plain": [
       "<IPython.core.display.Math object>"
      ]
     },
     "metadata": {},
     "output_type": "display_data"
    },
    {
     "data": {
      "text/latex": [
       "$$\\mathrm{für\\;die\\;unbekannte\\;Wahrscheinlichkeit\\;einer\\;Binomialverteilung}$$"
      ],
      "text/plain": [
       "<IPython.core.display.Math object>"
      ]
     },
     "metadata": {},
     "output_type": "display_data"
    },
    {
     "data": {
      "text/latex": [
       "$$\\mathrm{Benutzung\\; der\\;Binomialverteilung}$$"
      ],
      "text/plain": [
       "<IPython.core.display.Math object>"
      ]
     },
     "metadata": {},
     "output_type": "display_data"
    },
    {
     "name": "stdout",
     "output_type": "stream",
     "text": [
      " \n"
     ]
    },
    {
     "data": {
      "text/latex": [
       "$$\\mathrm{H_0}: \\;p \\le p_0 \\quad \\mathrm{(Nullhypothese) \\quad   gegen}$$"
      ],
      "text/plain": [
       "<IPython.core.display.Math object>"
      ]
     },
     "metadata": {},
     "output_type": "display_data"
    },
    {
     "data": {
      "text/latex": [
       "$$\\mathrm{H_1}: \\;p \\gt p_0 \\quad \\mathrm{(Gegenhypothese) \\quad rechtsseitiger\\;Test}$$"
      ],
      "text/plain": [
       "<IPython.core.display.Math object>"
      ]
     },
     "metadata": {},
     "output_type": "display_data"
    },
    {
     "name": "stdout",
     "output_type": "stream",
     "text": [
      " \n"
     ]
    },
    {
     "data": {
      "text/latex": [
       "$$\\mathrm{1.\\; Vorgabe\\; des\\; Signifikanzniveaus\\;} \\alpha$$"
      ],
      "text/plain": [
       "<IPython.core.display.Math object>"
      ]
     },
     "metadata": {},
     "output_type": "display_data"
    },
    {
     "data": {
      "text/latex": [
       "$$\\mathrm{2.\\; Festlegung\\; der\\; Prüfgröße\\; } X \\mathrm{\\;(Anzahl\\; Treffer)\\; auf\\; der\\; Grundlage\\; einer\\; Stichprobe \\;}$$"
      ],
      "text/plain": [
       "<IPython.core.display.Math object>"
      ]
     },
     "metadata": {},
     "output_type": "display_data"
    },
    {
     "data": {
      "text/latex": [
       "$$\\mathrm{\\quad  des\\; Umfangs\\;} n.\\mathrm{Unter\\;H_0\\;ist\\;} X  \\mathrm{\\;binomialverteilt\\;mit\\;den\\;Parametern\\;}n \\mathrm{\\;und\\;} p_0$$"
      ],
      "text/plain": [
       "<IPython.core.display.Math object>"
      ]
     },
     "metadata": {},
     "output_type": "display_data"
    },
    {
     "data": {
      "text/latex": [
       "$$\\mathrm{3.\\; Ermittlung\\;der\\;kritischen\\;Zahl\\;} K \\mathrm{\\;als\\;der\\;kleinsten\\;Zahl\\;aus}\\;\\{0....,n\\}, \\mathrm{\\;für\\; die\\;} $$"
      ],
      "text/plain": [
       "<IPython.core.display.Math object>"
      ]
     },
     "metadata": {},
     "output_type": "display_data"
    },
    {
     "data": {
      "text/latex": [
       "$$\\quad P(\\,X \\ge K\\,) \\le \\alpha \\;\\; \\mathrm{gilt,\\; mittels\\; Berechnung\\; nach\\; der\\; Formel}$$"
      ],
      "text/plain": [
       "<IPython.core.display.Math object>"
      ]
     },
     "metadata": {},
     "output_type": "display_data"
    },
    {
     "data": {
      "text/latex": [
       "$$\\quad P(X \\ge K) = 1-F(n,\\,p_0,\\,K-1) = \\sum_{i=K}^n{n \\choose i}\\, p_0^i \\,(1-p_0)^{n-i}$$"
      ],
      "text/plain": [
       "<IPython.core.display.Math object>"
      ]
     },
     "metadata": {},
     "output_type": "display_data"
    },
    {
     "data": {
      "text/latex": [
       "$$\\quad \\mathrm{unter\\;Beachtung\\;von\\;} 1-\\alpha \\le F(n,\\,p_0,\\,K-1)\\mathrm{,\\;wobei\\;} F \\mathrm{\\;die\\;Verteilungsfunktion}$$"
      ],
      "text/plain": [
       "<IPython.core.display.Math object>"
      ]
     },
     "metadata": {},
     "output_type": "display_data"
    },
    {
     "data": {
      "text/latex": [
       "$$\\quad\\mathrm{der\\;Binomialverteilung\\;ist}$$"
      ],
      "text/plain": [
       "<IPython.core.display.Math object>"
      ]
     },
     "metadata": {},
     "output_type": "display_data"
    },
    {
     "data": {
      "text/latex": [
       "$$\\quad\\mathrm{Ablehnungsbereich\\;ist\\;\\;} \\overline{A} = \\{K+1,\\,K+2,...,n\\}$$"
      ],
      "text/plain": [
       "<IPython.core.display.Math object>"
      ]
     },
     "metadata": {},
     "output_type": "display_data"
    },
    {
     "data": {
      "text/latex": [
       "$$\\mathrm{4.\\; Entscheidung\\; nach\\;der\\;Regel }$$"
      ],
      "text/plain": [
       "<IPython.core.display.Math object>"
      ]
     },
     "metadata": {},
     "output_type": "display_data"
    },
    {
     "data": {
      "text/latex": [
       "$$\\quad\\mathrm{Ist\\;} X \\in \\overline{A} \\mathrm{,\\;so\\;wird\\;H_0\\;mit\\;einer\\;                    Irrtumswahrscheinlichkeit\\;von\\;höchstens\\;} \\alpha$$"
      ],
      "text/plain": [
       "<IPython.core.display.Math object>"
      ]
     },
     "metadata": {},
     "output_type": "display_data"
    },
    {
     "data": {
      "text/latex": [
       "$$\\quad\\mathrm{abgelehnt,\\;sonst\\;wird\\;H_0\\;beibehalten}$$"
      ],
      "text/plain": [
       "<IPython.core.display.Math object>"
      ]
     },
     "metadata": {},
     "output_type": "display_data"
    },
    {
     "name": "stdout",
     "output_type": "stream",
     "text": [
      " \n"
     ]
    }
   ],
   "source": [
    "test.schema"
   ]
  },
  {
   "cell_type": "code",
   "execution_count": 14,
   "metadata": {
    "collapsed": false
   },
   "outputs": [
    {
     "data": {
      "text/latex": [
       "$$27$$"
      ],
      "text/plain": [
       "27"
      ]
     },
     "execution_count": 14,
     "metadata": {},
     "output_type": "execute_result"
    }
   ],
   "source": [
    "test.K"
   ]
  },
  {
   "cell_type": "code",
   "execution_count": 15,
   "metadata": {
    "collapsed": false
   },
   "outputs": [
    {
     "data": {
      "text/latex": [
       "$$\\left\\{0, 1, 2, 3, 4, 5, 6, 7, 8, 9, 10, 11, 12, 13, 14, 15, 16, 17, 18, 19, 20, 21, 22, 23, 24, 25, 26, 27\\right\\}$$"
      ],
      "text/plain": [
       "set([0, 1, 2, 3, 4, 5, 6, 7, 8, 9, 10, 11, 12, 13, 14, 15, 16, 17, 18, 19, 20,\n",
       " 21, 22, 23, 24, 25, 26, 27])"
      ]
     },
     "execution_count": 15,
     "metadata": {},
     "output_type": "execute_result"
    }
   ],
   "source": [
    "test.an_ber   # Annahmebereich"
   ]
  },
  {
   "cell_type": "code",
   "execution_count": 16,
   "metadata": {
    "collapsed": false
   },
   "outputs": [
    {
     "data": {
      "text/latex": [
       "$$\\left [ 28, \\quad 29, \\quad 30, \\quad 31, \\quad 32, \\quad ..., \\quad 196, \\quad 197, \\quad 198, \\quad 199, \\quad 200\\right ]$$"
      ],
      "text/plain": [
       "[28, 29, 30, 31, 32, ..., 196, 197, 198, 199, 200]"
      ]
     },
     "execution_count": 16,
     "metadata": {},
     "output_type": "execute_result"
    }
   ],
   "source": [
    "ab = list(test.ab_ber)  # Mit etwas Tricksen kommt man zu einer\n",
    "                        # passablen Ausgabe des großen Ablehnungsbereiches \n",
    "ab[:5] + [Symbol('...')]  + ab[-5:] "
   ]
  },
  {
   "cell_type": "markdown",
   "metadata": {},
   "source": [
    "### e)"
   ]
  },
  {
   "cell_type": "markdown",
   "metadata": {
    "collapsed": false
   },
   "source": [
    "Bei dieser Wahl der Nullhypothese soll die Wahrscheinlichkeit, den Fehler irrtümlich <br>\n",
    "mehr als 64 Reservierungen zuzulassen gering, höchstens 5% , gehalten werden.\n",
    "\n",
    "Damit steht das Interesse, dass nicht mehr Personen mit Reservierung abgewiesen <br>\n",
    "werden müssen, im Vordergrund."
   ]
  },
  {
   "cell_type": "markdown",
   "metadata": {},
   "source": [
    "### f)"
   ]
  },
  {
   "cell_type": "markdown",
   "metadata": {},
   "source": [
    "Der zum Test gehörende Fehler 2. Art liegt vor, wenn die Nullhypothese, d.h. die <br>\n",
    "Wahrscheinlichkeit, dass eine Person die reserviert hat, aber nicht erscheint höchstens <br>\n",
    "10% ist, falsch ist und dennoch angenommen wird. D.h. es bleibt bei 64 möglichen <br>\n",
    "Reservierungen, obwohl der Anteil nicht erscheinender Personen zugenommen hat.\n",
    "\n",
    "Im Sachzusammenhang bedeutet dies, dass der Unternehmer mit mehr nicht besetzten <br>\n",
    "Plätzen zu rechnen hat und mit größerer Wahrscheinlichkeit einen finanziellen Verlust <br>hinnehmen muss."
   ]
  }
 ],
 "metadata": {
  "anaconda-cloud": {},
  "kernelspec": {
   "display_name": "Python [default]",
   "language": "python",
   "name": "python3"
  },
  "language_info": {
   "codemirror_mode": {
    "name": "ipython",
    "version": 3
   },
   "file_extension": ".py",
   "mimetype": "text/x-python",
   "name": "python",
   "nbconvert_exporter": "python",
   "pygments_lexer": "ipython3",
   "version": "3.5.2"
  }
 },
 "nbformat": 4,
 "nbformat_minor": 1
}
