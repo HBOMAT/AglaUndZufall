{
 "cells": [
  {
   "cell_type": "markdown",
   "metadata": {},
   "source": [
    "<br>\n",
    "# Einblick in die Arbeit mit <i>zufall</i>\n",
    "\n",
    "von Holger Böttcher - hbomat@posteo.de\n",
    "<br><br>\n",
    "Diese Arbeit steht unter der freien Lizenz [CC BY-SA 4.0](https://creativecommons.org/licenses/by-sa/4.0/deed.de)  \n",
    "<br><br>\n",
    "### Abitur Bayern 2019\n",
    " \n",
    "### Stochastik Teil B, Aufgabengruppe 2\n",
    "<br>\n",
    "Quelle: [serlo.org](https://de.serlo.org/mathe/deutschland/bayern/gymnasium/abiturpr%C3%BCfungen-l%C3%B6sung/mathematik-abitur-bayern-2019/stochastik,-teil-b,-aufgabengruppe-2) "
   ]
  },
  {
   "cell_type": "markdown",
   "metadata": {},
   "source": [
    "<br>\n",
    "<b>1.</b> Jeder sechste Besucher eines Volksfestes trägt ein Lebkuchenherz um den Hals. <br> \n",
    "Während der Dauer des Volksfests wird 25-mal ein Besucher zufällig ausgewählt. <br>\n",
    "Die Zufallsgröße $X$ beschreibt die Anzahl der ausgewählten Besucher, die ein <br>\n",
    "Lebkuchenherz tragen.\n",
    "\n",
    "$\\quad$<b>a)</b> Bestimmen Sie die Wahrscheinlichkeit dafür, dass unter den ausgewählten<br>\n",
    "$\\quad\\:\\:\\:\\:$Besuchern höchstens ein Besucher ein Lebkuchenherz trägt.\n",
    "\n",
    "$\\quad$<b>b)</b> Beschreiben Sie im Sachzusammenhang ein Ereignis, dessen <br>\n",
    "$\\quad\\:\\:\\:\\:$Wahrscheinlichkeit mit dem Term $\\sum_{i=5}^8 B(25;16;\\,i)$ \n",
    "berechnet werden kann.\n",
    "\n",
    "$\\quad$<b>c)</b> Bestimmen Sie die Wahrscheinlichkeit dafür, dass der Wert der Zufallsgröße<br>\n",
    "$\\quad\\:\\:\\:\\:$$X$ höchstens um eine Standardabweichung vom Erwartungswert der<br>\n",
    "$\\quad\\:\\:\\:\\:$Zufallsgröße abweicht.\n",
    "\n",
    "<b>2.</b> Bei einer Losbude wird damit geworben, dass jedes Los gewinnt. Die Lose und die <br>\n",
    "zugehörigen Sachpreise können drei Kategorien zugeordnet werden, die mit \"Donau\", <br>\n",
    "\"Main\" und \"Lech\" bezeichnet werden. Im Lostopf befinden sich viermal so viele Lose <br>\n",
    "der Kategorie \"Main\" wie Lose der Kategorie \"Donau\". Ein Los kostet 1 Euro. Die <br>\n",
    "Inhaberin der Losbude bezahlt im Einkauf für einen Sachpreis in der Kategorie <br>\n",
    "\"Donau\"  8 Euro, in der Kategorie \"Main\" 2 Euro und in der Kategorie \"Lech\" 20 Cent. <br>\n",
    "Ermitteln Sie, wie groß der Anteil der Lose Kategorie \"Donau\" sein muss, wenn die <br>\n",
    "Inhaberin im Mittel einen Gewinn von 35 Cent pro Los erzielen will.\n",
    "\n",
    "<b>3.</b> Die Inhaberin der Losbude beschäftigt einen Angestellten, der Besucher des <br>\n",
    "Volksfests anspricht, um diese zum Kauf von Losen zu animieren. Sie ist mit der <br>\n",
    "Erfolgsquote des Angestellten unzufrieden.\n",
    "\n",
    "$\\quad$<b>a)</b>  Die Inhaberin möchte dem Angestellten das Gehalt kürzen, wenn weniger als<br>\n",
    "$\\quad\\:\\:\\:\\:$15% der angesprochenen Besucher Lose kaufen. Die Entscheidung über die <br>\n",
    "$\\quad\\:\\:\\:\\:$Gehaltskürzung soll mithilfe eines Signifikanztests auf der Grundlage von 100 <br>\n",
    "$\\quad\\:\\:\\:\\:$angesprochenen Besuchern getroffen werden. Dabei soll möglichst vermieden <br>\n",
    "$\\quad\\:\\:\\:\\:$werden, dem Angestellten das Gehalt zu Unrecht zu kürzen. Geben Sie die <br>\n",
    "$\\quad\\:\\:\\:\\:$entsprechende Nullhypothese an und ermitteln Sie die zugehörige <br>\n",
    "$\\quad\\:\\:\\:\\:$Entscheidungsregel auf dem Signifikanzniveau von 10%.\n",
    "\n",
    "$\\quad$<b>b)</b> Der Angestellte konnte bei der Durchführung des Tests zehn von 100 <br>\n",
    "$\\quad\\:\\:\\:\\:$erwachsenen Besuchern dazu animieren, Lose zu kaufen. Er behauptet, dass er <br>\n",
    "$\\quad\\:\\:\\:\\:$zumindest bei Personen mit Kind eine Erfolgsquote größer als 10% habe. Unter <br>\n",
    "$\\quad\\:\\:\\:\\:$den 100 angesprochenen Besuchern befanden sich 40 Personen mit Kind. Von <br>\n",
    "$\\quad\\:\\:\\:\\:$den Personen ohne Kind zogen 54 kein Los. Überprüfen Sie, ob das Ergebnis <br>\n",
    "$\\quad\\:\\:\\:\\:$der Stichprobe die Behauptung des Angestellten stützt.\n",
    "<br><br>"
   ]
  },
  {
   "cell_type": "code",
   "execution_count": 1,
   "metadata": {
    "collapsed": false
   },
   "outputs": [],
   "source": [
    "%run zufall/start"
   ]
  },
  {
   "cell_type": "markdown",
   "metadata": {
    "collapsed": false
   },
   "source": [
    "<br>\n",
    "### Zu 1."
   ]
  },
  {
   "cell_type": "markdown",
   "metadata": {},
   "source": [
    "Es liegt eine Bernoullikette vor, $X$ ist binomialverteilt mit $n=25$ und der  <br>\n",
    "Trefferwahrscheinlichkeit $\\frac{1}{6}$"
   ]
  },
  {
   "cell_type": "code",
   "execution_count": 2,
   "metadata": {
    "collapsed": false
   },
   "outputs": [
    {
     "name": "stdout",
     "output_type": "stream",
     "text": [
      "Erzeugung eines BernoulliKette-BinomialVerteilung-Objektes\n"
     ]
    }
   ],
   "source": [
    "bk = BK(25, 1/6)   # BK - BernoulliKette"
   ]
  },
  {
   "cell_type": "markdown",
   "metadata": {
    "collapsed": false
   },
   "source": [
    "### a)"
   ]
  },
  {
   "cell_type": "code",
   "execution_count": 3,
   "metadata": {
    "collapsed": false
   },
   "outputs": [],
   "source": [
    "P = bk.P    # temporäre Umbenennng der P-Methode von bk"
   ]
  },
  {
   "cell_type": "code",
   "execution_count": 4,
   "metadata": {
    "collapsed": false
   },
   "outputs": [
    {
     "data": {
      "text/latex": [
       "$$\\frac{298023223876953125}{4738381338321616896}$$"
      ],
      "text/plain": [
       " 298023223876953125\n",
       "───────────────────\n",
       "4738381338321616896"
      ]
     },
     "execution_count": 4,
     "metadata": {},
     "output_type": "execute_result"
    }
   ],
   "source": [
    "P(X <= 1)"
   ]
  },
  {
   "cell_type": "code",
   "execution_count": 5,
   "metadata": {
    "collapsed": false
   },
   "outputs": [
    {
     "data": {
      "text/latex": [
       "$$6.29$$"
      ],
      "text/plain": [
       "6.29"
      ]
     },
     "execution_count": 5,
     "metadata": {},
     "output_type": "execute_result"
    }
   ],
   "source": [
    " P(X <= 1, p=ja)   # in Prozent"
   ]
  },
  {
   "cell_type": "markdown",
   "metadata": {
    "collapsed": false
   },
   "source": [
    "### b)"
   ]
  },
  {
   "cell_type": "markdown",
   "metadata": {},
   "source": [
    "Mit der Formel wird die Wahrscheinlichkeit dafür  berechnet, dass $X$ Werte aus dem <br>\n",
    "Intervall $[5,\\;8]$ annimmt <br>\n",
    "\n",
    "(\"mindestens 5 und höchstens 8 tragen ein Lebkuchenherz\")"
   ]
  },
  {
   "cell_type": "code",
   "execution_count": 6,
   "metadata": {
    "collapsed": false
   },
   "outputs": [
    {
     "name": "stdout",
     "output_type": "stream",
     "text": [
      " \n"
     ]
    },
    {
     "data": {
      "image/png": "[encoded data removed]",
      "text/plain": [
       "<matplotlib.figure.Figure at 0x7dd2810>"
      ]
     },
     "metadata": {},
     "output_type": "display_data"
    }
   ],
   "source": [
    "P('5 <= X <= 8', g=ja)"
   ]
  },
  {
   "cell_type": "code",
   "execution_count": 7,
   "metadata": {
    "collapsed": false
   },
   "outputs": [
    {
     "data": {
      "text/latex": [
       "$$\\left ( \\frac{3701229095458984375}{9476762676643233792}, \\quad 0.390558381775368\\right )$$"
      ],
      "text/plain": [
       "⎛3701229095458984375                   ⎞\n",
       "⎜───────────────────, 0.390558381775368⎟\n",
       "⎝9476762676643233792                   ⎠"
      ]
     },
     "execution_count": 7,
     "metadata": {},
     "output_type": "execute_result"
    }
   ],
   "source": [
    "P('5 <= X <= 8'), P('5 <= X <= 8').n()"
   ]
  },
  {
   "cell_type": "markdown",
   "metadata": {
    "collapsed": false
   },
   "source": [
    "### c)"
   ]
  },
  {
   "cell_type": "code",
   "execution_count": 8,
   "metadata": {
    "collapsed": false
   },
   "outputs": [
    {
     "data": {
      "text/latex": [
       "$$\\left ( \\frac{25}{6}, \\quad 4.17\\right )$$"
      ],
      "text/plain": [
       "(25/6, 4.17)"
      ]
     },
     "execution_count": 8,
     "metadata": {},
     "output_type": "execute_result"
    }
   ],
   "source": [
    "e = bk.erw; si = bk.sigma\n",
    "e, e.n(3)"
   ]
  },
  {
   "cell_type": "code",
   "execution_count": 9,
   "metadata": {
    "collapsed": false
   },
   "outputs": [
    {
     "data": {
      "text/latex": [
       "$$\\left ( \\frac{5 \\sqrt{5}}{6}, \\quad 1.86\\right )$$"
      ],
      "text/plain": [
       "⎛5⋅√5      ⎞\n",
       "⎜────, 1.86⎟\n",
       "⎝ 6        ⎠"
      ]
     },
     "execution_count": 9,
     "metadata": {},
     "output_type": "execute_result"
    }
   ],
   "source": [
    "si, si.n(3)"
   ]
  },
  {
   "cell_type": "code",
   "execution_count": 10,
   "metadata": {
    "collapsed": false
   },
   "outputs": [
    {
     "data": {
      "text/latex": [
       "$$70.21$$"
      ],
      "text/plain": [
       "70.21"
      ]
     },
     "execution_count": 10,
     "metadata": {},
     "output_type": "execute_result"
    }
   ],
   "source": [
    "P('-1.86 + 25/6 < X < 1.86 + 25/6', p=ja)"
   ]
  },
  {
   "cell_type": "markdown",
   "metadata": {
    "collapsed": false
   },
   "source": [
    "<br>\n",
    "### Zu 2."
   ]
  },
  {
   "cell_type": "markdown",
   "metadata": {},
   "source": [
    "Für die Zufallsgröße Gewinn  = \"Reingewinn für ein Los\" (in Euro) ergibt sich mit <br>\n",
    "$p$ = Wahrscheinlichkeit dafür, dass ein Los \"Donau\" gezogen wird, die <br>\n",
    "Wahrscheinlichkeitsverteilung\n",
    "\n",
    "$\\{ \\text{Donau}: p, \\text{Main}: 4p, \\text{Lech}: 1\\,-\\,5p \\}$\n",
    "\n",
    "Reingewinn ist der Lospreis minus dem Preis für den Sachpreis (für jedes Los); <br>das ergibt die Tabelle\n",
    "\n",
    "$\\{ \\text{Donau}: -7, \\text{Main}: -1, \\text{Lech}: 0.8 \\}$\n",
    "\n",
    "Nach der Formel für den Erwartungswert muss die Summe der Produkte der <br>\n",
    "entsprechenden Elemente der beiden Tabellen gebildet und dem vorgegebenen <br>\n",
    "Wert von $0.35$ gleichgesetzt werden\n",
    "\n",
    "Zur Lösung ist die entstehende Gleichung so umzuformen, dass ihre rechte Seite <br>\n",
    "gleich Null ist; die linke Seite wird dann benutzt"
   ]
  },
  {
   "cell_type": "code",
   "execution_count": 11,
   "metadata": {
    "collapsed": false
   },
   "outputs": [
    {
     "data": {
      "text/latex": [
       "$$- 15.0 p + 0.45$$"
      ],
      "text/plain": [
       "-15.0⋅p + 0.45"
      ]
     },
     "execution_count": 11,
     "metadata": {},
     "output_type": "execute_result"
    }
   ],
   "source": [
    "gl = -7*p -4*p +0.8*(1-5*p) - 0.35\n",
    "gl"
   ]
  },
  {
   "cell_type": "code",
   "execution_count": 12,
   "metadata": {
    "collapsed": false
   },
   "outputs": [
    {
     "data": {
      "text/latex": [
       "$$\\left \\{ p : \\frac{3}{100}\\right \\}$$"
      ],
      "text/plain": [
       "{p: 3/100}"
      ]
     },
     "execution_count": 12,
     "metadata": {},
     "output_type": "execute_result"
    }
   ],
   "source": [
    "löse(gl)"
   ]
  },
  {
   "cell_type": "markdown",
   "metadata": {},
   "source": [
    "Als Lösung ergibt sich $p = 3\\%$"
   ]
  },
  {
   "cell_type": "markdown",
   "metadata": {
    "collapsed": false
   },
   "source": [
    "<br>\n",
    "### Zu 3."
   ]
  },
  {
   "cell_type": "markdown",
   "metadata": {
    "collapsed": false
   },
   "source": [
    "### a)"
   ]
  },
  {
   "cell_type": "markdown",
   "metadata": {},
   "source": [
    "Die Nullhypothese ergibt sich zu $H_0: p \\ge 0.15$, der Test ist"
   ]
  },
  {
   "cell_type": "code",
   "execution_count": 13,
   "metadata": {
    "collapsed": false
   },
   "outputs": [],
   "source": [
    "test = STP(0.15, 0.1, 'links', 100, 'B')"
   ]
  },
  {
   "cell_type": "code",
   "execution_count": 14,
   "metadata": {
    "collapsed": false
   },
   "outputs": [
    {
     "name": "stdout",
     "output_type": "stream",
     "text": [
      "\n"
     ]
    },
    {
     "data": {
      "text/latex": [
       "$$\\mathrm{Ermittlung\\; der\\; Entscheidungsregel\\; für\\; den\\; Signifikanztest}$$"
      ],
      "text/plain": [
       "<IPython.core.display.Math object>"
      ]
     },
     "metadata": {},
     "output_type": "display_data"
    },
    {
     "data": {
      "text/latex": [
       "$$\\mathrm{Gegeben}$$"
      ],
      "text/plain": [
       "<IPython.core.display.Math object>"
      ]
     },
     "metadata": {},
     "output_type": "display_data"
    },
    {
     "data": {
      "text/latex": [
       "$$\\qquad \\mathrm{H_0}:\\;p \\ge0.15$$"
      ],
      "text/plain": [
       "<IPython.core.display.Math object>"
      ]
     },
     "metadata": {},
     "output_type": "display_data"
    },
    {
     "data": {
      "text/latex": [
       "$$\\qquad\\alpha=0.1,\\;n=100,\\;\\mathrm{linksseitiger\\;Test}$$"
      ],
      "text/plain": [
       "<IPython.core.display.Math object>"
      ]
     },
     "metadata": {},
     "output_type": "display_data"
    },
    {
     "data": {
      "text/latex": [
       "$$\\qquad\\text{Prüfgröße}  \\;\\; X=\\text{\"Anzahl Treffer\"}$$"
      ],
      "text/plain": [
       "<IPython.core.display.Math object>"
      ]
     },
     "metadata": {},
     "output_type": "display_data"
    },
    {
     "data": {
      "text/latex": [
       "$$\\qquad\\text{Verteilung von }X\\;\\;BinomialVerteilung(100,3/20)$$"
      ],
      "text/plain": [
       "<IPython.core.display.Math object>"
      ]
     },
     "metadata": {},
     "output_type": "display_data"
    },
    {
     "data": {
      "text/latex": [
       "$$\\mathrm{Kritische\\;Zahl\\;\\;}10$$"
      ],
      "text/plain": [
       "<IPython.core.display.Math object>"
      ]
     },
     "metadata": {},
     "output_type": "display_data"
    },
    {
     "data": {
      "text/latex": [
       "$$\\mathrm{Ablehnungsbereich\\;für\\;}H_0\\;\\; X  \\le10$$"
      ],
      "text/plain": [
       "<IPython.core.display.Math object>"
      ]
     },
     "metadata": {},
     "output_type": "display_data"
    },
    {
     "data": {
      "text/latex": [
       "$$\\mathrm{Entscheidungsregel}$$"
      ],
      "text/plain": [
       "<IPython.core.display.Math object>"
      ]
     },
     "metadata": {},
     "output_type": "display_data"
    },
    {
     "data": {
      "text/latex": [
       "$$\\mathrm{Liegt\\;der\\;Wert\\;der\\;Prüfgröße\\;im\\;Ablehnungsbereich,\\;wird\\;} H_0\\text{ mit einer Irrtums-}$$"
      ],
      "text/plain": [
       "<IPython.core.display.Math object>"
      ]
     },
     "metadata": {},
     "output_type": "display_data"
    },
    {
     "data": {
      "text/latex": [
       "$$\\mathrm{wahrscheinlichkeit\\;von\\;höchstens\\;}0.1\\mathrm{\\;abgelehnt,\\;sonst\\;wird\\;}H_0\\text{ beibehalten}$$"
      ],
      "text/plain": [
       "<IPython.core.display.Math object>"
      ]
     },
     "metadata": {},
     "output_type": "display_data"
    },
    {
     "name": "stdout",
     "output_type": "stream",
     "text": [
      " \n"
     ]
    }
   ],
   "source": [
    "test.regel"
   ]
  },
  {
   "cell_type": "markdown",
   "metadata": {},
   "source": [
    "Die Entscheidungsregel für die Inhaberin ist\n",
    "\n",
    "Wenn weniger als 10 angesprochene Besucher ein Los kaufen, wird sie das Gehalt <br>kürzen, sonst wird sie das Gehalt nicht kürzen"
   ]
  },
  {
   "cell_type": "markdown",
   "metadata": {},
   "source": [
    "### b)"
   ]
  },
  {
   "cell_type": "markdown",
   "metadata": {},
   "source": [
    "Die Erfolgsquote des Angestellten bei den 100 angesprochenen erwachsenen <br>\n",
    "Besuchern ist 10% (er hat an 100 Besucher 10 Lose verkauft).\n",
    "\n",
    "40 Personen von allen 100 davon haben ein Kind. Damit haben 60 kein Kind.<br>\n",
    "Von diesen zogen 54 kein Los. Also 6 ein Los.\n",
    "\n",
    "Die verbleibenden 4 Lose wurden also von den 40 Persoen mit Kind gekauft.<br>\n",
    "Damit ist der Anteil der von Besuchern mit Kind gekauften Lose ebenfalls (nur) 10%.\n",
    "\n",
    "Ergebnis: \n",
    "\n",
    "Das Ergebnis der Stichprobe stützt die Behauptung des Angestellten nicht.\n",
    "<br><br>"
   ]
  }
 ],
 "metadata": {
  "anaconda-cloud": {},
  "kernelspec": {
   "display_name": "Python [default]",
   "language": "python",
   "name": "python3"
  },
  "language_info": {
   "codemirror_mode": {
    "name": "ipython",
    "version": 3
   },
   "file_extension": ".py",
   "mimetype": "text/x-python",
   "name": "python",
   "nbconvert_exporter": "python",
   "pygments_lexer": "ipython3",
   "version": "3.5.2"
  }
 },
 "nbformat": 4,
 "nbformat_minor": 1
}
